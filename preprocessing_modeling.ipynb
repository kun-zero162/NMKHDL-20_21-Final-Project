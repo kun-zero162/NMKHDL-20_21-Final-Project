{
 "cells": [
  {
   "cell_type": "markdown",
   "id": "30d67261",
   "metadata": {},
   "source": [
    "# Đồ án cuối kỳ\n",
    "\n",
    "(Cập nhật lần cuối: 12/09/2021)\n",
    "\n",
    "Họ tên: Lê Hồng Quang\n",
    "\n",
    "MSSV: 18127190\n",
    "\n",
    "Họ tên: Lê Thanh Sơn\n",
    "\n",
    "MSSV: 18127199"
   ]
  },
  {
   "cell_type": "markdown",
   "id": "67a4578e",
   "metadata": {},
   "source": [
    "# 2. Khám phá dữ liệu"
   ]
  },
  {
   "cell_type": "code",
   "execution_count": 1,
   "id": "8ae12063",
   "metadata": {},
   "outputs": [],
   "source": [
    "import matplotlib.pyplot as plt\n",
    "import numpy as np\n",
    "import pandas as pd\n",
    "import seaborn as sns\n",
    "from sklearn.model_selection import train_test_split\n",
    "from sklearn.preprocessing import OneHotEncoder, StandardScaler\n",
    "from sklearn.impute import SimpleImputer\n",
    "from sklearn.base import BaseEstimator, TransformerMixin\n",
    "from sklearn.pipeline import Pipeline, make_pipeline\n",
    "from sklearn.compose import ColumnTransformer, make_column_transformer\n",
    "from sklearn.neural_network import MLPClassifier\n",
    "from sklearn import set_config\n",
    "from sklearn.linear_model import LogisticRegression\n",
    "from sklearn.neighbors import KNeighborsClassifier\n",
    "set_config(display='diagram')"
   ]
  },
  {
   "cell_type": "markdown",
   "id": "ca1ab9c8",
   "metadata": {},
   "source": [
    "### Đọc dữ liệu từ file"
   ]
  },
  {
   "cell_type": "code",
   "execution_count": 2,
   "id": "bb91f12e",
   "metadata": {},
   "outputs": [
    {
     "data": {
      "text/html": [
       "<div>\n",
       "<style scoped>\n",
       "    .dataframe tbody tr th:only-of-type {\n",
       "        vertical-align: middle;\n",
       "    }\n",
       "\n",
       "    .dataframe tbody tr th {\n",
       "        vertical-align: top;\n",
       "    }\n",
       "\n",
       "    .dataframe thead th {\n",
       "        text-align: right;\n",
       "    }\n",
       "</style>\n",
       "<table border=\"1\" class=\"dataframe\">\n",
       "  <thead>\n",
       "    <tr style=\"text-align: right;\">\n",
       "      <th></th>\n",
       "      <th>Ranking</th>\n",
       "      <th>Country (or dependency)</th>\n",
       "      <th>Population (2020)</th>\n",
       "      <th>Yearly Change</th>\n",
       "      <th>Net Change</th>\n",
       "      <th>Density (P/Km²)</th>\n",
       "      <th>Land Area (Km²)</th>\n",
       "      <th>Migrants (net)</th>\n",
       "      <th>Fert. Rate</th>\n",
       "      <th>Med. Age</th>\n",
       "      <th>Urban Pop %</th>\n",
       "      <th>World Share</th>\n",
       "    </tr>\n",
       "  </thead>\n",
       "  <tbody>\n",
       "    <tr>\n",
       "      <th>0</th>\n",
       "      <td>1</td>\n",
       "      <td>China</td>\n",
       "      <td>1,439,323,776</td>\n",
       "      <td>0.39 %</td>\n",
       "      <td>5,540,090</td>\n",
       "      <td>153</td>\n",
       "      <td>9,388,211</td>\n",
       "      <td>-348,399</td>\n",
       "      <td>1.7</td>\n",
       "      <td>38</td>\n",
       "      <td>61 %</td>\n",
       "      <td>18.47 %</td>\n",
       "    </tr>\n",
       "    <tr>\n",
       "      <th>1</th>\n",
       "      <td>2</td>\n",
       "      <td>India</td>\n",
       "      <td>1,380,004,385</td>\n",
       "      <td>0.99 %</td>\n",
       "      <td>13,586,631</td>\n",
       "      <td>464</td>\n",
       "      <td>2,973,190</td>\n",
       "      <td>-532,687</td>\n",
       "      <td>2.2</td>\n",
       "      <td>28</td>\n",
       "      <td>35 %</td>\n",
       "      <td>17.70 %</td>\n",
       "    </tr>\n",
       "    <tr>\n",
       "      <th>2</th>\n",
       "      <td>3</td>\n",
       "      <td>United States</td>\n",
       "      <td>331,002,651</td>\n",
       "      <td>0.59 %</td>\n",
       "      <td>1,937,734</td>\n",
       "      <td>36</td>\n",
       "      <td>9,147,420</td>\n",
       "      <td>954,806</td>\n",
       "      <td>1.8</td>\n",
       "      <td>38</td>\n",
       "      <td>83 %</td>\n",
       "      <td>4.25 %</td>\n",
       "    </tr>\n",
       "    <tr>\n",
       "      <th>3</th>\n",
       "      <td>4</td>\n",
       "      <td>Indonesia</td>\n",
       "      <td>273,523,615</td>\n",
       "      <td>1.07 %</td>\n",
       "      <td>2,898,047</td>\n",
       "      <td>151</td>\n",
       "      <td>1,811,570</td>\n",
       "      <td>-98,955</td>\n",
       "      <td>2.3</td>\n",
       "      <td>30</td>\n",
       "      <td>56 %</td>\n",
       "      <td>3.51 %</td>\n",
       "    </tr>\n",
       "    <tr>\n",
       "      <th>4</th>\n",
       "      <td>5</td>\n",
       "      <td>Pakistan</td>\n",
       "      <td>220,892,340</td>\n",
       "      <td>2.00 %</td>\n",
       "      <td>4,327,022</td>\n",
       "      <td>287</td>\n",
       "      <td>770,880</td>\n",
       "      <td>-233,379</td>\n",
       "      <td>3.6</td>\n",
       "      <td>23</td>\n",
       "      <td>35 %</td>\n",
       "      <td>2.83 %</td>\n",
       "    </tr>\n",
       "  </tbody>\n",
       "</table>\n",
       "</div>"
      ],
      "text/plain": [
       "   Ranking Country (or dependency) Population (2020) Yearly Change  \\\n",
       "0        1                   China     1,439,323,776        0.39 %   \n",
       "1        2                   India     1,380,004,385        0.99 %   \n",
       "2        3           United States       331,002,651        0.59 %   \n",
       "3        4               Indonesia       273,523,615        1.07 %   \n",
       "4        5                Pakistan       220,892,340        2.00 %   \n",
       "\n",
       "   Net Change Density (P/Km²) Land Area (Km²) Migrants (net) Fert. Rate  \\\n",
       "0   5,540,090             153       9,388,211       -348,399        1.7   \n",
       "1  13,586,631             464       2,973,190       -532,687        2.2   \n",
       "2   1,937,734              36       9,147,420        954,806        1.8   \n",
       "3   2,898,047             151       1,811,570        -98,955        2.3   \n",
       "4   4,327,022             287         770,880       -233,379        3.6   \n",
       "\n",
       "  Med. Age Urban Pop % World Share  \n",
       "0       38        61 %     18.47 %  \n",
       "1       28        35 %     17.70 %  \n",
       "2       38        83 %      4.25 %  \n",
       "3       30        56 %      3.51 %  \n",
       "4       23        35 %      2.83 %  "
      ]
     },
     "execution_count": 2,
     "metadata": {},
     "output_type": "execute_result"
    }
   ],
   "source": [
    "df = pd.read_csv('data.csv', sep =  ',', index_col = 0)\n",
    "\n",
    "df.head()"
   ]
  },
  {
   "cell_type": "markdown",
   "id": "66ff939c",
   "metadata": {},
   "source": [
    "#### Dữ liệu có bao nhiêu dòng và bao nhiêu cột?"
   ]
  },
  {
   "cell_type": "code",
   "execution_count": 3,
   "id": "a9d4c102",
   "metadata": {},
   "outputs": [
    {
     "data": {
      "text/plain": [
       "(235, 12)"
      ]
     },
     "execution_count": 3,
     "metadata": {},
     "output_type": "execute_result"
    }
   ],
   "source": [
    "df.shape"
   ]
  },
  {
   "cell_type": "markdown",
   "id": "f41d562a",
   "metadata": {},
   "source": [
    "#### Mỗi dòng có ý nghĩa gì? Có vấn đề các dòng có ý nghĩa khác nhau không?"
   ]
  },
  {
   "cell_type": "markdown",
   "id": "27606353",
   "metadata": {},
   "source": [
    "Mỗi dòng trong DataFrame `df` cho biết dữ liệu liên quan đến dân số của các quốc gia và vùng lãnh thổ trên thế giới (cập nhật đến 2020). Có vẻ không có vấn đề các dòng có ý nghĩa khác nhau."
   ]
  },
  {
   "cell_type": "markdown",
   "id": "3bdd3cfa",
   "metadata": {},
   "source": [
    "#### Dữ liệu có các dòng bị lặp không?"
   ]
  },
  {
   "cell_type": "code",
   "execution_count": 4,
   "id": "3db90ad7",
   "metadata": {},
   "outputs": [
    {
     "data": {
      "text/plain": [
       "0"
      ]
     },
     "execution_count": 4,
     "metadata": {},
     "output_type": "execute_result"
    }
   ],
   "source": [
    "df.index.duplicated().sum()"
   ]
  },
  {
   "cell_type": "markdown",
   "id": "dfe03d2b",
   "metadata": {},
   "source": [
    "#### Mỗi cột có ý nghĩa gì?"
   ]
  },
  {
   "cell_type": "markdown",
   "id": "d26a5adf",
   "metadata": {},
   "source": [
    "<b>VARIABLE DESCRIPTIONS:</b><br/>\n",
    "\n",
    "- <b>Ranking</b>: Xếp hạng quốc gia theo dân số<br/>\n",
    "\n",
    "\n",
    "- <b>Country (or dependency)</b>: Tên quốc gia (hoặc vùng lãnh thổ)<br/>\n",
    "\n",
    "\n",
    "- <b>Population (2020)</b>: Dân số (2020)<br/>\n",
    "\n",
    "\n",
    "- <b>Yearly Change</b>: Tỉ lệ thay đổi hằng năm<br/>\n",
    "\n",
    "\n",
    "- <b>Net Change</b>: Dân số tăng lên hằng năm<br/>\n",
    "\n",
    "\n",
    "- <b>Density (P/Km²)</b>: Mật độ dân số (Người/Km²)<br/>\n",
    "\n",
    "\n",
    "- <b>Land Area (Km²)</b>: Diện tích (Km²)<br/>\n",
    "\n",
    "\n",
    "- <b>Migrants (net)</b>:  Số dân di cư đến (người)<br/>\n",
    "\n",
    "\n",
    "- <b>Fert. Rate</b>:  Tỉ lệ sinh sản (%)<br/>\n",
    "\n",
    "\n",
    "- <b>Med. Age</b>:  Độ tuổi trung vị (độ tuổi chia dân số thành hai nhóm với số lượng bằng nhau)<br/>\n",
    "\n",
    "\n",
    "- <b>Urban Pop %</b>:  Tỉ lệ dân thành thị (%)<br/>\n",
    "\n",
    "\n",
    "- <b>World Share</b>: Tỉ lệ dân số so với toàn thế giới (%)<br/>"
   ]
  },
  {
   "cell_type": "markdown",
   "id": "a174894f",
   "metadata": {},
   "source": [
    "# 3. Đặt câu hỏi"
   ]
  },
  {
   "cell_type": "markdown",
   "id": "34073599",
   "metadata": {},
   "source": [
    "Đặt câu hỏi tại đây"
   ]
  },
  {
   "cell_type": "markdown",
   "id": "bbefd5f0",
   "metadata": {},
   "source": [
    "# 4. Tiền xử lý"
   ]
  },
  {
   "cell_type": "markdown",
   "id": "95804a9d",
   "metadata": {},
   "source": [
    "### 4.1. Tiền xử lý kiểu dữ liệu"
   ]
  },
  {
   "cell_type": "code",
   "execution_count": 5,
   "id": "a5cf6553",
   "metadata": {},
   "outputs": [
    {
     "name": "stdout",
     "output_type": "stream",
     "text": [
      "<class 'pandas.core.frame.DataFrame'>\n",
      "Int64Index: 235 entries, 0 to 234\n",
      "Data columns (total 12 columns):\n",
      " #   Column                   Non-Null Count  Dtype \n",
      "---  ------                   --------------  ----- \n",
      " 0   Ranking                  235 non-null    int64 \n",
      " 1   Country (or dependency)  235 non-null    object\n",
      " 2   Population (2020)        235 non-null    object\n",
      " 3   Yearly Change            235 non-null    object\n",
      " 4   Net Change               235 non-null    object\n",
      " 5   Density (P/Km²)          235 non-null    object\n",
      " 6   Land Area (Km²)          235 non-null    object\n",
      " 7   Migrants (net)           235 non-null    object\n",
      " 8   Fert. Rate               235 non-null    object\n",
      " 9   Med. Age                 235 non-null    object\n",
      " 10  Urban Pop %              235 non-null    object\n",
      " 11  World Share              235 non-null    object\n",
      "dtypes: int64(1), object(11)\n",
      "memory usage: 32.0+ KB\n"
     ]
    }
   ],
   "source": [
    "# Dataframe hiện đang có dữ liệu gì\n",
    "df.info()"
   ]
  },
  {
   "cell_type": "markdown",
   "id": "87edaad6",
   "metadata": {},
   "source": [
    "Khi đọc dữ liệu từ html và truyền vào df thì các dữ liệu đều được trả về kiểu `object` nên chúng ta phải thực hiện xử lý và trả về kiểu dữ liệu phù hợp (với ý nghĩa của cột)."
   ]
  },
  {
   "cell_type": "markdown",
   "id": "4791c9b6",
   "metadata": {},
   "source": [
    "#### 4.1.a. Kiểu dữ liệu số nguyên (int64)\n",
    "\n",
    "Các cột có thể trả về kiểu dữ liệu số nguyên là **Population (2020)**, **Net Change**, **Migrants (net)**, **Med. Age** "
   ]
  },
  {
   "cell_type": "code",
   "execution_count": 6,
   "id": "8e25d974",
   "metadata": {},
   "outputs": [],
   "source": [
    "def removeComma(string):\n",
    "    if string == string and string != ' ' and string != 'N.A.':\n",
    "        return string.replace(\",\", \"\")\n",
    "    return np.nan\n",
    "df['Population (2020)'] = df['Population (2020)'].apply(removeComma)\n",
    "df['Net Change'] = df['Net Change'].apply(removeComma)\n",
    "df['Migrants (net)'] = df['Migrants (net)'].apply(removeComma)\n",
    "df['Med. Age'] = df['Med. Age'].apply(removeComma)\n",
    "\n",
    "df['Population (2020)'] = df['Population (2020)'].astype('Int64')\n",
    "df['Net Change'] = df['Net Change'].astype('Int64')\n",
    "df['Migrants (net)'] = df['Net Change'].astype('Int64')\n",
    "df['Med. Age'] = df['Med. Age'].astype('Int64')"
   ]
  },
  {
   "cell_type": "markdown",
   "id": "54eb7a21",
   "metadata": {},
   "source": [
    "#### 4.1.b. Kiểu dữ liệu số thực (float64)\n",
    "\n",
    "Các cột còn lại (ngoài cột tên Quốc gia - **Country (or dependency)**) đều có thể trả về dạng số thực. Tuy nhiên, có 3 cột **Yearly Change**, **Urban Pop %**, **World Share** đang ở dạng % vì vậy cần phải loại bỏ kí tự % trước khi ép kiểu dữ liệu."
   ]
  },
  {
   "cell_type": "code",
   "execution_count": 7,
   "id": "48c9589b",
   "metadata": {},
   "outputs": [],
   "source": [
    "df['Density (P/Km²)'] = df['Density (P/Km²)'].apply(removeComma)\n",
    "df['Land Area (Km²)'] = df['Land Area (Km²)'].apply(removeComma)\n",
    "df['Fert. Rate'] = df['Fert. Rate'].apply(removeComma)\n",
    "\n",
    "df['Density (P/Km²)'] = df['Density (P/Km²)'].astype('float64')\n",
    "df['Land Area (Km²)'] = df['Land Area (Km²)'].astype('float64')\n",
    "df['Fert. Rate'] = df['Fert. Rate'].astype('float64')"
   ]
  },
  {
   "cell_type": "code",
   "execution_count": 8,
   "id": "98bedb3d",
   "metadata": {},
   "outputs": [],
   "source": [
    "def removePercent(string):\n",
    "    string = removeComma(string)\n",
    "    if string == string:\n",
    "        return string.replace(\" %\", \"\")\n",
    "    return np.nan\n",
    "\n",
    "df['Yearly Change'] = df['Yearly Change'].apply(removePercent)\n",
    "df['Urban Pop %'] = df['Urban Pop %'].apply(removePercent)\n",
    "df['World Share'] = df['World Share'].apply(removePercent)\n",
    "\n",
    "df['Yearly Change'] = df['Yearly Change'].astype('float64')\n",
    "df['Urban Pop %'] = df['Urban Pop %'].apply('float64')\n",
    "df['World Share'] = df['World Share'].apply('float64')\n",
    "\n",
    "df = df.rename(columns={'Yearly Change': 'Yearly Change (%)', 'Urban Pop %': 'Urban Pop (%)', 'World Share': 'World Share (%)'})"
   ]
  },
  {
   "cell_type": "code",
   "execution_count": 9,
   "id": "26831b9c",
   "metadata": {},
   "outputs": [
    {
     "data": {
      "text/html": [
       "<div>\n",
       "<style scoped>\n",
       "    .dataframe tbody tr th:only-of-type {\n",
       "        vertical-align: middle;\n",
       "    }\n",
       "\n",
       "    .dataframe tbody tr th {\n",
       "        vertical-align: top;\n",
       "    }\n",
       "\n",
       "    .dataframe thead th {\n",
       "        text-align: right;\n",
       "    }\n",
       "</style>\n",
       "<table border=\"1\" class=\"dataframe\">\n",
       "  <thead>\n",
       "    <tr style=\"text-align: right;\">\n",
       "      <th></th>\n",
       "      <th>Ranking</th>\n",
       "      <th>Country (or dependency)</th>\n",
       "      <th>Population (2020)</th>\n",
       "      <th>Yearly Change (%)</th>\n",
       "      <th>Net Change</th>\n",
       "      <th>Density (P/Km²)</th>\n",
       "      <th>Land Area (Km²)</th>\n",
       "      <th>Migrants (net)</th>\n",
       "      <th>Fert. Rate</th>\n",
       "      <th>Med. Age</th>\n",
       "      <th>Urban Pop (%)</th>\n",
       "      <th>World Share (%)</th>\n",
       "    </tr>\n",
       "  </thead>\n",
       "  <tbody>\n",
       "    <tr>\n",
       "      <th>0</th>\n",
       "      <td>1</td>\n",
       "      <td>China</td>\n",
       "      <td>1439323776</td>\n",
       "      <td>0.39</td>\n",
       "      <td>5540090</td>\n",
       "      <td>153.0</td>\n",
       "      <td>9388211.0</td>\n",
       "      <td>5540090</td>\n",
       "      <td>1.7</td>\n",
       "      <td>38</td>\n",
       "      <td>61.0</td>\n",
       "      <td>18.47</td>\n",
       "    </tr>\n",
       "    <tr>\n",
       "      <th>1</th>\n",
       "      <td>2</td>\n",
       "      <td>India</td>\n",
       "      <td>1380004385</td>\n",
       "      <td>0.99</td>\n",
       "      <td>13586631</td>\n",
       "      <td>464.0</td>\n",
       "      <td>2973190.0</td>\n",
       "      <td>13586631</td>\n",
       "      <td>2.2</td>\n",
       "      <td>28</td>\n",
       "      <td>35.0</td>\n",
       "      <td>17.70</td>\n",
       "    </tr>\n",
       "    <tr>\n",
       "      <th>2</th>\n",
       "      <td>3</td>\n",
       "      <td>United States</td>\n",
       "      <td>331002651</td>\n",
       "      <td>0.59</td>\n",
       "      <td>1937734</td>\n",
       "      <td>36.0</td>\n",
       "      <td>9147420.0</td>\n",
       "      <td>1937734</td>\n",
       "      <td>1.8</td>\n",
       "      <td>38</td>\n",
       "      <td>83.0</td>\n",
       "      <td>4.25</td>\n",
       "    </tr>\n",
       "    <tr>\n",
       "      <th>3</th>\n",
       "      <td>4</td>\n",
       "      <td>Indonesia</td>\n",
       "      <td>273523615</td>\n",
       "      <td>1.07</td>\n",
       "      <td>2898047</td>\n",
       "      <td>151.0</td>\n",
       "      <td>1811570.0</td>\n",
       "      <td>2898047</td>\n",
       "      <td>2.3</td>\n",
       "      <td>30</td>\n",
       "      <td>56.0</td>\n",
       "      <td>3.51</td>\n",
       "    </tr>\n",
       "    <tr>\n",
       "      <th>4</th>\n",
       "      <td>5</td>\n",
       "      <td>Pakistan</td>\n",
       "      <td>220892340</td>\n",
       "      <td>2.00</td>\n",
       "      <td>4327022</td>\n",
       "      <td>287.0</td>\n",
       "      <td>770880.0</td>\n",
       "      <td>4327022</td>\n",
       "      <td>3.6</td>\n",
       "      <td>23</td>\n",
       "      <td>35.0</td>\n",
       "      <td>2.83</td>\n",
       "    </tr>\n",
       "  </tbody>\n",
       "</table>\n",
       "</div>"
      ],
      "text/plain": [
       "   Ranking Country (or dependency)  Population (2020)  Yearly Change (%)  \\\n",
       "0        1                   China         1439323776               0.39   \n",
       "1        2                   India         1380004385               0.99   \n",
       "2        3           United States          331002651               0.59   \n",
       "3        4               Indonesia          273523615               1.07   \n",
       "4        5                Pakistan          220892340               2.00   \n",
       "\n",
       "   Net Change  Density (P/Km²)  Land Area (Km²)  Migrants (net)  Fert. Rate  \\\n",
       "0     5540090            153.0        9388211.0         5540090         1.7   \n",
       "1    13586631            464.0        2973190.0        13586631         2.2   \n",
       "2     1937734             36.0        9147420.0         1937734         1.8   \n",
       "3     2898047            151.0        1811570.0         2898047         2.3   \n",
       "4     4327022            287.0         770880.0         4327022         3.6   \n",
       "\n",
       "   Med. Age  Urban Pop (%)  World Share (%)  \n",
       "0        38           61.0            18.47  \n",
       "1        28           35.0            17.70  \n",
       "2        38           83.0             4.25  \n",
       "3        30           56.0             3.51  \n",
       "4        23           35.0             2.83  "
      ]
     },
     "execution_count": 9,
     "metadata": {},
     "output_type": "execute_result"
    }
   ],
   "source": [
    "df.head()"
   ]
  },
  {
   "cell_type": "markdown",
   "id": "5fd10665",
   "metadata": {},
   "source": [
    "### 4.2. Tách các tập"
   ]
  },
  {
   "cell_type": "markdown",
   "id": "02b018a2",
   "metadata": {},
   "source": [
    "### 4.3. Khám phá tập huấn luyện (train test)"
   ]
  },
  {
   "cell_type": "markdown",
   "id": "1ca5acc0",
   "metadata": {},
   "source": [
    "### 4.4. Thay thế giá trị thiếu"
   ]
  },
  {
   "cell_type": "markdown",
   "id": "c3243b62",
   "metadata": {},
   "source": [
    "# 5. Mô hình hóa"
   ]
  },
  {
   "cell_type": "markdown",
   "id": "e7247188",
   "metadata": {},
   "source": [
    "# 6. Nhìn lại quá trình làm đồ án"
   ]
  },
  {
   "cell_type": "markdown",
   "id": "d58158d2",
   "metadata": {},
   "source": [
    "### 6.1 Những khó khăn đã gặp phải"
   ]
  },
  {
   "cell_type": "markdown",
   "id": "e3850fb0",
   "metadata": {},
   "source": [
    "TEXT"
   ]
  },
  {
   "cell_type": "markdown",
   "id": "9fe619e8",
   "metadata": {},
   "source": [
    "### 6.2 Những kỹ năng đã học được"
   ]
  },
  {
   "cell_type": "markdown",
   "id": "9a2d4a0f",
   "metadata": {},
   "source": [
    "TEXT"
   ]
  },
  {
   "cell_type": "markdown",
   "id": "114e8b59",
   "metadata": {},
   "source": [
    "### 6.3 Nếu có thêm thời gian:"
   ]
  },
  {
   "cell_type": "markdown",
   "id": "b5336ebe",
   "metadata": {},
   "source": [
    "Nhóm sẽ tìm và thu thập dữ liệu đa dạng, phức tạp hơn, có thể thử nghiệm thu thập dữ liệu bằng cách get API trang web và mô hình hóa dữ liệu với nhiều thuật toán khác."
   ]
  },
  {
   "cell_type": "markdown",
   "id": "ba79aa61",
   "metadata": {},
   "source": [
    "# 7. Tài liệu tham khảo"
   ]
  },
  {
   "cell_type": "markdown",
   "id": "b6727226",
   "metadata": {},
   "source": [
    "Chủ yếu từ các trang web:\n",
    "- https://www.worldometers.info/world-population/population-by-country/<br/>\n",
    "- https://scikit-learn.org/ <br/>\n",
    "- https://stackoverflow.com/<br/>\n",
    "- https://www.w3schools.com/<br/>\n",
    "\n",
    "Video bài giảng + demo của môn học + slide bài giảng<br/>\n",
    "Lab: 1, 2, 3"
   ]
  }
 ],
 "metadata": {
  "kernelspec": {
   "display_name": "Python 3.10.8 64-bit",
   "language": "python",
   "name": "python3"
  },
  "language_info": {
   "codemirror_mode": {
    "name": "ipython",
    "version": 3
   },
   "file_extension": ".py",
   "mimetype": "text/x-python",
   "name": "python",
   "nbconvert_exporter": "python",
   "pygments_lexer": "ipython3",
   "version": "3.10.8"
  },
  "vscode": {
   "interpreter": {
    "hash": "369f2c481f4da34e4445cda3fffd2e751bd1c4d706f27375911949ba6bb62e1c"
   }
  }
 },
 "nbformat": 4,
 "nbformat_minor": 5
}
