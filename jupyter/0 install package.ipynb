{
  "cells": [
    {
      "cell_type": "code",
      "execution_count": null,
      "metadata": {
        "colab": {
          "base_uri": "https://localhost:8080/"
        },
        "id": "Kpu1h9c3cQBT",
        "outputId": "63d82e15-68c5-47cb-eaed-5f78817022aa"
      },
      "outputs": [],
      "source": [
        "!pip install scrapy\n",
        "!pip install spider3\n",
        "!pip install pandas\n",
        "!pip install shutil\n",
        "!pip install numpy\n",
        "!pip install ipykernel\n",
        "!pip install --upgrade nbformat\n",
        "!pip install bokeh\n",
        "!pip install plotly\n",
        "!pip install scikit-learn"
      ]
    }
  ],
  "metadata": {
    "colab": {
      "provenance": []
    },
    "kernelspec": {
      "display_name": "Python 3",
      "language": "python",
      "name": "python3"
    },
    "language_info": {
      "codemirror_mode": {
        "name": "ipython",
        "version": 3
      },
      "file_extension": ".py",
      "mimetype": "text/x-python",
      "name": "python",
      "nbconvert_exporter": "python",
      "pygments_lexer": "ipython3",
      "version": "3.7.8 (tags/v3.7.8:4b47a5b6ba, Jun 28 2020, 08:53:46) [MSC v.1916 64 bit (AMD64)]"
    },
    "vscode": {
      "interpreter": {
        "hash": "2e87c240ee57c08939bb9a8b704764c54b3ab467996739c85ad7cd4168a8b1b4"
      }
    }
  },
  "nbformat": 4,
  "nbformat_minor": 5
}
