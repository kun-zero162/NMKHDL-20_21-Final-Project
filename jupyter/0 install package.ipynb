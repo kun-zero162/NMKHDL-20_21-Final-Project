{
  "cells": [
    {
      "cell_type": "code",
      "execution_count": 1,
      "metadata": {
        "colab": {
          "base_uri": "https://localhost:8080/"
        },
        "id": "Kpu1h9c3cQBT",
        "outputId": "63d82e15-68c5-47cb-eaed-5f78817022aa"
      },
      "outputs": [
        {
          "name": "stdout",
          "output_type": "stream",
          "text": [
            "Requirement already satisfied: scrapy in c:\\users\\milu\\appdata\\local\\programs\\python\\python37\\lib\\site-packages (2.7.1)\n",
            "Requirement already satisfied: cssselect>=0.9.1 in c:\\users\\milu\\appdata\\local\\programs\\python\\python37\\lib\\site-packages (from scrapy) (1.2.0)\n",
            "Requirement already satisfied: queuelib>=1.4.2 in c:\\users\\milu\\appdata\\local\\programs\\python\\python37\\lib\\site-packages (from scrapy) (1.6.2)\n",
            "Requirement already satisfied: service-identity>=18.1.0 in c:\\users\\milu\\appdata\\local\\programs\\python\\python37\\lib\\site-packages (from scrapy) (21.1.0)\n",
            "Requirement already satisfied: PyDispatcher>=2.0.5; platform_python_implementation == \"CPython\" in c:\\users\\milu\\appdata\\local\\programs\\python\\python37\\lib\\site-packages (from scrapy) (2.0.6)\n",
            "Requirement already satisfied: protego>=0.1.15 in c:\\users\\milu\\appdata\\local\\programs\\python\\python37\\lib\\site-packages (from scrapy) (0.2.1)\n",
            "Requirement already satisfied: zope.interface>=5.1.0 in c:\\users\\milu\\appdata\\local\\programs\\python\\python37\\lib\\site-packages (from scrapy) (5.5.2)\n",
            "Requirement already satisfied: setuptools in c:\\users\\milu\\appdata\\local\\programs\\python\\python37\\lib\\site-packages (from scrapy) (65.6.3)\n",
            "Requirement already satisfied: Twisted>=18.9.0 in c:\\users\\milu\\appdata\\local\\programs\\python\\python37\\lib\\site-packages (from scrapy) (22.10.0)\n",
            "Requirement already satisfied: itemadapter>=0.1.0 in c:\\users\\milu\\appdata\\local\\programs\\python\\python37\\lib\\site-packages (from scrapy) (0.7.0)\n",
            "Requirement already satisfied: w3lib>=1.17.0 in c:\\users\\milu\\appdata\\local\\programs\\python\\python37\\lib\\site-packages (from scrapy) (2.1.0)\n",
            "Requirement already satisfied: parsel>=1.5.0 in c:\\users\\milu\\appdata\\local\\programs\\python\\python37\\lib\\site-packages (from scrapy) (1.7.0)\n",
            "Requirement already satisfied: lxml>=4.3.0 in c:\\users\\milu\\appdata\\local\\programs\\python\\python37\\lib\\site-packages (from scrapy) (4.9.1)\n",
            "Requirement already satisfied: tldextract in c:\\users\\milu\\appdata\\local\\programs\\python\\python37\\lib\\site-packages (from scrapy) (3.4.0)\n",
            "Requirement already satisfied: cryptography>=3.3 in c:\\users\\milu\\appdata\\local\\programs\\python\\python37\\lib\\site-packages (from scrapy) (38.0.4)\n",
            "Requirement already satisfied: itemloaders>=1.0.1 in c:\\users\\milu\\appdata\\local\\programs\\python\\python37\\lib\\site-packages (from scrapy) (1.0.6)\n",
            "Requirement already satisfied: packaging in c:\\users\\milu\\appdata\\local\\programs\\python\\python37\\lib\\site-packages (from scrapy) (22.0)\n",
            "Requirement already satisfied: pyOpenSSL>=21.0.0 in c:\\users\\milu\\appdata\\local\\programs\\python\\python37\\lib\\site-packages (from scrapy) (22.1.0)\n",
            "Requirement already satisfied: attrs>=19.1.0 in c:\\users\\milu\\appdata\\local\\programs\\python\\python37\\lib\\site-packages (from service-identity>=18.1.0->scrapy) (22.1.0)\n",
            "Requirement already satisfied: six in c:\\users\\milu\\appdata\\local\\programs\\python\\python37\\lib\\site-packages (from service-identity>=18.1.0->scrapy) (1.16.0)\n",
            "Requirement already satisfied: pyasn1 in c:\\users\\milu\\appdata\\local\\programs\\python\\python37\\lib\\site-packages (from service-identity>=18.1.0->scrapy) (0.4.8)\n",
            "Requirement already satisfied: pyasn1-modules in c:\\users\\milu\\appdata\\local\\programs\\python\\python37\\lib\\site-packages (from service-identity>=18.1.0->scrapy) (0.2.8)\n",
            "Requirement already satisfied: Automat>=0.8.0 in c:\\users\\milu\\appdata\\local\\programs\\python\\python37\\lib\\site-packages (from Twisted>=18.9.0->scrapy) (22.10.0)\n",
            "Requirement already satisfied: twisted-iocpsupport<2,>=1.0.2; platform_system == \"Windows\" in c:\\users\\milu\\appdata\\local\\programs\\python\\python37\\lib\\site-packages (from Twisted>=18.9.0->scrapy) (1.0.2)\n",
            "Requirement already satisfied: hyperlink>=17.1.1 in c:\\users\\milu\\appdata\\local\\programs\\python\\python37\\lib\\site-packages (from Twisted>=18.9.0->scrapy) (21.0.0)\n",
            "Requirement already satisfied: incremental>=21.3.0 in c:\\users\\milu\\appdata\\local\\programs\\python\\python37\\lib\\site-packages (from Twisted>=18.9.0->scrapy) (22.10.0)\n",
            "Requirement already satisfied: typing-extensions>=3.6.5 in c:\\users\\milu\\appdata\\local\\programs\\python\\python37\\lib\\site-packages (from Twisted>=18.9.0->scrapy) (4.4.0)\n",
            "Requirement already satisfied: constantly>=15.1 in c:\\users\\milu\\appdata\\local\\programs\\python\\python37\\lib\\site-packages (from Twisted>=18.9.0->scrapy) (15.1.0)\n",
            "Requirement already satisfied: filelock>=3.0.8 in c:\\users\\milu\\appdata\\local\\programs\\python\\python37\\lib\\site-packages (from tldextract->scrapy) (3.8.2)\n",
            "Requirement already satisfied: requests-file>=1.4 in c:\\users\\milu\\appdata\\local\\programs\\python\\python37\\lib\\site-packages (from tldextract->scrapy) (1.5.1)\n",
            "Requirement already satisfied: requests>=2.1.0 in c:\\users\\milu\\appdata\\local\\programs\\python\\python37\\lib\\site-packages (from tldextract->scrapy) (2.28.1)\n",
            "Requirement already satisfied: idna in c:\\users\\milu\\appdata\\local\\programs\\python\\python37\\lib\\site-packages (from tldextract->scrapy) (3.4)\n",
            "Requirement already satisfied: cffi>=1.12 in c:\\users\\milu\\appdata\\local\\programs\\python\\python37\\lib\\site-packages (from cryptography>=3.3->scrapy) (1.15.1)\n",
            "Requirement already satisfied: jmespath>=0.9.5 in c:\\users\\milu\\appdata\\local\\programs\\python\\python37\\lib\\site-packages (from itemloaders>=1.0.1->scrapy) (1.0.1)\n",
            "Requirement already satisfied: urllib3<1.27,>=1.21.1 in c:\\users\\milu\\appdata\\local\\programs\\python\\python37\\lib\\site-packages (from requests>=2.1.0->tldextract->scrapy) (1.26.13)\n",
            "Requirement already satisfied: charset-normalizer<3,>=2 in c:\\users\\milu\\appdata\\local\\programs\\python\\python37\\lib\\site-packages (from requests>=2.1.0->tldextract->scrapy) (2.1.1)\n",
            "Requirement already satisfied: certifi>=2017.4.17 in c:\\users\\milu\\appdata\\local\\programs\\python\\python37\\lib\\site-packages (from requests>=2.1.0->tldextract->scrapy) (2022.12.7)\n",
            "Requirement already satisfied: pycparser in c:\\users\\milu\\appdata\\local\\programs\\python\\python37\\lib\\site-packages (from cffi>=1.12->cryptography>=3.3->scrapy) (2.21)\n"
          ]
        },
        {
          "name": "stderr",
          "output_type": "stream",
          "text": [
            "WARNING: You are using pip version 20.1.1; however, version 22.3.1 is available.\n",
            "You should consider upgrading via the 'c:\\users\\milu\\appdata\\local\\programs\\python\\python37\\python.exe -m pip install --upgrade pip' command.\n"
          ]
        },
        {
          "name": "stdout",
          "output_type": "stream",
          "text": [
            "Requirement already satisfied: spider3 in c:\\users\\milu\\appdata\\local\\programs\\python\\python37\\lib\\site-packages (1.0.2)\n"
          ]
        },
        {
          "name": "stderr",
          "output_type": "stream",
          "text": [
            "WARNING: You are using pip version 20.1.1; however, version 22.3.1 is available.\n",
            "You should consider upgrading via the 'c:\\users\\milu\\appdata\\local\\programs\\python\\python37\\python.exe -m pip install --upgrade pip' command.\n"
          ]
        },
        {
          "name": "stdout",
          "output_type": "stream",
          "text": [
            "Requirement already satisfied: pandas in c:\\users\\milu\\appdata\\local\\programs\\python\\python37\\lib\\site-packages (1.3.5)\n",
            "Requirement already satisfied: pytz>=2017.3 in c:\\users\\milu\\appdata\\local\\programs\\python\\python37\\lib\\site-packages (from pandas) (2022.6)\n",
            "Requirement already satisfied: numpy>=1.17.3; platform_machine != \"aarch64\" and platform_machine != \"arm64\" and python_version < \"3.10\" in c:\\users\\milu\\appdata\\local\\programs\\python\\python37\\lib\\site-packages (from pandas) (1.21.6)\n",
            "Requirement already satisfied: python-dateutil>=2.7.3 in c:\\users\\milu\\appdata\\local\\programs\\python\\python37\\lib\\site-packages (from pandas) (2.8.2)\n",
            "Requirement already satisfied: six>=1.5 in c:\\users\\milu\\appdata\\local\\programs\\python\\python37\\lib\\site-packages (from python-dateutil>=2.7.3->pandas) (1.16.0)\n"
          ]
        },
        {
          "name": "stderr",
          "output_type": "stream",
          "text": [
            "WARNING: You are using pip version 20.1.1; however, version 22.3.1 is available.\n",
            "You should consider upgrading via the 'c:\\users\\milu\\appdata\\local\\programs\\python\\python37\\python.exe -m pip install --upgrade pip' command.\n",
            "ERROR: Could not find a version that satisfies the requirement shutil (from versions: none)\n",
            "ERROR: No matching distribution found for shutil\n",
            "WARNING: You are using pip version 20.1.1; however, version 22.3.1 is available.\n",
            "You should consider upgrading via the 'c:\\users\\milu\\appdata\\local\\programs\\python\\python37\\python.exe -m pip install --upgrade pip' command.\n"
          ]
        },
        {
          "name": "stdout",
          "output_type": "stream",
          "text": [
            "Requirement already satisfied: numpy in c:\\users\\milu\\appdata\\local\\programs\\python\\python37\\lib\\site-packages (1.21.6)\n"
          ]
        },
        {
          "name": "stderr",
          "output_type": "stream",
          "text": [
            "WARNING: You are using pip version 20.1.1; however, version 22.3.1 is available.\n",
            "You should consider upgrading via the 'c:\\users\\milu\\appdata\\local\\programs\\python\\python37\\python.exe -m pip install --upgrade pip' command.\n"
          ]
        }
      ],
      "source": [
        "!pip install scrapy\n",
        "!pip install spider3\n",
        "!pip install pandas\n",
        "!pip install shutil\n",
        "!pip install numpy\n",
        "!pip install ipykernel\n",
        "!pip install --upgrade nbformat\n",
        "!pip install bokeh\n",
        "!pip install plotly\n",
        "!pip install scikit-learn"
      ]
    }
  ],
  "metadata": {
    "colab": {
      "provenance": []
    },
    "kernelspec": {
      "display_name": "Python 3",
      "language": "python",
      "name": "python3"
    },
    "language_info": {
      "codemirror_mode": {
        "name": "ipython",
        "version": 3
      },
      "file_extension": ".py",
      "mimetype": "text/x-python",
      "name": "python",
      "nbconvert_exporter": "python",
      "pygments_lexer": "ipython3",
      "version": "3.7.8 (tags/v3.7.8:4b47a5b6ba, Jun 28 2020, 08:53:46) [MSC v.1916 64 bit (AMD64)]"
    },
    "vscode": {
      "interpreter": {
        "hash": "2e87c240ee57c08939bb9a8b704764c54b3ab467996739c85ad7cd4168a8b1b4"
      }
    }
  },
  "nbformat": 4,
  "nbformat_minor": 5
}
