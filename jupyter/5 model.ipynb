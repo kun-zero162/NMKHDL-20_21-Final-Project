{
 "cells": [
  {
   "cell_type": "code",
   "execution_count": 2,
   "metadata": {},
   "outputs": [],
   "source": [
    "from bokeh.plotting.figure import figure\n",
    "import plotly.express as px\n",
    "import pandas as pd\n",
    "import numpy as np\n",
    "import plotly.graph_objects as go\n",
    "import pandas as pd\n",
    "import matplotlib.pyplot as plt\n",
    "df=pd.read_csv('./population.csv')\n"
   ]
  },
  {
   "attachments": {},
   "cell_type": "markdown",
   "metadata": {},
   "source": [
    "lấy thông tin best_country_to_live bằng html request đơn giản "
   ]
  },
  {
   "cell_type": "code",
   "execution_count": 3,
   "metadata": {},
   "outputs": [],
   "source": [
    "import requests \n",
    "\n",
    "headers = {'User-Agent': 'Mozilla/5.0'}\n",
    "r = requests.get('https://www.usnews.com/news/best-countries/rankings/quality-of-life?renderer=json',headers=headers)\n",
    "best_country_to_live=r.json()\n",
    "best_country_to_live=[i['country'] for i in best_country_to_live['rankings']][:50]\n",
    "df_train=df[df['Year']==2020]\n",
    "df_train=df_train[['Country','Population','Yearly%Change','MedianAge','UrbanPop%','Migrants(net)','FertilityRate']]\n",
    "df_train['BestToLive']=[0]*df_train.shape[0]\n",
    "df_train=df_train.reset_index(drop=True)\n",
    "for i in best_country_to_live:\n",
    "    try:\n",
    "        index = df_train[df_train['Country']==i].index[0]\n",
    "        df_train.at[index,'BestToLive']=1\n",
    "    except:\n",
    "        pass\n"
   ]
  },
  {
   "attachments": {},
   "cell_type": "markdown",
   "metadata": {},
   "source": [
    "Lấy 2020 ra để phân lớp. Lựa chọn phân lớp theo 2 thuộc tính (đơn giản hóa bài toán dễ tạo nhiều mô hình)"
   ]
  },
  {
   "cell_type": "code",
   "execution_count": 4,
   "metadata": {},
   "outputs": [],
   "source": [
    "X = [ [df_train.iloc[i]['UrbanPop%'], df_train.iloc[i]['Migrants(net)']] for i in range(df_train.shape[0]) ]\n",
    "y= list(df_train['BestToLive'])"
   ]
  },
  {
   "attachments": {},
   "cell_type": "markdown",
   "metadata": {},
   "source": [
    "Phân lớp dựa vào UrbanPop% và Migrants(net)"
   ]
  },
  {
   "cell_type": "code",
   "execution_count": 5,
   "metadata": {},
   "outputs": [
    {
     "data": {
      "application/vnd.plotly.v1+json": {
       "config": {
        "plotlyServerURL": "https://plot.ly"
       },
       "data": [
        {
         "hovertemplate": "UrbanPop%=%{x}<br>Migrants(net)=%{y}<br>BestToLive=%{marker.color}<extra></extra>",
         "legendgroup": "",
         "marker": {
          "color": [
           0,
           0,
           0,
           0,
           0,
           0,
           0,
           0,
           1,
           0,
           0,
           1,
           1,
           0,
           0,
           0,
           0,
           0,
           0,
           1,
           0,
           0,
           0,
           0,
           0,
           0,
           0,
           1,
           0,
           0,
           0,
           0,
           0,
           0,
           0,
           0,
           1,
           0,
           0,
           0,
           0,
           0,
           1,
           1,
           0,
           0,
           0,
           0,
           1,
           1,
           0,
           0,
           0,
           0,
           0,
           0,
           1,
           0,
           0,
           0,
           0,
           1,
           0,
           0,
           0,
           0,
           0,
           0,
           0,
           0,
           0,
           1,
           1,
           0,
           0,
           0,
           0,
           0,
           1,
           0,
           0,
           1,
           0,
           0,
           0,
           0,
           0,
           0,
           0,
           0,
           0,
           0,
           0,
           0,
           1,
           0,
           1,
           1,
           0,
           0,
           1,
           0,
           1,
           1,
           0,
           1,
           0,
           0,
           0,
           0,
           0,
           0,
           0,
           0,
           0,
           0,
           0,
           0,
           0,
           0,
           1,
           0,
           0,
           0,
           1,
           0,
           0,
           0,
           0,
           0,
           0,
           0,
           0,
           1,
           0,
           0,
           0,
           0,
           0,
           0,
           1,
           0,
           0,
           0,
           0,
           0,
           1,
           0,
           1,
           0,
           0,
           0,
           0,
           0,
           0,
           0,
           1,
           0,
           0,
           0,
           0,
           0,
           0,
           1,
           1,
           1,
           1,
           0,
           1,
           0,
           1,
           0,
           0,
           0,
           0,
           0,
           0,
           0,
           0,
           0,
           0,
           0,
           1,
           0,
           0,
           0,
           0,
           1,
           0,
           0,
           0,
           0,
           0,
           1,
           1,
           0,
           1,
           0,
           0,
           0,
           0,
           0,
           1,
           1,
           0,
           0,
           0,
           0,
           1,
           0,
           0,
           0,
           0,
           0,
           0,
           1,
           0,
           0,
           0,
           0,
           0,
           0,
           1,
           1,
           1,
           0,
           0,
           0,
           0,
           1,
           0,
           0,
           0,
           0,
           0
          ],
          "coloraxis": "coloraxis",
          "symbol": "circle"
         },
         "mode": "markers",
         "name": "",
         "orientation": "v",
         "showlegend": false,
         "type": "scatter",
         "x": [
          25.4,
          63.5,
          72.9,
          88.1,
          87.8,
          66.7,
          95.95575757575756,
          26.2,
          92.8,
          62.8,
          43.6,
          85.9,
          57.3,
          56.2,
          86.1,
          89.3,
          39.4,
          31.2,
          79.2,
          98.3,
          46.1,
          48.4,
          97.4,
          45.8,
          69.3,
          52.3,
          72.8,
          87.6,
          52.4,
          79.5,
          75.6,
          30.6,
          13.8,
          68,
          24.2,
          56.3,
          81.3,
          75,
          97.2,
          43,
          23.3,
          29.8,
          84.8,
          60.8,
          80.4,
          29.4,
          69.9,
          75.3,
          80,
          57.7,
          78.3,
          88.7,
          66.8,
          73.5,
          51.3,
          45.6,
          88.2,
          79,
          74.1,
          84.5,
          63,
          43,
          73.4,
          73.3,
          63.3,
          67.9,
          30,
          21.3,
          43.3,
          66,
          59.1,
          86.1,
          81.5,
          87.3,
          64.1,
          87.1,
          59.4,
          58.1,
          76.3,
          56.7,
          97.67386934673152,
          84.9,
          87.3,
          35.5,
          100,
          94.9,
          51.8,
          38.6,
          44.9,
          26.9,
          56.9,
          99.9,
          57.3,
          100,
          71.7,
          94.4,
          35,
          56.4,
          75.5,
          73.1,
          63,
          53.4,
          93.2,
          69.5,
          55.4,
          91.8,
          91.5,
          57.7,
          27.8,
          57,
          100,
          35.6,
          35.7,
          68.6,
          78.4,
          31.5,
          52.6,
          78.2,
          14.6,
          71.3,
          88.2,
          100,
          38.5,
          18.5,
          78.4,
          34.5,
          44,
          93.2,
          70,
          91.6,
          56.9,
          40.8,
          45.8,
          83.8,
          68.2,
          42.7,
          100,
          67.2,
          67.6,
          9.6,
          63.8,
          38.3,
          31.4,
          55.2,
          100,
          21.4,
          92.5,
          71.9,
          86.9,
          57.2,
          16.5,
          52,
          46.4,
          62.5,
          58.6,
          88.3,
          83.4,
          87,
          35.1,
          94.61390525840692,
          68,
          13.1,
          61.6,
          79.1,
          47.5,
          60.2,
          66.5,
          100,
          96.2,
          54.6,
          73.7,
          17.6,
          99.8,
          0,
          27.2,
          32.9,
          18.6,
          0,
          99.8,
          18,
          97.1,
          74,
          84,
          49.4,
          56.2,
          56.2,
          43.3,
          98.56000291488353,
          96.5,
          53.7,
          55.2,
          23.2,
          46.8,
          66.7,
          81.8,
          24.6,
          80.3,
          18.4,
          52.9,
          80,
          35,
          65.1,
          88.2,
          74.1,
          60,
          78.9,
          27.3,
          37,
          51.1,
          32.8,
          43.3,
          0,
          24.3,
          52.4,
          70.1,
          75.7,
          52.5,
          89.3,
          62.4,
          96.3,
          25.7,
          69.4,
          86.4,
          83.2,
          82.8,
          96.1,
          50.1,
          24.4,
          98.36103859251055,
          37.7,
          0,
          86.8,
          38.4,
          45.3,
          38.4
         ],
         "xaxis": "x",
         "y": [
          -62920,
          -14000,
          -10000,
          0,
          0,
          6413,
          0,
          0,
          4800,
          -4998,
          201,
          158246,
          65000,
          1200,
          1000,
          47800,
          -369501,
          -79,
          8730,
          48000,
          1200,
          -2000,
          0,
          320,
          -9504,
          -21585,
          3000,
          21200,
          0,
          0,
          -4800,
          -25000,
          2001,
          -1342,
          -30000,
          -4800,
          242032,
          0,
          0,
          -40000,
          2000,
          1351,
          111708,
          -348399,
          204796,
          -2000,
          -4000,
          0,
          4200,
          -8001,
          -14400,
          515,
          5000,
          22011,
          -8000,
          23861,
          15200,
          900,
          0,
          -30000,
          36400,
          -38033,
          -40539,
          16000,
          -39858,
          3911,
          -8353,
          30000,
          0,
          0,
          -6202,
          14000,
          36527,
          1200,
          -1000,
          3260,
          -3087,
          -10000,
          543822,
          -10000,
          0,
          -16000,
          0,
          -200,
          -1440,
          -506,
          -9215,
          -4000,
          -1399,
          -6000,
          -35000,
          0,
          -6800,
          29308,
          6000,
          380,
          -532687,
          -98955,
          -55000,
          7834,
          23604,
          0,
          10000,
          148943,
          -11332,
          71560,
          10220,
          -18000,
          -10000,
          -800,
          39520,
          -4000,
          -14704,
          -14837,
          -30012,
          -10047,
          -5000,
          -1999,
          0,
          -32780,
          9741,
          5000,
          -1500,
          -16053,
          50000,
          11370,
          -40000,
          900,
          0,
          -960,
          5000,
          0,
          0,
          -60000,
          -2957,
          -1387,
          0,
          -852,
          -480,
          0,
          -51419,
          -5000,
          -163313,
          -4806,
          0,
          41710,
          16000,
          502,
          14881,
          -21272,
          4000,
          -60000,
          0,
          -5403,
          -1000,
          0,
          28000,
          87400,
          -233379,
          0,
          11200,
          -800,
          -16556,
          99069,
          -67152,
          -29395,
          -6000,
          -97986,
          40000,
          -73999,
          182456,
          -9000,
          -1256,
          0,
          0,
          0,
          0,
          0,
          0,
          -2803,
          0,
          -1680,
          134979,
          -20000,
          4000,
          -200,
          -4200,
          27028,
          0,
          1485,
          2000,
          -1600,
          -40000,
          145405,
          11731,
          -174200,
          40000,
          -97986,
          -200,
          -10563,
          -50000,
          -1000,
          40000,
          52000,
          -427391,
          30001,
          -20000,
          -40076,
          19444,
          -5385,
          -2000,
          0,
          -800,
          -800,
          -4000,
          283922,
          -5000,
          0,
          0,
          -451,
          168694,
          10000,
          40000,
          260650,
          954806,
          -3000,
          -8863,
          120,
          -653249,
          -80000,
          0,
          5582,
          -30000,
          -8000,
          -116858
         ],
         "yaxis": "y"
        }
       ],
       "layout": {
        "coloraxis": {
         "colorbar": {
          "title": {
           "text": "BestToLive"
          }
         },
         "colorscale": [
          [
           0,
           "#0d0887"
          ],
          [
           0.1111111111111111,
           "#46039f"
          ],
          [
           0.2222222222222222,
           "#7201a8"
          ],
          [
           0.3333333333333333,
           "#9c179e"
          ],
          [
           0.4444444444444444,
           "#bd3786"
          ],
          [
           0.5555555555555556,
           "#d8576b"
          ],
          [
           0.6666666666666666,
           "#ed7953"
          ],
          [
           0.7777777777777778,
           "#fb9f3a"
          ],
          [
           0.8888888888888888,
           "#fdca26"
          ],
          [
           1,
           "#f0f921"
          ]
         ]
        },
        "legend": {
         "tracegroupgap": 0
        },
        "margin": {
         "t": 60
        },
        "template": {
         "data": {
          "bar": [
           {
            "error_x": {
             "color": "#2a3f5f"
            },
            "error_y": {
             "color": "#2a3f5f"
            },
            "marker": {
             "line": {
              "color": "#E5ECF6",
              "width": 0.5
             },
             "pattern": {
              "fillmode": "overlay",
              "size": 10,
              "solidity": 0.2
             }
            },
            "type": "bar"
           }
          ],
          "barpolar": [
           {
            "marker": {
             "line": {
              "color": "#E5ECF6",
              "width": 0.5
             },
             "pattern": {
              "fillmode": "overlay",
              "size": 10,
              "solidity": 0.2
             }
            },
            "type": "barpolar"
           }
          ],
          "carpet": [
           {
            "aaxis": {
             "endlinecolor": "#2a3f5f",
             "gridcolor": "white",
             "linecolor": "white",
             "minorgridcolor": "white",
             "startlinecolor": "#2a3f5f"
            },
            "baxis": {
             "endlinecolor": "#2a3f5f",
             "gridcolor": "white",
             "linecolor": "white",
             "minorgridcolor": "white",
             "startlinecolor": "#2a3f5f"
            },
            "type": "carpet"
           }
          ],
          "choropleth": [
           {
            "colorbar": {
             "outlinewidth": 0,
             "ticks": ""
            },
            "type": "choropleth"
           }
          ],
          "contour": [
           {
            "colorbar": {
             "outlinewidth": 0,
             "ticks": ""
            },
            "colorscale": [
             [
              0,
              "#0d0887"
             ],
             [
              0.1111111111111111,
              "#46039f"
             ],
             [
              0.2222222222222222,
              "#7201a8"
             ],
             [
              0.3333333333333333,
              "#9c179e"
             ],
             [
              0.4444444444444444,
              "#bd3786"
             ],
             [
              0.5555555555555556,
              "#d8576b"
             ],
             [
              0.6666666666666666,
              "#ed7953"
             ],
             [
              0.7777777777777778,
              "#fb9f3a"
             ],
             [
              0.8888888888888888,
              "#fdca26"
             ],
             [
              1,
              "#f0f921"
             ]
            ],
            "type": "contour"
           }
          ],
          "contourcarpet": [
           {
            "colorbar": {
             "outlinewidth": 0,
             "ticks": ""
            },
            "type": "contourcarpet"
           }
          ],
          "heatmap": [
           {
            "colorbar": {
             "outlinewidth": 0,
             "ticks": ""
            },
            "colorscale": [
             [
              0,
              "#0d0887"
             ],
             [
              0.1111111111111111,
              "#46039f"
             ],
             [
              0.2222222222222222,
              "#7201a8"
             ],
             [
              0.3333333333333333,
              "#9c179e"
             ],
             [
              0.4444444444444444,
              "#bd3786"
             ],
             [
              0.5555555555555556,
              "#d8576b"
             ],
             [
              0.6666666666666666,
              "#ed7953"
             ],
             [
              0.7777777777777778,
              "#fb9f3a"
             ],
             [
              0.8888888888888888,
              "#fdca26"
             ],
             [
              1,
              "#f0f921"
             ]
            ],
            "type": "heatmap"
           }
          ],
          "heatmapgl": [
           {
            "colorbar": {
             "outlinewidth": 0,
             "ticks": ""
            },
            "colorscale": [
             [
              0,
              "#0d0887"
             ],
             [
              0.1111111111111111,
              "#46039f"
             ],
             [
              0.2222222222222222,
              "#7201a8"
             ],
             [
              0.3333333333333333,
              "#9c179e"
             ],
             [
              0.4444444444444444,
              "#bd3786"
             ],
             [
              0.5555555555555556,
              "#d8576b"
             ],
             [
              0.6666666666666666,
              "#ed7953"
             ],
             [
              0.7777777777777778,
              "#fb9f3a"
             ],
             [
              0.8888888888888888,
              "#fdca26"
             ],
             [
              1,
              "#f0f921"
             ]
            ],
            "type": "heatmapgl"
           }
          ],
          "histogram": [
           {
            "marker": {
             "pattern": {
              "fillmode": "overlay",
              "size": 10,
              "solidity": 0.2
             }
            },
            "type": "histogram"
           }
          ],
          "histogram2d": [
           {
            "colorbar": {
             "outlinewidth": 0,
             "ticks": ""
            },
            "colorscale": [
             [
              0,
              "#0d0887"
             ],
             [
              0.1111111111111111,
              "#46039f"
             ],
             [
              0.2222222222222222,
              "#7201a8"
             ],
             [
              0.3333333333333333,
              "#9c179e"
             ],
             [
              0.4444444444444444,
              "#bd3786"
             ],
             [
              0.5555555555555556,
              "#d8576b"
             ],
             [
              0.6666666666666666,
              "#ed7953"
             ],
             [
              0.7777777777777778,
              "#fb9f3a"
             ],
             [
              0.8888888888888888,
              "#fdca26"
             ],
             [
              1,
              "#f0f921"
             ]
            ],
            "type": "histogram2d"
           }
          ],
          "histogram2dcontour": [
           {
            "colorbar": {
             "outlinewidth": 0,
             "ticks": ""
            },
            "colorscale": [
             [
              0,
              "#0d0887"
             ],
             [
              0.1111111111111111,
              "#46039f"
             ],
             [
              0.2222222222222222,
              "#7201a8"
             ],
             [
              0.3333333333333333,
              "#9c179e"
             ],
             [
              0.4444444444444444,
              "#bd3786"
             ],
             [
              0.5555555555555556,
              "#d8576b"
             ],
             [
              0.6666666666666666,
              "#ed7953"
             ],
             [
              0.7777777777777778,
              "#fb9f3a"
             ],
             [
              0.8888888888888888,
              "#fdca26"
             ],
             [
              1,
              "#f0f921"
             ]
            ],
            "type": "histogram2dcontour"
           }
          ],
          "mesh3d": [
           {
            "colorbar": {
             "outlinewidth": 0,
             "ticks": ""
            },
            "type": "mesh3d"
           }
          ],
          "parcoords": [
           {
            "line": {
             "colorbar": {
              "outlinewidth": 0,
              "ticks": ""
             }
            },
            "type": "parcoords"
           }
          ],
          "pie": [
           {
            "automargin": true,
            "type": "pie"
           }
          ],
          "scatter": [
           {
            "fillpattern": {
             "fillmode": "overlay",
             "size": 10,
             "solidity": 0.2
            },
            "type": "scatter"
           }
          ],
          "scatter3d": [
           {
            "line": {
             "colorbar": {
              "outlinewidth": 0,
              "ticks": ""
             }
            },
            "marker": {
             "colorbar": {
              "outlinewidth": 0,
              "ticks": ""
             }
            },
            "type": "scatter3d"
           }
          ],
          "scattercarpet": [
           {
            "marker": {
             "colorbar": {
              "outlinewidth": 0,
              "ticks": ""
             }
            },
            "type": "scattercarpet"
           }
          ],
          "scattergeo": [
           {
            "marker": {
             "colorbar": {
              "outlinewidth": 0,
              "ticks": ""
             }
            },
            "type": "scattergeo"
           }
          ],
          "scattergl": [
           {
            "marker": {
             "colorbar": {
              "outlinewidth": 0,
              "ticks": ""
             }
            },
            "type": "scattergl"
           }
          ],
          "scattermapbox": [
           {
            "marker": {
             "colorbar": {
              "outlinewidth": 0,
              "ticks": ""
             }
            },
            "type": "scattermapbox"
           }
          ],
          "scatterpolar": [
           {
            "marker": {
             "colorbar": {
              "outlinewidth": 0,
              "ticks": ""
             }
            },
            "type": "scatterpolar"
           }
          ],
          "scatterpolargl": [
           {
            "marker": {
             "colorbar": {
              "outlinewidth": 0,
              "ticks": ""
             }
            },
            "type": "scatterpolargl"
           }
          ],
          "scatterternary": [
           {
            "marker": {
             "colorbar": {
              "outlinewidth": 0,
              "ticks": ""
             }
            },
            "type": "scatterternary"
           }
          ],
          "surface": [
           {
            "colorbar": {
             "outlinewidth": 0,
             "ticks": ""
            },
            "colorscale": [
             [
              0,
              "#0d0887"
             ],
             [
              0.1111111111111111,
              "#46039f"
             ],
             [
              0.2222222222222222,
              "#7201a8"
             ],
             [
              0.3333333333333333,
              "#9c179e"
             ],
             [
              0.4444444444444444,
              "#bd3786"
             ],
             [
              0.5555555555555556,
              "#d8576b"
             ],
             [
              0.6666666666666666,
              "#ed7953"
             ],
             [
              0.7777777777777778,
              "#fb9f3a"
             ],
             [
              0.8888888888888888,
              "#fdca26"
             ],
             [
              1,
              "#f0f921"
             ]
            ],
            "type": "surface"
           }
          ],
          "table": [
           {
            "cells": {
             "fill": {
              "color": "#EBF0F8"
             },
             "line": {
              "color": "white"
             }
            },
            "header": {
             "fill": {
              "color": "#C8D4E3"
             },
             "line": {
              "color": "white"
             }
            },
            "type": "table"
           }
          ]
         },
         "layout": {
          "annotationdefaults": {
           "arrowcolor": "#2a3f5f",
           "arrowhead": 0,
           "arrowwidth": 1
          },
          "autotypenumbers": "strict",
          "coloraxis": {
           "colorbar": {
            "outlinewidth": 0,
            "ticks": ""
           }
          },
          "colorscale": {
           "diverging": [
            [
             0,
             "#8e0152"
            ],
            [
             0.1,
             "#c51b7d"
            ],
            [
             0.2,
             "#de77ae"
            ],
            [
             0.3,
             "#f1b6da"
            ],
            [
             0.4,
             "#fde0ef"
            ],
            [
             0.5,
             "#f7f7f7"
            ],
            [
             0.6,
             "#e6f5d0"
            ],
            [
             0.7,
             "#b8e186"
            ],
            [
             0.8,
             "#7fbc41"
            ],
            [
             0.9,
             "#4d9221"
            ],
            [
             1,
             "#276419"
            ]
           ],
           "sequential": [
            [
             0,
             "#0d0887"
            ],
            [
             0.1111111111111111,
             "#46039f"
            ],
            [
             0.2222222222222222,
             "#7201a8"
            ],
            [
             0.3333333333333333,
             "#9c179e"
            ],
            [
             0.4444444444444444,
             "#bd3786"
            ],
            [
             0.5555555555555556,
             "#d8576b"
            ],
            [
             0.6666666666666666,
             "#ed7953"
            ],
            [
             0.7777777777777778,
             "#fb9f3a"
            ],
            [
             0.8888888888888888,
             "#fdca26"
            ],
            [
             1,
             "#f0f921"
            ]
           ],
           "sequentialminus": [
            [
             0,
             "#0d0887"
            ],
            [
             0.1111111111111111,
             "#46039f"
            ],
            [
             0.2222222222222222,
             "#7201a8"
            ],
            [
             0.3333333333333333,
             "#9c179e"
            ],
            [
             0.4444444444444444,
             "#bd3786"
            ],
            [
             0.5555555555555556,
             "#d8576b"
            ],
            [
             0.6666666666666666,
             "#ed7953"
            ],
            [
             0.7777777777777778,
             "#fb9f3a"
            ],
            [
             0.8888888888888888,
             "#fdca26"
            ],
            [
             1,
             "#f0f921"
            ]
           ]
          },
          "colorway": [
           "#636efa",
           "#EF553B",
           "#00cc96",
           "#ab63fa",
           "#FFA15A",
           "#19d3f3",
           "#FF6692",
           "#B6E880",
           "#FF97FF",
           "#FECB52"
          ],
          "font": {
           "color": "#2a3f5f"
          },
          "geo": {
           "bgcolor": "white",
           "lakecolor": "white",
           "landcolor": "#E5ECF6",
           "showlakes": true,
           "showland": true,
           "subunitcolor": "white"
          },
          "hoverlabel": {
           "align": "left"
          },
          "hovermode": "closest",
          "mapbox": {
           "style": "light"
          },
          "paper_bgcolor": "white",
          "plot_bgcolor": "#E5ECF6",
          "polar": {
           "angularaxis": {
            "gridcolor": "white",
            "linecolor": "white",
            "ticks": ""
           },
           "bgcolor": "#E5ECF6",
           "radialaxis": {
            "gridcolor": "white",
            "linecolor": "white",
            "ticks": ""
           }
          },
          "scene": {
           "xaxis": {
            "backgroundcolor": "#E5ECF6",
            "gridcolor": "white",
            "gridwidth": 2,
            "linecolor": "white",
            "showbackground": true,
            "ticks": "",
            "zerolinecolor": "white"
           },
           "yaxis": {
            "backgroundcolor": "#E5ECF6",
            "gridcolor": "white",
            "gridwidth": 2,
            "linecolor": "white",
            "showbackground": true,
            "ticks": "",
            "zerolinecolor": "white"
           },
           "zaxis": {
            "backgroundcolor": "#E5ECF6",
            "gridcolor": "white",
            "gridwidth": 2,
            "linecolor": "white",
            "showbackground": true,
            "ticks": "",
            "zerolinecolor": "white"
           }
          },
          "shapedefaults": {
           "line": {
            "color": "#2a3f5f"
           }
          },
          "ternary": {
           "aaxis": {
            "gridcolor": "white",
            "linecolor": "white",
            "ticks": ""
           },
           "baxis": {
            "gridcolor": "white",
            "linecolor": "white",
            "ticks": ""
           },
           "bgcolor": "#E5ECF6",
           "caxis": {
            "gridcolor": "white",
            "linecolor": "white",
            "ticks": ""
           }
          },
          "title": {
           "x": 0.05
          },
          "xaxis": {
           "automargin": true,
           "gridcolor": "white",
           "linecolor": "white",
           "ticks": "",
           "title": {
            "standoff": 15
           },
           "zerolinecolor": "white",
           "zerolinewidth": 2
          },
          "yaxis": {
           "automargin": true,
           "gridcolor": "white",
           "linecolor": "white",
           "ticks": "",
           "title": {
            "standoff": 15
           },
           "zerolinecolor": "white",
           "zerolinewidth": 2
          }
         }
        },
        "title": {
         "text": "Trực quan giữa UrbanPop% và Migrants(net)",
         "x": 0.45,
         "xanchor": "center",
         "y": 0.95,
         "yanchor": "top"
        },
        "xaxis": {
         "anchor": "y",
         "domain": [
          0,
          1
         ],
         "title": {
          "text": "UrbanPop%"
         }
        },
        "yaxis": {
         "anchor": "x",
         "domain": [
          0,
          1
         ],
         "title": {
          "text": "Migrants(net)"
         }
        }
       }
      }
     },
     "metadata": {},
     "output_type": "display_data"
    }
   ],
   "source": [
    "fig=px.scatter(df_train, x=\"UrbanPop%\", y=\"Migrants(net)\",\n",
    "        color=\"BestToLive\")\n",
    "fig.update_layout(\n",
    "    title={\n",
    "        'text': \"Trực quan giữa UrbanPop% và Migrants(net)\",\n",
    "        'y':0.95,\n",
    "        'x':0.45,\n",
    "        'xanchor': 'center',\n",
    "        'yanchor': 'top'})\n",
    "\n",
    "fig.show()"
   ]
  },
  {
   "cell_type": "code",
   "execution_count": 6,
   "metadata": {},
   "outputs": [
    {
     "name": "stdout",
     "output_type": "stream",
     "text": [
      "Binary cross entropy loss là :  6.466844936886641\n",
      "Độ chính xác của mô hình :  0.8127659574468085\n"
     ]
    }
   ],
   "source": [
    "\n",
    "\n",
    "import random\n",
    "from sklearn.linear_model import LogisticRegression\n",
    "from sklearn.datasets import make_blobs\n",
    "\n",
    "from sklearn.metrics import log_loss\n",
    "\n",
    "X = [ [df_train.iloc[i]['UrbanPop%'], df_train.iloc[i]['Migrants(net)']] for i in range(df_train.shape[0]) ]\n",
    "y= list(df_train['BestToLive'])\n",
    "\n",
    "model = LogisticRegression()\n",
    "model.fit(X, y)\n",
    "\n",
    "#kiểm tra\n",
    "#Xnew = [[80,500 * 1000],[40,100],[50,-100]]\n",
    "#Xnew=[[random.randint(20,100),10**(random.randint(0,60)/10)] for i in range(500)]\n",
    "Xnew=X\n",
    "ynew = model.predict_proba(Xnew)\n",
    "\n",
    "dict_={\n",
    "'UrbanPop%': [i[0] for i in Xnew],\n",
    "'Migrants(net)': [i[1] for i in Xnew],\n",
    "'predict':[i[1] for i in ynew]\n",
    "}\n",
    "ynew = model.predict(Xnew)\n",
    "\n",
    "print('Binary cross entropy loss là : ',log_loss(y, ynew))\n",
    "print('Độ chính xác của mô hình : ',sum(ynew==y)/len(y))"
   ]
  },
  {
   "cell_type": "code",
   "execution_count": 7,
   "metadata": {},
   "outputs": [
    {
     "data": {
      "application/vnd.plotly.v1+json": {
       "config": {
        "plotlyServerURL": "https://plot.ly"
       },
       "data": [
        {
         "hovertemplate": "UrbanPop%=%{x}<br>Migrants(net)=%{y}<br>predict=%{marker.color}<extra></extra>",
         "legendgroup": "",
         "marker": {
          "color": [
           0.27092781818503675,
           0.23113712819176543,
           0.20984600753376376,
           0.18318348538216453,
           0.18394623770876792,
           0.2544660404776666,
           0.16407731135300532,
           0.390598239138403,
           0.1776954089269704,
           0.24785348232088064,
           0.32339724156257704,
           0.4868858948153006,
           0.40245561809468827,
           0.28027655365885495,
           0.18967598250766168,
           0.25145879271721167,
           0.018896618772338492,
           0.3704412599999613,
           0.2198705295166972,
           0.22413057559173905,
           0.31610182728954817,
           0.301707909938994,
           0.1607443913726694,
           0.31551315155562,
           0.22090917036107632,
           0.2536489228971962,
           0.229926768586519,
           0.21446815622947385,
           0.2912586614338325,
           0.20602933463817985,
           0.20990699918533776,
           0.32269158637232864,
           0.4460445057381488,
           0.23760635383173795,
           0.336875026753229,
           0.26932236531692755,
           0.6834218965639417,
           0.21879782388160945,
           0.16120265081455737,
           0.25256360391219945,
           0.40664769362771147,
           0.37898095261502035,
           0.3900652012051294,
           0.0159005995742059,
           0.6116317047911078,
           0.3735903143160274,
           0.22764048778467677,
           0.21792914908903657,
           0.21078222798426213,
           0.2591795416938197,
           0.18899802654753084,
           0.18234615850293062,
           0.2517733943997231,
           0.2588808922728474,
           0.2805665728147789,
           0.3630743430747669,
           0.20397140836403949,
           0.20873721587993183,
           0.22141878576654891,
           0.15443450621406096,
           0.3217162995680155,
           0.25587494958338003,
           0.16721356766116305,
           0.24940754163568607,
           0.19339288734839716,
           0.24647390354280072,
           0.35814262584879836,
           0.4761962171938652,
           0.32412077090631325,
           0.24601097402777722,
           0.2576891573062347,
           0.20805585549389013,
           0.2575735139091657,
           0.1868364027721853,
           0.2503685274647668,
           0.19015330990858506,
           0.2620300188484965,
           0.254496410081391,
           0.971642361291303,
           0.2590288307796202,
           0.16011858457382228,
           0.1704121049245396,
           0.1852229543117227,
           0.35334961750978383,
           0.15321625376229148,
           0.16592595248464828,
           0.27669324684058305,
           0.33388162798192694,
           0.31551416052671044,
           0.375205179422608,
           0.2181634451243238,
           0.15510472878894055,
           0.2625441231439574,
           0.1920770410958949,
           0.23804549253627827,
           0.16820102812078544,
           0.004849354339829521,
           0.13754842907236517,
           0.14559989339096166,
           0.23669396165431097,
           0.2974403148385187,
           0.2877690862721386,
           0.1835238780038376,
           0.53572668531434,
           0.26099655620662926,
           0.28449273266594627,
           0.18818315141483485,
           0.24249983446804294,
           0.36337707820833226,
           0.27400017577181235,
           0.20654256522801592,
           0.3452948849682176,
           0.32376382081241933,
           0.2148635078848508,
           0.16842147284047082,
           0.34888953859744243,
           0.28149276216534785,
           0.20673434385661407,
           0.4383145263949932,
           0.18227887788562053,
           0.19621385146424503,
           0.16078330251552034,
           0.33921692906283907,
           0.38776659455109846,
           0.29185436370877654,
           0.3811552091471618,
           0.24937451255443546,
           0.17172430750495773,
           0.2336416571109885,
           0.17324127564829747,
           0.2847085989654824,
           0.3334802933077132,
           0.3148998275700178,
           0.12403709023884646,
           0.23440894152673683,
           0.32365283930143296,
           0.15488253836340057,
           0.24086832383793688,
           0.24023206336952307,
           0.4592950995458654,
           0.17664425825472213,
           0.3330392542356598,
           0.12098421246465474,
           0.27299989735350993,
           0.15488253836340057,
           0.5017486224922448,
           0.1934883807400453,
           0.22870514012353937,
           0.20711016642801228,
           0.23874110503085982,
           0.439123293808166,
           0.1954059033211152,
           0.31270799147053946,
           0.248131971717601,
           0.2682850937846348,
           0.18267634829109963,
           0.23747608458708572,
           0.33176738959892305,
           0.06488461480919012,
           0.16722350809308756,
           0.25836539613403825,
           0.4428356699655676,
           0.2328364073873835,
           0.3863774315343104,
           0.1974319645791639,
           0.21710522522429956,
           0.2347357603120469,
           0.07130136343174559,
           0.218033259415327,
           0.17027621608444504,
           0.5913320046958621,
           0.4064127544213634,
           0.15386957321423775,
           0.4999205998915694,
           0.3865676377247972,
           0.3639031331644608,
           0.4216838256241529,
           0.4999205998915694,
           0.1553271793790911,
           0.4181007145208913,
           0.1614321760159508,
           0.21914798830333448,
           0.4435336774490789,
           0.26581258397676355,
           0.285319127159206,
           0.2777757733654085,
           0.31600515982122646,
           0.19272721374718024,
           0.1628148717544714,
           0.28943137355424536,
           0.2851572570885455,
           0.399365247871763,
           0.2405890533055751,
           0.5397253461525623,
           0.21689004270535017,
           0.1229860670094793,
           0.26748457057430947,
           0.23459720996342132,
           0.2891456054468697,
           0.18980097985382027,
           0.2615242678101695,
           0.24719798630877404,
           0.24205509915138199,
           0.310948894715639,
           0.008056376218812354,
           0.25493609119005733,
           0.3450096017635895,
           0.27212427411061907,
           0.3330166062076962,
           0.35329601282516315,
           0.32024261289462747,
           0.4999205998915694,
           0.39659608657192597,
           0.2897944743610809,
           0.22704448402573177,
           0.7749551405362819,
           0.281836012413472,
           0.1801570134365133,
           0.2575143700668983,
           0.16273151825566715,
           0.7429945583744199,
           0.2518277288759693,
           0.24770156010980407,
           0.7114889234776859,
           0.9991531373199852,
           0.1601269561384416,
           0.28313615706587164,
           0.39814605832370925,
           0.0005698967953147292,
           0.20582959460610548,
           0.4999205998915694,
           0.19414370532341974,
           0.28533434769093424,
           0.3015635328835033,
           0.155854360029657
          ],
          "coloraxis": "coloraxis",
          "symbol": "circle"
         },
         "mode": "markers",
         "name": "",
         "orientation": "v",
         "showlegend": false,
         "type": "scatter",
         "x": [
          25.4,
          63.5,
          72.9,
          88.1,
          87.8,
          66.7,
          95.95575757575756,
          26.2,
          92.8,
          62.8,
          43.6,
          85.9,
          57.3,
          56.2,
          86.1,
          89.3,
          39.4,
          31.2,
          79.2,
          98.3,
          46.1,
          48.4,
          97.4,
          45.8,
          69.3,
          52.3,
          72.8,
          87.6,
          52.4,
          79.5,
          75.6,
          30.6,
          13.8,
          68,
          24.2,
          56.3,
          81.3,
          75,
          97.2,
          43,
          23.3,
          29.8,
          84.8,
          60.8,
          80.4,
          29.4,
          69.9,
          75.3,
          80,
          57.7,
          78.3,
          88.7,
          66.8,
          73.5,
          51.3,
          45.6,
          88.2,
          79,
          74.1,
          84.5,
          63,
          43,
          73.4,
          73.3,
          63.3,
          67.9,
          30,
          21.3,
          43.3,
          66,
          59.1,
          86.1,
          81.5,
          87.3,
          64.1,
          87.1,
          59.4,
          58.1,
          76.3,
          56.7,
          97.67386934673152,
          84.9,
          87.3,
          35.5,
          100,
          94.9,
          51.8,
          38.6,
          44.9,
          26.9,
          56.9,
          99.9,
          57.3,
          100,
          71.7,
          94.4,
          35,
          56.4,
          75.5,
          73.1,
          63,
          53.4,
          93.2,
          69.5,
          55.4,
          91.8,
          91.5,
          57.7,
          27.8,
          57,
          100,
          35.6,
          35.7,
          68.6,
          78.4,
          31.5,
          52.6,
          78.2,
          14.6,
          71.3,
          88.2,
          100,
          38.5,
          18.5,
          78.4,
          34.5,
          44,
          93.2,
          70,
          91.6,
          56.9,
          40.8,
          45.8,
          83.8,
          68.2,
          42.7,
          100,
          67.2,
          67.6,
          9.6,
          63.8,
          38.3,
          31.4,
          55.2,
          100,
          21.4,
          92.5,
          71.9,
          86.9,
          57.2,
          16.5,
          52,
          46.4,
          62.5,
          58.6,
          88.3,
          83.4,
          87,
          35.1,
          94.61390525840692,
          68,
          13.1,
          61.6,
          79.1,
          47.5,
          60.2,
          66.5,
          100,
          96.2,
          54.6,
          73.7,
          17.6,
          99.8,
          0,
          27.2,
          32.9,
          18.6,
          0,
          99.8,
          18,
          97.1,
          74,
          84,
          49.4,
          56.2,
          56.2,
          43.3,
          98.56000291488353,
          96.5,
          53.7,
          55.2,
          23.2,
          46.8,
          66.7,
          81.8,
          24.6,
          80.3,
          18.4,
          52.9,
          80,
          35,
          65.1,
          88.2,
          74.1,
          60,
          78.9,
          27.3,
          37,
          51.1,
          32.8,
          43.3,
          0,
          24.3,
          52.4,
          70.1,
          75.7,
          52.5,
          89.3,
          62.4,
          96.3,
          25.7,
          69.4,
          86.4,
          83.2,
          82.8,
          96.1,
          50.1,
          24.4,
          98.36103859251055,
          37.7,
          0,
          86.8,
          38.4,
          45.3,
          38.4
         ],
         "xaxis": "x",
         "y": [
          -62920,
          -14000,
          -10000,
          0,
          0,
          6413,
          0,
          0,
          4800,
          -4998,
          201,
          158246,
          65000,
          1200,
          1000,
          47800,
          -369501,
          -79,
          8730,
          48000,
          1200,
          -2000,
          0,
          320,
          -9504,
          -21585,
          3000,
          21200,
          0,
          0,
          -4800,
          -25000,
          2001,
          -1342,
          -30000,
          -4800,
          242032,
          0,
          0,
          -40000,
          2000,
          1351,
          111708,
          -348399,
          204796,
          -2000,
          -4000,
          0,
          4200,
          -8001,
          -14400,
          515,
          5000,
          22011,
          -8000,
          23861,
          15200,
          900,
          0,
          -30000,
          36400,
          -38033,
          -40539,
          16000,
          -39858,
          3911,
          -8353,
          30000,
          0,
          0,
          -6202,
          14000,
          36527,
          1200,
          -1000,
          3260,
          -3087,
          -10000,
          543822,
          -10000,
          0,
          -16000,
          0,
          -200,
          -1440,
          -506,
          -9215,
          -4000,
          -1399,
          -6000,
          -35000,
          0,
          -6800,
          29308,
          6000,
          380,
          -532687,
          -98955,
          -55000,
          7834,
          23604,
          0,
          10000,
          148943,
          -11332,
          71560,
          10220,
          -18000,
          -10000,
          -800,
          39520,
          -4000,
          -14704,
          -14837,
          -30012,
          -10047,
          -5000,
          -1999,
          0,
          -32780,
          9741,
          5000,
          -1500,
          -16053,
          50000,
          11370,
          -40000,
          900,
          0,
          -960,
          5000,
          0,
          0,
          -60000,
          -2957,
          -1387,
          0,
          -852,
          -480,
          0,
          -51419,
          -5000,
          -163313,
          -4806,
          0,
          41710,
          16000,
          502,
          14881,
          -21272,
          4000,
          -60000,
          0,
          -5403,
          -1000,
          0,
          28000,
          87400,
          -233379,
          0,
          11200,
          -800,
          -16556,
          99069,
          -67152,
          -29395,
          -6000,
          -97986,
          40000,
          -73999,
          182456,
          -9000,
          -1256,
          0,
          0,
          0,
          0,
          0,
          0,
          -2803,
          0,
          -1680,
          134979,
          -20000,
          4000,
          -200,
          -4200,
          27028,
          0,
          1485,
          2000,
          -1600,
          -40000,
          145405,
          11731,
          -174200,
          40000,
          -97986,
          -200,
          -10563,
          -50000,
          -1000,
          40000,
          52000,
          -427391,
          30001,
          -20000,
          -40076,
          19444,
          -5385,
          -2000,
          0,
          -800,
          -800,
          -4000,
          283922,
          -5000,
          0,
          0,
          -451,
          168694,
          10000,
          40000,
          260650,
          954806,
          -3000,
          -8863,
          120,
          -653249,
          -80000,
          0,
          5582,
          -30000,
          -8000,
          -116858
         ],
         "yaxis": "y"
        }
       ],
       "layout": {
        "coloraxis": {
         "colorbar": {
          "title": {
           "text": "predict"
          }
         },
         "colorscale": [
          [
           0,
           "#0d0887"
          ],
          [
           0.1111111111111111,
           "#46039f"
          ],
          [
           0.2222222222222222,
           "#7201a8"
          ],
          [
           0.3333333333333333,
           "#9c179e"
          ],
          [
           0.4444444444444444,
           "#bd3786"
          ],
          [
           0.5555555555555556,
           "#d8576b"
          ],
          [
           0.6666666666666666,
           "#ed7953"
          ],
          [
           0.7777777777777778,
           "#fb9f3a"
          ],
          [
           0.8888888888888888,
           "#fdca26"
          ],
          [
           1,
           "#f0f921"
          ]
         ]
        },
        "legend": {
         "tracegroupgap": 0
        },
        "margin": {
         "t": 60
        },
        "template": {
         "data": {
          "bar": [
           {
            "error_x": {
             "color": "#2a3f5f"
            },
            "error_y": {
             "color": "#2a3f5f"
            },
            "marker": {
             "line": {
              "color": "#E5ECF6",
              "width": 0.5
             },
             "pattern": {
              "fillmode": "overlay",
              "size": 10,
              "solidity": 0.2
             }
            },
            "type": "bar"
           }
          ],
          "barpolar": [
           {
            "marker": {
             "line": {
              "color": "#E5ECF6",
              "width": 0.5
             },
             "pattern": {
              "fillmode": "overlay",
              "size": 10,
              "solidity": 0.2
             }
            },
            "type": "barpolar"
           }
          ],
          "carpet": [
           {
            "aaxis": {
             "endlinecolor": "#2a3f5f",
             "gridcolor": "white",
             "linecolor": "white",
             "minorgridcolor": "white",
             "startlinecolor": "#2a3f5f"
            },
            "baxis": {
             "endlinecolor": "#2a3f5f",
             "gridcolor": "white",
             "linecolor": "white",
             "minorgridcolor": "white",
             "startlinecolor": "#2a3f5f"
            },
            "type": "carpet"
           }
          ],
          "choropleth": [
           {
            "colorbar": {
             "outlinewidth": 0,
             "ticks": ""
            },
            "type": "choropleth"
           }
          ],
          "contour": [
           {
            "colorbar": {
             "outlinewidth": 0,
             "ticks": ""
            },
            "colorscale": [
             [
              0,
              "#0d0887"
             ],
             [
              0.1111111111111111,
              "#46039f"
             ],
             [
              0.2222222222222222,
              "#7201a8"
             ],
             [
              0.3333333333333333,
              "#9c179e"
             ],
             [
              0.4444444444444444,
              "#bd3786"
             ],
             [
              0.5555555555555556,
              "#d8576b"
             ],
             [
              0.6666666666666666,
              "#ed7953"
             ],
             [
              0.7777777777777778,
              "#fb9f3a"
             ],
             [
              0.8888888888888888,
              "#fdca26"
             ],
             [
              1,
              "#f0f921"
             ]
            ],
            "type": "contour"
           }
          ],
          "contourcarpet": [
           {
            "colorbar": {
             "outlinewidth": 0,
             "ticks": ""
            },
            "type": "contourcarpet"
           }
          ],
          "heatmap": [
           {
            "colorbar": {
             "outlinewidth": 0,
             "ticks": ""
            },
            "colorscale": [
             [
              0,
              "#0d0887"
             ],
             [
              0.1111111111111111,
              "#46039f"
             ],
             [
              0.2222222222222222,
              "#7201a8"
             ],
             [
              0.3333333333333333,
              "#9c179e"
             ],
             [
              0.4444444444444444,
              "#bd3786"
             ],
             [
              0.5555555555555556,
              "#d8576b"
             ],
             [
              0.6666666666666666,
              "#ed7953"
             ],
             [
              0.7777777777777778,
              "#fb9f3a"
             ],
             [
              0.8888888888888888,
              "#fdca26"
             ],
             [
              1,
              "#f0f921"
             ]
            ],
            "type": "heatmap"
           }
          ],
          "heatmapgl": [
           {
            "colorbar": {
             "outlinewidth": 0,
             "ticks": ""
            },
            "colorscale": [
             [
              0,
              "#0d0887"
             ],
             [
              0.1111111111111111,
              "#46039f"
             ],
             [
              0.2222222222222222,
              "#7201a8"
             ],
             [
              0.3333333333333333,
              "#9c179e"
             ],
             [
              0.4444444444444444,
              "#bd3786"
             ],
             [
              0.5555555555555556,
              "#d8576b"
             ],
             [
              0.6666666666666666,
              "#ed7953"
             ],
             [
              0.7777777777777778,
              "#fb9f3a"
             ],
             [
              0.8888888888888888,
              "#fdca26"
             ],
             [
              1,
              "#f0f921"
             ]
            ],
            "type": "heatmapgl"
           }
          ],
          "histogram": [
           {
            "marker": {
             "pattern": {
              "fillmode": "overlay",
              "size": 10,
              "solidity": 0.2
             }
            },
            "type": "histogram"
           }
          ],
          "histogram2d": [
           {
            "colorbar": {
             "outlinewidth": 0,
             "ticks": ""
            },
            "colorscale": [
             [
              0,
              "#0d0887"
             ],
             [
              0.1111111111111111,
              "#46039f"
             ],
             [
              0.2222222222222222,
              "#7201a8"
             ],
             [
              0.3333333333333333,
              "#9c179e"
             ],
             [
              0.4444444444444444,
              "#bd3786"
             ],
             [
              0.5555555555555556,
              "#d8576b"
             ],
             [
              0.6666666666666666,
              "#ed7953"
             ],
             [
              0.7777777777777778,
              "#fb9f3a"
             ],
             [
              0.8888888888888888,
              "#fdca26"
             ],
             [
              1,
              "#f0f921"
             ]
            ],
            "type": "histogram2d"
           }
          ],
          "histogram2dcontour": [
           {
            "colorbar": {
             "outlinewidth": 0,
             "ticks": ""
            },
            "colorscale": [
             [
              0,
              "#0d0887"
             ],
             [
              0.1111111111111111,
              "#46039f"
             ],
             [
              0.2222222222222222,
              "#7201a8"
             ],
             [
              0.3333333333333333,
              "#9c179e"
             ],
             [
              0.4444444444444444,
              "#bd3786"
             ],
             [
              0.5555555555555556,
              "#d8576b"
             ],
             [
              0.6666666666666666,
              "#ed7953"
             ],
             [
              0.7777777777777778,
              "#fb9f3a"
             ],
             [
              0.8888888888888888,
              "#fdca26"
             ],
             [
              1,
              "#f0f921"
             ]
            ],
            "type": "histogram2dcontour"
           }
          ],
          "mesh3d": [
           {
            "colorbar": {
             "outlinewidth": 0,
             "ticks": ""
            },
            "type": "mesh3d"
           }
          ],
          "parcoords": [
           {
            "line": {
             "colorbar": {
              "outlinewidth": 0,
              "ticks": ""
             }
            },
            "type": "parcoords"
           }
          ],
          "pie": [
           {
            "automargin": true,
            "type": "pie"
           }
          ],
          "scatter": [
           {
            "fillpattern": {
             "fillmode": "overlay",
             "size": 10,
             "solidity": 0.2
            },
            "type": "scatter"
           }
          ],
          "scatter3d": [
           {
            "line": {
             "colorbar": {
              "outlinewidth": 0,
              "ticks": ""
             }
            },
            "marker": {
             "colorbar": {
              "outlinewidth": 0,
              "ticks": ""
             }
            },
            "type": "scatter3d"
           }
          ],
          "scattercarpet": [
           {
            "marker": {
             "colorbar": {
              "outlinewidth": 0,
              "ticks": ""
             }
            },
            "type": "scattercarpet"
           }
          ],
          "scattergeo": [
           {
            "marker": {
             "colorbar": {
              "outlinewidth": 0,
              "ticks": ""
             }
            },
            "type": "scattergeo"
           }
          ],
          "scattergl": [
           {
            "marker": {
             "colorbar": {
              "outlinewidth": 0,
              "ticks": ""
             }
            },
            "type": "scattergl"
           }
          ],
          "scattermapbox": [
           {
            "marker": {
             "colorbar": {
              "outlinewidth": 0,
              "ticks": ""
             }
            },
            "type": "scattermapbox"
           }
          ],
          "scatterpolar": [
           {
            "marker": {
             "colorbar": {
              "outlinewidth": 0,
              "ticks": ""
             }
            },
            "type": "scatterpolar"
           }
          ],
          "scatterpolargl": [
           {
            "marker": {
             "colorbar": {
              "outlinewidth": 0,
              "ticks": ""
             }
            },
            "type": "scatterpolargl"
           }
          ],
          "scatterternary": [
           {
            "marker": {
             "colorbar": {
              "outlinewidth": 0,
              "ticks": ""
             }
            },
            "type": "scatterternary"
           }
          ],
          "surface": [
           {
            "colorbar": {
             "outlinewidth": 0,
             "ticks": ""
            },
            "colorscale": [
             [
              0,
              "#0d0887"
             ],
             [
              0.1111111111111111,
              "#46039f"
             ],
             [
              0.2222222222222222,
              "#7201a8"
             ],
             [
              0.3333333333333333,
              "#9c179e"
             ],
             [
              0.4444444444444444,
              "#bd3786"
             ],
             [
              0.5555555555555556,
              "#d8576b"
             ],
             [
              0.6666666666666666,
              "#ed7953"
             ],
             [
              0.7777777777777778,
              "#fb9f3a"
             ],
             [
              0.8888888888888888,
              "#fdca26"
             ],
             [
              1,
              "#f0f921"
             ]
            ],
            "type": "surface"
           }
          ],
          "table": [
           {
            "cells": {
             "fill": {
              "color": "#EBF0F8"
             },
             "line": {
              "color": "white"
             }
            },
            "header": {
             "fill": {
              "color": "#C8D4E3"
             },
             "line": {
              "color": "white"
             }
            },
            "type": "table"
           }
          ]
         },
         "layout": {
          "annotationdefaults": {
           "arrowcolor": "#2a3f5f",
           "arrowhead": 0,
           "arrowwidth": 1
          },
          "autotypenumbers": "strict",
          "coloraxis": {
           "colorbar": {
            "outlinewidth": 0,
            "ticks": ""
           }
          },
          "colorscale": {
           "diverging": [
            [
             0,
             "#8e0152"
            ],
            [
             0.1,
             "#c51b7d"
            ],
            [
             0.2,
             "#de77ae"
            ],
            [
             0.3,
             "#f1b6da"
            ],
            [
             0.4,
             "#fde0ef"
            ],
            [
             0.5,
             "#f7f7f7"
            ],
            [
             0.6,
             "#e6f5d0"
            ],
            [
             0.7,
             "#b8e186"
            ],
            [
             0.8,
             "#7fbc41"
            ],
            [
             0.9,
             "#4d9221"
            ],
            [
             1,
             "#276419"
            ]
           ],
           "sequential": [
            [
             0,
             "#0d0887"
            ],
            [
             0.1111111111111111,
             "#46039f"
            ],
            [
             0.2222222222222222,
             "#7201a8"
            ],
            [
             0.3333333333333333,
             "#9c179e"
            ],
            [
             0.4444444444444444,
             "#bd3786"
            ],
            [
             0.5555555555555556,
             "#d8576b"
            ],
            [
             0.6666666666666666,
             "#ed7953"
            ],
            [
             0.7777777777777778,
             "#fb9f3a"
            ],
            [
             0.8888888888888888,
             "#fdca26"
            ],
            [
             1,
             "#f0f921"
            ]
           ],
           "sequentialminus": [
            [
             0,
             "#0d0887"
            ],
            [
             0.1111111111111111,
             "#46039f"
            ],
            [
             0.2222222222222222,
             "#7201a8"
            ],
            [
             0.3333333333333333,
             "#9c179e"
            ],
            [
             0.4444444444444444,
             "#bd3786"
            ],
            [
             0.5555555555555556,
             "#d8576b"
            ],
            [
             0.6666666666666666,
             "#ed7953"
            ],
            [
             0.7777777777777778,
             "#fb9f3a"
            ],
            [
             0.8888888888888888,
             "#fdca26"
            ],
            [
             1,
             "#f0f921"
            ]
           ]
          },
          "colorway": [
           "#636efa",
           "#EF553B",
           "#00cc96",
           "#ab63fa",
           "#FFA15A",
           "#19d3f3",
           "#FF6692",
           "#B6E880",
           "#FF97FF",
           "#FECB52"
          ],
          "font": {
           "color": "#2a3f5f"
          },
          "geo": {
           "bgcolor": "white",
           "lakecolor": "white",
           "landcolor": "#E5ECF6",
           "showlakes": true,
           "showland": true,
           "subunitcolor": "white"
          },
          "hoverlabel": {
           "align": "left"
          },
          "hovermode": "closest",
          "mapbox": {
           "style": "light"
          },
          "paper_bgcolor": "white",
          "plot_bgcolor": "#E5ECF6",
          "polar": {
           "angularaxis": {
            "gridcolor": "white",
            "linecolor": "white",
            "ticks": ""
           },
           "bgcolor": "#E5ECF6",
           "radialaxis": {
            "gridcolor": "white",
            "linecolor": "white",
            "ticks": ""
           }
          },
          "scene": {
           "xaxis": {
            "backgroundcolor": "#E5ECF6",
            "gridcolor": "white",
            "gridwidth": 2,
            "linecolor": "white",
            "showbackground": true,
            "ticks": "",
            "zerolinecolor": "white"
           },
           "yaxis": {
            "backgroundcolor": "#E5ECF6",
            "gridcolor": "white",
            "gridwidth": 2,
            "linecolor": "white",
            "showbackground": true,
            "ticks": "",
            "zerolinecolor": "white"
           },
           "zaxis": {
            "backgroundcolor": "#E5ECF6",
            "gridcolor": "white",
            "gridwidth": 2,
            "linecolor": "white",
            "showbackground": true,
            "ticks": "",
            "zerolinecolor": "white"
           }
          },
          "shapedefaults": {
           "line": {
            "color": "#2a3f5f"
           }
          },
          "ternary": {
           "aaxis": {
            "gridcolor": "white",
            "linecolor": "white",
            "ticks": ""
           },
           "baxis": {
            "gridcolor": "white",
            "linecolor": "white",
            "ticks": ""
           },
           "bgcolor": "#E5ECF6",
           "caxis": {
            "gridcolor": "white",
            "linecolor": "white",
            "ticks": ""
           }
          },
          "title": {
           "x": 0.05
          },
          "xaxis": {
           "automargin": true,
           "gridcolor": "white",
           "linecolor": "white",
           "ticks": "",
           "title": {
            "standoff": 15
           },
           "zerolinecolor": "white",
           "zerolinewidth": 2
          },
          "yaxis": {
           "automargin": true,
           "gridcolor": "white",
           "linecolor": "white",
           "ticks": "",
           "title": {
            "standoff": 15
           },
           "zerolinecolor": "white",
           "zerolinewidth": 2
          }
         }
        },
        "title": {
         "text": "Kiểm tra bài toán phân lớp bằng thuộc tính UrbanPop% và Migrants(net)",
         "x": 0.45,
         "xanchor": "center",
         "y": 0.95,
         "yanchor": "top"
        },
        "xaxis": {
         "anchor": "y",
         "domain": [
          0,
          1
         ],
         "title": {
          "text": "UrbanPop%"
         }
        },
        "yaxis": {
         "anchor": "x",
         "domain": [
          0,
          1
         ],
         "title": {
          "text": "Migrants(net)"
         }
        }
       }
      }
     },
     "metadata": {},
     "output_type": "display_data"
    }
   ],
   "source": [
    "fig=px.scatter(dict_, x=\"UrbanPop%\", y=\"Migrants(net)\",\n",
    "        color=\"predict\")\n",
    "fig.update_layout(\n",
    "    title={\n",
    "        'text': \"Kiểm tra bài toán phân lớp bằng thuộc tính UrbanPop% và Migrants(net)\",\n",
    "        'y':0.95,\n",
    "        'x':0.45,\n",
    "        'xanchor': 'center',\n",
    "        'yanchor': 'top'})\n",
    "fig.show()"
   ]
  },
  {
   "attachments": {},
   "cell_type": "markdown",
   "metadata": {},
   "source": [
    "Phân lớp dựa vào FertilityRate và Yearly%Change (drop FertilityRate==0 )"
   ]
  },
  {
   "cell_type": "code",
   "execution_count": 8,
   "metadata": {},
   "outputs": [
    {
     "data": {
      "application/vnd.plotly.v1+json": {
       "config": {
        "plotlyServerURL": "https://plot.ly"
       },
       "data": [
        {
         "hovertemplate": "Yearly%Change=%{x}<br>FertilityRate=%{y}<br>BestToLive=%{marker.color}<extra></extra>",
         "legendgroup": "",
         "marker": {
          "color": [
           0,
           0,
           0,
           0,
           0,
           1,
           0,
           0,
           1,
           1,
           0,
           0,
           0,
           0,
           0,
           0,
           1,
           0,
           0,
           0,
           0,
           0,
           0,
           1,
           0,
           0,
           0,
           0,
           0,
           0,
           0,
           1,
           0,
           0,
           0,
           1,
           1,
           0,
           0,
           0,
           1,
           1,
           0,
           0,
           0,
           0,
           0,
           0,
           1,
           0,
           0,
           0,
           1,
           0,
           0,
           0,
           0,
           0,
           0,
           0,
           1,
           1,
           0,
           0,
           0,
           0,
           0,
           1,
           0,
           1,
           0,
           0,
           0,
           0,
           0,
           0,
           0,
           0,
           0,
           0,
           1,
           0,
           1,
           1,
           0,
           0,
           1,
           1,
           1,
           0,
           1,
           0,
           0,
           0,
           0,
           0,
           0,
           0,
           0,
           0,
           0,
           0,
           0,
           0,
           1,
           0,
           0,
           0,
           1,
           0,
           0,
           0,
           0,
           0,
           0,
           0,
           1,
           0,
           0,
           0,
           0,
           1,
           0,
           0,
           0,
           0,
           1,
           0,
           1,
           0,
           0,
           0,
           0,
           0,
           1,
           0,
           0,
           0,
           0,
           0,
           1,
           1,
           1,
           1,
           0,
           1,
           0,
           1,
           0,
           0,
           0,
           0,
           0,
           1,
           0,
           0,
           0,
           0,
           1,
           0,
           0,
           0,
           0,
           1,
           1,
           0,
           1,
           0,
           0,
           0,
           0,
           0,
           1,
           1,
           0,
           0,
           0,
           0,
           1,
           0,
           0,
           0,
           0,
           0,
           1,
           0,
           0,
           0,
           0,
           1,
           1,
           1,
           0,
           0,
           0,
           0,
           1,
           0,
           0,
           0,
           0
          ],
          "coloraxis": "coloraxis",
          "symbol": "circle"
         },
         "mode": "markers",
         "name": "",
         "orientation": "v",
         "showlegend": false,
         "type": "scatter",
         "x": [
          2.33,
          -0.11,
          1.85,
          3.27,
          0.84,
          0.93,
          0.19,
          0.43,
          1.18,
          0.57,
          0.91,
          0.97,
          3.68,
          1.01,
          0.12,
          -0.03,
          0.44,
          1.86,
          2.73,
          1.12,
          1.39,
          -0.61,
          2.08,
          0.72,
          0.97,
          -0.74,
          2.86,
          3.12,
          1.1,
          1.41,
          2.59,
          0.89,
          1.78,
          3,
          0.93,
          0.87,
          0.39,
          1.08,
          2.2,
          2.56,
          0.92,
          -0.61,
          -0.06,
          0.41,
          0.73,
          0.18,
          2.57,
          3.19,
          0.35,
          1.48,
          1.01,
          1.55,
          1.94,
          0.51,
          3.47,
          1.41,
          0.07,
          1.05,
          2.57,
          0.73,
          0.15,
          0.22,
          2.7,
          0.58,
          2.45,
          2.94,
          -0.19,
          0.32,
          2.15,
          -0.48,
          0.46,
          0.02,
          0.89,
          1.9,
          2.83,
          2.45,
          0.48,
          1.24,
          1.63,
          0.82,
          -0.25,
          0.65,
          0.99,
          1.07,
          1.3,
          2.32,
          1.13,
          1.6,
          -0.15,
          0.44,
          -0.3,
          1,
          1.21,
          2.28,
          1.57,
          1.51,
          1.69,
          1.48,
          -1.08,
          -0.44,
          0.8,
          2.44,
          1.38,
          -1.35,
          1.66,
          1.39,
          2.68,
          2.69,
          1.3,
          1.81,
          3.02,
          0.27,
          -0.08,
          2.74,
          0.17,
          2.5,
          1.06,
          1,
          -0.23,
          1.65,
          0.01,
          1.2,
          2.93,
          0.67,
          1.86,
          1.85,
          0.22,
          0.97,
          0.82,
          1.21,
          3.84,
          2.58,
          0.44,
          0,
          0.79,
          2.65,
          2,
          1.61,
          1.95,
          1.25,
          1.42,
          1.35,
          -0.11,
          -0.29,
          -2.47,
          1.73,
          -0.66,
          0.04,
          2.58,
          0.72,
          0.46,
          0.67,
          1.91,
          1.59,
          2.75,
          -0.4,
          0.62,
          2.1,
          0.79,
          0.05,
          0.01,
          2.55,
          2.92,
          1.28,
          0.09,
          1.19,
          0.04,
          0.42,
          0.32,
          2.41,
          2.42,
          0.9,
          0.63,
          0.74,
          2.52,
          0.18,
          2.32,
          2.98,
          0.25,
          1.96,
          2.43,
          1.15,
          0.32,
          1.06,
          1.09,
          1.5,
          -0.15,
          3.32,
          -0.59,
          1.23,
          0.53,
          0.59,
          0.35,
          1.48,
          2.42,
          -0.28,
          0.91,
          2.55,
          2.28,
          2.93,
          1.48
         ],
         "xaxis": "x",
         "y": [
          4.56,
          1.62,
          3.05,
          5.55,
          2,
          2.27,
          1.76,
          1.9,
          1.83,
          1.53,
          2.08,
          1.76,
          2,
          2.05,
          1.62,
          1.71,
          1.71,
          2.32,
          4.87,
          2,
          2.75,
          1.27,
          2.89,
          1.74,
          1.85,
          1.56,
          5.23,
          5.45,
          2.29,
          2.52,
          4.6,
          1.53,
          4.75,
          5.8,
          1.5,
          1.65,
          1.69,
          1.82,
          4.24,
          4.45,
          1.76,
          1.45,
          1.62,
          1.76,
          1.34,
          1.64,
          4.68,
          5.96,
          1.76,
          2.76,
          2.36,
          2.44,
          3.33,
          2.05,
          4.55,
          4.1,
          1.59,
          3.03,
          4.3,
          2.79,
          1.53,
          1.85,
          3.36,
          1.95,
          4,
          5.25,
          2.06,
          1.59,
          3.89,
          1.3,
          2.07,
          2.17,
          2.32,
          2.9,
          4.74,
          4.51,
          2.47,
          2.96,
          2.49,
          1.33,
          1.49,
          1.77,
          2.24,
          2.32,
          2.15,
          3.68,
          1.84,
          3.04,
          1.33,
          1.99,
          1.37,
          2.77,
          2.76,
          3.52,
          3.58,
          2.1,
          3,
          2.7,
          1.72,
          2.09,
          3.16,
          4.35,
          2.25,
          1.67,
          1.45,
          1.2,
          4.11,
          4.25,
          2.01,
          1.88,
          5.92,
          1.45,
          1.88,
          4.59,
          1.39,
          3.73,
          2.14,
          2.99,
          1.26,
          2.9,
          1.75,
          2.42,
          4.89,
          2.17,
          3.42,
          1.93,
          1.66,
          1.97,
          1.9,
          2.42,
          6.95,
          5.42,
          1.91,
          1.5,
          1.68,
          2.93,
          3.55,
          2.47,
          3.59,
          2.45,
          2.27,
          2.58,
          1.42,
          1.29,
          1.22,
          1.88,
          1.62,
          1.82,
          4.1,
          2.27,
          1.44,
          3.9,
          4.35,
          2.34,
          4.65,
          1.46,
          2.46,
          4.32,
          1.21,
          1.5,
          1.6,
          4.44,
          6.12,
          2.41,
          1.11,
          4.74,
          1.33,
          2.21,
          1.9,
          3.67,
          4.43,
          2.43,
          1.85,
          1.54,
          2.84,
          1.15,
          3.61,
          4.92,
          1.53,
          4.1,
          4.35,
          3.58,
          1.73,
          2.2,
          2.08,
          2.79,
          2.05,
          5.01,
          1.44,
          1.42,
          1.75,
          1.78,
          1.98,
          2.43,
          3.8,
          2.28,
          2.06,
          2.41,
          3.84,
          4.66,
          3.63
         ],
         "yaxis": "y"
        }
       ],
       "layout": {
        "coloraxis": {
         "colorbar": {
          "title": {
           "text": "BestToLive"
          }
         },
         "colorscale": [
          [
           0,
           "#0d0887"
          ],
          [
           0.1111111111111111,
           "#46039f"
          ],
          [
           0.2222222222222222,
           "#7201a8"
          ],
          [
           0.3333333333333333,
           "#9c179e"
          ],
          [
           0.4444444444444444,
           "#bd3786"
          ],
          [
           0.5555555555555556,
           "#d8576b"
          ],
          [
           0.6666666666666666,
           "#ed7953"
          ],
          [
           0.7777777777777778,
           "#fb9f3a"
          ],
          [
           0.8888888888888888,
           "#fdca26"
          ],
          [
           1,
           "#f0f921"
          ]
         ]
        },
        "legend": {
         "tracegroupgap": 0
        },
        "margin": {
         "t": 60
        },
        "template": {
         "data": {
          "bar": [
           {
            "error_x": {
             "color": "#2a3f5f"
            },
            "error_y": {
             "color": "#2a3f5f"
            },
            "marker": {
             "line": {
              "color": "#E5ECF6",
              "width": 0.5
             },
             "pattern": {
              "fillmode": "overlay",
              "size": 10,
              "solidity": 0.2
             }
            },
            "type": "bar"
           }
          ],
          "barpolar": [
           {
            "marker": {
             "line": {
              "color": "#E5ECF6",
              "width": 0.5
             },
             "pattern": {
              "fillmode": "overlay",
              "size": 10,
              "solidity": 0.2
             }
            },
            "type": "barpolar"
           }
          ],
          "carpet": [
           {
            "aaxis": {
             "endlinecolor": "#2a3f5f",
             "gridcolor": "white",
             "linecolor": "white",
             "minorgridcolor": "white",
             "startlinecolor": "#2a3f5f"
            },
            "baxis": {
             "endlinecolor": "#2a3f5f",
             "gridcolor": "white",
             "linecolor": "white",
             "minorgridcolor": "white",
             "startlinecolor": "#2a3f5f"
            },
            "type": "carpet"
           }
          ],
          "choropleth": [
           {
            "colorbar": {
             "outlinewidth": 0,
             "ticks": ""
            },
            "type": "choropleth"
           }
          ],
          "contour": [
           {
            "colorbar": {
             "outlinewidth": 0,
             "ticks": ""
            },
            "colorscale": [
             [
              0,
              "#0d0887"
             ],
             [
              0.1111111111111111,
              "#46039f"
             ],
             [
              0.2222222222222222,
              "#7201a8"
             ],
             [
              0.3333333333333333,
              "#9c179e"
             ],
             [
              0.4444444444444444,
              "#bd3786"
             ],
             [
              0.5555555555555556,
              "#d8576b"
             ],
             [
              0.6666666666666666,
              "#ed7953"
             ],
             [
              0.7777777777777778,
              "#fb9f3a"
             ],
             [
              0.8888888888888888,
              "#fdca26"
             ],
             [
              1,
              "#f0f921"
             ]
            ],
            "type": "contour"
           }
          ],
          "contourcarpet": [
           {
            "colorbar": {
             "outlinewidth": 0,
             "ticks": ""
            },
            "type": "contourcarpet"
           }
          ],
          "heatmap": [
           {
            "colorbar": {
             "outlinewidth": 0,
             "ticks": ""
            },
            "colorscale": [
             [
              0,
              "#0d0887"
             ],
             [
              0.1111111111111111,
              "#46039f"
             ],
             [
              0.2222222222222222,
              "#7201a8"
             ],
             [
              0.3333333333333333,
              "#9c179e"
             ],
             [
              0.4444444444444444,
              "#bd3786"
             ],
             [
              0.5555555555555556,
              "#d8576b"
             ],
             [
              0.6666666666666666,
              "#ed7953"
             ],
             [
              0.7777777777777778,
              "#fb9f3a"
             ],
             [
              0.8888888888888888,
              "#fdca26"
             ],
             [
              1,
              "#f0f921"
             ]
            ],
            "type": "heatmap"
           }
          ],
          "heatmapgl": [
           {
            "colorbar": {
             "outlinewidth": 0,
             "ticks": ""
            },
            "colorscale": [
             [
              0,
              "#0d0887"
             ],
             [
              0.1111111111111111,
              "#46039f"
             ],
             [
              0.2222222222222222,
              "#7201a8"
             ],
             [
              0.3333333333333333,
              "#9c179e"
             ],
             [
              0.4444444444444444,
              "#bd3786"
             ],
             [
              0.5555555555555556,
              "#d8576b"
             ],
             [
              0.6666666666666666,
              "#ed7953"
             ],
             [
              0.7777777777777778,
              "#fb9f3a"
             ],
             [
              0.8888888888888888,
              "#fdca26"
             ],
             [
              1,
              "#f0f921"
             ]
            ],
            "type": "heatmapgl"
           }
          ],
          "histogram": [
           {
            "marker": {
             "pattern": {
              "fillmode": "overlay",
              "size": 10,
              "solidity": 0.2
             }
            },
            "type": "histogram"
           }
          ],
          "histogram2d": [
           {
            "colorbar": {
             "outlinewidth": 0,
             "ticks": ""
            },
            "colorscale": [
             [
              0,
              "#0d0887"
             ],
             [
              0.1111111111111111,
              "#46039f"
             ],
             [
              0.2222222222222222,
              "#7201a8"
             ],
             [
              0.3333333333333333,
              "#9c179e"
             ],
             [
              0.4444444444444444,
              "#bd3786"
             ],
             [
              0.5555555555555556,
              "#d8576b"
             ],
             [
              0.6666666666666666,
              "#ed7953"
             ],
             [
              0.7777777777777778,
              "#fb9f3a"
             ],
             [
              0.8888888888888888,
              "#fdca26"
             ],
             [
              1,
              "#f0f921"
             ]
            ],
            "type": "histogram2d"
           }
          ],
          "histogram2dcontour": [
           {
            "colorbar": {
             "outlinewidth": 0,
             "ticks": ""
            },
            "colorscale": [
             [
              0,
              "#0d0887"
             ],
             [
              0.1111111111111111,
              "#46039f"
             ],
             [
              0.2222222222222222,
              "#7201a8"
             ],
             [
              0.3333333333333333,
              "#9c179e"
             ],
             [
              0.4444444444444444,
              "#bd3786"
             ],
             [
              0.5555555555555556,
              "#d8576b"
             ],
             [
              0.6666666666666666,
              "#ed7953"
             ],
             [
              0.7777777777777778,
              "#fb9f3a"
             ],
             [
              0.8888888888888888,
              "#fdca26"
             ],
             [
              1,
              "#f0f921"
             ]
            ],
            "type": "histogram2dcontour"
           }
          ],
          "mesh3d": [
           {
            "colorbar": {
             "outlinewidth": 0,
             "ticks": ""
            },
            "type": "mesh3d"
           }
          ],
          "parcoords": [
           {
            "line": {
             "colorbar": {
              "outlinewidth": 0,
              "ticks": ""
             }
            },
            "type": "parcoords"
           }
          ],
          "pie": [
           {
            "automargin": true,
            "type": "pie"
           }
          ],
          "scatter": [
           {
            "fillpattern": {
             "fillmode": "overlay",
             "size": 10,
             "solidity": 0.2
            },
            "type": "scatter"
           }
          ],
          "scatter3d": [
           {
            "line": {
             "colorbar": {
              "outlinewidth": 0,
              "ticks": ""
             }
            },
            "marker": {
             "colorbar": {
              "outlinewidth": 0,
              "ticks": ""
             }
            },
            "type": "scatter3d"
           }
          ],
          "scattercarpet": [
           {
            "marker": {
             "colorbar": {
              "outlinewidth": 0,
              "ticks": ""
             }
            },
            "type": "scattercarpet"
           }
          ],
          "scattergeo": [
           {
            "marker": {
             "colorbar": {
              "outlinewidth": 0,
              "ticks": ""
             }
            },
            "type": "scattergeo"
           }
          ],
          "scattergl": [
           {
            "marker": {
             "colorbar": {
              "outlinewidth": 0,
              "ticks": ""
             }
            },
            "type": "scattergl"
           }
          ],
          "scattermapbox": [
           {
            "marker": {
             "colorbar": {
              "outlinewidth": 0,
              "ticks": ""
             }
            },
            "type": "scattermapbox"
           }
          ],
          "scatterpolar": [
           {
            "marker": {
             "colorbar": {
              "outlinewidth": 0,
              "ticks": ""
             }
            },
            "type": "scatterpolar"
           }
          ],
          "scatterpolargl": [
           {
            "marker": {
             "colorbar": {
              "outlinewidth": 0,
              "ticks": ""
             }
            },
            "type": "scatterpolargl"
           }
          ],
          "scatterternary": [
           {
            "marker": {
             "colorbar": {
              "outlinewidth": 0,
              "ticks": ""
             }
            },
            "type": "scatterternary"
           }
          ],
          "surface": [
           {
            "colorbar": {
             "outlinewidth": 0,
             "ticks": ""
            },
            "colorscale": [
             [
              0,
              "#0d0887"
             ],
             [
              0.1111111111111111,
              "#46039f"
             ],
             [
              0.2222222222222222,
              "#7201a8"
             ],
             [
              0.3333333333333333,
              "#9c179e"
             ],
             [
              0.4444444444444444,
              "#bd3786"
             ],
             [
              0.5555555555555556,
              "#d8576b"
             ],
             [
              0.6666666666666666,
              "#ed7953"
             ],
             [
              0.7777777777777778,
              "#fb9f3a"
             ],
             [
              0.8888888888888888,
              "#fdca26"
             ],
             [
              1,
              "#f0f921"
             ]
            ],
            "type": "surface"
           }
          ],
          "table": [
           {
            "cells": {
             "fill": {
              "color": "#EBF0F8"
             },
             "line": {
              "color": "white"
             }
            },
            "header": {
             "fill": {
              "color": "#C8D4E3"
             },
             "line": {
              "color": "white"
             }
            },
            "type": "table"
           }
          ]
         },
         "layout": {
          "annotationdefaults": {
           "arrowcolor": "#2a3f5f",
           "arrowhead": 0,
           "arrowwidth": 1
          },
          "autotypenumbers": "strict",
          "coloraxis": {
           "colorbar": {
            "outlinewidth": 0,
            "ticks": ""
           }
          },
          "colorscale": {
           "diverging": [
            [
             0,
             "#8e0152"
            ],
            [
             0.1,
             "#c51b7d"
            ],
            [
             0.2,
             "#de77ae"
            ],
            [
             0.3,
             "#f1b6da"
            ],
            [
             0.4,
             "#fde0ef"
            ],
            [
             0.5,
             "#f7f7f7"
            ],
            [
             0.6,
             "#e6f5d0"
            ],
            [
             0.7,
             "#b8e186"
            ],
            [
             0.8,
             "#7fbc41"
            ],
            [
             0.9,
             "#4d9221"
            ],
            [
             1,
             "#276419"
            ]
           ],
           "sequential": [
            [
             0,
             "#0d0887"
            ],
            [
             0.1111111111111111,
             "#46039f"
            ],
            [
             0.2222222222222222,
             "#7201a8"
            ],
            [
             0.3333333333333333,
             "#9c179e"
            ],
            [
             0.4444444444444444,
             "#bd3786"
            ],
            [
             0.5555555555555556,
             "#d8576b"
            ],
            [
             0.6666666666666666,
             "#ed7953"
            ],
            [
             0.7777777777777778,
             "#fb9f3a"
            ],
            [
             0.8888888888888888,
             "#fdca26"
            ],
            [
             1,
             "#f0f921"
            ]
           ],
           "sequentialminus": [
            [
             0,
             "#0d0887"
            ],
            [
             0.1111111111111111,
             "#46039f"
            ],
            [
             0.2222222222222222,
             "#7201a8"
            ],
            [
             0.3333333333333333,
             "#9c179e"
            ],
            [
             0.4444444444444444,
             "#bd3786"
            ],
            [
             0.5555555555555556,
             "#d8576b"
            ],
            [
             0.6666666666666666,
             "#ed7953"
            ],
            [
             0.7777777777777778,
             "#fb9f3a"
            ],
            [
             0.8888888888888888,
             "#fdca26"
            ],
            [
             1,
             "#f0f921"
            ]
           ]
          },
          "colorway": [
           "#636efa",
           "#EF553B",
           "#00cc96",
           "#ab63fa",
           "#FFA15A",
           "#19d3f3",
           "#FF6692",
           "#B6E880",
           "#FF97FF",
           "#FECB52"
          ],
          "font": {
           "color": "#2a3f5f"
          },
          "geo": {
           "bgcolor": "white",
           "lakecolor": "white",
           "landcolor": "#E5ECF6",
           "showlakes": true,
           "showland": true,
           "subunitcolor": "white"
          },
          "hoverlabel": {
           "align": "left"
          },
          "hovermode": "closest",
          "mapbox": {
           "style": "light"
          },
          "paper_bgcolor": "white",
          "plot_bgcolor": "#E5ECF6",
          "polar": {
           "angularaxis": {
            "gridcolor": "white",
            "linecolor": "white",
            "ticks": ""
           },
           "bgcolor": "#E5ECF6",
           "radialaxis": {
            "gridcolor": "white",
            "linecolor": "white",
            "ticks": ""
           }
          },
          "scene": {
           "xaxis": {
            "backgroundcolor": "#E5ECF6",
            "gridcolor": "white",
            "gridwidth": 2,
            "linecolor": "white",
            "showbackground": true,
            "ticks": "",
            "zerolinecolor": "white"
           },
           "yaxis": {
            "backgroundcolor": "#E5ECF6",
            "gridcolor": "white",
            "gridwidth": 2,
            "linecolor": "white",
            "showbackground": true,
            "ticks": "",
            "zerolinecolor": "white"
           },
           "zaxis": {
            "backgroundcolor": "#E5ECF6",
            "gridcolor": "white",
            "gridwidth": 2,
            "linecolor": "white",
            "showbackground": true,
            "ticks": "",
            "zerolinecolor": "white"
           }
          },
          "shapedefaults": {
           "line": {
            "color": "#2a3f5f"
           }
          },
          "ternary": {
           "aaxis": {
            "gridcolor": "white",
            "linecolor": "white",
            "ticks": ""
           },
           "baxis": {
            "gridcolor": "white",
            "linecolor": "white",
            "ticks": ""
           },
           "bgcolor": "#E5ECF6",
           "caxis": {
            "gridcolor": "white",
            "linecolor": "white",
            "ticks": ""
           }
          },
          "title": {
           "x": 0.05
          },
          "xaxis": {
           "automargin": true,
           "gridcolor": "white",
           "linecolor": "white",
           "ticks": "",
           "title": {
            "standoff": 15
           },
           "zerolinecolor": "white",
           "zerolinewidth": 2
          },
          "yaxis": {
           "automargin": true,
           "gridcolor": "white",
           "linecolor": "white",
           "ticks": "",
           "title": {
            "standoff": 15
           },
           "zerolinecolor": "white",
           "zerolinewidth": 2
          }
         }
        },
        "title": {
         "text": "Trực quan giữa Yearly%Change và FertilityRate",
         "x": 0.45,
         "xanchor": "center",
         "y": 0.95,
         "yanchor": "top"
        },
        "xaxis": {
         "anchor": "y",
         "domain": [
          0,
          1
         ],
         "title": {
          "text": "Yearly%Change"
         }
        },
        "yaxis": {
         "anchor": "x",
         "domain": [
          0,
          1
         ],
         "title": {
          "text": "FertilityRate"
         }
        }
       }
      }
     },
     "metadata": {},
     "output_type": "display_data"
    }
   ],
   "source": [
    "fig=px.scatter(df_train[df_train['FertilityRate']>0], x=\"Yearly%Change\", y=\"FertilityRate\",\n",
    "        color=\"BestToLive\")\n",
    "fig.update_layout(\n",
    "    title={\n",
    "        'text': \"Trực quan giữa Yearly%Change và FertilityRate\",\n",
    "        'y':0.95,\n",
    "        'x':0.45,\n",
    "        'xanchor': 'center',\n",
    "        'yanchor': 'top'})\n",
    "\n",
    "fig.show()"
   ]
  },
  {
   "cell_type": "code",
   "execution_count": 9,
   "metadata": {},
   "outputs": [
    {
     "name": "stdout",
     "output_type": "stream",
     "text": [
      "Binary cross entropy loss là :  8.763605932921974\n",
      "Độ chính xác của mô hình :  0.746268656716418\n"
     ]
    }
   ],
   "source": [
    "\n",
    "import random\n",
    "\n",
    "\n",
    "from sklearn.linear_model import LogisticRegression\n",
    "from sklearn.datasets import make_blobs\n",
    "\n",
    "X = [ [df_train[df_train['FertilityRate']>0].iloc[i]['Yearly%Change'], df_train[df_train['FertilityRate']>0].iloc[i]['FertilityRate']] \n",
    "                for i in range(df_train[df_train['FertilityRate']>0].shape[0]) ]\n",
    "y= list(df_train[df_train['FertilityRate']>0]['BestToLive'])\n",
    "\n",
    "model = LogisticRegression()\n",
    "model.fit(X, y)\n",
    "\n",
    "#Kiểm tra \n",
    "Xnew=X\n",
    "ynew = model.predict_proba(Xnew)\n",
    "\n",
    "dict_={\n",
    "'Yearly%Change': [i[0] for i in Xnew],\n",
    "'FertilityRate': [i[1] for i in Xnew],\n",
    "'predict':[i[1] for i in ynew]\n",
    "}\n",
    "ynew = model.predict(Xnew)\n",
    "print('Binary cross entropy loss là : ',log_loss(y, ynew))\n",
    "print('Độ chính xác của mô hình : ',sum(ynew==y)/len(y))\n"
   ]
  },
  {
   "cell_type": "code",
   "execution_count": 10,
   "metadata": {},
   "outputs": [
    {
     "data": {
      "application/vnd.plotly.v1+json": {
       "config": {
        "plotlyServerURL": "https://plot.ly"
       },
       "data": [
        {
         "hovertemplate": "Yearly%Change=%{x}<br>FertilityRate=%{y}<br>predict=%{marker.color}<extra></extra>",
         "legendgroup": "",
         "marker": {
          "color": [
           0.010425641358334724,
           0.3755339943019765,
           0.10629927145316932,
           0.00283789715005044,
           0.32152179573893847,
           0.23535294480192223,
           0.35006896186456626,
           0.3195537467712774,
           0.4262315274011778,
           0.48840326503893905,
           0.2983381673992874,
           0.4331407670252481,
           0.6286513519566037,
           0.31908934176761117,
           0.4000072717561705,
           0.3475152931946012,
           0.3966915232069424,
           0.29968894127610335,
           0.007278836780857006,
           0.3494953828062788,
           0.14051527389159363,
           0.46978736156774026,
           0.1485067541778414,
           0.41431079273552174,
           0.39499949942661006,
           0.33489592495969406,
           0.004125706913694583,
           0.0031590378847323724,
           0.24285892995551484,
           0.1978049365029458,
           0.010918117212883223,
           0.5242475711688775,
           0.00587210964563954,
           0.0016262829217424876,
           0.5417603192484738,
           0.4696302634265172,
           0.3996962782455178,
           0.41955567606085464,
           0.017090214413883583,
           0.01395805417499024,
           0.42764546343300325,
           0.3927920295876655,
           0.3808051902435591,
           0.37282740459966573,
           0.5884123755155152,
           0.39807545293024105,
           0.009422953289359508,
           0.0013392724113360926,
           0.36655949251054265,
           0.14330022198885875,
           0.2142055437253702,
           0.23192260649084034,
           0.07055920348134227,
           0.27247155838051074,
           0.017559460238991995,
           0.015345042774547355,
           0.4072323695021775,
           0.07923315927754107,
           0.018145899822084657,
           0.1018518097312549,
           0.4415956437007538,
           0.3180857072092269,
           0.09196777123600455,
           0.3151906756886624,
           0.028735253231551232,
           0.0041294501031441866,
           0.21191533592251605,
           0.43454306841672347,
           0.030391825629765314,
           0.47124455714947294,
           0.26124850037497216,
           0.19599390287303486,
           0.2169299328358296,
           0.13651574340002753,
           0.009532775653200322,
           0.011987611244828552,
           0.15063632370294464,
           0.09575653072946047,
           0.2228718488003626,
           0.6023417670232752,
           0.41481236584494197,
           0.39412936067877735,
           0.24992790527237543,
           0.2309507427633912,
           0.3094436072541275,
           0.04655359188133275,
           0.41650521051966605,
           0.09764103340119729,
           0.49509111863080346,
           0.28727888497099546,
           0.4608817577604116,
           0.1170346845765053,
           0.12907171542437706,
           0.05964913332701299,
           0.03988918663253497,
           0.34951129305904405,
           0.10779579354130846,
           0.15666146113561985,
           0.2463471596703333,
           0.18574023635935166,
           0.05775270728914453,
           0.01572480111130621,
           0.28057114799101346,
           0.2401515356298416,
           0.6415482343597688,
           0.7105340791580884,
           0.026349255592909956,
           0.020840160339439945,
           0.36400149411528293,
           0.47447469725662605,
           0.0013308668083407776,
           0.4897335851441611,
           0.27898324921642936,
           0.011872012140566037,
           0.5047401480537114,
           0.04625755622525275,
           0.29052396733549446,
           0.08276805013675252,
           0.5167038281155834,
           0.12383383167689938,
           0.3358249066677157,
           0.21091094430632548,
           0.007685001742248882,
           0.24598962776756195,
           0.05889530796923702,
           0.4571939658354881,
           0.3940039312560769,
           0.34613466277290295,
           0.3587072586525618,
           0.21165803544618467,
           0.0003179990355853594,
           0.0026147121266586267,
           0.3167349443140812,
           0.4379455353233318,
           0.447710320308758,
           0.17354198198836474,
           0.0504150808511535,
           0.22740544165383555,
           0.046174190248963715,
           0.2059587505421002,
           0.277148092917106,
           0.1777255287939472,
           0.4603335323489722,
           0.49687727446620883,
           0.29577850826776925,
           0.46554084605750173,
           0.31970612314132,
           0.3119865890677305,
           0.025656498531642046,
           0.21883389933407207,
           0.5153917200870327,
           0.01561621485346702,
           0.01244055743327175,
           0.2680026316892619,
           0.010750336177884838,
           0.41122060946976063,
           0.1611931552563601,
           0.014249770088339445,
           0.6482854690830165,
           0.4434706433986444,
           0.3965658120973436,
           0.014138030685518029,
           0.0008975240326104793,
           0.219925531730515,
           0.6159665008419877,
           0.004592708817082882,
           0.5163801911170718,
           0.21381083196833883,
           0.3089274586225257,
           0.04918863621875083,
           0.013580431535062784,
           0.18672749471262992,
           0.35921501459539046,
           0.5030853021885185,
           0.18820526199360504,
           0.6089502572786976,
           0.052295258532218614,
           0.007459449225093865,
           0.45267782477858326,
           0.019552153211114687,
           0.015655563024718093,
           0.033270844517164756,
           0.3756571888059986,
           0.26939288342724566,
           0.31550069667767633,
           0.13804641134506762,
           0.21788939726493917,
           0.0074234900031245514,
           0.3991165960768973,
           0.6086749434970299,
           0.3896388237043835,
           0.3835839178473825,
           0.2826188870360402,
           0.22945491130909065,
           0.03975793283173707,
           0.14953281318180212,
           0.3057065308001219,
           0.3325361122938655,
           0.03499088042115911,
           0.011443884683117838,
           0.03527464549418473
          ],
          "coloraxis": "coloraxis",
          "symbol": "circle"
         },
         "mode": "markers",
         "name": "",
         "orientation": "v",
         "showlegend": false,
         "type": "scatter",
         "x": [
          2.33,
          -0.11,
          1.85,
          3.27,
          0.84,
          0.93,
          0.19,
          0.43,
          1.18,
          0.57,
          0.91,
          0.97,
          3.68,
          1.01,
          0.12,
          -0.03,
          0.44,
          1.86,
          2.73,
          1.12,
          1.39,
          -0.61,
          2.08,
          0.72,
          0.97,
          -0.74,
          2.86,
          3.12,
          1.1,
          1.41,
          2.59,
          0.89,
          1.78,
          3,
          0.93,
          0.87,
          0.39,
          1.08,
          2.2,
          2.56,
          0.92,
          -0.61,
          -0.06,
          0.41,
          0.73,
          0.18,
          2.57,
          3.19,
          0.35,
          1.48,
          1.01,
          1.55,
          1.94,
          0.51,
          3.47,
          1.41,
          0.07,
          1.05,
          2.57,
          0.73,
          0.15,
          0.22,
          2.7,
          0.58,
          2.45,
          2.94,
          -0.19,
          0.32,
          2.15,
          -0.48,
          0.46,
          0.02,
          0.89,
          1.9,
          2.83,
          2.45,
          0.48,
          1.24,
          1.63,
          0.82,
          -0.25,
          0.65,
          0.99,
          1.07,
          1.3,
          2.32,
          1.13,
          1.6,
          -0.15,
          0.44,
          -0.3,
          1,
          1.21,
          2.28,
          1.57,
          1.51,
          1.69,
          1.48,
          -1.08,
          -0.44,
          0.8,
          2.44,
          1.38,
          -1.35,
          1.66,
          1.39,
          2.68,
          2.69,
          1.3,
          1.81,
          3.02,
          0.27,
          -0.08,
          2.74,
          0.17,
          2.5,
          1.06,
          1,
          -0.23,
          1.65,
          0.01,
          1.2,
          2.93,
          0.67,
          1.86,
          1.85,
          0.22,
          0.97,
          0.82,
          1.21,
          3.84,
          2.58,
          0.44,
          0,
          0.79,
          2.65,
          2,
          1.61,
          1.95,
          1.25,
          1.42,
          1.35,
          -0.11,
          -0.29,
          -2.47,
          1.73,
          -0.66,
          0.04,
          2.58,
          0.72,
          0.46,
          0.67,
          1.91,
          1.59,
          2.75,
          -0.4,
          0.62,
          2.1,
          0.79,
          0.05,
          0.01,
          2.55,
          2.92,
          1.28,
          0.09,
          1.19,
          0.04,
          0.42,
          0.32,
          2.41,
          2.42,
          0.9,
          0.63,
          0.74,
          2.52,
          0.18,
          2.32,
          2.98,
          0.25,
          1.96,
          2.43,
          1.15,
          0.32,
          1.06,
          1.09,
          1.5,
          -0.15,
          3.32,
          -0.59,
          1.23,
          0.53,
          0.59,
          0.35,
          1.48,
          2.42,
          -0.28,
          0.91,
          2.55,
          2.28,
          2.93,
          1.48
         ],
         "xaxis": "x",
         "y": [
          4.56,
          1.62,
          3.05,
          5.55,
          2,
          2.27,
          1.76,
          1.9,
          1.83,
          1.53,
          2.08,
          1.76,
          2,
          2.05,
          1.62,
          1.71,
          1.71,
          2.32,
          4.87,
          2,
          2.75,
          1.27,
          2.89,
          1.74,
          1.85,
          1.56,
          5.23,
          5.45,
          2.29,
          2.52,
          4.6,
          1.53,
          4.75,
          5.8,
          1.5,
          1.65,
          1.69,
          1.82,
          4.24,
          4.45,
          1.76,
          1.45,
          1.62,
          1.76,
          1.34,
          1.64,
          4.68,
          5.96,
          1.76,
          2.76,
          2.36,
          2.44,
          3.33,
          2.05,
          4.55,
          4.1,
          1.59,
          3.03,
          4.3,
          2.79,
          1.53,
          1.85,
          3.36,
          1.95,
          4,
          5.25,
          2.06,
          1.59,
          3.89,
          1.3,
          2.07,
          2.17,
          2.32,
          2.9,
          4.74,
          4.51,
          2.47,
          2.96,
          2.49,
          1.33,
          1.49,
          1.77,
          2.24,
          2.32,
          2.15,
          3.68,
          1.84,
          3.04,
          1.33,
          1.99,
          1.37,
          2.77,
          2.76,
          3.52,
          3.58,
          2.1,
          3,
          2.7,
          1.72,
          2.09,
          3.16,
          4.35,
          2.25,
          1.67,
          1.45,
          1.2,
          4.11,
          4.25,
          2.01,
          1.88,
          5.92,
          1.45,
          1.88,
          4.59,
          1.39,
          3.73,
          2.14,
          2.99,
          1.26,
          2.9,
          1.75,
          2.42,
          4.89,
          2.17,
          3.42,
          1.93,
          1.66,
          1.97,
          1.9,
          2.42,
          6.95,
          5.42,
          1.91,
          1.5,
          1.68,
          2.93,
          3.55,
          2.47,
          3.59,
          2.45,
          2.27,
          2.58,
          1.42,
          1.29,
          1.22,
          1.88,
          1.62,
          1.82,
          4.1,
          2.27,
          1.44,
          3.9,
          4.35,
          2.34,
          4.65,
          1.46,
          2.46,
          4.32,
          1.21,
          1.5,
          1.6,
          4.44,
          6.12,
          2.41,
          1.11,
          4.74,
          1.33,
          2.21,
          1.9,
          3.67,
          4.43,
          2.43,
          1.85,
          1.54,
          2.84,
          1.15,
          3.61,
          4.92,
          1.53,
          4.1,
          4.35,
          3.58,
          1.73,
          2.2,
          2.08,
          2.79,
          2.05,
          5.01,
          1.44,
          1.42,
          1.75,
          1.78,
          1.98,
          2.43,
          3.8,
          2.28,
          2.06,
          2.41,
          3.84,
          4.66,
          3.63
         ],
         "yaxis": "y"
        }
       ],
       "layout": {
        "coloraxis": {
         "colorbar": {
          "title": {
           "text": "predict"
          }
         },
         "colorscale": [
          [
           0,
           "#0d0887"
          ],
          [
           0.1111111111111111,
           "#46039f"
          ],
          [
           0.2222222222222222,
           "#7201a8"
          ],
          [
           0.3333333333333333,
           "#9c179e"
          ],
          [
           0.4444444444444444,
           "#bd3786"
          ],
          [
           0.5555555555555556,
           "#d8576b"
          ],
          [
           0.6666666666666666,
           "#ed7953"
          ],
          [
           0.7777777777777778,
           "#fb9f3a"
          ],
          [
           0.8888888888888888,
           "#fdca26"
          ],
          [
           1,
           "#f0f921"
          ]
         ]
        },
        "legend": {
         "tracegroupgap": 0
        },
        "margin": {
         "t": 60
        },
        "template": {
         "data": {
          "bar": [
           {
            "error_x": {
             "color": "#2a3f5f"
            },
            "error_y": {
             "color": "#2a3f5f"
            },
            "marker": {
             "line": {
              "color": "#E5ECF6",
              "width": 0.5
             },
             "pattern": {
              "fillmode": "overlay",
              "size": 10,
              "solidity": 0.2
             }
            },
            "type": "bar"
           }
          ],
          "barpolar": [
           {
            "marker": {
             "line": {
              "color": "#E5ECF6",
              "width": 0.5
             },
             "pattern": {
              "fillmode": "overlay",
              "size": 10,
              "solidity": 0.2
             }
            },
            "type": "barpolar"
           }
          ],
          "carpet": [
           {
            "aaxis": {
             "endlinecolor": "#2a3f5f",
             "gridcolor": "white",
             "linecolor": "white",
             "minorgridcolor": "white",
             "startlinecolor": "#2a3f5f"
            },
            "baxis": {
             "endlinecolor": "#2a3f5f",
             "gridcolor": "white",
             "linecolor": "white",
             "minorgridcolor": "white",
             "startlinecolor": "#2a3f5f"
            },
            "type": "carpet"
           }
          ],
          "choropleth": [
           {
            "colorbar": {
             "outlinewidth": 0,
             "ticks": ""
            },
            "type": "choropleth"
           }
          ],
          "contour": [
           {
            "colorbar": {
             "outlinewidth": 0,
             "ticks": ""
            },
            "colorscale": [
             [
              0,
              "#0d0887"
             ],
             [
              0.1111111111111111,
              "#46039f"
             ],
             [
              0.2222222222222222,
              "#7201a8"
             ],
             [
              0.3333333333333333,
              "#9c179e"
             ],
             [
              0.4444444444444444,
              "#bd3786"
             ],
             [
              0.5555555555555556,
              "#d8576b"
             ],
             [
              0.6666666666666666,
              "#ed7953"
             ],
             [
              0.7777777777777778,
              "#fb9f3a"
             ],
             [
              0.8888888888888888,
              "#fdca26"
             ],
             [
              1,
              "#f0f921"
             ]
            ],
            "type": "contour"
           }
          ],
          "contourcarpet": [
           {
            "colorbar": {
             "outlinewidth": 0,
             "ticks": ""
            },
            "type": "contourcarpet"
           }
          ],
          "heatmap": [
           {
            "colorbar": {
             "outlinewidth": 0,
             "ticks": ""
            },
            "colorscale": [
             [
              0,
              "#0d0887"
             ],
             [
              0.1111111111111111,
              "#46039f"
             ],
             [
              0.2222222222222222,
              "#7201a8"
             ],
             [
              0.3333333333333333,
              "#9c179e"
             ],
             [
              0.4444444444444444,
              "#bd3786"
             ],
             [
              0.5555555555555556,
              "#d8576b"
             ],
             [
              0.6666666666666666,
              "#ed7953"
             ],
             [
              0.7777777777777778,
              "#fb9f3a"
             ],
             [
              0.8888888888888888,
              "#fdca26"
             ],
             [
              1,
              "#f0f921"
             ]
            ],
            "type": "heatmap"
           }
          ],
          "heatmapgl": [
           {
            "colorbar": {
             "outlinewidth": 0,
             "ticks": ""
            },
            "colorscale": [
             [
              0,
              "#0d0887"
             ],
             [
              0.1111111111111111,
              "#46039f"
             ],
             [
              0.2222222222222222,
              "#7201a8"
             ],
             [
              0.3333333333333333,
              "#9c179e"
             ],
             [
              0.4444444444444444,
              "#bd3786"
             ],
             [
              0.5555555555555556,
              "#d8576b"
             ],
             [
              0.6666666666666666,
              "#ed7953"
             ],
             [
              0.7777777777777778,
              "#fb9f3a"
             ],
             [
              0.8888888888888888,
              "#fdca26"
             ],
             [
              1,
              "#f0f921"
             ]
            ],
            "type": "heatmapgl"
           }
          ],
          "histogram": [
           {
            "marker": {
             "pattern": {
              "fillmode": "overlay",
              "size": 10,
              "solidity": 0.2
             }
            },
            "type": "histogram"
           }
          ],
          "histogram2d": [
           {
            "colorbar": {
             "outlinewidth": 0,
             "ticks": ""
            },
            "colorscale": [
             [
              0,
              "#0d0887"
             ],
             [
              0.1111111111111111,
              "#46039f"
             ],
             [
              0.2222222222222222,
              "#7201a8"
             ],
             [
              0.3333333333333333,
              "#9c179e"
             ],
             [
              0.4444444444444444,
              "#bd3786"
             ],
             [
              0.5555555555555556,
              "#d8576b"
             ],
             [
              0.6666666666666666,
              "#ed7953"
             ],
             [
              0.7777777777777778,
              "#fb9f3a"
             ],
             [
              0.8888888888888888,
              "#fdca26"
             ],
             [
              1,
              "#f0f921"
             ]
            ],
            "type": "histogram2d"
           }
          ],
          "histogram2dcontour": [
           {
            "colorbar": {
             "outlinewidth": 0,
             "ticks": ""
            },
            "colorscale": [
             [
              0,
              "#0d0887"
             ],
             [
              0.1111111111111111,
              "#46039f"
             ],
             [
              0.2222222222222222,
              "#7201a8"
             ],
             [
              0.3333333333333333,
              "#9c179e"
             ],
             [
              0.4444444444444444,
              "#bd3786"
             ],
             [
              0.5555555555555556,
              "#d8576b"
             ],
             [
              0.6666666666666666,
              "#ed7953"
             ],
             [
              0.7777777777777778,
              "#fb9f3a"
             ],
             [
              0.8888888888888888,
              "#fdca26"
             ],
             [
              1,
              "#f0f921"
             ]
            ],
            "type": "histogram2dcontour"
           }
          ],
          "mesh3d": [
           {
            "colorbar": {
             "outlinewidth": 0,
             "ticks": ""
            },
            "type": "mesh3d"
           }
          ],
          "parcoords": [
           {
            "line": {
             "colorbar": {
              "outlinewidth": 0,
              "ticks": ""
             }
            },
            "type": "parcoords"
           }
          ],
          "pie": [
           {
            "automargin": true,
            "type": "pie"
           }
          ],
          "scatter": [
           {
            "fillpattern": {
             "fillmode": "overlay",
             "size": 10,
             "solidity": 0.2
            },
            "type": "scatter"
           }
          ],
          "scatter3d": [
           {
            "line": {
             "colorbar": {
              "outlinewidth": 0,
              "ticks": ""
             }
            },
            "marker": {
             "colorbar": {
              "outlinewidth": 0,
              "ticks": ""
             }
            },
            "type": "scatter3d"
           }
          ],
          "scattercarpet": [
           {
            "marker": {
             "colorbar": {
              "outlinewidth": 0,
              "ticks": ""
             }
            },
            "type": "scattercarpet"
           }
          ],
          "scattergeo": [
           {
            "marker": {
             "colorbar": {
              "outlinewidth": 0,
              "ticks": ""
             }
            },
            "type": "scattergeo"
           }
          ],
          "scattergl": [
           {
            "marker": {
             "colorbar": {
              "outlinewidth": 0,
              "ticks": ""
             }
            },
            "type": "scattergl"
           }
          ],
          "scattermapbox": [
           {
            "marker": {
             "colorbar": {
              "outlinewidth": 0,
              "ticks": ""
             }
            },
            "type": "scattermapbox"
           }
          ],
          "scatterpolar": [
           {
            "marker": {
             "colorbar": {
              "outlinewidth": 0,
              "ticks": ""
             }
            },
            "type": "scatterpolar"
           }
          ],
          "scatterpolargl": [
           {
            "marker": {
             "colorbar": {
              "outlinewidth": 0,
              "ticks": ""
             }
            },
            "type": "scatterpolargl"
           }
          ],
          "scatterternary": [
           {
            "marker": {
             "colorbar": {
              "outlinewidth": 0,
              "ticks": ""
             }
            },
            "type": "scatterternary"
           }
          ],
          "surface": [
           {
            "colorbar": {
             "outlinewidth": 0,
             "ticks": ""
            },
            "colorscale": [
             [
              0,
              "#0d0887"
             ],
             [
              0.1111111111111111,
              "#46039f"
             ],
             [
              0.2222222222222222,
              "#7201a8"
             ],
             [
              0.3333333333333333,
              "#9c179e"
             ],
             [
              0.4444444444444444,
              "#bd3786"
             ],
             [
              0.5555555555555556,
              "#d8576b"
             ],
             [
              0.6666666666666666,
              "#ed7953"
             ],
             [
              0.7777777777777778,
              "#fb9f3a"
             ],
             [
              0.8888888888888888,
              "#fdca26"
             ],
             [
              1,
              "#f0f921"
             ]
            ],
            "type": "surface"
           }
          ],
          "table": [
           {
            "cells": {
             "fill": {
              "color": "#EBF0F8"
             },
             "line": {
              "color": "white"
             }
            },
            "header": {
             "fill": {
              "color": "#C8D4E3"
             },
             "line": {
              "color": "white"
             }
            },
            "type": "table"
           }
          ]
         },
         "layout": {
          "annotationdefaults": {
           "arrowcolor": "#2a3f5f",
           "arrowhead": 0,
           "arrowwidth": 1
          },
          "autotypenumbers": "strict",
          "coloraxis": {
           "colorbar": {
            "outlinewidth": 0,
            "ticks": ""
           }
          },
          "colorscale": {
           "diverging": [
            [
             0,
             "#8e0152"
            ],
            [
             0.1,
             "#c51b7d"
            ],
            [
             0.2,
             "#de77ae"
            ],
            [
             0.3,
             "#f1b6da"
            ],
            [
             0.4,
             "#fde0ef"
            ],
            [
             0.5,
             "#f7f7f7"
            ],
            [
             0.6,
             "#e6f5d0"
            ],
            [
             0.7,
             "#b8e186"
            ],
            [
             0.8,
             "#7fbc41"
            ],
            [
             0.9,
             "#4d9221"
            ],
            [
             1,
             "#276419"
            ]
           ],
           "sequential": [
            [
             0,
             "#0d0887"
            ],
            [
             0.1111111111111111,
             "#46039f"
            ],
            [
             0.2222222222222222,
             "#7201a8"
            ],
            [
             0.3333333333333333,
             "#9c179e"
            ],
            [
             0.4444444444444444,
             "#bd3786"
            ],
            [
             0.5555555555555556,
             "#d8576b"
            ],
            [
             0.6666666666666666,
             "#ed7953"
            ],
            [
             0.7777777777777778,
             "#fb9f3a"
            ],
            [
             0.8888888888888888,
             "#fdca26"
            ],
            [
             1,
             "#f0f921"
            ]
           ],
           "sequentialminus": [
            [
             0,
             "#0d0887"
            ],
            [
             0.1111111111111111,
             "#46039f"
            ],
            [
             0.2222222222222222,
             "#7201a8"
            ],
            [
             0.3333333333333333,
             "#9c179e"
            ],
            [
             0.4444444444444444,
             "#bd3786"
            ],
            [
             0.5555555555555556,
             "#d8576b"
            ],
            [
             0.6666666666666666,
             "#ed7953"
            ],
            [
             0.7777777777777778,
             "#fb9f3a"
            ],
            [
             0.8888888888888888,
             "#fdca26"
            ],
            [
             1,
             "#f0f921"
            ]
           ]
          },
          "colorway": [
           "#636efa",
           "#EF553B",
           "#00cc96",
           "#ab63fa",
           "#FFA15A",
           "#19d3f3",
           "#FF6692",
           "#B6E880",
           "#FF97FF",
           "#FECB52"
          ],
          "font": {
           "color": "#2a3f5f"
          },
          "geo": {
           "bgcolor": "white",
           "lakecolor": "white",
           "landcolor": "#E5ECF6",
           "showlakes": true,
           "showland": true,
           "subunitcolor": "white"
          },
          "hoverlabel": {
           "align": "left"
          },
          "hovermode": "closest",
          "mapbox": {
           "style": "light"
          },
          "paper_bgcolor": "white",
          "plot_bgcolor": "#E5ECF6",
          "polar": {
           "angularaxis": {
            "gridcolor": "white",
            "linecolor": "white",
            "ticks": ""
           },
           "bgcolor": "#E5ECF6",
           "radialaxis": {
            "gridcolor": "white",
            "linecolor": "white",
            "ticks": ""
           }
          },
          "scene": {
           "xaxis": {
            "backgroundcolor": "#E5ECF6",
            "gridcolor": "white",
            "gridwidth": 2,
            "linecolor": "white",
            "showbackground": true,
            "ticks": "",
            "zerolinecolor": "white"
           },
           "yaxis": {
            "backgroundcolor": "#E5ECF6",
            "gridcolor": "white",
            "gridwidth": 2,
            "linecolor": "white",
            "showbackground": true,
            "ticks": "",
            "zerolinecolor": "white"
           },
           "zaxis": {
            "backgroundcolor": "#E5ECF6",
            "gridcolor": "white",
            "gridwidth": 2,
            "linecolor": "white",
            "showbackground": true,
            "ticks": "",
            "zerolinecolor": "white"
           }
          },
          "shapedefaults": {
           "line": {
            "color": "#2a3f5f"
           }
          },
          "ternary": {
           "aaxis": {
            "gridcolor": "white",
            "linecolor": "white",
            "ticks": ""
           },
           "baxis": {
            "gridcolor": "white",
            "linecolor": "white",
            "ticks": ""
           },
           "bgcolor": "#E5ECF6",
           "caxis": {
            "gridcolor": "white",
            "linecolor": "white",
            "ticks": ""
           }
          },
          "title": {
           "x": 0.05
          },
          "xaxis": {
           "automargin": true,
           "gridcolor": "white",
           "linecolor": "white",
           "ticks": "",
           "title": {
            "standoff": 15
           },
           "zerolinecolor": "white",
           "zerolinewidth": 2
          },
          "yaxis": {
           "automargin": true,
           "gridcolor": "white",
           "linecolor": "white",
           "ticks": "",
           "title": {
            "standoff": 15
           },
           "zerolinecolor": "white",
           "zerolinewidth": 2
          }
         }
        },
        "title": {
         "text": "Kiểm tra bài toán phân lớp bằng thuộc tính FertilityRate và Yearly%Change",
         "x": 0.45,
         "xanchor": "center",
         "y": 0.95,
         "yanchor": "top"
        },
        "xaxis": {
         "anchor": "y",
         "domain": [
          0,
          1
         ],
         "title": {
          "text": "Yearly%Change"
         }
        },
        "yaxis": {
         "anchor": "x",
         "domain": [
          0,
          1
         ],
         "title": {
          "text": "FertilityRate"
         }
        }
       }
      }
     },
     "metadata": {},
     "output_type": "display_data"
    }
   ],
   "source": [
    "fig=px.scatter(dict_, x=\"Yearly%Change\", y=\"FertilityRate\",\n",
    "        color=\"predict\")\n",
    "fig.update_layout(\n",
    "    title={\n",
    "        'text': \"Kiểm tra bài toán phân lớp bằng thuộc tính FertilityRate và Yearly%Change\",\n",
    "        'y':0.95,\n",
    "        'x':0.45,\n",
    "        'xanchor': 'center',\n",
    "        'yanchor': 'top'})\n",
    "fig.show()"
   ]
  },
  {
   "attachments": {},
   "cell_type": "markdown",
   "metadata": {},
   "source": [
    "Bài toán hồi quy. Dự đóan trong tương lai.\n",
    "Khá đơn giản nên ta tạo các hàm như sau. \n",
    "( Đơn giản hóa bài toán, ta chọn 1 và 2 )"
   ]
  },
  {
   "cell_type": "code",
   "execution_count": 11,
   "metadata": {},
   "outputs": [
    {
     "data": {
      "text/plain": [
       "(array([1.47474014e+09, 1.49906064e+09, 1.51797463e+09, 1.53148210e+09,\n",
       "        1.54227747e+09]),\n",
       " 0.020869189706239927)"
      ]
     },
     "execution_count": 11,
     "metadata": {},
     "output_type": "execute_result"
    }
   ],
   "source": [
    "import numpy as np\n",
    "import math \n",
    "from sklearn.linear_model import LinearRegression\n",
    "from sklearn.preprocessing import PolynomialFeatures\n",
    "from sklearn.metrics import mean_squared_error\n",
    "def linear_regression_1(x,y,x_for_pred) :\n",
    "    x=np.array(x).reshape((-1, 1))\n",
    "    y=np.array(y)\n",
    "    x_for_pred=np.array(x_for_pred).reshape((-1, 1))\n",
    "    model = LinearRegression().fit(x, y)\n",
    "    y_pred = model.predict(x_for_pred)\n",
    "    y_pre_pred = model.predict(x)\n",
    "    pred_error=math.sqrt(mean_squared_error(y,y_pre_pred))/math.sqrt((max(y_pre_pred)-min(y_pre_pred))**2 +(max(x)-min(x))**2)\n",
    "    return y_pred,pred_error\n",
    "def linear_regression_2(x,y,x_for_pred) :\n",
    "    x=np.array(x)\n",
    "    x_=PolynomialFeatures(degree=2, include_bias=False).fit_transform(x.reshape((-1, 1)))\n",
    "    y=np.array(y)\n",
    "    x_for_pred=np.array(x_for_pred).reshape((-1, 1))\n",
    "    x_for_pred=PolynomialFeatures(degree=2, include_bias=False).fit_transform(x_for_pred)\n",
    "\n",
    "    model = LinearRegression().fit(x_, y)\n",
    "    y_pred = model.predict( x_for_pred)\n",
    "    y_pre_pred = model.predict(x_)\n",
    "    pred_error=math.sqrt(mean_squared_error(y,y_pre_pred))/math.sqrt((max(y_pre_pred)-min(y_pre_pred))**2 +(max(x)-min(x))**2)\n",
    "    return y_pred,pred_error\n",
    "linear_regression_2(df['Year'].unique(),df[df['Country']=='China']['Population'],[2025,2030,2035,2040,2050])"
   ]
  },
  {
   "cell_type": "code",
   "execution_count": 12,
   "metadata": {},
   "outputs": [],
   "source": [
    "def gen_linear(df,funct,x_for_pred):\n",
    "    x=df['Year'].unique()\n",
    "    for i in df['Country'].unique():\n",
    "        mean_pred_error=0\n",
    "        pred_error=[]\n",
    "        df_=df[df['Country']==i]\n",
    "        dict_pred={}\n",
    "        dict_pred['Year']=x_for_pred\n",
    "        col_pred=['Population','YearlyChange','Migrants(net)','MedianAge','FertilityRate','UrbanPopulation']\n",
    "        error_linear=0\n",
    "        for col in col_pred : \n",
    "            dict_pred[col],error_linear=funct(x,df_[col],x_for_pred)\n",
    "            pred_error.append(error_linear)\n",
    "        dict_pred['Yearly%Change']=dict_pred['YearlyChange']/dict_pred['Population']\n",
    "        dict_pred['UrbanPop%']=dict_pred['UrbanPopulation']*100/dict_pred['Population']\n",
    "        dict_pred['Country']=[i]*len(x_for_pred)\n",
    "        dict_pred['Continent']=list(df_['Continent'].unique())*len(x_for_pred)\n",
    "        mean_pred_error=sum(pred_error)/len(pred_error)\n",
    "        dict_pred['LossFunctCheck']=[mean_pred_error]*len(x_for_pred)\n",
    "        dict_pred = [dict(zip(dict_pred,t)) for t in zip(*dict_pred.values())]\n",
    "        for row in dict_pred :\n",
    "            yield row\n",
    "\n",
    "\n",
    "LD1=[i for i in gen_linear(df,linear_regression_1,[2025,2030,2035,2040,2050]) ]\n",
    "LD1=pd.DataFrame(LD1)\n",
    "LD2=[i for i in gen_linear(df,linear_regression_2,[2025,2030,2035,2040,2050]) ]\n",
    "LD2=pd.DataFrame(LD2)"
   ]
  },
  {
   "cell_type": "code",
   "execution_count": 13,
   "metadata": {},
   "outputs": [
    {
     "data": {
      "text/html": [
       "<div>\n",
       "<style scoped>\n",
       "    .dataframe tbody tr th:only-of-type {\n",
       "        vertical-align: middle;\n",
       "    }\n",
       "\n",
       "    .dataframe tbody tr th {\n",
       "        vertical-align: top;\n",
       "    }\n",
       "\n",
       "    .dataframe thead th {\n",
       "        text-align: right;\n",
       "    }\n",
       "</style>\n",
       "<table border=\"1\" class=\"dataframe\">\n",
       "  <thead>\n",
       "    <tr style=\"text-align: right;\">\n",
       "      <th></th>\n",
       "      <th>Year</th>\n",
       "      <th>Population</th>\n",
       "      <th>YearlyChange</th>\n",
       "      <th>Migrants(net)</th>\n",
       "      <th>MedianAge</th>\n",
       "      <th>FertilityRate</th>\n",
       "      <th>UrbanPopulation</th>\n",
       "      <th>Yearly%Change</th>\n",
       "      <th>UrbanPop%</th>\n",
       "      <th>Country</th>\n",
       "      <th>Continent</th>\n",
       "      <th>LossFunctCheck</th>\n",
       "    </tr>\n",
       "  </thead>\n",
       "  <tbody>\n",
       "    <tr>\n",
       "      <th>0</th>\n",
       "      <td>2025</td>\n",
       "      <td>3.778951e+07</td>\n",
       "      <td>1.015350e+06</td>\n",
       "      <td>-44993.213325</td>\n",
       "      <td>16.582543</td>\n",
       "      <td>5.409869</td>\n",
       "      <td>9.517517e+06</td>\n",
       "      <td>0.026869</td>\n",
       "      <td>25.185605</td>\n",
       "      <td>Afghanistan</td>\n",
       "      <td>Asia</td>\n",
       "      <td>1.482467</td>\n",
       "    </tr>\n",
       "    <tr>\n",
       "      <th>1</th>\n",
       "      <td>2030</td>\n",
       "      <td>4.028908e+07</td>\n",
       "      <td>1.091289e+06</td>\n",
       "      <td>-42795.797468</td>\n",
       "      <td>16.486920</td>\n",
       "      <td>5.210928</td>\n",
       "      <td>1.027058e+07</td>\n",
       "      <td>0.027086</td>\n",
       "      <td>25.492221</td>\n",
       "      <td>Afghanistan</td>\n",
       "      <td>Asia</td>\n",
       "      <td>1.482467</td>\n",
       "    </tr>\n",
       "    <tr>\n",
       "      <th>2</th>\n",
       "      <td>2035</td>\n",
       "      <td>4.278864e+07</td>\n",
       "      <td>1.167229e+06</td>\n",
       "      <td>-40598.381611</td>\n",
       "      <td>16.391296</td>\n",
       "      <td>5.011988</td>\n",
       "      <td>1.102364e+07</td>\n",
       "      <td>0.027279</td>\n",
       "      <td>25.763014</td>\n",
       "      <td>Afghanistan</td>\n",
       "      <td>Asia</td>\n",
       "      <td>1.482467</td>\n",
       "    </tr>\n",
       "    <tr>\n",
       "      <th>3</th>\n",
       "      <td>2040</td>\n",
       "      <td>4.528821e+07</td>\n",
       "      <td>1.243168e+06</td>\n",
       "      <td>-38400.965754</td>\n",
       "      <td>16.295673</td>\n",
       "      <td>4.813048</td>\n",
       "      <td>1.177671e+07</td>\n",
       "      <td>0.027450</td>\n",
       "      <td>26.003915</td>\n",
       "      <td>Afghanistan</td>\n",
       "      <td>Asia</td>\n",
       "      <td>1.482467</td>\n",
       "    </tr>\n",
       "    <tr>\n",
       "      <th>4</th>\n",
       "      <td>2050</td>\n",
       "      <td>5.028734e+07</td>\n",
       "      <td>1.395047e+06</td>\n",
       "      <td>-34006.134040</td>\n",
       "      <td>16.104425</td>\n",
       "      <td>4.415167</td>\n",
       "      <td>1.328284e+07</td>\n",
       "      <td>0.027742</td>\n",
       "      <td>26.413873</td>\n",
       "      <td>Afghanistan</td>\n",
       "      <td>Asia</td>\n",
       "      <td>1.482467</td>\n",
       "    </tr>\n",
       "    <tr>\n",
       "      <th>...</th>\n",
       "      <td>...</td>\n",
       "      <td>...</td>\n",
       "      <td>...</td>\n",
       "      <td>...</td>\n",
       "      <td>...</td>\n",
       "      <td>...</td>\n",
       "      <td>...</td>\n",
       "      <td>...</td>\n",
       "      <td>...</td>\n",
       "      <td>...</td>\n",
       "      <td>...</td>\n",
       "      <td>...</td>\n",
       "    </tr>\n",
       "    <tr>\n",
       "      <th>1170</th>\n",
       "      <td>2025</td>\n",
       "      <td>1.587134e+07</td>\n",
       "      <td>2.038575e+05</td>\n",
       "      <td>-134017.823668</td>\n",
       "      <td>18.685330</td>\n",
       "      <td>3.276979</td>\n",
       "      <td>6.055059e+06</td>\n",
       "      <td>0.012844</td>\n",
       "      <td>38.150902</td>\n",
       "      <td>Zimbabwe</td>\n",
       "      <td>Africa</td>\n",
       "      <td>0.278630</td>\n",
       "    </tr>\n",
       "    <tr>\n",
       "      <th>1171</th>\n",
       "      <td>2030</td>\n",
       "      <td>1.678869e+07</td>\n",
       "      <td>2.075294e+05</td>\n",
       "      <td>-145549.966245</td>\n",
       "      <td>18.885654</td>\n",
       "      <td>2.957300</td>\n",
       "      <td>6.500572e+06</td>\n",
       "      <td>0.012361</td>\n",
       "      <td>38.719944</td>\n",
       "      <td>Zimbabwe</td>\n",
       "      <td>Africa</td>\n",
       "      <td>0.278630</td>\n",
       "    </tr>\n",
       "    <tr>\n",
       "      <th>1172</th>\n",
       "      <td>2035</td>\n",
       "      <td>1.770604e+07</td>\n",
       "      <td>2.112013e+05</td>\n",
       "      <td>-157082.108822</td>\n",
       "      <td>19.085978</td>\n",
       "      <td>2.637620</td>\n",
       "      <td>6.946084e+06</td>\n",
       "      <td>0.011928</td>\n",
       "      <td>39.230023</td>\n",
       "      <td>Zimbabwe</td>\n",
       "      <td>Africa</td>\n",
       "      <td>0.278630</td>\n",
       "    </tr>\n",
       "    <tr>\n",
       "      <th>1173</th>\n",
       "      <td>2040</td>\n",
       "      <td>1.862339e+07</td>\n",
       "      <td>2.148732e+05</td>\n",
       "      <td>-168614.251398</td>\n",
       "      <td>19.286302</td>\n",
       "      <td>2.317941</td>\n",
       "      <td>7.391596e+06</td>\n",
       "      <td>0.011538</td>\n",
       "      <td>39.689850</td>\n",
       "      <td>Zimbabwe</td>\n",
       "      <td>Africa</td>\n",
       "      <td>0.278630</td>\n",
       "    </tr>\n",
       "    <tr>\n",
       "      <th>1174</th>\n",
       "      <td>2050</td>\n",
       "      <td>2.045809e+07</td>\n",
       "      <td>2.222171e+05</td>\n",
       "      <td>-191678.536552</td>\n",
       "      <td>19.686949</td>\n",
       "      <td>1.678583</td>\n",
       "      <td>8.282621e+06</td>\n",
       "      <td>0.010862</td>\n",
       "      <td>40.485791</td>\n",
       "      <td>Zimbabwe</td>\n",
       "      <td>Africa</td>\n",
       "      <td>0.278630</td>\n",
       "    </tr>\n",
       "  </tbody>\n",
       "</table>\n",
       "<p>1175 rows × 12 columns</p>\n",
       "</div>"
      ],
      "text/plain": [
       "      Year    Population  YearlyChange  Migrants(net)  MedianAge  \\\n",
       "0     2025  3.778951e+07  1.015350e+06  -44993.213325  16.582543   \n",
       "1     2030  4.028908e+07  1.091289e+06  -42795.797468  16.486920   \n",
       "2     2035  4.278864e+07  1.167229e+06  -40598.381611  16.391296   \n",
       "3     2040  4.528821e+07  1.243168e+06  -38400.965754  16.295673   \n",
       "4     2050  5.028734e+07  1.395047e+06  -34006.134040  16.104425   \n",
       "...    ...           ...           ...            ...        ...   \n",
       "1170  2025  1.587134e+07  2.038575e+05 -134017.823668  18.685330   \n",
       "1171  2030  1.678869e+07  2.075294e+05 -145549.966245  18.885654   \n",
       "1172  2035  1.770604e+07  2.112013e+05 -157082.108822  19.085978   \n",
       "1173  2040  1.862339e+07  2.148732e+05 -168614.251398  19.286302   \n",
       "1174  2050  2.045809e+07  2.222171e+05 -191678.536552  19.686949   \n",
       "\n",
       "      FertilityRate  UrbanPopulation  Yearly%Change  UrbanPop%      Country  \\\n",
       "0          5.409869     9.517517e+06       0.026869  25.185605  Afghanistan   \n",
       "1          5.210928     1.027058e+07       0.027086  25.492221  Afghanistan   \n",
       "2          5.011988     1.102364e+07       0.027279  25.763014  Afghanistan   \n",
       "3          4.813048     1.177671e+07       0.027450  26.003915  Afghanistan   \n",
       "4          4.415167     1.328284e+07       0.027742  26.413873  Afghanistan   \n",
       "...             ...              ...            ...        ...          ...   \n",
       "1170       3.276979     6.055059e+06       0.012844  38.150902     Zimbabwe   \n",
       "1171       2.957300     6.500572e+06       0.012361  38.719944     Zimbabwe   \n",
       "1172       2.637620     6.946084e+06       0.011928  39.230023     Zimbabwe   \n",
       "1173       2.317941     7.391596e+06       0.011538  39.689850     Zimbabwe   \n",
       "1174       1.678583     8.282621e+06       0.010862  40.485791     Zimbabwe   \n",
       "\n",
       "     Continent  LossFunctCheck  \n",
       "0         Asia        1.482467  \n",
       "1         Asia        1.482467  \n",
       "2         Asia        1.482467  \n",
       "3         Asia        1.482467  \n",
       "4         Asia        1.482467  \n",
       "...        ...             ...  \n",
       "1170    Africa        0.278630  \n",
       "1171    Africa        0.278630  \n",
       "1172    Africa        0.278630  \n",
       "1173    Africa        0.278630  \n",
       "1174    Africa        0.278630  \n",
       "\n",
       "[1175 rows x 12 columns]"
      ]
     },
     "execution_count": 13,
     "metadata": {},
     "output_type": "execute_result"
    }
   ],
   "source": [
    "LD1"
   ]
  },
  {
   "cell_type": "code",
   "execution_count": 14,
   "metadata": {},
   "outputs": [
    {
     "data": {
      "application/vnd.plotly.v1+json": {
       "config": {
        "plotlyServerURL": "https://plot.ly"
       },
       "data": [
        {
         "hovertemplate": "Continent=Asia<br>Country=%{x}<br>LossFunctCheck=%{y}<extra></extra>",
         "legendgroup": "Asia",
         "marker": {
          "color": "#636efa",
          "symbol": "circle"
         },
         "mode": "markers",
         "name": "Asia",
         "orientation": "v",
         "showlegend": true,
         "type": "scatter",
         "x": [
          "Afghanistan",
          "Armenia",
          "Azerbaijan",
          "Bahrain",
          "Bangladesh",
          "Bhutan",
          "Brunei ",
          "Cambodia",
          "China",
          "Cyprus",
          "Georgia",
          "Hong Kong",
          "India",
          "Indonesia",
          "Iran",
          "Iraq",
          "Israel",
          "Japan",
          "Jordan",
          "Kazakhstan",
          "Kuwait",
          "Kyrgyzstan",
          "Laos",
          "Lebanon",
          "Macao",
          "Malaysia",
          "Maldives",
          "Mongolia",
          "Myanmar",
          "Nepal",
          "North Korea",
          "Oman",
          "Pakistan",
          "Philippines",
          "Qatar",
          "Saudi Arabia",
          "Singapore",
          "South Korea",
          "Sri Lanka",
          "State of Palestine",
          "Syria",
          "Taiwan",
          "Tajikistan",
          "Thailand",
          "Timor-Leste",
          "Turkey",
          "Turkmenistan",
          "United Arab Emirates",
          "Uzbekistan",
          "Vietnam",
          "Yemen"
         ],
         "xaxis": "x",
         "y": [
          1.4824674753507956,
          0.356288455085149,
          0.5963774177802644,
          0.11324317777214758,
          0.22587317740627086,
          0.5539462863162224,
          0.6962670483849306,
          0.4092084851519435,
          0.1383241387940755,
          0.1894058163969433,
          0.5958440684261483,
          1.3087405289771845,
          0.13425035935074958,
          0.14225593819011118,
          0.315135891344051,
          0.6071876083045545,
          0.23221427003673023,
          0.27369364987683575,
          0.3858678518522242,
          0.44686329268845654,
          0.3016560696480365,
          0.21750189176116644,
          0.15166569358235807,
          0.618442619900854,
          0.14316874320525438,
          0.13131061510016986,
          0.11477073410537897,
          0.44477892851897005,
          0.14868693764925425,
          0.47917252077863975,
          0.3456435591590807,
          0.13964837071722427,
          0.09840236385564231,
          0.1745993823976512,
          0.20700929364620668,
          0.16604705552390361,
          0.34950944262252664,
          0.9935094286174703,
          0.08557603206834341,
          0.48450931249544293,
          0.28993215126764854,
          0.38888475353668434,
          0.10091639817602673,
          0.9192221862188096,
          0.1617059200816668,
          0.10009619643783653,
          0.14681817323793098,
          0.3515887995639531,
          0.14669596557332268,
          0.5547654549625773,
          15.742679035787212
         ],
         "yaxis": "y"
        },
        {
         "hovertemplate": "Continent=Europe<br>Country=%{x}<br>LossFunctCheck=%{y}<extra></extra>",
         "legendgroup": "Europe",
         "marker": {
          "color": "#EF553B",
          "symbol": "circle"
         },
         "mode": "markers",
         "name": "Europe",
         "orientation": "v",
         "showlegend": true,
         "type": "scatter",
         "x": [
          "Albania",
          "Andorra",
          "Austria",
          "Belarus",
          "Belgium",
          "Bosnia and Herzegovina",
          "Bulgaria",
          "Channel Islands",
          "Croatia",
          "Czech Republic (Czechia)",
          "Denmark",
          "Estonia",
          "Faeroe Islands",
          "Finland",
          "France",
          "Germany",
          "Gibraltar",
          "Greece",
          "Holy See",
          "Hungary",
          "Iceland",
          "Ireland",
          "Isle of Man",
          "Italy",
          "Latvia",
          "Liechtenstein",
          "Lithuania",
          "Luxembourg",
          "Malta",
          "Moldova",
          "Monaco",
          "Montenegro",
          "Netherlands",
          "North Macedonia",
          "Norway",
          "Poland",
          "Portugal",
          "Romania",
          "Russia",
          "San Marino",
          "Serbia",
          "Slovakia",
          "Slovenia",
          "Spain",
          "Sweden",
          "Switzerland",
          "Ukraine",
          "United Kingdom"
         ],
         "xaxis": "x",
         "y": [
          0.2280191332837603,
          0.13913106331479513,
          0.14657776112614007,
          0.21847708989056439,
          0.1796506847638646,
          0.8411860270772996,
          1.028595586502993,
          0.17531322698285076,
          0.44248837648558875,
          0.234718751073857,
          0.22211129443976507,
          0.9112560821130491,
          0.11264153184498989,
          0.10866310116483378,
          0.18674507345825953,
          1.9784605663519115,
          0.16595176448686125,
          58.64108908591023,
          0.3165486035893166,
          0.2747854362458397,
          0.30657370276294127,
          0.1303085667105267,
          0.2794183876094632,
          0.13877119517880743,
          0.8381946169530282,
          0.09376794958943285,
          0.605324470394252,
          0.09178982428622671,
          0.15926603763361197,
          0.21274072271531896,
          0.14507177546764602,
          0.5080123257783906,
          0.17771943417568134,
          0.2205238121855405,
          0.12240522102547051,
          0.2808847604029157,
          0.20930773989618182,
          2.4431465447620715,
          0.16626033073343785,
          0.15581055617485665,
          3.400588469755053,
          0.8553713484751712,
          0.27559797031846306,
          0.28001671440634907,
          0.1809289355477672,
          0.3419418065952719,
          2.1887074165826212,
          0.14087591829736104
         ],
         "yaxis": "y"
        },
        {
         "hovertemplate": "Continent=Africa<br>Country=%{x}<br>LossFunctCheck=%{y}<extra></extra>",
         "legendgroup": "Africa",
         "marker": {
          "color": "#00cc96",
          "symbol": "circle"
         },
         "mode": "markers",
         "name": "Africa",
         "orientation": "v",
         "showlegend": true,
         "type": "scatter",
         "x": [
          "Algeria",
          "Angola",
          "Benin",
          "Botswana",
          "Burkina Faso",
          "Burundi",
          "Cabo Verde",
          "Cameroon",
          "Central African Republic",
          "Chad",
          "Comoros",
          "Congo",
          "Côte d'Ivoire",
          "DR Congo",
          "Djibouti",
          "Egypt",
          "Equatorial Guinea",
          "Eritrea",
          "Eswatini",
          "Ethiopia",
          "Gabon",
          "Gambia",
          "Ghana",
          "Guinea",
          "Guinea-Bissau",
          "Kenya",
          "Lesotho",
          "Liberia",
          "Libya",
          "Madagascar",
          "Malawi",
          "Mali",
          "Mauritania",
          "Mauritius",
          "Mayotte",
          "Morocco",
          "Mozambique",
          "Namibia",
          "Niger",
          "Nigeria",
          "Rwanda",
          "Réunion",
          "Saint Helena",
          "Sao Tome & Principe",
          "Senegal",
          "Seychelles",
          "Sierra Leone",
          "Somalia",
          "South Africa",
          "South Sudan",
          "Sudan",
          "Tanzania",
          "Togo",
          "Tunisia",
          "Uganda",
          "Western Sahara",
          "Zambia",
          "Zimbabwe"
         ],
         "xaxis": "x",
         "y": [
          0.12839148149416646,
          0.17253206418865266,
          0.4421237033250501,
          0.23525617121606154,
          0.3280320782748924,
          0.2400955883449675,
          0.3332363362649267,
          0.09749066437217357,
          0.13099972614906147,
          0.17192060559835776,
          0.11243951086778625,
          0.6152042489657971,
          0.11739951039636255,
          2.6242995836945635,
          0.3522629151645091,
          4.041715126808387,
          0.11420880058273127,
          0.2752102111130624,
          14.516534856135843,
          0.30768916095789245,
          0.15926536502109143,
          0.12947122699781288,
          0.5562643296337394,
          0.21964602046799356,
          0.3096388828187013,
          0.22036699838259233,
          0.3548507162801826,
          1.3944049963985332,
          0.2804964969055968,
          0.7822287425513625,
          0.4156935071399615,
          0.1752157075181708,
          0.15773836170576583,
          0.1673249289256343,
          0.22670088236961586,
          0.27673454454921137,
          1.064500494210682,
          0.18970504875959385,
          0.16926867120787312,
          0.14728696742008976,
          9.174403982249375,
          0.4571192131247539,
          0.4892887591834159,
          0.1744583168507321,
          0.09449950428800656,
          0.5756496006419872,
          1.9329611664596442,
          0.2740351037542301,
          0.09983073704031603,
          0.2886995840856879,
          0.12848028943149917,
          0.1415223559572906,
          0.44469198057054965,
          0.38852675333342007,
          0.16054790879120803,
          0.26364679409047254,
          0.18665977854326632,
          0.27862992859421715
         ],
         "yaxis": "y"
        },
        {
         "hovertemplate": "Continent=Oceania<br>Country=%{x}<br>LossFunctCheck=%{y}<extra></extra>",
         "legendgroup": "Oceania",
         "marker": {
          "color": "#ab63fa",
          "symbol": "circle"
         },
         "mode": "markers",
         "name": "Oceania",
         "orientation": "v",
         "showlegend": true,
         "type": "scatter",
         "x": [
          "American Samoa",
          "Australia",
          "Cook Islands",
          "Fiji",
          "French Polynesia",
          "Guam",
          "Kiribati",
          "Marshall Islands",
          "Micronesia",
          "Nauru",
          "New Caledonia",
          "New Zealand",
          "Niue",
          "Northern Mariana Islands",
          "Palau",
          "Papua New Guinea",
          "Samoa",
          "Solomon Islands",
          "Tokelau",
          "Tonga",
          "Tuvalu",
          "Vanuatu",
          "Wallis & Futuna"
         ],
         "xaxis": "x",
         "y": [
          0.15211450879250435,
          0.13696580770592384,
          0.354400350498215,
          0.147614827388385,
          0.20647464334347468,
          0.6471518446670681,
          0.10691517599848255,
          0.2773099199550323,
          0.6479644453081208,
          0.14973713542786274,
          0.3916763622743114,
          1.2094478765294847,
          0.2094395900579693,
          0.6699687963307075,
          0.16428773591032592,
          0.5610912515330008,
          0.19172728823985832,
          0.06962546265751775,
          0.11095767210917962,
          0.3828847434563339,
          0.1311828508318039,
          0.3624752976624855,
          0.1323802959235945
         ],
         "yaxis": "y"
        },
        {
         "hovertemplate": "Continent=Latin America and the Caribbean<br>Country=%{x}<br>LossFunctCheck=%{y}<extra></extra>",
         "legendgroup": "Latin America and the Caribbean",
         "marker": {
          "color": "#FFA15A",
          "symbol": "circle"
         },
         "mode": "markers",
         "name": "Latin America and the Caribbean",
         "orientation": "v",
         "showlegend": true,
         "type": "scatter",
         "x": [
          "Anguilla",
          "Antigua and Barbuda",
          "Argentina",
          "Aruba",
          "Bahamas",
          "Barbados",
          "Belize",
          "Bolivia",
          "Brazil",
          "British Virgin Islands",
          "Caribbean Netherlands",
          "Cayman Islands",
          "Chile",
          "Colombia",
          "Costa Rica",
          "Cuba",
          "Curaçao",
          "Dominica",
          "Dominican Republic",
          "Ecuador",
          "El Salvador",
          "Falkland Islands",
          "French Guiana",
          "Grenada",
          "Guadeloupe",
          "Guatemala",
          "Guyana",
          "Haiti",
          "Honduras",
          "Jamaica",
          "Martinique",
          "Mexico",
          "Montserrat",
          "Nicaragua",
          "Panama",
          "Paraguay",
          "Peru",
          "Puerto Rico",
          "Saint Kitts & Nevis",
          "Saint Lucia",
          "Saint Martin",
          "Sint Maarten",
          "St. Vincent & Grenadines",
          "Suriname",
          "Trinidad and Tobago",
          "Turks and Caicos",
          "U.S. Virgin Islands",
          "Uruguay",
          "Venezuela"
         ],
         "xaxis": "x",
         "y": [
          0.12112160295207947,
          0.3245159325890044,
          0.17220213950977967,
          0.6474270266007808,
          3.5916006088810923,
          2.2176672580538908,
          0.11163841726495587,
          0.10213102681060292,
          1.4221363762543293,
          0.1843561995200028,
          0.15488637925319532,
          0.09865300921699255,
          0.10651515890783997,
          0.13555491479638684,
          0.5050049775200335,
          0.27593533428704475,
          0.44605626924475744,
          0.16232916254025456,
          0.3951865562937726,
          0.12534138930661612,
          0.11911392283249844,
          0.09993306066895101,
          0.27180405252913975,
          0.671659870371482,
          0.8148340218180334,
          1.2608456237028791,
          0.5798468171395542,
          0.06683793402631595,
          0.402846628805118,
          0.1558381775569832,
          0.3916951949226095,
          2.086295589254092,
          0.48485194656924024,
          0.1390117519572681,
          0.05189974258609894,
          0.25334727082677266,
          0.5218622916362871,
          0.23957440259080032,
          0.24817959676630894,
          1.0763843222194833,
          0.6016450556386334,
          0.31881577360557806,
          0.12069090211325333,
          6.839558175821515,
          0.17840684759965209,
          0.09834194877519137,
          0.22322893327966073,
          1.1743729380975212,
          0.14881002159908527
         ],
         "yaxis": "y"
        },
        {
         "hovertemplate": "Continent=Northern America<br>Country=%{x}<br>LossFunctCheck=%{y}<extra></extra>",
         "legendgroup": "Northern America",
         "marker": {
          "color": "#19d3f3",
          "symbol": "circle"
         },
         "mode": "markers",
         "name": "Northern America",
         "orientation": "v",
         "showlegend": true,
         "type": "scatter",
         "x": [
          "Bermuda",
          "Canada",
          "Greenland",
          "Saint Pierre & Miquelon",
          "United States"
         ],
         "xaxis": "x",
         "y": [
          0.0837612477268553,
          0.35295099359528975,
          0.10199094477391857,
          0.14863680428700513,
          0.2810614026654387
         ],
         "yaxis": "y"
        },
        {
         "hovertemplate": "Continent=North America<br>Country=%{x}<br>LossFunctCheck=%{y}<extra></extra>",
         "legendgroup": "North America",
         "marker": {
          "color": "#FF6692",
          "symbol": "circle"
         },
         "mode": "markers",
         "name": "North America",
         "orientation": "v",
         "showlegend": true,
         "type": "scatter",
         "x": [
          "Saint Barthelemy"
         ],
         "xaxis": "x",
         "y": [
          0.22835541592708344
         ],
         "yaxis": "y"
        }
       ],
       "layout": {
        "legend": {
         "title": {
          "text": "Continent"
         },
         "tracegroupgap": 0
        },
        "margin": {
         "t": 60
        },
        "template": {
         "data": {
          "bar": [
           {
            "error_x": {
             "color": "#2a3f5f"
            },
            "error_y": {
             "color": "#2a3f5f"
            },
            "marker": {
             "line": {
              "color": "#E5ECF6",
              "width": 0.5
             },
             "pattern": {
              "fillmode": "overlay",
              "size": 10,
              "solidity": 0.2
             }
            },
            "type": "bar"
           }
          ],
          "barpolar": [
           {
            "marker": {
             "line": {
              "color": "#E5ECF6",
              "width": 0.5
             },
             "pattern": {
              "fillmode": "overlay",
              "size": 10,
              "solidity": 0.2
             }
            },
            "type": "barpolar"
           }
          ],
          "carpet": [
           {
            "aaxis": {
             "endlinecolor": "#2a3f5f",
             "gridcolor": "white",
             "linecolor": "white",
             "minorgridcolor": "white",
             "startlinecolor": "#2a3f5f"
            },
            "baxis": {
             "endlinecolor": "#2a3f5f",
             "gridcolor": "white",
             "linecolor": "white",
             "minorgridcolor": "white",
             "startlinecolor": "#2a3f5f"
            },
            "type": "carpet"
           }
          ],
          "choropleth": [
           {
            "colorbar": {
             "outlinewidth": 0,
             "ticks": ""
            },
            "type": "choropleth"
           }
          ],
          "contour": [
           {
            "colorbar": {
             "outlinewidth": 0,
             "ticks": ""
            },
            "colorscale": [
             [
              0,
              "#0d0887"
             ],
             [
              0.1111111111111111,
              "#46039f"
             ],
             [
              0.2222222222222222,
              "#7201a8"
             ],
             [
              0.3333333333333333,
              "#9c179e"
             ],
             [
              0.4444444444444444,
              "#bd3786"
             ],
             [
              0.5555555555555556,
              "#d8576b"
             ],
             [
              0.6666666666666666,
              "#ed7953"
             ],
             [
              0.7777777777777778,
              "#fb9f3a"
             ],
             [
              0.8888888888888888,
              "#fdca26"
             ],
             [
              1,
              "#f0f921"
             ]
            ],
            "type": "contour"
           }
          ],
          "contourcarpet": [
           {
            "colorbar": {
             "outlinewidth": 0,
             "ticks": ""
            },
            "type": "contourcarpet"
           }
          ],
          "heatmap": [
           {
            "colorbar": {
             "outlinewidth": 0,
             "ticks": ""
            },
            "colorscale": [
             [
              0,
              "#0d0887"
             ],
             [
              0.1111111111111111,
              "#46039f"
             ],
             [
              0.2222222222222222,
              "#7201a8"
             ],
             [
              0.3333333333333333,
              "#9c179e"
             ],
             [
              0.4444444444444444,
              "#bd3786"
             ],
             [
              0.5555555555555556,
              "#d8576b"
             ],
             [
              0.6666666666666666,
              "#ed7953"
             ],
             [
              0.7777777777777778,
              "#fb9f3a"
             ],
             [
              0.8888888888888888,
              "#fdca26"
             ],
             [
              1,
              "#f0f921"
             ]
            ],
            "type": "heatmap"
           }
          ],
          "heatmapgl": [
           {
            "colorbar": {
             "outlinewidth": 0,
             "ticks": ""
            },
            "colorscale": [
             [
              0,
              "#0d0887"
             ],
             [
              0.1111111111111111,
              "#46039f"
             ],
             [
              0.2222222222222222,
              "#7201a8"
             ],
             [
              0.3333333333333333,
              "#9c179e"
             ],
             [
              0.4444444444444444,
              "#bd3786"
             ],
             [
              0.5555555555555556,
              "#d8576b"
             ],
             [
              0.6666666666666666,
              "#ed7953"
             ],
             [
              0.7777777777777778,
              "#fb9f3a"
             ],
             [
              0.8888888888888888,
              "#fdca26"
             ],
             [
              1,
              "#f0f921"
             ]
            ],
            "type": "heatmapgl"
           }
          ],
          "histogram": [
           {
            "marker": {
             "pattern": {
              "fillmode": "overlay",
              "size": 10,
              "solidity": 0.2
             }
            },
            "type": "histogram"
           }
          ],
          "histogram2d": [
           {
            "colorbar": {
             "outlinewidth": 0,
             "ticks": ""
            },
            "colorscale": [
             [
              0,
              "#0d0887"
             ],
             [
              0.1111111111111111,
              "#46039f"
             ],
             [
              0.2222222222222222,
              "#7201a8"
             ],
             [
              0.3333333333333333,
              "#9c179e"
             ],
             [
              0.4444444444444444,
              "#bd3786"
             ],
             [
              0.5555555555555556,
              "#d8576b"
             ],
             [
              0.6666666666666666,
              "#ed7953"
             ],
             [
              0.7777777777777778,
              "#fb9f3a"
             ],
             [
              0.8888888888888888,
              "#fdca26"
             ],
             [
              1,
              "#f0f921"
             ]
            ],
            "type": "histogram2d"
           }
          ],
          "histogram2dcontour": [
           {
            "colorbar": {
             "outlinewidth": 0,
             "ticks": ""
            },
            "colorscale": [
             [
              0,
              "#0d0887"
             ],
             [
              0.1111111111111111,
              "#46039f"
             ],
             [
              0.2222222222222222,
              "#7201a8"
             ],
             [
              0.3333333333333333,
              "#9c179e"
             ],
             [
              0.4444444444444444,
              "#bd3786"
             ],
             [
              0.5555555555555556,
              "#d8576b"
             ],
             [
              0.6666666666666666,
              "#ed7953"
             ],
             [
              0.7777777777777778,
              "#fb9f3a"
             ],
             [
              0.8888888888888888,
              "#fdca26"
             ],
             [
              1,
              "#f0f921"
             ]
            ],
            "type": "histogram2dcontour"
           }
          ],
          "mesh3d": [
           {
            "colorbar": {
             "outlinewidth": 0,
             "ticks": ""
            },
            "type": "mesh3d"
           }
          ],
          "parcoords": [
           {
            "line": {
             "colorbar": {
              "outlinewidth": 0,
              "ticks": ""
             }
            },
            "type": "parcoords"
           }
          ],
          "pie": [
           {
            "automargin": true,
            "type": "pie"
           }
          ],
          "scatter": [
           {
            "fillpattern": {
             "fillmode": "overlay",
             "size": 10,
             "solidity": 0.2
            },
            "type": "scatter"
           }
          ],
          "scatter3d": [
           {
            "line": {
             "colorbar": {
              "outlinewidth": 0,
              "ticks": ""
             }
            },
            "marker": {
             "colorbar": {
              "outlinewidth": 0,
              "ticks": ""
             }
            },
            "type": "scatter3d"
           }
          ],
          "scattercarpet": [
           {
            "marker": {
             "colorbar": {
              "outlinewidth": 0,
              "ticks": ""
             }
            },
            "type": "scattercarpet"
           }
          ],
          "scattergeo": [
           {
            "marker": {
             "colorbar": {
              "outlinewidth": 0,
              "ticks": ""
             }
            },
            "type": "scattergeo"
           }
          ],
          "scattergl": [
           {
            "marker": {
             "colorbar": {
              "outlinewidth": 0,
              "ticks": ""
             }
            },
            "type": "scattergl"
           }
          ],
          "scattermapbox": [
           {
            "marker": {
             "colorbar": {
              "outlinewidth": 0,
              "ticks": ""
             }
            },
            "type": "scattermapbox"
           }
          ],
          "scatterpolar": [
           {
            "marker": {
             "colorbar": {
              "outlinewidth": 0,
              "ticks": ""
             }
            },
            "type": "scatterpolar"
           }
          ],
          "scatterpolargl": [
           {
            "marker": {
             "colorbar": {
              "outlinewidth": 0,
              "ticks": ""
             }
            },
            "type": "scatterpolargl"
           }
          ],
          "scatterternary": [
           {
            "marker": {
             "colorbar": {
              "outlinewidth": 0,
              "ticks": ""
             }
            },
            "type": "scatterternary"
           }
          ],
          "surface": [
           {
            "colorbar": {
             "outlinewidth": 0,
             "ticks": ""
            },
            "colorscale": [
             [
              0,
              "#0d0887"
             ],
             [
              0.1111111111111111,
              "#46039f"
             ],
             [
              0.2222222222222222,
              "#7201a8"
             ],
             [
              0.3333333333333333,
              "#9c179e"
             ],
             [
              0.4444444444444444,
              "#bd3786"
             ],
             [
              0.5555555555555556,
              "#d8576b"
             ],
             [
              0.6666666666666666,
              "#ed7953"
             ],
             [
              0.7777777777777778,
              "#fb9f3a"
             ],
             [
              0.8888888888888888,
              "#fdca26"
             ],
             [
              1,
              "#f0f921"
             ]
            ],
            "type": "surface"
           }
          ],
          "table": [
           {
            "cells": {
             "fill": {
              "color": "#EBF0F8"
             },
             "line": {
              "color": "white"
             }
            },
            "header": {
             "fill": {
              "color": "#C8D4E3"
             },
             "line": {
              "color": "white"
             }
            },
            "type": "table"
           }
          ]
         },
         "layout": {
          "annotationdefaults": {
           "arrowcolor": "#2a3f5f",
           "arrowhead": 0,
           "arrowwidth": 1
          },
          "autotypenumbers": "strict",
          "coloraxis": {
           "colorbar": {
            "outlinewidth": 0,
            "ticks": ""
           }
          },
          "colorscale": {
           "diverging": [
            [
             0,
             "#8e0152"
            ],
            [
             0.1,
             "#c51b7d"
            ],
            [
             0.2,
             "#de77ae"
            ],
            [
             0.3,
             "#f1b6da"
            ],
            [
             0.4,
             "#fde0ef"
            ],
            [
             0.5,
             "#f7f7f7"
            ],
            [
             0.6,
             "#e6f5d0"
            ],
            [
             0.7,
             "#b8e186"
            ],
            [
             0.8,
             "#7fbc41"
            ],
            [
             0.9,
             "#4d9221"
            ],
            [
             1,
             "#276419"
            ]
           ],
           "sequential": [
            [
             0,
             "#0d0887"
            ],
            [
             0.1111111111111111,
             "#46039f"
            ],
            [
             0.2222222222222222,
             "#7201a8"
            ],
            [
             0.3333333333333333,
             "#9c179e"
            ],
            [
             0.4444444444444444,
             "#bd3786"
            ],
            [
             0.5555555555555556,
             "#d8576b"
            ],
            [
             0.6666666666666666,
             "#ed7953"
            ],
            [
             0.7777777777777778,
             "#fb9f3a"
            ],
            [
             0.8888888888888888,
             "#fdca26"
            ],
            [
             1,
             "#f0f921"
            ]
           ],
           "sequentialminus": [
            [
             0,
             "#0d0887"
            ],
            [
             0.1111111111111111,
             "#46039f"
            ],
            [
             0.2222222222222222,
             "#7201a8"
            ],
            [
             0.3333333333333333,
             "#9c179e"
            ],
            [
             0.4444444444444444,
             "#bd3786"
            ],
            [
             0.5555555555555556,
             "#d8576b"
            ],
            [
             0.6666666666666666,
             "#ed7953"
            ],
            [
             0.7777777777777778,
             "#fb9f3a"
            ],
            [
             0.8888888888888888,
             "#fdca26"
            ],
            [
             1,
             "#f0f921"
            ]
           ]
          },
          "colorway": [
           "#636efa",
           "#EF553B",
           "#00cc96",
           "#ab63fa",
           "#FFA15A",
           "#19d3f3",
           "#FF6692",
           "#B6E880",
           "#FF97FF",
           "#FECB52"
          ],
          "font": {
           "color": "#2a3f5f"
          },
          "geo": {
           "bgcolor": "white",
           "lakecolor": "white",
           "landcolor": "#E5ECF6",
           "showlakes": true,
           "showland": true,
           "subunitcolor": "white"
          },
          "hoverlabel": {
           "align": "left"
          },
          "hovermode": "closest",
          "mapbox": {
           "style": "light"
          },
          "paper_bgcolor": "white",
          "plot_bgcolor": "#E5ECF6",
          "polar": {
           "angularaxis": {
            "gridcolor": "white",
            "linecolor": "white",
            "ticks": ""
           },
           "bgcolor": "#E5ECF6",
           "radialaxis": {
            "gridcolor": "white",
            "linecolor": "white",
            "ticks": ""
           }
          },
          "scene": {
           "xaxis": {
            "backgroundcolor": "#E5ECF6",
            "gridcolor": "white",
            "gridwidth": 2,
            "linecolor": "white",
            "showbackground": true,
            "ticks": "",
            "zerolinecolor": "white"
           },
           "yaxis": {
            "backgroundcolor": "#E5ECF6",
            "gridcolor": "white",
            "gridwidth": 2,
            "linecolor": "white",
            "showbackground": true,
            "ticks": "",
            "zerolinecolor": "white"
           },
           "zaxis": {
            "backgroundcolor": "#E5ECF6",
            "gridcolor": "white",
            "gridwidth": 2,
            "linecolor": "white",
            "showbackground": true,
            "ticks": "",
            "zerolinecolor": "white"
           }
          },
          "shapedefaults": {
           "line": {
            "color": "#2a3f5f"
           }
          },
          "ternary": {
           "aaxis": {
            "gridcolor": "white",
            "linecolor": "white",
            "ticks": ""
           },
           "baxis": {
            "gridcolor": "white",
            "linecolor": "white",
            "ticks": ""
           },
           "bgcolor": "#E5ECF6",
           "caxis": {
            "gridcolor": "white",
            "linecolor": "white",
            "ticks": ""
           }
          },
          "title": {
           "x": 0.05
          },
          "xaxis": {
           "automargin": true,
           "gridcolor": "white",
           "linecolor": "white",
           "ticks": "",
           "title": {
            "standoff": 15
           },
           "zerolinecolor": "white",
           "zerolinewidth": 2
          },
          "yaxis": {
           "automargin": true,
           "gridcolor": "white",
           "linecolor": "white",
           "ticks": "",
           "title": {
            "standoff": 15
           },
           "zerolinecolor": "white",
           "zerolinewidth": 2
          }
         }
        },
        "xaxis": {
         "anchor": "y",
         "domain": [
          0,
          1
         ],
         "title": {
          "text": "Country"
         },
         "visible": false
        },
        "yaxis": {
         "anchor": "x",
         "domain": [
          0,
          1
         ],
         "range": [
          0,
          5
         ],
         "title": {
          "text": "LossFunctCheck"
         }
        }
       }
      }
     },
     "metadata": {},
     "output_type": "display_data"
    }
   ],
   "source": [
    "fig=px.scatter(LD1[LD1['Year']==2050], x=\"Country\", y=\"LossFunctCheck\",range_y=[0,5],\n",
    "        color=\"Continent\")\n",
    "\n",
    "fig.update_xaxes(visible=False)\n",
    "fig.show()"
   ]
  },
  {
   "attachments": {},
   "cell_type": "markdown",
   "metadata": {},
   "source": [
    "Điểm trừ của Linear bậc 1 : biên độ bị lệch do ảnh hướng từ các số liệu tăng đột biến. Ví dụ giả sử Afghanistan có dân số lươn tăng theo thời gian thì dân số năm 2025 được dự đoán sẽ nhỏ hơn dân số năm 2020"
   ]
  },
  {
   "cell_type": "code",
   "execution_count": 15,
   "metadata": {},
   "outputs": [
    {
     "data": {
      "text/html": [
       "<div>\n",
       "<style scoped>\n",
       "    .dataframe tbody tr th:only-of-type {\n",
       "        vertical-align: middle;\n",
       "    }\n",
       "\n",
       "    .dataframe tbody tr th {\n",
       "        vertical-align: top;\n",
       "    }\n",
       "\n",
       "    .dataframe thead th {\n",
       "        text-align: right;\n",
       "    }\n",
       "</style>\n",
       "<table border=\"1\" class=\"dataframe\">\n",
       "  <thead>\n",
       "    <tr style=\"text-align: right;\">\n",
       "      <th></th>\n",
       "      <th>Year</th>\n",
       "      <th>Population</th>\n",
       "      <th>YearlyChange</th>\n",
       "      <th>Migrants(net)</th>\n",
       "      <th>MedianAge</th>\n",
       "      <th>FertilityRate</th>\n",
       "      <th>UrbanPopulation</th>\n",
       "      <th>Yearly%Change</th>\n",
       "      <th>UrbanPop%</th>\n",
       "      <th>Country</th>\n",
       "      <th>Continent</th>\n",
       "      <th>LossFunctCheck</th>\n",
       "    </tr>\n",
       "  </thead>\n",
       "  <tbody>\n",
       "    <tr>\n",
       "      <th>0</th>\n",
       "      <td>2025</td>\n",
       "      <td>4.467987e+07</td>\n",
       "      <td>1.152376e+06</td>\n",
       "      <td>24537.823051</td>\n",
       "      <td>18.398103</td>\n",
       "      <td>4.305322</td>\n",
       "      <td>1.139103e+07</td>\n",
       "      <td>0.025792</td>\n",
       "      <td>25.494761</td>\n",
       "      <td>Afghanistan</td>\n",
       "      <td>Asia</td>\n",
       "      <td>0.436912</td>\n",
       "    </tr>\n",
       "    <tr>\n",
       "      <th>1</th>\n",
       "      <td>2030</td>\n",
       "      <td>5.073961e+07</td>\n",
       "      <td>1.299116e+06</td>\n",
       "      <td>62661.154521</td>\n",
       "      <td>19.240558</td>\n",
       "      <td>3.535674</td>\n",
       "      <td>1.311211e+07</td>\n",
       "      <td>0.025604</td>\n",
       "      <td>25.841964</td>\n",
       "      <td>Afghanistan</td>\n",
       "      <td>Asia</td>\n",
       "      <td>0.436912</td>\n",
       "    </tr>\n",
       "    <tr>\n",
       "      <th>2</th>\n",
       "      <td>2035</td>\n",
       "      <td>5.727707e+07</td>\n",
       "      <td>1.455355e+06</td>\n",
       "      <td>105605.166009</td>\n",
       "      <td>20.208889</td>\n",
       "      <td>2.689447</td>\n",
       "      <td>1.496309e+07</td>\n",
       "      <td>0.025409</td>\n",
       "      <td>26.124051</td>\n",
       "      <td>Afghanistan</td>\n",
       "      <td>Asia</td>\n",
       "      <td>0.436912</td>\n",
       "    </tr>\n",
       "    <tr>\n",
       "      <th>3</th>\n",
       "      <td>2040</td>\n",
       "      <td>6.429225e+07</td>\n",
       "      <td>1.621095e+06</td>\n",
       "      <td>153369.857515</td>\n",
       "      <td>21.303095</td>\n",
       "      <td>1.766641</td>\n",
       "      <td>1.694396e+07</td>\n",
       "      <td>0.025214</td>\n",
       "      <td>26.354597</td>\n",
       "      <td>Afghanistan</td>\n",
       "      <td>Asia</td>\n",
       "      <td>0.436912</td>\n",
       "    </tr>\n",
       "    <tr>\n",
       "      <th>4</th>\n",
       "      <td>2050</td>\n",
       "      <td>7.975576e+07</td>\n",
       "      <td>1.981075e+06</td>\n",
       "      <td>263361.280580</td>\n",
       "      <td>23.869133</td>\n",
       "      <td>-0.308712</td>\n",
       "      <td>2.129539e+07</td>\n",
       "      <td>0.024839</td>\n",
       "      <td>26.700750</td>\n",
       "      <td>Afghanistan</td>\n",
       "      <td>Asia</td>\n",
       "      <td>0.436912</td>\n",
       "    </tr>\n",
       "    <tr>\n",
       "      <th>...</th>\n",
       "      <td>...</td>\n",
       "      <td>...</td>\n",
       "      <td>...</td>\n",
       "      <td>...</td>\n",
       "      <td>...</td>\n",
       "      <td>...</td>\n",
       "      <td>...</td>\n",
       "      <td>...</td>\n",
       "      <td>...</td>\n",
       "      <td>...</td>\n",
       "      <td>...</td>\n",
       "      <td>...</td>\n",
       "    </tr>\n",
       "    <tr>\n",
       "      <th>1170</th>\n",
       "      <td>2025</td>\n",
       "      <td>1.547988e+07</td>\n",
       "      <td>1.672271e+05</td>\n",
       "      <td>-155737.231362</td>\n",
       "      <td>19.810886</td>\n",
       "      <td>3.140785</td>\n",
       "      <td>6.271365e+06</td>\n",
       "      <td>0.010803</td>\n",
       "      <td>40.513016</td>\n",
       "      <td>Zimbabwe</td>\n",
       "      <td>Africa</td>\n",
       "      <td>0.161457</td>\n",
       "    </tr>\n",
       "    <tr>\n",
       "      <th>1171</th>\n",
       "      <td>2030</td>\n",
       "      <td>1.619496e+07</td>\n",
       "      <td>1.519725e+05</td>\n",
       "      <td>-178491.551093</td>\n",
       "      <td>20.592771</td>\n",
       "      <td>2.750736</td>\n",
       "      <td>6.828640e+06</td>\n",
       "      <td>0.009384</td>\n",
       "      <td>42.165210</td>\n",
       "      <td>Zimbabwe</td>\n",
       "      <td>Africa</td>\n",
       "      <td>0.161457</td>\n",
       "    </tr>\n",
       "    <tr>\n",
       "      <th>1172</th>\n",
       "      <td>2035</td>\n",
       "      <td>1.688291e+07</td>\n",
       "      <td>1.341783e+05</td>\n",
       "      <td>-202751.706494</td>\n",
       "      <td>21.452693</td>\n",
       "      <td>2.351245</td>\n",
       "      <td>7.400911e+06</td>\n",
       "      <td>0.007948</td>\n",
       "      <td>43.836712</td>\n",
       "      <td>Zimbabwe</td>\n",
       "      <td>Africa</td>\n",
       "      <td>0.161457</td>\n",
       "    </tr>\n",
       "    <tr>\n",
       "      <th>1173</th>\n",
       "      <td>2040</td>\n",
       "      <td>1.754371e+07</td>\n",
       "      <td>1.138444e+05</td>\n",
       "      <td>-228517.697563</td>\n",
       "      <td>22.390652</td>\n",
       "      <td>1.942311</td>\n",
       "      <td>7.988179e+06</td>\n",
       "      <td>0.006489</td>\n",
       "      <td>45.533010</td>\n",
       "      <td>Zimbabwe</td>\n",
       "      <td>Africa</td>\n",
       "      <td>0.161457</td>\n",
       "    </tr>\n",
       "    <tr>\n",
       "      <th>1174</th>\n",
       "      <td>2050</td>\n",
       "      <td>1.878390e+07</td>\n",
       "      <td>6.555779e+04</td>\n",
       "      <td>-284567.186709</td>\n",
       "      <td>24.500677</td>\n",
       "      <td>1.096116</td>\n",
       "      <td>9.207706e+06</td>\n",
       "      <td>0.003490</td>\n",
       "      <td>49.019150</td>\n",
       "      <td>Zimbabwe</td>\n",
       "      <td>Africa</td>\n",
       "      <td>0.161457</td>\n",
       "    </tr>\n",
       "  </tbody>\n",
       "</table>\n",
       "<p>1175 rows × 12 columns</p>\n",
       "</div>"
      ],
      "text/plain": [
       "      Year    Population  YearlyChange  Migrants(net)  MedianAge  \\\n",
       "0     2025  4.467987e+07  1.152376e+06   24537.823051  18.398103   \n",
       "1     2030  5.073961e+07  1.299116e+06   62661.154521  19.240558   \n",
       "2     2035  5.727707e+07  1.455355e+06  105605.166009  20.208889   \n",
       "3     2040  6.429225e+07  1.621095e+06  153369.857515  21.303095   \n",
       "4     2050  7.975576e+07  1.981075e+06  263361.280580  23.869133   \n",
       "...    ...           ...           ...            ...        ...   \n",
       "1170  2025  1.547988e+07  1.672271e+05 -155737.231362  19.810886   \n",
       "1171  2030  1.619496e+07  1.519725e+05 -178491.551093  20.592771   \n",
       "1172  2035  1.688291e+07  1.341783e+05 -202751.706494  21.452693   \n",
       "1173  2040  1.754371e+07  1.138444e+05 -228517.697563  22.390652   \n",
       "1174  2050  1.878390e+07  6.555779e+04 -284567.186709  24.500677   \n",
       "\n",
       "      FertilityRate  UrbanPopulation  Yearly%Change  UrbanPop%      Country  \\\n",
       "0          4.305322     1.139103e+07       0.025792  25.494761  Afghanistan   \n",
       "1          3.535674     1.311211e+07       0.025604  25.841964  Afghanistan   \n",
       "2          2.689447     1.496309e+07       0.025409  26.124051  Afghanistan   \n",
       "3          1.766641     1.694396e+07       0.025214  26.354597  Afghanistan   \n",
       "4         -0.308712     2.129539e+07       0.024839  26.700750  Afghanistan   \n",
       "...             ...              ...            ...        ...          ...   \n",
       "1170       3.140785     6.271365e+06       0.010803  40.513016     Zimbabwe   \n",
       "1171       2.750736     6.828640e+06       0.009384  42.165210     Zimbabwe   \n",
       "1172       2.351245     7.400911e+06       0.007948  43.836712     Zimbabwe   \n",
       "1173       1.942311     7.988179e+06       0.006489  45.533010     Zimbabwe   \n",
       "1174       1.096116     9.207706e+06       0.003490  49.019150     Zimbabwe   \n",
       "\n",
       "     Continent  LossFunctCheck  \n",
       "0         Asia        0.436912  \n",
       "1         Asia        0.436912  \n",
       "2         Asia        0.436912  \n",
       "3         Asia        0.436912  \n",
       "4         Asia        0.436912  \n",
       "...        ...             ...  \n",
       "1170    Africa        0.161457  \n",
       "1171    Africa        0.161457  \n",
       "1172    Africa        0.161457  \n",
       "1173    Africa        0.161457  \n",
       "1174    Africa        0.161457  \n",
       "\n",
       "[1175 rows x 12 columns]"
      ]
     },
     "execution_count": 15,
     "metadata": {},
     "output_type": "execute_result"
    }
   ],
   "source": [
    "LD2"
   ]
  },
  {
   "cell_type": "code",
   "execution_count": 16,
   "metadata": {},
   "outputs": [
    {
     "data": {
      "application/vnd.plotly.v1+json": {
       "config": {
        "plotlyServerURL": "https://plot.ly"
       },
       "data": [
        {
         "hovertemplate": "Continent=Asia<br>Country=%{x}<br>LossFunctCheck=%{y}<extra></extra>",
         "legendgroup": "Asia",
         "marker": {
          "color": "#636efa",
          "symbol": "circle"
         },
         "mode": "markers",
         "name": "Asia",
         "orientation": "v",
         "showlegend": true,
         "type": "scatter",
         "x": [
          "Afghanistan",
          "Armenia",
          "Azerbaijan",
          "Bahrain",
          "Bangladesh",
          "Bhutan",
          "Brunei ",
          "Cambodia",
          "China",
          "Cyprus",
          "Georgia",
          "Hong Kong",
          "India",
          "Indonesia",
          "Iran",
          "Iraq",
          "Israel",
          "Japan",
          "Jordan",
          "Kazakhstan",
          "Kuwait",
          "Kyrgyzstan",
          "Laos",
          "Lebanon",
          "Macao",
          "Malaysia",
          "Maldives",
          "Mongolia",
          "Myanmar",
          "Nepal",
          "North Korea",
          "Oman",
          "Pakistan",
          "Philippines",
          "Qatar",
          "Saudi Arabia",
          "Singapore",
          "South Korea",
          "Sri Lanka",
          "State of Palestine",
          "Syria",
          "Taiwan",
          "Tajikistan",
          "Thailand",
          "Timor-Leste",
          "Turkey",
          "Turkmenistan",
          "United Arab Emirates",
          "Uzbekistan",
          "Vietnam",
          "Yemen"
         ],
         "xaxis": "x",
         "y": [
          0.4369122006562392,
          0.1452043658525729,
          0.3853779702320792,
          0.07962179356765724,
          0.09625588430849137,
          0.2068711722782609,
          0.05645453610218341,
          0.2510633174719701,
          0.09113844611689031,
          0.12913134797389011,
          0.16508630613658434,
          0.21082845377233292,
          0.04006221445173697,
          0.07142958070918703,
          0.16264319972140226,
          0.19573429737571177,
          0.22428971615535154,
          0.24140481399622807,
          0.3862856753831319,
          0.11240428673057479,
          0.2710946144888733,
          0.12890117837940596,
          0.10334841227845254,
          0.5609880550888252,
          0.09715711727688746,
          0.08439538068347464,
          0.06557884968021717,
          0.1632662667721861,
          0.0710706584963154,
          0.2780385635550819,
          0.10714060821933695,
          0.10487988432878266,
          0.05531666445596182,
          0.08137364302394756,
          0.18213900940832417,
          0.133358767135154,
          0.25605629961834736,
          0.1273629239508937,
          0.055790914736248615,
          0.2793891634881013,
          0.18137917222824063,
          0.13181838494575662,
          0.08460842029031401,
          0.15829206615719552,
          0.13511659142674415,
          0.06692748994732148,
          0.12234013282663309,
          0.24006249577280622,
          0.08245802782615953,
          0.11043994839726813,
          0.19050389782947133
         ],
         "yaxis": "y"
        },
        {
         "hovertemplate": "Continent=Europe<br>Country=%{x}<br>LossFunctCheck=%{y}<extra></extra>",
         "legendgroup": "Europe",
         "marker": {
          "color": "#EF553B",
          "symbol": "circle"
         },
         "mode": "markers",
         "name": "Europe",
         "orientation": "v",
         "showlegend": true,
         "type": "scatter",
         "x": [
          "Albania",
          "Andorra",
          "Austria",
          "Belarus",
          "Belgium",
          "Bosnia and Herzegovina",
          "Bulgaria",
          "Channel Islands",
          "Croatia",
          "Czech Republic (Czechia)",
          "Denmark",
          "Estonia",
          "Faeroe Islands",
          "Finland",
          "France",
          "Germany",
          "Gibraltar",
          "Greece",
          "Holy See",
          "Hungary",
          "Iceland",
          "Ireland",
          "Isle of Man",
          "Italy",
          "Latvia",
          "Liechtenstein",
          "Lithuania",
          "Luxembourg",
          "Malta",
          "Moldova",
          "Monaco",
          "Montenegro",
          "Netherlands",
          "North Macedonia",
          "Norway",
          "Poland",
          "Portugal",
          "Romania",
          "Russia",
          "San Marino",
          "Serbia",
          "Slovakia",
          "Slovenia",
          "Spain",
          "Sweden",
          "Switzerland",
          "Ukraine",
          "United Kingdom"
         ],
         "xaxis": "x",
         "y": [
          0.1441176417524899,
          0.07287037996256787,
          0.12842918206499074,
          0.11950368877894707,
          0.0917090626109982,
          0.20397196858734715,
          0.14334224265106824,
          0.1536298939143713,
          0.18588880765597937,
          0.13530327951971458,
          0.08926885590067778,
          0.17683746891483212,
          0.0980792227697021,
          0.08514805447730657,
          0.18028058696499027,
          0.15913960271127048,
          0.1652062918656278,
          0.10773976395308399,
          0.12286018440033297,
          0.17220408050106062,
          0.3090950670493956,
          0.11198666442798778,
          0.06096942502136666,
          0.1232242561516763,
          0.08528518996847263,
          0.049224794661047594,
          0.06994433072938208,
          0.05214872105897711,
          0.07346685910556762,
          0.07071845773090274,
          0.1289104127363599,
          0.15645157184035866,
          0.0523437098931482,
          0.09806197744595761,
          0.08105512123694149,
          0.15584161444787523,
          0.13854244712172395,
          0.08332288750438337,
          0.08100811200760923,
          0.10461537589245822,
          0.23308496469823636,
          0.07769972254387891,
          0.15454482738469566,
          0.18790611173467,
          0.1157682581585469,
          0.17136386093914094,
          0.5105947614244463,
          0.11084006929484476
         ],
         "yaxis": "y"
        },
        {
         "hovertemplate": "Continent=Africa<br>Country=%{x}<br>LossFunctCheck=%{y}<extra></extra>",
         "legendgroup": "Africa",
         "marker": {
          "color": "#00cc96",
          "symbol": "circle"
         },
         "mode": "markers",
         "name": "Africa",
         "orientation": "v",
         "showlegend": true,
         "type": "scatter",
         "x": [
          "Algeria",
          "Angola",
          "Benin",
          "Botswana",
          "Burkina Faso",
          "Burundi",
          "Cabo Verde",
          "Cameroon",
          "Central African Republic",
          "Chad",
          "Comoros",
          "Congo",
          "Côte d'Ivoire",
          "DR Congo",
          "Djibouti",
          "Egypt",
          "Equatorial Guinea",
          "Eritrea",
          "Eswatini",
          "Ethiopia",
          "Gabon",
          "Gambia",
          "Ghana",
          "Guinea",
          "Guinea-Bissau",
          "Kenya",
          "Lesotho",
          "Liberia",
          "Libya",
          "Madagascar",
          "Malawi",
          "Mali",
          "Mauritania",
          "Mauritius",
          "Mayotte",
          "Morocco",
          "Mozambique",
          "Namibia",
          "Niger",
          "Nigeria",
          "Rwanda",
          "Réunion",
          "Saint Helena",
          "Sao Tome & Principe",
          "Senegal",
          "Seychelles",
          "Sierra Leone",
          "Somalia",
          "South Africa",
          "South Sudan",
          "Sudan",
          "Tanzania",
          "Togo",
          "Tunisia",
          "Uganda",
          "Western Sahara",
          "Zambia",
          "Zimbabwe"
         ],
         "xaxis": "x",
         "y": [
          0.11196653440225997,
          0.07479649218661336,
          0.1112660410399658,
          0.11065986808938603,
          0.05698962225248395,
          0.08895894992838281,
          0.19916870489730368,
          0.05175454184291825,
          0.09305054719515816,
          0.14444177138448897,
          0.0864666602900595,
          0.1334429150681181,
          0.0690038537914472,
          0.6439520133898134,
          0.1965426753504896,
          0.07773497189903082,
          0.06844099189643764,
          0.2213101927281643,
          0.09070427797159282,
          0.27772742538150125,
          0.13551487610488414,
          0.061246154103880734,
          0.16635892846286832,
          0.09144012536048303,
          0.08191883497263132,
          0.12856834602088846,
          0.1980114118469686,
          0.6764502124793745,
          0.1538677904237729,
          0.07289220864048876,
          0.41799609206618954,
          0.08991949550923097,
          0.05183029853446763,
          0.0761060580838956,
          0.12436432215903237,
          0.10988119918568424,
          0.3089158768191013,
          0.17830584466879887,
          0.06533801387965359,
          0.12417291450001926,
          1.630972933843025,
          0.39879299380895755,
          0.19830312991163812,
          0.10390433410911137,
          0.056709637557712335,
          0.3426959530535351,
          0.921158037541726,
          0.273287266343272,
          0.06751504262193837,
          0.22896228666004984,
          0.11398646508506227,
          0.10898149402155656,
          0.3356215895076757,
          0.15400092634614407,
          0.08503547693809234,
          0.20205750778118056,
          0.11081001086373816,
          0.16145675458668876
         ],
         "yaxis": "y"
        },
        {
         "hovertemplate": "Continent=Oceania<br>Country=%{x}<br>LossFunctCheck=%{y}<extra></extra>",
         "legendgroup": "Oceania",
         "marker": {
          "color": "#ab63fa",
          "symbol": "circle"
         },
         "mode": "markers",
         "name": "Oceania",
         "orientation": "v",
         "showlegend": true,
         "type": "scatter",
         "x": [
          "American Samoa",
          "Australia",
          "Cook Islands",
          "Fiji",
          "French Polynesia",
          "Guam",
          "Kiribati",
          "Marshall Islands",
          "Micronesia",
          "Nauru",
          "New Caledonia",
          "New Zealand",
          "Niue",
          "Northern Mariana Islands",
          "Palau",
          "Papua New Guinea",
          "Samoa",
          "Solomon Islands",
          "Tokelau",
          "Tonga",
          "Tuvalu",
          "Vanuatu",
          "Wallis & Futuna"
         ],
         "xaxis": "x",
         "y": [
          0.06988384384559555,
          0.12944229726113737,
          0.20793635184807854,
          0.11378422668405573,
          0.07593170910596155,
          0.2594113185370544,
          0.09448840138251507,
          0.07828149008054154,
          0.1901831717221795,
          0.1324277329789786,
          0.17537696032924108,
          0.2731619903786567,
          0.10001265370509038,
          0.12886440843289418,
          0.15458006365305807,
          0.24494608184819067,
          0.07937620165789394,
          0.03884975031100181,
          0.0912229560781737,
          0.1085166061323724,
          0.1167882756482757,
          0.09919445137414784,
          0.0694387914647059
         ],
         "yaxis": "y"
        },
        {
         "hovertemplate": "Continent=Latin America and the Caribbean<br>Country=%{x}<br>LossFunctCheck=%{y}<extra></extra>",
         "legendgroup": "Latin America and the Caribbean",
         "marker": {
          "color": "#FFA15A",
          "symbol": "circle"
         },
         "mode": "markers",
         "name": "Latin America and the Caribbean",
         "orientation": "v",
         "showlegend": true,
         "type": "scatter",
         "x": [
          "Anguilla",
          "Antigua and Barbuda",
          "Argentina",
          "Aruba",
          "Bahamas",
          "Barbados",
          "Belize",
          "Bolivia",
          "Brazil",
          "British Virgin Islands",
          "Caribbean Netherlands",
          "Cayman Islands",
          "Chile",
          "Colombia",
          "Costa Rica",
          "Cuba",
          "Curaçao",
          "Dominica",
          "Dominican Republic",
          "Ecuador",
          "El Salvador",
          "Falkland Islands",
          "French Guiana",
          "Grenada",
          "Guadeloupe",
          "Guatemala",
          "Guyana",
          "Haiti",
          "Honduras",
          "Jamaica",
          "Martinique",
          "Mexico",
          "Montserrat",
          "Nicaragua",
          "Panama",
          "Paraguay",
          "Peru",
          "Puerto Rico",
          "Saint Kitts & Nevis",
          "Saint Lucia",
          "Saint Martin",
          "Sint Maarten",
          "St. Vincent & Grenadines",
          "Suriname",
          "Trinidad and Tobago",
          "Turks and Caicos",
          "U.S. Virgin Islands",
          "Uruguay",
          "Venezuela"
         ],
         "xaxis": "x",
         "y": [
          0.09362646723411817,
          0.25531003666769764,
          0.09037601372039923,
          0.5163858742118336,
          0.3416321043383737,
          0.13804609917622807,
          0.08369540786366582,
          0.04110178863740736,
          0.06113616884100257,
          0.06735151683097218,
          0.15144820897703057,
          0.04340805240381709,
          0.08890401286889525,
          0.08877869959012791,
          0.0898409744566665,
          0.10586770459398608,
          0.175744047707593,
          0.07687999396839869,
          0.025382652444059097,
          0.07356889382329289,
          0.06646519710455136,
          0.08576878551234186,
          0.08662945591787596,
          0.2091520906967933,
          0.2906486050598225,
          0.03432722446502664,
          0.08987792012807017,
          0.03019142130458638,
          0.03848645283059197,
          0.11671461758871932,
          0.35708107459574556,
          0.059940519306210395,
          0.21911846104125368,
          0.051423392633120436,
          0.022935610870000053,
          0.07412543511819021,
          0.18216708346010801,
          0.0744704281585984,
          0.12308867384598926,
          0.083656887349211,
          0.16995943698868965,
          0.1080256204260643,
          0.05572579086316943,
          0.22807313802785456,
          0.09406059194919168,
          0.05888754361918477,
          0.1614460526896101,
          0.1311230800107283,
          0.08760859329356259
         ],
         "yaxis": "y"
        },
        {
         "hovertemplate": "Continent=Northern America<br>Country=%{x}<br>LossFunctCheck=%{y}<extra></extra>",
         "legendgroup": "Northern America",
         "marker": {
          "color": "#19d3f3",
          "symbol": "circle"
         },
         "mode": "markers",
         "name": "Northern America",
         "orientation": "v",
         "showlegend": true,
         "type": "scatter",
         "x": [
          "Bermuda",
          "Canada",
          "Greenland",
          "Saint Pierre & Miquelon",
          "United States"
         ],
         "xaxis": "x",
         "y": [
          0.02997826100505464,
          0.09095334493350787,
          0.06163451119754585,
          0.0671121580678769,
          0.26862862323314957
         ],
         "yaxis": "y"
        },
        {
         "hovertemplate": "Continent=North America<br>Country=%{x}<br>LossFunctCheck=%{y}<extra></extra>",
         "legendgroup": "North America",
         "marker": {
          "color": "#FF6692",
          "symbol": "circle"
         },
         "mode": "markers",
         "name": "North America",
         "orientation": "v",
         "showlegend": true,
         "type": "scatter",
         "x": [
          "Saint Barthelemy"
         ],
         "xaxis": "x",
         "y": [
          0.06192011458008683
         ],
         "yaxis": "y"
        }
       ],
       "layout": {
        "legend": {
         "title": {
          "text": "Continent"
         },
         "tracegroupgap": 0
        },
        "margin": {
         "t": 60
        },
        "template": {
         "data": {
          "bar": [
           {
            "error_x": {
             "color": "#2a3f5f"
            },
            "error_y": {
             "color": "#2a3f5f"
            },
            "marker": {
             "line": {
              "color": "#E5ECF6",
              "width": 0.5
             },
             "pattern": {
              "fillmode": "overlay",
              "size": 10,
              "solidity": 0.2
             }
            },
            "type": "bar"
           }
          ],
          "barpolar": [
           {
            "marker": {
             "line": {
              "color": "#E5ECF6",
              "width": 0.5
             },
             "pattern": {
              "fillmode": "overlay",
              "size": 10,
              "solidity": 0.2
             }
            },
            "type": "barpolar"
           }
          ],
          "carpet": [
           {
            "aaxis": {
             "endlinecolor": "#2a3f5f",
             "gridcolor": "white",
             "linecolor": "white",
             "minorgridcolor": "white",
             "startlinecolor": "#2a3f5f"
            },
            "baxis": {
             "endlinecolor": "#2a3f5f",
             "gridcolor": "white",
             "linecolor": "white",
             "minorgridcolor": "white",
             "startlinecolor": "#2a3f5f"
            },
            "type": "carpet"
           }
          ],
          "choropleth": [
           {
            "colorbar": {
             "outlinewidth": 0,
             "ticks": ""
            },
            "type": "choropleth"
           }
          ],
          "contour": [
           {
            "colorbar": {
             "outlinewidth": 0,
             "ticks": ""
            },
            "colorscale": [
             [
              0,
              "#0d0887"
             ],
             [
              0.1111111111111111,
              "#46039f"
             ],
             [
              0.2222222222222222,
              "#7201a8"
             ],
             [
              0.3333333333333333,
              "#9c179e"
             ],
             [
              0.4444444444444444,
              "#bd3786"
             ],
             [
              0.5555555555555556,
              "#d8576b"
             ],
             [
              0.6666666666666666,
              "#ed7953"
             ],
             [
              0.7777777777777778,
              "#fb9f3a"
             ],
             [
              0.8888888888888888,
              "#fdca26"
             ],
             [
              1,
              "#f0f921"
             ]
            ],
            "type": "contour"
           }
          ],
          "contourcarpet": [
           {
            "colorbar": {
             "outlinewidth": 0,
             "ticks": ""
            },
            "type": "contourcarpet"
           }
          ],
          "heatmap": [
           {
            "colorbar": {
             "outlinewidth": 0,
             "ticks": ""
            },
            "colorscale": [
             [
              0,
              "#0d0887"
             ],
             [
              0.1111111111111111,
              "#46039f"
             ],
             [
              0.2222222222222222,
              "#7201a8"
             ],
             [
              0.3333333333333333,
              "#9c179e"
             ],
             [
              0.4444444444444444,
              "#bd3786"
             ],
             [
              0.5555555555555556,
              "#d8576b"
             ],
             [
              0.6666666666666666,
              "#ed7953"
             ],
             [
              0.7777777777777778,
              "#fb9f3a"
             ],
             [
              0.8888888888888888,
              "#fdca26"
             ],
             [
              1,
              "#f0f921"
             ]
            ],
            "type": "heatmap"
           }
          ],
          "heatmapgl": [
           {
            "colorbar": {
             "outlinewidth": 0,
             "ticks": ""
            },
            "colorscale": [
             [
              0,
              "#0d0887"
             ],
             [
              0.1111111111111111,
              "#46039f"
             ],
             [
              0.2222222222222222,
              "#7201a8"
             ],
             [
              0.3333333333333333,
              "#9c179e"
             ],
             [
              0.4444444444444444,
              "#bd3786"
             ],
             [
              0.5555555555555556,
              "#d8576b"
             ],
             [
              0.6666666666666666,
              "#ed7953"
             ],
             [
              0.7777777777777778,
              "#fb9f3a"
             ],
             [
              0.8888888888888888,
              "#fdca26"
             ],
             [
              1,
              "#f0f921"
             ]
            ],
            "type": "heatmapgl"
           }
          ],
          "histogram": [
           {
            "marker": {
             "pattern": {
              "fillmode": "overlay",
              "size": 10,
              "solidity": 0.2
             }
            },
            "type": "histogram"
           }
          ],
          "histogram2d": [
           {
            "colorbar": {
             "outlinewidth": 0,
             "ticks": ""
            },
            "colorscale": [
             [
              0,
              "#0d0887"
             ],
             [
              0.1111111111111111,
              "#46039f"
             ],
             [
              0.2222222222222222,
              "#7201a8"
             ],
             [
              0.3333333333333333,
              "#9c179e"
             ],
             [
              0.4444444444444444,
              "#bd3786"
             ],
             [
              0.5555555555555556,
              "#d8576b"
             ],
             [
              0.6666666666666666,
              "#ed7953"
             ],
             [
              0.7777777777777778,
              "#fb9f3a"
             ],
             [
              0.8888888888888888,
              "#fdca26"
             ],
             [
              1,
              "#f0f921"
             ]
            ],
            "type": "histogram2d"
           }
          ],
          "histogram2dcontour": [
           {
            "colorbar": {
             "outlinewidth": 0,
             "ticks": ""
            },
            "colorscale": [
             [
              0,
              "#0d0887"
             ],
             [
              0.1111111111111111,
              "#46039f"
             ],
             [
              0.2222222222222222,
              "#7201a8"
             ],
             [
              0.3333333333333333,
              "#9c179e"
             ],
             [
              0.4444444444444444,
              "#bd3786"
             ],
             [
              0.5555555555555556,
              "#d8576b"
             ],
             [
              0.6666666666666666,
              "#ed7953"
             ],
             [
              0.7777777777777778,
              "#fb9f3a"
             ],
             [
              0.8888888888888888,
              "#fdca26"
             ],
             [
              1,
              "#f0f921"
             ]
            ],
            "type": "histogram2dcontour"
           }
          ],
          "mesh3d": [
           {
            "colorbar": {
             "outlinewidth": 0,
             "ticks": ""
            },
            "type": "mesh3d"
           }
          ],
          "parcoords": [
           {
            "line": {
             "colorbar": {
              "outlinewidth": 0,
              "ticks": ""
             }
            },
            "type": "parcoords"
           }
          ],
          "pie": [
           {
            "automargin": true,
            "type": "pie"
           }
          ],
          "scatter": [
           {
            "fillpattern": {
             "fillmode": "overlay",
             "size": 10,
             "solidity": 0.2
            },
            "type": "scatter"
           }
          ],
          "scatter3d": [
           {
            "line": {
             "colorbar": {
              "outlinewidth": 0,
              "ticks": ""
             }
            },
            "marker": {
             "colorbar": {
              "outlinewidth": 0,
              "ticks": ""
             }
            },
            "type": "scatter3d"
           }
          ],
          "scattercarpet": [
           {
            "marker": {
             "colorbar": {
              "outlinewidth": 0,
              "ticks": ""
             }
            },
            "type": "scattercarpet"
           }
          ],
          "scattergeo": [
           {
            "marker": {
             "colorbar": {
              "outlinewidth": 0,
              "ticks": ""
             }
            },
            "type": "scattergeo"
           }
          ],
          "scattergl": [
           {
            "marker": {
             "colorbar": {
              "outlinewidth": 0,
              "ticks": ""
             }
            },
            "type": "scattergl"
           }
          ],
          "scattermapbox": [
           {
            "marker": {
             "colorbar": {
              "outlinewidth": 0,
              "ticks": ""
             }
            },
            "type": "scattermapbox"
           }
          ],
          "scatterpolar": [
           {
            "marker": {
             "colorbar": {
              "outlinewidth": 0,
              "ticks": ""
             }
            },
            "type": "scatterpolar"
           }
          ],
          "scatterpolargl": [
           {
            "marker": {
             "colorbar": {
              "outlinewidth": 0,
              "ticks": ""
             }
            },
            "type": "scatterpolargl"
           }
          ],
          "scatterternary": [
           {
            "marker": {
             "colorbar": {
              "outlinewidth": 0,
              "ticks": ""
             }
            },
            "type": "scatterternary"
           }
          ],
          "surface": [
           {
            "colorbar": {
             "outlinewidth": 0,
             "ticks": ""
            },
            "colorscale": [
             [
              0,
              "#0d0887"
             ],
             [
              0.1111111111111111,
              "#46039f"
             ],
             [
              0.2222222222222222,
              "#7201a8"
             ],
             [
              0.3333333333333333,
              "#9c179e"
             ],
             [
              0.4444444444444444,
              "#bd3786"
             ],
             [
              0.5555555555555556,
              "#d8576b"
             ],
             [
              0.6666666666666666,
              "#ed7953"
             ],
             [
              0.7777777777777778,
              "#fb9f3a"
             ],
             [
              0.8888888888888888,
              "#fdca26"
             ],
             [
              1,
              "#f0f921"
             ]
            ],
            "type": "surface"
           }
          ],
          "table": [
           {
            "cells": {
             "fill": {
              "color": "#EBF0F8"
             },
             "line": {
              "color": "white"
             }
            },
            "header": {
             "fill": {
              "color": "#C8D4E3"
             },
             "line": {
              "color": "white"
             }
            },
            "type": "table"
           }
          ]
         },
         "layout": {
          "annotationdefaults": {
           "arrowcolor": "#2a3f5f",
           "arrowhead": 0,
           "arrowwidth": 1
          },
          "autotypenumbers": "strict",
          "coloraxis": {
           "colorbar": {
            "outlinewidth": 0,
            "ticks": ""
           }
          },
          "colorscale": {
           "diverging": [
            [
             0,
             "#8e0152"
            ],
            [
             0.1,
             "#c51b7d"
            ],
            [
             0.2,
             "#de77ae"
            ],
            [
             0.3,
             "#f1b6da"
            ],
            [
             0.4,
             "#fde0ef"
            ],
            [
             0.5,
             "#f7f7f7"
            ],
            [
             0.6,
             "#e6f5d0"
            ],
            [
             0.7,
             "#b8e186"
            ],
            [
             0.8,
             "#7fbc41"
            ],
            [
             0.9,
             "#4d9221"
            ],
            [
             1,
             "#276419"
            ]
           ],
           "sequential": [
            [
             0,
             "#0d0887"
            ],
            [
             0.1111111111111111,
             "#46039f"
            ],
            [
             0.2222222222222222,
             "#7201a8"
            ],
            [
             0.3333333333333333,
             "#9c179e"
            ],
            [
             0.4444444444444444,
             "#bd3786"
            ],
            [
             0.5555555555555556,
             "#d8576b"
            ],
            [
             0.6666666666666666,
             "#ed7953"
            ],
            [
             0.7777777777777778,
             "#fb9f3a"
            ],
            [
             0.8888888888888888,
             "#fdca26"
            ],
            [
             1,
             "#f0f921"
            ]
           ],
           "sequentialminus": [
            [
             0,
             "#0d0887"
            ],
            [
             0.1111111111111111,
             "#46039f"
            ],
            [
             0.2222222222222222,
             "#7201a8"
            ],
            [
             0.3333333333333333,
             "#9c179e"
            ],
            [
             0.4444444444444444,
             "#bd3786"
            ],
            [
             0.5555555555555556,
             "#d8576b"
            ],
            [
             0.6666666666666666,
             "#ed7953"
            ],
            [
             0.7777777777777778,
             "#fb9f3a"
            ],
            [
             0.8888888888888888,
             "#fdca26"
            ],
            [
             1,
             "#f0f921"
            ]
           ]
          },
          "colorway": [
           "#636efa",
           "#EF553B",
           "#00cc96",
           "#ab63fa",
           "#FFA15A",
           "#19d3f3",
           "#FF6692",
           "#B6E880",
           "#FF97FF",
           "#FECB52"
          ],
          "font": {
           "color": "#2a3f5f"
          },
          "geo": {
           "bgcolor": "white",
           "lakecolor": "white",
           "landcolor": "#E5ECF6",
           "showlakes": true,
           "showland": true,
           "subunitcolor": "white"
          },
          "hoverlabel": {
           "align": "left"
          },
          "hovermode": "closest",
          "mapbox": {
           "style": "light"
          },
          "paper_bgcolor": "white",
          "plot_bgcolor": "#E5ECF6",
          "polar": {
           "angularaxis": {
            "gridcolor": "white",
            "linecolor": "white",
            "ticks": ""
           },
           "bgcolor": "#E5ECF6",
           "radialaxis": {
            "gridcolor": "white",
            "linecolor": "white",
            "ticks": ""
           }
          },
          "scene": {
           "xaxis": {
            "backgroundcolor": "#E5ECF6",
            "gridcolor": "white",
            "gridwidth": 2,
            "linecolor": "white",
            "showbackground": true,
            "ticks": "",
            "zerolinecolor": "white"
           },
           "yaxis": {
            "backgroundcolor": "#E5ECF6",
            "gridcolor": "white",
            "gridwidth": 2,
            "linecolor": "white",
            "showbackground": true,
            "ticks": "",
            "zerolinecolor": "white"
           },
           "zaxis": {
            "backgroundcolor": "#E5ECF6",
            "gridcolor": "white",
            "gridwidth": 2,
            "linecolor": "white",
            "showbackground": true,
            "ticks": "",
            "zerolinecolor": "white"
           }
          },
          "shapedefaults": {
           "line": {
            "color": "#2a3f5f"
           }
          },
          "ternary": {
           "aaxis": {
            "gridcolor": "white",
            "linecolor": "white",
            "ticks": ""
           },
           "baxis": {
            "gridcolor": "white",
            "linecolor": "white",
            "ticks": ""
           },
           "bgcolor": "#E5ECF6",
           "caxis": {
            "gridcolor": "white",
            "linecolor": "white",
            "ticks": ""
           }
          },
          "title": {
           "x": 0.05
          },
          "xaxis": {
           "automargin": true,
           "gridcolor": "white",
           "linecolor": "white",
           "ticks": "",
           "title": {
            "standoff": 15
           },
           "zerolinecolor": "white",
           "zerolinewidth": 2
          },
          "yaxis": {
           "automargin": true,
           "gridcolor": "white",
           "linecolor": "white",
           "ticks": "",
           "title": {
            "standoff": 15
           },
           "zerolinecolor": "white",
           "zerolinewidth": 2
          }
         }
        },
        "xaxis": {
         "anchor": "y",
         "domain": [
          0,
          1
         ],
         "title": {
          "text": "Country"
         },
         "visible": false
        },
        "yaxis": {
         "anchor": "x",
         "domain": [
          0,
          1
         ],
         "range": [
          0,
          5
         ],
         "title": {
          "text": "LossFunctCheck"
         }
        }
       }
      }
     },
     "metadata": {},
     "output_type": "display_data"
    }
   ],
   "source": [
    "fig=px.scatter(LD2[LD2['Year']==2050], x=\"Country\", y=\"LossFunctCheck\",range_y=[0,5],\n",
    "        color=\"Continent\")\n",
    "\n",
    "fig.update_xaxes(visible=False)\n",
    "fig.show()"
   ]
  },
  {
   "attachments": {},
   "cell_type": "markdown",
   "metadata": {},
   "source": [
    "Điểm trừ của LD2 : Overfit, không phù hợp để chuẩn đoán các mốc thời gian xa hơn, tuy nhiên rất tốt để chuẩn đoán các giá trị liền kề"
   ]
  },
  {
   "attachments": {},
   "cell_type": "markdown",
   "metadata": {},
   "source": [
    "Ta đặt mốc ổn định của thế giới là năm 1990 (tình hình thế giới có thể được coi là ít xung độ vũ trang) để cải tiến dự đoán của leaner1"
   ]
  },
  {
   "cell_type": "code",
   "execution_count": 17,
   "metadata": {},
   "outputs": [
    {
     "data": {
      "text/html": [
       "<div>\n",
       "<style scoped>\n",
       "    .dataframe tbody tr th:only-of-type {\n",
       "        vertical-align: middle;\n",
       "    }\n",
       "\n",
       "    .dataframe tbody tr th {\n",
       "        vertical-align: top;\n",
       "    }\n",
       "\n",
       "    .dataframe thead th {\n",
       "        text-align: right;\n",
       "    }\n",
       "</style>\n",
       "<table border=\"1\" class=\"dataframe\">\n",
       "  <thead>\n",
       "    <tr style=\"text-align: right;\">\n",
       "      <th></th>\n",
       "      <th>Year</th>\n",
       "      <th>Population</th>\n",
       "      <th>YearlyChange</th>\n",
       "      <th>Migrants(net)</th>\n",
       "      <th>MedianAge</th>\n",
       "      <th>FertilityRate</th>\n",
       "      <th>UrbanPopulation</th>\n",
       "      <th>Yearly%Change</th>\n",
       "      <th>UrbanPop%</th>\n",
       "      <th>Country</th>\n",
       "      <th>Continent</th>\n",
       "      <th>LossFunctCheck</th>\n",
       "    </tr>\n",
       "  </thead>\n",
       "  <tbody>\n",
       "    <tr>\n",
       "      <th>0</th>\n",
       "      <td>2025</td>\n",
       "      <td>4.312282e+07</td>\n",
       "      <td>1.043706e+06</td>\n",
       "      <td>-70941.417972</td>\n",
       "      <td>17.952350</td>\n",
       "      <td>4.538854</td>\n",
       "      <td>1.089753e+07</td>\n",
       "      <td>0.024203</td>\n",
       "      <td>25.270914</td>\n",
       "      <td>Afghanistan</td>\n",
       "      <td>Asia</td>\n",
       "      <td>0.438159</td>\n",
       "    </tr>\n",
       "    <tr>\n",
       "      <th>1</th>\n",
       "      <td>2030</td>\n",
       "      <td>4.747499e+07</td>\n",
       "      <td>1.116381e+06</td>\n",
       "      <td>-89952.464963</td>\n",
       "      <td>18.336933</td>\n",
       "      <td>4.027601</td>\n",
       "      <td>1.212830e+07</td>\n",
       "      <td>0.023515</td>\n",
       "      <td>25.546706</td>\n",
       "      <td>Afghanistan</td>\n",
       "      <td>Asia</td>\n",
       "      <td>0.438159</td>\n",
       "    </tr>\n",
       "    <tr>\n",
       "      <th>2</th>\n",
       "      <td>2035</td>\n",
       "      <td>5.182715e+07</td>\n",
       "      <td>1.189056e+06</td>\n",
       "      <td>-108963.511954</td>\n",
       "      <td>18.721517</td>\n",
       "      <td>3.516348</td>\n",
       "      <td>1.335906e+07</td>\n",
       "      <td>0.022943</td>\n",
       "      <td>25.776180</td>\n",
       "      <td>Afghanistan</td>\n",
       "      <td>Asia</td>\n",
       "      <td>0.438159</td>\n",
       "    </tr>\n",
       "    <tr>\n",
       "      <th>3</th>\n",
       "      <td>2040</td>\n",
       "      <td>5.617932e+07</td>\n",
       "      <td>1.261731e+06</td>\n",
       "      <td>-127974.558945</td>\n",
       "      <td>19.106101</td>\n",
       "      <td>3.005095</td>\n",
       "      <td>1.458982e+07</td>\n",
       "      <td>0.022459</td>\n",
       "      <td>25.970099</td>\n",
       "      <td>Afghanistan</td>\n",
       "      <td>Asia</td>\n",
       "      <td>0.438159</td>\n",
       "    </tr>\n",
       "    <tr>\n",
       "      <th>4</th>\n",
       "      <td>2050</td>\n",
       "      <td>6.488365e+07</td>\n",
       "      <td>1.407081e+06</td>\n",
       "      <td>-165996.652927</td>\n",
       "      <td>19.875268</td>\n",
       "      <td>1.982589</td>\n",
       "      <td>1.705135e+07</td>\n",
       "      <td>0.021686</td>\n",
       "      <td>26.279893</td>\n",
       "      <td>Afghanistan</td>\n",
       "      <td>Asia</td>\n",
       "      <td>0.438159</td>\n",
       "    </tr>\n",
       "    <tr>\n",
       "      <th>...</th>\n",
       "      <td>...</td>\n",
       "      <td>...</td>\n",
       "      <td>...</td>\n",
       "      <td>...</td>\n",
       "      <td>...</td>\n",
       "      <td>...</td>\n",
       "      <td>...</td>\n",
       "      <td>...</td>\n",
       "      <td>...</td>\n",
       "      <td>...</td>\n",
       "      <td>...</td>\n",
       "      <td>...</td>\n",
       "    </tr>\n",
       "    <tr>\n",
       "      <th>1170</th>\n",
       "      <td>2025</td>\n",
       "      <td>1.531886e+07</td>\n",
       "      <td>1.870439e+05</td>\n",
       "      <td>-148825.326463</td>\n",
       "      <td>18.942374</td>\n",
       "      <td>3.607345</td>\n",
       "      <td>6.033273e+06</td>\n",
       "      <td>0.012210</td>\n",
       "      <td>39.384611</td>\n",
       "      <td>Zimbabwe</td>\n",
       "      <td>Africa</td>\n",
       "      <td>3.104178</td>\n",
       "    </tr>\n",
       "    <tr>\n",
       "      <th>1171</th>\n",
       "      <td>2030</td>\n",
       "      <td>1.602414e+07</td>\n",
       "      <td>1.876839e+05</td>\n",
       "      <td>-164660.079143</td>\n",
       "      <td>19.167848</td>\n",
       "      <td>3.451781</td>\n",
       "      <td>6.451871e+06</td>\n",
       "      <td>0.011713</td>\n",
       "      <td>40.263437</td>\n",
       "      <td>Zimbabwe</td>\n",
       "      <td>Africa</td>\n",
       "      <td>3.104178</td>\n",
       "    </tr>\n",
       "    <tr>\n",
       "      <th>1172</th>\n",
       "      <td>2035</td>\n",
       "      <td>1.672943e+07</td>\n",
       "      <td>1.883239e+05</td>\n",
       "      <td>-180494.831822</td>\n",
       "      <td>19.393322</td>\n",
       "      <td>3.296216</td>\n",
       "      <td>6.870469e+06</td>\n",
       "      <td>0.011257</td>\n",
       "      <td>41.068164</td>\n",
       "      <td>Zimbabwe</td>\n",
       "      <td>Africa</td>\n",
       "      <td>3.104178</td>\n",
       "    </tr>\n",
       "    <tr>\n",
       "      <th>1173</th>\n",
       "      <td>2040</td>\n",
       "      <td>1.743471e+07</td>\n",
       "      <td>1.889639e+05</td>\n",
       "      <td>-196329.584501</td>\n",
       "      <td>19.618796</td>\n",
       "      <td>3.140651</td>\n",
       "      <td>7.289066e+06</td>\n",
       "      <td>0.010838</td>\n",
       "      <td>41.807785</td>\n",
       "      <td>Zimbabwe</td>\n",
       "      <td>Africa</td>\n",
       "      <td>3.104178</td>\n",
       "    </tr>\n",
       "    <tr>\n",
       "      <th>1174</th>\n",
       "      <td>2050</td>\n",
       "      <td>1.884528e+07</td>\n",
       "      <td>1.902439e+05</td>\n",
       "      <td>-227999.089860</td>\n",
       "      <td>20.069744</td>\n",
       "      <td>2.829522</td>\n",
       "      <td>8.126262e+06</td>\n",
       "      <td>0.010095</td>\n",
       "      <td>43.120943</td>\n",
       "      <td>Zimbabwe</td>\n",
       "      <td>Africa</td>\n",
       "      <td>3.104178</td>\n",
       "    </tr>\n",
       "  </tbody>\n",
       "</table>\n",
       "<p>1175 rows × 12 columns</p>\n",
       "</div>"
      ],
      "text/plain": [
       "      Year    Population  YearlyChange  Migrants(net)  MedianAge  \\\n",
       "0     2025  4.312282e+07  1.043706e+06  -70941.417972  17.952350   \n",
       "1     2030  4.747499e+07  1.116381e+06  -89952.464963  18.336933   \n",
       "2     2035  5.182715e+07  1.189056e+06 -108963.511954  18.721517   \n",
       "3     2040  5.617932e+07  1.261731e+06 -127974.558945  19.106101   \n",
       "4     2050  6.488365e+07  1.407081e+06 -165996.652927  19.875268   \n",
       "...    ...           ...           ...            ...        ...   \n",
       "1170  2025  1.531886e+07  1.870439e+05 -148825.326463  18.942374   \n",
       "1171  2030  1.602414e+07  1.876839e+05 -164660.079143  19.167848   \n",
       "1172  2035  1.672943e+07  1.883239e+05 -180494.831822  19.393322   \n",
       "1173  2040  1.743471e+07  1.889639e+05 -196329.584501  19.618796   \n",
       "1174  2050  1.884528e+07  1.902439e+05 -227999.089860  20.069744   \n",
       "\n",
       "      FertilityRate  UrbanPopulation  Yearly%Change  UrbanPop%      Country  \\\n",
       "0          4.538854     1.089753e+07       0.024203  25.270914  Afghanistan   \n",
       "1          4.027601     1.212830e+07       0.023515  25.546706  Afghanistan   \n",
       "2          3.516348     1.335906e+07       0.022943  25.776180  Afghanistan   \n",
       "3          3.005095     1.458982e+07       0.022459  25.970099  Afghanistan   \n",
       "4          1.982589     1.705135e+07       0.021686  26.279893  Afghanistan   \n",
       "...             ...              ...            ...        ...          ...   \n",
       "1170       3.607345     6.033273e+06       0.012210  39.384611     Zimbabwe   \n",
       "1171       3.451781     6.451871e+06       0.011713  40.263437     Zimbabwe   \n",
       "1172       3.296216     6.870469e+06       0.011257  41.068164     Zimbabwe   \n",
       "1173       3.140651     7.289066e+06       0.010838  41.807785     Zimbabwe   \n",
       "1174       2.829522     8.126262e+06       0.010095  43.120943     Zimbabwe   \n",
       "\n",
       "     Continent  LossFunctCheck  \n",
       "0         Asia        0.438159  \n",
       "1         Asia        0.438159  \n",
       "2         Asia        0.438159  \n",
       "3         Asia        0.438159  \n",
       "4         Asia        0.438159  \n",
       "...        ...             ...  \n",
       "1170    Africa        3.104178  \n",
       "1171    Africa        3.104178  \n",
       "1172    Africa        3.104178  \n",
       "1173    Africa        3.104178  \n",
       "1174    Africa        3.104178  \n",
       "\n",
       "[1175 rows x 12 columns]"
      ]
     },
     "execution_count": 17,
     "metadata": {},
     "output_type": "execute_result"
    }
   ],
   "source": [
    "LD3=[i for i in gen_linear(df[df['Year']>=1990],linear_regression_1,[2025,2030,2035,2040,2050]) ]\n",
    "LD3=pd.DataFrame(LD3)\n",
    "LD3"
   ]
  },
  {
   "cell_type": "code",
   "execution_count": 18,
   "metadata": {},
   "outputs": [
    {
     "data": {
      "application/vnd.plotly.v1+json": {
       "config": {
        "plotlyServerURL": "https://plot.ly"
       },
       "data": [
        {
         "hovertemplate": "Continent=Asia<br>Country=%{x}<br>LossFunctCheck=%{y}<extra></extra>",
         "legendgroup": "Asia",
         "marker": {
          "color": "#636efa",
          "symbol": "circle"
         },
         "mode": "markers",
         "name": "Asia",
         "orientation": "v",
         "showlegend": true,
         "type": "scatter",
         "x": [
          "Afghanistan",
          "Armenia",
          "Azerbaijan",
          "Bahrain",
          "Bangladesh",
          "Bhutan",
          "Brunei ",
          "Cambodia",
          "China",
          "Cyprus",
          "Georgia",
          "Hong Kong",
          "India",
          "Indonesia",
          "Iran",
          "Iraq",
          "Israel",
          "Japan",
          "Jordan",
          "Kazakhstan",
          "Kuwait",
          "Kyrgyzstan",
          "Laos",
          "Lebanon",
          "Macao",
          "Malaysia",
          "Maldives",
          "Mongolia",
          "Myanmar",
          "Nepal",
          "North Korea",
          "Oman",
          "Pakistan",
          "Philippines",
          "Qatar",
          "Saudi Arabia",
          "Singapore",
          "South Korea",
          "Sri Lanka",
          "State of Palestine",
          "Syria",
          "Taiwan",
          "Tajikistan",
          "Thailand",
          "Timor-Leste",
          "Turkey",
          "Turkmenistan",
          "United Arab Emirates",
          "Uzbekistan",
          "Vietnam",
          "Yemen"
         ],
         "xaxis": "x",
         "y": [
          0.43815909062991926,
          0.31340458521369774,
          0.6028059833943967,
          0.10418826757874179,
          0.08665521563533041,
          1.5667620303719099,
          0.07531780203246845,
          0.15979189711605277,
          0.0854611572030005,
          0.2343542460097611,
          0.302995916168777,
          0.24346505356244494,
          0.05399767392377433,
          0.3137178983849876,
          0.27469806619604664,
          0.17897096815342053,
          0.26576823785298864,
          0.15099232353502975,
          3.0570416282076365,
          0.18117129069137783,
          0.23889904207545357,
          0.13302644536882954,
          0.6327615716199527,
          2.005868341346397,
          0.8527546983499977,
          0.17238756145155862,
          0.09384027738253814,
          0.1729765373346274,
          0.1598638816824466,
          0.8117466676916946,
          0.04993160625955783,
          0.142386097811575,
          0.0745669840266316,
          0.3259966628255395,
          0.3024540331103581,
          0.26408792076348303,
          0.6509469444713228,
          0.5106675230529912,
          0.07697438699996455,
          0.24108002203609105,
          0.27669346684779494,
          0.10459750762402108,
          0.24632986687449657,
          0.45906268155013313,
          0.3860660301995558,
          0.12218384348941558,
          8.846237594245093,
          4.755592829476298,
          0.12722586565463906,
          0.4757499660598288,
          0.13233677843706365
         ],
         "yaxis": "y"
        },
        {
         "hovertemplate": "Continent=Europe<br>Country=%{x}<br>LossFunctCheck=%{y}<extra></extra>",
         "legendgroup": "Europe",
         "marker": {
          "color": "#EF553B",
          "symbol": "circle"
         },
         "mode": "markers",
         "name": "Europe",
         "orientation": "v",
         "showlegend": true,
         "type": "scatter",
         "x": [
          "Albania",
          "Andorra",
          "Austria",
          "Belarus",
          "Belgium",
          "Bosnia and Herzegovina",
          "Bulgaria",
          "Channel Islands",
          "Croatia",
          "Czech Republic (Czechia)",
          "Denmark",
          "Estonia",
          "Faeroe Islands",
          "Finland",
          "France",
          "Germany",
          "Gibraltar",
          "Greece",
          "Holy See",
          "Hungary",
          "Iceland",
          "Ireland",
          "Isle of Man",
          "Italy",
          "Latvia",
          "Liechtenstein",
          "Lithuania",
          "Luxembourg",
          "Malta",
          "Moldova",
          "Monaco",
          "Montenegro",
          "Netherlands",
          "North Macedonia",
          "Norway",
          "Poland",
          "Portugal",
          "Romania",
          "Russia",
          "San Marino",
          "Serbia",
          "Slovakia",
          "Slovenia",
          "Spain",
          "Sweden",
          "Switzerland",
          "Ukraine",
          "United Kingdom"
         ],
         "xaxis": "x",
         "y": [
          0.2993544312282365,
          0.14153820158739608,
          0.146234042528322,
          8.880596480793292,
          0.09781248535780666,
          1.4173099733527488,
          0.26167101974746493,
          0.15763931526166258,
          0.42422306152518674,
          0.2772970375205464,
          0.1462463326329301,
          0.26926676052325976,
          0.6738375494293788,
          0.14411946441498924,
          0.5672833753977201,
          0.3797929800732524,
          0.24035201530622408,
          0.3961335127150892,
          0.056228281600456474,
          2.8948710582001866,
          0.6433779863738021,
          0.194269678915761,
          0.09661122825315156,
          0.7697211719803331,
          0.22353706271999685,
          0.0621354206089526,
          0.07743534264327462,
          0.06466287137839037,
          0.22455378522952565,
          0.20912269288385718,
          0.07070489389251174,
          1.25444967257587,
          0.07019934190791645,
          0.27325163260073243,
          0.09977080114251129,
          0.35887924146006495,
          0.3578388118027496,
          0.6836014196882082,
          0.7722096821340733,
          0.09230127520648863,
          0.6316760870015333,
          0.13920917473953934,
          1.6202817827758047,
          0.5251061004044699,
          0.15517031568033576,
          0.17149985242502008,
          0.2855134522672909,
          0.11736000054803374
         ],
         "yaxis": "y"
        },
        {
         "hovertemplate": "Continent=Africa<br>Country=%{x}<br>LossFunctCheck=%{y}<extra></extra>",
         "legendgroup": "Africa",
         "marker": {
          "color": "#00cc96",
          "symbol": "circle"
         },
         "mode": "markers",
         "name": "Africa",
         "orientation": "v",
         "showlegend": true,
         "type": "scatter",
         "x": [
          "Algeria",
          "Angola",
          "Benin",
          "Botswana",
          "Burkina Faso",
          "Burundi",
          "Cabo Verde",
          "Cameroon",
          "Central African Republic",
          "Chad",
          "Comoros",
          "Congo",
          "Côte d'Ivoire",
          "DR Congo",
          "Djibouti",
          "Egypt",
          "Equatorial Guinea",
          "Eritrea",
          "Eswatini",
          "Ethiopia",
          "Gabon",
          "Gambia",
          "Ghana",
          "Guinea",
          "Guinea-Bissau",
          "Kenya",
          "Lesotho",
          "Liberia",
          "Libya",
          "Madagascar",
          "Malawi",
          "Mali",
          "Mauritania",
          "Mauritius",
          "Mayotte",
          "Morocco",
          "Mozambique",
          "Namibia",
          "Niger",
          "Nigeria",
          "Rwanda",
          "Réunion",
          "Saint Helena",
          "Sao Tome & Principe",
          "Senegal",
          "Seychelles",
          "Sierra Leone",
          "Somalia",
          "South Africa",
          "South Sudan",
          "Sudan",
          "Tanzania",
          "Togo",
          "Tunisia",
          "Uganda",
          "Western Sahara",
          "Zambia",
          "Zimbabwe"
         ],
         "xaxis": "x",
         "y": [
          0.24518186033769004,
          0.10901556191243349,
          0.1214017047266353,
          0.264339810346242,
          0.05827238343825638,
          0.09585854800156107,
          0.2095180376259028,
          0.15991432407718023,
          0.4387240181336393,
          0.7614055904427585,
          0.049103143485210325,
          0.12874927289359298,
          0.10857698105802523,
          0.6541740276580805,
          0.31979048579077923,
          0.19027190505992864,
          0.045110647492797716,
          0.5612469146219963,
          0.11486030568808024,
          0.11888942065745663,
          0.22465083217250362,
          0.07434052225420716,
          1.9805788705094995,
          0.3357594855483321,
          0.05797598964473039,
          0.10652486001024342,
          0.6485610723695586,
          0.27190440431933055,
          0.4704108604534089,
          0.046885221702518694,
          0.3691126716547904,
          0.19392109084624143,
          0.04341254514373832,
          0.12972179971449282,
          0.06932455295024252,
          0.27387855999991256,
          0.19534708257333455,
          0.230341007959722,
          0.06361253952093533,
          0.043100892316781436,
          0.7623372689299682,
          0.10967992342759297,
          0.24427646569337602,
          0.1318109536490454,
          3.683908154718525,
          0.8717960007206251,
          0.44694256210706057,
          0.15543723460219822,
          0.5561471830497282,
          0.5508537423363419,
          0.16364962273071007,
          0.133596237953968,
          0.2835334322714744,
          0.2205207050673126,
          0.12798931781858938,
          1.405093872261885,
          0.19637342963594948,
          3.1041778566058618
         ],
         "yaxis": "y"
        },
        {
         "hovertemplate": "Continent=Oceania<br>Country=%{x}<br>LossFunctCheck=%{y}<extra></extra>",
         "legendgroup": "Oceania",
         "marker": {
          "color": "#ab63fa",
          "symbol": "circle"
         },
         "mode": "markers",
         "name": "Oceania",
         "orientation": "v",
         "showlegend": true,
         "type": "scatter",
         "x": [
          "American Samoa",
          "Australia",
          "Cook Islands",
          "Fiji",
          "French Polynesia",
          "Guam",
          "Kiribati",
          "Marshall Islands",
          "Micronesia",
          "Nauru",
          "New Caledonia",
          "New Zealand",
          "Niue",
          "Northern Mariana Islands",
          "Palau",
          "Papua New Guinea",
          "Samoa",
          "Solomon Islands",
          "Tokelau",
          "Tonga",
          "Tuvalu",
          "Vanuatu",
          "Wallis & Futuna"
         ],
         "xaxis": "x",
         "y": [
          0.21489989640681584,
          0.15699852473690537,
          0.2586578878709696,
          0.6662787594496203,
          0.11444349337200967,
          0.32519614105295874,
          0.20600326899771923,
          0.08184483603516701,
          0.2716462237538851,
          0.3338021433765297,
          0.35005744643487674,
          0.619853946164847,
          0.15199717798881668,
          0.14581197718946057,
          0.222272294998369,
          0.27528246009452034,
          1.3417719610330778,
          0.3755986751287225,
          0.12095780017908368,
          0.20228675775512137,
          0.10185360072922754,
          0.0867942835537082,
          0.09179529132777109
         ],
         "yaxis": "y"
        },
        {
         "hovertemplate": "Continent=Latin America and the Caribbean<br>Country=%{x}<br>LossFunctCheck=%{y}<extra></extra>",
         "legendgroup": "Latin America and the Caribbean",
         "marker": {
          "color": "#FFA15A",
          "symbol": "circle"
         },
         "mode": "markers",
         "name": "Latin America and the Caribbean",
         "orientation": "v",
         "showlegend": true,
         "type": "scatter",
         "x": [
          "Anguilla",
          "Antigua and Barbuda",
          "Argentina",
          "Aruba",
          "Bahamas",
          "Barbados",
          "Belize",
          "Bolivia",
          "Brazil",
          "British Virgin Islands",
          "Caribbean Netherlands",
          "Cayman Islands",
          "Chile",
          "Colombia",
          "Costa Rica",
          "Cuba",
          "Curaçao",
          "Dominica",
          "Dominican Republic",
          "Ecuador",
          "El Salvador",
          "Falkland Islands",
          "French Guiana",
          "Grenada",
          "Guadeloupe",
          "Guatemala",
          "Guyana",
          "Haiti",
          "Honduras",
          "Jamaica",
          "Martinique",
          "Mexico",
          "Montserrat",
          "Nicaragua",
          "Panama",
          "Paraguay",
          "Peru",
          "Puerto Rico",
          "Saint Kitts & Nevis",
          "Saint Lucia",
          "Saint Martin",
          "Sint Maarten",
          "St. Vincent & Grenadines",
          "Suriname",
          "Trinidad and Tobago",
          "Turks and Caicos",
          "U.S. Virgin Islands",
          "Uruguay",
          "Venezuela"
         ],
         "xaxis": "x",
         "y": [
          0.040243475562829076,
          1.9020521069073746,
          0.5097802822040528,
          0.3438317750635922,
          0.27483308514979293,
          0.09642518982663656,
          0.13911765078813507,
          0.13585891630299327,
          0.06136821977155649,
          0.11730836014244783,
          0.2452107776547099,
          0.07395114694718212,
          0.29494690108582994,
          11.385982396911956,
          0.11427077863300528,
          0.2692668774563255,
          0.21498507001207134,
          0.11654832588879893,
          0.07771390465731602,
          0.11454179487846988,
          0.10566721332252739,
          0.1560502994303327,
          0.164948592992789,
          0.13915777201988908,
          1.0176023992910561,
          0.043471244579837594,
          0.16667671820181684,
          1.563296197709252,
          0.21529217157116434,
          0.07741601880092176,
          0.5130518640040046,
          0.11655760604035785,
          0.23301758358883137,
          0.14972218071177695,
          0.032177712698679535,
          0.06947323285188751,
          0.4133494263284317,
          0.18415197608234912,
          0.08338737846480064,
          0.13558106440535858,
          0.15524855091605674,
          0.19696260394369605,
          0.45976580781474036,
          0.19201904864290142,
          0.23221104971465534,
          0.24394721976294806,
          0.3470744448893803,
          0.31238120213157367,
          0.11406194661135793
         ],
         "yaxis": "y"
        },
        {
         "hovertemplate": "Continent=Northern America<br>Country=%{x}<br>LossFunctCheck=%{y}<extra></extra>",
         "legendgroup": "Northern America",
         "marker": {
          "color": "#19d3f3",
          "symbol": "circle"
         },
         "mode": "markers",
         "name": "Northern America",
         "orientation": "v",
         "showlegend": true,
         "type": "scatter",
         "x": [
          "Bermuda",
          "Canada",
          "Greenland",
          "Saint Pierre & Miquelon",
          "United States"
         ],
         "xaxis": "x",
         "y": [
          0.5524851118976669,
          0.2595810462316996,
          0.13355550084423848,
          0.10964331771680164,
          1.0383420675694304
         ],
         "yaxis": "y"
        },
        {
         "hovertemplate": "Continent=North America<br>Country=%{x}<br>LossFunctCheck=%{y}<extra></extra>",
         "legendgroup": "North America",
         "marker": {
          "color": "#FF6692",
          "symbol": "circle"
         },
         "mode": "markers",
         "name": "North America",
         "orientation": "v",
         "showlegend": true,
         "type": "scatter",
         "x": [
          "Saint Barthelemy"
         ],
         "xaxis": "x",
         "y": [
          0.029350852168064535
         ],
         "yaxis": "y"
        }
       ],
       "layout": {
        "legend": {
         "title": {
          "text": "Continent"
         },
         "tracegroupgap": 0
        },
        "margin": {
         "t": 60
        },
        "template": {
         "data": {
          "bar": [
           {
            "error_x": {
             "color": "#2a3f5f"
            },
            "error_y": {
             "color": "#2a3f5f"
            },
            "marker": {
             "line": {
              "color": "#E5ECF6",
              "width": 0.5
             },
             "pattern": {
              "fillmode": "overlay",
              "size": 10,
              "solidity": 0.2
             }
            },
            "type": "bar"
           }
          ],
          "barpolar": [
           {
            "marker": {
             "line": {
              "color": "#E5ECF6",
              "width": 0.5
             },
             "pattern": {
              "fillmode": "overlay",
              "size": 10,
              "solidity": 0.2
             }
            },
            "type": "barpolar"
           }
          ],
          "carpet": [
           {
            "aaxis": {
             "endlinecolor": "#2a3f5f",
             "gridcolor": "white",
             "linecolor": "white",
             "minorgridcolor": "white",
             "startlinecolor": "#2a3f5f"
            },
            "baxis": {
             "endlinecolor": "#2a3f5f",
             "gridcolor": "white",
             "linecolor": "white",
             "minorgridcolor": "white",
             "startlinecolor": "#2a3f5f"
            },
            "type": "carpet"
           }
          ],
          "choropleth": [
           {
            "colorbar": {
             "outlinewidth": 0,
             "ticks": ""
            },
            "type": "choropleth"
           }
          ],
          "contour": [
           {
            "colorbar": {
             "outlinewidth": 0,
             "ticks": ""
            },
            "colorscale": [
             [
              0,
              "#0d0887"
             ],
             [
              0.1111111111111111,
              "#46039f"
             ],
             [
              0.2222222222222222,
              "#7201a8"
             ],
             [
              0.3333333333333333,
              "#9c179e"
             ],
             [
              0.4444444444444444,
              "#bd3786"
             ],
             [
              0.5555555555555556,
              "#d8576b"
             ],
             [
              0.6666666666666666,
              "#ed7953"
             ],
             [
              0.7777777777777778,
              "#fb9f3a"
             ],
             [
              0.8888888888888888,
              "#fdca26"
             ],
             [
              1,
              "#f0f921"
             ]
            ],
            "type": "contour"
           }
          ],
          "contourcarpet": [
           {
            "colorbar": {
             "outlinewidth": 0,
             "ticks": ""
            },
            "type": "contourcarpet"
           }
          ],
          "heatmap": [
           {
            "colorbar": {
             "outlinewidth": 0,
             "ticks": ""
            },
            "colorscale": [
             [
              0,
              "#0d0887"
             ],
             [
              0.1111111111111111,
              "#46039f"
             ],
             [
              0.2222222222222222,
              "#7201a8"
             ],
             [
              0.3333333333333333,
              "#9c179e"
             ],
             [
              0.4444444444444444,
              "#bd3786"
             ],
             [
              0.5555555555555556,
              "#d8576b"
             ],
             [
              0.6666666666666666,
              "#ed7953"
             ],
             [
              0.7777777777777778,
              "#fb9f3a"
             ],
             [
              0.8888888888888888,
              "#fdca26"
             ],
             [
              1,
              "#f0f921"
             ]
            ],
            "type": "heatmap"
           }
          ],
          "heatmapgl": [
           {
            "colorbar": {
             "outlinewidth": 0,
             "ticks": ""
            },
            "colorscale": [
             [
              0,
              "#0d0887"
             ],
             [
              0.1111111111111111,
              "#46039f"
             ],
             [
              0.2222222222222222,
              "#7201a8"
             ],
             [
              0.3333333333333333,
              "#9c179e"
             ],
             [
              0.4444444444444444,
              "#bd3786"
             ],
             [
              0.5555555555555556,
              "#d8576b"
             ],
             [
              0.6666666666666666,
              "#ed7953"
             ],
             [
              0.7777777777777778,
              "#fb9f3a"
             ],
             [
              0.8888888888888888,
              "#fdca26"
             ],
             [
              1,
              "#f0f921"
             ]
            ],
            "type": "heatmapgl"
           }
          ],
          "histogram": [
           {
            "marker": {
             "pattern": {
              "fillmode": "overlay",
              "size": 10,
              "solidity": 0.2
             }
            },
            "type": "histogram"
           }
          ],
          "histogram2d": [
           {
            "colorbar": {
             "outlinewidth": 0,
             "ticks": ""
            },
            "colorscale": [
             [
              0,
              "#0d0887"
             ],
             [
              0.1111111111111111,
              "#46039f"
             ],
             [
              0.2222222222222222,
              "#7201a8"
             ],
             [
              0.3333333333333333,
              "#9c179e"
             ],
             [
              0.4444444444444444,
              "#bd3786"
             ],
             [
              0.5555555555555556,
              "#d8576b"
             ],
             [
              0.6666666666666666,
              "#ed7953"
             ],
             [
              0.7777777777777778,
              "#fb9f3a"
             ],
             [
              0.8888888888888888,
              "#fdca26"
             ],
             [
              1,
              "#f0f921"
             ]
            ],
            "type": "histogram2d"
           }
          ],
          "histogram2dcontour": [
           {
            "colorbar": {
             "outlinewidth": 0,
             "ticks": ""
            },
            "colorscale": [
             [
              0,
              "#0d0887"
             ],
             [
              0.1111111111111111,
              "#46039f"
             ],
             [
              0.2222222222222222,
              "#7201a8"
             ],
             [
              0.3333333333333333,
              "#9c179e"
             ],
             [
              0.4444444444444444,
              "#bd3786"
             ],
             [
              0.5555555555555556,
              "#d8576b"
             ],
             [
              0.6666666666666666,
              "#ed7953"
             ],
             [
              0.7777777777777778,
              "#fb9f3a"
             ],
             [
              0.8888888888888888,
              "#fdca26"
             ],
             [
              1,
              "#f0f921"
             ]
            ],
            "type": "histogram2dcontour"
           }
          ],
          "mesh3d": [
           {
            "colorbar": {
             "outlinewidth": 0,
             "ticks": ""
            },
            "type": "mesh3d"
           }
          ],
          "parcoords": [
           {
            "line": {
             "colorbar": {
              "outlinewidth": 0,
              "ticks": ""
             }
            },
            "type": "parcoords"
           }
          ],
          "pie": [
           {
            "automargin": true,
            "type": "pie"
           }
          ],
          "scatter": [
           {
            "fillpattern": {
             "fillmode": "overlay",
             "size": 10,
             "solidity": 0.2
            },
            "type": "scatter"
           }
          ],
          "scatter3d": [
           {
            "line": {
             "colorbar": {
              "outlinewidth": 0,
              "ticks": ""
             }
            },
            "marker": {
             "colorbar": {
              "outlinewidth": 0,
              "ticks": ""
             }
            },
            "type": "scatter3d"
           }
          ],
          "scattercarpet": [
           {
            "marker": {
             "colorbar": {
              "outlinewidth": 0,
              "ticks": ""
             }
            },
            "type": "scattercarpet"
           }
          ],
          "scattergeo": [
           {
            "marker": {
             "colorbar": {
              "outlinewidth": 0,
              "ticks": ""
             }
            },
            "type": "scattergeo"
           }
          ],
          "scattergl": [
           {
            "marker": {
             "colorbar": {
              "outlinewidth": 0,
              "ticks": ""
             }
            },
            "type": "scattergl"
           }
          ],
          "scattermapbox": [
           {
            "marker": {
             "colorbar": {
              "outlinewidth": 0,
              "ticks": ""
             }
            },
            "type": "scattermapbox"
           }
          ],
          "scatterpolar": [
           {
            "marker": {
             "colorbar": {
              "outlinewidth": 0,
              "ticks": ""
             }
            },
            "type": "scatterpolar"
           }
          ],
          "scatterpolargl": [
           {
            "marker": {
             "colorbar": {
              "outlinewidth": 0,
              "ticks": ""
             }
            },
            "type": "scatterpolargl"
           }
          ],
          "scatterternary": [
           {
            "marker": {
             "colorbar": {
              "outlinewidth": 0,
              "ticks": ""
             }
            },
            "type": "scatterternary"
           }
          ],
          "surface": [
           {
            "colorbar": {
             "outlinewidth": 0,
             "ticks": ""
            },
            "colorscale": [
             [
              0,
              "#0d0887"
             ],
             [
              0.1111111111111111,
              "#46039f"
             ],
             [
              0.2222222222222222,
              "#7201a8"
             ],
             [
              0.3333333333333333,
              "#9c179e"
             ],
             [
              0.4444444444444444,
              "#bd3786"
             ],
             [
              0.5555555555555556,
              "#d8576b"
             ],
             [
              0.6666666666666666,
              "#ed7953"
             ],
             [
              0.7777777777777778,
              "#fb9f3a"
             ],
             [
              0.8888888888888888,
              "#fdca26"
             ],
             [
              1,
              "#f0f921"
             ]
            ],
            "type": "surface"
           }
          ],
          "table": [
           {
            "cells": {
             "fill": {
              "color": "#EBF0F8"
             },
             "line": {
              "color": "white"
             }
            },
            "header": {
             "fill": {
              "color": "#C8D4E3"
             },
             "line": {
              "color": "white"
             }
            },
            "type": "table"
           }
          ]
         },
         "layout": {
          "annotationdefaults": {
           "arrowcolor": "#2a3f5f",
           "arrowhead": 0,
           "arrowwidth": 1
          },
          "autotypenumbers": "strict",
          "coloraxis": {
           "colorbar": {
            "outlinewidth": 0,
            "ticks": ""
           }
          },
          "colorscale": {
           "diverging": [
            [
             0,
             "#8e0152"
            ],
            [
             0.1,
             "#c51b7d"
            ],
            [
             0.2,
             "#de77ae"
            ],
            [
             0.3,
             "#f1b6da"
            ],
            [
             0.4,
             "#fde0ef"
            ],
            [
             0.5,
             "#f7f7f7"
            ],
            [
             0.6,
             "#e6f5d0"
            ],
            [
             0.7,
             "#b8e186"
            ],
            [
             0.8,
             "#7fbc41"
            ],
            [
             0.9,
             "#4d9221"
            ],
            [
             1,
             "#276419"
            ]
           ],
           "sequential": [
            [
             0,
             "#0d0887"
            ],
            [
             0.1111111111111111,
             "#46039f"
            ],
            [
             0.2222222222222222,
             "#7201a8"
            ],
            [
             0.3333333333333333,
             "#9c179e"
            ],
            [
             0.4444444444444444,
             "#bd3786"
            ],
            [
             0.5555555555555556,
             "#d8576b"
            ],
            [
             0.6666666666666666,
             "#ed7953"
            ],
            [
             0.7777777777777778,
             "#fb9f3a"
            ],
            [
             0.8888888888888888,
             "#fdca26"
            ],
            [
             1,
             "#f0f921"
            ]
           ],
           "sequentialminus": [
            [
             0,
             "#0d0887"
            ],
            [
             0.1111111111111111,
             "#46039f"
            ],
            [
             0.2222222222222222,
             "#7201a8"
            ],
            [
             0.3333333333333333,
             "#9c179e"
            ],
            [
             0.4444444444444444,
             "#bd3786"
            ],
            [
             0.5555555555555556,
             "#d8576b"
            ],
            [
             0.6666666666666666,
             "#ed7953"
            ],
            [
             0.7777777777777778,
             "#fb9f3a"
            ],
            [
             0.8888888888888888,
             "#fdca26"
            ],
            [
             1,
             "#f0f921"
            ]
           ]
          },
          "colorway": [
           "#636efa",
           "#EF553B",
           "#00cc96",
           "#ab63fa",
           "#FFA15A",
           "#19d3f3",
           "#FF6692",
           "#B6E880",
           "#FF97FF",
           "#FECB52"
          ],
          "font": {
           "color": "#2a3f5f"
          },
          "geo": {
           "bgcolor": "white",
           "lakecolor": "white",
           "landcolor": "#E5ECF6",
           "showlakes": true,
           "showland": true,
           "subunitcolor": "white"
          },
          "hoverlabel": {
           "align": "left"
          },
          "hovermode": "closest",
          "mapbox": {
           "style": "light"
          },
          "paper_bgcolor": "white",
          "plot_bgcolor": "#E5ECF6",
          "polar": {
           "angularaxis": {
            "gridcolor": "white",
            "linecolor": "white",
            "ticks": ""
           },
           "bgcolor": "#E5ECF6",
           "radialaxis": {
            "gridcolor": "white",
            "linecolor": "white",
            "ticks": ""
           }
          },
          "scene": {
           "xaxis": {
            "backgroundcolor": "#E5ECF6",
            "gridcolor": "white",
            "gridwidth": 2,
            "linecolor": "white",
            "showbackground": true,
            "ticks": "",
            "zerolinecolor": "white"
           },
           "yaxis": {
            "backgroundcolor": "#E5ECF6",
            "gridcolor": "white",
            "gridwidth": 2,
            "linecolor": "white",
            "showbackground": true,
            "ticks": "",
            "zerolinecolor": "white"
           },
           "zaxis": {
            "backgroundcolor": "#E5ECF6",
            "gridcolor": "white",
            "gridwidth": 2,
            "linecolor": "white",
            "showbackground": true,
            "ticks": "",
            "zerolinecolor": "white"
           }
          },
          "shapedefaults": {
           "line": {
            "color": "#2a3f5f"
           }
          },
          "ternary": {
           "aaxis": {
            "gridcolor": "white",
            "linecolor": "white",
            "ticks": ""
           },
           "baxis": {
            "gridcolor": "white",
            "linecolor": "white",
            "ticks": ""
           },
           "bgcolor": "#E5ECF6",
           "caxis": {
            "gridcolor": "white",
            "linecolor": "white",
            "ticks": ""
           }
          },
          "title": {
           "x": 0.05
          },
          "xaxis": {
           "automargin": true,
           "gridcolor": "white",
           "linecolor": "white",
           "ticks": "",
           "title": {
            "standoff": 15
           },
           "zerolinecolor": "white",
           "zerolinewidth": 2
          },
          "yaxis": {
           "automargin": true,
           "gridcolor": "white",
           "linecolor": "white",
           "ticks": "",
           "title": {
            "standoff": 15
           },
           "zerolinecolor": "white",
           "zerolinewidth": 2
          }
         }
        },
        "xaxis": {
         "anchor": "y",
         "domain": [
          0,
          1
         ],
         "title": {
          "text": "Country"
         },
         "visible": false
        },
        "yaxis": {
         "anchor": "x",
         "domain": [
          0,
          1
         ],
         "range": [
          0,
          5
         ],
         "title": {
          "text": "LossFunctCheck"
         }
        }
       }
      }
     },
     "metadata": {},
     "output_type": "display_data"
    }
   ],
   "source": [
    "fig=px.scatter(LD3[LD3['Year']==2050], x=\"Country\", y=\"LossFunctCheck\",range_y=[0,5],\n",
    "        color=\"Continent\")\n",
    "fig.update_xaxes(visible=False)\n",
    "fig.show()"
   ]
  },
  {
   "attachments": {},
   "cell_type": "markdown",
   "metadata": {},
   "source": [
    "Tóm lại bài toán dự đoán sẽ được hoàn thành như sau "
   ]
  },
  {
   "cell_type": "code",
   "execution_count": 19,
   "metadata": {},
   "outputs": [],
   "source": [
    "LD=[i for i in gen_linear(df[df['Year']>=1990],linear_regression_1,[2025,2030,2035,2040,2050]) ]+[i for i in gen_linear(df[df['Year']>=1990],linear_regression_2,[2020,2021,2022,2023,2024]) ]\n",
    "LD=pd.DataFrame(LD)\n",
    "LD=LD.sort_values(by=['Country','Year'],ascending=True).reset_index(drop=True)"
   ]
  },
  {
   "cell_type": "code",
   "execution_count": 20,
   "metadata": {},
   "outputs": [],
   "source": [
    "\n",
    "LD.to_csv('populationForecast.csv')"
   ]
  }
 ],
 "metadata": {
  "kernelspec": {
   "display_name": "Python 3",
   "language": "python",
   "name": "python3"
  },
  "language_info": {
   "codemirror_mode": {
    "name": "ipython",
    "version": 3
   },
   "file_extension": ".py",
   "mimetype": "text/x-python",
   "name": "python",
   "nbconvert_exporter": "python",
   "pygments_lexer": "ipython3",
   "version": "3.7.8 (tags/v3.7.8:4b47a5b6ba, Jun 28 2020, 08:53:46) [MSC v.1916 64 bit (AMD64)]"
  },
  "orig_nbformat": 4,
  "vscode": {
   "interpreter": {
    "hash": "2e87c240ee57c08939bb9a8b704764c54b3ab467996739c85ad7cd4168a8b1b4"
   }
  }
 },
 "nbformat": 4,
 "nbformat_minor": 2
}
