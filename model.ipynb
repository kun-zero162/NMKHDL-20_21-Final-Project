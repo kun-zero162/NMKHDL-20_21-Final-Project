{
 "cells": [
  {
   "attachments": {},
   "cell_type": "markdown",
   "metadata": {},
   "source": [
    "### **SỬ DỤNG MÔ HÌNH HỒI QUY (REGRESSION) ĐỂ DỰ ĐOÁN DÂN SỐ CÁC NƯỚC TRONG TƯƠNG LAI**\n",
    "\n",
    "<hr />"
   ]
  },
  {
   "attachments": {},
   "cell_type": "markdown",
   "metadata": {},
   "source": [
    "## **Import Thư viện**"
   ]
  },
  {
   "attachments": {},
   "cell_type": "markdown",
   "metadata": {},
   "source": [
    "Mô hình này cần dữ liệu để phân tích và vẽ đồ thị trực quan để đưa ra hướng đi hợp lí để tiến hành dự đoán."
   ]
  },
  {
   "cell_type": "code",
   "execution_count": 1,
   "metadata": {},
   "outputs": [],
   "source": [
    "# from bokeh.plotting.figure import figure\n",
    "import plotly.express as px\n",
    "import pandas as pd\n",
    "import numpy as np\n",
    "import plotly.graph_objects as go\n",
    "import matplotlib.pyplot as plt\n",
    "df=pd.read_csv('./population.csv')\n"
   ]
  },
  {
   "attachments": {},
   "cell_type": "markdown",
   "metadata": {},
   "source": [
    "## **Hồi quy Logistic các yếu tố ảnh hưởng đến dân số. Đâu là đất nước đáng sống?**\n",
    "\n",
    "Dân số là một trong những yếu tố quyết định chất lượng sống của 1 quốc gia, vấn đề kiểm soát dân số cũng là một vấn đề quan trọng hàng đầu. Chúng ta hãy cũng quan sát những nước được xem là ***Đáng sống nhất*** thế giới có những chỉ số như thế nào trong việc kiểm soát dân số.\n",
    "\n",
    "Một cuộc khảo sát với khoảng hơn 17.000 người từ khắp thế giới tham gia trên trang chuyên đưa ra các phân tích và xếp hạng **\"www.usnews.com\"** về vấn đề **\"Nước nào đáng sống nhất\"**. Chúng ta sẽ lấy thông tin của top 50 nước hàng đầu và lưu vào dataframe ***df_train*** bằng html request đơn giản."
   ]
  },
  {
   "cell_type": "code",
   "execution_count": 51,
   "metadata": {},
   "outputs": [
    {
     "data": {
      "text/html": [
       "<div>\n",
       "<style scoped>\n",
       "    .dataframe tbody tr th:only-of-type {\n",
       "        vertical-align: middle;\n",
       "    }\n",
       "\n",
       "    .dataframe tbody tr th {\n",
       "        vertical-align: top;\n",
       "    }\n",
       "\n",
       "    .dataframe thead th {\n",
       "        text-align: right;\n",
       "    }\n",
       "</style>\n",
       "<table border=\"1\" class=\"dataframe\">\n",
       "  <thead>\n",
       "    <tr style=\"text-align: right;\">\n",
       "      <th></th>\n",
       "      <th>Country</th>\n",
       "      <th>Population</th>\n",
       "      <th>Yearly%Change</th>\n",
       "      <th>MedianAge</th>\n",
       "      <th>UrbanPop%</th>\n",
       "      <th>Migrants(net)</th>\n",
       "      <th>FertilityRate</th>\n",
       "      <th>BestToLive</th>\n",
       "    </tr>\n",
       "  </thead>\n",
       "  <tbody>\n",
       "    <tr>\n",
       "      <th>0</th>\n",
       "      <td>Afghanistan</td>\n",
       "      <td>38928346</td>\n",
       "      <td>2.33</td>\n",
       "      <td>18.4</td>\n",
       "      <td>25.4</td>\n",
       "      <td>-62920.0</td>\n",
       "      <td>4.56</td>\n",
       "      <td>False</td>\n",
       "    </tr>\n",
       "    <tr>\n",
       "      <th>1</th>\n",
       "      <td>Albania</td>\n",
       "      <td>2877797</td>\n",
       "      <td>-0.11</td>\n",
       "      <td>36.4</td>\n",
       "      <td>63.5</td>\n",
       "      <td>-14000.0</td>\n",
       "      <td>1.62</td>\n",
       "      <td>False</td>\n",
       "    </tr>\n",
       "    <tr>\n",
       "      <th>2</th>\n",
       "      <td>Algeria</td>\n",
       "      <td>43851044</td>\n",
       "      <td>1.85</td>\n",
       "      <td>28.5</td>\n",
       "      <td>72.9</td>\n",
       "      <td>-10000.0</td>\n",
       "      <td>3.05</td>\n",
       "      <td>False</td>\n",
       "    </tr>\n",
       "    <tr>\n",
       "      <th>3</th>\n",
       "      <td>American Samoa</td>\n",
       "      <td>55191</td>\n",
       "      <td>-0.22</td>\n",
       "      <td>0.0</td>\n",
       "      <td>88.1</td>\n",
       "      <td>0.0</td>\n",
       "      <td>0.00</td>\n",
       "      <td>False</td>\n",
       "    </tr>\n",
       "    <tr>\n",
       "      <th>4</th>\n",
       "      <td>Andorra</td>\n",
       "      <td>77265</td>\n",
       "      <td>-0.19</td>\n",
       "      <td>0.0</td>\n",
       "      <td>87.8</td>\n",
       "      <td>0.0</td>\n",
       "      <td>0.00</td>\n",
       "      <td>False</td>\n",
       "    </tr>\n",
       "  </tbody>\n",
       "</table>\n",
       "</div>"
      ],
      "text/plain": [
       "          Country  Population  Yearly%Change  MedianAge  UrbanPop%  \\\n",
       "0     Afghanistan    38928346           2.33       18.4       25.4   \n",
       "1         Albania     2877797          -0.11       36.4       63.5   \n",
       "2         Algeria    43851044           1.85       28.5       72.9   \n",
       "3  American Samoa       55191          -0.22        0.0       88.1   \n",
       "4         Andorra       77265          -0.19        0.0       87.8   \n",
       "\n",
       "   Migrants(net)  FertilityRate  BestToLive  \n",
       "0       -62920.0           4.56       False  \n",
       "1       -14000.0           1.62       False  \n",
       "2       -10000.0           3.05       False  \n",
       "3            0.0           0.00       False  \n",
       "4            0.0           0.00       False  "
      ]
     },
     "execution_count": 51,
     "metadata": {},
     "output_type": "execute_result"
    }
   ],
   "source": [
    "import requests \n",
    "\n",
    "headers = {'User-Agent': 'Mozilla/5.0'}\n",
    "r = requests.get('https://www.usnews.com/news/best-countries/rankings/quality-of-life?renderer=json',headers=headers)\n",
    "best_country_to_live=r.json()\n",
    "best_country_to_live=[i['country'] for i in best_country_to_live['rankings']][:50]\n",
    "df_train=df[df['Year']==2020]\n",
    "df_train=df_train[['Country','Population','Yearly%Change','MedianAge','UrbanPop%','Migrants(net)','FertilityRate']]\n",
    "df_train['BestToLive']=[False]*df_train.shape[0]\n",
    "df_train=df_train.reset_index(drop=True)\n",
    "for i in best_country_to_live:\n",
    "    try:\n",
    "        index = df_train[df_train['Country']==i].index[0]\n",
    "        df_train.at[index,'BestToLive']=True\n",
    "    except:\n",
    "        pass\n",
    "df_train.head()"
   ]
  },
  {
   "attachments": {},
   "cell_type": "markdown",
   "metadata": {},
   "source": [
    "Ta sẽ lấy dữ liệu ở năm 2020 ra để tiến hành *phân lớp*. **Tại sao lại là 2020?**, là để sau khi tiến hành dự đoán, ta thử lấy kết quả đối chiếu với thời gian hiện tại, là vào cuối năm 2022 để đánh giá mô hình.\n",
    "\n",
    "Lựa chọn phân lớp theo 2 thuộc tính (đơn giản hóa bài toán dễ tạo nhiều mô hình)."
   ]
  },
  {
   "attachments": {},
   "cell_type": "markdown",
   "metadata": {},
   "source": [
    "**1)** Một đất nước phát triển, thì mật độ dân số ở khu vực thành thị sẽ rất cao, cũng đồng nghĩa với việc sẽ có nhiều dân cư ở nước khác sinh sống và làm việc tại các đất nước này. Vì vậy đầu tiên ta sẽ phân lớp và quan sát trên 2 thuộc tính: **UrbanPop%** (Tỉ lệ dân số thành thị) và **Migrants(net)** (Số dân nhập cư)."
   ]
  },
  {
   "cell_type": "code",
   "execution_count": 52,
   "metadata": {},
   "outputs": [],
   "source": [
    "X = [ [df_train.iloc[i]['UrbanPop%'], df_train.iloc[i]['Migrants(net)']] for i in range(df_train.shape[0]) ]\n",
    "y= list(df_train['BestToLive'])"
   ]
  },
  {
   "attachments": {},
   "cell_type": "markdown",
   "metadata": {},
   "source": [
    "Vẽ đồ thị trực quan với trục hoành là trục UrbanPop% và trục tung là Migrants(net), và điểm chấm màu đỏ là các nước được cho là **Đáng sống**."
   ]
  },
  {
   "cell_type": "code",
   "execution_count": 53,
   "metadata": {},
   "outputs": [
    {
     "data": {
      "application/vnd.plotly.v1+json": {
       "config": {
        "plotlyServerURL": "https://plot.ly"
       },
       "data": [
        {
         "customdata": [
          [
           "Afghanistan"
          ],
          [
           "Albania"
          ],
          [
           "Algeria"
          ],
          [
           "American Samoa"
          ],
          [
           "Andorra"
          ],
          [
           "Angola"
          ],
          [
           "Anguilla"
          ],
          [
           "Antigua and Barbuda"
          ],
          [
           "Armenia"
          ],
          [
           "Aruba"
          ],
          [
           "Azerbaijan"
          ],
          [
           "Bahamas"
          ],
          [
           "Bahrain"
          ],
          [
           "Bangladesh"
          ],
          [
           "Barbados"
          ],
          [
           "Belarus"
          ],
          [
           "Belize"
          ],
          [
           "Benin"
          ],
          [
           "Bermuda"
          ],
          [
           "Bhutan"
          ],
          [
           "Bolivia"
          ],
          [
           "Bosnia and Herzegovina"
          ],
          [
           "Botswana"
          ],
          [
           "British Virgin Islands"
          ],
          [
           "Brunei "
          ],
          [
           "Bulgaria"
          ],
          [
           "Burkina Faso"
          ],
          [
           "Burundi"
          ],
          [
           "Cabo Verde"
          ],
          [
           "Cambodia"
          ],
          [
           "Cameroon"
          ],
          [
           "Caribbean Netherlands"
          ],
          [
           "Cayman Islands"
          ],
          [
           "Central African Republic"
          ],
          [
           "Chad"
          ],
          [
           "Channel Islands"
          ],
          [
           "Colombia"
          ],
          [
           "Comoros"
          ],
          [
           "Congo"
          ],
          [
           "Cook Islands"
          ],
          [
           "Cuba"
          ],
          [
           "Curaçao"
          ],
          [
           "Cyprus"
          ],
          [
           "Czech Republic (Czechia)"
          ],
          [
           "Côte d'Ivoire"
          ],
          [
           "DR Congo"
          ],
          [
           "Djibouti"
          ],
          [
           "Dominica"
          ],
          [
           "Dominican Republic"
          ],
          [
           "Ecuador"
          ],
          [
           "El Salvador"
          ],
          [
           "Equatorial Guinea"
          ],
          [
           "Eritrea"
          ],
          [
           "Estonia"
          ],
          [
           "Eswatini"
          ],
          [
           "Ethiopia"
          ],
          [
           "Faeroe Islands"
          ],
          [
           "Falkland Islands"
          ],
          [
           "Fiji"
          ],
          [
           "French Guiana"
          ],
          [
           "French Polynesia"
          ],
          [
           "Gabon"
          ],
          [
           "Gambia"
          ],
          [
           "Georgia"
          ],
          [
           "Ghana"
          ],
          [
           "Gibraltar"
          ],
          [
           "Greenland"
          ],
          [
           "Grenada"
          ],
          [
           "Guadeloupe"
          ],
          [
           "Guam"
          ],
          [
           "Guatemala"
          ],
          [
           "Guinea"
          ],
          [
           "Guinea-Bissau"
          ],
          [
           "Guyana"
          ],
          [
           "Haiti"
          ],
          [
           "Holy See"
          ],
          [
           "Honduras"
          ],
          [
           "Hong Kong"
          ],
          [
           "Iceland"
          ],
          [
           "Iran"
          ],
          [
           "Iraq"
          ],
          [
           "Isle of Man"
          ],
          [
           "Jamaica"
          ],
          [
           "Jordan"
          ],
          [
           "Kazakhstan"
          ],
          [
           "Kenya"
          ],
          [
           "Kiribati"
          ],
          [
           "Kuwait"
          ],
          [
           "Kyrgyzstan"
          ],
          [
           "Laos"
          ],
          [
           "Latvia"
          ],
          [
           "Lebanon"
          ],
          [
           "Lesotho"
          ],
          [
           "Liberia"
          ],
          [
           "Libya"
          ],
          [
           "Liechtenstein"
          ],
          [
           "Lithuania"
          ],
          [
           "Macao"
          ],
          [
           "Madagascar"
          ],
          [
           "Malawi"
          ],
          [
           "Maldives"
          ],
          [
           "Mali"
          ],
          [
           "Malta"
          ],
          [
           "Marshall Islands"
          ],
          [
           "Martinique"
          ],
          [
           "Mauritania"
          ],
          [
           "Mauritius"
          ],
          [
           "Mayotte"
          ],
          [
           "Micronesia"
          ],
          [
           "Moldova"
          ],
          [
           "Monaco"
          ],
          [
           "Mongolia"
          ],
          [
           "Montenegro"
          ],
          [
           "Montserrat"
          ],
          [
           "Mozambique"
          ],
          [
           "Myanmar"
          ],
          [
           "Namibia"
          ],
          [
           "Nauru"
          ],
          [
           "Nepal"
          ],
          [
           "New Caledonia"
          ],
          [
           "Nicaragua"
          ],
          [
           "Niger"
          ],
          [
           "Nigeria"
          ],
          [
           "Niue"
          ],
          [
           "North Korea"
          ],
          [
           "North Macedonia"
          ],
          [
           "Northern Mariana Islands"
          ],
          [
           "Oman"
          ],
          [
           "Pakistan"
          ],
          [
           "Palau"
          ],
          [
           "Panama"
          ],
          [
           "Papua New Guinea"
          ],
          [
           "Paraguay"
          ],
          [
           "Puerto Rico"
          ],
          [
           "Romania"
          ],
          [
           "Rwanda"
          ],
          [
           "Réunion"
          ],
          [
           "Saint Barthelemy"
          ],
          [
           "Saint Helena"
          ],
          [
           "Saint Kitts & Nevis"
          ],
          [
           "Saint Lucia"
          ],
          [
           "Saint Martin"
          ],
          [
           "Saint Pierre & Miquelon"
          ],
          [
           "Samoa"
          ],
          [
           "San Marino"
          ],
          [
           "Sao Tome & Principe"
          ],
          [
           "Senegal"
          ],
          [
           "Serbia"
          ],
          [
           "Seychelles"
          ],
          [
           "Sierra Leone"
          ],
          [
           "Sint Maarten"
          ],
          [
           "Slovakia"
          ],
          [
           "Slovenia"
          ],
          [
           "Solomon Islands"
          ],
          [
           "Somalia"
          ],
          [
           "South Sudan"
          ],
          [
           "Sri Lanka"
          ],
          [
           "St. Vincent & Grenadines"
          ],
          [
           "State of Palestine"
          ],
          [
           "Sudan"
          ],
          [
           "Suriname"
          ],
          [
           "Syria"
          ],
          [
           "Taiwan"
          ],
          [
           "Tajikistan"
          ],
          [
           "Tanzania"
          ],
          [
           "Timor-Leste"
          ],
          [
           "Togo"
          ],
          [
           "Tokelau"
          ],
          [
           "Tonga"
          ],
          [
           "Trinidad and Tobago"
          ],
          [
           "Tunisia"
          ],
          [
           "Turkmenistan"
          ],
          [
           "Turks and Caicos"
          ],
          [
           "Tuvalu"
          ],
          [
           "U.S. Virgin Islands"
          ],
          [
           "Uganda"
          ],
          [
           "Ukraine"
          ],
          [
           "Uruguay"
          ],
          [
           "Uzbekistan"
          ],
          [
           "Vanuatu"
          ],
          [
           "Venezuela"
          ],
          [
           "Wallis & Futuna"
          ],
          [
           "Western Sahara"
          ],
          [
           "Yemen"
          ],
          [
           "Zambia"
          ],
          [
           "Zimbabwe"
          ]
         ],
         "hovertemplate": "BestToLive=False<br>UrbanPop%=%{x}<br>Migrants(net)=%{y}<br>Country=%{customdata[0]}<extra></extra>",
         "legendgroup": "False",
         "marker": {
          "color": "#636efa",
          "symbol": "circle"
         },
         "mode": "markers",
         "name": "False",
         "orientation": "v",
         "showlegend": true,
         "type": "scatter",
         "x": [
          25.4,
          63.5,
          72.9,
          88.1,
          87.8,
          66.7,
          95.95575757575756,
          26.2,
          62.8,
          43.6,
          56.2,
          86.1,
          89.3,
          39.4,
          31.2,
          79.2,
          46.1,
          48.4,
          97.4,
          45.8,
          69.3,
          52.3,
          72.8,
          52.4,
          79.5,
          75.6,
          30.6,
          13.8,
          68,
          24.2,
          56.3,
          75,
          97.2,
          43,
          23.3,
          29.8,
          80.4,
          29.4,
          69.9,
          75.3,
          78.3,
          88.7,
          66.8,
          73.5,
          51.3,
          45.6,
          79,
          74.1,
          84.5,
          63,
          73.4,
          73.3,
          63.3,
          67.9,
          30,
          21.3,
          43.3,
          66,
          59.1,
          87.3,
          64.1,
          87.1,
          59.4,
          58.1,
          56.7,
          97.67386934673152,
          87.3,
          35.5,
          100,
          94.9,
          51.8,
          38.6,
          44.9,
          26.9,
          56.9,
          99.9,
          57.3,
          100,
          94.4,
          75.5,
          73.1,
          53.4,
          55.4,
          91.5,
          57.7,
          27.8,
          57,
          100,
          35.6,
          35.7,
          68.6,
          78.4,
          31.5,
          52.6,
          78.2,
          14.6,
          71.3,
          100,
          38.5,
          18.5,
          34.5,
          44,
          93.2,
          70,
          91.6,
          56.9,
          40.8,
          45.8,
          68.2,
          42.7,
          100,
          67.2,
          67.6,
          9.6,
          38.3,
          31.4,
          55.2,
          100,
          21.4,
          71.9,
          57.2,
          16.5,
          52,
          46.4,
          62.5,
          58.6,
          88.3,
          87,
          35.1,
          94.61390525840692,
          68,
          13.1,
          61.6,
          100,
          54.6,
          17.6,
          99.8,
          0,
          27.2,
          32.9,
          18.6,
          0,
          99.8,
          18,
          97.1,
          74,
          49.4,
          56.2,
          56.2,
          43.3,
          96.5,
          53.7,
          55.2,
          23.2,
          46.8,
          24.6,
          18.4,
          52.9,
          80,
          35,
          65.1,
          60,
          78.9,
          27.3,
          37,
          32.8,
          43.3,
          0,
          24.3,
          52.4,
          70.1,
          52.5,
          89.3,
          62.4,
          96.3,
          25.7,
          69.4,
          96.1,
          50.1,
          24.4,
          98.36103859251055,
          0,
          86.8,
          38.4,
          45.3,
          38.4
         ],
         "xaxis": "x",
         "y": [
          -62920,
          -14000,
          -10000,
          0,
          0,
          6413,
          0,
          0,
          -4998,
          201,
          1200,
          1000,
          47800,
          -369501,
          -79,
          8730,
          1200,
          -2000,
          0,
          320,
          -9504,
          -21585,
          3000,
          0,
          0,
          -4800,
          -25000,
          2001,
          -1342,
          -30000,
          -4800,
          0,
          0,
          -40000,
          2000,
          1351,
          204796,
          -2000,
          -4000,
          0,
          -14400,
          515,
          5000,
          22011,
          -8000,
          23861,
          900,
          0,
          -30000,
          36400,
          -40539,
          16000,
          -39858,
          3911,
          -8353,
          30000,
          0,
          0,
          -6202,
          1200,
          -1000,
          3260,
          -3087,
          -10000,
          -10000,
          0,
          0,
          -200,
          -1440,
          -506,
          -9215,
          -4000,
          -1399,
          -6000,
          -35000,
          0,
          -6800,
          29308,
          380,
          -55000,
          7834,
          0,
          -11332,
          10220,
          -18000,
          -10000,
          -800,
          39520,
          -4000,
          -14704,
          -14837,
          -30012,
          -10047,
          -5000,
          -1999,
          0,
          -32780,
          5000,
          -1500,
          -16053,
          11370,
          -40000,
          900,
          0,
          -960,
          5000,
          0,
          0,
          -2957,
          -1387,
          0,
          -852,
          -480,
          0,
          -5000,
          -163313,
          -4806,
          0,
          41710,
          502,
          -21272,
          4000,
          -60000,
          0,
          -5403,
          -1000,
          0,
          87400,
          -233379,
          0,
          11200,
          -800,
          -16556,
          -97986,
          -73999,
          -9000,
          -1256,
          0,
          0,
          0,
          0,
          0,
          0,
          -2803,
          0,
          -1680,
          -20000,
          4000,
          -200,
          -4200,
          0,
          1485,
          2000,
          -1600,
          -40000,
          -174200,
          -97986,
          -200,
          -10563,
          -50000,
          -1000,
          -427391,
          30001,
          -20000,
          -40076,
          -5385,
          -2000,
          0,
          -800,
          -800,
          -4000,
          -5000,
          0,
          0,
          -451,
          168694,
          10000,
          -3000,
          -8863,
          120,
          -653249,
          0,
          5582,
          -30000,
          -8000,
          -116858
         ],
         "yaxis": "y"
        },
        {
         "customdata": [
          [
           "Argentina"
          ],
          [
           "Australia"
          ],
          [
           "Austria"
          ],
          [
           "Belgium"
          ],
          [
           "Brazil"
          ],
          [
           "Canada"
          ],
          [
           "Chile"
          ],
          [
           "China"
          ],
          [
           "Costa Rica"
          ],
          [
           "Croatia"
          ],
          [
           "Denmark"
          ],
          [
           "Egypt"
          ],
          [
           "Finland"
          ],
          [
           "France"
          ],
          [
           "Germany"
          ],
          [
           "Greece"
          ],
          [
           "Hungary"
          ],
          [
           "India"
          ],
          [
           "Indonesia"
          ],
          [
           "Ireland"
          ],
          [
           "Israel"
          ],
          [
           "Italy"
          ],
          [
           "Japan"
          ],
          [
           "Luxembourg"
          ],
          [
           "Malaysia"
          ],
          [
           "Mexico"
          ],
          [
           "Morocco"
          ],
          [
           "Netherlands"
          ],
          [
           "New Zealand"
          ],
          [
           "Norway"
          ],
          [
           "Peru"
          ],
          [
           "Philippines"
          ],
          [
           "Poland"
          ],
          [
           "Portugal"
          ],
          [
           "Qatar"
          ],
          [
           "Russia"
          ],
          [
           "Saudi Arabia"
          ],
          [
           "Singapore"
          ],
          [
           "South Africa"
          ],
          [
           "South Korea"
          ],
          [
           "Spain"
          ],
          [
           "Sweden"
          ],
          [
           "Switzerland"
          ],
          [
           "Thailand"
          ],
          [
           "Turkey"
          ],
          [
           "United Arab Emirates"
          ],
          [
           "United Kingdom"
          ],
          [
           "United States"
          ],
          [
           "Vietnam"
          ]
         ],
         "hovertemplate": "BestToLive=True<br>UrbanPop%=%{x}<br>Migrants(net)=%{y}<br>Country=%{customdata[0]}<extra></extra>",
         "legendgroup": "True",
         "marker": {
          "color": "#EF553B",
          "symbol": "circle"
         },
         "mode": "markers",
         "name": "True",
         "orientation": "v",
         "showlegend": true,
         "type": "scatter",
         "x": [
          92.8,
          85.9,
          57.3,
          98.3,
          87.6,
          81.3,
          84.8,
          60.8,
          80,
          57.7,
          88.2,
          43,
          86.1,
          81.5,
          76.3,
          84.9,
          71.7,
          35,
          56.4,
          63,
          93.2,
          69.5,
          91.8,
          88.2,
          78.4,
          83.8,
          63.8,
          92.5,
          86.9,
          83.4,
          79.1,
          47.5,
          60.2,
          66.5,
          96.2,
          73.7,
          84,
          98.56000291488353,
          66.7,
          81.8,
          80.3,
          88.2,
          74.1,
          51.1,
          75.7,
          86.4,
          83.2,
          82.8,
          37.7
         ],
         "xaxis": "x",
         "y": [
          4800,
          158246,
          65000,
          48000,
          21200,
          242032,
          111708,
          -348399,
          4200,
          -8001,
          15200,
          -38033,
          14000,
          36527,
          543822,
          -16000,
          6000,
          -532687,
          -98955,
          23604,
          10000,
          148943,
          71560,
          9741,
          50000,
          -60000,
          -51419,
          16000,
          14881,
          28000,
          99069,
          -67152,
          -29395,
          -6000,
          40000,
          182456,
          134979,
          27028,
          145405,
          11731,
          40000,
          40000,
          52000,
          19444,
          283922,
          40000,
          260650,
          954806,
          -80000
         ],
         "yaxis": "y"
        }
       ],
       "layout": {
        "legend": {
         "title": {
          "text": "BestToLive"
         },
         "tracegroupgap": 0
        },
        "margin": {
         "t": 60
        },
        "template": {
         "data": {
          "bar": [
           {
            "error_x": {
             "color": "#2a3f5f"
            },
            "error_y": {
             "color": "#2a3f5f"
            },
            "marker": {
             "line": {
              "color": "#E5ECF6",
              "width": 0.5
             },
             "pattern": {
              "fillmode": "overlay",
              "size": 10,
              "solidity": 0.2
             }
            },
            "type": "bar"
           }
          ],
          "barpolar": [
           {
            "marker": {
             "line": {
              "color": "#E5ECF6",
              "width": 0.5
             },
             "pattern": {
              "fillmode": "overlay",
              "size": 10,
              "solidity": 0.2
             }
            },
            "type": "barpolar"
           }
          ],
          "carpet": [
           {
            "aaxis": {
             "endlinecolor": "#2a3f5f",
             "gridcolor": "white",
             "linecolor": "white",
             "minorgridcolor": "white",
             "startlinecolor": "#2a3f5f"
            },
            "baxis": {
             "endlinecolor": "#2a3f5f",
             "gridcolor": "white",
             "linecolor": "white",
             "minorgridcolor": "white",
             "startlinecolor": "#2a3f5f"
            },
            "type": "carpet"
           }
          ],
          "choropleth": [
           {
            "colorbar": {
             "outlinewidth": 0,
             "ticks": ""
            },
            "type": "choropleth"
           }
          ],
          "contour": [
           {
            "colorbar": {
             "outlinewidth": 0,
             "ticks": ""
            },
            "colorscale": [
             [
              0,
              "#0d0887"
             ],
             [
              0.1111111111111111,
              "#46039f"
             ],
             [
              0.2222222222222222,
              "#7201a8"
             ],
             [
              0.3333333333333333,
              "#9c179e"
             ],
             [
              0.4444444444444444,
              "#bd3786"
             ],
             [
              0.5555555555555556,
              "#d8576b"
             ],
             [
              0.6666666666666666,
              "#ed7953"
             ],
             [
              0.7777777777777778,
              "#fb9f3a"
             ],
             [
              0.8888888888888888,
              "#fdca26"
             ],
             [
              1,
              "#f0f921"
             ]
            ],
            "type": "contour"
           }
          ],
          "contourcarpet": [
           {
            "colorbar": {
             "outlinewidth": 0,
             "ticks": ""
            },
            "type": "contourcarpet"
           }
          ],
          "heatmap": [
           {
            "colorbar": {
             "outlinewidth": 0,
             "ticks": ""
            },
            "colorscale": [
             [
              0,
              "#0d0887"
             ],
             [
              0.1111111111111111,
              "#46039f"
             ],
             [
              0.2222222222222222,
              "#7201a8"
             ],
             [
              0.3333333333333333,
              "#9c179e"
             ],
             [
              0.4444444444444444,
              "#bd3786"
             ],
             [
              0.5555555555555556,
              "#d8576b"
             ],
             [
              0.6666666666666666,
              "#ed7953"
             ],
             [
              0.7777777777777778,
              "#fb9f3a"
             ],
             [
              0.8888888888888888,
              "#fdca26"
             ],
             [
              1,
              "#f0f921"
             ]
            ],
            "type": "heatmap"
           }
          ],
          "heatmapgl": [
           {
            "colorbar": {
             "outlinewidth": 0,
             "ticks": ""
            },
            "colorscale": [
             [
              0,
              "#0d0887"
             ],
             [
              0.1111111111111111,
              "#46039f"
             ],
             [
              0.2222222222222222,
              "#7201a8"
             ],
             [
              0.3333333333333333,
              "#9c179e"
             ],
             [
              0.4444444444444444,
              "#bd3786"
             ],
             [
              0.5555555555555556,
              "#d8576b"
             ],
             [
              0.6666666666666666,
              "#ed7953"
             ],
             [
              0.7777777777777778,
              "#fb9f3a"
             ],
             [
              0.8888888888888888,
              "#fdca26"
             ],
             [
              1,
              "#f0f921"
             ]
            ],
            "type": "heatmapgl"
           }
          ],
          "histogram": [
           {
            "marker": {
             "pattern": {
              "fillmode": "overlay",
              "size": 10,
              "solidity": 0.2
             }
            },
            "type": "histogram"
           }
          ],
          "histogram2d": [
           {
            "colorbar": {
             "outlinewidth": 0,
             "ticks": ""
            },
            "colorscale": [
             [
              0,
              "#0d0887"
             ],
             [
              0.1111111111111111,
              "#46039f"
             ],
             [
              0.2222222222222222,
              "#7201a8"
             ],
             [
              0.3333333333333333,
              "#9c179e"
             ],
             [
              0.4444444444444444,
              "#bd3786"
             ],
             [
              0.5555555555555556,
              "#d8576b"
             ],
             [
              0.6666666666666666,
              "#ed7953"
             ],
             [
              0.7777777777777778,
              "#fb9f3a"
             ],
             [
              0.8888888888888888,
              "#fdca26"
             ],
             [
              1,
              "#f0f921"
             ]
            ],
            "type": "histogram2d"
           }
          ],
          "histogram2dcontour": [
           {
            "colorbar": {
             "outlinewidth": 0,
             "ticks": ""
            },
            "colorscale": [
             [
              0,
              "#0d0887"
             ],
             [
              0.1111111111111111,
              "#46039f"
             ],
             [
              0.2222222222222222,
              "#7201a8"
             ],
             [
              0.3333333333333333,
              "#9c179e"
             ],
             [
              0.4444444444444444,
              "#bd3786"
             ],
             [
              0.5555555555555556,
              "#d8576b"
             ],
             [
              0.6666666666666666,
              "#ed7953"
             ],
             [
              0.7777777777777778,
              "#fb9f3a"
             ],
             [
              0.8888888888888888,
              "#fdca26"
             ],
             [
              1,
              "#f0f921"
             ]
            ],
            "type": "histogram2dcontour"
           }
          ],
          "mesh3d": [
           {
            "colorbar": {
             "outlinewidth": 0,
             "ticks": ""
            },
            "type": "mesh3d"
           }
          ],
          "parcoords": [
           {
            "line": {
             "colorbar": {
              "outlinewidth": 0,
              "ticks": ""
             }
            },
            "type": "parcoords"
           }
          ],
          "pie": [
           {
            "automargin": true,
            "type": "pie"
           }
          ],
          "scatter": [
           {
            "fillpattern": {
             "fillmode": "overlay",
             "size": 10,
             "solidity": 0.2
            },
            "type": "scatter"
           }
          ],
          "scatter3d": [
           {
            "line": {
             "colorbar": {
              "outlinewidth": 0,
              "ticks": ""
             }
            },
            "marker": {
             "colorbar": {
              "outlinewidth": 0,
              "ticks": ""
             }
            },
            "type": "scatter3d"
           }
          ],
          "scattercarpet": [
           {
            "marker": {
             "colorbar": {
              "outlinewidth": 0,
              "ticks": ""
             }
            },
            "type": "scattercarpet"
           }
          ],
          "scattergeo": [
           {
            "marker": {
             "colorbar": {
              "outlinewidth": 0,
              "ticks": ""
             }
            },
            "type": "scattergeo"
           }
          ],
          "scattergl": [
           {
            "marker": {
             "colorbar": {
              "outlinewidth": 0,
              "ticks": ""
             }
            },
            "type": "scattergl"
           }
          ],
          "scattermapbox": [
           {
            "marker": {
             "colorbar": {
              "outlinewidth": 0,
              "ticks": ""
             }
            },
            "type": "scattermapbox"
           }
          ],
          "scatterpolar": [
           {
            "marker": {
             "colorbar": {
              "outlinewidth": 0,
              "ticks": ""
             }
            },
            "type": "scatterpolar"
           }
          ],
          "scatterpolargl": [
           {
            "marker": {
             "colorbar": {
              "outlinewidth": 0,
              "ticks": ""
             }
            },
            "type": "scatterpolargl"
           }
          ],
          "scatterternary": [
           {
            "marker": {
             "colorbar": {
              "outlinewidth": 0,
              "ticks": ""
             }
            },
            "type": "scatterternary"
           }
          ],
          "surface": [
           {
            "colorbar": {
             "outlinewidth": 0,
             "ticks": ""
            },
            "colorscale": [
             [
              0,
              "#0d0887"
             ],
             [
              0.1111111111111111,
              "#46039f"
             ],
             [
              0.2222222222222222,
              "#7201a8"
             ],
             [
              0.3333333333333333,
              "#9c179e"
             ],
             [
              0.4444444444444444,
              "#bd3786"
             ],
             [
              0.5555555555555556,
              "#d8576b"
             ],
             [
              0.6666666666666666,
              "#ed7953"
             ],
             [
              0.7777777777777778,
              "#fb9f3a"
             ],
             [
              0.8888888888888888,
              "#fdca26"
             ],
             [
              1,
              "#f0f921"
             ]
            ],
            "type": "surface"
           }
          ],
          "table": [
           {
            "cells": {
             "fill": {
              "color": "#EBF0F8"
             },
             "line": {
              "color": "white"
             }
            },
            "header": {
             "fill": {
              "color": "#C8D4E3"
             },
             "line": {
              "color": "white"
             }
            },
            "type": "table"
           }
          ]
         },
         "layout": {
          "annotationdefaults": {
           "arrowcolor": "#2a3f5f",
           "arrowhead": 0,
           "arrowwidth": 1
          },
          "autotypenumbers": "strict",
          "coloraxis": {
           "colorbar": {
            "outlinewidth": 0,
            "ticks": ""
           }
          },
          "colorscale": {
           "diverging": [
            [
             0,
             "#8e0152"
            ],
            [
             0.1,
             "#c51b7d"
            ],
            [
             0.2,
             "#de77ae"
            ],
            [
             0.3,
             "#f1b6da"
            ],
            [
             0.4,
             "#fde0ef"
            ],
            [
             0.5,
             "#f7f7f7"
            ],
            [
             0.6,
             "#e6f5d0"
            ],
            [
             0.7,
             "#b8e186"
            ],
            [
             0.8,
             "#7fbc41"
            ],
            [
             0.9,
             "#4d9221"
            ],
            [
             1,
             "#276419"
            ]
           ],
           "sequential": [
            [
             0,
             "#0d0887"
            ],
            [
             0.1111111111111111,
             "#46039f"
            ],
            [
             0.2222222222222222,
             "#7201a8"
            ],
            [
             0.3333333333333333,
             "#9c179e"
            ],
            [
             0.4444444444444444,
             "#bd3786"
            ],
            [
             0.5555555555555556,
             "#d8576b"
            ],
            [
             0.6666666666666666,
             "#ed7953"
            ],
            [
             0.7777777777777778,
             "#fb9f3a"
            ],
            [
             0.8888888888888888,
             "#fdca26"
            ],
            [
             1,
             "#f0f921"
            ]
           ],
           "sequentialminus": [
            [
             0,
             "#0d0887"
            ],
            [
             0.1111111111111111,
             "#46039f"
            ],
            [
             0.2222222222222222,
             "#7201a8"
            ],
            [
             0.3333333333333333,
             "#9c179e"
            ],
            [
             0.4444444444444444,
             "#bd3786"
            ],
            [
             0.5555555555555556,
             "#d8576b"
            ],
            [
             0.6666666666666666,
             "#ed7953"
            ],
            [
             0.7777777777777778,
             "#fb9f3a"
            ],
            [
             0.8888888888888888,
             "#fdca26"
            ],
            [
             1,
             "#f0f921"
            ]
           ]
          },
          "colorway": [
           "#636efa",
           "#EF553B",
           "#00cc96",
           "#ab63fa",
           "#FFA15A",
           "#19d3f3",
           "#FF6692",
           "#B6E880",
           "#FF97FF",
           "#FECB52"
          ],
          "font": {
           "color": "#2a3f5f"
          },
          "geo": {
           "bgcolor": "white",
           "lakecolor": "white",
           "landcolor": "#E5ECF6",
           "showlakes": true,
           "showland": true,
           "subunitcolor": "white"
          },
          "hoverlabel": {
           "align": "left"
          },
          "hovermode": "closest",
          "mapbox": {
           "style": "light"
          },
          "paper_bgcolor": "white",
          "plot_bgcolor": "#E5ECF6",
          "polar": {
           "angularaxis": {
            "gridcolor": "white",
            "linecolor": "white",
            "ticks": ""
           },
           "bgcolor": "#E5ECF6",
           "radialaxis": {
            "gridcolor": "white",
            "linecolor": "white",
            "ticks": ""
           }
          },
          "scene": {
           "xaxis": {
            "backgroundcolor": "#E5ECF6",
            "gridcolor": "white",
            "gridwidth": 2,
            "linecolor": "white",
            "showbackground": true,
            "ticks": "",
            "zerolinecolor": "white"
           },
           "yaxis": {
            "backgroundcolor": "#E5ECF6",
            "gridcolor": "white",
            "gridwidth": 2,
            "linecolor": "white",
            "showbackground": true,
            "ticks": "",
            "zerolinecolor": "white"
           },
           "zaxis": {
            "backgroundcolor": "#E5ECF6",
            "gridcolor": "white",
            "gridwidth": 2,
            "linecolor": "white",
            "showbackground": true,
            "ticks": "",
            "zerolinecolor": "white"
           }
          },
          "shapedefaults": {
           "line": {
            "color": "#2a3f5f"
           }
          },
          "ternary": {
           "aaxis": {
            "gridcolor": "white",
            "linecolor": "white",
            "ticks": ""
           },
           "baxis": {
            "gridcolor": "white",
            "linecolor": "white",
            "ticks": ""
           },
           "bgcolor": "#E5ECF6",
           "caxis": {
            "gridcolor": "white",
            "linecolor": "white",
            "ticks": ""
           }
          },
          "title": {
           "x": 0.05
          },
          "xaxis": {
           "automargin": true,
           "gridcolor": "white",
           "linecolor": "white",
           "ticks": "",
           "title": {
            "standoff": 15
           },
           "zerolinecolor": "white",
           "zerolinewidth": 2
          },
          "yaxis": {
           "automargin": true,
           "gridcolor": "white",
           "linecolor": "white",
           "ticks": "",
           "title": {
            "standoff": 15
           },
           "zerolinecolor": "white",
           "zerolinewidth": 2
          }
         }
        },
        "title": {
         "text": "Trực quan giữa UrbanPop% và Migrants(net)",
         "x": 0.45,
         "xanchor": "center",
         "y": 0.95,
         "yanchor": "top"
        },
        "xaxis": {
         "anchor": "y",
         "domain": [
          0,
          1
         ],
         "title": {
          "text": "UrbanPop%"
         }
        },
        "yaxis": {
         "anchor": "x",
         "domain": [
          0,
          1
         ],
         "title": {
          "text": "Migrants(net)"
         }
        }
       }
      }
     },
     "metadata": {},
     "output_type": "display_data"
    }
   ],
   "source": [
    "fig=px.scatter(df_train, x=\"UrbanPop%\", y=\"Migrants(net)\",\n",
    "        color=\"BestToLive\", hover_data=['Country'])\n",
    "fig.update_layout(\n",
    "    title={\n",
    "        'text': \"Trực quan giữa UrbanPop% và Migrants(net)\",\n",
    "        'y':0.95,\n",
    "        'x':0.45,\n",
    "        'xanchor': 'center',\n",
    "        'yanchor': 'top'})\n",
    "\n",
    "fig.show()"
   ]
  },
  {
   "attachments": {},
   "cell_type": "markdown",
   "metadata": {},
   "source": [
    "Với tập train có cột label được xem là có đáng sống hay không? (True hoặc False), ta xây dựng mô hình **Hồi quy logistic** để đưa ra dự đoán dựa trên 2 yếu tố UrbanPop% và Migrants."
   ]
  },
  {
   "cell_type": "code",
   "execution_count": 56,
   "metadata": {},
   "outputs": [
    {
     "name": "stdout",
     "output_type": "stream",
     "text": [
      "Binary cross entropy loss là :  6.466844936886641\n",
      "Độ chính xác của mô hình :  0.8127659574468085\n"
     ]
    }
   ],
   "source": [
    "\n",
    "\n",
    "import random\n",
    "from sklearn.linear_model import LogisticRegression\n",
    "from sklearn.datasets import make_blobs\n",
    "\n",
    "from sklearn.metrics import log_loss\n",
    "\n",
    "X = [ [df_train.iloc[i]['UrbanPop%'], df_train.iloc[i]['Migrants(net)']] for i in range(df_train.shape[0]) ]\n",
    "y= list(df_train['BestToLive'])\n",
    "\n",
    "model = LogisticRegression()\n",
    "model.fit(X, y)\n",
    "\n",
    "#kiểm tra\n",
    "#Xnew = [[80,500 * 1000],[40,100],[50,-100]]\n",
    "#Xnew=[[random.randint(20,100),10**(random.randint(0,60)/10)] for i in range(500)]\n",
    "Xnew=X\n",
    "ynew = model.predict_proba(Xnew)\n",
    "\n",
    "dict_={\n",
    "    'Country' : [i for i in df_train['Country']],\n",
    "    'UrbanPop%': [i[0] for i in Xnew],\n",
    "    'Migrants(net)': [i[1] for i in Xnew],\n",
    "    'predict':[i[1] for i in ynew]\n",
    "}\n",
    "ynew = model.predict(Xnew)\n",
    "\n",
    "print('Binary cross entropy loss là : ',log_loss(y, ynew))\n",
    "print('Độ chính xác của mô hình : ',sum(ynew==y)/len(y))"
   ]
  },
  {
   "cell_type": "code",
   "execution_count": 55,
   "metadata": {},
   "outputs": [
    {
     "data": {
      "application/vnd.plotly.v1+json": {
       "config": {
        "plotlyServerURL": "https://plot.ly"
       },
       "data": [
        {
         "customdata": [
          [
           "Afghanistan"
          ],
          [
           "Albania"
          ],
          [
           "Algeria"
          ],
          [
           "American Samoa"
          ],
          [
           "Andorra"
          ],
          [
           "Angola"
          ],
          [
           "Anguilla"
          ],
          [
           "Antigua and Barbuda"
          ],
          [
           "Argentina"
          ],
          [
           "Armenia"
          ],
          [
           "Aruba"
          ],
          [
           "Australia"
          ],
          [
           "Austria"
          ],
          [
           "Azerbaijan"
          ],
          [
           "Bahamas"
          ],
          [
           "Bahrain"
          ],
          [
           "Bangladesh"
          ],
          [
           "Barbados"
          ],
          [
           "Belarus"
          ],
          [
           "Belgium"
          ],
          [
           "Belize"
          ],
          [
           "Benin"
          ],
          [
           "Bermuda"
          ],
          [
           "Bhutan"
          ],
          [
           "Bolivia"
          ],
          [
           "Bosnia and Herzegovina"
          ],
          [
           "Botswana"
          ],
          [
           "Brazil"
          ],
          [
           "British Virgin Islands"
          ],
          [
           "Brunei "
          ],
          [
           "Bulgaria"
          ],
          [
           "Burkina Faso"
          ],
          [
           "Burundi"
          ],
          [
           "Cabo Verde"
          ],
          [
           "Cambodia"
          ],
          [
           "Cameroon"
          ],
          [
           "Canada"
          ],
          [
           "Caribbean Netherlands"
          ],
          [
           "Cayman Islands"
          ],
          [
           "Central African Republic"
          ],
          [
           "Chad"
          ],
          [
           "Channel Islands"
          ],
          [
           "Chile"
          ],
          [
           "China"
          ],
          [
           "Colombia"
          ],
          [
           "Comoros"
          ],
          [
           "Congo"
          ],
          [
           "Cook Islands"
          ],
          [
           "Costa Rica"
          ],
          [
           "Croatia"
          ],
          [
           "Cuba"
          ],
          [
           "Curaçao"
          ],
          [
           "Cyprus"
          ],
          [
           "Czech Republic (Czechia)"
          ],
          [
           "Côte d'Ivoire"
          ],
          [
           "DR Congo"
          ],
          [
           "Denmark"
          ],
          [
           "Djibouti"
          ],
          [
           "Dominica"
          ],
          [
           "Dominican Republic"
          ],
          [
           "Ecuador"
          ],
          [
           "Egypt"
          ],
          [
           "El Salvador"
          ],
          [
           "Equatorial Guinea"
          ],
          [
           "Eritrea"
          ],
          [
           "Estonia"
          ],
          [
           "Eswatini"
          ],
          [
           "Ethiopia"
          ],
          [
           "Faeroe Islands"
          ],
          [
           "Falkland Islands"
          ],
          [
           "Fiji"
          ],
          [
           "Finland"
          ],
          [
           "France"
          ],
          [
           "French Guiana"
          ],
          [
           "French Polynesia"
          ],
          [
           "Gabon"
          ],
          [
           "Gambia"
          ],
          [
           "Georgia"
          ],
          [
           "Germany"
          ],
          [
           "Ghana"
          ],
          [
           "Gibraltar"
          ],
          [
           "Greece"
          ],
          [
           "Greenland"
          ],
          [
           "Grenada"
          ],
          [
           "Guadeloupe"
          ],
          [
           "Guam"
          ],
          [
           "Guatemala"
          ],
          [
           "Guinea"
          ],
          [
           "Guinea-Bissau"
          ],
          [
           "Guyana"
          ],
          [
           "Haiti"
          ],
          [
           "Holy See"
          ],
          [
           "Honduras"
          ],
          [
           "Hong Kong"
          ],
          [
           "Hungary"
          ],
          [
           "Iceland"
          ],
          [
           "India"
          ],
          [
           "Indonesia"
          ],
          [
           "Iran"
          ],
          [
           "Iraq"
          ],
          [
           "Ireland"
          ],
          [
           "Isle of Man"
          ],
          [
           "Israel"
          ],
          [
           "Italy"
          ],
          [
           "Jamaica"
          ],
          [
           "Japan"
          ],
          [
           "Jordan"
          ],
          [
           "Kazakhstan"
          ],
          [
           "Kenya"
          ],
          [
           "Kiribati"
          ],
          [
           "Kuwait"
          ],
          [
           "Kyrgyzstan"
          ],
          [
           "Laos"
          ],
          [
           "Latvia"
          ],
          [
           "Lebanon"
          ],
          [
           "Lesotho"
          ],
          [
           "Liberia"
          ],
          [
           "Libya"
          ],
          [
           "Liechtenstein"
          ],
          [
           "Lithuania"
          ],
          [
           "Luxembourg"
          ],
          [
           "Macao"
          ],
          [
           "Madagascar"
          ],
          [
           "Malawi"
          ],
          [
           "Malaysia"
          ],
          [
           "Maldives"
          ],
          [
           "Mali"
          ],
          [
           "Malta"
          ],
          [
           "Marshall Islands"
          ],
          [
           "Martinique"
          ],
          [
           "Mauritania"
          ],
          [
           "Mauritius"
          ],
          [
           "Mayotte"
          ],
          [
           "Mexico"
          ],
          [
           "Micronesia"
          ],
          [
           "Moldova"
          ],
          [
           "Monaco"
          ],
          [
           "Mongolia"
          ],
          [
           "Montenegro"
          ],
          [
           "Montserrat"
          ],
          [
           "Morocco"
          ],
          [
           "Mozambique"
          ],
          [
           "Myanmar"
          ],
          [
           "Namibia"
          ],
          [
           "Nauru"
          ],
          [
           "Nepal"
          ],
          [
           "Netherlands"
          ],
          [
           "New Caledonia"
          ],
          [
           "New Zealand"
          ],
          [
           "Nicaragua"
          ],
          [
           "Niger"
          ],
          [
           "Nigeria"
          ],
          [
           "Niue"
          ],
          [
           "North Korea"
          ],
          [
           "North Macedonia"
          ],
          [
           "Northern Mariana Islands"
          ],
          [
           "Norway"
          ],
          [
           "Oman"
          ],
          [
           "Pakistan"
          ],
          [
           "Palau"
          ],
          [
           "Panama"
          ],
          [
           "Papua New Guinea"
          ],
          [
           "Paraguay"
          ],
          [
           "Peru"
          ],
          [
           "Philippines"
          ],
          [
           "Poland"
          ],
          [
           "Portugal"
          ],
          [
           "Puerto Rico"
          ],
          [
           "Qatar"
          ],
          [
           "Romania"
          ],
          [
           "Russia"
          ],
          [
           "Rwanda"
          ],
          [
           "Réunion"
          ],
          [
           "Saint Barthelemy"
          ],
          [
           "Saint Helena"
          ],
          [
           "Saint Kitts & Nevis"
          ],
          [
           "Saint Lucia"
          ],
          [
           "Saint Martin"
          ],
          [
           "Saint Pierre & Miquelon"
          ],
          [
           "Samoa"
          ],
          [
           "San Marino"
          ],
          [
           "Sao Tome & Principe"
          ],
          [
           "Saudi Arabia"
          ],
          [
           "Senegal"
          ],
          [
           "Serbia"
          ],
          [
           "Seychelles"
          ],
          [
           "Sierra Leone"
          ],
          [
           "Singapore"
          ],
          [
           "Sint Maarten"
          ],
          [
           "Slovakia"
          ],
          [
           "Slovenia"
          ],
          [
           "Solomon Islands"
          ],
          [
           "Somalia"
          ],
          [
           "South Africa"
          ],
          [
           "South Korea"
          ],
          [
           "South Sudan"
          ],
          [
           "Spain"
          ],
          [
           "Sri Lanka"
          ],
          [
           "St. Vincent & Grenadines"
          ],
          [
           "State of Palestine"
          ],
          [
           "Sudan"
          ],
          [
           "Suriname"
          ],
          [
           "Sweden"
          ],
          [
           "Switzerland"
          ],
          [
           "Syria"
          ],
          [
           "Taiwan"
          ],
          [
           "Tajikistan"
          ],
          [
           "Tanzania"
          ],
          [
           "Thailand"
          ],
          [
           "Timor-Leste"
          ],
          [
           "Togo"
          ],
          [
           "Tokelau"
          ],
          [
           "Tonga"
          ],
          [
           "Trinidad and Tobago"
          ],
          [
           "Tunisia"
          ],
          [
           "Turkey"
          ],
          [
           "Turkmenistan"
          ],
          [
           "Turks and Caicos"
          ],
          [
           "Tuvalu"
          ],
          [
           "U.S. Virgin Islands"
          ],
          [
           "Uganda"
          ],
          [
           "Ukraine"
          ],
          [
           "United Arab Emirates"
          ],
          [
           "United Kingdom"
          ],
          [
           "United States"
          ],
          [
           "Uruguay"
          ],
          [
           "Uzbekistan"
          ],
          [
           "Vanuatu"
          ],
          [
           "Venezuela"
          ],
          [
           "Vietnam"
          ],
          [
           "Wallis & Futuna"
          ],
          [
           "Western Sahara"
          ],
          [
           "Yemen"
          ],
          [
           "Zambia"
          ],
          [
           "Zimbabwe"
          ]
         ],
         "hovertemplate": "UrbanPop%=%{x}<br>Migrants(net)=%{y}<br>Country=%{customdata[0]}<br>predict=%{marker.color}<extra></extra>",
         "legendgroup": "",
         "marker": {
          "color": [
           0.2709278181850367,
           0.23113712819176538,
           0.20984600753376376,
           0.18318348538216453,
           0.18394623770876795,
           0.2544660404776666,
           0.16407731135300532,
           0.390598239138403,
           0.1776954089269704,
           0.24785348232088064,
           0.323397241562577,
           0.4868858948153006,
           0.4024556180946884,
           0.2802765536588549,
           0.18967598250766168,
           0.25145879271721167,
           0.018896618772338468,
           0.3704412599999613,
           0.2198705295166972,
           0.22413057559173907,
           0.31610182728954817,
           0.301707909938994,
           0.1607443913726694,
           0.31551315155561993,
           0.22090917036107632,
           0.2536489228971962,
           0.229926768586519,
           0.21446815622947385,
           0.29125866143383244,
           0.20602933463817985,
           0.20990699918533773,
           0.32269158637232864,
           0.4460445057381488,
           0.23760635383173806,
           0.33687502675322895,
           0.26932236531692755,
           0.6834218965639418,
           0.21879782388160945,
           0.16120265081455737,
           0.25256360391219945,
           0.40664769362771147,
           0.37898095261502035,
           0.39006520120512944,
           0.015900599574205886,
           0.611631704791108,
           0.3735903143160274,
           0.22764048778467677,
           0.21792914908903657,
           0.21078222798426213,
           0.2591795416938197,
           0.18899802654753084,
           0.18234615850293062,
           0.2517733943997231,
           0.25888089227284744,
           0.2805665728147789,
           0.3630743430747669,
           0.20397140836403949,
           0.2087372158799318,
           0.22141878576654891,
           0.15443450621406096,
           0.3217162995680155,
           0.25587494958338003,
           0.16721356766116305,
           0.24940754163568607,
           0.19339288734839719,
           0.24647390354280072,
           0.35814262584879836,
           0.4761962171938652,
           0.3241207709063132,
           0.24601097402777722,
           0.2576891573062347,
           0.20805585549389013,
           0.2575735139091658,
           0.1868364027721853,
           0.2503685274647668,
           0.19015330990858506,
           0.2620300188484965,
           0.254496410081391,
           0.971642361291303,
           0.2590288307796202,
           0.16011858457382228,
           0.1704121049245396,
           0.1852229543117227,
           0.35334961750978383,
           0.15321625376229142,
           0.16592595248464825,
           0.27669324684058305,
           0.33388162798192694,
           0.31551416052671044,
           0.3752051794226081,
           0.2181634451243238,
           0.15510472878894052,
           0.26254412314395736,
           0.1920770410958949,
           0.23804549253627827,
           0.16820102812078544,
           0.004849354339829516,
           0.13754842907236514,
           0.14559989339096166,
           0.23669396165431109,
           0.29744031483851874,
           0.28776908627213865,
           0.1835238780038376,
           0.5357266853143401,
           0.2609965562066293,
           0.28449273266594627,
           0.18818315141483485,
           0.24249983446804285,
           0.3633770782083322,
           0.27400017577181235,
           0.20654256522801592,
           0.3452948849682176,
           0.3237638208124193,
           0.2148635078848508,
           0.1684214728404708,
           0.34888953859744243,
           0.28149276216534785,
           0.20673434385661407,
           0.4383145263949932,
           0.18227887788562053,
           0.19621385146424503,
           0.1607833025155203,
           0.33921692906283907,
           0.38776659455109846,
           0.29185436370877654,
           0.3811552091471618,
           0.24937451255443546,
           0.17172430750495773,
           0.2336416571109885,
           0.17324127564829747,
           0.2847085989654824,
           0.3334802933077132,
           0.3148998275700178,
           0.12403709023884646,
           0.23440894152673683,
           0.3236528393014329,
           0.15488253836340057,
           0.24086832383793688,
           0.24023206336952302,
           0.4592950995458654,
           0.17664425825472213,
           0.3330392542356598,
           0.12098421246465474,
           0.27299989735350993,
           0.15488253836340057,
           0.5017486224922448,
           0.1934883807400453,
           0.22870514012353937,
           0.2071101664280123,
           0.23874110503085977,
           0.439123293808166,
           0.19540590332111518,
           0.3127079914705394,
           0.24813197171760107,
           0.2682850937846348,
           0.18267634829109963,
           0.23747608458708572,
           0.33176738959892305,
           0.0648846148091901,
           0.16722350809308756,
           0.25836539613403825,
           0.4428356699655676,
           0.23283640738738345,
           0.3863774315343104,
           0.1974319645791639,
           0.21710522522429956,
           0.23473576031204685,
           0.07130136343174556,
           0.218033259415327,
           0.17027621608444501,
           0.5913320046958622,
           0.4064127544213634,
           0.15386957321423775,
           0.4999205998915694,
           0.3865676377247972,
           0.3639031331644608,
           0.4216838256241529,
           0.4999205998915694,
           0.1553271793790911,
           0.4181007145208913,
           0.1614321760159508,
           0.2191479883033346,
           0.443533677449079,
           0.26581258397676355,
           0.285319127159206,
           0.2777757733654085,
           0.3160051598212265,
           0.19272721374718024,
           0.1628148717544714,
           0.2894313735542453,
           0.2851572570885455,
           0.3993652478717629,
           0.24058905330557503,
           0.5397253461525624,
           0.21689004270535017,
           0.12298606700947927,
           0.2674845705743095,
           0.2345972099634212,
           0.2891456054468697,
           0.18980097985382027,
           0.2615242678101695,
           0.24719798630877404,
           0.24205509915138199,
           0.310948894715639,
           0.008056376218812349,
           0.25493609119005733,
           0.34500960176358947,
           0.27212427411061907,
           0.3330166062076962,
           0.3532960128251631,
           0.32024261289462747,
           0.4999205998915694,
           0.39659608657192597,
           0.2897944743610809,
           0.22704448402573177,
           0.774955140536282,
           0.281836012413472,
           0.1801570134365133,
           0.25751437006689826,
           0.16273151825566717,
           0.74299455837442,
           0.25182772887596927,
           0.24770156010980407,
           0.711488923477686,
           0.9991531373199852,
           0.1601269561384416,
           0.28313615706587164,
           0.39814605832370925,
           0.0005698967953147286,
           0.20582959460610548,
           0.4999205998915694,
           0.19414370532341974,
           0.28533434769093424,
           0.3015635328835033,
           0.15585436002965697
          ],
          "coloraxis": "coloraxis",
          "symbol": "circle"
         },
         "mode": "markers",
         "name": "",
         "orientation": "v",
         "showlegend": false,
         "type": "scatter",
         "x": [
          25.4,
          63.5,
          72.9,
          88.1,
          87.8,
          66.7,
          95.95575757575756,
          26.2,
          92.8,
          62.8,
          43.6,
          85.9,
          57.3,
          56.2,
          86.1,
          89.3,
          39.4,
          31.2,
          79.2,
          98.3,
          46.1,
          48.4,
          97.4,
          45.8,
          69.3,
          52.3,
          72.8,
          87.6,
          52.4,
          79.5,
          75.6,
          30.6,
          13.8,
          68,
          24.2,
          56.3,
          81.3,
          75,
          97.2,
          43,
          23.3,
          29.8,
          84.8,
          60.8,
          80.4,
          29.4,
          69.9,
          75.3,
          80,
          57.7,
          78.3,
          88.7,
          66.8,
          73.5,
          51.3,
          45.6,
          88.2,
          79,
          74.1,
          84.5,
          63,
          43,
          73.4,
          73.3,
          63.3,
          67.9,
          30,
          21.3,
          43.3,
          66,
          59.1,
          86.1,
          81.5,
          87.3,
          64.1,
          87.1,
          59.4,
          58.1,
          76.3,
          56.7,
          97.67386934673152,
          84.9,
          87.3,
          35.5,
          100,
          94.9,
          51.8,
          38.6,
          44.9,
          26.9,
          56.9,
          99.9,
          57.3,
          100,
          71.7,
          94.4,
          35,
          56.4,
          75.5,
          73.1,
          63,
          53.4,
          93.2,
          69.5,
          55.4,
          91.8,
          91.5,
          57.7,
          27.8,
          57,
          100,
          35.6,
          35.7,
          68.6,
          78.4,
          31.5,
          52.6,
          78.2,
          14.6,
          71.3,
          88.2,
          100,
          38.5,
          18.5,
          78.4,
          34.5,
          44,
          93.2,
          70,
          91.6,
          56.9,
          40.8,
          45.8,
          83.8,
          68.2,
          42.7,
          100,
          67.2,
          67.6,
          9.6,
          63.8,
          38.3,
          31.4,
          55.2,
          100,
          21.4,
          92.5,
          71.9,
          86.9,
          57.2,
          16.5,
          52,
          46.4,
          62.5,
          58.6,
          88.3,
          83.4,
          87,
          35.1,
          94.61390525840692,
          68,
          13.1,
          61.6,
          79.1,
          47.5,
          60.2,
          66.5,
          100,
          96.2,
          54.6,
          73.7,
          17.6,
          99.8,
          0,
          27.2,
          32.9,
          18.6,
          0,
          99.8,
          18,
          97.1,
          74,
          84,
          49.4,
          56.2,
          56.2,
          43.3,
          98.56000291488353,
          96.5,
          53.7,
          55.2,
          23.2,
          46.8,
          66.7,
          81.8,
          24.6,
          80.3,
          18.4,
          52.9,
          80,
          35,
          65.1,
          88.2,
          74.1,
          60,
          78.9,
          27.3,
          37,
          51.1,
          32.8,
          43.3,
          0,
          24.3,
          52.4,
          70.1,
          75.7,
          52.5,
          89.3,
          62.4,
          96.3,
          25.7,
          69.4,
          86.4,
          83.2,
          82.8,
          96.1,
          50.1,
          24.4,
          98.36103859251055,
          37.7,
          0,
          86.8,
          38.4,
          45.3,
          38.4
         ],
         "xaxis": "x",
         "y": [
          -62920,
          -14000,
          -10000,
          0,
          0,
          6413,
          0,
          0,
          4800,
          -4998,
          201,
          158246,
          65000,
          1200,
          1000,
          47800,
          -369501,
          -79,
          8730,
          48000,
          1200,
          -2000,
          0,
          320,
          -9504,
          -21585,
          3000,
          21200,
          0,
          0,
          -4800,
          -25000,
          2001,
          -1342,
          -30000,
          -4800,
          242032,
          0,
          0,
          -40000,
          2000,
          1351,
          111708,
          -348399,
          204796,
          -2000,
          -4000,
          0,
          4200,
          -8001,
          -14400,
          515,
          5000,
          22011,
          -8000,
          23861,
          15200,
          900,
          0,
          -30000,
          36400,
          -38033,
          -40539,
          16000,
          -39858,
          3911,
          -8353,
          30000,
          0,
          0,
          -6202,
          14000,
          36527,
          1200,
          -1000,
          3260,
          -3087,
          -10000,
          543822,
          -10000,
          0,
          -16000,
          0,
          -200,
          -1440,
          -506,
          -9215,
          -4000,
          -1399,
          -6000,
          -35000,
          0,
          -6800,
          29308,
          6000,
          380,
          -532687,
          -98955,
          -55000,
          7834,
          23604,
          0,
          10000,
          148943,
          -11332,
          71560,
          10220,
          -18000,
          -10000,
          -800,
          39520,
          -4000,
          -14704,
          -14837,
          -30012,
          -10047,
          -5000,
          -1999,
          0,
          -32780,
          9741,
          5000,
          -1500,
          -16053,
          50000,
          11370,
          -40000,
          900,
          0,
          -960,
          5000,
          0,
          0,
          -60000,
          -2957,
          -1387,
          0,
          -852,
          -480,
          0,
          -51419,
          -5000,
          -163313,
          -4806,
          0,
          41710,
          16000,
          502,
          14881,
          -21272,
          4000,
          -60000,
          0,
          -5403,
          -1000,
          0,
          28000,
          87400,
          -233379,
          0,
          11200,
          -800,
          -16556,
          99069,
          -67152,
          -29395,
          -6000,
          -97986,
          40000,
          -73999,
          182456,
          -9000,
          -1256,
          0,
          0,
          0,
          0,
          0,
          0,
          -2803,
          0,
          -1680,
          134979,
          -20000,
          4000,
          -200,
          -4200,
          27028,
          0,
          1485,
          2000,
          -1600,
          -40000,
          145405,
          11731,
          -174200,
          40000,
          -97986,
          -200,
          -10563,
          -50000,
          -1000,
          40000,
          52000,
          -427391,
          30001,
          -20000,
          -40076,
          19444,
          -5385,
          -2000,
          0,
          -800,
          -800,
          -4000,
          283922,
          -5000,
          0,
          0,
          -451,
          168694,
          10000,
          40000,
          260650,
          954806,
          -3000,
          -8863,
          120,
          -653249,
          -80000,
          0,
          5582,
          -30000,
          -8000,
          -116858
         ],
         "yaxis": "y"
        }
       ],
       "layout": {
        "coloraxis": {
         "colorbar": {
          "title": {
           "text": "predict"
          }
         },
         "colorscale": [
          [
           0,
           "green"
          ],
          [
           0.5,
           "orange"
          ],
          [
           1,
           "purple"
          ]
         ]
        },
        "legend": {
         "tracegroupgap": 0
        },
        "margin": {
         "t": 60
        },
        "template": {
         "data": {
          "bar": [
           {
            "error_x": {
             "color": "#2a3f5f"
            },
            "error_y": {
             "color": "#2a3f5f"
            },
            "marker": {
             "line": {
              "color": "#E5ECF6",
              "width": 0.5
             },
             "pattern": {
              "fillmode": "overlay",
              "size": 10,
              "solidity": 0.2
             }
            },
            "type": "bar"
           }
          ],
          "barpolar": [
           {
            "marker": {
             "line": {
              "color": "#E5ECF6",
              "width": 0.5
             },
             "pattern": {
              "fillmode": "overlay",
              "size": 10,
              "solidity": 0.2
             }
            },
            "type": "barpolar"
           }
          ],
          "carpet": [
           {
            "aaxis": {
             "endlinecolor": "#2a3f5f",
             "gridcolor": "white",
             "linecolor": "white",
             "minorgridcolor": "white",
             "startlinecolor": "#2a3f5f"
            },
            "baxis": {
             "endlinecolor": "#2a3f5f",
             "gridcolor": "white",
             "linecolor": "white",
             "minorgridcolor": "white",
             "startlinecolor": "#2a3f5f"
            },
            "type": "carpet"
           }
          ],
          "choropleth": [
           {
            "colorbar": {
             "outlinewidth": 0,
             "ticks": ""
            },
            "type": "choropleth"
           }
          ],
          "contour": [
           {
            "colorbar": {
             "outlinewidth": 0,
             "ticks": ""
            },
            "colorscale": [
             [
              0,
              "#0d0887"
             ],
             [
              0.1111111111111111,
              "#46039f"
             ],
             [
              0.2222222222222222,
              "#7201a8"
             ],
             [
              0.3333333333333333,
              "#9c179e"
             ],
             [
              0.4444444444444444,
              "#bd3786"
             ],
             [
              0.5555555555555556,
              "#d8576b"
             ],
             [
              0.6666666666666666,
              "#ed7953"
             ],
             [
              0.7777777777777778,
              "#fb9f3a"
             ],
             [
              0.8888888888888888,
              "#fdca26"
             ],
             [
              1,
              "#f0f921"
             ]
            ],
            "type": "contour"
           }
          ],
          "contourcarpet": [
           {
            "colorbar": {
             "outlinewidth": 0,
             "ticks": ""
            },
            "type": "contourcarpet"
           }
          ],
          "heatmap": [
           {
            "colorbar": {
             "outlinewidth": 0,
             "ticks": ""
            },
            "colorscale": [
             [
              0,
              "#0d0887"
             ],
             [
              0.1111111111111111,
              "#46039f"
             ],
             [
              0.2222222222222222,
              "#7201a8"
             ],
             [
              0.3333333333333333,
              "#9c179e"
             ],
             [
              0.4444444444444444,
              "#bd3786"
             ],
             [
              0.5555555555555556,
              "#d8576b"
             ],
             [
              0.6666666666666666,
              "#ed7953"
             ],
             [
              0.7777777777777778,
              "#fb9f3a"
             ],
             [
              0.8888888888888888,
              "#fdca26"
             ],
             [
              1,
              "#f0f921"
             ]
            ],
            "type": "heatmap"
           }
          ],
          "heatmapgl": [
           {
            "colorbar": {
             "outlinewidth": 0,
             "ticks": ""
            },
            "colorscale": [
             [
              0,
              "#0d0887"
             ],
             [
              0.1111111111111111,
              "#46039f"
             ],
             [
              0.2222222222222222,
              "#7201a8"
             ],
             [
              0.3333333333333333,
              "#9c179e"
             ],
             [
              0.4444444444444444,
              "#bd3786"
             ],
             [
              0.5555555555555556,
              "#d8576b"
             ],
             [
              0.6666666666666666,
              "#ed7953"
             ],
             [
              0.7777777777777778,
              "#fb9f3a"
             ],
             [
              0.8888888888888888,
              "#fdca26"
             ],
             [
              1,
              "#f0f921"
             ]
            ],
            "type": "heatmapgl"
           }
          ],
          "histogram": [
           {
            "marker": {
             "pattern": {
              "fillmode": "overlay",
              "size": 10,
              "solidity": 0.2
             }
            },
            "type": "histogram"
           }
          ],
          "histogram2d": [
           {
            "colorbar": {
             "outlinewidth": 0,
             "ticks": ""
            },
            "colorscale": [
             [
              0,
              "#0d0887"
             ],
             [
              0.1111111111111111,
              "#46039f"
             ],
             [
              0.2222222222222222,
              "#7201a8"
             ],
             [
              0.3333333333333333,
              "#9c179e"
             ],
             [
              0.4444444444444444,
              "#bd3786"
             ],
             [
              0.5555555555555556,
              "#d8576b"
             ],
             [
              0.6666666666666666,
              "#ed7953"
             ],
             [
              0.7777777777777778,
              "#fb9f3a"
             ],
             [
              0.8888888888888888,
              "#fdca26"
             ],
             [
              1,
              "#f0f921"
             ]
            ],
            "type": "histogram2d"
           }
          ],
          "histogram2dcontour": [
           {
            "colorbar": {
             "outlinewidth": 0,
             "ticks": ""
            },
            "colorscale": [
             [
              0,
              "#0d0887"
             ],
             [
              0.1111111111111111,
              "#46039f"
             ],
             [
              0.2222222222222222,
              "#7201a8"
             ],
             [
              0.3333333333333333,
              "#9c179e"
             ],
             [
              0.4444444444444444,
              "#bd3786"
             ],
             [
              0.5555555555555556,
              "#d8576b"
             ],
             [
              0.6666666666666666,
              "#ed7953"
             ],
             [
              0.7777777777777778,
              "#fb9f3a"
             ],
             [
              0.8888888888888888,
              "#fdca26"
             ],
             [
              1,
              "#f0f921"
             ]
            ],
            "type": "histogram2dcontour"
           }
          ],
          "mesh3d": [
           {
            "colorbar": {
             "outlinewidth": 0,
             "ticks": ""
            },
            "type": "mesh3d"
           }
          ],
          "parcoords": [
           {
            "line": {
             "colorbar": {
              "outlinewidth": 0,
              "ticks": ""
             }
            },
            "type": "parcoords"
           }
          ],
          "pie": [
           {
            "automargin": true,
            "type": "pie"
           }
          ],
          "scatter": [
           {
            "fillpattern": {
             "fillmode": "overlay",
             "size": 10,
             "solidity": 0.2
            },
            "type": "scatter"
           }
          ],
          "scatter3d": [
           {
            "line": {
             "colorbar": {
              "outlinewidth": 0,
              "ticks": ""
             }
            },
            "marker": {
             "colorbar": {
              "outlinewidth": 0,
              "ticks": ""
             }
            },
            "type": "scatter3d"
           }
          ],
          "scattercarpet": [
           {
            "marker": {
             "colorbar": {
              "outlinewidth": 0,
              "ticks": ""
             }
            },
            "type": "scattercarpet"
           }
          ],
          "scattergeo": [
           {
            "marker": {
             "colorbar": {
              "outlinewidth": 0,
              "ticks": ""
             }
            },
            "type": "scattergeo"
           }
          ],
          "scattergl": [
           {
            "marker": {
             "colorbar": {
              "outlinewidth": 0,
              "ticks": ""
             }
            },
            "type": "scattergl"
           }
          ],
          "scattermapbox": [
           {
            "marker": {
             "colorbar": {
              "outlinewidth": 0,
              "ticks": ""
             }
            },
            "type": "scattermapbox"
           }
          ],
          "scatterpolar": [
           {
            "marker": {
             "colorbar": {
              "outlinewidth": 0,
              "ticks": ""
             }
            },
            "type": "scatterpolar"
           }
          ],
          "scatterpolargl": [
           {
            "marker": {
             "colorbar": {
              "outlinewidth": 0,
              "ticks": ""
             }
            },
            "type": "scatterpolargl"
           }
          ],
          "scatterternary": [
           {
            "marker": {
             "colorbar": {
              "outlinewidth": 0,
              "ticks": ""
             }
            },
            "type": "scatterternary"
           }
          ],
          "surface": [
           {
            "colorbar": {
             "outlinewidth": 0,
             "ticks": ""
            },
            "colorscale": [
             [
              0,
              "#0d0887"
             ],
             [
              0.1111111111111111,
              "#46039f"
             ],
             [
              0.2222222222222222,
              "#7201a8"
             ],
             [
              0.3333333333333333,
              "#9c179e"
             ],
             [
              0.4444444444444444,
              "#bd3786"
             ],
             [
              0.5555555555555556,
              "#d8576b"
             ],
             [
              0.6666666666666666,
              "#ed7953"
             ],
             [
              0.7777777777777778,
              "#fb9f3a"
             ],
             [
              0.8888888888888888,
              "#fdca26"
             ],
             [
              1,
              "#f0f921"
             ]
            ],
            "type": "surface"
           }
          ],
          "table": [
           {
            "cells": {
             "fill": {
              "color": "#EBF0F8"
             },
             "line": {
              "color": "white"
             }
            },
            "header": {
             "fill": {
              "color": "#C8D4E3"
             },
             "line": {
              "color": "white"
             }
            },
            "type": "table"
           }
          ]
         },
         "layout": {
          "annotationdefaults": {
           "arrowcolor": "#2a3f5f",
           "arrowhead": 0,
           "arrowwidth": 1
          },
          "autotypenumbers": "strict",
          "coloraxis": {
           "colorbar": {
            "outlinewidth": 0,
            "ticks": ""
           }
          },
          "colorscale": {
           "diverging": [
            [
             0,
             "#8e0152"
            ],
            [
             0.1,
             "#c51b7d"
            ],
            [
             0.2,
             "#de77ae"
            ],
            [
             0.3,
             "#f1b6da"
            ],
            [
             0.4,
             "#fde0ef"
            ],
            [
             0.5,
             "#f7f7f7"
            ],
            [
             0.6,
             "#e6f5d0"
            ],
            [
             0.7,
             "#b8e186"
            ],
            [
             0.8,
             "#7fbc41"
            ],
            [
             0.9,
             "#4d9221"
            ],
            [
             1,
             "#276419"
            ]
           ],
           "sequential": [
            [
             0,
             "#0d0887"
            ],
            [
             0.1111111111111111,
             "#46039f"
            ],
            [
             0.2222222222222222,
             "#7201a8"
            ],
            [
             0.3333333333333333,
             "#9c179e"
            ],
            [
             0.4444444444444444,
             "#bd3786"
            ],
            [
             0.5555555555555556,
             "#d8576b"
            ],
            [
             0.6666666666666666,
             "#ed7953"
            ],
            [
             0.7777777777777778,
             "#fb9f3a"
            ],
            [
             0.8888888888888888,
             "#fdca26"
            ],
            [
             1,
             "#f0f921"
            ]
           ],
           "sequentialminus": [
            [
             0,
             "#0d0887"
            ],
            [
             0.1111111111111111,
             "#46039f"
            ],
            [
             0.2222222222222222,
             "#7201a8"
            ],
            [
             0.3333333333333333,
             "#9c179e"
            ],
            [
             0.4444444444444444,
             "#bd3786"
            ],
            [
             0.5555555555555556,
             "#d8576b"
            ],
            [
             0.6666666666666666,
             "#ed7953"
            ],
            [
             0.7777777777777778,
             "#fb9f3a"
            ],
            [
             0.8888888888888888,
             "#fdca26"
            ],
            [
             1,
             "#f0f921"
            ]
           ]
          },
          "colorway": [
           "#636efa",
           "#EF553B",
           "#00cc96",
           "#ab63fa",
           "#FFA15A",
           "#19d3f3",
           "#FF6692",
           "#B6E880",
           "#FF97FF",
           "#FECB52"
          ],
          "font": {
           "color": "#2a3f5f"
          },
          "geo": {
           "bgcolor": "white",
           "lakecolor": "white",
           "landcolor": "#E5ECF6",
           "showlakes": true,
           "showland": true,
           "subunitcolor": "white"
          },
          "hoverlabel": {
           "align": "left"
          },
          "hovermode": "closest",
          "mapbox": {
           "style": "light"
          },
          "paper_bgcolor": "white",
          "plot_bgcolor": "#E5ECF6",
          "polar": {
           "angularaxis": {
            "gridcolor": "white",
            "linecolor": "white",
            "ticks": ""
           },
           "bgcolor": "#E5ECF6",
           "radialaxis": {
            "gridcolor": "white",
            "linecolor": "white",
            "ticks": ""
           }
          },
          "scene": {
           "xaxis": {
            "backgroundcolor": "#E5ECF6",
            "gridcolor": "white",
            "gridwidth": 2,
            "linecolor": "white",
            "showbackground": true,
            "ticks": "",
            "zerolinecolor": "white"
           },
           "yaxis": {
            "backgroundcolor": "#E5ECF6",
            "gridcolor": "white",
            "gridwidth": 2,
            "linecolor": "white",
            "showbackground": true,
            "ticks": "",
            "zerolinecolor": "white"
           },
           "zaxis": {
            "backgroundcolor": "#E5ECF6",
            "gridcolor": "white",
            "gridwidth": 2,
            "linecolor": "white",
            "showbackground": true,
            "ticks": "",
            "zerolinecolor": "white"
           }
          },
          "shapedefaults": {
           "line": {
            "color": "#2a3f5f"
           }
          },
          "ternary": {
           "aaxis": {
            "gridcolor": "white",
            "linecolor": "white",
            "ticks": ""
           },
           "baxis": {
            "gridcolor": "white",
            "linecolor": "white",
            "ticks": ""
           },
           "bgcolor": "#E5ECF6",
           "caxis": {
            "gridcolor": "white",
            "linecolor": "white",
            "ticks": ""
           }
          },
          "title": {
           "x": 0.05
          },
          "xaxis": {
           "automargin": true,
           "gridcolor": "white",
           "linecolor": "white",
           "ticks": "",
           "title": {
            "standoff": 15
           },
           "zerolinecolor": "white",
           "zerolinewidth": 2
          },
          "yaxis": {
           "automargin": true,
           "gridcolor": "white",
           "linecolor": "white",
           "ticks": "",
           "title": {
            "standoff": 15
           },
           "zerolinecolor": "white",
           "zerolinewidth": 2
          }
         }
        },
        "title": {
         "text": "Kiểm tra bài toán phân lớp bằng thuộc tính UrbanPop% và Migrants(net)",
         "x": 0.45,
         "xanchor": "center",
         "y": 0.95,
         "yanchor": "top"
        },
        "xaxis": {
         "anchor": "y",
         "domain": [
          0,
          1
         ],
         "title": {
          "text": "UrbanPop%"
         }
        },
        "yaxis": {
         "anchor": "x",
         "domain": [
          0,
          1
         ],
         "title": {
          "text": "Migrants(net)"
         }
        }
       }
      }
     },
     "metadata": {},
     "output_type": "display_data"
    }
   ],
   "source": [
    "fig=px.scatter(dict_, x=\"UrbanPop%\", y=\"Migrants(net)\",\n",
    "        color=\"predict\", hover_data=['Country'], color_continuous_scale=['green','orange', 'purple'])\n",
    "fig.update_layout(\n",
    "    title={\n",
    "        'text': \"Kiểm tra bài toán phân lớp bằng thuộc tính UrbanPop% và Migrants(net)\",\n",
    "        'y':0.95,\n",
    "        'x':0.45,\n",
    "        'xanchor': 'center',\n",
    "        'yanchor': 'top'})\n",
    "\n",
    "fig.show()"
   ]
  },
  {
   "attachments": {},
   "cell_type": "markdown",
   "metadata": {},
   "source": [
    "**Đánh giá**"
   ]
  },
  {
   "attachments": {},
   "cell_type": "markdown",
   "metadata": {},
   "source": [
    "**2)** 2 yếu tố có thể được coi là quan trọng nhất trong công cuộc kiểm soát dân số của một quốc gia đó chính là ***Tỉ lệ sinh*** và ***Tỉ lệ tử***. Một đất nước được cho là phát triển khi có thể áp dụng các chính sách kiểm soát được 2 tỉ lệ này một cách hiệu quả.\n",
    "\n",
    "Trong dữ liệu thu thập, chỉ có cột ***Tỉ lệ sinh (FertilityRate)***, vì thế ta có thể dùng cột ***Tỉ lệ thay đổi dân số (Yearly%Change)*** để tiến hành mô hình hoá dữ liệu. Trong đó chấm đỏ là các đất nước được xem là đáng sống."
   ]
  },
  {
   "cell_type": "code",
   "execution_count": 57,
   "metadata": {},
   "outputs": [
    {
     "data": {
      "application/vnd.plotly.v1+json": {
       "config": {
        "plotlyServerURL": "https://plot.ly"
       },
       "data": [
        {
         "customdata": [
          [
           "Afghanistan"
          ],
          [
           "Albania"
          ],
          [
           "Algeria"
          ],
          [
           "Angola"
          ],
          [
           "Antigua and Barbuda"
          ],
          [
           "Armenia"
          ],
          [
           "Aruba"
          ],
          [
           "Azerbaijan"
          ],
          [
           "Bahamas"
          ],
          [
           "Bahrain"
          ],
          [
           "Bangladesh"
          ],
          [
           "Barbados"
          ],
          [
           "Belarus"
          ],
          [
           "Belize"
          ],
          [
           "Benin"
          ],
          [
           "Bhutan"
          ],
          [
           "Bolivia"
          ],
          [
           "Bosnia and Herzegovina"
          ],
          [
           "Botswana"
          ],
          [
           "Brunei "
          ],
          [
           "Bulgaria"
          ],
          [
           "Burkina Faso"
          ],
          [
           "Burundi"
          ],
          [
           "Cabo Verde"
          ],
          [
           "Cambodia"
          ],
          [
           "Cameroon"
          ],
          [
           "Central African Republic"
          ],
          [
           "Chad"
          ],
          [
           "Channel Islands"
          ],
          [
           "Colombia"
          ],
          [
           "Comoros"
          ],
          [
           "Congo"
          ],
          [
           "Cuba"
          ],
          [
           "Curaçao"
          ],
          [
           "Cyprus"
          ],
          [
           "Czech Republic (Czechia)"
          ],
          [
           "Côte d'Ivoire"
          ],
          [
           "DR Congo"
          ],
          [
           "Djibouti"
          ],
          [
           "Dominican Republic"
          ],
          [
           "Ecuador"
          ],
          [
           "El Salvador"
          ],
          [
           "Equatorial Guinea"
          ],
          [
           "Eritrea"
          ],
          [
           "Estonia"
          ],
          [
           "Eswatini"
          ],
          [
           "Ethiopia"
          ],
          [
           "Fiji"
          ],
          [
           "French Guiana"
          ],
          [
           "French Polynesia"
          ],
          [
           "Gabon"
          ],
          [
           "Gambia"
          ],
          [
           "Georgia"
          ],
          [
           "Ghana"
          ],
          [
           "Grenada"
          ],
          [
           "Guadeloupe"
          ],
          [
           "Guam"
          ],
          [
           "Guatemala"
          ],
          [
           "Guinea"
          ],
          [
           "Guinea-Bissau"
          ],
          [
           "Guyana"
          ],
          [
           "Haiti"
          ],
          [
           "Honduras"
          ],
          [
           "Hong Kong"
          ],
          [
           "Iceland"
          ],
          [
           "Iran"
          ],
          [
           "Iraq"
          ],
          [
           "Jamaica"
          ],
          [
           "Jordan"
          ],
          [
           "Kazakhstan"
          ],
          [
           "Kenya"
          ],
          [
           "Kiribati"
          ],
          [
           "Kuwait"
          ],
          [
           "Kyrgyzstan"
          ],
          [
           "Laos"
          ],
          [
           "Latvia"
          ],
          [
           "Lebanon"
          ],
          [
           "Lesotho"
          ],
          [
           "Liberia"
          ],
          [
           "Libya"
          ],
          [
           "Lithuania"
          ],
          [
           "Macao"
          ],
          [
           "Madagascar"
          ],
          [
           "Malawi"
          ],
          [
           "Maldives"
          ],
          [
           "Mali"
          ],
          [
           "Malta"
          ],
          [
           "Martinique"
          ],
          [
           "Mauritania"
          ],
          [
           "Mauritius"
          ],
          [
           "Mayotte"
          ],
          [
           "Micronesia"
          ],
          [
           "Moldova"
          ],
          [
           "Mongolia"
          ],
          [
           "Montenegro"
          ],
          [
           "Mozambique"
          ],
          [
           "Myanmar"
          ],
          [
           "Namibia"
          ],
          [
           "Nepal"
          ],
          [
           "New Caledonia"
          ],
          [
           "Nicaragua"
          ],
          [
           "Niger"
          ],
          [
           "Nigeria"
          ],
          [
           "North Korea"
          ],
          [
           "North Macedonia"
          ],
          [
           "Oman"
          ],
          [
           "Pakistan"
          ],
          [
           "Panama"
          ],
          [
           "Papua New Guinea"
          ],
          [
           "Paraguay"
          ],
          [
           "Puerto Rico"
          ],
          [
           "Romania"
          ],
          [
           "Rwanda"
          ],
          [
           "Réunion"
          ],
          [
           "Saint Lucia"
          ],
          [
           "Samoa"
          ],
          [
           "Sao Tome & Principe"
          ],
          [
           "Senegal"
          ],
          [
           "Serbia"
          ],
          [
           "Seychelles"
          ],
          [
           "Sierra Leone"
          ],
          [
           "Slovakia"
          ],
          [
           "Slovenia"
          ],
          [
           "Solomon Islands"
          ],
          [
           "Somalia"
          ],
          [
           "South Sudan"
          ],
          [
           "Sri Lanka"
          ],
          [
           "St. Vincent & Grenadines"
          ],
          [
           "State of Palestine"
          ],
          [
           "Sudan"
          ],
          [
           "Suriname"
          ],
          [
           "Syria"
          ],
          [
           "Taiwan"
          ],
          [
           "Tajikistan"
          ],
          [
           "Tanzania"
          ],
          [
           "Timor-Leste"
          ],
          [
           "Togo"
          ],
          [
           "Tonga"
          ],
          [
           "Trinidad and Tobago"
          ],
          [
           "Tunisia"
          ],
          [
           "Turkmenistan"
          ],
          [
           "U.S. Virgin Islands"
          ],
          [
           "Uganda"
          ],
          [
           "Ukraine"
          ],
          [
           "Uruguay"
          ],
          [
           "Uzbekistan"
          ],
          [
           "Vanuatu"
          ],
          [
           "Venezuela"
          ],
          [
           "Western Sahara"
          ],
          [
           "Yemen"
          ],
          [
           "Zambia"
          ],
          [
           "Zimbabwe"
          ]
         ],
         "hovertemplate": "BestToLive=False<br>Yearly%Change=%{x}<br>FertilityRate=%{y}<br>Country=%{customdata[0]}<extra></extra>",
         "legendgroup": "False",
         "marker": {
          "color": "#636efa",
          "symbol": "circle"
         },
         "mode": "markers",
         "name": "False",
         "orientation": "v",
         "showlegend": true,
         "type": "scatter",
         "x": [
          2.33,
          -0.11,
          1.85,
          3.27,
          0.84,
          0.19,
          0.43,
          0.91,
          0.97,
          3.68,
          1.01,
          0.12,
          -0.03,
          1.86,
          2.73,
          1.12,
          1.39,
          -0.61,
          2.08,
          0.97,
          -0.74,
          2.86,
          3.12,
          1.1,
          1.41,
          2.59,
          1.78,
          3,
          0.93,
          1.08,
          2.2,
          2.56,
          -0.06,
          0.41,
          0.73,
          0.18,
          2.57,
          3.19,
          1.48,
          1.01,
          1.55,
          0.51,
          3.47,
          1.41,
          0.07,
          1.05,
          2.57,
          0.73,
          2.7,
          0.58,
          2.45,
          2.94,
          -0.19,
          2.15,
          0.46,
          0.02,
          0.89,
          1.9,
          2.83,
          2.45,
          0.48,
          1.24,
          1.63,
          0.82,
          0.65,
          1.3,
          2.32,
          0.44,
          1,
          1.21,
          2.28,
          1.57,
          1.51,
          1.69,
          1.48,
          -1.08,
          -0.44,
          0.8,
          2.44,
          1.38,
          -1.35,
          1.39,
          2.68,
          2.69,
          1.81,
          3.02,
          0.27,
          -0.08,
          2.74,
          0.17,
          2.5,
          1,
          -0.23,
          1.65,
          0.01,
          2.93,
          0.67,
          1.86,
          1.85,
          0.97,
          1.21,
          3.84,
          2.58,
          0.44,
          0,
          2.65,
          2,
          1.61,
          1.95,
          1.25,
          -2.47,
          -0.66,
          2.58,
          0.72,
          0.46,
          0.67,
          1.91,
          2.75,
          -0.4,
          0.62,
          2.1,
          0.05,
          0.01,
          2.55,
          2.92,
          1.19,
          0.42,
          0.32,
          2.41,
          2.42,
          0.9,
          2.52,
          0.18,
          2.32,
          2.98,
          1.96,
          2.43,
          1.15,
          0.32,
          1.06,
          1.5,
          -0.15,
          3.32,
          -0.59,
          0.35,
          1.48,
          2.42,
          -0.28,
          2.55,
          2.28,
          2.93,
          1.48
         ],
         "xaxis": "x",
         "y": [
          4.56,
          1.62,
          3.05,
          5.55,
          2,
          1.76,
          1.9,
          2.08,
          1.76,
          2,
          2.05,
          1.62,
          1.71,
          2.32,
          4.87,
          2,
          2.75,
          1.27,
          2.89,
          1.85,
          1.56,
          5.23,
          5.45,
          2.29,
          2.52,
          4.6,
          4.75,
          5.8,
          1.5,
          1.82,
          4.24,
          4.45,
          1.62,
          1.76,
          1.34,
          1.64,
          4.68,
          5.96,
          2.76,
          2.36,
          2.44,
          2.05,
          4.55,
          4.1,
          1.59,
          3.03,
          4.3,
          2.79,
          3.36,
          1.95,
          4,
          5.25,
          2.06,
          3.89,
          2.07,
          2.17,
          2.32,
          2.9,
          4.74,
          4.51,
          2.47,
          2.96,
          2.49,
          1.33,
          1.77,
          2.15,
          3.68,
          1.99,
          2.77,
          2.76,
          3.52,
          3.58,
          2.1,
          3,
          2.7,
          1.72,
          2.09,
          3.16,
          4.35,
          2.25,
          1.67,
          1.2,
          4.11,
          4.25,
          1.88,
          5.92,
          1.45,
          1.88,
          4.59,
          1.39,
          3.73,
          2.99,
          1.26,
          2.9,
          1.75,
          4.89,
          2.17,
          3.42,
          1.93,
          1.97,
          2.42,
          6.95,
          5.42,
          1.91,
          1.5,
          2.93,
          3.55,
          2.47,
          3.59,
          2.45,
          1.22,
          1.62,
          4.1,
          2.27,
          1.44,
          3.9,
          4.35,
          4.65,
          1.46,
          2.46,
          4.32,
          1.5,
          1.6,
          4.44,
          6.12,
          4.74,
          2.21,
          1.9,
          3.67,
          4.43,
          2.43,
          2.84,
          1.15,
          3.61,
          4.92,
          4.1,
          4.35,
          3.58,
          1.73,
          2.2,
          2.79,
          2.05,
          5.01,
          1.44,
          1.98,
          2.43,
          3.8,
          2.28,
          2.41,
          3.84,
          4.66,
          3.63
         ],
         "yaxis": "y"
        },
        {
         "customdata": [
          [
           "Argentina"
          ],
          [
           "Australia"
          ],
          [
           "Austria"
          ],
          [
           "Belgium"
          ],
          [
           "Brazil"
          ],
          [
           "Canada"
          ],
          [
           "Chile"
          ],
          [
           "China"
          ],
          [
           "Costa Rica"
          ],
          [
           "Croatia"
          ],
          [
           "Denmark"
          ],
          [
           "Egypt"
          ],
          [
           "Finland"
          ],
          [
           "France"
          ],
          [
           "Germany"
          ],
          [
           "Greece"
          ],
          [
           "Hungary"
          ],
          [
           "India"
          ],
          [
           "Indonesia"
          ],
          [
           "Ireland"
          ],
          [
           "Israel"
          ],
          [
           "Italy"
          ],
          [
           "Japan"
          ],
          [
           "Luxembourg"
          ],
          [
           "Malaysia"
          ],
          [
           "Mexico"
          ],
          [
           "Morocco"
          ],
          [
           "Netherlands"
          ],
          [
           "New Zealand"
          ],
          [
           "Norway"
          ],
          [
           "Peru"
          ],
          [
           "Philippines"
          ],
          [
           "Poland"
          ],
          [
           "Portugal"
          ],
          [
           "Qatar"
          ],
          [
           "Russia"
          ],
          [
           "Saudi Arabia"
          ],
          [
           "Singapore"
          ],
          [
           "South Africa"
          ],
          [
           "South Korea"
          ],
          [
           "Spain"
          ],
          [
           "Sweden"
          ],
          [
           "Switzerland"
          ],
          [
           "Thailand"
          ],
          [
           "Turkey"
          ],
          [
           "United Arab Emirates"
          ],
          [
           "United Kingdom"
          ],
          [
           "United States"
          ],
          [
           "Vietnam"
          ]
         ],
         "hovertemplate": "BestToLive=True<br>Yearly%Change=%{x}<br>FertilityRate=%{y}<br>Country=%{customdata[0]}<extra></extra>",
         "legendgroup": "True",
         "marker": {
          "color": "#EF553B",
          "symbol": "circle"
         },
         "mode": "markers",
         "name": "True",
         "orientation": "v",
         "showlegend": true,
         "type": "scatter",
         "x": [
          0.93,
          1.18,
          0.57,
          0.44,
          0.72,
          0.89,
          0.87,
          0.39,
          0.92,
          -0.61,
          0.35,
          1.94,
          0.15,
          0.22,
          0.32,
          -0.48,
          -0.25,
          0.99,
          1.07,
          1.13,
          1.6,
          -0.15,
          -0.3,
          1.66,
          1.3,
          1.06,
          1.2,
          0.22,
          0.82,
          0.79,
          1.42,
          1.35,
          -0.11,
          -0.29,
          1.73,
          0.04,
          1.59,
          0.79,
          1.28,
          0.09,
          0.04,
          0.63,
          0.74,
          0.25,
          1.09,
          1.23,
          0.53,
          0.59,
          0.91
         ],
         "xaxis": "x",
         "y": [
          2.27,
          1.83,
          1.53,
          1.71,
          1.74,
          1.53,
          1.65,
          1.69,
          1.76,
          1.45,
          1.76,
          3.33,
          1.53,
          1.85,
          1.59,
          1.3,
          1.49,
          2.24,
          2.32,
          1.84,
          3.04,
          1.33,
          1.37,
          1.45,
          2.01,
          2.14,
          2.42,
          1.66,
          1.9,
          1.68,
          2.27,
          2.58,
          1.42,
          1.29,
          1.88,
          1.82,
          2.34,
          1.21,
          2.41,
          1.11,
          1.33,
          1.85,
          1.54,
          1.53,
          2.08,
          1.42,
          1.75,
          1.78,
          2.06
         ],
         "yaxis": "y"
        }
       ],
       "layout": {
        "legend": {
         "title": {
          "text": "BestToLive"
         },
         "tracegroupgap": 0
        },
        "margin": {
         "t": 60
        },
        "template": {
         "data": {
          "bar": [
           {
            "error_x": {
             "color": "#2a3f5f"
            },
            "error_y": {
             "color": "#2a3f5f"
            },
            "marker": {
             "line": {
              "color": "#E5ECF6",
              "width": 0.5
             },
             "pattern": {
              "fillmode": "overlay",
              "size": 10,
              "solidity": 0.2
             }
            },
            "type": "bar"
           }
          ],
          "barpolar": [
           {
            "marker": {
             "line": {
              "color": "#E5ECF6",
              "width": 0.5
             },
             "pattern": {
              "fillmode": "overlay",
              "size": 10,
              "solidity": 0.2
             }
            },
            "type": "barpolar"
           }
          ],
          "carpet": [
           {
            "aaxis": {
             "endlinecolor": "#2a3f5f",
             "gridcolor": "white",
             "linecolor": "white",
             "minorgridcolor": "white",
             "startlinecolor": "#2a3f5f"
            },
            "baxis": {
             "endlinecolor": "#2a3f5f",
             "gridcolor": "white",
             "linecolor": "white",
             "minorgridcolor": "white",
             "startlinecolor": "#2a3f5f"
            },
            "type": "carpet"
           }
          ],
          "choropleth": [
           {
            "colorbar": {
             "outlinewidth": 0,
             "ticks": ""
            },
            "type": "choropleth"
           }
          ],
          "contour": [
           {
            "colorbar": {
             "outlinewidth": 0,
             "ticks": ""
            },
            "colorscale": [
             [
              0,
              "#0d0887"
             ],
             [
              0.1111111111111111,
              "#46039f"
             ],
             [
              0.2222222222222222,
              "#7201a8"
             ],
             [
              0.3333333333333333,
              "#9c179e"
             ],
             [
              0.4444444444444444,
              "#bd3786"
             ],
             [
              0.5555555555555556,
              "#d8576b"
             ],
             [
              0.6666666666666666,
              "#ed7953"
             ],
             [
              0.7777777777777778,
              "#fb9f3a"
             ],
             [
              0.8888888888888888,
              "#fdca26"
             ],
             [
              1,
              "#f0f921"
             ]
            ],
            "type": "contour"
           }
          ],
          "contourcarpet": [
           {
            "colorbar": {
             "outlinewidth": 0,
             "ticks": ""
            },
            "type": "contourcarpet"
           }
          ],
          "heatmap": [
           {
            "colorbar": {
             "outlinewidth": 0,
             "ticks": ""
            },
            "colorscale": [
             [
              0,
              "#0d0887"
             ],
             [
              0.1111111111111111,
              "#46039f"
             ],
             [
              0.2222222222222222,
              "#7201a8"
             ],
             [
              0.3333333333333333,
              "#9c179e"
             ],
             [
              0.4444444444444444,
              "#bd3786"
             ],
             [
              0.5555555555555556,
              "#d8576b"
             ],
             [
              0.6666666666666666,
              "#ed7953"
             ],
             [
              0.7777777777777778,
              "#fb9f3a"
             ],
             [
              0.8888888888888888,
              "#fdca26"
             ],
             [
              1,
              "#f0f921"
             ]
            ],
            "type": "heatmap"
           }
          ],
          "heatmapgl": [
           {
            "colorbar": {
             "outlinewidth": 0,
             "ticks": ""
            },
            "colorscale": [
             [
              0,
              "#0d0887"
             ],
             [
              0.1111111111111111,
              "#46039f"
             ],
             [
              0.2222222222222222,
              "#7201a8"
             ],
             [
              0.3333333333333333,
              "#9c179e"
             ],
             [
              0.4444444444444444,
              "#bd3786"
             ],
             [
              0.5555555555555556,
              "#d8576b"
             ],
             [
              0.6666666666666666,
              "#ed7953"
             ],
             [
              0.7777777777777778,
              "#fb9f3a"
             ],
             [
              0.8888888888888888,
              "#fdca26"
             ],
             [
              1,
              "#f0f921"
             ]
            ],
            "type": "heatmapgl"
           }
          ],
          "histogram": [
           {
            "marker": {
             "pattern": {
              "fillmode": "overlay",
              "size": 10,
              "solidity": 0.2
             }
            },
            "type": "histogram"
           }
          ],
          "histogram2d": [
           {
            "colorbar": {
             "outlinewidth": 0,
             "ticks": ""
            },
            "colorscale": [
             [
              0,
              "#0d0887"
             ],
             [
              0.1111111111111111,
              "#46039f"
             ],
             [
              0.2222222222222222,
              "#7201a8"
             ],
             [
              0.3333333333333333,
              "#9c179e"
             ],
             [
              0.4444444444444444,
              "#bd3786"
             ],
             [
              0.5555555555555556,
              "#d8576b"
             ],
             [
              0.6666666666666666,
              "#ed7953"
             ],
             [
              0.7777777777777778,
              "#fb9f3a"
             ],
             [
              0.8888888888888888,
              "#fdca26"
             ],
             [
              1,
              "#f0f921"
             ]
            ],
            "type": "histogram2d"
           }
          ],
          "histogram2dcontour": [
           {
            "colorbar": {
             "outlinewidth": 0,
             "ticks": ""
            },
            "colorscale": [
             [
              0,
              "#0d0887"
             ],
             [
              0.1111111111111111,
              "#46039f"
             ],
             [
              0.2222222222222222,
              "#7201a8"
             ],
             [
              0.3333333333333333,
              "#9c179e"
             ],
             [
              0.4444444444444444,
              "#bd3786"
             ],
             [
              0.5555555555555556,
              "#d8576b"
             ],
             [
              0.6666666666666666,
              "#ed7953"
             ],
             [
              0.7777777777777778,
              "#fb9f3a"
             ],
             [
              0.8888888888888888,
              "#fdca26"
             ],
             [
              1,
              "#f0f921"
             ]
            ],
            "type": "histogram2dcontour"
           }
          ],
          "mesh3d": [
           {
            "colorbar": {
             "outlinewidth": 0,
             "ticks": ""
            },
            "type": "mesh3d"
           }
          ],
          "parcoords": [
           {
            "line": {
             "colorbar": {
              "outlinewidth": 0,
              "ticks": ""
             }
            },
            "type": "parcoords"
           }
          ],
          "pie": [
           {
            "automargin": true,
            "type": "pie"
           }
          ],
          "scatter": [
           {
            "fillpattern": {
             "fillmode": "overlay",
             "size": 10,
             "solidity": 0.2
            },
            "type": "scatter"
           }
          ],
          "scatter3d": [
           {
            "line": {
             "colorbar": {
              "outlinewidth": 0,
              "ticks": ""
             }
            },
            "marker": {
             "colorbar": {
              "outlinewidth": 0,
              "ticks": ""
             }
            },
            "type": "scatter3d"
           }
          ],
          "scattercarpet": [
           {
            "marker": {
             "colorbar": {
              "outlinewidth": 0,
              "ticks": ""
             }
            },
            "type": "scattercarpet"
           }
          ],
          "scattergeo": [
           {
            "marker": {
             "colorbar": {
              "outlinewidth": 0,
              "ticks": ""
             }
            },
            "type": "scattergeo"
           }
          ],
          "scattergl": [
           {
            "marker": {
             "colorbar": {
              "outlinewidth": 0,
              "ticks": ""
             }
            },
            "type": "scattergl"
           }
          ],
          "scattermapbox": [
           {
            "marker": {
             "colorbar": {
              "outlinewidth": 0,
              "ticks": ""
             }
            },
            "type": "scattermapbox"
           }
          ],
          "scatterpolar": [
           {
            "marker": {
             "colorbar": {
              "outlinewidth": 0,
              "ticks": ""
             }
            },
            "type": "scatterpolar"
           }
          ],
          "scatterpolargl": [
           {
            "marker": {
             "colorbar": {
              "outlinewidth": 0,
              "ticks": ""
             }
            },
            "type": "scatterpolargl"
           }
          ],
          "scatterternary": [
           {
            "marker": {
             "colorbar": {
              "outlinewidth": 0,
              "ticks": ""
             }
            },
            "type": "scatterternary"
           }
          ],
          "surface": [
           {
            "colorbar": {
             "outlinewidth": 0,
             "ticks": ""
            },
            "colorscale": [
             [
              0,
              "#0d0887"
             ],
             [
              0.1111111111111111,
              "#46039f"
             ],
             [
              0.2222222222222222,
              "#7201a8"
             ],
             [
              0.3333333333333333,
              "#9c179e"
             ],
             [
              0.4444444444444444,
              "#bd3786"
             ],
             [
              0.5555555555555556,
              "#d8576b"
             ],
             [
              0.6666666666666666,
              "#ed7953"
             ],
             [
              0.7777777777777778,
              "#fb9f3a"
             ],
             [
              0.8888888888888888,
              "#fdca26"
             ],
             [
              1,
              "#f0f921"
             ]
            ],
            "type": "surface"
           }
          ],
          "table": [
           {
            "cells": {
             "fill": {
              "color": "#EBF0F8"
             },
             "line": {
              "color": "white"
             }
            },
            "header": {
             "fill": {
              "color": "#C8D4E3"
             },
             "line": {
              "color": "white"
             }
            },
            "type": "table"
           }
          ]
         },
         "layout": {
          "annotationdefaults": {
           "arrowcolor": "#2a3f5f",
           "arrowhead": 0,
           "arrowwidth": 1
          },
          "autotypenumbers": "strict",
          "coloraxis": {
           "colorbar": {
            "outlinewidth": 0,
            "ticks": ""
           }
          },
          "colorscale": {
           "diverging": [
            [
             0,
             "#8e0152"
            ],
            [
             0.1,
             "#c51b7d"
            ],
            [
             0.2,
             "#de77ae"
            ],
            [
             0.3,
             "#f1b6da"
            ],
            [
             0.4,
             "#fde0ef"
            ],
            [
             0.5,
             "#f7f7f7"
            ],
            [
             0.6,
             "#e6f5d0"
            ],
            [
             0.7,
             "#b8e186"
            ],
            [
             0.8,
             "#7fbc41"
            ],
            [
             0.9,
             "#4d9221"
            ],
            [
             1,
             "#276419"
            ]
           ],
           "sequential": [
            [
             0,
             "#0d0887"
            ],
            [
             0.1111111111111111,
             "#46039f"
            ],
            [
             0.2222222222222222,
             "#7201a8"
            ],
            [
             0.3333333333333333,
             "#9c179e"
            ],
            [
             0.4444444444444444,
             "#bd3786"
            ],
            [
             0.5555555555555556,
             "#d8576b"
            ],
            [
             0.6666666666666666,
             "#ed7953"
            ],
            [
             0.7777777777777778,
             "#fb9f3a"
            ],
            [
             0.8888888888888888,
             "#fdca26"
            ],
            [
             1,
             "#f0f921"
            ]
           ],
           "sequentialminus": [
            [
             0,
             "#0d0887"
            ],
            [
             0.1111111111111111,
             "#46039f"
            ],
            [
             0.2222222222222222,
             "#7201a8"
            ],
            [
             0.3333333333333333,
             "#9c179e"
            ],
            [
             0.4444444444444444,
             "#bd3786"
            ],
            [
             0.5555555555555556,
             "#d8576b"
            ],
            [
             0.6666666666666666,
             "#ed7953"
            ],
            [
             0.7777777777777778,
             "#fb9f3a"
            ],
            [
             0.8888888888888888,
             "#fdca26"
            ],
            [
             1,
             "#f0f921"
            ]
           ]
          },
          "colorway": [
           "#636efa",
           "#EF553B",
           "#00cc96",
           "#ab63fa",
           "#FFA15A",
           "#19d3f3",
           "#FF6692",
           "#B6E880",
           "#FF97FF",
           "#FECB52"
          ],
          "font": {
           "color": "#2a3f5f"
          },
          "geo": {
           "bgcolor": "white",
           "lakecolor": "white",
           "landcolor": "#E5ECF6",
           "showlakes": true,
           "showland": true,
           "subunitcolor": "white"
          },
          "hoverlabel": {
           "align": "left"
          },
          "hovermode": "closest",
          "mapbox": {
           "style": "light"
          },
          "paper_bgcolor": "white",
          "plot_bgcolor": "#E5ECF6",
          "polar": {
           "angularaxis": {
            "gridcolor": "white",
            "linecolor": "white",
            "ticks": ""
           },
           "bgcolor": "#E5ECF6",
           "radialaxis": {
            "gridcolor": "white",
            "linecolor": "white",
            "ticks": ""
           }
          },
          "scene": {
           "xaxis": {
            "backgroundcolor": "#E5ECF6",
            "gridcolor": "white",
            "gridwidth": 2,
            "linecolor": "white",
            "showbackground": true,
            "ticks": "",
            "zerolinecolor": "white"
           },
           "yaxis": {
            "backgroundcolor": "#E5ECF6",
            "gridcolor": "white",
            "gridwidth": 2,
            "linecolor": "white",
            "showbackground": true,
            "ticks": "",
            "zerolinecolor": "white"
           },
           "zaxis": {
            "backgroundcolor": "#E5ECF6",
            "gridcolor": "white",
            "gridwidth": 2,
            "linecolor": "white",
            "showbackground": true,
            "ticks": "",
            "zerolinecolor": "white"
           }
          },
          "shapedefaults": {
           "line": {
            "color": "#2a3f5f"
           }
          },
          "ternary": {
           "aaxis": {
            "gridcolor": "white",
            "linecolor": "white",
            "ticks": ""
           },
           "baxis": {
            "gridcolor": "white",
            "linecolor": "white",
            "ticks": ""
           },
           "bgcolor": "#E5ECF6",
           "caxis": {
            "gridcolor": "white",
            "linecolor": "white",
            "ticks": ""
           }
          },
          "title": {
           "x": 0.05
          },
          "xaxis": {
           "automargin": true,
           "gridcolor": "white",
           "linecolor": "white",
           "ticks": "",
           "title": {
            "standoff": 15
           },
           "zerolinecolor": "white",
           "zerolinewidth": 2
          },
          "yaxis": {
           "automargin": true,
           "gridcolor": "white",
           "linecolor": "white",
           "ticks": "",
           "title": {
            "standoff": 15
           },
           "zerolinecolor": "white",
           "zerolinewidth": 2
          }
         }
        },
        "title": {
         "text": "Trực quan giữa Yearly%Change và FertilityRate",
         "x": 0.45,
         "xanchor": "center",
         "y": 0.95,
         "yanchor": "top"
        },
        "xaxis": {
         "anchor": "y",
         "domain": [
          0,
          1
         ],
         "title": {
          "text": "Yearly%Change"
         }
        },
        "yaxis": {
         "anchor": "x",
         "domain": [
          0,
          1
         ],
         "title": {
          "text": "FertilityRate"
         }
        }
       }
      }
     },
     "metadata": {},
     "output_type": "display_data"
    }
   ],
   "source": [
    "fig=px.scatter(df_train[df_train['FertilityRate']>0], x=\"Yearly%Change\", y=\"FertilityRate\",\n",
    "        color=\"BestToLive\", hover_data=['Country'])\n",
    "fig.update_layout(\n",
    "    title={\n",
    "        'text': \"Trực quan giữa Yearly%Change và FertilityRate\",\n",
    "        'y':0.95,\n",
    "        'x':0.45,\n",
    "        'xanchor': 'center',\n",
    "        'yanchor': 'top'})\n",
    "\n",
    "fig.show()"
   ]
  },
  {
   "attachments": {},
   "cell_type": "markdown",
   "metadata": {},
   "source": [
    "Mô hình Hồi quy Logistic cho 2 thuộc tính Yearly%Change và FertilityRate."
   ]
  },
  {
   "cell_type": "code",
   "execution_count": 8,
   "metadata": {},
   "outputs": [
    {
     "name": "stdout",
     "output_type": "stream",
     "text": [
      "Binary cross entropy loss là :  8.763605932921974\n",
      "Độ chính xác của mô hình :  0.746268656716418\n"
     ]
    }
   ],
   "source": [
    "\n",
    "import random\n",
    "\n",
    "\n",
    "from sklearn.linear_model import LogisticRegression\n",
    "from sklearn.datasets import make_blobs\n",
    "\n",
    "X = [ [df_train[df_train['FertilityRate']>0].iloc[i]['Yearly%Change'], df_train[df_train['FertilityRate']>0].iloc[i]['FertilityRate']] \n",
    "                for i in range(df_train[df_train['FertilityRate']>0].shape[0]) ]\n",
    "y= list(df_train[df_train['FertilityRate']>0]['BestToLive'])\n",
    "\n",
    "model = LogisticRegression()\n",
    "model.fit(X, y)\n",
    "\n",
    "#Kiểm tra \n",
    "Xnew=X\n",
    "ynew = model.predict_proba(Xnew)\n",
    "\n",
    "country_list = [df_train[df_train['FertilityRate']>0].iloc[i]['Country'] for i in range(df_train[df_train['FertilityRate']>0].shape[0])]\n",
    "dict_={\n",
    "    'Country' : [j for j in country_list],\n",
    "    'Yearly%Change': [i[0] for i in Xnew],\n",
    "    'FertilityRate': [i[1] for i in Xnew],\n",
    "    'predict':[i[1] for i in ynew]\n",
    "}\n",
    "ynew = model.predict(Xnew)\n",
    "print('Binary cross entropy loss là : ',log_loss(y, ynew))\n",
    "print('Độ chính xác của mô hình : ',sum(ynew==y)/len(y))\n"
   ]
  },
  {
   "cell_type": "code",
   "execution_count": 9,
   "metadata": {},
   "outputs": [
    {
     "data": {
      "application/vnd.plotly.v1+json": {
       "config": {
        "plotlyServerURL": "https://plot.ly"
       },
       "data": [
        {
         "customdata": [
          [
           "Afghanistan"
          ],
          [
           "Albania"
          ],
          [
           "Algeria"
          ],
          [
           "Angola"
          ],
          [
           "Antigua and Barbuda"
          ],
          [
           "Argentina"
          ],
          [
           "Armenia"
          ],
          [
           "Aruba"
          ],
          [
           "Australia"
          ],
          [
           "Austria"
          ],
          [
           "Azerbaijan"
          ],
          [
           "Bahamas"
          ],
          [
           "Bahrain"
          ],
          [
           "Bangladesh"
          ],
          [
           "Barbados"
          ],
          [
           "Belarus"
          ],
          [
           "Belgium"
          ],
          [
           "Belize"
          ],
          [
           "Benin"
          ],
          [
           "Bhutan"
          ],
          [
           "Bolivia"
          ],
          [
           "Bosnia and Herzegovina"
          ],
          [
           "Botswana"
          ],
          [
           "Brazil"
          ],
          [
           "Brunei "
          ],
          [
           "Bulgaria"
          ],
          [
           "Burkina Faso"
          ],
          [
           "Burundi"
          ],
          [
           "Cabo Verde"
          ],
          [
           "Cambodia"
          ],
          [
           "Cameroon"
          ],
          [
           "Canada"
          ],
          [
           "Central African Republic"
          ],
          [
           "Chad"
          ],
          [
           "Channel Islands"
          ],
          [
           "Chile"
          ],
          [
           "China"
          ],
          [
           "Colombia"
          ],
          [
           "Comoros"
          ],
          [
           "Congo"
          ],
          [
           "Costa Rica"
          ],
          [
           "Croatia"
          ],
          [
           "Cuba"
          ],
          [
           "Curaçao"
          ],
          [
           "Cyprus"
          ],
          [
           "Czech Republic (Czechia)"
          ],
          [
           "Côte d'Ivoire"
          ],
          [
           "DR Congo"
          ],
          [
           "Denmark"
          ],
          [
           "Djibouti"
          ],
          [
           "Dominican Republic"
          ],
          [
           "Ecuador"
          ],
          [
           "Egypt"
          ],
          [
           "El Salvador"
          ],
          [
           "Equatorial Guinea"
          ],
          [
           "Eritrea"
          ],
          [
           "Estonia"
          ],
          [
           "Eswatini"
          ],
          [
           "Ethiopia"
          ],
          [
           "Fiji"
          ],
          [
           "Finland"
          ],
          [
           "France"
          ],
          [
           "French Guiana"
          ],
          [
           "French Polynesia"
          ],
          [
           "Gabon"
          ],
          [
           "Gambia"
          ],
          [
           "Georgia"
          ],
          [
           "Germany"
          ],
          [
           "Ghana"
          ],
          [
           "Greece"
          ],
          [
           "Grenada"
          ],
          [
           "Guadeloupe"
          ],
          [
           "Guam"
          ],
          [
           "Guatemala"
          ],
          [
           "Guinea"
          ],
          [
           "Guinea-Bissau"
          ],
          [
           "Guyana"
          ],
          [
           "Haiti"
          ],
          [
           "Honduras"
          ],
          [
           "Hong Kong"
          ],
          [
           "Hungary"
          ],
          [
           "Iceland"
          ],
          [
           "India"
          ],
          [
           "Indonesia"
          ],
          [
           "Iran"
          ],
          [
           "Iraq"
          ],
          [
           "Ireland"
          ],
          [
           "Israel"
          ],
          [
           "Italy"
          ],
          [
           "Jamaica"
          ],
          [
           "Japan"
          ],
          [
           "Jordan"
          ],
          [
           "Kazakhstan"
          ],
          [
           "Kenya"
          ],
          [
           "Kiribati"
          ],
          [
           "Kuwait"
          ],
          [
           "Kyrgyzstan"
          ],
          [
           "Laos"
          ],
          [
           "Latvia"
          ],
          [
           "Lebanon"
          ],
          [
           "Lesotho"
          ],
          [
           "Liberia"
          ],
          [
           "Libya"
          ],
          [
           "Lithuania"
          ],
          [
           "Luxembourg"
          ],
          [
           "Macao"
          ],
          [
           "Madagascar"
          ],
          [
           "Malawi"
          ],
          [
           "Malaysia"
          ],
          [
           "Maldives"
          ],
          [
           "Mali"
          ],
          [
           "Malta"
          ],
          [
           "Martinique"
          ],
          [
           "Mauritania"
          ],
          [
           "Mauritius"
          ],
          [
           "Mayotte"
          ],
          [
           "Mexico"
          ],
          [
           "Micronesia"
          ],
          [
           "Moldova"
          ],
          [
           "Mongolia"
          ],
          [
           "Montenegro"
          ],
          [
           "Morocco"
          ],
          [
           "Mozambique"
          ],
          [
           "Myanmar"
          ],
          [
           "Namibia"
          ],
          [
           "Nepal"
          ],
          [
           "Netherlands"
          ],
          [
           "New Caledonia"
          ],
          [
           "New Zealand"
          ],
          [
           "Nicaragua"
          ],
          [
           "Niger"
          ],
          [
           "Nigeria"
          ],
          [
           "North Korea"
          ],
          [
           "North Macedonia"
          ],
          [
           "Norway"
          ],
          [
           "Oman"
          ],
          [
           "Pakistan"
          ],
          [
           "Panama"
          ],
          [
           "Papua New Guinea"
          ],
          [
           "Paraguay"
          ],
          [
           "Peru"
          ],
          [
           "Philippines"
          ],
          [
           "Poland"
          ],
          [
           "Portugal"
          ],
          [
           "Puerto Rico"
          ],
          [
           "Qatar"
          ],
          [
           "Romania"
          ],
          [
           "Russia"
          ],
          [
           "Rwanda"
          ],
          [
           "Réunion"
          ],
          [
           "Saint Lucia"
          ],
          [
           "Samoa"
          ],
          [
           "Sao Tome & Principe"
          ],
          [
           "Saudi Arabia"
          ],
          [
           "Senegal"
          ],
          [
           "Serbia"
          ],
          [
           "Seychelles"
          ],
          [
           "Sierra Leone"
          ],
          [
           "Singapore"
          ],
          [
           "Slovakia"
          ],
          [
           "Slovenia"
          ],
          [
           "Solomon Islands"
          ],
          [
           "Somalia"
          ],
          [
           "South Africa"
          ],
          [
           "South Korea"
          ],
          [
           "South Sudan"
          ],
          [
           "Spain"
          ],
          [
           "Sri Lanka"
          ],
          [
           "St. Vincent & Grenadines"
          ],
          [
           "State of Palestine"
          ],
          [
           "Sudan"
          ],
          [
           "Suriname"
          ],
          [
           "Sweden"
          ],
          [
           "Switzerland"
          ],
          [
           "Syria"
          ],
          [
           "Taiwan"
          ],
          [
           "Tajikistan"
          ],
          [
           "Tanzania"
          ],
          [
           "Thailand"
          ],
          [
           "Timor-Leste"
          ],
          [
           "Togo"
          ],
          [
           "Tonga"
          ],
          [
           "Trinidad and Tobago"
          ],
          [
           "Tunisia"
          ],
          [
           "Turkey"
          ],
          [
           "Turkmenistan"
          ],
          [
           "U.S. Virgin Islands"
          ],
          [
           "Uganda"
          ],
          [
           "Ukraine"
          ],
          [
           "United Arab Emirates"
          ],
          [
           "United Kingdom"
          ],
          [
           "United States"
          ],
          [
           "Uruguay"
          ],
          [
           "Uzbekistan"
          ],
          [
           "Vanuatu"
          ],
          [
           "Venezuela"
          ],
          [
           "Vietnam"
          ],
          [
           "Western Sahara"
          ],
          [
           "Yemen"
          ],
          [
           "Zambia"
          ],
          [
           "Zimbabwe"
          ]
         ],
         "hovertemplate": "Yearly%Change=%{x}<br>FertilityRate=%{y}<br>Country=%{customdata[0]}<br>predict=%{marker.color}<extra></extra>",
         "legendgroup": "",
         "marker": {
          "color": [
           0.010425641358334715,
           0.3755339943019765,
           0.10629927145316932,
           0.0028378971500504398,
           0.32152179573893835,
           0.23535294480192223,
           0.35006896186456626,
           0.3195537467712774,
           0.4262315274011778,
           0.48840326503893905,
           0.2983381673992874,
           0.43314076702524795,
           0.6286513519566035,
           0.31908934176761106,
           0.4000072717561705,
           0.3475152931946012,
           0.3966915232069424,
           0.29968894127610324,
           0.007278836780857,
           0.3494953828062787,
           0.14051527389159352,
           0.46978736156774026,
           0.1485067541778413,
           0.41431079273552157,
           0.39499949942660995,
           0.3348959249596941,
           0.00412570691369458,
           0.0031590378847323668,
           0.24285892995551484,
           0.19780493650294576,
           0.010918117212883214,
           0.5242475711688775,
           0.00587210964563954,
           0.0016262829217424874,
           0.5417603192484738,
           0.4696302634265172,
           0.3996962782455178,
           0.41955567606085453,
           0.017090214413883583,
           0.013958054174990228,
           0.42764546343300314,
           0.3927920295876655,
           0.3808051902435591,
           0.37282740459966573,
           0.5884123755155152,
           0.39807545293024105,
           0.0094229532893595,
           0.0013392724113360926,
           0.36655949251054265,
           0.14330022198885864,
           0.21420554372537012,
           0.2319226064908403,
           0.07055920348134222,
           0.27247155838051074,
           0.017559460238991964,
           0.015345042774547355,
           0.4072323695021775,
           0.07923315927754107,
           0.018145899822084643,
           0.10185180973125484,
           0.44159564370075394,
           0.3180857072092269,
           0.09196777123600448,
           0.31519067568866227,
           0.028735253231551208,
           0.004129450103144182,
           0.21191533592251607,
           0.43454306841672347,
           0.03039182562976529,
           0.47124455714947305,
           0.26124850037497216,
           0.19599390287303486,
           0.21692993283582956,
           0.13651574340002742,
           0.009532775653200315,
           0.011987611244828542,
           0.15063632370294464,
           0.09575653072946039,
           0.2228718488003625,
           0.6023417670232752,
           0.41481236584494197,
           0.3941293606787774,
           0.24992790527237538,
           0.23095074276339114,
           0.3094436072541275,
           0.04655359188133275,
           0.41650521051966594,
           0.09764103340119722,
           0.49509111863080346,
           0.28727888497099546,
           0.4608817577604116,
           0.11703468457650523,
           0.12907171542437706,
           0.05964913332701298,
           0.03988918663253497,
           0.34951129305904394,
           0.10779579354130846,
           0.15666146113561974,
           0.24634715967033338,
           0.1857402363593517,
           0.05775270728914453,
           0.01572480111130621,
           0.2805711479910134,
           0.2401515356298417,
           0.6415482343597687,
           0.7105340791580883,
           0.026349255592909928,
           0.020840160339439924,
           0.36400149411528293,
           0.4744746972566259,
           0.0013308668083407752,
           0.4897335851441611,
           0.27898324921642936,
           0.011872012140566027,
           0.5047401480537114,
           0.04625755622525272,
           0.29052396733549446,
           0.08276805013675245,
           0.5167038281155834,
           0.12383383167689938,
           0.3358249066677157,
           0.21091094430632548,
           0.007685001742248875,
           0.24598962776756195,
           0.05889530796923702,
           0.457193965835488,
           0.39400393125607697,
           0.34613466277290283,
           0.3587072586525618,
           0.21165803544618458,
           0.0003179990355853594,
           0.0026147121266586223,
           0.3167349443140813,
           0.4379455353233318,
           0.447710320308758,
           0.1735419819883646,
           0.05041508085115346,
           0.22740544165383544,
           0.04617419024896367,
           0.20595875054210014,
           0.27714809291710596,
           0.17772552879394715,
           0.4603335323489722,
           0.49687727446620883,
           0.29577850826776936,
           0.46554084605750173,
           0.31970612314132013,
           0.3119865890677305,
           0.025656498531642025,
           0.218833899334072,
           0.5153917200870327,
           0.01561621485346702,
           0.012440557433271738,
           0.2680026316892618,
           0.01075033617788483,
           0.41122060946976063,
           0.1611931552563601,
           0.014249770088339433,
           0.6482854690830164,
           0.4434706433986444,
           0.3965658120973436,
           0.014138030685518015,
           0.0008975240326104793,
           0.2199255317305149,
           0.6159665008419878,
           0.004592708817082882,
           0.5163801911170718,
           0.2138108319683389,
           0.3089274586225257,
           0.04918863621875078,
           0.013580431535062774,
           0.18672749471262987,
           0.35921501459539046,
           0.5030853021885184,
           0.1882052619936049,
           0.6089502572786976,
           0.052295258532218614,
           0.007459449225093859,
           0.45267782477858326,
           0.019552153211114687,
           0.01565556302471808,
           0.033270844517164756,
           0.37565718880599847,
           0.26939288342724554,
           0.3155006966776763,
           0.13804641134506765,
           0.21788939726493917,
           0.007423490003124545,
           0.3991165960768973,
           0.6086749434970298,
           0.3896388237043835,
           0.3835839178473824,
           0.2826188870360402,
           0.2294549113090906,
           0.039757932831737036,
           0.1495328131818021,
           0.3057065308001219,
           0.33253611229386526,
           0.0349908804211591,
           0.01144388468311783,
           0.035274645494184693
          ],
          "coloraxis": "coloraxis",
          "symbol": "circle"
         },
         "mode": "markers",
         "name": "",
         "orientation": "v",
         "showlegend": false,
         "type": "scatter",
         "x": [
          2.33,
          -0.11,
          1.85,
          3.27,
          0.84,
          0.93,
          0.19,
          0.43,
          1.18,
          0.57,
          0.91,
          0.97,
          3.68,
          1.01,
          0.12,
          -0.03,
          0.44,
          1.86,
          2.73,
          1.12,
          1.39,
          -0.61,
          2.08,
          0.72,
          0.97,
          -0.74,
          2.86,
          3.12,
          1.1,
          1.41,
          2.59,
          0.89,
          1.78,
          3,
          0.93,
          0.87,
          0.39,
          1.08,
          2.2,
          2.56,
          0.92,
          -0.61,
          -0.06,
          0.41,
          0.73,
          0.18,
          2.57,
          3.19,
          0.35,
          1.48,
          1.01,
          1.55,
          1.94,
          0.51,
          3.47,
          1.41,
          0.07,
          1.05,
          2.57,
          0.73,
          0.15,
          0.22,
          2.7,
          0.58,
          2.45,
          2.94,
          -0.19,
          0.32,
          2.15,
          -0.48,
          0.46,
          0.02,
          0.89,
          1.9,
          2.83,
          2.45,
          0.48,
          1.24,
          1.63,
          0.82,
          -0.25,
          0.65,
          0.99,
          1.07,
          1.3,
          2.32,
          1.13,
          1.6,
          -0.15,
          0.44,
          -0.3,
          1,
          1.21,
          2.28,
          1.57,
          1.51,
          1.69,
          1.48,
          -1.08,
          -0.44,
          0.8,
          2.44,
          1.38,
          -1.35,
          1.66,
          1.39,
          2.68,
          2.69,
          1.3,
          1.81,
          3.02,
          0.27,
          -0.08,
          2.74,
          0.17,
          2.5,
          1.06,
          1,
          -0.23,
          1.65,
          0.01,
          1.2,
          2.93,
          0.67,
          1.86,
          1.85,
          0.22,
          0.97,
          0.82,
          1.21,
          3.84,
          2.58,
          0.44,
          0,
          0.79,
          2.65,
          2,
          1.61,
          1.95,
          1.25,
          1.42,
          1.35,
          -0.11,
          -0.29,
          -2.47,
          1.73,
          -0.66,
          0.04,
          2.58,
          0.72,
          0.46,
          0.67,
          1.91,
          1.59,
          2.75,
          -0.4,
          0.62,
          2.1,
          0.79,
          0.05,
          0.01,
          2.55,
          2.92,
          1.28,
          0.09,
          1.19,
          0.04,
          0.42,
          0.32,
          2.41,
          2.42,
          0.9,
          0.63,
          0.74,
          2.52,
          0.18,
          2.32,
          2.98,
          0.25,
          1.96,
          2.43,
          1.15,
          0.32,
          1.06,
          1.09,
          1.5,
          -0.15,
          3.32,
          -0.59,
          1.23,
          0.53,
          0.59,
          0.35,
          1.48,
          2.42,
          -0.28,
          0.91,
          2.55,
          2.28,
          2.93,
          1.48
         ],
         "xaxis": "x",
         "y": [
          4.56,
          1.62,
          3.05,
          5.55,
          2,
          2.27,
          1.76,
          1.9,
          1.83,
          1.53,
          2.08,
          1.76,
          2,
          2.05,
          1.62,
          1.71,
          1.71,
          2.32,
          4.87,
          2,
          2.75,
          1.27,
          2.89,
          1.74,
          1.85,
          1.56,
          5.23,
          5.45,
          2.29,
          2.52,
          4.6,
          1.53,
          4.75,
          5.8,
          1.5,
          1.65,
          1.69,
          1.82,
          4.24,
          4.45,
          1.76,
          1.45,
          1.62,
          1.76,
          1.34,
          1.64,
          4.68,
          5.96,
          1.76,
          2.76,
          2.36,
          2.44,
          3.33,
          2.05,
          4.55,
          4.1,
          1.59,
          3.03,
          4.3,
          2.79,
          1.53,
          1.85,
          3.36,
          1.95,
          4,
          5.25,
          2.06,
          1.59,
          3.89,
          1.3,
          2.07,
          2.17,
          2.32,
          2.9,
          4.74,
          4.51,
          2.47,
          2.96,
          2.49,
          1.33,
          1.49,
          1.77,
          2.24,
          2.32,
          2.15,
          3.68,
          1.84,
          3.04,
          1.33,
          1.99,
          1.37,
          2.77,
          2.76,
          3.52,
          3.58,
          2.1,
          3,
          2.7,
          1.72,
          2.09,
          3.16,
          4.35,
          2.25,
          1.67,
          1.45,
          1.2,
          4.11,
          4.25,
          2.01,
          1.88,
          5.92,
          1.45,
          1.88,
          4.59,
          1.39,
          3.73,
          2.14,
          2.99,
          1.26,
          2.9,
          1.75,
          2.42,
          4.89,
          2.17,
          3.42,
          1.93,
          1.66,
          1.97,
          1.9,
          2.42,
          6.95,
          5.42,
          1.91,
          1.5,
          1.68,
          2.93,
          3.55,
          2.47,
          3.59,
          2.45,
          2.27,
          2.58,
          1.42,
          1.29,
          1.22,
          1.88,
          1.62,
          1.82,
          4.1,
          2.27,
          1.44,
          3.9,
          4.35,
          2.34,
          4.65,
          1.46,
          2.46,
          4.32,
          1.21,
          1.5,
          1.6,
          4.44,
          6.12,
          2.41,
          1.11,
          4.74,
          1.33,
          2.21,
          1.9,
          3.67,
          4.43,
          2.43,
          1.85,
          1.54,
          2.84,
          1.15,
          3.61,
          4.92,
          1.53,
          4.1,
          4.35,
          3.58,
          1.73,
          2.2,
          2.08,
          2.79,
          2.05,
          5.01,
          1.44,
          1.42,
          1.75,
          1.78,
          1.98,
          2.43,
          3.8,
          2.28,
          2.06,
          2.41,
          3.84,
          4.66,
          3.63
         ],
         "yaxis": "y"
        }
       ],
       "layout": {
        "coloraxis": {
         "colorbar": {
          "title": {
           "text": "predict"
          }
         },
         "colorscale": [
          [
           0,
           "green"
          ],
          [
           0.5,
           "orange"
          ],
          [
           1,
           "purple"
          ]
         ]
        },
        "legend": {
         "tracegroupgap": 0
        },
        "margin": {
         "t": 60
        },
        "template": {
         "data": {
          "bar": [
           {
            "error_x": {
             "color": "#2a3f5f"
            },
            "error_y": {
             "color": "#2a3f5f"
            },
            "marker": {
             "line": {
              "color": "#E5ECF6",
              "width": 0.5
             },
             "pattern": {
              "fillmode": "overlay",
              "size": 10,
              "solidity": 0.2
             }
            },
            "type": "bar"
           }
          ],
          "barpolar": [
           {
            "marker": {
             "line": {
              "color": "#E5ECF6",
              "width": 0.5
             },
             "pattern": {
              "fillmode": "overlay",
              "size": 10,
              "solidity": 0.2
             }
            },
            "type": "barpolar"
           }
          ],
          "carpet": [
           {
            "aaxis": {
             "endlinecolor": "#2a3f5f",
             "gridcolor": "white",
             "linecolor": "white",
             "minorgridcolor": "white",
             "startlinecolor": "#2a3f5f"
            },
            "baxis": {
             "endlinecolor": "#2a3f5f",
             "gridcolor": "white",
             "linecolor": "white",
             "minorgridcolor": "white",
             "startlinecolor": "#2a3f5f"
            },
            "type": "carpet"
           }
          ],
          "choropleth": [
           {
            "colorbar": {
             "outlinewidth": 0,
             "ticks": ""
            },
            "type": "choropleth"
           }
          ],
          "contour": [
           {
            "colorbar": {
             "outlinewidth": 0,
             "ticks": ""
            },
            "colorscale": [
             [
              0,
              "#0d0887"
             ],
             [
              0.1111111111111111,
              "#46039f"
             ],
             [
              0.2222222222222222,
              "#7201a8"
             ],
             [
              0.3333333333333333,
              "#9c179e"
             ],
             [
              0.4444444444444444,
              "#bd3786"
             ],
             [
              0.5555555555555556,
              "#d8576b"
             ],
             [
              0.6666666666666666,
              "#ed7953"
             ],
             [
              0.7777777777777778,
              "#fb9f3a"
             ],
             [
              0.8888888888888888,
              "#fdca26"
             ],
             [
              1,
              "#f0f921"
             ]
            ],
            "type": "contour"
           }
          ],
          "contourcarpet": [
           {
            "colorbar": {
             "outlinewidth": 0,
             "ticks": ""
            },
            "type": "contourcarpet"
           }
          ],
          "heatmap": [
           {
            "colorbar": {
             "outlinewidth": 0,
             "ticks": ""
            },
            "colorscale": [
             [
              0,
              "#0d0887"
             ],
             [
              0.1111111111111111,
              "#46039f"
             ],
             [
              0.2222222222222222,
              "#7201a8"
             ],
             [
              0.3333333333333333,
              "#9c179e"
             ],
             [
              0.4444444444444444,
              "#bd3786"
             ],
             [
              0.5555555555555556,
              "#d8576b"
             ],
             [
              0.6666666666666666,
              "#ed7953"
             ],
             [
              0.7777777777777778,
              "#fb9f3a"
             ],
             [
              0.8888888888888888,
              "#fdca26"
             ],
             [
              1,
              "#f0f921"
             ]
            ],
            "type": "heatmap"
           }
          ],
          "heatmapgl": [
           {
            "colorbar": {
             "outlinewidth": 0,
             "ticks": ""
            },
            "colorscale": [
             [
              0,
              "#0d0887"
             ],
             [
              0.1111111111111111,
              "#46039f"
             ],
             [
              0.2222222222222222,
              "#7201a8"
             ],
             [
              0.3333333333333333,
              "#9c179e"
             ],
             [
              0.4444444444444444,
              "#bd3786"
             ],
             [
              0.5555555555555556,
              "#d8576b"
             ],
             [
              0.6666666666666666,
              "#ed7953"
             ],
             [
              0.7777777777777778,
              "#fb9f3a"
             ],
             [
              0.8888888888888888,
              "#fdca26"
             ],
             [
              1,
              "#f0f921"
             ]
            ],
            "type": "heatmapgl"
           }
          ],
          "histogram": [
           {
            "marker": {
             "pattern": {
              "fillmode": "overlay",
              "size": 10,
              "solidity": 0.2
             }
            },
            "type": "histogram"
           }
          ],
          "histogram2d": [
           {
            "colorbar": {
             "outlinewidth": 0,
             "ticks": ""
            },
            "colorscale": [
             [
              0,
              "#0d0887"
             ],
             [
              0.1111111111111111,
              "#46039f"
             ],
             [
              0.2222222222222222,
              "#7201a8"
             ],
             [
              0.3333333333333333,
              "#9c179e"
             ],
             [
              0.4444444444444444,
              "#bd3786"
             ],
             [
              0.5555555555555556,
              "#d8576b"
             ],
             [
              0.6666666666666666,
              "#ed7953"
             ],
             [
              0.7777777777777778,
              "#fb9f3a"
             ],
             [
              0.8888888888888888,
              "#fdca26"
             ],
             [
              1,
              "#f0f921"
             ]
            ],
            "type": "histogram2d"
           }
          ],
          "histogram2dcontour": [
           {
            "colorbar": {
             "outlinewidth": 0,
             "ticks": ""
            },
            "colorscale": [
             [
              0,
              "#0d0887"
             ],
             [
              0.1111111111111111,
              "#46039f"
             ],
             [
              0.2222222222222222,
              "#7201a8"
             ],
             [
              0.3333333333333333,
              "#9c179e"
             ],
             [
              0.4444444444444444,
              "#bd3786"
             ],
             [
              0.5555555555555556,
              "#d8576b"
             ],
             [
              0.6666666666666666,
              "#ed7953"
             ],
             [
              0.7777777777777778,
              "#fb9f3a"
             ],
             [
              0.8888888888888888,
              "#fdca26"
             ],
             [
              1,
              "#f0f921"
             ]
            ],
            "type": "histogram2dcontour"
           }
          ],
          "mesh3d": [
           {
            "colorbar": {
             "outlinewidth": 0,
             "ticks": ""
            },
            "type": "mesh3d"
           }
          ],
          "parcoords": [
           {
            "line": {
             "colorbar": {
              "outlinewidth": 0,
              "ticks": ""
             }
            },
            "type": "parcoords"
           }
          ],
          "pie": [
           {
            "automargin": true,
            "type": "pie"
           }
          ],
          "scatter": [
           {
            "fillpattern": {
             "fillmode": "overlay",
             "size": 10,
             "solidity": 0.2
            },
            "type": "scatter"
           }
          ],
          "scatter3d": [
           {
            "line": {
             "colorbar": {
              "outlinewidth": 0,
              "ticks": ""
             }
            },
            "marker": {
             "colorbar": {
              "outlinewidth": 0,
              "ticks": ""
             }
            },
            "type": "scatter3d"
           }
          ],
          "scattercarpet": [
           {
            "marker": {
             "colorbar": {
              "outlinewidth": 0,
              "ticks": ""
             }
            },
            "type": "scattercarpet"
           }
          ],
          "scattergeo": [
           {
            "marker": {
             "colorbar": {
              "outlinewidth": 0,
              "ticks": ""
             }
            },
            "type": "scattergeo"
           }
          ],
          "scattergl": [
           {
            "marker": {
             "colorbar": {
              "outlinewidth": 0,
              "ticks": ""
             }
            },
            "type": "scattergl"
           }
          ],
          "scattermapbox": [
           {
            "marker": {
             "colorbar": {
              "outlinewidth": 0,
              "ticks": ""
             }
            },
            "type": "scattermapbox"
           }
          ],
          "scatterpolar": [
           {
            "marker": {
             "colorbar": {
              "outlinewidth": 0,
              "ticks": ""
             }
            },
            "type": "scatterpolar"
           }
          ],
          "scatterpolargl": [
           {
            "marker": {
             "colorbar": {
              "outlinewidth": 0,
              "ticks": ""
             }
            },
            "type": "scatterpolargl"
           }
          ],
          "scatterternary": [
           {
            "marker": {
             "colorbar": {
              "outlinewidth": 0,
              "ticks": ""
             }
            },
            "type": "scatterternary"
           }
          ],
          "surface": [
           {
            "colorbar": {
             "outlinewidth": 0,
             "ticks": ""
            },
            "colorscale": [
             [
              0,
              "#0d0887"
             ],
             [
              0.1111111111111111,
              "#46039f"
             ],
             [
              0.2222222222222222,
              "#7201a8"
             ],
             [
              0.3333333333333333,
              "#9c179e"
             ],
             [
              0.4444444444444444,
              "#bd3786"
             ],
             [
              0.5555555555555556,
              "#d8576b"
             ],
             [
              0.6666666666666666,
              "#ed7953"
             ],
             [
              0.7777777777777778,
              "#fb9f3a"
             ],
             [
              0.8888888888888888,
              "#fdca26"
             ],
             [
              1,
              "#f0f921"
             ]
            ],
            "type": "surface"
           }
          ],
          "table": [
           {
            "cells": {
             "fill": {
              "color": "#EBF0F8"
             },
             "line": {
              "color": "white"
             }
            },
            "header": {
             "fill": {
              "color": "#C8D4E3"
             },
             "line": {
              "color": "white"
             }
            },
            "type": "table"
           }
          ]
         },
         "layout": {
          "annotationdefaults": {
           "arrowcolor": "#2a3f5f",
           "arrowhead": 0,
           "arrowwidth": 1
          },
          "autotypenumbers": "strict",
          "coloraxis": {
           "colorbar": {
            "outlinewidth": 0,
            "ticks": ""
           }
          },
          "colorscale": {
           "diverging": [
            [
             0,
             "#8e0152"
            ],
            [
             0.1,
             "#c51b7d"
            ],
            [
             0.2,
             "#de77ae"
            ],
            [
             0.3,
             "#f1b6da"
            ],
            [
             0.4,
             "#fde0ef"
            ],
            [
             0.5,
             "#f7f7f7"
            ],
            [
             0.6,
             "#e6f5d0"
            ],
            [
             0.7,
             "#b8e186"
            ],
            [
             0.8,
             "#7fbc41"
            ],
            [
             0.9,
             "#4d9221"
            ],
            [
             1,
             "#276419"
            ]
           ],
           "sequential": [
            [
             0,
             "#0d0887"
            ],
            [
             0.1111111111111111,
             "#46039f"
            ],
            [
             0.2222222222222222,
             "#7201a8"
            ],
            [
             0.3333333333333333,
             "#9c179e"
            ],
            [
             0.4444444444444444,
             "#bd3786"
            ],
            [
             0.5555555555555556,
             "#d8576b"
            ],
            [
             0.6666666666666666,
             "#ed7953"
            ],
            [
             0.7777777777777778,
             "#fb9f3a"
            ],
            [
             0.8888888888888888,
             "#fdca26"
            ],
            [
             1,
             "#f0f921"
            ]
           ],
           "sequentialminus": [
            [
             0,
             "#0d0887"
            ],
            [
             0.1111111111111111,
             "#46039f"
            ],
            [
             0.2222222222222222,
             "#7201a8"
            ],
            [
             0.3333333333333333,
             "#9c179e"
            ],
            [
             0.4444444444444444,
             "#bd3786"
            ],
            [
             0.5555555555555556,
             "#d8576b"
            ],
            [
             0.6666666666666666,
             "#ed7953"
            ],
            [
             0.7777777777777778,
             "#fb9f3a"
            ],
            [
             0.8888888888888888,
             "#fdca26"
            ],
            [
             1,
             "#f0f921"
            ]
           ]
          },
          "colorway": [
           "#636efa",
           "#EF553B",
           "#00cc96",
           "#ab63fa",
           "#FFA15A",
           "#19d3f3",
           "#FF6692",
           "#B6E880",
           "#FF97FF",
           "#FECB52"
          ],
          "font": {
           "color": "#2a3f5f"
          },
          "geo": {
           "bgcolor": "white",
           "lakecolor": "white",
           "landcolor": "#E5ECF6",
           "showlakes": true,
           "showland": true,
           "subunitcolor": "white"
          },
          "hoverlabel": {
           "align": "left"
          },
          "hovermode": "closest",
          "mapbox": {
           "style": "light"
          },
          "paper_bgcolor": "white",
          "plot_bgcolor": "#E5ECF6",
          "polar": {
           "angularaxis": {
            "gridcolor": "white",
            "linecolor": "white",
            "ticks": ""
           },
           "bgcolor": "#E5ECF6",
           "radialaxis": {
            "gridcolor": "white",
            "linecolor": "white",
            "ticks": ""
           }
          },
          "scene": {
           "xaxis": {
            "backgroundcolor": "#E5ECF6",
            "gridcolor": "white",
            "gridwidth": 2,
            "linecolor": "white",
            "showbackground": true,
            "ticks": "",
            "zerolinecolor": "white"
           },
           "yaxis": {
            "backgroundcolor": "#E5ECF6",
            "gridcolor": "white",
            "gridwidth": 2,
            "linecolor": "white",
            "showbackground": true,
            "ticks": "",
            "zerolinecolor": "white"
           },
           "zaxis": {
            "backgroundcolor": "#E5ECF6",
            "gridcolor": "white",
            "gridwidth": 2,
            "linecolor": "white",
            "showbackground": true,
            "ticks": "",
            "zerolinecolor": "white"
           }
          },
          "shapedefaults": {
           "line": {
            "color": "#2a3f5f"
           }
          },
          "ternary": {
           "aaxis": {
            "gridcolor": "white",
            "linecolor": "white",
            "ticks": ""
           },
           "baxis": {
            "gridcolor": "white",
            "linecolor": "white",
            "ticks": ""
           },
           "bgcolor": "#E5ECF6",
           "caxis": {
            "gridcolor": "white",
            "linecolor": "white",
            "ticks": ""
           }
          },
          "title": {
           "x": 0.05
          },
          "xaxis": {
           "automargin": true,
           "gridcolor": "white",
           "linecolor": "white",
           "ticks": "",
           "title": {
            "standoff": 15
           },
           "zerolinecolor": "white",
           "zerolinewidth": 2
          },
          "yaxis": {
           "automargin": true,
           "gridcolor": "white",
           "linecolor": "white",
           "ticks": "",
           "title": {
            "standoff": 15
           },
           "zerolinecolor": "white",
           "zerolinewidth": 2
          }
         }
        },
        "title": {
         "text": "Kiểm tra bài toán phân lớp bằng thuộc tính FertilityRate và Yearly%Change",
         "x": 0.45,
         "xanchor": "center",
         "y": 0.95,
         "yanchor": "top"
        },
        "xaxis": {
         "anchor": "y",
         "domain": [
          0,
          1
         ],
         "title": {
          "text": "Yearly%Change"
         }
        },
        "yaxis": {
         "anchor": "x",
         "domain": [
          0,
          1
         ],
         "title": {
          "text": "FertilityRate"
         }
        }
       }
      }
     },
     "metadata": {},
     "output_type": "display_data"
    }
   ],
   "source": [
    "fig=px.scatter(dict_, x=\"Yearly%Change\", y=\"FertilityRate\",\n",
    "        color=\"predict\", hover_data=['Country'], color_continuous_scale=['green','orange', 'purple'])\n",
    "fig.update_layout(\n",
    "    title={\n",
    "        'text': \"Kiểm tra bài toán phân lớp bằng thuộc tính FertilityRate và Yearly%Change\",\n",
    "        'y':0.95,\n",
    "        'x':0.45,\n",
    "        'xanchor': 'center',\n",
    "        'yanchor': 'top'})\n",
    "fig.show()"
   ]
  },
  {
   "attachments": {},
   "cell_type": "markdown",
   "metadata": {},
   "source": [
    "## **BÀI TOÁN DỰ ĐOÁN DÂN SỐ TƯƠNG LAI, HỒI QUY TUYẾN TÍNH.**\n",
    "\n",
    "Khá đơn giản nên ta tạo các hàm như sau. \n",
    "( Đơn giản hóa bài toán, ta chọn 1 và 2 )"
   ]
  },
  {
   "cell_type": "code",
   "execution_count": 68,
   "metadata": {},
   "outputs": [
    {
     "data": {
      "image/png": "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",
      "text/plain": [
       "<Figure size 640x480 with 1 Axes>"
      ]
     },
     "metadata": {},
     "output_type": "display_data"
    }
   ],
   "source": [
    "import numpy as np\n",
    "import math \n",
    "from sklearn.linear_model import LinearRegression\n",
    "from sklearn.preprocessing import PolynomialFeatures\n",
    "from sklearn.metrics import mean_squared_error\n",
    "def linear_regression_1(x,y,x_for_pred) :\n",
    "    x=np.array(x).reshape((-1, 1))\n",
    "    y=np.array(y)\n",
    "    x_for_pred=np.array(x_for_pred).reshape((-1, 1))\n",
    "    model = LinearRegression().fit(x, y)\n",
    "    y_pred = model.predict(x_for_pred)\n",
    "    plt.scatter(x, y, color = 'blue') \n",
    "    plt.plot(x, model.predict(x), color='red')\n",
    "\n",
    "    y_pre_pred = model.predict(x)\n",
    "    pred_error=math.sqrt(mean_squared_error(y,y_pre_pred))/math.sqrt((max(y_pre_pred)-min(y_pre_pred))**2 +(max(x)-min(x))**2)\n",
    "    return y_pred,pred_error\n",
    "def linear_regression_2(x,y,x_for_pred) :\n",
    "    x=np.array(x)\n",
    "    x_=PolynomialFeatures(degree=2, include_bias=False).fit_transform(x.reshape((-1, 1)))\n",
    "    y=np.array(y)\n",
    "    x_for_pred=np.array(x_for_pred).reshape((-1, 1))\n",
    "    x_for_pred=PolynomialFeatures(degree=2, include_bias=False).fit_transform(x_for_pred)\n",
    "    \n",
    "    model = LinearRegression().fit(x_, y)\n",
    "    plt.scatter(x, y, color = 'blue') \n",
    "    plt.plot(x, model.predict(x_), color='red')\n",
    "    y_pred = model.predict( x_for_pred)\n",
    "    y_pre_pred = model.predict(x_)\n",
    "    pred_error=math.sqrt(mean_squared_error(y,y_pre_pred))/math.sqrt((max(y_pre_pred)-min(y_pre_pred))**2 +(max(x)-min(x))**2)\n",
    "    return y_pred,pred_error\n",
    "\n",
    "predict, pred_error = linear_regression_2(df['Year'].unique(),df[df['Country']=='China']['Population'],[2025,2030,2035,2040,2050])\n"
   ]
  },
  {
   "cell_type": "code",
   "execution_count": 11,
   "metadata": {},
   "outputs": [],
   "source": [
    "def gen_linear(df,funct,x_for_pred):\n",
    "    x=df['Year'].unique()\n",
    "    for i in df['Country'].unique():\n",
    "        mean_pred_error=0\n",
    "        pred_error=[]\n",
    "        df_=df[df['Country']==i]\n",
    "        dict_pred={}\n",
    "        dict_pred['Year']=x_for_pred\n",
    "        col_pred=['Population','YearlyChange','Migrants(net)','MedianAge','FertilityRate','UrbanPopulation']\n",
    "        error_linear=0\n",
    "        for col in col_pred : \n",
    "            dict_pred[col],error_linear=funct(x,df_[col],x_for_pred)\n",
    "            pred_error.append(error_linear)\n",
    "        dict_pred['Yearly%Change']=dict_pred['YearlyChange']*100/dict_pred['Population']\n",
    "        dict_pred['UrbanPop%']=dict_pred['UrbanPopulation']*100/dict_pred['Population']\n",
    "        dict_pred['Country']=[i]*len(x_for_pred)\n",
    "        dict_pred['Continent']=list(df_['Continent'].unique())*len(x_for_pred)\n",
    "        mean_pred_error=sum(pred_error)/len(pred_error)\n",
    "        dict_pred['LossFunctCheck']=[mean_pred_error]*len(x_for_pred)\n",
    "        \n",
    "        #Có những nước với dụ đoán GIẢM có nguy cơ diệt vong (0 dân)\n",
    "        dict_pred['Population']=[i if i>0 else 1000 for i in dict_pred.pop('Population')]\n",
    "        dict_pred = [dict(zip(dict_pred,t)) for t in zip(*dict_pred.values())]\n",
    "        for row in dict_pred :\n",
    "            yield row\n",
    "\n",
    "\n",
    "LD1=[i for i in gen_linear(df,linear_regression_1,[2025,2030,2035,2040,2050]) ]\n",
    "LD1=pd.DataFrame(LD1)\n",
    "LD2=[i for i in gen_linear(df,linear_regression_2,[2025,2030,2035,2040,2050]) ]\n",
    "LD2=pd.DataFrame(LD2)"
   ]
  },
  {
   "cell_type": "code",
   "execution_count": 12,
   "metadata": {},
   "outputs": [
    {
     "data": {
      "text/html": [
       "<div>\n",
       "<style scoped>\n",
       "    .dataframe tbody tr th:only-of-type {\n",
       "        vertical-align: middle;\n",
       "    }\n",
       "\n",
       "    .dataframe tbody tr th {\n",
       "        vertical-align: top;\n",
       "    }\n",
       "\n",
       "    .dataframe thead th {\n",
       "        text-align: right;\n",
       "    }\n",
       "</style>\n",
       "<table border=\"1\" class=\"dataframe\">\n",
       "  <thead>\n",
       "    <tr style=\"text-align: right;\">\n",
       "      <th></th>\n",
       "      <th>Year</th>\n",
       "      <th>YearlyChange</th>\n",
       "      <th>Migrants(net)</th>\n",
       "      <th>MedianAge</th>\n",
       "      <th>FertilityRate</th>\n",
       "      <th>UrbanPopulation</th>\n",
       "      <th>Yearly%Change</th>\n",
       "      <th>UrbanPop%</th>\n",
       "      <th>Country</th>\n",
       "      <th>Continent</th>\n",
       "      <th>LossFunctCheck</th>\n",
       "      <th>Population</th>\n",
       "    </tr>\n",
       "  </thead>\n",
       "  <tbody>\n",
       "    <tr>\n",
       "      <th>0</th>\n",
       "      <td>2025</td>\n",
       "      <td>1.015350e+06</td>\n",
       "      <td>-44993.213325</td>\n",
       "      <td>16.582543</td>\n",
       "      <td>5.409869</td>\n",
       "      <td>9.517517e+06</td>\n",
       "      <td>2.686857</td>\n",
       "      <td>25.185605</td>\n",
       "      <td>Afghanistan</td>\n",
       "      <td>Asia</td>\n",
       "      <td>1.482467</td>\n",
       "      <td>3.778951e+07</td>\n",
       "    </tr>\n",
       "    <tr>\n",
       "      <th>1</th>\n",
       "      <td>2030</td>\n",
       "      <td>1.091289e+06</td>\n",
       "      <td>-42795.797468</td>\n",
       "      <td>16.486920</td>\n",
       "      <td>5.210928</td>\n",
       "      <td>1.027058e+07</td>\n",
       "      <td>2.708648</td>\n",
       "      <td>25.492221</td>\n",
       "      <td>Afghanistan</td>\n",
       "      <td>Asia</td>\n",
       "      <td>1.482467</td>\n",
       "      <td>4.028908e+07</td>\n",
       "    </tr>\n",
       "    <tr>\n",
       "      <th>2</th>\n",
       "      <td>2035</td>\n",
       "      <td>1.167229e+06</td>\n",
       "      <td>-40598.381611</td>\n",
       "      <td>16.391296</td>\n",
       "      <td>5.011988</td>\n",
       "      <td>1.102364e+07</td>\n",
       "      <td>2.727894</td>\n",
       "      <td>25.763014</td>\n",
       "      <td>Afghanistan</td>\n",
       "      <td>Asia</td>\n",
       "      <td>1.482467</td>\n",
       "      <td>4.278864e+07</td>\n",
       "    </tr>\n",
       "    <tr>\n",
       "      <th>3</th>\n",
       "      <td>2040</td>\n",
       "      <td>1.243168e+06</td>\n",
       "      <td>-38400.965754</td>\n",
       "      <td>16.295673</td>\n",
       "      <td>4.813048</td>\n",
       "      <td>1.177671e+07</td>\n",
       "      <td>2.745014</td>\n",
       "      <td>26.003915</td>\n",
       "      <td>Afghanistan</td>\n",
       "      <td>Asia</td>\n",
       "      <td>1.482467</td>\n",
       "      <td>4.528821e+07</td>\n",
       "    </tr>\n",
       "    <tr>\n",
       "      <th>4</th>\n",
       "      <td>2050</td>\n",
       "      <td>1.395047e+06</td>\n",
       "      <td>-34006.134040</td>\n",
       "      <td>16.104425</td>\n",
       "      <td>4.415167</td>\n",
       "      <td>1.328284e+07</td>\n",
       "      <td>2.774150</td>\n",
       "      <td>26.413873</td>\n",
       "      <td>Afghanistan</td>\n",
       "      <td>Asia</td>\n",
       "      <td>1.482467</td>\n",
       "      <td>5.028734e+07</td>\n",
       "    </tr>\n",
       "    <tr>\n",
       "      <th>...</th>\n",
       "      <td>...</td>\n",
       "      <td>...</td>\n",
       "      <td>...</td>\n",
       "      <td>...</td>\n",
       "      <td>...</td>\n",
       "      <td>...</td>\n",
       "      <td>...</td>\n",
       "      <td>...</td>\n",
       "      <td>...</td>\n",
       "      <td>...</td>\n",
       "      <td>...</td>\n",
       "      <td>...</td>\n",
       "    </tr>\n",
       "    <tr>\n",
       "      <th>1170</th>\n",
       "      <td>2025</td>\n",
       "      <td>2.038575e+05</td>\n",
       "      <td>-134017.823668</td>\n",
       "      <td>18.685330</td>\n",
       "      <td>3.276979</td>\n",
       "      <td>6.055059e+06</td>\n",
       "      <td>1.284438</td>\n",
       "      <td>38.150902</td>\n",
       "      <td>Zimbabwe</td>\n",
       "      <td>Africa</td>\n",
       "      <td>0.278630</td>\n",
       "      <td>1.587134e+07</td>\n",
       "    </tr>\n",
       "    <tr>\n",
       "      <th>1171</th>\n",
       "      <td>2030</td>\n",
       "      <td>2.075294e+05</td>\n",
       "      <td>-145549.966245</td>\n",
       "      <td>18.885654</td>\n",
       "      <td>2.957300</td>\n",
       "      <td>6.500572e+06</td>\n",
       "      <td>1.236126</td>\n",
       "      <td>38.719944</td>\n",
       "      <td>Zimbabwe</td>\n",
       "      <td>Africa</td>\n",
       "      <td>0.278630</td>\n",
       "      <td>1.678869e+07</td>\n",
       "    </tr>\n",
       "    <tr>\n",
       "      <th>1172</th>\n",
       "      <td>2035</td>\n",
       "      <td>2.112013e+05</td>\n",
       "      <td>-157082.108822</td>\n",
       "      <td>19.085978</td>\n",
       "      <td>2.637620</td>\n",
       "      <td>6.946084e+06</td>\n",
       "      <td>1.192821</td>\n",
       "      <td>39.230023</td>\n",
       "      <td>Zimbabwe</td>\n",
       "      <td>Africa</td>\n",
       "      <td>0.278630</td>\n",
       "      <td>1.770604e+07</td>\n",
       "    </tr>\n",
       "    <tr>\n",
       "      <th>1173</th>\n",
       "      <td>2040</td>\n",
       "      <td>2.148732e+05</td>\n",
       "      <td>-168614.251398</td>\n",
       "      <td>19.286302</td>\n",
       "      <td>2.317941</td>\n",
       "      <td>7.391596e+06</td>\n",
       "      <td>1.153782</td>\n",
       "      <td>39.689850</td>\n",
       "      <td>Zimbabwe</td>\n",
       "      <td>Africa</td>\n",
       "      <td>0.278630</td>\n",
       "      <td>1.862339e+07</td>\n",
       "    </tr>\n",
       "    <tr>\n",
       "      <th>1174</th>\n",
       "      <td>2050</td>\n",
       "      <td>2.222171e+05</td>\n",
       "      <td>-191678.536552</td>\n",
       "      <td>19.686949</td>\n",
       "      <td>1.678583</td>\n",
       "      <td>8.282621e+06</td>\n",
       "      <td>1.086206</td>\n",
       "      <td>40.485791</td>\n",
       "      <td>Zimbabwe</td>\n",
       "      <td>Africa</td>\n",
       "      <td>0.278630</td>\n",
       "      <td>2.045809e+07</td>\n",
       "    </tr>\n",
       "  </tbody>\n",
       "</table>\n",
       "<p>1175 rows × 12 columns</p>\n",
       "</div>"
      ],
      "text/plain": [
       "      Year  YearlyChange  Migrants(net)  MedianAge  FertilityRate  \\\n",
       "0     2025  1.015350e+06  -44993.213325  16.582543       5.409869   \n",
       "1     2030  1.091289e+06  -42795.797468  16.486920       5.210928   \n",
       "2     2035  1.167229e+06  -40598.381611  16.391296       5.011988   \n",
       "3     2040  1.243168e+06  -38400.965754  16.295673       4.813048   \n",
       "4     2050  1.395047e+06  -34006.134040  16.104425       4.415167   \n",
       "...    ...           ...            ...        ...            ...   \n",
       "1170  2025  2.038575e+05 -134017.823668  18.685330       3.276979   \n",
       "1171  2030  2.075294e+05 -145549.966245  18.885654       2.957300   \n",
       "1172  2035  2.112013e+05 -157082.108822  19.085978       2.637620   \n",
       "1173  2040  2.148732e+05 -168614.251398  19.286302       2.317941   \n",
       "1174  2050  2.222171e+05 -191678.536552  19.686949       1.678583   \n",
       "\n",
       "      UrbanPopulation  Yearly%Change  UrbanPop%      Country Continent  \\\n",
       "0        9.517517e+06       2.686857  25.185605  Afghanistan      Asia   \n",
       "1        1.027058e+07       2.708648  25.492221  Afghanistan      Asia   \n",
       "2        1.102364e+07       2.727894  25.763014  Afghanistan      Asia   \n",
       "3        1.177671e+07       2.745014  26.003915  Afghanistan      Asia   \n",
       "4        1.328284e+07       2.774150  26.413873  Afghanistan      Asia   \n",
       "...               ...            ...        ...          ...       ...   \n",
       "1170     6.055059e+06       1.284438  38.150902     Zimbabwe    Africa   \n",
       "1171     6.500572e+06       1.236126  38.719944     Zimbabwe    Africa   \n",
       "1172     6.946084e+06       1.192821  39.230023     Zimbabwe    Africa   \n",
       "1173     7.391596e+06       1.153782  39.689850     Zimbabwe    Africa   \n",
       "1174     8.282621e+06       1.086206  40.485791     Zimbabwe    Africa   \n",
       "\n",
       "      LossFunctCheck    Population  \n",
       "0           1.482467  3.778951e+07  \n",
       "1           1.482467  4.028908e+07  \n",
       "2           1.482467  4.278864e+07  \n",
       "3           1.482467  4.528821e+07  \n",
       "4           1.482467  5.028734e+07  \n",
       "...              ...           ...  \n",
       "1170        0.278630  1.587134e+07  \n",
       "1171        0.278630  1.678869e+07  \n",
       "1172        0.278630  1.770604e+07  \n",
       "1173        0.278630  1.862339e+07  \n",
       "1174        0.278630  2.045809e+07  \n",
       "\n",
       "[1175 rows x 12 columns]"
      ]
     },
     "execution_count": 12,
     "metadata": {},
     "output_type": "execute_result"
    }
   ],
   "source": [
    "LD1"
   ]
  },
  {
   "cell_type": "code",
   "execution_count": 13,
   "metadata": {},
   "outputs": [
    {
     "data": {
      "application/vnd.plotly.v1+json": {
       "config": {
        "plotlyServerURL": "https://plot.ly"
       },
       "data": [
        {
         "hovertemplate": "Continent=Asia<br>Country=%{x}<br>LossFunctCheck=%{y}<extra></extra>",
         "legendgroup": "Asia",
         "marker": {
          "color": "#636efa",
          "symbol": "circle"
         },
         "mode": "markers",
         "name": "Asia",
         "orientation": "v",
         "showlegend": true,
         "type": "scatter",
         "x": [
          "Afghanistan",
          "Armenia",
          "Azerbaijan",
          "Bahrain",
          "Bangladesh",
          "Bhutan",
          "Brunei ",
          "Cambodia",
          "China",
          "Cyprus",
          "Georgia",
          "Hong Kong",
          "India",
          "Indonesia",
          "Iran",
          "Iraq",
          "Israel",
          "Japan",
          "Jordan",
          "Kazakhstan",
          "Kuwait",
          "Kyrgyzstan",
          "Laos",
          "Lebanon",
          "Macao",
          "Malaysia",
          "Maldives",
          "Mongolia",
          "Myanmar",
          "Nepal",
          "North Korea",
          "Oman",
          "Pakistan",
          "Philippines",
          "Qatar",
          "Saudi Arabia",
          "Singapore",
          "South Korea",
          "Sri Lanka",
          "State of Palestine",
          "Syria",
          "Taiwan",
          "Tajikistan",
          "Thailand",
          "Timor-Leste",
          "Turkey",
          "Turkmenistan",
          "United Arab Emirates",
          "Uzbekistan",
          "Vietnam",
          "Yemen"
         ],
         "xaxis": "x",
         "y": [
          1.4824674753507956,
          0.356288455085149,
          0.5963774177802644,
          0.11324317777214758,
          0.22587317740627086,
          0.5539462863162224,
          0.6962670483849306,
          0.4092084851519435,
          0.1383241387940755,
          0.1894058163969433,
          0.5958440684261483,
          1.3087405289771845,
          0.13425035935074958,
          0.14225593819011118,
          0.315135891344051,
          0.6071876083045545,
          0.23221427003673023,
          0.27369364987683575,
          0.3858678518522242,
          0.44686329268845654,
          0.3016560696480365,
          0.21750189176116644,
          0.15166569358235807,
          0.618442619900854,
          0.14316874320525438,
          0.13131061510016986,
          0.11477073410537897,
          0.44477892851897005,
          0.14868693764925425,
          0.47917252077863975,
          0.3456435591590807,
          0.13964837071722427,
          0.09840236385564231,
          0.1745993823976512,
          0.20700929364620668,
          0.16604705552390361,
          0.34950944262252664,
          0.9935094286174703,
          0.08557603206834341,
          0.48450931249544293,
          0.28993215126764854,
          0.38888475353668434,
          0.10091639817602673,
          0.9192221862188097,
          0.1617059200816668,
          0.10009619643783653,
          0.14681817323793098,
          0.3515887995639531,
          0.14669596557332268,
          0.5547654549625802,
          15.742679035787212
         ],
         "yaxis": "y"
        },
        {
         "hovertemplate": "Continent=Europe<br>Country=%{x}<br>LossFunctCheck=%{y}<extra></extra>",
         "legendgroup": "Europe",
         "marker": {
          "color": "#EF553B",
          "symbol": "circle"
         },
         "mode": "markers",
         "name": "Europe",
         "orientation": "v",
         "showlegend": true,
         "type": "scatter",
         "x": [
          "Albania",
          "Andorra",
          "Austria",
          "Belarus",
          "Belgium",
          "Bosnia and Herzegovina",
          "Bulgaria",
          "Channel Islands",
          "Croatia",
          "Czech Republic (Czechia)",
          "Denmark",
          "Estonia",
          "Faeroe Islands",
          "Finland",
          "France",
          "Germany",
          "Gibraltar",
          "Greece",
          "Holy See",
          "Hungary",
          "Iceland",
          "Ireland",
          "Isle of Man",
          "Italy",
          "Latvia",
          "Liechtenstein",
          "Lithuania",
          "Luxembourg",
          "Malta",
          "Moldova",
          "Monaco",
          "Montenegro",
          "Netherlands",
          "North Macedonia",
          "Norway",
          "Poland",
          "Portugal",
          "Romania",
          "Russia",
          "San Marino",
          "Serbia",
          "Slovakia",
          "Slovenia",
          "Spain",
          "Sweden",
          "Switzerland",
          "Ukraine",
          "United Kingdom"
         ],
         "xaxis": "x",
         "y": [
          0.2280191332837603,
          0.13913106331479513,
          0.14657776112614007,
          0.21847708989056439,
          0.1796506847638646,
          0.8411860270772996,
          1.028595586502993,
          0.17531322698285076,
          0.44248837648558875,
          0.234718751073857,
          0.22211129443976507,
          0.9112560821130491,
          0.11264153184498993,
          0.10866310116483378,
          0.18674507345825953,
          1.9784605663519115,
          0.16595176448686125,
          58.64108908591023,
          0.3165486035893166,
          0.2747854362458397,
          0.30657370276294127,
          0.1303085667105267,
          0.2794183876094632,
          0.13877119517880743,
          0.8381946169530282,
          0.09376794958943285,
          0.605324470394252,
          0.0917898242862268,
          0.15926603763361197,
          0.21274072271531896,
          0.14507177546764602,
          0.5080123257783906,
          0.17771943417568134,
          0.22052381218554049,
          0.12240522102547051,
          0.2808847604029157,
          0.20930773989618182,
          2.4431465447620715,
          0.16626033073343785,
          0.15581055617485665,
          3.400588469755053,
          0.8553713484751712,
          0.27559797031846306,
          0.28001671440634907,
          0.1809289355477677,
          0.3419418065952719,
          2.1887074165826212,
          0.1408759182973606
         ],
         "yaxis": "y"
        },
        {
         "hovertemplate": "Continent=Africa<br>Country=%{x}<br>LossFunctCheck=%{y}<extra></extra>",
         "legendgroup": "Africa",
         "marker": {
          "color": "#00cc96",
          "symbol": "circle"
         },
         "mode": "markers",
         "name": "Africa",
         "orientation": "v",
         "showlegend": true,
         "type": "scatter",
         "x": [
          "Algeria",
          "Angola",
          "Benin",
          "Botswana",
          "Burkina Faso",
          "Burundi",
          "Cabo Verde",
          "Cameroon",
          "Central African Republic",
          "Chad",
          "Comoros",
          "Congo",
          "Côte d'Ivoire",
          "DR Congo",
          "Djibouti",
          "Egypt",
          "Equatorial Guinea",
          "Eritrea",
          "Eswatini",
          "Ethiopia",
          "Gabon",
          "Gambia",
          "Ghana",
          "Guinea",
          "Guinea-Bissau",
          "Kenya",
          "Lesotho",
          "Liberia",
          "Libya",
          "Madagascar",
          "Malawi",
          "Mali",
          "Mauritania",
          "Mauritius",
          "Mayotte",
          "Morocco",
          "Mozambique",
          "Namibia",
          "Niger",
          "Nigeria",
          "Rwanda",
          "Réunion",
          "Saint Helena",
          "Sao Tome & Principe",
          "Senegal",
          "Seychelles",
          "Sierra Leone",
          "Somalia",
          "South Africa",
          "South Sudan",
          "Sudan",
          "Tanzania",
          "Togo",
          "Tunisia",
          "Uganda",
          "Western Sahara",
          "Zambia",
          "Zimbabwe"
         ],
         "xaxis": "x",
         "y": [
          0.12839148149416646,
          0.17253206418865266,
          0.4421237033250501,
          0.23525617121606154,
          0.3280320782748924,
          0.2400955883449675,
          0.3332363362649267,
          0.09749066437217357,
          0.13099972614906147,
          0.17192060559835776,
          0.11243951086778625,
          0.6152042489657971,
          0.11739951039636255,
          2.6242995836945635,
          0.3522629151645091,
          4.041715126808387,
          0.11420880058273127,
          0.2752102111130624,
          14.516534856135843,
          0.30768916095789245,
          0.15926536502109143,
          0.12947122699781288,
          0.5562643296337394,
          0.21964602046799356,
          0.3096388828187013,
          0.22036699838259233,
          0.3548507162801826,
          1.3944049963985332,
          0.2804964969055968,
          0.7822287425513625,
          0.4156935071399615,
          0.1752157075181708,
          0.15773836170576583,
          0.1673249289256343,
          0.22670088236961586,
          0.2767345445492113,
          1.064500494210682,
          0.18970504875959385,
          0.16926867120787312,
          0.14728696742008976,
          9.174403982249375,
          0.4571192131247539,
          0.4892887591834159,
          0.1744583168507321,
          0.09449950428800656,
          0.5756496006419872,
          1.9329611664596442,
          0.2740351037542301,
          0.09983073704031603,
          0.2886995840856879,
          0.12848028943149917,
          0.1415223559572906,
          0.44469198057054965,
          0.38852675333342007,
          0.16054790879120803,
          0.26364679409047254,
          0.18665977854326632,
          0.27862992859421715
         ],
         "yaxis": "y"
        },
        {
         "hovertemplate": "Continent=Oceania<br>Country=%{x}<br>LossFunctCheck=%{y}<extra></extra>",
         "legendgroup": "Oceania",
         "marker": {
          "color": "#ab63fa",
          "symbol": "circle"
         },
         "mode": "markers",
         "name": "Oceania",
         "orientation": "v",
         "showlegend": true,
         "type": "scatter",
         "x": [
          "American Samoa",
          "Australia",
          "Cook Islands",
          "Fiji",
          "French Polynesia",
          "Guam",
          "Kiribati",
          "Marshall Islands",
          "Micronesia",
          "Nauru",
          "New Caledonia",
          "New Zealand",
          "Niue",
          "Northern Mariana Islands",
          "Palau",
          "Papua New Guinea",
          "Samoa",
          "Solomon Islands",
          "Tokelau",
          "Tonga",
          "Tuvalu",
          "Vanuatu",
          "Wallis & Futuna"
         ],
         "xaxis": "x",
         "y": [
          0.15211450879250435,
          0.13696580770592384,
          0.354400350498215,
          0.147614827388385,
          0.20647464334347468,
          0.6471518446670681,
          0.10691517599848255,
          0.2773099199550323,
          0.6479644453081208,
          0.14973713542786274,
          0.3916763622743114,
          1.2094478765294803,
          0.2094395900579693,
          0.6699687963307075,
          0.16428773591032592,
          0.5610912515330008,
          0.19172728823985832,
          0.06962546265751775,
          0.11095767210917962,
          0.3828847434563339,
          0.1311828508318039,
          0.3624752976624855,
          0.1323802959235945
         ],
         "yaxis": "y"
        },
        {
         "hovertemplate": "Continent=Latin America and the Caribbean<br>Country=%{x}<br>LossFunctCheck=%{y}<extra></extra>",
         "legendgroup": "Latin America and the Caribbean",
         "marker": {
          "color": "#FFA15A",
          "symbol": "circle"
         },
         "mode": "markers",
         "name": "Latin America and the Caribbean",
         "orientation": "v",
         "showlegend": true,
         "type": "scatter",
         "x": [
          "Anguilla",
          "Antigua and Barbuda",
          "Argentina",
          "Aruba",
          "Bahamas",
          "Barbados",
          "Belize",
          "Bolivia",
          "Brazil",
          "British Virgin Islands",
          "Caribbean Netherlands",
          "Cayman Islands",
          "Chile",
          "Colombia",
          "Costa Rica",
          "Cuba",
          "Curaçao",
          "Dominica",
          "Dominican Republic",
          "Ecuador",
          "El Salvador",
          "Falkland Islands",
          "French Guiana",
          "Grenada",
          "Guadeloupe",
          "Guatemala",
          "Guyana",
          "Haiti",
          "Honduras",
          "Jamaica",
          "Martinique",
          "Mexico",
          "Montserrat",
          "Nicaragua",
          "Panama",
          "Paraguay",
          "Peru",
          "Puerto Rico",
          "Saint Kitts & Nevis",
          "Saint Lucia",
          "Saint Martin",
          "Sint Maarten",
          "St. Vincent & Grenadines",
          "Suriname",
          "Trinidad and Tobago",
          "Turks and Caicos",
          "U.S. Virgin Islands",
          "Uruguay",
          "Venezuela"
         ],
         "xaxis": "x",
         "y": [
          0.12112160295207947,
          0.3245159325890044,
          0.17220213950977967,
          0.6474270266007808,
          3.5916006088810923,
          2.2176672580538908,
          0.11163841726495587,
          0.10213102681060292,
          1.4221363762543293,
          0.1843561995200028,
          0.15488637925319532,
          0.09865300921699255,
          0.10651515890783997,
          0.13555491479638684,
          0.5050049775200335,
          0.27593533428704475,
          0.44605626924475744,
          0.16232916254025456,
          0.3951865562937726,
          0.12534138930661612,
          0.11911392283249844,
          0.09993306066895101,
          0.27180405252913975,
          0.671659870371482,
          0.8148340218180334,
          1.2608456237028791,
          0.5798468171395542,
          0.06683793402631595,
          0.402846628805118,
          0.1558381775569832,
          0.3916951949226095,
          2.086295589254092,
          0.48485194656924024,
          0.1390117519572681,
          0.05189974258609894,
          0.2533472708267727,
          0.5218622916362871,
          0.23957440259080032,
          0.24817959676630894,
          1.0763843222194833,
          0.6016450556386334,
          0.31881577360557806,
          0.12069090211325333,
          6.839558175821515,
          0.1784068475996521,
          0.09834194877519137,
          0.22322893327966073,
          1.1743729380975212,
          0.14881002159908527
         ],
         "yaxis": "y"
        },
        {
         "hovertemplate": "Continent=Northern America<br>Country=%{x}<br>LossFunctCheck=%{y}<extra></extra>",
         "legendgroup": "Northern America",
         "marker": {
          "color": "#19d3f3",
          "symbol": "circle"
         },
         "mode": "markers",
         "name": "Northern America",
         "orientation": "v",
         "showlegend": true,
         "type": "scatter",
         "x": [
          "Bermuda",
          "Canada",
          "Greenland",
          "Saint Pierre & Miquelon",
          "United States"
         ],
         "xaxis": "x",
         "y": [
          0.0837612477268553,
          0.35295099359528975,
          0.10199094477391857,
          0.14863680428700513,
          0.2810614026654387
         ],
         "yaxis": "y"
        },
        {
         "hovertemplate": "Continent=North America<br>Country=%{x}<br>LossFunctCheck=%{y}<extra></extra>",
         "legendgroup": "North America",
         "marker": {
          "color": "#FF6692",
          "symbol": "circle"
         },
         "mode": "markers",
         "name": "North America",
         "orientation": "v",
         "showlegend": true,
         "type": "scatter",
         "x": [
          "Saint Barthelemy"
         ],
         "xaxis": "x",
         "y": [
          0.22835541592708344
         ],
         "yaxis": "y"
        }
       ],
       "layout": {
        "legend": {
         "title": {
          "text": "Continent"
         },
         "tracegroupgap": 0
        },
        "margin": {
         "t": 60
        },
        "template": {
         "data": {
          "bar": [
           {
            "error_x": {
             "color": "#2a3f5f"
            },
            "error_y": {
             "color": "#2a3f5f"
            },
            "marker": {
             "line": {
              "color": "#E5ECF6",
              "width": 0.5
             },
             "pattern": {
              "fillmode": "overlay",
              "size": 10,
              "solidity": 0.2
             }
            },
            "type": "bar"
           }
          ],
          "barpolar": [
           {
            "marker": {
             "line": {
              "color": "#E5ECF6",
              "width": 0.5
             },
             "pattern": {
              "fillmode": "overlay",
              "size": 10,
              "solidity": 0.2
             }
            },
            "type": "barpolar"
           }
          ],
          "carpet": [
           {
            "aaxis": {
             "endlinecolor": "#2a3f5f",
             "gridcolor": "white",
             "linecolor": "white",
             "minorgridcolor": "white",
             "startlinecolor": "#2a3f5f"
            },
            "baxis": {
             "endlinecolor": "#2a3f5f",
             "gridcolor": "white",
             "linecolor": "white",
             "minorgridcolor": "white",
             "startlinecolor": "#2a3f5f"
            },
            "type": "carpet"
           }
          ],
          "choropleth": [
           {
            "colorbar": {
             "outlinewidth": 0,
             "ticks": ""
            },
            "type": "choropleth"
           }
          ],
          "contour": [
           {
            "colorbar": {
             "outlinewidth": 0,
             "ticks": ""
            },
            "colorscale": [
             [
              0,
              "#0d0887"
             ],
             [
              0.1111111111111111,
              "#46039f"
             ],
             [
              0.2222222222222222,
              "#7201a8"
             ],
             [
              0.3333333333333333,
              "#9c179e"
             ],
             [
              0.4444444444444444,
              "#bd3786"
             ],
             [
              0.5555555555555556,
              "#d8576b"
             ],
             [
              0.6666666666666666,
              "#ed7953"
             ],
             [
              0.7777777777777778,
              "#fb9f3a"
             ],
             [
              0.8888888888888888,
              "#fdca26"
             ],
             [
              1,
              "#f0f921"
             ]
            ],
            "type": "contour"
           }
          ],
          "contourcarpet": [
           {
            "colorbar": {
             "outlinewidth": 0,
             "ticks": ""
            },
            "type": "contourcarpet"
           }
          ],
          "heatmap": [
           {
            "colorbar": {
             "outlinewidth": 0,
             "ticks": ""
            },
            "colorscale": [
             [
              0,
              "#0d0887"
             ],
             [
              0.1111111111111111,
              "#46039f"
             ],
             [
              0.2222222222222222,
              "#7201a8"
             ],
             [
              0.3333333333333333,
              "#9c179e"
             ],
             [
              0.4444444444444444,
              "#bd3786"
             ],
             [
              0.5555555555555556,
              "#d8576b"
             ],
             [
              0.6666666666666666,
              "#ed7953"
             ],
             [
              0.7777777777777778,
              "#fb9f3a"
             ],
             [
              0.8888888888888888,
              "#fdca26"
             ],
             [
              1,
              "#f0f921"
             ]
            ],
            "type": "heatmap"
           }
          ],
          "heatmapgl": [
           {
            "colorbar": {
             "outlinewidth": 0,
             "ticks": ""
            },
            "colorscale": [
             [
              0,
              "#0d0887"
             ],
             [
              0.1111111111111111,
              "#46039f"
             ],
             [
              0.2222222222222222,
              "#7201a8"
             ],
             [
              0.3333333333333333,
              "#9c179e"
             ],
             [
              0.4444444444444444,
              "#bd3786"
             ],
             [
              0.5555555555555556,
              "#d8576b"
             ],
             [
              0.6666666666666666,
              "#ed7953"
             ],
             [
              0.7777777777777778,
              "#fb9f3a"
             ],
             [
              0.8888888888888888,
              "#fdca26"
             ],
             [
              1,
              "#f0f921"
             ]
            ],
            "type": "heatmapgl"
           }
          ],
          "histogram": [
           {
            "marker": {
             "pattern": {
              "fillmode": "overlay",
              "size": 10,
              "solidity": 0.2
             }
            },
            "type": "histogram"
           }
          ],
          "histogram2d": [
           {
            "colorbar": {
             "outlinewidth": 0,
             "ticks": ""
            },
            "colorscale": [
             [
              0,
              "#0d0887"
             ],
             [
              0.1111111111111111,
              "#46039f"
             ],
             [
              0.2222222222222222,
              "#7201a8"
             ],
             [
              0.3333333333333333,
              "#9c179e"
             ],
             [
              0.4444444444444444,
              "#bd3786"
             ],
             [
              0.5555555555555556,
              "#d8576b"
             ],
             [
              0.6666666666666666,
              "#ed7953"
             ],
             [
              0.7777777777777778,
              "#fb9f3a"
             ],
             [
              0.8888888888888888,
              "#fdca26"
             ],
             [
              1,
              "#f0f921"
             ]
            ],
            "type": "histogram2d"
           }
          ],
          "histogram2dcontour": [
           {
            "colorbar": {
             "outlinewidth": 0,
             "ticks": ""
            },
            "colorscale": [
             [
              0,
              "#0d0887"
             ],
             [
              0.1111111111111111,
              "#46039f"
             ],
             [
              0.2222222222222222,
              "#7201a8"
             ],
             [
              0.3333333333333333,
              "#9c179e"
             ],
             [
              0.4444444444444444,
              "#bd3786"
             ],
             [
              0.5555555555555556,
              "#d8576b"
             ],
             [
              0.6666666666666666,
              "#ed7953"
             ],
             [
              0.7777777777777778,
              "#fb9f3a"
             ],
             [
              0.8888888888888888,
              "#fdca26"
             ],
             [
              1,
              "#f0f921"
             ]
            ],
            "type": "histogram2dcontour"
           }
          ],
          "mesh3d": [
           {
            "colorbar": {
             "outlinewidth": 0,
             "ticks": ""
            },
            "type": "mesh3d"
           }
          ],
          "parcoords": [
           {
            "line": {
             "colorbar": {
              "outlinewidth": 0,
              "ticks": ""
             }
            },
            "type": "parcoords"
           }
          ],
          "pie": [
           {
            "automargin": true,
            "type": "pie"
           }
          ],
          "scatter": [
           {
            "fillpattern": {
             "fillmode": "overlay",
             "size": 10,
             "solidity": 0.2
            },
            "type": "scatter"
           }
          ],
          "scatter3d": [
           {
            "line": {
             "colorbar": {
              "outlinewidth": 0,
              "ticks": ""
             }
            },
            "marker": {
             "colorbar": {
              "outlinewidth": 0,
              "ticks": ""
             }
            },
            "type": "scatter3d"
           }
          ],
          "scattercarpet": [
           {
            "marker": {
             "colorbar": {
              "outlinewidth": 0,
              "ticks": ""
             }
            },
            "type": "scattercarpet"
           }
          ],
          "scattergeo": [
           {
            "marker": {
             "colorbar": {
              "outlinewidth": 0,
              "ticks": ""
             }
            },
            "type": "scattergeo"
           }
          ],
          "scattergl": [
           {
            "marker": {
             "colorbar": {
              "outlinewidth": 0,
              "ticks": ""
             }
            },
            "type": "scattergl"
           }
          ],
          "scattermapbox": [
           {
            "marker": {
             "colorbar": {
              "outlinewidth": 0,
              "ticks": ""
             }
            },
            "type": "scattermapbox"
           }
          ],
          "scatterpolar": [
           {
            "marker": {
             "colorbar": {
              "outlinewidth": 0,
              "ticks": ""
             }
            },
            "type": "scatterpolar"
           }
          ],
          "scatterpolargl": [
           {
            "marker": {
             "colorbar": {
              "outlinewidth": 0,
              "ticks": ""
             }
            },
            "type": "scatterpolargl"
           }
          ],
          "scatterternary": [
           {
            "marker": {
             "colorbar": {
              "outlinewidth": 0,
              "ticks": ""
             }
            },
            "type": "scatterternary"
           }
          ],
          "surface": [
           {
            "colorbar": {
             "outlinewidth": 0,
             "ticks": ""
            },
            "colorscale": [
             [
              0,
              "#0d0887"
             ],
             [
              0.1111111111111111,
              "#46039f"
             ],
             [
              0.2222222222222222,
              "#7201a8"
             ],
             [
              0.3333333333333333,
              "#9c179e"
             ],
             [
              0.4444444444444444,
              "#bd3786"
             ],
             [
              0.5555555555555556,
              "#d8576b"
             ],
             [
              0.6666666666666666,
              "#ed7953"
             ],
             [
              0.7777777777777778,
              "#fb9f3a"
             ],
             [
              0.8888888888888888,
              "#fdca26"
             ],
             [
              1,
              "#f0f921"
             ]
            ],
            "type": "surface"
           }
          ],
          "table": [
           {
            "cells": {
             "fill": {
              "color": "#EBF0F8"
             },
             "line": {
              "color": "white"
             }
            },
            "header": {
             "fill": {
              "color": "#C8D4E3"
             },
             "line": {
              "color": "white"
             }
            },
            "type": "table"
           }
          ]
         },
         "layout": {
          "annotationdefaults": {
           "arrowcolor": "#2a3f5f",
           "arrowhead": 0,
           "arrowwidth": 1
          },
          "autotypenumbers": "strict",
          "coloraxis": {
           "colorbar": {
            "outlinewidth": 0,
            "ticks": ""
           }
          },
          "colorscale": {
           "diverging": [
            [
             0,
             "#8e0152"
            ],
            [
             0.1,
             "#c51b7d"
            ],
            [
             0.2,
             "#de77ae"
            ],
            [
             0.3,
             "#f1b6da"
            ],
            [
             0.4,
             "#fde0ef"
            ],
            [
             0.5,
             "#f7f7f7"
            ],
            [
             0.6,
             "#e6f5d0"
            ],
            [
             0.7,
             "#b8e186"
            ],
            [
             0.8,
             "#7fbc41"
            ],
            [
             0.9,
             "#4d9221"
            ],
            [
             1,
             "#276419"
            ]
           ],
           "sequential": [
            [
             0,
             "#0d0887"
            ],
            [
             0.1111111111111111,
             "#46039f"
            ],
            [
             0.2222222222222222,
             "#7201a8"
            ],
            [
             0.3333333333333333,
             "#9c179e"
            ],
            [
             0.4444444444444444,
             "#bd3786"
            ],
            [
             0.5555555555555556,
             "#d8576b"
            ],
            [
             0.6666666666666666,
             "#ed7953"
            ],
            [
             0.7777777777777778,
             "#fb9f3a"
            ],
            [
             0.8888888888888888,
             "#fdca26"
            ],
            [
             1,
             "#f0f921"
            ]
           ],
           "sequentialminus": [
            [
             0,
             "#0d0887"
            ],
            [
             0.1111111111111111,
             "#46039f"
            ],
            [
             0.2222222222222222,
             "#7201a8"
            ],
            [
             0.3333333333333333,
             "#9c179e"
            ],
            [
             0.4444444444444444,
             "#bd3786"
            ],
            [
             0.5555555555555556,
             "#d8576b"
            ],
            [
             0.6666666666666666,
             "#ed7953"
            ],
            [
             0.7777777777777778,
             "#fb9f3a"
            ],
            [
             0.8888888888888888,
             "#fdca26"
            ],
            [
             1,
             "#f0f921"
            ]
           ]
          },
          "colorway": [
           "#636efa",
           "#EF553B",
           "#00cc96",
           "#ab63fa",
           "#FFA15A",
           "#19d3f3",
           "#FF6692",
           "#B6E880",
           "#FF97FF",
           "#FECB52"
          ],
          "font": {
           "color": "#2a3f5f"
          },
          "geo": {
           "bgcolor": "white",
           "lakecolor": "white",
           "landcolor": "#E5ECF6",
           "showlakes": true,
           "showland": true,
           "subunitcolor": "white"
          },
          "hoverlabel": {
           "align": "left"
          },
          "hovermode": "closest",
          "mapbox": {
           "style": "light"
          },
          "paper_bgcolor": "white",
          "plot_bgcolor": "#E5ECF6",
          "polar": {
           "angularaxis": {
            "gridcolor": "white",
            "linecolor": "white",
            "ticks": ""
           },
           "bgcolor": "#E5ECF6",
           "radialaxis": {
            "gridcolor": "white",
            "linecolor": "white",
            "ticks": ""
           }
          },
          "scene": {
           "xaxis": {
            "backgroundcolor": "#E5ECF6",
            "gridcolor": "white",
            "gridwidth": 2,
            "linecolor": "white",
            "showbackground": true,
            "ticks": "",
            "zerolinecolor": "white"
           },
           "yaxis": {
            "backgroundcolor": "#E5ECF6",
            "gridcolor": "white",
            "gridwidth": 2,
            "linecolor": "white",
            "showbackground": true,
            "ticks": "",
            "zerolinecolor": "white"
           },
           "zaxis": {
            "backgroundcolor": "#E5ECF6",
            "gridcolor": "white",
            "gridwidth": 2,
            "linecolor": "white",
            "showbackground": true,
            "ticks": "",
            "zerolinecolor": "white"
           }
          },
          "shapedefaults": {
           "line": {
            "color": "#2a3f5f"
           }
          },
          "ternary": {
           "aaxis": {
            "gridcolor": "white",
            "linecolor": "white",
            "ticks": ""
           },
           "baxis": {
            "gridcolor": "white",
            "linecolor": "white",
            "ticks": ""
           },
           "bgcolor": "#E5ECF6",
           "caxis": {
            "gridcolor": "white",
            "linecolor": "white",
            "ticks": ""
           }
          },
          "title": {
           "x": 0.05
          },
          "xaxis": {
           "automargin": true,
           "gridcolor": "white",
           "linecolor": "white",
           "ticks": "",
           "title": {
            "standoff": 15
           },
           "zerolinecolor": "white",
           "zerolinewidth": 2
          },
          "yaxis": {
           "automargin": true,
           "gridcolor": "white",
           "linecolor": "white",
           "ticks": "",
           "title": {
            "standoff": 15
           },
           "zerolinecolor": "white",
           "zerolinewidth": 2
          }
         }
        },
        "xaxis": {
         "anchor": "y",
         "domain": [
          0,
          1
         ],
         "title": {
          "text": "Country"
         },
         "visible": false
        },
        "yaxis": {
         "anchor": "x",
         "domain": [
          0,
          1
         ],
         "range": [
          0,
          5
         ],
         "title": {
          "text": "LossFunctCheck"
         }
        }
       }
      }
     },
     "metadata": {},
     "output_type": "display_data"
    }
   ],
   "source": [
    "fig=px.scatter(LD1[LD1['Year']==2050], x=\"Country\", y=\"LossFunctCheck\",range_y=[0,5],\n",
    "        color=\"Continent\")\n",
    "\n",
    "fig.update_xaxes(visible=False)\n",
    "fig.show()"
   ]
  },
  {
   "attachments": {},
   "cell_type": "markdown",
   "metadata": {},
   "source": [
    "Điểm trừ của Linear bậc 1 : biên độ bị lệch do ảnh hướng từ các số liệu tăng đột biến. Ví dụ giả sử Afghanistan có dân số lươn tăng theo thời gian thì dân số năm 2025 được dự đoán sẽ nhỏ hơn dân số năm 2020"
   ]
  },
  {
   "cell_type": "code",
   "execution_count": 14,
   "metadata": {},
   "outputs": [
    {
     "data": {
      "text/html": [
       "<div>\n",
       "<style scoped>\n",
       "    .dataframe tbody tr th:only-of-type {\n",
       "        vertical-align: middle;\n",
       "    }\n",
       "\n",
       "    .dataframe tbody tr th {\n",
       "        vertical-align: top;\n",
       "    }\n",
       "\n",
       "    .dataframe thead th {\n",
       "        text-align: right;\n",
       "    }\n",
       "</style>\n",
       "<table border=\"1\" class=\"dataframe\">\n",
       "  <thead>\n",
       "    <tr style=\"text-align: right;\">\n",
       "      <th></th>\n",
       "      <th>Year</th>\n",
       "      <th>YearlyChange</th>\n",
       "      <th>Migrants(net)</th>\n",
       "      <th>MedianAge</th>\n",
       "      <th>FertilityRate</th>\n",
       "      <th>UrbanPopulation</th>\n",
       "      <th>Yearly%Change</th>\n",
       "      <th>UrbanPop%</th>\n",
       "      <th>Country</th>\n",
       "      <th>Continent</th>\n",
       "      <th>LossFunctCheck</th>\n",
       "      <th>Population</th>\n",
       "    </tr>\n",
       "  </thead>\n",
       "  <tbody>\n",
       "    <tr>\n",
       "      <th>0</th>\n",
       "      <td>2025</td>\n",
       "      <td>1.152376e+06</td>\n",
       "      <td>24537.823051</td>\n",
       "      <td>18.398103</td>\n",
       "      <td>4.305322</td>\n",
       "      <td>1.139103e+07</td>\n",
       "      <td>2.579184</td>\n",
       "      <td>25.494761</td>\n",
       "      <td>Afghanistan</td>\n",
       "      <td>Asia</td>\n",
       "      <td>0.436912</td>\n",
       "      <td>4.467987e+07</td>\n",
       "    </tr>\n",
       "    <tr>\n",
       "      <th>1</th>\n",
       "      <td>2030</td>\n",
       "      <td>1.299116e+06</td>\n",
       "      <td>62661.154521</td>\n",
       "      <td>19.240558</td>\n",
       "      <td>3.535674</td>\n",
       "      <td>1.311211e+07</td>\n",
       "      <td>2.560358</td>\n",
       "      <td>25.841964</td>\n",
       "      <td>Afghanistan</td>\n",
       "      <td>Asia</td>\n",
       "      <td>0.436912</td>\n",
       "      <td>5.073961e+07</td>\n",
       "    </tr>\n",
       "    <tr>\n",
       "      <th>2</th>\n",
       "      <td>2035</td>\n",
       "      <td>1.455355e+06</td>\n",
       "      <td>105605.166009</td>\n",
       "      <td>20.208889</td>\n",
       "      <td>2.689447</td>\n",
       "      <td>1.496309e+07</td>\n",
       "      <td>2.540903</td>\n",
       "      <td>26.124051</td>\n",
       "      <td>Afghanistan</td>\n",
       "      <td>Asia</td>\n",
       "      <td>0.436912</td>\n",
       "      <td>5.727707e+07</td>\n",
       "    </tr>\n",
       "    <tr>\n",
       "      <th>3</th>\n",
       "      <td>2040</td>\n",
       "      <td>1.621095e+06</td>\n",
       "      <td>153369.857515</td>\n",
       "      <td>21.303095</td>\n",
       "      <td>1.766641</td>\n",
       "      <td>1.694396e+07</td>\n",
       "      <td>2.521447</td>\n",
       "      <td>26.354597</td>\n",
       "      <td>Afghanistan</td>\n",
       "      <td>Asia</td>\n",
       "      <td>0.436912</td>\n",
       "      <td>6.429225e+07</td>\n",
       "    </tr>\n",
       "    <tr>\n",
       "      <th>4</th>\n",
       "      <td>2050</td>\n",
       "      <td>1.981075e+06</td>\n",
       "      <td>263361.280580</td>\n",
       "      <td>23.869133</td>\n",
       "      <td>-0.308712</td>\n",
       "      <td>2.129539e+07</td>\n",
       "      <td>2.483927</td>\n",
       "      <td>26.700750</td>\n",
       "      <td>Afghanistan</td>\n",
       "      <td>Asia</td>\n",
       "      <td>0.436912</td>\n",
       "      <td>7.975576e+07</td>\n",
       "    </tr>\n",
       "    <tr>\n",
       "      <th>...</th>\n",
       "      <td>...</td>\n",
       "      <td>...</td>\n",
       "      <td>...</td>\n",
       "      <td>...</td>\n",
       "      <td>...</td>\n",
       "      <td>...</td>\n",
       "      <td>...</td>\n",
       "      <td>...</td>\n",
       "      <td>...</td>\n",
       "      <td>...</td>\n",
       "      <td>...</td>\n",
       "      <td>...</td>\n",
       "    </tr>\n",
       "    <tr>\n",
       "      <th>1170</th>\n",
       "      <td>2025</td>\n",
       "      <td>1.672271e+05</td>\n",
       "      <td>-155737.231362</td>\n",
       "      <td>19.810886</td>\n",
       "      <td>3.140785</td>\n",
       "      <td>6.271365e+06</td>\n",
       "      <td>1.080287</td>\n",
       "      <td>40.513016</td>\n",
       "      <td>Zimbabwe</td>\n",
       "      <td>Africa</td>\n",
       "      <td>0.161457</td>\n",
       "      <td>1.547988e+07</td>\n",
       "    </tr>\n",
       "    <tr>\n",
       "      <th>1171</th>\n",
       "      <td>2030</td>\n",
       "      <td>1.519725e+05</td>\n",
       "      <td>-178491.551093</td>\n",
       "      <td>20.592771</td>\n",
       "      <td>2.750736</td>\n",
       "      <td>6.828640e+06</td>\n",
       "      <td>0.938394</td>\n",
       "      <td>42.165210</td>\n",
       "      <td>Zimbabwe</td>\n",
       "      <td>Africa</td>\n",
       "      <td>0.161457</td>\n",
       "      <td>1.619496e+07</td>\n",
       "    </tr>\n",
       "    <tr>\n",
       "      <th>1172</th>\n",
       "      <td>2035</td>\n",
       "      <td>1.341783e+05</td>\n",
       "      <td>-202751.706494</td>\n",
       "      <td>21.452693</td>\n",
       "      <td>2.351245</td>\n",
       "      <td>7.400911e+06</td>\n",
       "      <td>0.794758</td>\n",
       "      <td>43.836712</td>\n",
       "      <td>Zimbabwe</td>\n",
       "      <td>Africa</td>\n",
       "      <td>0.161457</td>\n",
       "      <td>1.688291e+07</td>\n",
       "    </tr>\n",
       "    <tr>\n",
       "      <th>1173</th>\n",
       "      <td>2040</td>\n",
       "      <td>1.138444e+05</td>\n",
       "      <td>-228517.697563</td>\n",
       "      <td>22.390652</td>\n",
       "      <td>1.942311</td>\n",
       "      <td>7.988179e+06</td>\n",
       "      <td>0.648919</td>\n",
       "      <td>45.533010</td>\n",
       "      <td>Zimbabwe</td>\n",
       "      <td>Africa</td>\n",
       "      <td>0.161457</td>\n",
       "      <td>1.754371e+07</td>\n",
       "    </tr>\n",
       "    <tr>\n",
       "      <th>1174</th>\n",
       "      <td>2050</td>\n",
       "      <td>6.555779e+04</td>\n",
       "      <td>-284567.186709</td>\n",
       "      <td>24.500677</td>\n",
       "      <td>1.096116</td>\n",
       "      <td>9.207706e+06</td>\n",
       "      <td>0.349011</td>\n",
       "      <td>49.019150</td>\n",
       "      <td>Zimbabwe</td>\n",
       "      <td>Africa</td>\n",
       "      <td>0.161457</td>\n",
       "      <td>1.878390e+07</td>\n",
       "    </tr>\n",
       "  </tbody>\n",
       "</table>\n",
       "<p>1175 rows × 12 columns</p>\n",
       "</div>"
      ],
      "text/plain": [
       "      Year  YearlyChange  Migrants(net)  MedianAge  FertilityRate  \\\n",
       "0     2025  1.152376e+06   24537.823051  18.398103       4.305322   \n",
       "1     2030  1.299116e+06   62661.154521  19.240558       3.535674   \n",
       "2     2035  1.455355e+06  105605.166009  20.208889       2.689447   \n",
       "3     2040  1.621095e+06  153369.857515  21.303095       1.766641   \n",
       "4     2050  1.981075e+06  263361.280580  23.869133      -0.308712   \n",
       "...    ...           ...            ...        ...            ...   \n",
       "1170  2025  1.672271e+05 -155737.231362  19.810886       3.140785   \n",
       "1171  2030  1.519725e+05 -178491.551093  20.592771       2.750736   \n",
       "1172  2035  1.341783e+05 -202751.706494  21.452693       2.351245   \n",
       "1173  2040  1.138444e+05 -228517.697563  22.390652       1.942311   \n",
       "1174  2050  6.555779e+04 -284567.186709  24.500677       1.096116   \n",
       "\n",
       "      UrbanPopulation  Yearly%Change  UrbanPop%      Country Continent  \\\n",
       "0        1.139103e+07       2.579184  25.494761  Afghanistan      Asia   \n",
       "1        1.311211e+07       2.560358  25.841964  Afghanistan      Asia   \n",
       "2        1.496309e+07       2.540903  26.124051  Afghanistan      Asia   \n",
       "3        1.694396e+07       2.521447  26.354597  Afghanistan      Asia   \n",
       "4        2.129539e+07       2.483927  26.700750  Afghanistan      Asia   \n",
       "...               ...            ...        ...          ...       ...   \n",
       "1170     6.271365e+06       1.080287  40.513016     Zimbabwe    Africa   \n",
       "1171     6.828640e+06       0.938394  42.165210     Zimbabwe    Africa   \n",
       "1172     7.400911e+06       0.794758  43.836712     Zimbabwe    Africa   \n",
       "1173     7.988179e+06       0.648919  45.533010     Zimbabwe    Africa   \n",
       "1174     9.207706e+06       0.349011  49.019150     Zimbabwe    Africa   \n",
       "\n",
       "      LossFunctCheck    Population  \n",
       "0           0.436912  4.467987e+07  \n",
       "1           0.436912  5.073961e+07  \n",
       "2           0.436912  5.727707e+07  \n",
       "3           0.436912  6.429225e+07  \n",
       "4           0.436912  7.975576e+07  \n",
       "...              ...           ...  \n",
       "1170        0.161457  1.547988e+07  \n",
       "1171        0.161457  1.619496e+07  \n",
       "1172        0.161457  1.688291e+07  \n",
       "1173        0.161457  1.754371e+07  \n",
       "1174        0.161457  1.878390e+07  \n",
       "\n",
       "[1175 rows x 12 columns]"
      ]
     },
     "execution_count": 14,
     "metadata": {},
     "output_type": "execute_result"
    }
   ],
   "source": [
    "LD2"
   ]
  },
  {
   "cell_type": "code",
   "execution_count": 15,
   "metadata": {},
   "outputs": [
    {
     "data": {
      "application/vnd.plotly.v1+json": {
       "config": {
        "plotlyServerURL": "https://plot.ly"
       },
       "data": [
        {
         "hovertemplate": "Continent=Asia<br>Country=%{x}<br>LossFunctCheck=%{y}<extra></extra>",
         "legendgroup": "Asia",
         "marker": {
          "color": "#636efa",
          "symbol": "circle"
         },
         "mode": "markers",
         "name": "Asia",
         "orientation": "v",
         "showlegend": true,
         "type": "scatter",
         "x": [
          "Afghanistan",
          "Armenia",
          "Azerbaijan",
          "Bahrain",
          "Bangladesh",
          "Bhutan",
          "Brunei ",
          "Cambodia",
          "China",
          "Cyprus",
          "Georgia",
          "Hong Kong",
          "India",
          "Indonesia",
          "Iran",
          "Iraq",
          "Israel",
          "Japan",
          "Jordan",
          "Kazakhstan",
          "Kuwait",
          "Kyrgyzstan",
          "Laos",
          "Lebanon",
          "Macao",
          "Malaysia",
          "Maldives",
          "Mongolia",
          "Myanmar",
          "Nepal",
          "North Korea",
          "Oman",
          "Pakistan",
          "Philippines",
          "Qatar",
          "Saudi Arabia",
          "Singapore",
          "South Korea",
          "Sri Lanka",
          "State of Palestine",
          "Syria",
          "Taiwan",
          "Tajikistan",
          "Thailand",
          "Timor-Leste",
          "Turkey",
          "Turkmenistan",
          "United Arab Emirates",
          "Uzbekistan",
          "Vietnam",
          "Yemen"
         ],
         "xaxis": "x",
         "y": [
          0.43691220065602204,
          0.14520436585246757,
          0.38537797023202763,
          0.07962179356766434,
          0.09625588430848135,
          0.20687117227825483,
          0.056454536102191054,
          0.2510633174719798,
          0.09113844611687992,
          0.1291313479739082,
          0.16508630613657846,
          0.2108284537724112,
          0.040062214451740435,
          0.071429580709184,
          0.16264319972137017,
          0.19573429737559414,
          0.2242897161552921,
          0.2414048139963404,
          0.38628567538313424,
          0.11240428673054585,
          0.27109461448882166,
          0.12890117837940854,
          0.10334841227843322,
          0.5609880550888676,
          0.09715711727687093,
          0.08439538068349432,
          0.06557884968020541,
          0.16326626677208686,
          0.07107065849629177,
          0.27803856355523665,
          0.10714060821929892,
          0.10487988432878231,
          0.05531666445597838,
          0.08137364302393334,
          0.18213900940833105,
          0.13335876713514747,
          0.25605629961837995,
          0.12736292395078555,
          0.05579091473627001,
          0.2793891634882857,
          0.18137917222820396,
          0.1318183849457859,
          0.08460842029032388,
          0.15829206615724356,
          0.13511659142674703,
          0.06692748994735427,
          0.12234013282665455,
          0.24006249577281166,
          0.0824580278261538,
          0.1104399483971986,
          0.190503897829407
         ],
         "yaxis": "y"
        },
        {
         "hovertemplate": "Continent=Europe<br>Country=%{x}<br>LossFunctCheck=%{y}<extra></extra>",
         "legendgroup": "Europe",
         "marker": {
          "color": "#EF553B",
          "symbol": "circle"
         },
         "mode": "markers",
         "name": "Europe",
         "orientation": "v",
         "showlegend": true,
         "type": "scatter",
         "x": [
          "Albania",
          "Andorra",
          "Austria",
          "Belarus",
          "Belgium",
          "Bosnia and Herzegovina",
          "Bulgaria",
          "Channel Islands",
          "Croatia",
          "Czech Republic (Czechia)",
          "Denmark",
          "Estonia",
          "Faeroe Islands",
          "Finland",
          "France",
          "Germany",
          "Gibraltar",
          "Greece",
          "Holy See",
          "Hungary",
          "Iceland",
          "Ireland",
          "Isle of Man",
          "Italy",
          "Latvia",
          "Liechtenstein",
          "Lithuania",
          "Luxembourg",
          "Malta",
          "Moldova",
          "Monaco",
          "Montenegro",
          "Netherlands",
          "North Macedonia",
          "Norway",
          "Poland",
          "Portugal",
          "Romania",
          "Russia",
          "San Marino",
          "Serbia",
          "Slovakia",
          "Slovenia",
          "Spain",
          "Sweden",
          "Switzerland",
          "Ukraine",
          "United Kingdom"
         ],
         "xaxis": "x",
         "y": [
          0.1441176417525011,
          0.07287037996252314,
          0.1284291820649838,
          0.11950368877892208,
          0.09170906261098123,
          0.20397196858744107,
          0.14334224265105608,
          0.15362989391433401,
          0.18588880765599117,
          0.1353032795196717,
          0.08926885590065504,
          0.1768374689148573,
          0.09807922276970112,
          0.08514805447730482,
          0.18028058696499036,
          0.15913960271131763,
          0.1652062918656391,
          0.10773976395312336,
          0.12286018440034063,
          0.17220408050107913,
          0.30909506704939943,
          0.11198666442797393,
          0.06096942502134615,
          0.12322425615167458,
          0.08528518996850411,
          0.04922479466104537,
          0.06994433072940971,
          0.05214872105897158,
          0.07346685910557695,
          0.07071845773088066,
          0.12891041273636442,
          0.1564515718403307,
          0.05234370989313164,
          0.0980619774459366,
          0.08105512123692572,
          0.1558416144477983,
          0.13854244712175315,
          0.08332288750437844,
          0.08100811200764575,
          0.10461537589244546,
          0.23308496469813092,
          0.0776997225438936,
          0.15454482738473727,
          0.18790611173470487,
          0.11576825815856617,
          0.17136386093909237,
          0.5105947614245023,
          0.11084006929481645
         ],
         "yaxis": "y"
        },
        {
         "hovertemplate": "Continent=Africa<br>Country=%{x}<br>LossFunctCheck=%{y}<extra></extra>",
         "legendgroup": "Africa",
         "marker": {
          "color": "#00cc96",
          "symbol": "circle"
         },
         "mode": "markers",
         "name": "Africa",
         "orientation": "v",
         "showlegend": true,
         "type": "scatter",
         "x": [
          "Algeria",
          "Angola",
          "Benin",
          "Botswana",
          "Burkina Faso",
          "Burundi",
          "Cabo Verde",
          "Cameroon",
          "Central African Republic",
          "Chad",
          "Comoros",
          "Congo",
          "Côte d'Ivoire",
          "DR Congo",
          "Djibouti",
          "Egypt",
          "Equatorial Guinea",
          "Eritrea",
          "Eswatini",
          "Ethiopia",
          "Gabon",
          "Gambia",
          "Ghana",
          "Guinea",
          "Guinea-Bissau",
          "Kenya",
          "Lesotho",
          "Liberia",
          "Libya",
          "Madagascar",
          "Malawi",
          "Mali",
          "Mauritania",
          "Mauritius",
          "Mayotte",
          "Morocco",
          "Mozambique",
          "Namibia",
          "Niger",
          "Nigeria",
          "Rwanda",
          "Réunion",
          "Saint Helena",
          "Sao Tome & Principe",
          "Senegal",
          "Seychelles",
          "Sierra Leone",
          "Somalia",
          "South Africa",
          "South Sudan",
          "Sudan",
          "Tanzania",
          "Togo",
          "Tunisia",
          "Uganda",
          "Western Sahara",
          "Zambia",
          "Zimbabwe"
         ],
         "xaxis": "x",
         "y": [
          0.11196653440226377,
          0.07479649218660751,
          0.11126604104004097,
          0.1106598680893604,
          0.05698962225253667,
          0.08895894992839372,
          0.19916870489744232,
          0.0517545418429294,
          0.09305054719516577,
          0.14444177138445444,
          0.0864666602900363,
          0.13344291506810665,
          0.06900385379145162,
          0.6439520133896376,
          0.1965426753505797,
          0.07773497189899405,
          0.06844099189642605,
          0.22131019272819116,
          0.09070427797160492,
          0.27772742538150846,
          0.1355148761048996,
          0.06124615410385356,
          0.16635892846276953,
          0.09144012536049696,
          0.08191883497261167,
          0.1285683460209158,
          0.19801141184695492,
          0.6764502124791113,
          0.15386779042374746,
          0.07289220864049421,
          0.41799609206618604,
          0.08991949550922311,
          0.05183029853447394,
          0.07610605808392949,
          0.1243643221590595,
          0.10988119918571258,
          0.3089158768195312,
          0.17830584466878774,
          0.06533801387963094,
          0.124172914500006,
          1.6309729338442105,
          0.3987929938089836,
          0.1983031299116773,
          0.10390433410903958,
          0.056709637557696736,
          0.3426959530534666,
          0.921158037541753,
          0.2732872663432548,
          0.06751504262193121,
          0.22896228666005533,
          0.11398646508502917,
          0.10898149402154332,
          0.3356215895075774,
          0.15400092634613602,
          0.08503547693810205,
          0.20205750778123407,
          0.11081001086376267,
          0.1614567545866455
         ],
         "yaxis": "y"
        },
        {
         "hovertemplate": "Continent=Oceania<br>Country=%{x}<br>LossFunctCheck=%{y}<extra></extra>",
         "legendgroup": "Oceania",
         "marker": {
          "color": "#ab63fa",
          "symbol": "circle"
         },
         "mode": "markers",
         "name": "Oceania",
         "orientation": "v",
         "showlegend": true,
         "type": "scatter",
         "x": [
          "American Samoa",
          "Australia",
          "Cook Islands",
          "Fiji",
          "French Polynesia",
          "Guam",
          "Kiribati",
          "Marshall Islands",
          "Micronesia",
          "Nauru",
          "New Caledonia",
          "New Zealand",
          "Niue",
          "Northern Mariana Islands",
          "Palau",
          "Papua New Guinea",
          "Samoa",
          "Solomon Islands",
          "Tokelau",
          "Tonga",
          "Tuvalu",
          "Vanuatu",
          "Wallis & Futuna"
         ],
         "xaxis": "x",
         "y": [
          0.06988384384560457,
          0.1294422972611444,
          0.20793635184809225,
          0.11378422668405663,
          0.07593170910597759,
          0.2594113185369495,
          0.09448840138251517,
          0.07828149008057587,
          0.19018317172218327,
          0.13242773297898236,
          0.17537696032926398,
          0.2731619903786318,
          0.10001265370509382,
          0.12886440843291166,
          0.15458006365312396,
          0.24494608184813996,
          0.07937620165791706,
          0.03884975031100344,
          0.09122295607817103,
          0.10851660613233523,
          0.11678827564827719,
          0.09919445137407175,
          0.0694387914647056
         ],
         "yaxis": "y"
        },
        {
         "hovertemplate": "Continent=Latin America and the Caribbean<br>Country=%{x}<br>LossFunctCheck=%{y}<extra></extra>",
         "legendgroup": "Latin America and the Caribbean",
         "marker": {
          "color": "#FFA15A",
          "symbol": "circle"
         },
         "mode": "markers",
         "name": "Latin America and the Caribbean",
         "orientation": "v",
         "showlegend": true,
         "type": "scatter",
         "x": [
          "Anguilla",
          "Antigua and Barbuda",
          "Argentina",
          "Aruba",
          "Bahamas",
          "Barbados",
          "Belize",
          "Bolivia",
          "Brazil",
          "British Virgin Islands",
          "Caribbean Netherlands",
          "Cayman Islands",
          "Chile",
          "Colombia",
          "Costa Rica",
          "Cuba",
          "Curaçao",
          "Dominica",
          "Dominican Republic",
          "Ecuador",
          "El Salvador",
          "Falkland Islands",
          "French Guiana",
          "Grenada",
          "Guadeloupe",
          "Guatemala",
          "Guyana",
          "Haiti",
          "Honduras",
          "Jamaica",
          "Martinique",
          "Mexico",
          "Montserrat",
          "Nicaragua",
          "Panama",
          "Paraguay",
          "Peru",
          "Puerto Rico",
          "Saint Kitts & Nevis",
          "Saint Lucia",
          "Saint Martin",
          "Sint Maarten",
          "St. Vincent & Grenadines",
          "Suriname",
          "Trinidad and Tobago",
          "Turks and Caicos",
          "U.S. Virgin Islands",
          "Uruguay",
          "Venezuela"
         ],
         "xaxis": "x",
         "y": [
          0.09362646723413935,
          0.2553100366677677,
          0.09037601372039895,
          0.516385874211845,
          0.3416321043383019,
          0.13804609917619762,
          0.08369540786368368,
          0.04110178863740587,
          0.0611361688409848,
          0.06735151683098285,
          0.15144820897701095,
          0.043408052403793175,
          0.08890401286891302,
          0.08877869959010522,
          0.08984097445672805,
          0.10586770459401416,
          0.17574404770754812,
          0.07687999396839797,
          0.025382652444069728,
          0.07356889382330602,
          0.06646519710455943,
          0.08576878551236078,
          0.08662945591792016,
          0.20915209069674748,
          0.29064860505985063,
          0.034327224465016105,
          0.08987792012811009,
          0.030191421304585683,
          0.03848645283058839,
          0.11671461758869238,
          0.3570810745957462,
          0.0599405193062317,
          0.2191184610412411,
          0.05142339263310094,
          0.022935610870003217,
          0.07412543511824013,
          0.1821670834600955,
          0.07447042815859849,
          0.12308867384594668,
          0.08365688734925104,
          0.1699594369887603,
          0.10802562042609014,
          0.0557257908631704,
          0.22807313802771156,
          0.09406059194915523,
          0.05888754361918661,
          0.16144605268958978,
          0.13112308001068665,
          0.08760859329353533
         ],
         "yaxis": "y"
        },
        {
         "hovertemplate": "Continent=Northern America<br>Country=%{x}<br>LossFunctCheck=%{y}<extra></extra>",
         "legendgroup": "Northern America",
         "marker": {
          "color": "#19d3f3",
          "symbol": "circle"
         },
         "mode": "markers",
         "name": "Northern America",
         "orientation": "v",
         "showlegend": true,
         "type": "scatter",
         "x": [
          "Bermuda",
          "Canada",
          "Greenland",
          "Saint Pierre & Miquelon",
          "United States"
         ],
         "xaxis": "x",
         "y": [
          0.029978261005049,
          0.09095334493346624,
          0.0616345111975376,
          0.06711215806786236,
          0.2686286232331609
         ],
         "yaxis": "y"
        },
        {
         "hovertemplate": "Continent=North America<br>Country=%{x}<br>LossFunctCheck=%{y}<extra></extra>",
         "legendgroup": "North America",
         "marker": {
          "color": "#FF6692",
          "symbol": "circle"
         },
         "mode": "markers",
         "name": "North America",
         "orientation": "v",
         "showlegend": true,
         "type": "scatter",
         "x": [
          "Saint Barthelemy"
         ],
         "xaxis": "x",
         "y": [
          0.061920114580145014
         ],
         "yaxis": "y"
        }
       ],
       "layout": {
        "legend": {
         "title": {
          "text": "Continent"
         },
         "tracegroupgap": 0
        },
        "margin": {
         "t": 60
        },
        "template": {
         "data": {
          "bar": [
           {
            "error_x": {
             "color": "#2a3f5f"
            },
            "error_y": {
             "color": "#2a3f5f"
            },
            "marker": {
             "line": {
              "color": "#E5ECF6",
              "width": 0.5
             },
             "pattern": {
              "fillmode": "overlay",
              "size": 10,
              "solidity": 0.2
             }
            },
            "type": "bar"
           }
          ],
          "barpolar": [
           {
            "marker": {
             "line": {
              "color": "#E5ECF6",
              "width": 0.5
             },
             "pattern": {
              "fillmode": "overlay",
              "size": 10,
              "solidity": 0.2
             }
            },
            "type": "barpolar"
           }
          ],
          "carpet": [
           {
            "aaxis": {
             "endlinecolor": "#2a3f5f",
             "gridcolor": "white",
             "linecolor": "white",
             "minorgridcolor": "white",
             "startlinecolor": "#2a3f5f"
            },
            "baxis": {
             "endlinecolor": "#2a3f5f",
             "gridcolor": "white",
             "linecolor": "white",
             "minorgridcolor": "white",
             "startlinecolor": "#2a3f5f"
            },
            "type": "carpet"
           }
          ],
          "choropleth": [
           {
            "colorbar": {
             "outlinewidth": 0,
             "ticks": ""
            },
            "type": "choropleth"
           }
          ],
          "contour": [
           {
            "colorbar": {
             "outlinewidth": 0,
             "ticks": ""
            },
            "colorscale": [
             [
              0,
              "#0d0887"
             ],
             [
              0.1111111111111111,
              "#46039f"
             ],
             [
              0.2222222222222222,
              "#7201a8"
             ],
             [
              0.3333333333333333,
              "#9c179e"
             ],
             [
              0.4444444444444444,
              "#bd3786"
             ],
             [
              0.5555555555555556,
              "#d8576b"
             ],
             [
              0.6666666666666666,
              "#ed7953"
             ],
             [
              0.7777777777777778,
              "#fb9f3a"
             ],
             [
              0.8888888888888888,
              "#fdca26"
             ],
             [
              1,
              "#f0f921"
             ]
            ],
            "type": "contour"
           }
          ],
          "contourcarpet": [
           {
            "colorbar": {
             "outlinewidth": 0,
             "ticks": ""
            },
            "type": "contourcarpet"
           }
          ],
          "heatmap": [
           {
            "colorbar": {
             "outlinewidth": 0,
             "ticks": ""
            },
            "colorscale": [
             [
              0,
              "#0d0887"
             ],
             [
              0.1111111111111111,
              "#46039f"
             ],
             [
              0.2222222222222222,
              "#7201a8"
             ],
             [
              0.3333333333333333,
              "#9c179e"
             ],
             [
              0.4444444444444444,
              "#bd3786"
             ],
             [
              0.5555555555555556,
              "#d8576b"
             ],
             [
              0.6666666666666666,
              "#ed7953"
             ],
             [
              0.7777777777777778,
              "#fb9f3a"
             ],
             [
              0.8888888888888888,
              "#fdca26"
             ],
             [
              1,
              "#f0f921"
             ]
            ],
            "type": "heatmap"
           }
          ],
          "heatmapgl": [
           {
            "colorbar": {
             "outlinewidth": 0,
             "ticks": ""
            },
            "colorscale": [
             [
              0,
              "#0d0887"
             ],
             [
              0.1111111111111111,
              "#46039f"
             ],
             [
              0.2222222222222222,
              "#7201a8"
             ],
             [
              0.3333333333333333,
              "#9c179e"
             ],
             [
              0.4444444444444444,
              "#bd3786"
             ],
             [
              0.5555555555555556,
              "#d8576b"
             ],
             [
              0.6666666666666666,
              "#ed7953"
             ],
             [
              0.7777777777777778,
              "#fb9f3a"
             ],
             [
              0.8888888888888888,
              "#fdca26"
             ],
             [
              1,
              "#f0f921"
             ]
            ],
            "type": "heatmapgl"
           }
          ],
          "histogram": [
           {
            "marker": {
             "pattern": {
              "fillmode": "overlay",
              "size": 10,
              "solidity": 0.2
             }
            },
            "type": "histogram"
           }
          ],
          "histogram2d": [
           {
            "colorbar": {
             "outlinewidth": 0,
             "ticks": ""
            },
            "colorscale": [
             [
              0,
              "#0d0887"
             ],
             [
              0.1111111111111111,
              "#46039f"
             ],
             [
              0.2222222222222222,
              "#7201a8"
             ],
             [
              0.3333333333333333,
              "#9c179e"
             ],
             [
              0.4444444444444444,
              "#bd3786"
             ],
             [
              0.5555555555555556,
              "#d8576b"
             ],
             [
              0.6666666666666666,
              "#ed7953"
             ],
             [
              0.7777777777777778,
              "#fb9f3a"
             ],
             [
              0.8888888888888888,
              "#fdca26"
             ],
             [
              1,
              "#f0f921"
             ]
            ],
            "type": "histogram2d"
           }
          ],
          "histogram2dcontour": [
           {
            "colorbar": {
             "outlinewidth": 0,
             "ticks": ""
            },
            "colorscale": [
             [
              0,
              "#0d0887"
             ],
             [
              0.1111111111111111,
              "#46039f"
             ],
             [
              0.2222222222222222,
              "#7201a8"
             ],
             [
              0.3333333333333333,
              "#9c179e"
             ],
             [
              0.4444444444444444,
              "#bd3786"
             ],
             [
              0.5555555555555556,
              "#d8576b"
             ],
             [
              0.6666666666666666,
              "#ed7953"
             ],
             [
              0.7777777777777778,
              "#fb9f3a"
             ],
             [
              0.8888888888888888,
              "#fdca26"
             ],
             [
              1,
              "#f0f921"
             ]
            ],
            "type": "histogram2dcontour"
           }
          ],
          "mesh3d": [
           {
            "colorbar": {
             "outlinewidth": 0,
             "ticks": ""
            },
            "type": "mesh3d"
           }
          ],
          "parcoords": [
           {
            "line": {
             "colorbar": {
              "outlinewidth": 0,
              "ticks": ""
             }
            },
            "type": "parcoords"
           }
          ],
          "pie": [
           {
            "automargin": true,
            "type": "pie"
           }
          ],
          "scatter": [
           {
            "fillpattern": {
             "fillmode": "overlay",
             "size": 10,
             "solidity": 0.2
            },
            "type": "scatter"
           }
          ],
          "scatter3d": [
           {
            "line": {
             "colorbar": {
              "outlinewidth": 0,
              "ticks": ""
             }
            },
            "marker": {
             "colorbar": {
              "outlinewidth": 0,
              "ticks": ""
             }
            },
            "type": "scatter3d"
           }
          ],
          "scattercarpet": [
           {
            "marker": {
             "colorbar": {
              "outlinewidth": 0,
              "ticks": ""
             }
            },
            "type": "scattercarpet"
           }
          ],
          "scattergeo": [
           {
            "marker": {
             "colorbar": {
              "outlinewidth": 0,
              "ticks": ""
             }
            },
            "type": "scattergeo"
           }
          ],
          "scattergl": [
           {
            "marker": {
             "colorbar": {
              "outlinewidth": 0,
              "ticks": ""
             }
            },
            "type": "scattergl"
           }
          ],
          "scattermapbox": [
           {
            "marker": {
             "colorbar": {
              "outlinewidth": 0,
              "ticks": ""
             }
            },
            "type": "scattermapbox"
           }
          ],
          "scatterpolar": [
           {
            "marker": {
             "colorbar": {
              "outlinewidth": 0,
              "ticks": ""
             }
            },
            "type": "scatterpolar"
           }
          ],
          "scatterpolargl": [
           {
            "marker": {
             "colorbar": {
              "outlinewidth": 0,
              "ticks": ""
             }
            },
            "type": "scatterpolargl"
           }
          ],
          "scatterternary": [
           {
            "marker": {
             "colorbar": {
              "outlinewidth": 0,
              "ticks": ""
             }
            },
            "type": "scatterternary"
           }
          ],
          "surface": [
           {
            "colorbar": {
             "outlinewidth": 0,
             "ticks": ""
            },
            "colorscale": [
             [
              0,
              "#0d0887"
             ],
             [
              0.1111111111111111,
              "#46039f"
             ],
             [
              0.2222222222222222,
              "#7201a8"
             ],
             [
              0.3333333333333333,
              "#9c179e"
             ],
             [
              0.4444444444444444,
              "#bd3786"
             ],
             [
              0.5555555555555556,
              "#d8576b"
             ],
             [
              0.6666666666666666,
              "#ed7953"
             ],
             [
              0.7777777777777778,
              "#fb9f3a"
             ],
             [
              0.8888888888888888,
              "#fdca26"
             ],
             [
              1,
              "#f0f921"
             ]
            ],
            "type": "surface"
           }
          ],
          "table": [
           {
            "cells": {
             "fill": {
              "color": "#EBF0F8"
             },
             "line": {
              "color": "white"
             }
            },
            "header": {
             "fill": {
              "color": "#C8D4E3"
             },
             "line": {
              "color": "white"
             }
            },
            "type": "table"
           }
          ]
         },
         "layout": {
          "annotationdefaults": {
           "arrowcolor": "#2a3f5f",
           "arrowhead": 0,
           "arrowwidth": 1
          },
          "autotypenumbers": "strict",
          "coloraxis": {
           "colorbar": {
            "outlinewidth": 0,
            "ticks": ""
           }
          },
          "colorscale": {
           "diverging": [
            [
             0,
             "#8e0152"
            ],
            [
             0.1,
             "#c51b7d"
            ],
            [
             0.2,
             "#de77ae"
            ],
            [
             0.3,
             "#f1b6da"
            ],
            [
             0.4,
             "#fde0ef"
            ],
            [
             0.5,
             "#f7f7f7"
            ],
            [
             0.6,
             "#e6f5d0"
            ],
            [
             0.7,
             "#b8e186"
            ],
            [
             0.8,
             "#7fbc41"
            ],
            [
             0.9,
             "#4d9221"
            ],
            [
             1,
             "#276419"
            ]
           ],
           "sequential": [
            [
             0,
             "#0d0887"
            ],
            [
             0.1111111111111111,
             "#46039f"
            ],
            [
             0.2222222222222222,
             "#7201a8"
            ],
            [
             0.3333333333333333,
             "#9c179e"
            ],
            [
             0.4444444444444444,
             "#bd3786"
            ],
            [
             0.5555555555555556,
             "#d8576b"
            ],
            [
             0.6666666666666666,
             "#ed7953"
            ],
            [
             0.7777777777777778,
             "#fb9f3a"
            ],
            [
             0.8888888888888888,
             "#fdca26"
            ],
            [
             1,
             "#f0f921"
            ]
           ],
           "sequentialminus": [
            [
             0,
             "#0d0887"
            ],
            [
             0.1111111111111111,
             "#46039f"
            ],
            [
             0.2222222222222222,
             "#7201a8"
            ],
            [
             0.3333333333333333,
             "#9c179e"
            ],
            [
             0.4444444444444444,
             "#bd3786"
            ],
            [
             0.5555555555555556,
             "#d8576b"
            ],
            [
             0.6666666666666666,
             "#ed7953"
            ],
            [
             0.7777777777777778,
             "#fb9f3a"
            ],
            [
             0.8888888888888888,
             "#fdca26"
            ],
            [
             1,
             "#f0f921"
            ]
           ]
          },
          "colorway": [
           "#636efa",
           "#EF553B",
           "#00cc96",
           "#ab63fa",
           "#FFA15A",
           "#19d3f3",
           "#FF6692",
           "#B6E880",
           "#FF97FF",
           "#FECB52"
          ],
          "font": {
           "color": "#2a3f5f"
          },
          "geo": {
           "bgcolor": "white",
           "lakecolor": "white",
           "landcolor": "#E5ECF6",
           "showlakes": true,
           "showland": true,
           "subunitcolor": "white"
          },
          "hoverlabel": {
           "align": "left"
          },
          "hovermode": "closest",
          "mapbox": {
           "style": "light"
          },
          "paper_bgcolor": "white",
          "plot_bgcolor": "#E5ECF6",
          "polar": {
           "angularaxis": {
            "gridcolor": "white",
            "linecolor": "white",
            "ticks": ""
           },
           "bgcolor": "#E5ECF6",
           "radialaxis": {
            "gridcolor": "white",
            "linecolor": "white",
            "ticks": ""
           }
          },
          "scene": {
           "xaxis": {
            "backgroundcolor": "#E5ECF6",
            "gridcolor": "white",
            "gridwidth": 2,
            "linecolor": "white",
            "showbackground": true,
            "ticks": "",
            "zerolinecolor": "white"
           },
           "yaxis": {
            "backgroundcolor": "#E5ECF6",
            "gridcolor": "white",
            "gridwidth": 2,
            "linecolor": "white",
            "showbackground": true,
            "ticks": "",
            "zerolinecolor": "white"
           },
           "zaxis": {
            "backgroundcolor": "#E5ECF6",
            "gridcolor": "white",
            "gridwidth": 2,
            "linecolor": "white",
            "showbackground": true,
            "ticks": "",
            "zerolinecolor": "white"
           }
          },
          "shapedefaults": {
           "line": {
            "color": "#2a3f5f"
           }
          },
          "ternary": {
           "aaxis": {
            "gridcolor": "white",
            "linecolor": "white",
            "ticks": ""
           },
           "baxis": {
            "gridcolor": "white",
            "linecolor": "white",
            "ticks": ""
           },
           "bgcolor": "#E5ECF6",
           "caxis": {
            "gridcolor": "white",
            "linecolor": "white",
            "ticks": ""
           }
          },
          "title": {
           "x": 0.05
          },
          "xaxis": {
           "automargin": true,
           "gridcolor": "white",
           "linecolor": "white",
           "ticks": "",
           "title": {
            "standoff": 15
           },
           "zerolinecolor": "white",
           "zerolinewidth": 2
          },
          "yaxis": {
           "automargin": true,
           "gridcolor": "white",
           "linecolor": "white",
           "ticks": "",
           "title": {
            "standoff": 15
           },
           "zerolinecolor": "white",
           "zerolinewidth": 2
          }
         }
        },
        "xaxis": {
         "anchor": "y",
         "domain": [
          0,
          1
         ],
         "title": {
          "text": "Country"
         },
         "visible": false
        },
        "yaxis": {
         "anchor": "x",
         "domain": [
          0,
          1
         ],
         "range": [
          0,
          5
         ],
         "title": {
          "text": "LossFunctCheck"
         }
        }
       }
      }
     },
     "metadata": {},
     "output_type": "display_data"
    }
   ],
   "source": [
    "fig=px.scatter(LD2[LD2['Year']==2050], x=\"Country\", y=\"LossFunctCheck\",range_y=[0,5],\n",
    "        color=\"Continent\")\n",
    "\n",
    "fig.update_xaxes(visible=False)\n",
    "fig.show()"
   ]
  },
  {
   "attachments": {},
   "cell_type": "markdown",
   "metadata": {},
   "source": [
    "Điểm trừ của LD2 : Overfit, không phù hợp để chuẩn đoán các mốc thời gian xa hơn, tuy nhiên rất tốt để chuẩn đoán các giá trị liền kề"
   ]
  },
  {
   "attachments": {},
   "cell_type": "markdown",
   "metadata": {},
   "source": [
    "Ta đặt mốc ổn định của thế giới là năm 1990 (tình hình thế giới có thể được coi là ít xung độ vũ trang) để cải tiến dự đoán của leaner1"
   ]
  },
  {
   "cell_type": "code",
   "execution_count": 16,
   "metadata": {},
   "outputs": [
    {
     "data": {
      "text/html": [
       "<div>\n",
       "<style scoped>\n",
       "    .dataframe tbody tr th:only-of-type {\n",
       "        vertical-align: middle;\n",
       "    }\n",
       "\n",
       "    .dataframe tbody tr th {\n",
       "        vertical-align: top;\n",
       "    }\n",
       "\n",
       "    .dataframe thead th {\n",
       "        text-align: right;\n",
       "    }\n",
       "</style>\n",
       "<table border=\"1\" class=\"dataframe\">\n",
       "  <thead>\n",
       "    <tr style=\"text-align: right;\">\n",
       "      <th></th>\n",
       "      <th>Year</th>\n",
       "      <th>YearlyChange</th>\n",
       "      <th>Migrants(net)</th>\n",
       "      <th>MedianAge</th>\n",
       "      <th>FertilityRate</th>\n",
       "      <th>UrbanPopulation</th>\n",
       "      <th>Yearly%Change</th>\n",
       "      <th>UrbanPop%</th>\n",
       "      <th>Country</th>\n",
       "      <th>Continent</th>\n",
       "      <th>LossFunctCheck</th>\n",
       "      <th>Population</th>\n",
       "    </tr>\n",
       "  </thead>\n",
       "  <tbody>\n",
       "    <tr>\n",
       "      <th>0</th>\n",
       "      <td>2025</td>\n",
       "      <td>1.043706e+06</td>\n",
       "      <td>-70941.417972</td>\n",
       "      <td>17.952350</td>\n",
       "      <td>4.538854</td>\n",
       "      <td>1.089753e+07</td>\n",
       "      <td>2.420311</td>\n",
       "      <td>25.270914</td>\n",
       "      <td>Afghanistan</td>\n",
       "      <td>Asia</td>\n",
       "      <td>0.438159</td>\n",
       "      <td>4.312282e+07</td>\n",
       "    </tr>\n",
       "    <tr>\n",
       "      <th>1</th>\n",
       "      <td>2030</td>\n",
       "      <td>1.116381e+06</td>\n",
       "      <td>-89952.464963</td>\n",
       "      <td>18.336933</td>\n",
       "      <td>4.027601</td>\n",
       "      <td>1.212830e+07</td>\n",
       "      <td>2.351515</td>\n",
       "      <td>25.546706</td>\n",
       "      <td>Afghanistan</td>\n",
       "      <td>Asia</td>\n",
       "      <td>0.438159</td>\n",
       "      <td>4.747499e+07</td>\n",
       "    </tr>\n",
       "    <tr>\n",
       "      <th>2</th>\n",
       "      <td>2035</td>\n",
       "      <td>1.189056e+06</td>\n",
       "      <td>-108963.511954</td>\n",
       "      <td>18.721517</td>\n",
       "      <td>3.516348</td>\n",
       "      <td>1.335906e+07</td>\n",
       "      <td>2.294273</td>\n",
       "      <td>25.776180</td>\n",
       "      <td>Afghanistan</td>\n",
       "      <td>Asia</td>\n",
       "      <td>0.438159</td>\n",
       "      <td>5.182715e+07</td>\n",
       "    </tr>\n",
       "    <tr>\n",
       "      <th>3</th>\n",
       "      <td>2040</td>\n",
       "      <td>1.261731e+06</td>\n",
       "      <td>-127974.558945</td>\n",
       "      <td>19.106101</td>\n",
       "      <td>3.005095</td>\n",
       "      <td>1.458982e+07</td>\n",
       "      <td>2.245900</td>\n",
       "      <td>25.970099</td>\n",
       "      <td>Afghanistan</td>\n",
       "      <td>Asia</td>\n",
       "      <td>0.438159</td>\n",
       "      <td>5.617932e+07</td>\n",
       "    </tr>\n",
       "    <tr>\n",
       "      <th>4</th>\n",
       "      <td>2050</td>\n",
       "      <td>1.407081e+06</td>\n",
       "      <td>-165996.652927</td>\n",
       "      <td>19.875268</td>\n",
       "      <td>1.982589</td>\n",
       "      <td>1.705135e+07</td>\n",
       "      <td>2.168622</td>\n",
       "      <td>26.279893</td>\n",
       "      <td>Afghanistan</td>\n",
       "      <td>Asia</td>\n",
       "      <td>0.438159</td>\n",
       "      <td>6.488365e+07</td>\n",
       "    </tr>\n",
       "    <tr>\n",
       "      <th>...</th>\n",
       "      <td>...</td>\n",
       "      <td>...</td>\n",
       "      <td>...</td>\n",
       "      <td>...</td>\n",
       "      <td>...</td>\n",
       "      <td>...</td>\n",
       "      <td>...</td>\n",
       "      <td>...</td>\n",
       "      <td>...</td>\n",
       "      <td>...</td>\n",
       "      <td>...</td>\n",
       "      <td>...</td>\n",
       "    </tr>\n",
       "    <tr>\n",
       "      <th>1170</th>\n",
       "      <td>2025</td>\n",
       "      <td>1.870439e+05</td>\n",
       "      <td>-148825.326463</td>\n",
       "      <td>18.942374</td>\n",
       "      <td>3.607345</td>\n",
       "      <td>6.033273e+06</td>\n",
       "      <td>1.221004</td>\n",
       "      <td>39.384611</td>\n",
       "      <td>Zimbabwe</td>\n",
       "      <td>Africa</td>\n",
       "      <td>3.104178</td>\n",
       "      <td>1.531886e+07</td>\n",
       "    </tr>\n",
       "    <tr>\n",
       "      <th>1171</th>\n",
       "      <td>2030</td>\n",
       "      <td>1.876839e+05</td>\n",
       "      <td>-164660.079143</td>\n",
       "      <td>19.167848</td>\n",
       "      <td>3.451781</td>\n",
       "      <td>6.451871e+06</td>\n",
       "      <td>1.171257</td>\n",
       "      <td>40.263437</td>\n",
       "      <td>Zimbabwe</td>\n",
       "      <td>Africa</td>\n",
       "      <td>3.104178</td>\n",
       "      <td>1.602414e+07</td>\n",
       "    </tr>\n",
       "    <tr>\n",
       "      <th>1172</th>\n",
       "      <td>2035</td>\n",
       "      <td>1.883239e+05</td>\n",
       "      <td>-180494.831822</td>\n",
       "      <td>19.393322</td>\n",
       "      <td>3.296216</td>\n",
       "      <td>6.870469e+06</td>\n",
       "      <td>1.125704</td>\n",
       "      <td>41.068164</td>\n",
       "      <td>Zimbabwe</td>\n",
       "      <td>Africa</td>\n",
       "      <td>3.104178</td>\n",
       "      <td>1.672943e+07</td>\n",
       "    </tr>\n",
       "    <tr>\n",
       "      <th>1173</th>\n",
       "      <td>2040</td>\n",
       "      <td>1.889639e+05</td>\n",
       "      <td>-196329.584501</td>\n",
       "      <td>19.618796</td>\n",
       "      <td>3.140651</td>\n",
       "      <td>7.289066e+06</td>\n",
       "      <td>1.083837</td>\n",
       "      <td>41.807785</td>\n",
       "      <td>Zimbabwe</td>\n",
       "      <td>Africa</td>\n",
       "      <td>3.104178</td>\n",
       "      <td>1.743471e+07</td>\n",
       "    </tr>\n",
       "    <tr>\n",
       "      <th>1174</th>\n",
       "      <td>2050</td>\n",
       "      <td>1.902439e+05</td>\n",
       "      <td>-227999.089860</td>\n",
       "      <td>20.069744</td>\n",
       "      <td>2.829522</td>\n",
       "      <td>8.126262e+06</td>\n",
       "      <td>1.009504</td>\n",
       "      <td>43.120943</td>\n",
       "      <td>Zimbabwe</td>\n",
       "      <td>Africa</td>\n",
       "      <td>3.104178</td>\n",
       "      <td>1.884528e+07</td>\n",
       "    </tr>\n",
       "  </tbody>\n",
       "</table>\n",
       "<p>1175 rows × 12 columns</p>\n",
       "</div>"
      ],
      "text/plain": [
       "      Year  YearlyChange  Migrants(net)  MedianAge  FertilityRate  \\\n",
       "0     2025  1.043706e+06  -70941.417972  17.952350       4.538854   \n",
       "1     2030  1.116381e+06  -89952.464963  18.336933       4.027601   \n",
       "2     2035  1.189056e+06 -108963.511954  18.721517       3.516348   \n",
       "3     2040  1.261731e+06 -127974.558945  19.106101       3.005095   \n",
       "4     2050  1.407081e+06 -165996.652927  19.875268       1.982589   \n",
       "...    ...           ...            ...        ...            ...   \n",
       "1170  2025  1.870439e+05 -148825.326463  18.942374       3.607345   \n",
       "1171  2030  1.876839e+05 -164660.079143  19.167848       3.451781   \n",
       "1172  2035  1.883239e+05 -180494.831822  19.393322       3.296216   \n",
       "1173  2040  1.889639e+05 -196329.584501  19.618796       3.140651   \n",
       "1174  2050  1.902439e+05 -227999.089860  20.069744       2.829522   \n",
       "\n",
       "      UrbanPopulation  Yearly%Change  UrbanPop%      Country Continent  \\\n",
       "0        1.089753e+07       2.420311  25.270914  Afghanistan      Asia   \n",
       "1        1.212830e+07       2.351515  25.546706  Afghanistan      Asia   \n",
       "2        1.335906e+07       2.294273  25.776180  Afghanistan      Asia   \n",
       "3        1.458982e+07       2.245900  25.970099  Afghanistan      Asia   \n",
       "4        1.705135e+07       2.168622  26.279893  Afghanistan      Asia   \n",
       "...               ...            ...        ...          ...       ...   \n",
       "1170     6.033273e+06       1.221004  39.384611     Zimbabwe    Africa   \n",
       "1171     6.451871e+06       1.171257  40.263437     Zimbabwe    Africa   \n",
       "1172     6.870469e+06       1.125704  41.068164     Zimbabwe    Africa   \n",
       "1173     7.289066e+06       1.083837  41.807785     Zimbabwe    Africa   \n",
       "1174     8.126262e+06       1.009504  43.120943     Zimbabwe    Africa   \n",
       "\n",
       "      LossFunctCheck    Population  \n",
       "0           0.438159  4.312282e+07  \n",
       "1           0.438159  4.747499e+07  \n",
       "2           0.438159  5.182715e+07  \n",
       "3           0.438159  5.617932e+07  \n",
       "4           0.438159  6.488365e+07  \n",
       "...              ...           ...  \n",
       "1170        3.104178  1.531886e+07  \n",
       "1171        3.104178  1.602414e+07  \n",
       "1172        3.104178  1.672943e+07  \n",
       "1173        3.104178  1.743471e+07  \n",
       "1174        3.104178  1.884528e+07  \n",
       "\n",
       "[1175 rows x 12 columns]"
      ]
     },
     "execution_count": 16,
     "metadata": {},
     "output_type": "execute_result"
    }
   ],
   "source": [
    "LD3=[i for i in gen_linear(df[df['Year']>=1990],linear_regression_1,[2025,2030,2035,2040,2050]) ]\n",
    "LD3=pd.DataFrame(LD3)\n",
    "LD3"
   ]
  },
  {
   "cell_type": "code",
   "execution_count": 17,
   "metadata": {},
   "outputs": [
    {
     "data": {
      "application/vnd.plotly.v1+json": {
       "config": {
        "plotlyServerURL": "https://plot.ly"
       },
       "data": [
        {
         "hovertemplate": "Continent=Asia<br>Country=%{x}<br>LossFunctCheck=%{y}<extra></extra>",
         "legendgroup": "Asia",
         "marker": {
          "color": "#636efa",
          "symbol": "circle"
         },
         "mode": "markers",
         "name": "Asia",
         "orientation": "v",
         "showlegend": true,
         "type": "scatter",
         "x": [
          "Afghanistan",
          "Armenia",
          "Azerbaijan",
          "Bahrain",
          "Bangladesh",
          "Bhutan",
          "Brunei ",
          "Cambodia",
          "China",
          "Cyprus",
          "Georgia",
          "Hong Kong",
          "India",
          "Indonesia",
          "Iran",
          "Iraq",
          "Israel",
          "Japan",
          "Jordan",
          "Kazakhstan",
          "Kuwait",
          "Kyrgyzstan",
          "Laos",
          "Lebanon",
          "Macao",
          "Malaysia",
          "Maldives",
          "Mongolia",
          "Myanmar",
          "Nepal",
          "North Korea",
          "Oman",
          "Pakistan",
          "Philippines",
          "Qatar",
          "Saudi Arabia",
          "Singapore",
          "South Korea",
          "Sri Lanka",
          "State of Palestine",
          "Syria",
          "Taiwan",
          "Tajikistan",
          "Thailand",
          "Timor-Leste",
          "Turkey",
          "Turkmenistan",
          "United Arab Emirates",
          "Uzbekistan",
          "Vietnam",
          "Yemen"
         ],
         "xaxis": "x",
         "y": [
          0.43815909062991926,
          0.31340458521369774,
          0.6028059833943894,
          0.10418826757874179,
          0.08665521563533041,
          1.5667620303719099,
          0.07531780203246845,
          0.15979189711605277,
          0.0854611572030005,
          0.2343542460097611,
          0.302995916168777,
          0.24346505356244494,
          0.05399767392377433,
          0.3137178983849876,
          0.27469806619604664,
          0.1789709681534201,
          0.26576823785298864,
          0.15099232353502975,
          3.0570416282076356,
          0.18117129069137783,
          0.23889904207545357,
          0.13302644536882968,
          0.6327615716199527,
          2.0058683413463805,
          0.8527546983499977,
          0.17238756145155862,
          0.09384027738253814,
          0.1729765373346274,
          0.1598638816824466,
          0.8117466676916895,
          0.04993160625955783,
          0.142386097811575,
          0.0745669840266316,
          0.3259966628255395,
          0.3024540331103581,
          0.26408792076348303,
          0.6509469444713228,
          0.5106675230529912,
          0.07697438699996455,
          0.24108002203609083,
          0.27669346684779494,
          0.10459750762402108,
          0.24632986687449657,
          0.45906268155013313,
          0.3860660301995558,
          0.12218384348941558,
          8.846237594245093,
          4.755592829476298,
          0.12722586565463906,
          0.4757499660598288,
          0.13233677843706365
         ],
         "yaxis": "y"
        },
        {
         "hovertemplate": "Continent=Europe<br>Country=%{x}<br>LossFunctCheck=%{y}<extra></extra>",
         "legendgroup": "Europe",
         "marker": {
          "color": "#EF553B",
          "symbol": "circle"
         },
         "mode": "markers",
         "name": "Europe",
         "orientation": "v",
         "showlegend": true,
         "type": "scatter",
         "x": [
          "Albania",
          "Andorra",
          "Austria",
          "Belarus",
          "Belgium",
          "Bosnia and Herzegovina",
          "Bulgaria",
          "Channel Islands",
          "Croatia",
          "Czech Republic (Czechia)",
          "Denmark",
          "Estonia",
          "Faeroe Islands",
          "Finland",
          "France",
          "Germany",
          "Gibraltar",
          "Greece",
          "Holy See",
          "Hungary",
          "Iceland",
          "Ireland",
          "Isle of Man",
          "Italy",
          "Latvia",
          "Liechtenstein",
          "Lithuania",
          "Luxembourg",
          "Malta",
          "Moldova",
          "Monaco",
          "Montenegro",
          "Netherlands",
          "North Macedonia",
          "Norway",
          "Poland",
          "Portugal",
          "Romania",
          "Russia",
          "San Marino",
          "Serbia",
          "Slovakia",
          "Slovenia",
          "Spain",
          "Sweden",
          "Switzerland",
          "Ukraine",
          "United Kingdom"
         ],
         "xaxis": "x",
         "y": [
          0.2993544312282365,
          0.14153820158739608,
          0.146234042528322,
          8.880596480793292,
          0.09781248535780666,
          1.4173099733527488,
          0.2616710197474651,
          0.15763931526166258,
          0.42422306152518674,
          0.2772970375205464,
          0.1462463326329301,
          0.26926676052325976,
          0.6738375494293788,
          0.14411946441498924,
          0.5672833753977201,
          0.3797929800732524,
          0.24035201530622408,
          0.3961335127150892,
          0.056228281600456474,
          2.8948710582001866,
          0.6433779863738021,
          0.194269678915761,
          0.09661122825315156,
          0.7697211719803331,
          0.22353706271999685,
          0.0621354206089526,
          0.07743534264327462,
          0.06466287137839037,
          0.22455378522952565,
          0.2091226928838571,
          0.07070489389251174,
          1.25444967257587,
          0.07019934190791645,
          0.27325163260073243,
          0.09977080114251129,
          0.35887924146006495,
          0.3578388118027496,
          0.6836014196882082,
          0.7722096821340733,
          0.09230127520648863,
          0.6316760870015333,
          0.13920917473953934,
          1.6202817827758047,
          0.5251061004044699,
          0.15517031568033576,
          0.17149985242502008,
          0.2855134522672909,
          0.11736000054803374
         ],
         "yaxis": "y"
        },
        {
         "hovertemplate": "Continent=Africa<br>Country=%{x}<br>LossFunctCheck=%{y}<extra></extra>",
         "legendgroup": "Africa",
         "marker": {
          "color": "#00cc96",
          "symbol": "circle"
         },
         "mode": "markers",
         "name": "Africa",
         "orientation": "v",
         "showlegend": true,
         "type": "scatter",
         "x": [
          "Algeria",
          "Angola",
          "Benin",
          "Botswana",
          "Burkina Faso",
          "Burundi",
          "Cabo Verde",
          "Cameroon",
          "Central African Republic",
          "Chad",
          "Comoros",
          "Congo",
          "Côte d'Ivoire",
          "DR Congo",
          "Djibouti",
          "Egypt",
          "Equatorial Guinea",
          "Eritrea",
          "Eswatini",
          "Ethiopia",
          "Gabon",
          "Gambia",
          "Ghana",
          "Guinea",
          "Guinea-Bissau",
          "Kenya",
          "Lesotho",
          "Liberia",
          "Libya",
          "Madagascar",
          "Malawi",
          "Mali",
          "Mauritania",
          "Mauritius",
          "Mayotte",
          "Morocco",
          "Mozambique",
          "Namibia",
          "Niger",
          "Nigeria",
          "Rwanda",
          "Réunion",
          "Saint Helena",
          "Sao Tome & Principe",
          "Senegal",
          "Seychelles",
          "Sierra Leone",
          "Somalia",
          "South Africa",
          "South Sudan",
          "Sudan",
          "Tanzania",
          "Togo",
          "Tunisia",
          "Uganda",
          "Western Sahara",
          "Zambia",
          "Zimbabwe"
         ],
         "xaxis": "x",
         "y": [
          0.24518186033769004,
          0.10901556191243349,
          0.1214017047266353,
          0.264339810346242,
          0.05827238343825638,
          0.09585854800156109,
          0.2095180376259028,
          0.15991432407718023,
          0.4387240181336393,
          0.7614055904427585,
          0.049103143485210325,
          0.12874927289359298,
          0.10857698105802523,
          0.6541740276580805,
          0.31979048579077923,
          0.19027190505992864,
          0.045110647492797716,
          0.5612469146219963,
          0.11486030568808024,
          0.11888942065745663,
          0.22465083217250362,
          0.07434052225420716,
          1.9805788705094995,
          0.3357594855483321,
          0.05797598964473039,
          0.10652486001024342,
          0.6485610723695586,
          0.27190440431933055,
          0.4704108604534089,
          0.04688522170251871,
          0.3691126716547904,
          0.19392109084624143,
          0.04341254514373832,
          0.12972179971449282,
          0.06932455295024252,
          0.27387855999991256,
          0.19534708257333455,
          0.230341007959722,
          0.06361253952093533,
          0.043100892316781436,
          0.7623372689299684,
          0.10967992342759297,
          0.24427646569337602,
          0.1318109536490454,
          3.683908154718525,
          0.8717960007206251,
          0.44694256210706057,
          0.15543723460219822,
          0.5561471830497282,
          0.5508537423363419,
          0.16364962273071007,
          0.133596237953968,
          0.2835334322714741,
          0.2205207050673126,
          0.12798931781858938,
          1.405093872261885,
          0.19637342963594948,
          3.1041778566058618
         ],
         "yaxis": "y"
        },
        {
         "hovertemplate": "Continent=Oceania<br>Country=%{x}<br>LossFunctCheck=%{y}<extra></extra>",
         "legendgroup": "Oceania",
         "marker": {
          "color": "#ab63fa",
          "symbol": "circle"
         },
         "mode": "markers",
         "name": "Oceania",
         "orientation": "v",
         "showlegend": true,
         "type": "scatter",
         "x": [
          "American Samoa",
          "Australia",
          "Cook Islands",
          "Fiji",
          "French Polynesia",
          "Guam",
          "Kiribati",
          "Marshall Islands",
          "Micronesia",
          "Nauru",
          "New Caledonia",
          "New Zealand",
          "Niue",
          "Northern Mariana Islands",
          "Palau",
          "Papua New Guinea",
          "Samoa",
          "Solomon Islands",
          "Tokelau",
          "Tonga",
          "Tuvalu",
          "Vanuatu",
          "Wallis & Futuna"
         ],
         "xaxis": "x",
         "y": [
          0.21489989640681584,
          0.15699852473690537,
          0.2586578878709696,
          0.6662787594496203,
          0.11444349337200967,
          0.32519614105295874,
          0.20600326899771923,
          0.08184483603516701,
          0.2716462237538851,
          0.3338021433765297,
          0.35005744643487674,
          0.619853946164847,
          0.15199717798881668,
          0.14581197718946057,
          0.222272294998369,
          0.27528246009452034,
          1.3417719610330778,
          0.3755986751287225,
          0.12095780017908368,
          0.20228675775512137,
          0.10185360072922754,
          0.0867942835537082,
          0.09179529132777109
         ],
         "yaxis": "y"
        },
        {
         "hovertemplate": "Continent=Latin America and the Caribbean<br>Country=%{x}<br>LossFunctCheck=%{y}<extra></extra>",
         "legendgroup": "Latin America and the Caribbean",
         "marker": {
          "color": "#FFA15A",
          "symbol": "circle"
         },
         "mode": "markers",
         "name": "Latin America and the Caribbean",
         "orientation": "v",
         "showlegend": true,
         "type": "scatter",
         "x": [
          "Anguilla",
          "Antigua and Barbuda",
          "Argentina",
          "Aruba",
          "Bahamas",
          "Barbados",
          "Belize",
          "Bolivia",
          "Brazil",
          "British Virgin Islands",
          "Caribbean Netherlands",
          "Cayman Islands",
          "Chile",
          "Colombia",
          "Costa Rica",
          "Cuba",
          "Curaçao",
          "Dominica",
          "Dominican Republic",
          "Ecuador",
          "El Salvador",
          "Falkland Islands",
          "French Guiana",
          "Grenada",
          "Guadeloupe",
          "Guatemala",
          "Guyana",
          "Haiti",
          "Honduras",
          "Jamaica",
          "Martinique",
          "Mexico",
          "Montserrat",
          "Nicaragua",
          "Panama",
          "Paraguay",
          "Peru",
          "Puerto Rico",
          "Saint Kitts & Nevis",
          "Saint Lucia",
          "Saint Martin",
          "Sint Maarten",
          "St. Vincent & Grenadines",
          "Suriname",
          "Trinidad and Tobago",
          "Turks and Caicos",
          "U.S. Virgin Islands",
          "Uruguay",
          "Venezuela"
         ],
         "xaxis": "x",
         "y": [
          0.040243475562829076,
          1.9020521069073746,
          0.5097802822040528,
          0.3438317750635922,
          0.27483308514979293,
          0.09642518982663656,
          0.13911765078813507,
          0.13585891630299327,
          0.06136821977155649,
          0.11730836014244783,
          0.2452107776547099,
          0.07395114694718212,
          0.29494690108582994,
          11.385982396911956,
          0.11427077863300528,
          0.2692668774563255,
          0.21498507001207134,
          0.11654832588879893,
          0.07771390465731602,
          0.11454179487846988,
          0.10566721332252739,
          0.1560502994303327,
          0.16494859299278872,
          0.13915777201988908,
          1.0176023992910561,
          0.043471244579837594,
          0.16667671820181684,
          1.563296197709252,
          0.21529217157116434,
          0.07741601880092176,
          0.5130518640040046,
          0.11655760604035914,
          0.23301758358883137,
          0.14972218071177695,
          0.032177712698679535,
          0.06947323285188751,
          0.4133494263284317,
          0.18415197608234912,
          0.08338737846480064,
          0.13558106440535858,
          0.15524855091605674,
          0.19696260394369605,
          0.45976580781474036,
          0.19201904864290142,
          0.23221104971465534,
          0.24394721976294806,
          0.3470744448893803,
          0.31238120213157367,
          0.11406194661135793
         ],
         "yaxis": "y"
        },
        {
         "hovertemplate": "Continent=Northern America<br>Country=%{x}<br>LossFunctCheck=%{y}<extra></extra>",
         "legendgroup": "Northern America",
         "marker": {
          "color": "#19d3f3",
          "symbol": "circle"
         },
         "mode": "markers",
         "name": "Northern America",
         "orientation": "v",
         "showlegend": true,
         "type": "scatter",
         "x": [
          "Bermuda",
          "Canada",
          "Greenland",
          "Saint Pierre & Miquelon",
          "United States"
         ],
         "xaxis": "x",
         "y": [
          0.5524851118976669,
          0.2595810462316996,
          0.13355550084423848,
          0.10964331771680164,
          1.0383420675694304
         ],
         "yaxis": "y"
        },
        {
         "hovertemplate": "Continent=North America<br>Country=%{x}<br>LossFunctCheck=%{y}<extra></extra>",
         "legendgroup": "North America",
         "marker": {
          "color": "#FF6692",
          "symbol": "circle"
         },
         "mode": "markers",
         "name": "North America",
         "orientation": "v",
         "showlegend": true,
         "type": "scatter",
         "x": [
          "Saint Barthelemy"
         ],
         "xaxis": "x",
         "y": [
          0.029350852168064535
         ],
         "yaxis": "y"
        }
       ],
       "layout": {
        "legend": {
         "title": {
          "text": "Continent"
         },
         "tracegroupgap": 0
        },
        "margin": {
         "t": 60
        },
        "template": {
         "data": {
          "bar": [
           {
            "error_x": {
             "color": "#2a3f5f"
            },
            "error_y": {
             "color": "#2a3f5f"
            },
            "marker": {
             "line": {
              "color": "#E5ECF6",
              "width": 0.5
             },
             "pattern": {
              "fillmode": "overlay",
              "size": 10,
              "solidity": 0.2
             }
            },
            "type": "bar"
           }
          ],
          "barpolar": [
           {
            "marker": {
             "line": {
              "color": "#E5ECF6",
              "width": 0.5
             },
             "pattern": {
              "fillmode": "overlay",
              "size": 10,
              "solidity": 0.2
             }
            },
            "type": "barpolar"
           }
          ],
          "carpet": [
           {
            "aaxis": {
             "endlinecolor": "#2a3f5f",
             "gridcolor": "white",
             "linecolor": "white",
             "minorgridcolor": "white",
             "startlinecolor": "#2a3f5f"
            },
            "baxis": {
             "endlinecolor": "#2a3f5f",
             "gridcolor": "white",
             "linecolor": "white",
             "minorgridcolor": "white",
             "startlinecolor": "#2a3f5f"
            },
            "type": "carpet"
           }
          ],
          "choropleth": [
           {
            "colorbar": {
             "outlinewidth": 0,
             "ticks": ""
            },
            "type": "choropleth"
           }
          ],
          "contour": [
           {
            "colorbar": {
             "outlinewidth": 0,
             "ticks": ""
            },
            "colorscale": [
             [
              0,
              "#0d0887"
             ],
             [
              0.1111111111111111,
              "#46039f"
             ],
             [
              0.2222222222222222,
              "#7201a8"
             ],
             [
              0.3333333333333333,
              "#9c179e"
             ],
             [
              0.4444444444444444,
              "#bd3786"
             ],
             [
              0.5555555555555556,
              "#d8576b"
             ],
             [
              0.6666666666666666,
              "#ed7953"
             ],
             [
              0.7777777777777778,
              "#fb9f3a"
             ],
             [
              0.8888888888888888,
              "#fdca26"
             ],
             [
              1,
              "#f0f921"
             ]
            ],
            "type": "contour"
           }
          ],
          "contourcarpet": [
           {
            "colorbar": {
             "outlinewidth": 0,
             "ticks": ""
            },
            "type": "contourcarpet"
           }
          ],
          "heatmap": [
           {
            "colorbar": {
             "outlinewidth": 0,
             "ticks": ""
            },
            "colorscale": [
             [
              0,
              "#0d0887"
             ],
             [
              0.1111111111111111,
              "#46039f"
             ],
             [
              0.2222222222222222,
              "#7201a8"
             ],
             [
              0.3333333333333333,
              "#9c179e"
             ],
             [
              0.4444444444444444,
              "#bd3786"
             ],
             [
              0.5555555555555556,
              "#d8576b"
             ],
             [
              0.6666666666666666,
              "#ed7953"
             ],
             [
              0.7777777777777778,
              "#fb9f3a"
             ],
             [
              0.8888888888888888,
              "#fdca26"
             ],
             [
              1,
              "#f0f921"
             ]
            ],
            "type": "heatmap"
           }
          ],
          "heatmapgl": [
           {
            "colorbar": {
             "outlinewidth": 0,
             "ticks": ""
            },
            "colorscale": [
             [
              0,
              "#0d0887"
             ],
             [
              0.1111111111111111,
              "#46039f"
             ],
             [
              0.2222222222222222,
              "#7201a8"
             ],
             [
              0.3333333333333333,
              "#9c179e"
             ],
             [
              0.4444444444444444,
              "#bd3786"
             ],
             [
              0.5555555555555556,
              "#d8576b"
             ],
             [
              0.6666666666666666,
              "#ed7953"
             ],
             [
              0.7777777777777778,
              "#fb9f3a"
             ],
             [
              0.8888888888888888,
              "#fdca26"
             ],
             [
              1,
              "#f0f921"
             ]
            ],
            "type": "heatmapgl"
           }
          ],
          "histogram": [
           {
            "marker": {
             "pattern": {
              "fillmode": "overlay",
              "size": 10,
              "solidity": 0.2
             }
            },
            "type": "histogram"
           }
          ],
          "histogram2d": [
           {
            "colorbar": {
             "outlinewidth": 0,
             "ticks": ""
            },
            "colorscale": [
             [
              0,
              "#0d0887"
             ],
             [
              0.1111111111111111,
              "#46039f"
             ],
             [
              0.2222222222222222,
              "#7201a8"
             ],
             [
              0.3333333333333333,
              "#9c179e"
             ],
             [
              0.4444444444444444,
              "#bd3786"
             ],
             [
              0.5555555555555556,
              "#d8576b"
             ],
             [
              0.6666666666666666,
              "#ed7953"
             ],
             [
              0.7777777777777778,
              "#fb9f3a"
             ],
             [
              0.8888888888888888,
              "#fdca26"
             ],
             [
              1,
              "#f0f921"
             ]
            ],
            "type": "histogram2d"
           }
          ],
          "histogram2dcontour": [
           {
            "colorbar": {
             "outlinewidth": 0,
             "ticks": ""
            },
            "colorscale": [
             [
              0,
              "#0d0887"
             ],
             [
              0.1111111111111111,
              "#46039f"
             ],
             [
              0.2222222222222222,
              "#7201a8"
             ],
             [
              0.3333333333333333,
              "#9c179e"
             ],
             [
              0.4444444444444444,
              "#bd3786"
             ],
             [
              0.5555555555555556,
              "#d8576b"
             ],
             [
              0.6666666666666666,
              "#ed7953"
             ],
             [
              0.7777777777777778,
              "#fb9f3a"
             ],
             [
              0.8888888888888888,
              "#fdca26"
             ],
             [
              1,
              "#f0f921"
             ]
            ],
            "type": "histogram2dcontour"
           }
          ],
          "mesh3d": [
           {
            "colorbar": {
             "outlinewidth": 0,
             "ticks": ""
            },
            "type": "mesh3d"
           }
          ],
          "parcoords": [
           {
            "line": {
             "colorbar": {
              "outlinewidth": 0,
              "ticks": ""
             }
            },
            "type": "parcoords"
           }
          ],
          "pie": [
           {
            "automargin": true,
            "type": "pie"
           }
          ],
          "scatter": [
           {
            "fillpattern": {
             "fillmode": "overlay",
             "size": 10,
             "solidity": 0.2
            },
            "type": "scatter"
           }
          ],
          "scatter3d": [
           {
            "line": {
             "colorbar": {
              "outlinewidth": 0,
              "ticks": ""
             }
            },
            "marker": {
             "colorbar": {
              "outlinewidth": 0,
              "ticks": ""
             }
            },
            "type": "scatter3d"
           }
          ],
          "scattercarpet": [
           {
            "marker": {
             "colorbar": {
              "outlinewidth": 0,
              "ticks": ""
             }
            },
            "type": "scattercarpet"
           }
          ],
          "scattergeo": [
           {
            "marker": {
             "colorbar": {
              "outlinewidth": 0,
              "ticks": ""
             }
            },
            "type": "scattergeo"
           }
          ],
          "scattergl": [
           {
            "marker": {
             "colorbar": {
              "outlinewidth": 0,
              "ticks": ""
             }
            },
            "type": "scattergl"
           }
          ],
          "scattermapbox": [
           {
            "marker": {
             "colorbar": {
              "outlinewidth": 0,
              "ticks": ""
             }
            },
            "type": "scattermapbox"
           }
          ],
          "scatterpolar": [
           {
            "marker": {
             "colorbar": {
              "outlinewidth": 0,
              "ticks": ""
             }
            },
            "type": "scatterpolar"
           }
          ],
          "scatterpolargl": [
           {
            "marker": {
             "colorbar": {
              "outlinewidth": 0,
              "ticks": ""
             }
            },
            "type": "scatterpolargl"
           }
          ],
          "scatterternary": [
           {
            "marker": {
             "colorbar": {
              "outlinewidth": 0,
              "ticks": ""
             }
            },
            "type": "scatterternary"
           }
          ],
          "surface": [
           {
            "colorbar": {
             "outlinewidth": 0,
             "ticks": ""
            },
            "colorscale": [
             [
              0,
              "#0d0887"
             ],
             [
              0.1111111111111111,
              "#46039f"
             ],
             [
              0.2222222222222222,
              "#7201a8"
             ],
             [
              0.3333333333333333,
              "#9c179e"
             ],
             [
              0.4444444444444444,
              "#bd3786"
             ],
             [
              0.5555555555555556,
              "#d8576b"
             ],
             [
              0.6666666666666666,
              "#ed7953"
             ],
             [
              0.7777777777777778,
              "#fb9f3a"
             ],
             [
              0.8888888888888888,
              "#fdca26"
             ],
             [
              1,
              "#f0f921"
             ]
            ],
            "type": "surface"
           }
          ],
          "table": [
           {
            "cells": {
             "fill": {
              "color": "#EBF0F8"
             },
             "line": {
              "color": "white"
             }
            },
            "header": {
             "fill": {
              "color": "#C8D4E3"
             },
             "line": {
              "color": "white"
             }
            },
            "type": "table"
           }
          ]
         },
         "layout": {
          "annotationdefaults": {
           "arrowcolor": "#2a3f5f",
           "arrowhead": 0,
           "arrowwidth": 1
          },
          "autotypenumbers": "strict",
          "coloraxis": {
           "colorbar": {
            "outlinewidth": 0,
            "ticks": ""
           }
          },
          "colorscale": {
           "diverging": [
            [
             0,
             "#8e0152"
            ],
            [
             0.1,
             "#c51b7d"
            ],
            [
             0.2,
             "#de77ae"
            ],
            [
             0.3,
             "#f1b6da"
            ],
            [
             0.4,
             "#fde0ef"
            ],
            [
             0.5,
             "#f7f7f7"
            ],
            [
             0.6,
             "#e6f5d0"
            ],
            [
             0.7,
             "#b8e186"
            ],
            [
             0.8,
             "#7fbc41"
            ],
            [
             0.9,
             "#4d9221"
            ],
            [
             1,
             "#276419"
            ]
           ],
           "sequential": [
            [
             0,
             "#0d0887"
            ],
            [
             0.1111111111111111,
             "#46039f"
            ],
            [
             0.2222222222222222,
             "#7201a8"
            ],
            [
             0.3333333333333333,
             "#9c179e"
            ],
            [
             0.4444444444444444,
             "#bd3786"
            ],
            [
             0.5555555555555556,
             "#d8576b"
            ],
            [
             0.6666666666666666,
             "#ed7953"
            ],
            [
             0.7777777777777778,
             "#fb9f3a"
            ],
            [
             0.8888888888888888,
             "#fdca26"
            ],
            [
             1,
             "#f0f921"
            ]
           ],
           "sequentialminus": [
            [
             0,
             "#0d0887"
            ],
            [
             0.1111111111111111,
             "#46039f"
            ],
            [
             0.2222222222222222,
             "#7201a8"
            ],
            [
             0.3333333333333333,
             "#9c179e"
            ],
            [
             0.4444444444444444,
             "#bd3786"
            ],
            [
             0.5555555555555556,
             "#d8576b"
            ],
            [
             0.6666666666666666,
             "#ed7953"
            ],
            [
             0.7777777777777778,
             "#fb9f3a"
            ],
            [
             0.8888888888888888,
             "#fdca26"
            ],
            [
             1,
             "#f0f921"
            ]
           ]
          },
          "colorway": [
           "#636efa",
           "#EF553B",
           "#00cc96",
           "#ab63fa",
           "#FFA15A",
           "#19d3f3",
           "#FF6692",
           "#B6E880",
           "#FF97FF",
           "#FECB52"
          ],
          "font": {
           "color": "#2a3f5f"
          },
          "geo": {
           "bgcolor": "white",
           "lakecolor": "white",
           "landcolor": "#E5ECF6",
           "showlakes": true,
           "showland": true,
           "subunitcolor": "white"
          },
          "hoverlabel": {
           "align": "left"
          },
          "hovermode": "closest",
          "mapbox": {
           "style": "light"
          },
          "paper_bgcolor": "white",
          "plot_bgcolor": "#E5ECF6",
          "polar": {
           "angularaxis": {
            "gridcolor": "white",
            "linecolor": "white",
            "ticks": ""
           },
           "bgcolor": "#E5ECF6",
           "radialaxis": {
            "gridcolor": "white",
            "linecolor": "white",
            "ticks": ""
           }
          },
          "scene": {
           "xaxis": {
            "backgroundcolor": "#E5ECF6",
            "gridcolor": "white",
            "gridwidth": 2,
            "linecolor": "white",
            "showbackground": true,
            "ticks": "",
            "zerolinecolor": "white"
           },
           "yaxis": {
            "backgroundcolor": "#E5ECF6",
            "gridcolor": "white",
            "gridwidth": 2,
            "linecolor": "white",
            "showbackground": true,
            "ticks": "",
            "zerolinecolor": "white"
           },
           "zaxis": {
            "backgroundcolor": "#E5ECF6",
            "gridcolor": "white",
            "gridwidth": 2,
            "linecolor": "white",
            "showbackground": true,
            "ticks": "",
            "zerolinecolor": "white"
           }
          },
          "shapedefaults": {
           "line": {
            "color": "#2a3f5f"
           }
          },
          "ternary": {
           "aaxis": {
            "gridcolor": "white",
            "linecolor": "white",
            "ticks": ""
           },
           "baxis": {
            "gridcolor": "white",
            "linecolor": "white",
            "ticks": ""
           },
           "bgcolor": "#E5ECF6",
           "caxis": {
            "gridcolor": "white",
            "linecolor": "white",
            "ticks": ""
           }
          },
          "title": {
           "x": 0.05
          },
          "xaxis": {
           "automargin": true,
           "gridcolor": "white",
           "linecolor": "white",
           "ticks": "",
           "title": {
            "standoff": 15
           },
           "zerolinecolor": "white",
           "zerolinewidth": 2
          },
          "yaxis": {
           "automargin": true,
           "gridcolor": "white",
           "linecolor": "white",
           "ticks": "",
           "title": {
            "standoff": 15
           },
           "zerolinecolor": "white",
           "zerolinewidth": 2
          }
         }
        },
        "xaxis": {
         "anchor": "y",
         "domain": [
          0,
          1
         ],
         "title": {
          "text": "Country"
         },
         "visible": false
        },
        "yaxis": {
         "anchor": "x",
         "domain": [
          0,
          1
         ],
         "range": [
          0,
          5
         ],
         "title": {
          "text": "LossFunctCheck"
         }
        }
       }
      }
     },
     "metadata": {},
     "output_type": "display_data"
    }
   ],
   "source": [
    "fig=px.scatter(LD3[LD3['Year']==2050], x=\"Country\", y=\"LossFunctCheck\",range_y=[0,5],\n",
    "        color=\"Continent\")\n",
    "fig.update_xaxes(visible=False)\n",
    "fig.show()"
   ]
  },
  {
   "attachments": {},
   "cell_type": "markdown",
   "metadata": {},
   "source": [
    "Tóm lại bài toán dự đoán sẽ được hoàn thành như sau "
   ]
  },
  {
   "cell_type": "code",
   "execution_count": 18,
   "metadata": {},
   "outputs": [],
   "source": [
    "LD=[i for i in gen_linear(df[df['Year']>=1990],linear_regression_1,[2025,2030,2035,2040,2050]) ]+[i for i in gen_linear(df[df['Year']>=1990],linear_regression_2,[2021,2022,2023]) ]\n",
    "LD=pd.DataFrame(LD)\n",
    "LD=LD.sort_values(by=['Country','Year'],ascending=True).reset_index(drop=True)"
   ]
  },
  {
   "cell_type": "code",
   "execution_count": 19,
   "metadata": {},
   "outputs": [],
   "source": [
    "\n",
    "LD.to_csv('populationForecast.csv')"
   ]
  }
 ],
 "metadata": {
  "kernelspec": {
   "display_name": "Python 3",
   "language": "python",
   "name": "python3"
  },
  "language_info": {
   "codemirror_mode": {
    "name": "ipython",
    "version": 3
   },
   "file_extension": ".py",
   "mimetype": "text/x-python",
   "name": "python",
   "nbconvert_exporter": "python",
   "pygments_lexer": "ipython3",
<<<<<<< HEAD:model.ipynb
   "version": "3.9.0"
=======
   "version": "3.9.0 (tags/v3.9.0:9cf6752, Oct  5 2020, 15:34:40) [MSC v.1927 64 bit (AMD64)]"
>>>>>>> origin/markdown:jupyter/5 model.ipynb
  },
  "orig_nbformat": 4,
  "vscode": {
   "interpreter": {
<<<<<<< HEAD:model.ipynb
    "hash": "e2aae14933474253bf7e204dfdcd59c9e221c3358c06c5af46c0ae09e251b4f0"
=======
    "hash": "06dfb6bf3f8d2e01eca403e452d10d7e48941f82fc8e846bbf4af72e10d72842"
>>>>>>> origin/markdown:jupyter/5 model.ipynb
   }
  }
 },
 "nbformat": 4,
 "nbformat_minor": 2
}
