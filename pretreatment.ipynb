{
 "cells": [
  {
   "cell_type": "code",
   "execution_count": 1,
   "metadata": {},
   "outputs": [],
   "source": [
    "import numpy as np\n",
    "import pandas as pd\n"
   ]
  },
  {
   "attachments": {},
   "cell_type": "markdown",
   "metadata": {},
   "source": [
    "đọc file  "
   ]
  },
  {
   "cell_type": "code",
   "execution_count": 2,
   "metadata": {},
   "outputs": [],
   "source": [
    "df=pd.read_csv('./population.csv',index_col=0)"
   ]
  },
  {
   "attachments": {},
   "cell_type": "markdown",
   "metadata": {},
   "source": [
    "kiểm tra lặp dòng"
   ]
  },
  {
   "cell_type": "code",
   "execution_count": 3,
   "metadata": {},
   "outputs": [
    {
     "data": {
      "text/plain": [
       "0"
      ]
     },
     "execution_count": 3,
     "metadata": {},
     "output_type": "execute_result"
    }
   ],
   "source": [
    "len([i for i in df.index.duplicated(keep='first') if i==True])"
   ]
  },
  {
   "attachments": {},
   "cell_type": "markdown",
   "metadata": {},
   "source": [
    "check thông tin của df "
   ]
  },
  {
   "cell_type": "code",
   "execution_count": 4,
   "metadata": {},
   "outputs": [
    {
     "data": {
      "text/html": [
       "<div>\n",
       "<style scoped>\n",
       "    .dataframe tbody tr th:only-of-type {\n",
       "        vertical-align: middle;\n",
       "    }\n",
       "\n",
       "    .dataframe tbody tr th {\n",
       "        vertical-align: top;\n",
       "    }\n",
       "\n",
       "    .dataframe thead th {\n",
       "        text-align: right;\n",
       "    }\n",
       "</style>\n",
       "<table border=\"1\" class=\"dataframe\">\n",
       "  <thead>\n",
       "    <tr style=\"text-align: right;\">\n",
       "      <th></th>\n",
       "      <th>Year</th>\n",
       "      <th>Population</th>\n",
       "      <th>Yearly%Change</th>\n",
       "      <th>YearlyChange</th>\n",
       "      <th>Migrants(net)</th>\n",
       "      <th>MedianAge</th>\n",
       "      <th>FertilityRate</th>\n",
       "      <th>Density(P/Km2)</th>\n",
       "      <th>UrbanPop%</th>\n",
       "      <th>UrbanPopulation</th>\n",
       "      <th>Country%OfWorldPop</th>\n",
       "      <th>GlobalRank</th>\n",
       "      <th>Country</th>\n",
       "      <th>Continent</th>\n",
       "    </tr>\n",
       "  </thead>\n",
       "  <tbody>\n",
       "    <tr>\n",
       "      <th>0</th>\n",
       "      <td>1955</td>\n",
       "      <td>8270991</td>\n",
       "      <td>1.30</td>\n",
       "      <td>103775</td>\n",
       "      <td>-4000.0</td>\n",
       "      <td>19.2</td>\n",
       "      <td>7.45</td>\n",
       "      <td>13</td>\n",
       "      <td>7.1</td>\n",
       "      <td>587818.0</td>\n",
       "      <td>0.30</td>\n",
       "      <td>48</td>\n",
       "      <td>Afghanistan</td>\n",
       "      <td>Asia</td>\n",
       "    </tr>\n",
       "    <tr>\n",
       "      <th>1</th>\n",
       "      <td>1960</td>\n",
       "      <td>8996973</td>\n",
       "      <td>1.70</td>\n",
       "      <td>145196</td>\n",
       "      <td>-4000.0</td>\n",
       "      <td>18.8</td>\n",
       "      <td>7.45</td>\n",
       "      <td>14</td>\n",
       "      <td>8.4</td>\n",
       "      <td>755797.0</td>\n",
       "      <td>0.30</td>\n",
       "      <td>48</td>\n",
       "      <td>Afghanistan</td>\n",
       "      <td>Asia</td>\n",
       "    </tr>\n",
       "    <tr>\n",
       "      <th>2</th>\n",
       "      <td>1965</td>\n",
       "      <td>9956320</td>\n",
       "      <td>2.05</td>\n",
       "      <td>191869</td>\n",
       "      <td>-4000.0</td>\n",
       "      <td>18.4</td>\n",
       "      <td>7.45</td>\n",
       "      <td>15</td>\n",
       "      <td>9.9</td>\n",
       "      <td>984350.0</td>\n",
       "      <td>0.30</td>\n",
       "      <td>48</td>\n",
       "      <td>Afghanistan</td>\n",
       "      <td>Asia</td>\n",
       "    </tr>\n",
       "    <tr>\n",
       "      <th>3</th>\n",
       "      <td>1970</td>\n",
       "      <td>11173642</td>\n",
       "      <td>2.33</td>\n",
       "      <td>243464</td>\n",
       "      <td>-4000.0</td>\n",
       "      <td>17.9</td>\n",
       "      <td>7.45</td>\n",
       "      <td>17</td>\n",
       "      <td>11.6</td>\n",
       "      <td>1295433.0</td>\n",
       "      <td>0.30</td>\n",
       "      <td>48</td>\n",
       "      <td>Afghanistan</td>\n",
       "      <td>Asia</td>\n",
       "    </tr>\n",
       "    <tr>\n",
       "      <th>4</th>\n",
       "      <td>1975</td>\n",
       "      <td>12689160</td>\n",
       "      <td>2.58</td>\n",
       "      <td>303104</td>\n",
       "      <td>-4000.0</td>\n",
       "      <td>17.3</td>\n",
       "      <td>7.45</td>\n",
       "      <td>19</td>\n",
       "      <td>13.5</td>\n",
       "      <td>1717422.0</td>\n",
       "      <td>0.31</td>\n",
       "      <td>48</td>\n",
       "      <td>Afghanistan</td>\n",
       "      <td>Asia</td>\n",
       "    </tr>\n",
       "  </tbody>\n",
       "</table>\n",
       "</div>"
      ],
      "text/plain": [
       "   Year  Population  Yearly%Change  YearlyChange  Migrants(net)  MedianAge  \\\n",
       "0  1955     8270991           1.30        103775        -4000.0       19.2   \n",
       "1  1960     8996973           1.70        145196        -4000.0       18.8   \n",
       "2  1965     9956320           2.05        191869        -4000.0       18.4   \n",
       "3  1970    11173642           2.33        243464        -4000.0       17.9   \n",
       "4  1975    12689160           2.58        303104        -4000.0       17.3   \n",
       "\n",
       "   FertilityRate  Density(P/Km2)  UrbanPop%  UrbanPopulation  \\\n",
       "0           7.45              13        7.1         587818.0   \n",
       "1           7.45              14        8.4         755797.0   \n",
       "2           7.45              15        9.9         984350.0   \n",
       "3           7.45              17       11.6        1295433.0   \n",
       "4           7.45              19       13.5        1717422.0   \n",
       "\n",
       "   Country%OfWorldPop  GlobalRank      Country Continent  \n",
       "0                0.30          48  Afghanistan      Asia  \n",
       "1                0.30          48  Afghanistan      Asia  \n",
       "2                0.30          48  Afghanistan      Asia  \n",
       "3                0.30          48  Afghanistan      Asia  \n",
       "4                0.31          48  Afghanistan      Asia  "
      ]
     },
     "execution_count": 4,
     "metadata": {},
     "output_type": "execute_result"
    }
   ],
   "source": [
    "df.head()"
   ]
  },
  {
   "cell_type": "code",
   "execution_count": 5,
   "metadata": {},
   "outputs": [
    {
     "name": "stdout",
     "output_type": "stream",
     "text": [
      "4230\n"
     ]
    },
    {
     "data": {
      "text/plain": [
       "Year                    int64\n",
       "Population              int64\n",
       "Yearly%Change         float64\n",
       "YearlyChange            int64\n",
       "Migrants(net)         float64\n",
       "MedianAge             float64\n",
       "FertilityRate         float64\n",
       "Density(P/Km2)          int64\n",
       "UrbanPop%             float64\n",
       "UrbanPopulation       float64\n",
       "Country%OfWorldPop    float64\n",
       "GlobalRank              int64\n",
       "Country                object\n",
       "Continent              object\n",
       "dtype: object"
      ]
     },
     "execution_count": 5,
     "metadata": {},
     "output_type": "execute_result"
    }
   ],
   "source": [
    "(row_count,col_count)=df.shape\n",
    "print(row_count)\n",
    "df.dtypes"
   ]
  },
  {
   "cell_type": "code",
   "execution_count": 6,
   "metadata": {},
   "outputs": [
    {
     "data": {
      "text/html": [
       "<div>\n",
       "<style scoped>\n",
       "    .dataframe tbody tr th:only-of-type {\n",
       "        vertical-align: middle;\n",
       "    }\n",
       "\n",
       "    .dataframe tbody tr th {\n",
       "        vertical-align: top;\n",
       "    }\n",
       "\n",
       "    .dataframe thead th {\n",
       "        text-align: right;\n",
       "    }\n",
       "</style>\n",
       "<table border=\"1\" class=\"dataframe\">\n",
       "  <thead>\n",
       "    <tr style=\"text-align: right;\">\n",
       "      <th></th>\n",
       "      <th>Year</th>\n",
       "      <th>Population</th>\n",
       "      <th>Yearly%Change</th>\n",
       "      <th>YearlyChange</th>\n",
       "      <th>Migrants(net)</th>\n",
       "      <th>MedianAge</th>\n",
       "      <th>FertilityRate</th>\n",
       "      <th>Density(P/Km2)</th>\n",
       "      <th>UrbanPop%</th>\n",
       "      <th>UrbanPopulation</th>\n",
       "      <th>Country%OfWorldPop</th>\n",
       "      <th>GlobalRank</th>\n",
       "    </tr>\n",
       "  </thead>\n",
       "  <tbody>\n",
       "    <tr>\n",
       "      <th>count</th>\n",
       "      <td>4230.000000</td>\n",
       "      <td>4.230000e+03</td>\n",
       "      <td>4230.000000</td>\n",
       "      <td>4.230000e+03</td>\n",
       "      <td>4.230000e+03</td>\n",
       "      <td>4230.000000</td>\n",
       "      <td>4230.000000</td>\n",
       "      <td>4230.000000</td>\n",
       "      <td>4230.000000</td>\n",
       "      <td>4.230000e+03</td>\n",
       "      <td>4230.000000</td>\n",
       "      <td>4230.000000</td>\n",
       "    </tr>\n",
       "    <tr>\n",
       "      <th>mean</th>\n",
       "      <td>1994.166667</td>\n",
       "      <td>2.423329e+07</td>\n",
       "      <td>1.659778</td>\n",
       "      <td>3.271283e+05</td>\n",
       "      <td>-4.121513e+00</td>\n",
       "      <td>21.789243</td>\n",
       "      <td>3.324785</td>\n",
       "      <td>350.130496</td>\n",
       "      <td>52.530544</td>\n",
       "      <td>1.166833e+07</td>\n",
       "      <td>0.425392</td>\n",
       "      <td>117.183452</td>\n",
       "    </tr>\n",
       "    <tr>\n",
       "      <th>std</th>\n",
       "      <td>21.723653</td>\n",
       "      <td>1.063217e+08</td>\n",
       "      <td>1.650514</td>\n",
       "      <td>1.329164e+06</td>\n",
       "      <td>9.808264e+04</td>\n",
       "      <td>11.751355</td>\n",
       "      <td>2.289232</td>\n",
       "      <td>1790.415755</td>\n",
       "      <td>26.728939</td>\n",
       "      <td>4.665138e+07</td>\n",
       "      <td>1.800249</td>\n",
       "      <td>68.058075</td>\n",
       "    </tr>\n",
       "    <tr>\n",
       "      <th>min</th>\n",
       "      <td>1955.000000</td>\n",
       "      <td>6.440000e+02</td>\n",
       "      <td>-12.930000</td>\n",
       "      <td>-6.730240e+05</td>\n",
       "      <td>-1.077397e+06</td>\n",
       "      <td>0.000000</td>\n",
       "      <td>0.000000</td>\n",
       "      <td>0.000000</td>\n",
       "      <td>0.000000</td>\n",
       "      <td>0.000000e+00</td>\n",
       "      <td>0.000000</td>\n",
       "      <td>1.000000</td>\n",
       "    </tr>\n",
       "    <tr>\n",
       "      <th>25%</th>\n",
       "      <td>1975.000000</td>\n",
       "      <td>2.733908e+05</td>\n",
       "      <td>0.610000</td>\n",
       "      <td>1.201750e+03</td>\n",
       "      <td>-8.997000e+03</td>\n",
       "      <td>17.200000</td>\n",
       "      <td>1.690000</td>\n",
       "      <td>21.000000</td>\n",
       "      <td>31.200000</td>\n",
       "      <td>1.148200e+05</td>\n",
       "      <td>0.000000</td>\n",
       "      <td>58.000000</td>\n",
       "    </tr>\n",
       "    <tr>\n",
       "      <th>50%</th>\n",
       "      <td>1997.500000</td>\n",
       "      <td>3.603262e+06</td>\n",
       "      <td>1.530000</td>\n",
       "      <td>3.730850e+04</td>\n",
       "      <td>0.000000e+00</td>\n",
       "      <td>20.700000</td>\n",
       "      <td>2.790000</td>\n",
       "      <td>72.000000</td>\n",
       "      <td>52.500000</td>\n",
       "      <td>1.479994e+06</td>\n",
       "      <td>0.070000</td>\n",
       "      <td>117.000000</td>\n",
       "    </tr>\n",
       "    <tr>\n",
       "      <th>75%</th>\n",
       "      <td>2016.000000</td>\n",
       "      <td>1.276953e+07</td>\n",
       "      <td>2.590000</td>\n",
       "      <td>2.038582e+05</td>\n",
       "      <td>2.225250e+03</td>\n",
       "      <td>30.000000</td>\n",
       "      <td>5.347500</td>\n",
       "      <td>173.750000</td>\n",
       "      <td>74.300000</td>\n",
       "      <td>6.585661e+06</td>\n",
       "      <td>0.250000</td>\n",
       "      <td>176.000000</td>\n",
       "    </tr>\n",
       "    <tr>\n",
       "      <th>max</th>\n",
       "      <td>2020.000000</td>\n",
       "      <td>1.439324e+09</td>\n",
       "      <td>23.300000</td>\n",
       "      <td>2.067648e+07</td>\n",
       "      <td>1.771991e+06</td>\n",
       "      <td>48.400000</td>\n",
       "      <td>8.800000</td>\n",
       "      <td>26337.000000</td>\n",
       "      <td>104.400000</td>\n",
       "      <td>8.750759e+08</td>\n",
       "      <td>22.700000</td>\n",
       "      <td>235.000000</td>\n",
       "    </tr>\n",
       "  </tbody>\n",
       "</table>\n",
       "</div>"
      ],
      "text/plain": [
       "              Year    Population  Yearly%Change  YearlyChange  Migrants(net)  \\\n",
       "count  4230.000000  4.230000e+03    4230.000000  4.230000e+03   4.230000e+03   \n",
       "mean   1994.166667  2.423329e+07       1.659778  3.271283e+05  -4.121513e+00   \n",
       "std      21.723653  1.063217e+08       1.650514  1.329164e+06   9.808264e+04   \n",
       "min    1955.000000  6.440000e+02     -12.930000 -6.730240e+05  -1.077397e+06   \n",
       "25%    1975.000000  2.733908e+05       0.610000  1.201750e+03  -8.997000e+03   \n",
       "50%    1997.500000  3.603262e+06       1.530000  3.730850e+04   0.000000e+00   \n",
       "75%    2016.000000  1.276953e+07       2.590000  2.038582e+05   2.225250e+03   \n",
       "max    2020.000000  1.439324e+09      23.300000  2.067648e+07   1.771991e+06   \n",
       "\n",
       "         MedianAge  FertilityRate  Density(P/Km2)    UrbanPop%  \\\n",
       "count  4230.000000    4230.000000     4230.000000  4230.000000   \n",
       "mean     21.789243       3.324785      350.130496    52.530544   \n",
       "std      11.751355       2.289232     1790.415755    26.728939   \n",
       "min       0.000000       0.000000        0.000000     0.000000   \n",
       "25%      17.200000       1.690000       21.000000    31.200000   \n",
       "50%      20.700000       2.790000       72.000000    52.500000   \n",
       "75%      30.000000       5.347500      173.750000    74.300000   \n",
       "max      48.400000       8.800000    26337.000000   104.400000   \n",
       "\n",
       "       UrbanPopulation  Country%OfWorldPop   GlobalRank  \n",
       "count     4.230000e+03         4230.000000  4230.000000  \n",
       "mean      1.166833e+07            0.425392   117.183452  \n",
       "std       4.665138e+07            1.800249    68.058075  \n",
       "min       0.000000e+00            0.000000     1.000000  \n",
       "25%       1.148200e+05            0.000000    58.000000  \n",
       "50%       1.479994e+06            0.070000   117.000000  \n",
       "75%       6.585661e+06            0.250000   176.000000  \n",
       "max       8.750759e+08           22.700000   235.000000  "
      ]
     },
     "execution_count": 6,
     "metadata": {},
     "output_type": "execute_result"
    }
   ],
   "source": [
    "df.describe()"
   ]
  },
  {
   "attachments": {},
   "cell_type": "markdown",
   "metadata": {},
   "source": [
    "Kiểm tra tính đúng đắn của một nguồn cực kì tin cậy là không cần thiết\n",
    "#không có cơ sở để kiểm tra"
   ]
  },
  {
   "attachments": {},
   "cell_type": "markdown",
   "metadata": {},
   "source": [
    "thêm vào giá trị nan"
   ]
  },
  {
   "attachments": {},
   "cell_type": "markdown",
   "metadata": {},
   "source": [
    "Cột chứa nan"
   ]
  },
  {
   "cell_type": "code",
   "execution_count": 7,
   "metadata": {},
   "outputs": [
    {
     "data": {
      "text/plain": [
       "[]"
      ]
     },
     "execution_count": 7,
     "metadata": {},
     "output_type": "execute_result"
    }
   ],
   "source": [
    "col_nan=[x for x in df.columns if len([i for i in df[x] if i!=i])>1 ]\n",
    "col_nan"
   ]
  },
  {
   "attachments": {},
   "cell_type": "markdown",
   "metadata": {},
   "source": [
    "Các nước nào có dòng nan "
   ]
  },
  {
   "cell_type": "code",
   "execution_count": 8,
   "metadata": {},
   "outputs": [
    {
     "data": {
      "text/plain": [
       "array([], dtype=object)"
      ]
     },
     "execution_count": 8,
     "metadata": {},
     "output_type": "execute_result"
    }
   ],
   "source": [
    "df[df['UrbanPopulation']!=df['UrbanPopulation']]['Country'].unique()"
   ]
  },
  {
   "cell_type": "code",
   "execution_count": 9,
   "metadata": {},
   "outputs": [
    {
     "data": {
      "text/plain": [
       "array([], dtype=object)"
      ]
     },
     "execution_count": 9,
     "metadata": {},
     "output_type": "execute_result"
    }
   ],
   "source": [
    "df[df['MedianAge']!=df['MedianAge']]['Country'].unique()"
   ]
  },
  {
   "cell_type": "code",
   "execution_count": 10,
   "metadata": {},
   "outputs": [
    {
     "data": {
      "text/plain": [
       "array([], dtype=object)"
      ]
     },
     "execution_count": 10,
     "metadata": {},
     "output_type": "execute_result"
    }
   ],
   "source": [
    "df[df['Migrants(net)']!=df['Migrants(net)']]['Country'].unique()\n"
   ]
  },
  {
   "cell_type": "code",
   "execution_count": 11,
   "metadata": {},
   "outputs": [
    {
     "data": {
      "text/plain": [
       "array([], dtype=object)"
      ]
     },
     "execution_count": 11,
     "metadata": {},
     "output_type": "execute_result"
    }
   ],
   "source": [
    "df[df['FertilityRate']!=df['FertilityRate']]['Country'].unique()\n"
   ]
  },
  {
   "attachments": {},
   "cell_type": "markdown",
   "metadata": {},
   "source": [
    "Có vẻ như các nước thiếu FertilityRate,MedianAge,Migrants(net) đều giống nhau?"
   ]
  },
  {
   "cell_type": "code",
   "execution_count": 12,
   "metadata": {},
   "outputs": [
    {
     "name": "stdout",
     "output_type": "stream",
     "text": [
      "[]\n",
      "[]\n"
     ]
    }
   ],
   "source": [
    "print(df[df['FertilityRate']!=df['FertilityRate']]['Country'].unique()==df[df['Migrants(net)']!=df['Migrants(net)']]['Country'].unique())\n",
    "print(df[df['MedianAge']!=df['MedianAge']]['Country'].unique()==df[df['Migrants(net)']!=df['Migrants(net)']]['Country'].unique())"
   ]
  },
  {
   "attachments": {},
   "cell_type": "markdown",
   "metadata": {},
   "source": [
    "chia làm 2 loại nan "
   ]
  },
  {
   "cell_type": "code",
   "execution_count": 13,
   "metadata": {},
   "outputs": [],
   "source": [
    "missing=df[df['FertilityRate']!=df['FertilityRate']]['Country'].unique()\n",
    "missing_priority=df[df['UrbanPopulation']!=df['UrbanPopulation']]['Country'].unique()"
   ]
  },
  {
   "attachments": {},
   "cell_type": "markdown",
   "metadata": {},
   "source": [
    "Xem xét trên df thấy cột UrbanPopulation, UrbanPop% chỉ có thiếu vài giá trị"
   ]
  },
  {
   "attachments": {},
   "cell_type": "markdown",
   "metadata": {},
   "source": [
    "Kiểm tra nước nào không thể dùng hồi quy để thay thế nan "
   ]
  },
  {
   "cell_type": "code",
   "execution_count": 14,
   "metadata": {},
   "outputs": [],
   "source": [
    "for x in [i for i in missing_priority] :\n",
    "    df_=df[df['Country']==x]\n",
    "    (r,c)=df_[df_['UrbanPopulation']!=df_['UrbanPopulation']].shape\n",
    "    print(x,r) if r>16 else 0"
   ]
  },
  {
   "attachments": {},
   "cell_type": "markdown",
   "metadata": {},
   "source": [
    "Một pha xử lí riêng cho Holy See"
   ]
  },
  {
   "cell_type": "code",
   "execution_count": 15,
   "metadata": {},
   "outputs": [],
   "source": [
    "HolySee_Percent_Urban=[i for i in df.loc[df['Country']=='Holy See']['UrbanPop%'].values if i==i][0] \n",
    "for i in df.loc[df['Country']=='Holy See'].index : \n",
    "    df.at[i,'UrbanPop%']=HolySee_Percent_Urban\n",
    "    df.at[i,'UrbanPopulation']=round(HolySee_Percent_Urban*df.loc[i]['Population']/100)"
   ]
  },
  {
   "attachments": {},
   "cell_type": "markdown",
   "metadata": {},
   "source": [
    "Hồi quy cho các nước còn lại "
   ]
  },
  {
   "cell_type": "code",
   "execution_count": 16,
   "metadata": {},
   "outputs": [],
   "source": [
    "def regressionFillUrban(df,Country):\n",
    "    df_=df[df['Country']==Country]\n",
    "    r=df_[df_['UrbanPopulation']!=df_['UrbanPopulation']].index\n",
    "    df_=df_[df_['UrbanPopulation']==df_['UrbanPopulation']]\n",
    "    def estimate_coef(x, y):\n",
    "        n = np.size(x)\n",
    "        m_x = np.mean(x)\n",
    "        m_y = np.mean(y)\n",
    "        SS_xy = np.sum(y*x) - n*m_y*m_x\n",
    "        SS_xx = np.sum(x*x) - n*m_x*m_x\n",
    "        b_1 = SS_xy / SS_xx\n",
    "        b_0 = m_y - b_1*m_x\n",
    "        return (b_0, b_1)\n",
    "    def regression(b,x):\n",
    "        return b[0] + b[1]*x\n",
    "    b=estimate_coef(df_['Population'],df_['UrbanPopulation'])\n",
    "    for i in r :\n",
    "        df.at[i,'UrbanPopulation']=regression(b,df.loc[i]['Population'])\n",
    "        df.at[i,'UrbanPop%']=round(df.loc[i]['UrbanPopulation']*100/df.loc[i]['Population'],1)\n",
    "for i in missing_priority:\n",
    "    regressionFillUrban(df,i)\n"
   ]
  },
  {
   "attachments": {},
   "cell_type": "markdown",
   "metadata": {},
   "source": [
    "Xem xét sự phân bố giá trị của FertilityRate,MedianAge,Migrants(net) thấy dữ liệu phân bố đều.\n",
    "Do đó thay thế bằng giá trị trung vị hoặc trung bình đều không hợp lí.\n",
    "Các nước có dòng thiếu các giá trị này luôn thiếu cả cột giá trị này.\n",
    "=> không cần xem xét và bỏ qua."
   ]
  },
  {
   "cell_type": "code",
   "execution_count": 17,
   "metadata": {},
   "outputs": [],
   "source": [
    "df=df.fillna(0)"
   ]
  },
  {
   "attachments": {},
   "cell_type": "markdown",
   "metadata": {},
   "source": [
    "Kiểm tra còn cột nào chứa nan"
   ]
  },
  {
   "cell_type": "code",
   "execution_count": 18,
   "metadata": {},
   "outputs": [
    {
     "data": {
      "text/plain": [
       "[]"
      ]
     },
     "execution_count": 18,
     "metadata": {},
     "output_type": "execute_result"
    }
   ],
   "source": [
    "[x for x in df.columns if len([i for i in df[x] if i!=i])>1 ]"
   ]
  },
  {
   "attachments": {},
   "cell_type": "markdown",
   "metadata": {},
   "source": [
    "Về logic nếu có diện tích, dân số, ta có thể tính được mật độ dân số \n",
    "Ta bỏ đi cột Density(P/Km2)"
   ]
  },
  {
   "cell_type": "code",
   "execution_count": 19,
   "metadata": {},
   "outputs": [
    {
     "data": {
      "text/plain": [
       "0       13\n",
       "1       14\n",
       "2       15\n",
       "3       17\n",
       "4       19\n",
       "        ..\n",
       "4225    36\n",
       "4226    37\n",
       "4227    37\n",
       "4228    38\n",
       "4229    38\n",
       "Name: Density(P/Km2), Length: 4230, dtype: int64"
      ]
     },
     "execution_count": 19,
     "metadata": {},
     "output_type": "execute_result"
    }
   ],
   "source": [
    "df.pop('Density(P/Km2)')"
   ]
  },
  {
   "cell_type": "code",
   "execution_count": 20,
   "metadata": {},
   "outputs": [],
   "source": [
    "df.to_csv('./population.csv')"
   ]
  }
 ],
 "metadata": {
  "kernelspec": {
   "display_name": "Python 3",
   "language": "python",
   "name": "python3"
  },
  "language_info": {
   "codemirror_mode": {
    "name": "ipython",
    "version": 3
   },
   "file_extension": ".py",
   "mimetype": "text/x-python",
   "name": "python",
   "nbconvert_exporter": "python",
   "pygments_lexer": "ipython3",
   "version": "3.7.8"
  },
  "orig_nbformat": 4,
  "vscode": {
   "interpreter": {
    "hash": "2e87c240ee57c08939bb9a8b704764c54b3ab467996739c85ad7cd4168a8b1b4"
   }
  }
 },
 "nbformat": 4,
 "nbformat_minor": 2
}
