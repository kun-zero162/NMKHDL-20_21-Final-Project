{
  "cells": [
    {
      "attachments": {},
      "cell_type": "markdown",
      "id": "442df60a",
      "metadata": {},
      "source": [
        "<h2> Pip các thư viện cần sử dụng </h2>"
      ]
    },
    {
      "cell_type": "code",
      "execution_count": null,
      "metadata": {
        "colab": {
          "base_uri": "https://localhost:8080/"
        },
        "id": "Kpu1h9c3cQBT",
        "outputId": "63d82e15-68c5-47cb-eaed-5f78817022aa"
      },
      "outputs": [],
      "source": [
        "!pip install scrapy\n",
        "!pip install spider3\n",
        "!pip install pandas\n",
        "!pip install shutil\n",
        "!pip install numpy\n",
        "!pip install ipykernel\n",
        "!pip install --upgrade nbformat\n",
        "!pip install bokeh\n",
        "!pip install plotly\n",
        "!pip install scikit-learn"
      ]
    }
  ],
  "metadata": {
    "colab": {
      "provenance": []
    },
    "kernelspec": {
      "display_name": "Python 3",
      "language": "python",
      "name": "python3"
    },
    "language_info": {
      "codemirror_mode": {
        "name": "ipython",
        "version": 3
      },
      "file_extension": ".py",
      "mimetype": "text/x-python",
      "name": "python",
      "nbconvert_exporter": "python",
      "pygments_lexer": "ipython3",
      "version": "3.9.0 (tags/v3.9.0:9cf6752, Oct  5 2020, 15:34:40) [MSC v.1927 64 bit (AMD64)]"
    },
    "vscode": {
      "interpreter": {
        "hash": "06dfb6bf3f8d2e01eca403e452d10d7e48941f82fc8e846bbf4af72e10d72842"
      }
    }
  },
  "nbformat": 4,
  "nbformat_minor": 5
}
