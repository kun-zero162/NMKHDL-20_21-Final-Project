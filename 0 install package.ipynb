{
  "cells": [
    {
      "attachments": {},
      "cell_type": "markdown",
      "id": "442df60a",
      "metadata": {},
      "source": [
        "<h2> Pip các thư viện cần sử dụng </h2>"
      ]
    },
    {
      "cell_type": "code",
      "execution_count": null,
      "metadata": {
        "colab": {
          "base_uri": "https://localhost:8080/"
        },
        "id": "Kpu1h9c3cQBT",
        "outputId": "63d82e15-68c5-47cb-eaed-5f78817022aa"
      },
      "outputs": [],
      "source": [
        "!pip install scrapy\n",
        "!pip install spider3\n",
        "!pip install pandas\n",
        "!pip install shutil\n",
        "!pip install numpy\n",
        "!pip install ipykernel\n",
        "!pip install --upgrade nbformat\n",
        "!pip install bokeh\n",
        "!pip install plotly\n",
        "!pip install scikit-learn\n",
        "!pip install statsmodels"
      ]
    }
  ],
  "metadata": {
    "colab": {
      "provenance": []
    },
    "kernelspec": {
      "display_name": "Python 3",
      "language": "python",
      "name": "python3"
    },
    "language_info": {
      "codemirror_mode": {
        "name": "ipython",
        "version": 3
      },
      "file_extension": ".py",
      "mimetype": "text/x-python",
      "name": "python",
      "nbconvert_exporter": "python",
      "pygments_lexer": "ipython3",
      "version": "3.7.8"
    },
    "vscode": {
      "interpreter": {
        "hash": "2e87c240ee57c08939bb9a8b704764c54b3ab467996739c85ad7cd4168a8b1b4"
      }
    }
  },
  "nbformat": 4,
  "nbformat_minor": 5
}
