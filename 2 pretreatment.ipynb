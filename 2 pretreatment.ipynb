{
 "cells": [
  {
   "attachments": {},
   "cell_type": "markdown",
   "metadata": {},
   "source": [
    "<h2><b> Tiền xử lý dữ liệu <b></h2>\n",
    "\n",
    "Sau khi thu thập dữ liệu, ta tiến hành tiền xử lý dữ liệu phục vụ cho phân tích sau này."
   ]
  },
  {
   "attachments": {},
   "cell_type": "markdown",
   "metadata": {},
   "source": [
    "Import các thư viện cần thiết."
   ]
  },
  {
   "cell_type": "code",
   "execution_count": 1,
   "metadata": {},
   "outputs": [],
   "source": [
    "import numpy as np\n",
    "import pandas as pd"
   ]
  },
  {
   "attachments": {},
   "cell_type": "markdown",
   "metadata": {},
   "source": [
    "- Đọc file \"population.csv\" đã được thu thập ở notebook 1 vào df."
   ]
  },
  {
   "cell_type": "code",
   "execution_count": 24,
   "metadata": {},
   "outputs": [],
   "source": [
    "df=pd.read_csv('./population.csv',index_col=0)"
   ]
  },
  {
   "attachments": {},
   "cell_type": "markdown",
   "metadata": {},
   "source": [
    "- Kiểm tra xem các dòng có bị lặp hay không"
   ]
  },
  {
   "cell_type": "code",
   "execution_count": 25,
   "metadata": {},
   "outputs": [
    {
     "data": {
      "text/plain": [
       "0"
      ]
     },
     "execution_count": 25,
     "metadata": {},
     "output_type": "execute_result"
    }
   ],
   "source": [
    "len([i for i in df.index.duplicated(keep='first') if i==True])"
   ]
  },
  {
   "attachments": {},
   "cell_type": "markdown",
   "metadata": {},
   "source": [
    "- Kiểm tra lại dữ liệu."
   ]
  },
  {
   "cell_type": "code",
   "execution_count": 26,
   "metadata": {},
   "outputs": [
    {
     "data": {
      "text/html": [
       "<div>\n",
       "<style scoped>\n",
       "    .dataframe tbody tr th:only-of-type {\n",
       "        vertical-align: middle;\n",
       "    }\n",
       "\n",
       "    .dataframe tbody tr th {\n",
       "        vertical-align: top;\n",
       "    }\n",
       "\n",
       "    .dataframe thead th {\n",
       "        text-align: right;\n",
       "    }\n",
       "</style>\n",
       "<table border=\"1\" class=\"dataframe\">\n",
       "  <thead>\n",
       "    <tr style=\"text-align: right;\">\n",
       "      <th></th>\n",
       "      <th>Year</th>\n",
       "      <th>Population</th>\n",
       "      <th>Yearly%Change</th>\n",
       "      <th>YearlyChange</th>\n",
       "      <th>Migrants(net)</th>\n",
       "      <th>MedianAge</th>\n",
       "      <th>FertilityRate</th>\n",
       "      <th>Density(P/Km2)</th>\n",
       "      <th>UrbanPop%</th>\n",
       "      <th>UrbanPopulation</th>\n",
       "      <th>Country%OfWorldPop</th>\n",
       "      <th>GlobalRank</th>\n",
       "      <th>Country</th>\n",
       "      <th>Continent</th>\n",
       "    </tr>\n",
       "  </thead>\n",
       "  <tbody>\n",
       "    <tr>\n",
       "      <th>0</th>\n",
       "      <td>1955</td>\n",
       "      <td>8270991</td>\n",
       "      <td>1.30</td>\n",
       "      <td>103775</td>\n",
       "      <td>-4000.0</td>\n",
       "      <td>19.2</td>\n",
       "      <td>7.45</td>\n",
       "      <td>13</td>\n",
       "      <td>7.1</td>\n",
       "      <td>587818.0</td>\n",
       "      <td>0.30</td>\n",
       "      <td>48</td>\n",
       "      <td>Afghanistan</td>\n",
       "      <td>Asia</td>\n",
       "    </tr>\n",
       "    <tr>\n",
       "      <th>1</th>\n",
       "      <td>1960</td>\n",
       "      <td>8996973</td>\n",
       "      <td>1.70</td>\n",
       "      <td>145196</td>\n",
       "      <td>-4000.0</td>\n",
       "      <td>18.8</td>\n",
       "      <td>7.45</td>\n",
       "      <td>14</td>\n",
       "      <td>8.4</td>\n",
       "      <td>755797.0</td>\n",
       "      <td>0.30</td>\n",
       "      <td>48</td>\n",
       "      <td>Afghanistan</td>\n",
       "      <td>Asia</td>\n",
       "    </tr>\n",
       "    <tr>\n",
       "      <th>2</th>\n",
       "      <td>1965</td>\n",
       "      <td>9956320</td>\n",
       "      <td>2.05</td>\n",
       "      <td>191869</td>\n",
       "      <td>-4000.0</td>\n",
       "      <td>18.4</td>\n",
       "      <td>7.45</td>\n",
       "      <td>15</td>\n",
       "      <td>9.9</td>\n",
       "      <td>984350.0</td>\n",
       "      <td>0.30</td>\n",
       "      <td>48</td>\n",
       "      <td>Afghanistan</td>\n",
       "      <td>Asia</td>\n",
       "    </tr>\n",
       "    <tr>\n",
       "      <th>3</th>\n",
       "      <td>1970</td>\n",
       "      <td>11173642</td>\n",
       "      <td>2.33</td>\n",
       "      <td>243464</td>\n",
       "      <td>-4000.0</td>\n",
       "      <td>17.9</td>\n",
       "      <td>7.45</td>\n",
       "      <td>17</td>\n",
       "      <td>11.6</td>\n",
       "      <td>1295433.0</td>\n",
       "      <td>0.30</td>\n",
       "      <td>48</td>\n",
       "      <td>Afghanistan</td>\n",
       "      <td>Asia</td>\n",
       "    </tr>\n",
       "    <tr>\n",
       "      <th>4</th>\n",
       "      <td>1975</td>\n",
       "      <td>12689160</td>\n",
       "      <td>2.58</td>\n",
       "      <td>303104</td>\n",
       "      <td>-4000.0</td>\n",
       "      <td>17.3</td>\n",
       "      <td>7.45</td>\n",
       "      <td>19</td>\n",
       "      <td>13.5</td>\n",
       "      <td>1717422.0</td>\n",
       "      <td>0.31</td>\n",
       "      <td>48</td>\n",
       "      <td>Afghanistan</td>\n",
       "      <td>Asia</td>\n",
       "    </tr>\n",
       "  </tbody>\n",
       "</table>\n",
       "</div>"
      ],
      "text/plain": [
       "   Year  Population  Yearly%Change  YearlyChange  Migrants(net)  MedianAge  \\\n",
       "0  1955     8270991           1.30        103775        -4000.0       19.2   \n",
       "1  1960     8996973           1.70        145196        -4000.0       18.8   \n",
       "2  1965     9956320           2.05        191869        -4000.0       18.4   \n",
       "3  1970    11173642           2.33        243464        -4000.0       17.9   \n",
       "4  1975    12689160           2.58        303104        -4000.0       17.3   \n",
       "\n",
       "   FertilityRate  Density(P/Km2)  UrbanPop%  UrbanPopulation  \\\n",
       "0           7.45              13        7.1         587818.0   \n",
       "1           7.45              14        8.4         755797.0   \n",
       "2           7.45              15        9.9         984350.0   \n",
       "3           7.45              17       11.6        1295433.0   \n",
       "4           7.45              19       13.5        1717422.0   \n",
       "\n",
       "   Country%OfWorldPop  GlobalRank      Country Continent  \n",
       "0                0.30          48  Afghanistan      Asia  \n",
       "1                0.30          48  Afghanistan      Asia  \n",
       "2                0.30          48  Afghanistan      Asia  \n",
       "3                0.30          48  Afghanistan      Asia  \n",
       "4                0.31          48  Afghanistan      Asia  "
      ]
     },
     "execution_count": 26,
     "metadata": {},
     "output_type": "execute_result"
    }
   ],
   "source": [
    "df.head()"
   ]
  },
  {
   "attachments": {},
   "cell_type": "markdown",
   "metadata": {},
   "source": [
    "- Kiểm tra lại số dòng và kiểu dữ liệu thuộc tính của các nước."
   ]
  },
  {
   "cell_type": "code",
   "execution_count": 27,
   "metadata": {},
   "outputs": [
    {
     "name": "stdout",
     "output_type": "stream",
     "text": [
      "4230\n"
     ]
    },
    {
     "data": {
      "text/plain": [
       "Year                    int64\n",
       "Population              int64\n",
       "Yearly%Change         float64\n",
       "YearlyChange            int64\n",
       "Migrants(net)         float64\n",
       "MedianAge             float64\n",
       "FertilityRate         float64\n",
       "Density(P/Km2)          int64\n",
       "UrbanPop%             float64\n",
       "UrbanPopulation       float64\n",
       "Country%OfWorldPop    float64\n",
       "GlobalRank              int64\n",
       "Country                object\n",
       "Continent              object\n",
       "dtype: object"
      ]
     },
     "execution_count": 27,
     "metadata": {},
     "output_type": "execute_result"
    }
   ],
   "source": [
    "(row_count,col_count)=df.shape\n",
    "print(row_count)\n",
    "df.dtypes"
   ]
  },
  {
   "cell_type": "code",
   "execution_count": 28,
   "metadata": {},
   "outputs": [
    {
     "data": {
      "text/html": [
       "<div>\n",
       "<style scoped>\n",
       "    .dataframe tbody tr th:only-of-type {\n",
       "        vertical-align: middle;\n",
       "    }\n",
       "\n",
       "    .dataframe tbody tr th {\n",
       "        vertical-align: top;\n",
       "    }\n",
       "\n",
       "    .dataframe thead th {\n",
       "        text-align: right;\n",
       "    }\n",
       "</style>\n",
       "<table border=\"1\" class=\"dataframe\">\n",
       "  <thead>\n",
       "    <tr style=\"text-align: right;\">\n",
       "      <th></th>\n",
       "      <th>Year</th>\n",
       "      <th>Population</th>\n",
       "      <th>Yearly%Change</th>\n",
       "      <th>YearlyChange</th>\n",
       "      <th>Migrants(net)</th>\n",
       "      <th>MedianAge</th>\n",
       "      <th>FertilityRate</th>\n",
       "      <th>Density(P/Km2)</th>\n",
       "      <th>UrbanPop%</th>\n",
       "      <th>UrbanPopulation</th>\n",
       "      <th>Country%OfWorldPop</th>\n",
       "      <th>GlobalRank</th>\n",
       "    </tr>\n",
       "  </thead>\n",
       "  <tbody>\n",
       "    <tr>\n",
       "      <th>count</th>\n",
       "      <td>4230.000000</td>\n",
       "      <td>4.230000e+03</td>\n",
       "      <td>4230.000000</td>\n",
       "      <td>4.230000e+03</td>\n",
       "      <td>3.618000e+03</td>\n",
       "      <td>3618.000000</td>\n",
       "      <td>3618.000000</td>\n",
       "      <td>4230.000000</td>\n",
       "      <td>4111.00000</td>\n",
       "      <td>4.111000e+03</td>\n",
       "      <td>4230.000000</td>\n",
       "      <td>4230.000000</td>\n",
       "    </tr>\n",
       "    <tr>\n",
       "      <th>mean</th>\n",
       "      <td>1994.166667</td>\n",
       "      <td>2.423329e+07</td>\n",
       "      <td>1.659778</td>\n",
       "      <td>3.271283e+05</td>\n",
       "      <td>-4.818684e+00</td>\n",
       "      <td>25.474986</td>\n",
       "      <td>3.887186</td>\n",
       "      <td>350.130496</td>\n",
       "      <td>51.26631</td>\n",
       "      <td>1.195420e+07</td>\n",
       "      <td>0.425392</td>\n",
       "      <td>117.183452</td>\n",
       "    </tr>\n",
       "    <tr>\n",
       "      <th>std</th>\n",
       "      <td>21.723653</td>\n",
       "      <td>1.063217e+08</td>\n",
       "      <td>1.650514</td>\n",
       "      <td>1.329164e+06</td>\n",
       "      <td>1.060564e+05</td>\n",
       "      <td>8.218262</td>\n",
       "      <td>1.985077</td>\n",
       "      <td>1790.415755</td>\n",
       "      <td>26.02106</td>\n",
       "      <td>4.728656e+07</td>\n",
       "      <td>1.800249</td>\n",
       "      <td>68.058075</td>\n",
       "    </tr>\n",
       "    <tr>\n",
       "      <th>min</th>\n",
       "      <td>1955.000000</td>\n",
       "      <td>6.440000e+02</td>\n",
       "      <td>-12.930000</td>\n",
       "      <td>-6.730240e+05</td>\n",
       "      <td>-1.077397e+06</td>\n",
       "      <td>14.400000</td>\n",
       "      <td>0.850000</td>\n",
       "      <td>0.000000</td>\n",
       "      <td>0.00000</td>\n",
       "      <td>0.000000e+00</td>\n",
       "      <td>0.000000</td>\n",
       "      <td>1.000000</td>\n",
       "    </tr>\n",
       "    <tr>\n",
       "      <th>25%</th>\n",
       "      <td>1975.000000</td>\n",
       "      <td>2.733908e+05</td>\n",
       "      <td>0.610000</td>\n",
       "      <td>1.201750e+03</td>\n",
       "      <td>-1.228375e+04</td>\n",
       "      <td>18.500000</td>\n",
       "      <td>2.090000</td>\n",
       "      <td>21.000000</td>\n",
       "      <td>30.60000</td>\n",
       "      <td>1.338530e+05</td>\n",
       "      <td>0.000000</td>\n",
       "      <td>58.000000</td>\n",
       "    </tr>\n",
       "    <tr>\n",
       "      <th>50%</th>\n",
       "      <td>1997.500000</td>\n",
       "      <td>3.603262e+06</td>\n",
       "      <td>1.530000</td>\n",
       "      <td>3.730850e+04</td>\n",
       "      <td>-9.000000e+02</td>\n",
       "      <td>22.750000</td>\n",
       "      <td>3.400000</td>\n",
       "      <td>72.000000</td>\n",
       "      <td>51.20000</td>\n",
       "      <td>1.547197e+06</td>\n",
       "      <td>0.070000</td>\n",
       "      <td>117.000000</td>\n",
       "    </tr>\n",
       "    <tr>\n",
       "      <th>75%</th>\n",
       "      <td>2016.000000</td>\n",
       "      <td>1.276953e+07</td>\n",
       "      <td>2.590000</td>\n",
       "      <td>2.038582e+05</td>\n",
       "      <td>5.000000e+03</td>\n",
       "      <td>31.600000</td>\n",
       "      <td>5.740000</td>\n",
       "      <td>173.750000</td>\n",
       "      <td>72.80000</td>\n",
       "      <td>6.778717e+06</td>\n",
       "      <td>0.250000</td>\n",
       "      <td>176.000000</td>\n",
       "    </tr>\n",
       "    <tr>\n",
       "      <th>max</th>\n",
       "      <td>2020.000000</td>\n",
       "      <td>1.439324e+09</td>\n",
       "      <td>23.300000</td>\n",
       "      <td>2.067648e+07</td>\n",
       "      <td>1.771991e+06</td>\n",
       "      <td>48.400000</td>\n",
       "      <td>8.800000</td>\n",
       "      <td>26337.000000</td>\n",
       "      <td>100.00000</td>\n",
       "      <td>8.750759e+08</td>\n",
       "      <td>22.700000</td>\n",
       "      <td>235.000000</td>\n",
       "    </tr>\n",
       "  </tbody>\n",
       "</table>\n",
       "</div>"
      ],
      "text/plain": [
       "              Year    Population  Yearly%Change  YearlyChange  Migrants(net)  \\\n",
       "count  4230.000000  4.230000e+03    4230.000000  4.230000e+03   3.618000e+03   \n",
       "mean   1994.166667  2.423329e+07       1.659778  3.271283e+05  -4.818684e+00   \n",
       "std      21.723653  1.063217e+08       1.650514  1.329164e+06   1.060564e+05   \n",
       "min    1955.000000  6.440000e+02     -12.930000 -6.730240e+05  -1.077397e+06   \n",
       "25%    1975.000000  2.733908e+05       0.610000  1.201750e+03  -1.228375e+04   \n",
       "50%    1997.500000  3.603262e+06       1.530000  3.730850e+04  -9.000000e+02   \n",
       "75%    2016.000000  1.276953e+07       2.590000  2.038582e+05   5.000000e+03   \n",
       "max    2020.000000  1.439324e+09      23.300000  2.067648e+07   1.771991e+06   \n",
       "\n",
       "         MedianAge  FertilityRate  Density(P/Km2)   UrbanPop%  \\\n",
       "count  3618.000000    3618.000000     4230.000000  4111.00000   \n",
       "mean     25.474986       3.887186      350.130496    51.26631   \n",
       "std       8.218262       1.985077     1790.415755    26.02106   \n",
       "min      14.400000       0.850000        0.000000     0.00000   \n",
       "25%      18.500000       2.090000       21.000000    30.60000   \n",
       "50%      22.750000       3.400000       72.000000    51.20000   \n",
       "75%      31.600000       5.740000      173.750000    72.80000   \n",
       "max      48.400000       8.800000    26337.000000   100.00000   \n",
       "\n",
       "       UrbanPopulation  Country%OfWorldPop   GlobalRank  \n",
       "count     4.111000e+03         4230.000000  4230.000000  \n",
       "mean      1.195420e+07            0.425392   117.183452  \n",
       "std       4.728656e+07            1.800249    68.058075  \n",
       "min       0.000000e+00            0.000000     1.000000  \n",
       "25%       1.338530e+05            0.000000    58.000000  \n",
       "50%       1.547197e+06            0.070000   117.000000  \n",
       "75%       6.778717e+06            0.250000   176.000000  \n",
       "max       8.750759e+08           22.700000   235.000000  "
      ]
     },
     "execution_count": 28,
     "metadata": {},
     "output_type": "execute_result"
    }
   ],
   "source": [
    "df.describe()"
   ]
  },
  {
   "attachments": {},
   "cell_type": "markdown",
   "metadata": {},
   "source": [
    "- Tính đúng đắn của nguồn: `Đây là nguồn đáng tin cậy được công bố bởi Liên Hợp Quốc.`\n"
   ]
  },
  {
   "attachments": {},
   "cell_type": "markdown",
   "metadata": {},
   "source": [
    "<h2> Xử lý các giá trị NaN </h2>"
   ]
  },
  {
   "attachments": {},
   "cell_type": "markdown",
   "metadata": {},
   "source": [
    "- Xác định các cột chứa giá trị NaN."
   ]
  },
  {
   "cell_type": "code",
   "execution_count": 29,
   "metadata": {},
   "outputs": [
    {
     "data": {
      "text/plain": [
       "['Migrants(net)', 'MedianAge', 'FertilityRate', 'UrbanPop%', 'UrbanPopulation']"
      ]
     },
     "execution_count": 29,
     "metadata": {},
     "output_type": "execute_result"
    }
   ],
   "source": [
    "col_nan=[x for x in df.columns if len([i for i in df[x] if i!=i])>1 ]\n",
    "col_nan"
   ]
  },
  {
   "attachments": {},
   "cell_type": "markdown",
   "metadata": {},
   "source": [
    "<b> Xác định các nước có giá trị NaN </b>\n",
    "\n",
    "- Vì UrbanPop% đi chung với UrbanPopulation nên ta chỉ cần xác định 1 thuộc tính."
   ]
  },
  {
   "cell_type": "code",
   "execution_count": 30,
   "metadata": {},
   "outputs": [
    {
     "data": {
      "text/plain": [
       "array(['Anguilla', 'Bermuda', 'Cayman Islands', 'Gibraltar', 'Guadeloupe',\n",
       "       'Holy See', 'Hong Kong', 'Kuwait', 'Macao', 'Monaco', 'Nauru',\n",
       "       'Northern Mariana Islands', 'Palau', 'Puerto Rico', 'Singapore',\n",
       "       'Sint Maarten', 'Venezuela'], dtype=object)"
      ]
     },
     "execution_count": 30,
     "metadata": {},
     "output_type": "execute_result"
    }
   ],
   "source": [
    "df[df['UrbanPopulation']!=df['UrbanPopulation']]['Country'].unique()"
   ]
  },
  {
   "attachments": {},
   "cell_type": "markdown",
   "metadata": {},
   "source": [
    "- Thuộc tính MedianAge."
   ]
  },
  {
   "cell_type": "code",
   "execution_count": 9,
   "metadata": {},
   "outputs": [
    {
     "data": {
      "text/plain": [
       "array(['American Samoa', 'Andorra', 'Anguilla', 'Bermuda',\n",
       "       'British Virgin Islands', 'Caribbean Netherlands',\n",
       "       'Cayman Islands', 'Cook Islands', 'Dominica', 'Faeroe Islands',\n",
       "       'Falkland Islands', 'Gibraltar', 'Greenland', 'Holy See',\n",
       "       'Isle of Man', 'Liechtenstein', 'Marshall Islands', 'Monaco',\n",
       "       'Montserrat', 'Nauru', 'Niue', 'Northern Mariana Islands', 'Palau',\n",
       "       'Saint Barthelemy', 'Saint Helena', 'Saint Kitts & Nevis',\n",
       "       'Saint Martin', 'Saint Pierre & Miquelon', 'San Marino',\n",
       "       'Sint Maarten', 'Tokelau', 'Turks and Caicos', 'Tuvalu',\n",
       "       'Wallis & Futuna'], dtype=object)"
      ]
     },
     "execution_count": 9,
     "metadata": {},
     "output_type": "execute_result"
    }
   ],
   "source": [
    "df[df['MedianAge']!=df['MedianAge']]['Country'].unique()"
   ]
  },
  {
   "attachments": {},
   "cell_type": "markdown",
   "metadata": {},
   "source": [
    "- Thuộc tính Migrants."
   ]
  },
  {
   "cell_type": "code",
   "execution_count": 10,
   "metadata": {},
   "outputs": [
    {
     "data": {
      "text/plain": [
       "array(['American Samoa', 'Andorra', 'Anguilla', 'Bermuda',\n",
       "       'British Virgin Islands', 'Caribbean Netherlands',\n",
       "       'Cayman Islands', 'Cook Islands', 'Dominica', 'Faeroe Islands',\n",
       "       'Falkland Islands', 'Gibraltar', 'Greenland', 'Holy See',\n",
       "       'Isle of Man', 'Liechtenstein', 'Marshall Islands', 'Monaco',\n",
       "       'Montserrat', 'Nauru', 'Niue', 'Northern Mariana Islands', 'Palau',\n",
       "       'Saint Barthelemy', 'Saint Helena', 'Saint Kitts & Nevis',\n",
       "       'Saint Martin', 'Saint Pierre & Miquelon', 'San Marino',\n",
       "       'Sint Maarten', 'Tokelau', 'Turks and Caicos', 'Tuvalu',\n",
       "       'Wallis & Futuna'], dtype=object)"
      ]
     },
     "execution_count": 10,
     "metadata": {},
     "output_type": "execute_result"
    }
   ],
   "source": [
    "df[df['Migrants(net)']!=df['Migrants(net)']]['Country'].unique()\n"
   ]
  },
  {
   "attachments": {},
   "cell_type": "markdown",
   "metadata": {},
   "source": [
    "- Thuộc tính FertilityRate."
   ]
  },
  {
   "cell_type": "code",
   "execution_count": 11,
   "metadata": {},
   "outputs": [
    {
     "data": {
      "text/plain": [
       "array(['American Samoa', 'Andorra', 'Anguilla', 'Bermuda',\n",
       "       'British Virgin Islands', 'Caribbean Netherlands',\n",
       "       'Cayman Islands', 'Cook Islands', 'Dominica', 'Faeroe Islands',\n",
       "       'Falkland Islands', 'Gibraltar', 'Greenland', 'Holy See',\n",
       "       'Isle of Man', 'Liechtenstein', 'Marshall Islands', 'Monaco',\n",
       "       'Montserrat', 'Nauru', 'Niue', 'Northern Mariana Islands', 'Palau',\n",
       "       'Saint Barthelemy', 'Saint Helena', 'Saint Kitts & Nevis',\n",
       "       'Saint Martin', 'Saint Pierre & Miquelon', 'San Marino',\n",
       "       'Sint Maarten', 'Tokelau', 'Turks and Caicos', 'Tuvalu',\n",
       "       'Wallis & Futuna'], dtype=object)"
      ]
     },
     "execution_count": 11,
     "metadata": {},
     "output_type": "execute_result"
    }
   ],
   "source": [
    "df[df['FertilityRate']!=df['FertilityRate']]['Country'].unique()\n"
   ]
  },
  {
   "attachments": {},
   "cell_type": "markdown",
   "metadata": {},
   "source": [
    "Có vẻ như các nước thiếu FertilityRate, MedianAge, Migrants(net) đều giống nhau?"
   ]
  },
  {
   "cell_type": "code",
   "execution_count": 12,
   "metadata": {},
   "outputs": [
    {
     "name": "stdout",
     "output_type": "stream",
     "text": [
      "[ True  True  True  True  True  True  True  True  True  True  True  True\n",
      "  True  True  True  True  True  True  True  True  True  True  True  True\n",
      "  True  True  True  True  True  True  True  True  True  True]\n",
      "[ True  True  True  True  True  True  True  True  True  True  True  True\n",
      "  True  True  True  True  True  True  True  True  True  True  True  True\n",
      "  True  True  True  True  True  True  True  True  True  True]\n"
     ]
    }
   ],
   "source": [
    "print(df[df['FertilityRate']!=df['FertilityRate']]['Country'].unique() == df[df['Migrants(net)']!=df['Migrants(net)']]['Country'].unique())\n",
    "print(df[df['MedianAge']!=df['MedianAge']]['Country'].unique() == df[df['Migrants(net)']!=df['Migrants(net)']]['Country'].unique())"
   ]
  },
  {
   "attachments": {},
   "cell_type": "markdown",
   "metadata": {},
   "source": [
    "Từ đó, ta xác định được 2 loại NaN.\n",
    " + `missing`: các nước thiếu giá trị FertilityRate, MedianAge, Migrants(net).\n",
    " + `missing_priority`: các nước thiếu giá trị UrbanPopulation."
   ]
  },
  {
   "cell_type": "code",
   "execution_count": 33,
   "metadata": {},
   "outputs": [
    {
     "name": "stdout",
     "output_type": "stream",
     "text": [
      "['Anguilla' 'Bermuda' 'Cayman Islands' 'Gibraltar' 'Guadeloupe' 'Holy See'\n",
      " 'Hong Kong' 'Kuwait' 'Macao' 'Monaco' 'Nauru' 'Northern Mariana Islands'\n",
      " 'Palau' 'Puerto Rico' 'Singapore' 'Sint Maarten' 'Venezuela']\n"
     ]
    }
   ],
   "source": [
    "missing = df[df['FertilityRate']!=df['FertilityRate']]['Country'].unique()\n",
    "missing_priority = df[df['UrbanPopulation']!=df['UrbanPopulation']]['Country'].unique()"
   ]
  },
  {
   "attachments": {},
   "cell_type": "markdown",
   "metadata": {},
   "source": [
    "<b> Sử dụng hồi quy thay thế các giá trị bị thiếu </b>\n",
    "\n",
    "`(Sử dụng hồi quy nhằm dự đoán dữ liệu bị sát với thực tế hơn, đồng thời thực hiện trực quan hóa dễ dàng hơn)`"
   ]
  },
  {
   "attachments": {},
   "cell_type": "markdown",
   "metadata": {},
   "source": [
    "Xem xét trên df thấy cột UrbanPopulation, UrbanPop% chỉ có thiếu vài giá trị."
   ]
  },
  {
   "attachments": {},
   "cell_type": "markdown",
   "metadata": {},
   "source": [
    "- Kiểm tra nước nào không thể dùng hồi quy để thay thế NaN (Các nước không thể hồi quy là các nước bị thiếu dữ liệu nhiều hơn 16)."
   ]
  },
  {
   "cell_type": "code",
   "execution_count": 34,
   "metadata": {},
   "outputs": [
    {
     "name": "stdout",
     "output_type": "stream",
     "text": [
      "Holy See 17\n"
     ]
    }
   ],
   "source": [
    "for x in [i for i in missing_priority] :\n",
    "    df_=df[df['Country']==x]\n",
    "    (r,c) = df_[df_['UrbanPopulation']!=df_['UrbanPopulation']].shape\n",
    "    print(x,r) if r>16 else 0"
   ]
  },
  {
   "attachments": {},
   "cell_type": "markdown",
   "metadata": {},
   "source": [
    "- Xử lý riêng cho nước Holy See (Lấy các giá trị không NaN gán cho giá trị bị thiếu)."
   ]
  },
  {
   "cell_type": "code",
   "execution_count": 35,
   "metadata": {},
   "outputs": [
    {
     "name": "stdout",
     "output_type": "stream",
     "text": [
      "99.9\n"
     ]
    }
   ],
   "source": [
    "HolySee_Percent_Urban=[i for i in df.loc[df['Country']=='Holy See']['UrbanPop%'].values if i==i][0] \n",
    "for i in df.loc[df['Country']=='Holy See'].index:\n",
    "    df.at[i,'UrbanPop%']=HolySee_Percent_Urban\n",
    "    df.at[i,'UrbanPopulation']=round(HolySee_Percent_Urban*df.loc[i]['Population']/100)"
   ]
  },
  {
   "attachments": {},
   "cell_type": "markdown",
   "metadata": {},
   "source": [
    "Hồi quy cho các nước còn lại "
   ]
  },
  {
   "cell_type": "code",
   "execution_count": 16,
   "metadata": {},
   "outputs": [],
   "source": [
    "def regressionFillUrban(df,Country):\n",
    "    df_=df[df['Country']==Country]\n",
    "    r=df_[df_['UrbanPopulation']!=df_['UrbanPopulation']].index\n",
    "    df_=df_[df_['UrbanPopulation']==df_['UrbanPopulation']]\n",
    "    def estimate_coef(x, y):\n",
    "        n = np.size(x)\n",
    "        m_x = np.mean(x)\n",
    "        m_y = np.mean(y)\n",
    "        SS_xy = np.sum(y*x) - n*m_y*m_x\n",
    "        SS_xx = np.sum(x*x) - n*m_x*m_x\n",
    "        b_1 = SS_xy / SS_xx\n",
    "        b_0 = m_y - b_1*m_x\n",
    "        return (b_0, b_1)\n",
    "    def regression(b,x):\n",
    "        return b[0] + b[1]*x\n",
    "    b=estimate_coef(df_['Year'],df_['UrbanPop%'])\n",
    "    for i in r :\n",
    "        df.at[i,'UrbanPop%']=min(regression(b,df.loc[i]['Year']),100)\n",
    "        df.at[i,'UrbanPopulation']=round(df.loc[i]['UrbanPop%']*df.loc[i]['Population']/100,0)\n",
    "for i in missing_priority:\n",
    "    regressionFillUrban(df,i)\n"
   ]
  },
  {
   "attachments": {},
   "cell_type": "markdown",
   "metadata": {},
   "source": [
    "- Kiểm tra lại nước Venezuela có giá trị NaN đã được thay thế bằng hồi quy. "
   ]
  },
  {
   "cell_type": "code",
   "execution_count": 17,
   "metadata": {},
   "outputs": [
    {
     "data": {
      "text/html": [
       "<div>\n",
       "<style scoped>\n",
       "    .dataframe tbody tr th:only-of-type {\n",
       "        vertical-align: middle;\n",
       "    }\n",
       "\n",
       "    .dataframe tbody tr th {\n",
       "        vertical-align: top;\n",
       "    }\n",
       "\n",
       "    .dataframe thead th {\n",
       "        text-align: right;\n",
       "    }\n",
       "</style>\n",
       "<table border=\"1\" class=\"dataframe\">\n",
       "  <thead>\n",
       "    <tr style=\"text-align: right;\">\n",
       "      <th></th>\n",
       "      <th>Year</th>\n",
       "      <th>Population</th>\n",
       "      <th>Yearly%Change</th>\n",
       "      <th>YearlyChange</th>\n",
       "      <th>Migrants(net)</th>\n",
       "      <th>MedianAge</th>\n",
       "      <th>FertilityRate</th>\n",
       "      <th>Density(P/Km2)</th>\n",
       "      <th>UrbanPop%</th>\n",
       "      <th>UrbanPopulation</th>\n",
       "      <th>Country%OfWorldPop</th>\n",
       "      <th>GlobalRank</th>\n",
       "      <th>Country</th>\n",
       "      <th>Continent</th>\n",
       "    </tr>\n",
       "  </thead>\n",
       "  <tbody>\n",
       "    <tr>\n",
       "      <th>4104</th>\n",
       "      <td>1955</td>\n",
       "      <td>6744695</td>\n",
       "      <td>4.23</td>\n",
       "      <td>252543</td>\n",
       "      <td>44015.0</td>\n",
       "      <td>17.3</td>\n",
       "      <td>6.46</td>\n",
       "      <td>8</td>\n",
       "      <td>54.700000</td>\n",
       "      <td>3687084.0</td>\n",
       "      <td>0.24</td>\n",
       "      <td>60</td>\n",
       "      <td>Venezuela</td>\n",
       "      <td>Latin America and the Caribbean</td>\n",
       "    </tr>\n",
       "    <tr>\n",
       "      <th>4105</th>\n",
       "      <td>1960</td>\n",
       "      <td>8141841</td>\n",
       "      <td>3.84</td>\n",
       "      <td>279429</td>\n",
       "      <td>15964.0</td>\n",
       "      <td>17.0</td>\n",
       "      <td>6.46</td>\n",
       "      <td>9</td>\n",
       "      <td>61.700000</td>\n",
       "      <td>5019512.0</td>\n",
       "      <td>0.27</td>\n",
       "      <td>53</td>\n",
       "      <td>Venezuela</td>\n",
       "      <td>Latin America and the Caribbean</td>\n",
       "    </tr>\n",
       "    <tr>\n",
       "      <th>4106</th>\n",
       "      <td>1965</td>\n",
       "      <td>9692278</td>\n",
       "      <td>3.55</td>\n",
       "      <td>310087</td>\n",
       "      <td>3774.0</td>\n",
       "      <td>16.9</td>\n",
       "      <td>6.18</td>\n",
       "      <td>11</td>\n",
       "      <td>67.900000</td>\n",
       "      <td>6584735.0</td>\n",
       "      <td>0.29</td>\n",
       "      <td>60</td>\n",
       "      <td>Venezuela</td>\n",
       "      <td>Latin America and the Caribbean</td>\n",
       "    </tr>\n",
       "    <tr>\n",
       "      <th>4107</th>\n",
       "      <td>1970</td>\n",
       "      <td>11396393</td>\n",
       "      <td>3.29</td>\n",
       "      <td>340823</td>\n",
       "      <td>632.0</td>\n",
       "      <td>17.1</td>\n",
       "      <td>5.70</td>\n",
       "      <td>13</td>\n",
       "      <td>73.100000</td>\n",
       "      <td>8325983.0</td>\n",
       "      <td>0.31</td>\n",
       "      <td>46</td>\n",
       "      <td>Venezuela</td>\n",
       "      <td>Latin America and the Caribbean</td>\n",
       "    </tr>\n",
       "    <tr>\n",
       "      <th>4108</th>\n",
       "      <td>1975</td>\n",
       "      <td>13189509</td>\n",
       "      <td>2.97</td>\n",
       "      <td>358623</td>\n",
       "      <td>188.0</td>\n",
       "      <td>17.9</td>\n",
       "      <td>4.94</td>\n",
       "      <td>15</td>\n",
       "      <td>76.800000</td>\n",
       "      <td>10125741.0</td>\n",
       "      <td>0.32</td>\n",
       "      <td>47</td>\n",
       "      <td>Venezuela</td>\n",
       "      <td>Latin America and the Caribbean</td>\n",
       "    </tr>\n",
       "    <tr>\n",
       "      <th>4109</th>\n",
       "      <td>1980</td>\n",
       "      <td>15182611</td>\n",
       "      <td>2.85</td>\n",
       "      <td>398620</td>\n",
       "      <td>224.0</td>\n",
       "      <td>18.9</td>\n",
       "      <td>4.47</td>\n",
       "      <td>17</td>\n",
       "      <td>80.000000</td>\n",
       "      <td>12150036.0</td>\n",
       "      <td>0.34</td>\n",
       "      <td>42</td>\n",
       "      <td>Venezuela</td>\n",
       "      <td>Latin America and the Caribbean</td>\n",
       "    </tr>\n",
       "    <tr>\n",
       "      <th>4110</th>\n",
       "      <td>1985</td>\n",
       "      <td>17319520</td>\n",
       "      <td>2.67</td>\n",
       "      <td>427382</td>\n",
       "      <td>276.0</td>\n",
       "      <td>19.9</td>\n",
       "      <td>3.96</td>\n",
       "      <td>20</td>\n",
       "      <td>82.800000</td>\n",
       "      <td>14343460.0</td>\n",
       "      <td>0.36</td>\n",
       "      <td>42</td>\n",
       "      <td>Venezuela</td>\n",
       "      <td>Latin America and the Caribbean</td>\n",
       "    </tr>\n",
       "    <tr>\n",
       "      <th>4111</th>\n",
       "      <td>1990</td>\n",
       "      <td>19632665</td>\n",
       "      <td>2.54</td>\n",
       "      <td>462629</td>\n",
       "      <td>184.0</td>\n",
       "      <td>20.9</td>\n",
       "      <td>3.65</td>\n",
       "      <td>22</td>\n",
       "      <td>85.300000</td>\n",
       "      <td>16740397.0</td>\n",
       "      <td>0.37</td>\n",
       "      <td>43</td>\n",
       "      <td>Venezuela</td>\n",
       "      <td>Latin America and the Caribbean</td>\n",
       "    </tr>\n",
       "    <tr>\n",
       "      <th>4112</th>\n",
       "      <td>1995</td>\n",
       "      <td>21931084</td>\n",
       "      <td>2.24</td>\n",
       "      <td>459684</td>\n",
       "      <td>-454.0</td>\n",
       "      <td>22.0</td>\n",
       "      <td>3.25</td>\n",
       "      <td>25</td>\n",
       "      <td>87.000000</td>\n",
       "      <td>19085299.0</td>\n",
       "      <td>0.38</td>\n",
       "      <td>41</td>\n",
       "      <td>Venezuela</td>\n",
       "      <td>Latin America and the Caribbean</td>\n",
       "    </tr>\n",
       "    <tr>\n",
       "      <th>4113</th>\n",
       "      <td>2000</td>\n",
       "      <td>24192446</td>\n",
       "      <td>1.98</td>\n",
       "      <td>452272</td>\n",
       "      <td>-908.0</td>\n",
       "      <td>23.2</td>\n",
       "      <td>2.94</td>\n",
       "      <td>27</td>\n",
       "      <td>88.600000</td>\n",
       "      <td>21441865.0</td>\n",
       "      <td>0.39</td>\n",
       "      <td>40</td>\n",
       "      <td>Venezuela</td>\n",
       "      <td>Latin America and the Caribbean</td>\n",
       "    </tr>\n",
       "    <tr>\n",
       "      <th>4114</th>\n",
       "      <td>2005</td>\n",
       "      <td>26432447</td>\n",
       "      <td>1.79</td>\n",
       "      <td>448000</td>\n",
       "      <td>-4548.0</td>\n",
       "      <td>24.5</td>\n",
       "      <td>2.72</td>\n",
       "      <td>30</td>\n",
       "      <td>89.100000</td>\n",
       "      <td>23557733.0</td>\n",
       "      <td>0.40</td>\n",
       "      <td>41</td>\n",
       "      <td>Venezuela</td>\n",
       "      <td>Latin America and the Caribbean</td>\n",
       "    </tr>\n",
       "    <tr>\n",
       "      <th>4115</th>\n",
       "      <td>2010</td>\n",
       "      <td>28439940</td>\n",
       "      <td>1.47</td>\n",
       "      <td>401499</td>\n",
       "      <td>-40044.0</td>\n",
       "      <td>25.8</td>\n",
       "      <td>2.55</td>\n",
       "      <td>32</td>\n",
       "      <td>89.900000</td>\n",
       "      <td>25568720.0</td>\n",
       "      <td>0.41</td>\n",
       "      <td>43</td>\n",
       "      <td>Venezuela</td>\n",
       "      <td>Latin America and the Caribbean</td>\n",
       "    </tr>\n",
       "    <tr>\n",
       "      <th>4116</th>\n",
       "      <td>2015</td>\n",
       "      <td>30081829</td>\n",
       "      <td>1.13</td>\n",
       "      <td>328378</td>\n",
       "      <td>-86208.0</td>\n",
       "      <td>27.3</td>\n",
       "      <td>2.40</td>\n",
       "      <td>34</td>\n",
       "      <td>91.300000</td>\n",
       "      <td>27464635.0</td>\n",
       "      <td>0.41</td>\n",
       "      <td>45</td>\n",
       "      <td>Venezuela</td>\n",
       "      <td>Latin America and the Caribbean</td>\n",
       "    </tr>\n",
       "    <tr>\n",
       "      <th>4117</th>\n",
       "      <td>2016</td>\n",
       "      <td>29851255</td>\n",
       "      <td>-0.77</td>\n",
       "      <td>-230574</td>\n",
       "      <td>-653249.0</td>\n",
       "      <td>27.8</td>\n",
       "      <td>2.38</td>\n",
       "      <td>34</td>\n",
       "      <td>93.200000</td>\n",
       "      <td>27832085.0</td>\n",
       "      <td>0.40</td>\n",
       "      <td>45</td>\n",
       "      <td>Venezuela</td>\n",
       "      <td>Latin America and the Caribbean</td>\n",
       "    </tr>\n",
       "    <tr>\n",
       "      <th>4118</th>\n",
       "      <td>2017</td>\n",
       "      <td>29402484</td>\n",
       "      <td>-1.50</td>\n",
       "      <td>-448771</td>\n",
       "      <td>-653249.0</td>\n",
       "      <td>27.8</td>\n",
       "      <td>2.38</td>\n",
       "      <td>33</td>\n",
       "      <td>95.900000</td>\n",
       "      <td>28198251.0</td>\n",
       "      <td>0.39</td>\n",
       "      <td>46</td>\n",
       "      <td>Venezuela</td>\n",
       "      <td>Latin America and the Caribbean</td>\n",
       "    </tr>\n",
       "    <tr>\n",
       "      <th>4119</th>\n",
       "      <td>2018</td>\n",
       "      <td>28887118</td>\n",
       "      <td>-1.75</td>\n",
       "      <td>-515366</td>\n",
       "      <td>-653249.0</td>\n",
       "      <td>27.8</td>\n",
       "      <td>2.38</td>\n",
       "      <td>33</td>\n",
       "      <td>98.900000</td>\n",
       "      <td>28562719.0</td>\n",
       "      <td>0.38</td>\n",
       "      <td>48</td>\n",
       "      <td>Venezuela</td>\n",
       "      <td>Latin America and the Caribbean</td>\n",
       "    </tr>\n",
       "    <tr>\n",
       "      <th>4120</th>\n",
       "      <td>2019</td>\n",
       "      <td>28515829</td>\n",
       "      <td>-1.29</td>\n",
       "      <td>-371289</td>\n",
       "      <td>-653249.0</td>\n",
       "      <td>27.8</td>\n",
       "      <td>2.38</td>\n",
       "      <td>32</td>\n",
       "      <td>97.805917</td>\n",
       "      <td>27890168.0</td>\n",
       "      <td>0.37</td>\n",
       "      <td>50</td>\n",
       "      <td>Venezuela</td>\n",
       "      <td>Latin America and the Caribbean</td>\n",
       "    </tr>\n",
       "    <tr>\n",
       "      <th>4121</th>\n",
       "      <td>2020</td>\n",
       "      <td>28435940</td>\n",
       "      <td>-0.28</td>\n",
       "      <td>-79889</td>\n",
       "      <td>-653249.0</td>\n",
       "      <td>29.6</td>\n",
       "      <td>2.28</td>\n",
       "      <td>32</td>\n",
       "      <td>98.361039</td>\n",
       "      <td>27969886.0</td>\n",
       "      <td>0.36</td>\n",
       "      <td>50</td>\n",
       "      <td>Venezuela</td>\n",
       "      <td>Latin America and the Caribbean</td>\n",
       "    </tr>\n",
       "  </tbody>\n",
       "</table>\n",
       "</div>"
      ],
      "text/plain": [
       "      Year  Population  Yearly%Change  YearlyChange  Migrants(net)  MedianAge  \\\n",
       "4104  1955     6744695           4.23        252543        44015.0       17.3   \n",
       "4105  1960     8141841           3.84        279429        15964.0       17.0   \n",
       "4106  1965     9692278           3.55        310087         3774.0       16.9   \n",
       "4107  1970    11396393           3.29        340823          632.0       17.1   \n",
       "4108  1975    13189509           2.97        358623          188.0       17.9   \n",
       "4109  1980    15182611           2.85        398620          224.0       18.9   \n",
       "4110  1985    17319520           2.67        427382          276.0       19.9   \n",
       "4111  1990    19632665           2.54        462629          184.0       20.9   \n",
       "4112  1995    21931084           2.24        459684         -454.0       22.0   \n",
       "4113  2000    24192446           1.98        452272         -908.0       23.2   \n",
       "4114  2005    26432447           1.79        448000        -4548.0       24.5   \n",
       "4115  2010    28439940           1.47        401499       -40044.0       25.8   \n",
       "4116  2015    30081829           1.13        328378       -86208.0       27.3   \n",
       "4117  2016    29851255          -0.77       -230574      -653249.0       27.8   \n",
       "4118  2017    29402484          -1.50       -448771      -653249.0       27.8   \n",
       "4119  2018    28887118          -1.75       -515366      -653249.0       27.8   \n",
       "4120  2019    28515829          -1.29       -371289      -653249.0       27.8   \n",
       "4121  2020    28435940          -0.28        -79889      -653249.0       29.6   \n",
       "\n",
       "      FertilityRate  Density(P/Km2)  UrbanPop%  UrbanPopulation  \\\n",
       "4104           6.46               8  54.700000        3687084.0   \n",
       "4105           6.46               9  61.700000        5019512.0   \n",
       "4106           6.18              11  67.900000        6584735.0   \n",
       "4107           5.70              13  73.100000        8325983.0   \n",
       "4108           4.94              15  76.800000       10125741.0   \n",
       "4109           4.47              17  80.000000       12150036.0   \n",
       "4110           3.96              20  82.800000       14343460.0   \n",
       "4111           3.65              22  85.300000       16740397.0   \n",
       "4112           3.25              25  87.000000       19085299.0   \n",
       "4113           2.94              27  88.600000       21441865.0   \n",
       "4114           2.72              30  89.100000       23557733.0   \n",
       "4115           2.55              32  89.900000       25568720.0   \n",
       "4116           2.40              34  91.300000       27464635.0   \n",
       "4117           2.38              34  93.200000       27832085.0   \n",
       "4118           2.38              33  95.900000       28198251.0   \n",
       "4119           2.38              33  98.900000       28562719.0   \n",
       "4120           2.38              32  97.805917       27890168.0   \n",
       "4121           2.28              32  98.361039       27969886.0   \n",
       "\n",
       "      Country%OfWorldPop  GlobalRank    Country  \\\n",
       "4104                0.24          60  Venezuela   \n",
       "4105                0.27          53  Venezuela   \n",
       "4106                0.29          60  Venezuela   \n",
       "4107                0.31          46  Venezuela   \n",
       "4108                0.32          47  Venezuela   \n",
       "4109                0.34          42  Venezuela   \n",
       "4110                0.36          42  Venezuela   \n",
       "4111                0.37          43  Venezuela   \n",
       "4112                0.38          41  Venezuela   \n",
       "4113                0.39          40  Venezuela   \n",
       "4114                0.40          41  Venezuela   \n",
       "4115                0.41          43  Venezuela   \n",
       "4116                0.41          45  Venezuela   \n",
       "4117                0.40          45  Venezuela   \n",
       "4118                0.39          46  Venezuela   \n",
       "4119                0.38          48  Venezuela   \n",
       "4120                0.37          50  Venezuela   \n",
       "4121                0.36          50  Venezuela   \n",
       "\n",
       "                            Continent  \n",
       "4104  Latin America and the Caribbean  \n",
       "4105  Latin America and the Caribbean  \n",
       "4106  Latin America and the Caribbean  \n",
       "4107  Latin America and the Caribbean  \n",
       "4108  Latin America and the Caribbean  \n",
       "4109  Latin America and the Caribbean  \n",
       "4110  Latin America and the Caribbean  \n",
       "4111  Latin America and the Caribbean  \n",
       "4112  Latin America and the Caribbean  \n",
       "4113  Latin America and the Caribbean  \n",
       "4114  Latin America and the Caribbean  \n",
       "4115  Latin America and the Caribbean  \n",
       "4116  Latin America and the Caribbean  \n",
       "4117  Latin America and the Caribbean  \n",
       "4118  Latin America and the Caribbean  \n",
       "4119  Latin America and the Caribbean  \n",
       "4120  Latin America and the Caribbean  \n",
       "4121  Latin America and the Caribbean  "
      ]
     },
     "execution_count": 17,
     "metadata": {},
     "output_type": "execute_result"
    }
   ],
   "source": [
    "df[df['Country']=='Venezuela']"
   ]
  },
  {
   "attachments": {},
   "cell_type": "markdown",
   "metadata": {},
   "source": [
    "Xem xét sự phân bố giá trị của FertilityRate, MedianAge, Migrants(net) thấy dữ liệu phân bố đều.\n",
    "\n",
    "Do đó thay thế bằng giá trị trung vị hoặc trung bình đều không hợp lí.\n",
    "\n",
    "Các nước có dòng thiếu các giá trị này luôn thiếu cả cột giá trị này.\n",
    "\n",
    "=> không cần xem xét và bỏ qua."
   ]
  },
  {
   "cell_type": "code",
   "execution_count": 18,
   "metadata": {},
   "outputs": [],
   "source": [
    "df=df.fillna(0)"
   ]
  },
  {
   "attachments": {},
   "cell_type": "markdown",
   "metadata": {},
   "source": [
    "Kiểm tra còn cột nào chứa NaN."
   ]
  },
  {
   "cell_type": "code",
   "execution_count": 19,
   "metadata": {},
   "outputs": [
    {
     "data": {
      "text/plain": [
       "[]"
      ]
     },
     "execution_count": 19,
     "metadata": {},
     "output_type": "execute_result"
    }
   ],
   "source": [
    "[x for x in df.columns if len([i for i in df[x] if i!=i])>1 ]"
   ]
  },
  {
   "attachments": {},
   "cell_type": "markdown",
   "metadata": {},
   "source": [
    "Về logic nếu có diện tích, dân số, ta có thể tính được mật độ dân số \n",
    "Ta bỏ đi cột Density(P/Km2)"
   ]
  },
  {
   "cell_type": "code",
   "execution_count": 20,
   "metadata": {},
   "outputs": [
    {
     "data": {
      "text/plain": [
       "0       13\n",
       "1       14\n",
       "2       15\n",
       "3       17\n",
       "4       19\n",
       "        ..\n",
       "4225    36\n",
       "4226    37\n",
       "4227    37\n",
       "4228    38\n",
       "4229    38\n",
       "Name: Density(P/Km2), Length: 4230, dtype: int64"
      ]
     },
     "execution_count": 20,
     "metadata": {},
     "output_type": "execute_result"
    }
   ],
   "source": [
    "df.pop('Density(P/Km2)')"
   ]
  },
  {
   "attachments": {},
   "cell_type": "markdown",
   "metadata": {},
   "source": [
    "Cập nhật lại file \"population.csv\"."
   ]
  },
  {
   "cell_type": "code",
   "execution_count": 21,
   "metadata": {},
   "outputs": [],
   "source": [
    "df.to_csv('./population.csv')"
   ]
  }
 ],
 "metadata": {
  "kernelspec": {
   "display_name": "Python 3",
   "language": "python",
   "name": "python3"
  },
  "language_info": {
   "codemirror_mode": {
    "name": "ipython",
    "version": 3
   },
   "file_extension": ".py",
   "mimetype": "text/x-python",
   "name": "python",
   "nbconvert_exporter": "python",
   "pygments_lexer": "ipython3",
   "version": "3.10.8 (tags/v3.10.8:aaaf517, Oct 11 2022, 16:50:30) [MSC v.1933 64 bit (AMD64)]"
  },
  "orig_nbformat": 4,
  "vscode": {
   "interpreter": {
    "hash": "369f2c481f4da34e4445cda3fffd2e751bd1c4d706f27375911949ba6bb62e1c"
   }
  }
 },
 "nbformat": 4,
 "nbformat_minor": 2
}
