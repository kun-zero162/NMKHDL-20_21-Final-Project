{
 "cells": [
  {
   "cell_type": "markdown",
   "id": "ccfc422a",
   "metadata": {},
   "source": [
    "# Đồ án cuối kỳ\n",
    "\n",
    "(Cập nhật lần cuối: 06/12/2022)\n",
    "\n",
    "Họ tên: Nguyễn Hoàng Việt\n",
    "\n",
    "MSSV: 20120402"
   ]
  },
  {
   "cell_type": "markdown",
   "id": "b8f1719d",
   "metadata": {},
   "source": [
    "# 1. Thu thập dữ liệu"
   ]
  },
  {
   "cell_type": "markdown",
   "id": "011afebf",
   "metadata": {},
   "source": [
    "Dữ liệu chỉ số và chất lượng không khí:\n",
    "- Từ 0h ngày 1/6/2021 - 0h ngày 25/6/2021 của tỉnh Quảng Bình.\n",
    "- Từ 0h ngày 1/6/2021 - 0h ngày 1/9/2021 của tỉnh Quyriq, Iran.\n",
    "- Từ 0h ngày 1/12/2020 - 0h ngày 20/12/2020 của TP. Vũ Hán, tỉnh Hồ Bắc, Trung Quốc.\n",
    "Dữ liệu được thu thập thông qua api từ trang [Open Weather Map](https://openweathermap.org/api/air-pollution)"
   ]
  },
  {
   "cell_type": "markdown",
   "id": "9faa8759",
   "metadata": {},
   "source": [
    "API key = 31c4a0771a0556ec808b4c09c73e965e"
   ]
  },
  {
   "cell_type": "code",
   "execution_count": 1,
   "id": "b97c6586",
   "metadata": {},
   "outputs": [],
   "source": [
    "from bs4 import BeautifulSoup\n",
    "import requests\n",
    "import json\n",
    "import pandas as pd\n",
    "import numpy as np"
   ]
  },
  {
   "cell_type": "code",
   "execution_count": 2,
   "id": "9cef4df9",
   "metadata": {},
   "outputs": [],
   "source": [
    "html_crawl = requests.get(\"https://www.worldometers.info/world-population/population-by-country/\").content\n",
    "\n",
    "soup = BeautifulSoup(html_crawl, 'html.parser')\n",
    "\n",
    "table = soup.find(\"table\", class_=\"table table-striped table-bordered\")"
   ]
  },
  {
   "cell_type": "code",
   "execution_count": 3,
   "id": "476dee02",
   "metadata": {},
   "outputs": [
    {
     "data": {
      "text/html": [
       "<div>\n",
       "<style scoped>\n",
       "    .dataframe tbody tr th:only-of-type {\n",
       "        vertical-align: middle;\n",
       "    }\n",
       "\n",
       "    .dataframe tbody tr th {\n",
       "        vertical-align: top;\n",
       "    }\n",
       "\n",
       "    .dataframe thead th {\n",
       "        text-align: right;\n",
       "    }\n",
       "</style>\n",
       "<table border=\"1\" class=\"dataframe\">\n",
       "  <thead>\n",
       "    <tr style=\"text-align: right;\">\n",
       "      <th></th>\n",
       "      <th>Ranking</th>\n",
       "      <th>Country (or dependency)</th>\n",
       "      <th>Population (2020)</th>\n",
       "      <th>Yearly Change</th>\n",
       "      <th>Net Change</th>\n",
       "      <th>Density (P/Km²)</th>\n",
       "      <th>Land Area (Km²)</th>\n",
       "      <th>Migrants (net)</th>\n",
       "      <th>Fert. Rate</th>\n",
       "      <th>Med. Age</th>\n",
       "      <th>Urban Pop %</th>\n",
       "      <th>World Share</th>\n",
       "    </tr>\n",
       "  </thead>\n",
       "  <tbody>\n",
       "    <tr>\n",
       "      <th>0</th>\n",
       "      <td>1</td>\n",
       "      <td>China</td>\n",
       "      <td>1,439,323,776</td>\n",
       "      <td>0.39 %</td>\n",
       "      <td>5,540,090</td>\n",
       "      <td>153</td>\n",
       "      <td>9,388,211</td>\n",
       "      <td>-348,399</td>\n",
       "      <td>1.7</td>\n",
       "      <td>38</td>\n",
       "      <td>61 %</td>\n",
       "      <td>18.47 %</td>\n",
       "    </tr>\n",
       "    <tr>\n",
       "      <th>1</th>\n",
       "      <td>2</td>\n",
       "      <td>India</td>\n",
       "      <td>1,380,004,385</td>\n",
       "      <td>0.99 %</td>\n",
       "      <td>13,586,631</td>\n",
       "      <td>464</td>\n",
       "      <td>2,973,190</td>\n",
       "      <td>-532,687</td>\n",
       "      <td>2.2</td>\n",
       "      <td>28</td>\n",
       "      <td>35 %</td>\n",
       "      <td>17.70 %</td>\n",
       "    </tr>\n",
       "    <tr>\n",
       "      <th>2</th>\n",
       "      <td>3</td>\n",
       "      <td>United States</td>\n",
       "      <td>331,002,651</td>\n",
       "      <td>0.59 %</td>\n",
       "      <td>1,937,734</td>\n",
       "      <td>36</td>\n",
       "      <td>9,147,420</td>\n",
       "      <td>954,806</td>\n",
       "      <td>1.8</td>\n",
       "      <td>38</td>\n",
       "      <td>83 %</td>\n",
       "      <td>4.25 %</td>\n",
       "    </tr>\n",
       "    <tr>\n",
       "      <th>3</th>\n",
       "      <td>4</td>\n",
       "      <td>Indonesia</td>\n",
       "      <td>273,523,615</td>\n",
       "      <td>1.07 %</td>\n",
       "      <td>2,898,047</td>\n",
       "      <td>151</td>\n",
       "      <td>1,811,570</td>\n",
       "      <td>-98,955</td>\n",
       "      <td>2.3</td>\n",
       "      <td>30</td>\n",
       "      <td>56 %</td>\n",
       "      <td>3.51 %</td>\n",
       "    </tr>\n",
       "    <tr>\n",
       "      <th>4</th>\n",
       "      <td>5</td>\n",
       "      <td>Pakistan</td>\n",
       "      <td>220,892,340</td>\n",
       "      <td>2.00 %</td>\n",
       "      <td>4,327,022</td>\n",
       "      <td>287</td>\n",
       "      <td>770,880</td>\n",
       "      <td>-233,379</td>\n",
       "      <td>3.6</td>\n",
       "      <td>23</td>\n",
       "      <td>35 %</td>\n",
       "      <td>2.83 %</td>\n",
       "    </tr>\n",
       "  </tbody>\n",
       "</table>\n",
       "</div>"
      ],
      "text/plain": [
       "  Ranking Country (or dependency) Population (2020) Yearly Change  Net Change  \\\n",
       "0       1                   China     1,439,323,776        0.39 %   5,540,090   \n",
       "1       2                   India     1,380,004,385        0.99 %  13,586,631   \n",
       "2       3           United States       331,002,651        0.59 %   1,937,734   \n",
       "3       4               Indonesia       273,523,615        1.07 %   2,898,047   \n",
       "4       5                Pakistan       220,892,340        2.00 %   4,327,022   \n",
       "\n",
       "  Density (P/Km²) Land Area (Km²) Migrants (net) Fert. Rate Med. Age  \\\n",
       "0             153       9,388,211       -348,399        1.7       38   \n",
       "1             464       2,973,190       -532,687        2.2       28   \n",
       "2              36       9,147,420        954,806        1.8       38   \n",
       "3             151       1,811,570        -98,955        2.3       30   \n",
       "4             287         770,880       -233,379        3.6       23   \n",
       "\n",
       "  Urban Pop % World Share  \n",
       "0        61 %     18.47 %  \n",
       "1        35 %     17.70 %  \n",
       "2        83 %      4.25 %  \n",
       "3        56 %      3.51 %  \n",
       "4        35 %      2.83 %  "
      ]
     },
     "execution_count": 3,
     "metadata": {},
     "output_type": "execute_result"
    }
   ],
   "source": [
    "output_rows = []\n",
    "for i in table.findAll('tr'):\n",
    "    cols = i.findAll('td')\n",
    "    row = []\n",
    "    \n",
    "    for column in cols:\n",
    "        row.append(column.text)\n",
    "\n",
    "    output_rows.append(row)\n",
    "\n",
    "del(output_rows[0])\n",
    "\n",
    "col_name = ['Ranking', 'Country (or dependency)', 'Population (2020)', 'Yearly Change', 'Net Change', \n",
    "'Density (P/Km²)', 'Land Area (Km²)', 'Migrants (net)', 'Fert. Rate', 'Med. Age', 'Urban Pop %', 'World Share']\n",
    "\n",
    "df = pd.DataFrame(data=output_rows, columns=col_name)\n",
    "df.head()"
   ]
  },
  {
   "cell_type": "code",
   "execution_count": 4,
   "id": "b38703c7",
   "metadata": {},
   "outputs": [],
   "source": [
    "df.to_csv('data.csv')"
   ]
  }
 ],
 "metadata": {
  "kernelspec": {
   "display_name": "Python 3",
   "language": "python",
   "name": "python3"
  },
  "language_info": {
   "codemirror_mode": {
    "name": "ipython",
    "version": 3
   },
   "file_extension": ".py",
   "mimetype": "text/x-python",
   "name": "python",
   "nbconvert_exporter": "python",
   "pygments_lexer": "ipython3",
   "version": "3.9.0 (tags/v3.9.0:9cf6752, Oct  5 2020, 15:34:40) [MSC v.1927 64 bit (AMD64)]"
  },
  "vscode": {
   "interpreter": {
    "hash": "06dfb6bf3f8d2e01eca403e452d10d7e48941f82fc8e846bbf4af72e10d72842"
   }
  }
 },
 "nbformat": 4,
 "nbformat_minor": 5
}
