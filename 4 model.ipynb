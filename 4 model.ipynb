{
 "cells": [
  {
   "attachments": {},
   "cell_type": "markdown",
   "metadata": {},
   "source": [
    "### **SỬ DỤNG MÔ HÌNH HỒI QUY (REGRESSION) ĐỂ DỰ ĐOÁN DÂN SỐ CÁC NƯỚC TRONG TƯƠNG LAI**\n",
    "\n",
    "<hr />"
   ]
  },
  {
   "attachments": {},
   "cell_type": "markdown",
   "metadata": {},
   "source": [
    "## **Import Thư viện**"
   ]
  },
  {
   "attachments": {},
   "cell_type": "markdown",
   "metadata": {},
   "source": [
    "Mô hình này cần dữ liệu để phân tích và vẽ đồ thị trực quan để đưa ra hướng đi hợp lí để tiến hành dự đoán."
   ]
  },
  {
   "cell_type": "code",
   "execution_count": 12,
   "metadata": {},
   "outputs": [],
   "source": [
    "#from bokeh.plotting.figure import figure\n",
    "import plotly.express as px\n",
    "import pandas as pd\n",
    "import numpy as np\n",
    "import plotly.graph_objects as go\n",
    "import matplotlib.pyplot as plt\n",
    "df=pd.read_csv('./population.csv')\n"
   ]
  },
  {
   "attachments": {},
   "cell_type": "markdown",
   "metadata": {},
   "source": [
    "## **Hồi quy Logistic các yếu tố ảnh hưởng đến dân số. Đâu là đất nước đáng sống?**\n",
    "\n",
    "Dân số là một trong những yếu tố quyết định chất lượng sống của 1 quốc gia, vấn đề kiểm soát dân số cũng là một vấn đề quan trọng hàng đầu. Chúng ta hãy cũng quan sát những nước được xem là ***Đáng sống nhất*** thế giới có những chỉ số như thế nào trong việc kiểm soát dân số.\n",
    "\n",
    "Một cuộc khảo sát với khoảng hơn 17.000 người từ khắp thế giới tham gia trên trang chuyên đưa ra các phân tích và xếp hạng **\"www.usnews.com\"** về vấn đề **\"Nước nào đáng sống nhất\"**. Chúng ta sẽ lấy thông tin của top 50 nước hàng đầu và lưu vào dataframe ***df_train*** bằng html request đơn giản."
   ]
  },
  {
   "cell_type": "code",
   "execution_count": 13,
   "metadata": {},
   "outputs": [
    {
     "data": {
      "text/html": [
       "<div>\n",
       "<style scoped>\n",
       "    .dataframe tbody tr th:only-of-type {\n",
       "        vertical-align: middle;\n",
       "    }\n",
       "\n",
       "    .dataframe tbody tr th {\n",
       "        vertical-align: top;\n",
       "    }\n",
       "\n",
       "    .dataframe thead th {\n",
       "        text-align: right;\n",
       "    }\n",
       "</style>\n",
       "<table border=\"1\" class=\"dataframe\">\n",
       "  <thead>\n",
       "    <tr style=\"text-align: right;\">\n",
       "      <th></th>\n",
       "      <th>Country</th>\n",
       "      <th>Population</th>\n",
       "      <th>Yearly%Change</th>\n",
       "      <th>MedianAge</th>\n",
       "      <th>UrbanPop%</th>\n",
       "      <th>Migrants(net)</th>\n",
       "      <th>FertilityRate</th>\n",
       "      <th>BestToLive</th>\n",
       "    </tr>\n",
       "  </thead>\n",
       "  <tbody>\n",
       "    <tr>\n",
       "      <th>0</th>\n",
       "      <td>Afghanistan</td>\n",
       "      <td>38928346</td>\n",
       "      <td>2.33</td>\n",
       "      <td>18.4</td>\n",
       "      <td>25.4</td>\n",
       "      <td>-62920.0</td>\n",
       "      <td>4.56</td>\n",
       "      <td>False</td>\n",
       "    </tr>\n",
       "    <tr>\n",
       "      <th>1</th>\n",
       "      <td>Albania</td>\n",
       "      <td>2877797</td>\n",
       "      <td>-0.11</td>\n",
       "      <td>36.4</td>\n",
       "      <td>63.5</td>\n",
       "      <td>-14000.0</td>\n",
       "      <td>1.62</td>\n",
       "      <td>False</td>\n",
       "    </tr>\n",
       "    <tr>\n",
       "      <th>2</th>\n",
       "      <td>Algeria</td>\n",
       "      <td>43851044</td>\n",
       "      <td>1.85</td>\n",
       "      <td>28.5</td>\n",
       "      <td>72.9</td>\n",
       "      <td>-10000.0</td>\n",
       "      <td>3.05</td>\n",
       "      <td>False</td>\n",
       "    </tr>\n",
       "    <tr>\n",
       "      <th>3</th>\n",
       "      <td>American Samoa</td>\n",
       "      <td>55191</td>\n",
       "      <td>-0.22</td>\n",
       "      <td>0.0</td>\n",
       "      <td>88.1</td>\n",
       "      <td>0.0</td>\n",
       "      <td>0.00</td>\n",
       "      <td>False</td>\n",
       "    </tr>\n",
       "    <tr>\n",
       "      <th>4</th>\n",
       "      <td>Andorra</td>\n",
       "      <td>77265</td>\n",
       "      <td>-0.19</td>\n",
       "      <td>0.0</td>\n",
       "      <td>87.8</td>\n",
       "      <td>0.0</td>\n",
       "      <td>0.00</td>\n",
       "      <td>False</td>\n",
       "    </tr>\n",
       "  </tbody>\n",
       "</table>\n",
       "</div>"
      ],
      "text/plain": [
       "          Country  Population  Yearly%Change  MedianAge  UrbanPop%  \\\n",
       "0     Afghanistan    38928346           2.33       18.4       25.4   \n",
       "1         Albania     2877797          -0.11       36.4       63.5   \n",
       "2         Algeria    43851044           1.85       28.5       72.9   \n",
       "3  American Samoa       55191          -0.22        0.0       88.1   \n",
       "4         Andorra       77265          -0.19        0.0       87.8   \n",
       "\n",
       "   Migrants(net)  FertilityRate  BestToLive  \n",
       "0       -62920.0           4.56       False  \n",
       "1       -14000.0           1.62       False  \n",
       "2       -10000.0           3.05       False  \n",
       "3            0.0           0.00       False  \n",
       "4            0.0           0.00       False  "
      ]
     },
     "execution_count": 13,
     "metadata": {},
     "output_type": "execute_result"
    }
   ],
   "source": [
    "import requests \n",
    "\n",
    "headers = {'User-Agent': 'Mozilla/5.0'}\n",
    "r = requests.get('https://www.usnews.com/news/best-countries/rankings/quality-of-life?renderer=json',headers=headers)\n",
    "best_country_to_live=r.json()\n",
    "best_country_to_live=[i['country'] for i in best_country_to_live['rankings']][:50]\n",
    "df_train=df[df['Year']==2020]\n",
    "df_train=df_train[['Country','Population','Yearly%Change','MedianAge','UrbanPop%','Migrants(net)','FertilityRate']]\n",
    "df_train['BestToLive']=[False]*df_train.shape[0]\n",
    "df_train=df_train.reset_index(drop=True)\n",
    "for i in best_country_to_live:\n",
    "    try:\n",
    "        index = df_train[df_train['Country']==i].index[0]\n",
    "        df_train.at[index,'BestToLive']=True\n",
    "    except:\n",
    "        pass\n",
    "df_train.head()"
   ]
  },
  {
   "attachments": {},
   "cell_type": "markdown",
   "metadata": {},
   "source": [
    "Ta sẽ lấy dữ liệu ở năm 2020 ra để tiến hành *phân lớp*. **Tại sao lại là 2020?**, là để sau khi tiến hành dự đoán, ta thử lấy kết quả đối chiếu với thời gian hiện tại, là vào cuối năm 2022 để đánh giá mô hình.\n",
    "\n",
    "Lựa chọn phân lớp theo 2 thuộc tính (đơn giản hóa bài toán dễ tạo nhiều mô hình)."
   ]
  },
  {
   "attachments": {},
   "cell_type": "markdown",
   "metadata": {},
   "source": [
    "**1)** Một đất nước phát triển, thì mật độ dân số ở khu vực thành thị sẽ rất cao, cũng đồng nghĩa với việc sẽ có nhiều dân cư ở nước khác sinh sống và làm việc tại các đất nước này. Vì vậy đầu tiên ta sẽ phân lớp và quan sát trên 2 thuộc tính: **UrbanPop%** (Tỉ lệ dân số thành thị) và **Migrants(net)** (Số dân nhập cư)."
   ]
  },
  {
   "cell_type": "code",
   "execution_count": 14,
   "metadata": {},
   "outputs": [],
   "source": [
    "X = [ [df_train.iloc[i]['UrbanPop%'], df_train.iloc[i]['Migrants(net)']] for i in range(df_train.shape[0]) ]\n",
    "y= list(df_train['BestToLive'])"
   ]
  },
  {
   "attachments": {},
   "cell_type": "markdown",
   "metadata": {},
   "source": [
    "Vẽ đồ thị trực quan với trục hoành là trục UrbanPop% và trục tung là Migrants(net), và điểm chấm màu đỏ là các nước được cho là **Đáng sống**."
   ]
  },
  {
   "cell_type": "code",
   "execution_count": 15,
   "metadata": {},
   "outputs": [
    {
     "data": {
      "application/vnd.plotly.v1+json": {
       "config": {
        "plotlyServerURL": "https://plot.ly"
       },
       "data": [
        {
         "customdata": [
          [
           "Afghanistan"
          ],
          [
           "Albania"
          ],
          [
           "Algeria"
          ],
          [
           "American Samoa"
          ],
          [
           "Andorra"
          ],
          [
           "Angola"
          ],
          [
           "Anguilla"
          ],
          [
           "Antigua and Barbuda"
          ],
          [
           "Armenia"
          ],
          [
           "Aruba"
          ],
          [
           "Azerbaijan"
          ],
          [
           "Bahamas"
          ],
          [
           "Bahrain"
          ],
          [
           "Bangladesh"
          ],
          [
           "Barbados"
          ],
          [
           "Belarus"
          ],
          [
           "Belize"
          ],
          [
           "Benin"
          ],
          [
           "Bermuda"
          ],
          [
           "Bhutan"
          ],
          [
           "Bolivia"
          ],
          [
           "Bosnia and Herzegovina"
          ],
          [
           "Botswana"
          ],
          [
           "British Virgin Islands"
          ],
          [
           "Brunei "
          ],
          [
           "Bulgaria"
          ],
          [
           "Burkina Faso"
          ],
          [
           "Burundi"
          ],
          [
           "Cabo Verde"
          ],
          [
           "Cambodia"
          ],
          [
           "Cameroon"
          ],
          [
           "Caribbean Netherlands"
          ],
          [
           "Cayman Islands"
          ],
          [
           "Central African Republic"
          ],
          [
           "Chad"
          ],
          [
           "Channel Islands"
          ],
          [
           "Colombia"
          ],
          [
           "Comoros"
          ],
          [
           "Congo"
          ],
          [
           "Cook Islands"
          ],
          [
           "Cuba"
          ],
          [
           "Curaçao"
          ],
          [
           "Cyprus"
          ],
          [
           "Czech Republic (Czechia)"
          ],
          [
           "Côte d'Ivoire"
          ],
          [
           "DR Congo"
          ],
          [
           "Djibouti"
          ],
          [
           "Dominica"
          ],
          [
           "Dominican Republic"
          ],
          [
           "Ecuador"
          ],
          [
           "El Salvador"
          ],
          [
           "Equatorial Guinea"
          ],
          [
           "Eritrea"
          ],
          [
           "Estonia"
          ],
          [
           "Eswatini"
          ],
          [
           "Ethiopia"
          ],
          [
           "Faeroe Islands"
          ],
          [
           "Falkland Islands"
          ],
          [
           "Fiji"
          ],
          [
           "French Guiana"
          ],
          [
           "French Polynesia"
          ],
          [
           "Gabon"
          ],
          [
           "Gambia"
          ],
          [
           "Georgia"
          ],
          [
           "Ghana"
          ],
          [
           "Gibraltar"
          ],
          [
           "Greenland"
          ],
          [
           "Grenada"
          ],
          [
           "Guadeloupe"
          ],
          [
           "Guam"
          ],
          [
           "Guatemala"
          ],
          [
           "Guinea"
          ],
          [
           "Guinea-Bissau"
          ],
          [
           "Guyana"
          ],
          [
           "Haiti"
          ],
          [
           "Holy See"
          ],
          [
           "Honduras"
          ],
          [
           "Hong Kong"
          ],
          [
           "Iceland"
          ],
          [
           "Iran"
          ],
          [
           "Iraq"
          ],
          [
           "Isle of Man"
          ],
          [
           "Jamaica"
          ],
          [
           "Jordan"
          ],
          [
           "Kazakhstan"
          ],
          [
           "Kenya"
          ],
          [
           "Kiribati"
          ],
          [
           "Kuwait"
          ],
          [
           "Kyrgyzstan"
          ],
          [
           "Laos"
          ],
          [
           "Latvia"
          ],
          [
           "Lebanon"
          ],
          [
           "Lesotho"
          ],
          [
           "Liberia"
          ],
          [
           "Libya"
          ],
          [
           "Liechtenstein"
          ],
          [
           "Lithuania"
          ],
          [
           "Macao"
          ],
          [
           "Madagascar"
          ],
          [
           "Malawi"
          ],
          [
           "Maldives"
          ],
          [
           "Mali"
          ],
          [
           "Malta"
          ],
          [
           "Marshall Islands"
          ],
          [
           "Martinique"
          ],
          [
           "Mauritania"
          ],
          [
           "Mauritius"
          ],
          [
           "Mayotte"
          ],
          [
           "Micronesia"
          ],
          [
           "Moldova"
          ],
          [
           "Monaco"
          ],
          [
           "Mongolia"
          ],
          [
           "Montenegro"
          ],
          [
           "Montserrat"
          ],
          [
           "Mozambique"
          ],
          [
           "Myanmar"
          ],
          [
           "Namibia"
          ],
          [
           "Nauru"
          ],
          [
           "Nepal"
          ],
          [
           "New Caledonia"
          ],
          [
           "Nicaragua"
          ],
          [
           "Niger"
          ],
          [
           "Nigeria"
          ],
          [
           "Niue"
          ],
          [
           "North Korea"
          ],
          [
           "North Macedonia"
          ],
          [
           "Northern Mariana Islands"
          ],
          [
           "Oman"
          ],
          [
           "Pakistan"
          ],
          [
           "Palau"
          ],
          [
           "Panama"
          ],
          [
           "Papua New Guinea"
          ],
          [
           "Paraguay"
          ],
          [
           "Puerto Rico"
          ],
          [
           "Romania"
          ],
          [
           "Rwanda"
          ],
          [
           "Réunion"
          ],
          [
           "Saint Barthelemy"
          ],
          [
           "Saint Helena"
          ],
          [
           "Saint Kitts & Nevis"
          ],
          [
           "Saint Lucia"
          ],
          [
           "Saint Martin"
          ],
          [
           "Saint Pierre & Miquelon"
          ],
          [
           "Samoa"
          ],
          [
           "San Marino"
          ],
          [
           "Sao Tome & Principe"
          ],
          [
           "Senegal"
          ],
          [
           "Serbia"
          ],
          [
           "Seychelles"
          ],
          [
           "Sierra Leone"
          ],
          [
           "Sint Maarten"
          ],
          [
           "Slovakia"
          ],
          [
           "Slovenia"
          ],
          [
           "Solomon Islands"
          ],
          [
           "Somalia"
          ],
          [
           "South Sudan"
          ],
          [
           "Sri Lanka"
          ],
          [
           "St. Vincent & Grenadines"
          ],
          [
           "State of Palestine"
          ],
          [
           "Sudan"
          ],
          [
           "Suriname"
          ],
          [
           "Syria"
          ],
          [
           "Taiwan"
          ],
          [
           "Tajikistan"
          ],
          [
           "Tanzania"
          ],
          [
           "Timor-Leste"
          ],
          [
           "Togo"
          ],
          [
           "Tokelau"
          ],
          [
           "Tonga"
          ],
          [
           "Trinidad and Tobago"
          ],
          [
           "Tunisia"
          ],
          [
           "Turkmenistan"
          ],
          [
           "Turks and Caicos"
          ],
          [
           "Tuvalu"
          ],
          [
           "U.S. Virgin Islands"
          ],
          [
           "Uganda"
          ],
          [
           "Ukraine"
          ],
          [
           "Uruguay"
          ],
          [
           "Uzbekistan"
          ],
          [
           "Vanuatu"
          ],
          [
           "Venezuela"
          ],
          [
           "Wallis & Futuna"
          ],
          [
           "Western Sahara"
          ],
          [
           "Yemen"
          ],
          [
           "Zambia"
          ],
          [
           "Zimbabwe"
          ]
         ],
         "hovertemplate": "BestToLive=False<br>UrbanPop%=%{x}<br>Migrants(net)=%{y}<br>Country=%{customdata[0]}<extra></extra>",
         "legendgroup": "False",
         "marker": {
          "color": "#636efa",
          "symbol": "circle"
         },
         "mode": "markers",
         "name": "False",
         "orientation": "v",
         "showlegend": true,
         "type": "scatter",
         "x": [
          25.4,
          63.5,
          72.9,
          88.1,
          87.8,
          66.7,
          95.95575757575756,
          26.2,
          62.8,
          43.6,
          56.2,
          86.1,
          89.3,
          39.4,
          31.2,
          79.2,
          46.1,
          48.4,
          97.4,
          45.8,
          69.3,
          52.3,
          72.8,
          52.4,
          79.5,
          75.6,
          30.6,
          13.8,
          68,
          24.2,
          56.3,
          75,
          97.2,
          43,
          23.3,
          29.8,
          80.4,
          29.4,
          69.9,
          75.3,
          78.3,
          88.7,
          66.8,
          73.5,
          51.3,
          45.6,
          79,
          74.1,
          84.5,
          63,
          73.4,
          73.3,
          63.3,
          67.9,
          30,
          21.3,
          43.3,
          66,
          59.1,
          87.3,
          64.1,
          87.1,
          59.4,
          58.1,
          56.7,
          97.67386934673152,
          87.3,
          35.5,
          100,
          94.9,
          51.8,
          38.6,
          44.9,
          26.9,
          56.9,
          99.9,
          57.3,
          100,
          94.4,
          75.5,
          73.1,
          53.4,
          55.4,
          91.5,
          57.7,
          27.8,
          57,
          100,
          35.6,
          35.7,
          68.6,
          78.4,
          31.5,
          52.6,
          78.2,
          14.6,
          71.3,
          100,
          38.5,
          18.5,
          34.5,
          44,
          93.2,
          70,
          91.6,
          56.9,
          40.8,
          45.8,
          68.2,
          42.7,
          100,
          67.2,
          67.6,
          9.6,
          38.3,
          31.4,
          55.2,
          100,
          21.4,
          71.9,
          57.2,
          16.5,
          52,
          46.4,
          62.5,
          58.6,
          88.3,
          87,
          35.1,
          94.61390525840692,
          68,
          13.1,
          61.6,
          100,
          54.6,
          17.6,
          99.8,
          0,
          27.2,
          32.9,
          18.6,
          0,
          99.8,
          18,
          97.1,
          74,
          49.4,
          56.2,
          56.2,
          43.3,
          96.5,
          53.7,
          55.2,
          23.2,
          46.8,
          24.6,
          18.4,
          52.9,
          80,
          35,
          65.1,
          60,
          78.9,
          27.3,
          37,
          32.8,
          43.3,
          0,
          24.3,
          52.4,
          70.1,
          52.5,
          89.3,
          62.4,
          96.3,
          25.7,
          69.4,
          96.1,
          50.1,
          24.4,
          98.36103859251055,
          0,
          86.8,
          38.4,
          45.3,
          38.4
         ],
         "xaxis": "x",
         "y": [
          -62920,
          -14000,
          -10000,
          0,
          0,
          6413,
          0,
          0,
          -4998,
          201,
          1200,
          1000,
          47800,
          -369501,
          -79,
          8730,
          1200,
          -2000,
          0,
          320,
          -9504,
          -21585,
          3000,
          0,
          0,
          -4800,
          -25000,
          2001,
          -1342,
          -30000,
          -4800,
          0,
          0,
          -40000,
          2000,
          1351,
          204796,
          -2000,
          -4000,
          0,
          -14400,
          515,
          5000,
          22011,
          -8000,
          23861,
          900,
          0,
          -30000,
          36400,
          -40539,
          16000,
          -39858,
          3911,
          -8353,
          30000,
          0,
          0,
          -6202,
          1200,
          -1000,
          3260,
          -3087,
          -10000,
          -10000,
          0,
          0,
          -200,
          -1440,
          -506,
          -9215,
          -4000,
          -1399,
          -6000,
          -35000,
          0,
          -6800,
          29308,
          380,
          -55000,
          7834,
          0,
          -11332,
          10220,
          -18000,
          -10000,
          -800,
          39520,
          -4000,
          -14704,
          -14837,
          -30012,
          -10047,
          -5000,
          -1999,
          0,
          -32780,
          5000,
          -1500,
          -16053,
          11370,
          -40000,
          900,
          0,
          -960,
          5000,
          0,
          0,
          -2957,
          -1387,
          0,
          -852,
          -480,
          0,
          -5000,
          -163313,
          -4806,
          0,
          41710,
          502,
          -21272,
          4000,
          -60000,
          0,
          -5403,
          -1000,
          0,
          87400,
          -233379,
          0,
          11200,
          -800,
          -16556,
          -97986,
          -73999,
          -9000,
          -1256,
          0,
          0,
          0,
          0,
          0,
          0,
          -2803,
          0,
          -1680,
          -20000,
          4000,
          -200,
          -4200,
          0,
          1485,
          2000,
          -1600,
          -40000,
          -174200,
          -97986,
          -200,
          -10563,
          -50000,
          -1000,
          -427391,
          30001,
          -20000,
          -40076,
          -5385,
          -2000,
          0,
          -800,
          -800,
          -4000,
          -5000,
          0,
          0,
          -451,
          168694,
          10000,
          -3000,
          -8863,
          120,
          -653249,
          0,
          5582,
          -30000,
          -8000,
          -116858
         ],
         "yaxis": "y"
        },
        {
         "customdata": [
          [
           "Argentina"
          ],
          [
           "Australia"
          ],
          [
           "Austria"
          ],
          [
           "Belgium"
          ],
          [
           "Brazil"
          ],
          [
           "Canada"
          ],
          [
           "Chile"
          ],
          [
           "China"
          ],
          [
           "Costa Rica"
          ],
          [
           "Croatia"
          ],
          [
           "Denmark"
          ],
          [
           "Egypt"
          ],
          [
           "Finland"
          ],
          [
           "France"
          ],
          [
           "Germany"
          ],
          [
           "Greece"
          ],
          [
           "Hungary"
          ],
          [
           "India"
          ],
          [
           "Indonesia"
          ],
          [
           "Ireland"
          ],
          [
           "Israel"
          ],
          [
           "Italy"
          ],
          [
           "Japan"
          ],
          [
           "Luxembourg"
          ],
          [
           "Malaysia"
          ],
          [
           "Mexico"
          ],
          [
           "Morocco"
          ],
          [
           "Netherlands"
          ],
          [
           "New Zealand"
          ],
          [
           "Norway"
          ],
          [
           "Peru"
          ],
          [
           "Philippines"
          ],
          [
           "Poland"
          ],
          [
           "Portugal"
          ],
          [
           "Qatar"
          ],
          [
           "Russia"
          ],
          [
           "Saudi Arabia"
          ],
          [
           "Singapore"
          ],
          [
           "South Africa"
          ],
          [
           "South Korea"
          ],
          [
           "Spain"
          ],
          [
           "Sweden"
          ],
          [
           "Switzerland"
          ],
          [
           "Thailand"
          ],
          [
           "Turkey"
          ],
          [
           "United Arab Emirates"
          ],
          [
           "United Kingdom"
          ],
          [
           "United States"
          ],
          [
           "Vietnam"
          ]
         ],
         "hovertemplate": "BestToLive=True<br>UrbanPop%=%{x}<br>Migrants(net)=%{y}<br>Country=%{customdata[0]}<extra></extra>",
         "legendgroup": "True",
         "marker": {
          "color": "#EF553B",
          "symbol": "circle"
         },
         "mode": "markers",
         "name": "True",
         "orientation": "v",
         "showlegend": true,
         "type": "scatter",
         "x": [
          92.8,
          85.9,
          57.3,
          98.3,
          87.6,
          81.3,
          84.8,
          60.8,
          80,
          57.7,
          88.2,
          43,
          86.1,
          81.5,
          76.3,
          84.9,
          71.7,
          35,
          56.4,
          63,
          93.2,
          69.5,
          91.8,
          88.2,
          78.4,
          83.8,
          63.8,
          92.5,
          86.9,
          83.4,
          79.1,
          47.5,
          60.2,
          66.5,
          96.2,
          73.7,
          84,
          98.56000291488353,
          66.7,
          81.8,
          80.3,
          88.2,
          74.1,
          51.1,
          75.7,
          86.4,
          83.2,
          82.8,
          37.7
         ],
         "xaxis": "x",
         "y": [
          4800,
          158246,
          65000,
          48000,
          21200,
          242032,
          111708,
          -348399,
          4200,
          -8001,
          15200,
          -38033,
          14000,
          36527,
          543822,
          -16000,
          6000,
          -532687,
          -98955,
          23604,
          10000,
          148943,
          71560,
          9741,
          50000,
          -60000,
          -51419,
          16000,
          14881,
          28000,
          99069,
          -67152,
          -29395,
          -6000,
          40000,
          182456,
          134979,
          27028,
          145405,
          11731,
          40000,
          40000,
          52000,
          19444,
          283922,
          40000,
          260650,
          954806,
          -80000
         ],
         "yaxis": "y"
        }
       ],
       "layout": {
        "legend": {
         "title": {
          "text": "BestToLive"
         },
         "tracegroupgap": 0
        },
        "margin": {
         "t": 60
        },
        "template": {
         "data": {
          "bar": [
           {
            "error_x": {
             "color": "#2a3f5f"
            },
            "error_y": {
             "color": "#2a3f5f"
            },
            "marker": {
             "line": {
              "color": "#E5ECF6",
              "width": 0.5
             },
             "pattern": {
              "fillmode": "overlay",
              "size": 10,
              "solidity": 0.2
             }
            },
            "type": "bar"
           }
          ],
          "barpolar": [
           {
            "marker": {
             "line": {
              "color": "#E5ECF6",
              "width": 0.5
             },
             "pattern": {
              "fillmode": "overlay",
              "size": 10,
              "solidity": 0.2
             }
            },
            "type": "barpolar"
           }
          ],
          "carpet": [
           {
            "aaxis": {
             "endlinecolor": "#2a3f5f",
             "gridcolor": "white",
             "linecolor": "white",
             "minorgridcolor": "white",
             "startlinecolor": "#2a3f5f"
            },
            "baxis": {
             "endlinecolor": "#2a3f5f",
             "gridcolor": "white",
             "linecolor": "white",
             "minorgridcolor": "white",
             "startlinecolor": "#2a3f5f"
            },
            "type": "carpet"
           }
          ],
          "choropleth": [
           {
            "colorbar": {
             "outlinewidth": 0,
             "ticks": ""
            },
            "type": "choropleth"
           }
          ],
          "contour": [
           {
            "colorbar": {
             "outlinewidth": 0,
             "ticks": ""
            },
            "colorscale": [
             [
              0,
              "#0d0887"
             ],
             [
              0.1111111111111111,
              "#46039f"
             ],
             [
              0.2222222222222222,
              "#7201a8"
             ],
             [
              0.3333333333333333,
              "#9c179e"
             ],
             [
              0.4444444444444444,
              "#bd3786"
             ],
             [
              0.5555555555555556,
              "#d8576b"
             ],
             [
              0.6666666666666666,
              "#ed7953"
             ],
             [
              0.7777777777777778,
              "#fb9f3a"
             ],
             [
              0.8888888888888888,
              "#fdca26"
             ],
             [
              1,
              "#f0f921"
             ]
            ],
            "type": "contour"
           }
          ],
          "contourcarpet": [
           {
            "colorbar": {
             "outlinewidth": 0,
             "ticks": ""
            },
            "type": "contourcarpet"
           }
          ],
          "heatmap": [
           {
            "colorbar": {
             "outlinewidth": 0,
             "ticks": ""
            },
            "colorscale": [
             [
              0,
              "#0d0887"
             ],
             [
              0.1111111111111111,
              "#46039f"
             ],
             [
              0.2222222222222222,
              "#7201a8"
             ],
             [
              0.3333333333333333,
              "#9c179e"
             ],
             [
              0.4444444444444444,
              "#bd3786"
             ],
             [
              0.5555555555555556,
              "#d8576b"
             ],
             [
              0.6666666666666666,
              "#ed7953"
             ],
             [
              0.7777777777777778,
              "#fb9f3a"
             ],
             [
              0.8888888888888888,
              "#fdca26"
             ],
             [
              1,
              "#f0f921"
             ]
            ],
            "type": "heatmap"
           }
          ],
          "heatmapgl": [
           {
            "colorbar": {
             "outlinewidth": 0,
             "ticks": ""
            },
            "colorscale": [
             [
              0,
              "#0d0887"
             ],
             [
              0.1111111111111111,
              "#46039f"
             ],
             [
              0.2222222222222222,
              "#7201a8"
             ],
             [
              0.3333333333333333,
              "#9c179e"
             ],
             [
              0.4444444444444444,
              "#bd3786"
             ],
             [
              0.5555555555555556,
              "#d8576b"
             ],
             [
              0.6666666666666666,
              "#ed7953"
             ],
             [
              0.7777777777777778,
              "#fb9f3a"
             ],
             [
              0.8888888888888888,
              "#fdca26"
             ],
             [
              1,
              "#f0f921"
             ]
            ],
            "type": "heatmapgl"
           }
          ],
          "histogram": [
           {
            "marker": {
             "pattern": {
              "fillmode": "overlay",
              "size": 10,
              "solidity": 0.2
             }
            },
            "type": "histogram"
           }
          ],
          "histogram2d": [
           {
            "colorbar": {
             "outlinewidth": 0,
             "ticks": ""
            },
            "colorscale": [
             [
              0,
              "#0d0887"
             ],
             [
              0.1111111111111111,
              "#46039f"
             ],
             [
              0.2222222222222222,
              "#7201a8"
             ],
             [
              0.3333333333333333,
              "#9c179e"
             ],
             [
              0.4444444444444444,
              "#bd3786"
             ],
             [
              0.5555555555555556,
              "#d8576b"
             ],
             [
              0.6666666666666666,
              "#ed7953"
             ],
             [
              0.7777777777777778,
              "#fb9f3a"
             ],
             [
              0.8888888888888888,
              "#fdca26"
             ],
             [
              1,
              "#f0f921"
             ]
            ],
            "type": "histogram2d"
           }
          ],
          "histogram2dcontour": [
           {
            "colorbar": {
             "outlinewidth": 0,
             "ticks": ""
            },
            "colorscale": [
             [
              0,
              "#0d0887"
             ],
             [
              0.1111111111111111,
              "#46039f"
             ],
             [
              0.2222222222222222,
              "#7201a8"
             ],
             [
              0.3333333333333333,
              "#9c179e"
             ],
             [
              0.4444444444444444,
              "#bd3786"
             ],
             [
              0.5555555555555556,
              "#d8576b"
             ],
             [
              0.6666666666666666,
              "#ed7953"
             ],
             [
              0.7777777777777778,
              "#fb9f3a"
             ],
             [
              0.8888888888888888,
              "#fdca26"
             ],
             [
              1,
              "#f0f921"
             ]
            ],
            "type": "histogram2dcontour"
           }
          ],
          "mesh3d": [
           {
            "colorbar": {
             "outlinewidth": 0,
             "ticks": ""
            },
            "type": "mesh3d"
           }
          ],
          "parcoords": [
           {
            "line": {
             "colorbar": {
              "outlinewidth": 0,
              "ticks": ""
             }
            },
            "type": "parcoords"
           }
          ],
          "pie": [
           {
            "automargin": true,
            "type": "pie"
           }
          ],
          "scatter": [
           {
            "fillpattern": {
             "fillmode": "overlay",
             "size": 10,
             "solidity": 0.2
            },
            "type": "scatter"
           }
          ],
          "scatter3d": [
           {
            "line": {
             "colorbar": {
              "outlinewidth": 0,
              "ticks": ""
             }
            },
            "marker": {
             "colorbar": {
              "outlinewidth": 0,
              "ticks": ""
             }
            },
            "type": "scatter3d"
           }
          ],
          "scattercarpet": [
           {
            "marker": {
             "colorbar": {
              "outlinewidth": 0,
              "ticks": ""
             }
            },
            "type": "scattercarpet"
           }
          ],
          "scattergeo": [
           {
            "marker": {
             "colorbar": {
              "outlinewidth": 0,
              "ticks": ""
             }
            },
            "type": "scattergeo"
           }
          ],
          "scattergl": [
           {
            "marker": {
             "colorbar": {
              "outlinewidth": 0,
              "ticks": ""
             }
            },
            "type": "scattergl"
           }
          ],
          "scattermapbox": [
           {
            "marker": {
             "colorbar": {
              "outlinewidth": 0,
              "ticks": ""
             }
            },
            "type": "scattermapbox"
           }
          ],
          "scatterpolar": [
           {
            "marker": {
             "colorbar": {
              "outlinewidth": 0,
              "ticks": ""
             }
            },
            "type": "scatterpolar"
           }
          ],
          "scatterpolargl": [
           {
            "marker": {
             "colorbar": {
              "outlinewidth": 0,
              "ticks": ""
             }
            },
            "type": "scatterpolargl"
           }
          ],
          "scatterternary": [
           {
            "marker": {
             "colorbar": {
              "outlinewidth": 0,
              "ticks": ""
             }
            },
            "type": "scatterternary"
           }
          ],
          "surface": [
           {
            "colorbar": {
             "outlinewidth": 0,
             "ticks": ""
            },
            "colorscale": [
             [
              0,
              "#0d0887"
             ],
             [
              0.1111111111111111,
              "#46039f"
             ],
             [
              0.2222222222222222,
              "#7201a8"
             ],
             [
              0.3333333333333333,
              "#9c179e"
             ],
             [
              0.4444444444444444,
              "#bd3786"
             ],
             [
              0.5555555555555556,
              "#d8576b"
             ],
             [
              0.6666666666666666,
              "#ed7953"
             ],
             [
              0.7777777777777778,
              "#fb9f3a"
             ],
             [
              0.8888888888888888,
              "#fdca26"
             ],
             [
              1,
              "#f0f921"
             ]
            ],
            "type": "surface"
           }
          ],
          "table": [
           {
            "cells": {
             "fill": {
              "color": "#EBF0F8"
             },
             "line": {
              "color": "white"
             }
            },
            "header": {
             "fill": {
              "color": "#C8D4E3"
             },
             "line": {
              "color": "white"
             }
            },
            "type": "table"
           }
          ]
         },
         "layout": {
          "annotationdefaults": {
           "arrowcolor": "#2a3f5f",
           "arrowhead": 0,
           "arrowwidth": 1
          },
          "autotypenumbers": "strict",
          "coloraxis": {
           "colorbar": {
            "outlinewidth": 0,
            "ticks": ""
           }
          },
          "colorscale": {
           "diverging": [
            [
             0,
             "#8e0152"
            ],
            [
             0.1,
             "#c51b7d"
            ],
            [
             0.2,
             "#de77ae"
            ],
            [
             0.3,
             "#f1b6da"
            ],
            [
             0.4,
             "#fde0ef"
            ],
            [
             0.5,
             "#f7f7f7"
            ],
            [
             0.6,
             "#e6f5d0"
            ],
            [
             0.7,
             "#b8e186"
            ],
            [
             0.8,
             "#7fbc41"
            ],
            [
             0.9,
             "#4d9221"
            ],
            [
             1,
             "#276419"
            ]
           ],
           "sequential": [
            [
             0,
             "#0d0887"
            ],
            [
             0.1111111111111111,
             "#46039f"
            ],
            [
             0.2222222222222222,
             "#7201a8"
            ],
            [
             0.3333333333333333,
             "#9c179e"
            ],
            [
             0.4444444444444444,
             "#bd3786"
            ],
            [
             0.5555555555555556,
             "#d8576b"
            ],
            [
             0.6666666666666666,
             "#ed7953"
            ],
            [
             0.7777777777777778,
             "#fb9f3a"
            ],
            [
             0.8888888888888888,
             "#fdca26"
            ],
            [
             1,
             "#f0f921"
            ]
           ],
           "sequentialminus": [
            [
             0,
             "#0d0887"
            ],
            [
             0.1111111111111111,
             "#46039f"
            ],
            [
             0.2222222222222222,
             "#7201a8"
            ],
            [
             0.3333333333333333,
             "#9c179e"
            ],
            [
             0.4444444444444444,
             "#bd3786"
            ],
            [
             0.5555555555555556,
             "#d8576b"
            ],
            [
             0.6666666666666666,
             "#ed7953"
            ],
            [
             0.7777777777777778,
             "#fb9f3a"
            ],
            [
             0.8888888888888888,
             "#fdca26"
            ],
            [
             1,
             "#f0f921"
            ]
           ]
          },
          "colorway": [
           "#636efa",
           "#EF553B",
           "#00cc96",
           "#ab63fa",
           "#FFA15A",
           "#19d3f3",
           "#FF6692",
           "#B6E880",
           "#FF97FF",
           "#FECB52"
          ],
          "font": {
           "color": "#2a3f5f"
          },
          "geo": {
           "bgcolor": "white",
           "lakecolor": "white",
           "landcolor": "#E5ECF6",
           "showlakes": true,
           "showland": true,
           "subunitcolor": "white"
          },
          "hoverlabel": {
           "align": "left"
          },
          "hovermode": "closest",
          "mapbox": {
           "style": "light"
          },
          "paper_bgcolor": "white",
          "plot_bgcolor": "#E5ECF6",
          "polar": {
           "angularaxis": {
            "gridcolor": "white",
            "linecolor": "white",
            "ticks": ""
           },
           "bgcolor": "#E5ECF6",
           "radialaxis": {
            "gridcolor": "white",
            "linecolor": "white",
            "ticks": ""
           }
          },
          "scene": {
           "xaxis": {
            "backgroundcolor": "#E5ECF6",
            "gridcolor": "white",
            "gridwidth": 2,
            "linecolor": "white",
            "showbackground": true,
            "ticks": "",
            "zerolinecolor": "white"
           },
           "yaxis": {
            "backgroundcolor": "#E5ECF6",
            "gridcolor": "white",
            "gridwidth": 2,
            "linecolor": "white",
            "showbackground": true,
            "ticks": "",
            "zerolinecolor": "white"
           },
           "zaxis": {
            "backgroundcolor": "#E5ECF6",
            "gridcolor": "white",
            "gridwidth": 2,
            "linecolor": "white",
            "showbackground": true,
            "ticks": "",
            "zerolinecolor": "white"
           }
          },
          "shapedefaults": {
           "line": {
            "color": "#2a3f5f"
           }
          },
          "ternary": {
           "aaxis": {
            "gridcolor": "white",
            "linecolor": "white",
            "ticks": ""
           },
           "baxis": {
            "gridcolor": "white",
            "linecolor": "white",
            "ticks": ""
           },
           "bgcolor": "#E5ECF6",
           "caxis": {
            "gridcolor": "white",
            "linecolor": "white",
            "ticks": ""
           }
          },
          "title": {
           "x": 0.05
          },
          "xaxis": {
           "automargin": true,
           "gridcolor": "white",
           "linecolor": "white",
           "ticks": "",
           "title": {
            "standoff": 15
           },
           "zerolinecolor": "white",
           "zerolinewidth": 2
          },
          "yaxis": {
           "automargin": true,
           "gridcolor": "white",
           "linecolor": "white",
           "ticks": "",
           "title": {
            "standoff": 15
           },
           "zerolinecolor": "white",
           "zerolinewidth": 2
          }
         }
        },
        "title": {
         "text": "Trực quan giữa UrbanPop% và Migrants(net)",
         "x": 0.45,
         "xanchor": "center",
         "y": 0.95,
         "yanchor": "top"
        },
        "xaxis": {
         "anchor": "y",
         "domain": [
          0,
          1
         ],
         "title": {
          "text": "UrbanPop%"
         }
        },
        "yaxis": {
         "anchor": "x",
         "domain": [
          0,
          1
         ],
         "title": {
          "text": "Migrants(net)"
         }
        }
       }
      }
     },
     "metadata": {},
     "output_type": "display_data"
    }
   ],
   "source": [
    "fig=px.scatter(df_train, x=\"UrbanPop%\", y=\"Migrants(net)\",\n",
    "        color=\"BestToLive\", hover_data=['Country'])\n",
    "fig.update_layout(\n",
    "    title={\n",
    "        'text': \"Trực quan giữa UrbanPop% và Migrants(net)\",\n",
    "        'y':0.95,\n",
    "        'x':0.45,\n",
    "        'xanchor': 'center',\n",
    "        'yanchor': 'top'})\n",
    "\n",
    "fig.show()"
   ]
  },
  {
   "attachments": {},
   "cell_type": "markdown",
   "metadata": {},
   "source": [
    "Với tập train có cột label được xem là có đáng sống hay không? (True hoặc False), ta xây dựng mô hình **Hồi quy logistic** để đưa ra dự đoán dựa trên 2 yếu tố UrbanPop% và Migrants."
   ]
  },
  {
   "cell_type": "code",
   "execution_count": 16,
   "metadata": {},
   "outputs": [
    {
     "name": "stdout",
     "output_type": "stream",
     "text": [
      "Binary cross entropy loss là :  6.466844936886641\n",
      "Độ chính xác của mô hình :  0.8127659574468085\n"
     ]
    }
   ],
   "source": [
    "\n",
    "\n",
    "import random\n",
    "from sklearn.linear_model import LogisticRegression\n",
    "from sklearn.datasets import make_blobs\n",
    "\n",
    "from sklearn.metrics import log_loss\n",
    "\n",
    "X = [ [df_train.iloc[i]['UrbanPop%'], df_train.iloc[i]['Migrants(net)']] for i in range(df_train.shape[0]) ]\n",
    "y= list(df_train['BestToLive'])\n",
    "\n",
    "model = LogisticRegression()\n",
    "model.fit(X, y)\n",
    "\n",
    "#kiểm tra\n",
    "#Xnew = [[80,500 * 1000],[40,100],[50,-100]]\n",
    "#Xnew=[[random.randint(20,100),10**(random.randint(0,60)/10)] for i in range(500)]\n",
    "Xnew=X\n",
    "ynew = model.predict_proba(Xnew)\n",
    "\n",
    "dict_={\n",
    "    'Country' : [i for i in df_train['Country']],\n",
    "    'UrbanPop%': [i[0] for i in Xnew],\n",
    "    'Migrants(net)': [i[1] for i in Xnew],\n",
    "    'predict':[i[1] for i in ynew]\n",
    "}\n",
    "ynew = model.predict(Xnew)\n",
    "\n",
    "print('Binary cross entropy loss là : ',log_loss(y, ynew))\n",
    "print('Độ chính xác của mô hình : ',sum(ynew==y)/len(y))"
   ]
  },
  {
   "cell_type": "code",
   "execution_count": 17,
   "metadata": {},
   "outputs": [
    {
     "data": {
      "application/vnd.plotly.v1+json": {
       "config": {
        "plotlyServerURL": "https://plot.ly"
       },
       "data": [
        {
         "customdata": [
          [
           "Afghanistan"
          ],
          [
           "Albania"
          ],
          [
           "Algeria"
          ],
          [
           "American Samoa"
          ],
          [
           "Andorra"
          ],
          [
           "Angola"
          ],
          [
           "Anguilla"
          ],
          [
           "Antigua and Barbuda"
          ],
          [
           "Argentina"
          ],
          [
           "Armenia"
          ],
          [
           "Aruba"
          ],
          [
           "Australia"
          ],
          [
           "Austria"
          ],
          [
           "Azerbaijan"
          ],
          [
           "Bahamas"
          ],
          [
           "Bahrain"
          ],
          [
           "Bangladesh"
          ],
          [
           "Barbados"
          ],
          [
           "Belarus"
          ],
          [
           "Belgium"
          ],
          [
           "Belize"
          ],
          [
           "Benin"
          ],
          [
           "Bermuda"
          ],
          [
           "Bhutan"
          ],
          [
           "Bolivia"
          ],
          [
           "Bosnia and Herzegovina"
          ],
          [
           "Botswana"
          ],
          [
           "Brazil"
          ],
          [
           "British Virgin Islands"
          ],
          [
           "Brunei "
          ],
          [
           "Bulgaria"
          ],
          [
           "Burkina Faso"
          ],
          [
           "Burundi"
          ],
          [
           "Cabo Verde"
          ],
          [
           "Cambodia"
          ],
          [
           "Cameroon"
          ],
          [
           "Canada"
          ],
          [
           "Caribbean Netherlands"
          ],
          [
           "Cayman Islands"
          ],
          [
           "Central African Republic"
          ],
          [
           "Chad"
          ],
          [
           "Channel Islands"
          ],
          [
           "Chile"
          ],
          [
           "China"
          ],
          [
           "Colombia"
          ],
          [
           "Comoros"
          ],
          [
           "Congo"
          ],
          [
           "Cook Islands"
          ],
          [
           "Costa Rica"
          ],
          [
           "Croatia"
          ],
          [
           "Cuba"
          ],
          [
           "Curaçao"
          ],
          [
           "Cyprus"
          ],
          [
           "Czech Republic (Czechia)"
          ],
          [
           "Côte d'Ivoire"
          ],
          [
           "DR Congo"
          ],
          [
           "Denmark"
          ],
          [
           "Djibouti"
          ],
          [
           "Dominica"
          ],
          [
           "Dominican Republic"
          ],
          [
           "Ecuador"
          ],
          [
           "Egypt"
          ],
          [
           "El Salvador"
          ],
          [
           "Equatorial Guinea"
          ],
          [
           "Eritrea"
          ],
          [
           "Estonia"
          ],
          [
           "Eswatini"
          ],
          [
           "Ethiopia"
          ],
          [
           "Faeroe Islands"
          ],
          [
           "Falkland Islands"
          ],
          [
           "Fiji"
          ],
          [
           "Finland"
          ],
          [
           "France"
          ],
          [
           "French Guiana"
          ],
          [
           "French Polynesia"
          ],
          [
           "Gabon"
          ],
          [
           "Gambia"
          ],
          [
           "Georgia"
          ],
          [
           "Germany"
          ],
          [
           "Ghana"
          ],
          [
           "Gibraltar"
          ],
          [
           "Greece"
          ],
          [
           "Greenland"
          ],
          [
           "Grenada"
          ],
          [
           "Guadeloupe"
          ],
          [
           "Guam"
          ],
          [
           "Guatemala"
          ],
          [
           "Guinea"
          ],
          [
           "Guinea-Bissau"
          ],
          [
           "Guyana"
          ],
          [
           "Haiti"
          ],
          [
           "Holy See"
          ],
          [
           "Honduras"
          ],
          [
           "Hong Kong"
          ],
          [
           "Hungary"
          ],
          [
           "Iceland"
          ],
          [
           "India"
          ],
          [
           "Indonesia"
          ],
          [
           "Iran"
          ],
          [
           "Iraq"
          ],
          [
           "Ireland"
          ],
          [
           "Isle of Man"
          ],
          [
           "Israel"
          ],
          [
           "Italy"
          ],
          [
           "Jamaica"
          ],
          [
           "Japan"
          ],
          [
           "Jordan"
          ],
          [
           "Kazakhstan"
          ],
          [
           "Kenya"
          ],
          [
           "Kiribati"
          ],
          [
           "Kuwait"
          ],
          [
           "Kyrgyzstan"
          ],
          [
           "Laos"
          ],
          [
           "Latvia"
          ],
          [
           "Lebanon"
          ],
          [
           "Lesotho"
          ],
          [
           "Liberia"
          ],
          [
           "Libya"
          ],
          [
           "Liechtenstein"
          ],
          [
           "Lithuania"
          ],
          [
           "Luxembourg"
          ],
          [
           "Macao"
          ],
          [
           "Madagascar"
          ],
          [
           "Malawi"
          ],
          [
           "Malaysia"
          ],
          [
           "Maldives"
          ],
          [
           "Mali"
          ],
          [
           "Malta"
          ],
          [
           "Marshall Islands"
          ],
          [
           "Martinique"
          ],
          [
           "Mauritania"
          ],
          [
           "Mauritius"
          ],
          [
           "Mayotte"
          ],
          [
           "Mexico"
          ],
          [
           "Micronesia"
          ],
          [
           "Moldova"
          ],
          [
           "Monaco"
          ],
          [
           "Mongolia"
          ],
          [
           "Montenegro"
          ],
          [
           "Montserrat"
          ],
          [
           "Morocco"
          ],
          [
           "Mozambique"
          ],
          [
           "Myanmar"
          ],
          [
           "Namibia"
          ],
          [
           "Nauru"
          ],
          [
           "Nepal"
          ],
          [
           "Netherlands"
          ],
          [
           "New Caledonia"
          ],
          [
           "New Zealand"
          ],
          [
           "Nicaragua"
          ],
          [
           "Niger"
          ],
          [
           "Nigeria"
          ],
          [
           "Niue"
          ],
          [
           "North Korea"
          ],
          [
           "North Macedonia"
          ],
          [
           "Northern Mariana Islands"
          ],
          [
           "Norway"
          ],
          [
           "Oman"
          ],
          [
           "Pakistan"
          ],
          [
           "Palau"
          ],
          [
           "Panama"
          ],
          [
           "Papua New Guinea"
          ],
          [
           "Paraguay"
          ],
          [
           "Peru"
          ],
          [
           "Philippines"
          ],
          [
           "Poland"
          ],
          [
           "Portugal"
          ],
          [
           "Puerto Rico"
          ],
          [
           "Qatar"
          ],
          [
           "Romania"
          ],
          [
           "Russia"
          ],
          [
           "Rwanda"
          ],
          [
           "Réunion"
          ],
          [
           "Saint Barthelemy"
          ],
          [
           "Saint Helena"
          ],
          [
           "Saint Kitts & Nevis"
          ],
          [
           "Saint Lucia"
          ],
          [
           "Saint Martin"
          ],
          [
           "Saint Pierre & Miquelon"
          ],
          [
           "Samoa"
          ],
          [
           "San Marino"
          ],
          [
           "Sao Tome & Principe"
          ],
          [
           "Saudi Arabia"
          ],
          [
           "Senegal"
          ],
          [
           "Serbia"
          ],
          [
           "Seychelles"
          ],
          [
           "Sierra Leone"
          ],
          [
           "Singapore"
          ],
          [
           "Sint Maarten"
          ],
          [
           "Slovakia"
          ],
          [
           "Slovenia"
          ],
          [
           "Solomon Islands"
          ],
          [
           "Somalia"
          ],
          [
           "South Africa"
          ],
          [
           "South Korea"
          ],
          [
           "South Sudan"
          ],
          [
           "Spain"
          ],
          [
           "Sri Lanka"
          ],
          [
           "St. Vincent & Grenadines"
          ],
          [
           "State of Palestine"
          ],
          [
           "Sudan"
          ],
          [
           "Suriname"
          ],
          [
           "Sweden"
          ],
          [
           "Switzerland"
          ],
          [
           "Syria"
          ],
          [
           "Taiwan"
          ],
          [
           "Tajikistan"
          ],
          [
           "Tanzania"
          ],
          [
           "Thailand"
          ],
          [
           "Timor-Leste"
          ],
          [
           "Togo"
          ],
          [
           "Tokelau"
          ],
          [
           "Tonga"
          ],
          [
           "Trinidad and Tobago"
          ],
          [
           "Tunisia"
          ],
          [
           "Turkey"
          ],
          [
           "Turkmenistan"
          ],
          [
           "Turks and Caicos"
          ],
          [
           "Tuvalu"
          ],
          [
           "U.S. Virgin Islands"
          ],
          [
           "Uganda"
          ],
          [
           "Ukraine"
          ],
          [
           "United Arab Emirates"
          ],
          [
           "United Kingdom"
          ],
          [
           "United States"
          ],
          [
           "Uruguay"
          ],
          [
           "Uzbekistan"
          ],
          [
           "Vanuatu"
          ],
          [
           "Venezuela"
          ],
          [
           "Vietnam"
          ],
          [
           "Wallis & Futuna"
          ],
          [
           "Western Sahara"
          ],
          [
           "Yemen"
          ],
          [
           "Zambia"
          ],
          [
           "Zimbabwe"
          ]
         ],
         "hovertemplate": "UrbanPop%=%{x}<br>Migrants(net)=%{y}<br>Country=%{customdata[0]}<br>predict=%{marker.color}<extra></extra>",
         "legendgroup": "",
         "marker": {
          "color": [
           0.2709278181850367,
           0.23113712819176538,
           0.20984600753376376,
           0.18318348538216453,
           0.18394623770876795,
           0.2544660404776666,
           0.16407731135300532,
           0.390598239138403,
           0.1776954089269704,
           0.24785348232088064,
           0.323397241562577,
           0.4868858948153006,
           0.4024556180946884,
           0.2802765536588549,
           0.18967598250766168,
           0.25145879271721167,
           0.018896618772338468,
           0.3704412599999613,
           0.2198705295166972,
           0.22413057559173907,
           0.31610182728954817,
           0.301707909938994,
           0.1607443913726694,
           0.31551315155561993,
           0.22090917036107632,
           0.2536489228971962,
           0.229926768586519,
           0.21446815622947385,
           0.29125866143383244,
           0.20602933463817985,
           0.20990699918533773,
           0.32269158637232864,
           0.4460445057381488,
           0.23760635383173806,
           0.33687502675322895,
           0.26932236531692755,
           0.6834218965639418,
           0.21879782388160945,
           0.16120265081455737,
           0.25256360391219945,
           0.40664769362771147,
           0.37898095261502035,
           0.39006520120512944,
           0.015900599574205886,
           0.611631704791108,
           0.3735903143160274,
           0.22764048778467677,
           0.21792914908903657,
           0.21078222798426213,
           0.2591795416938197,
           0.18899802654753084,
           0.18234615850293062,
           0.2517733943997231,
           0.25888089227284744,
           0.2805665728147789,
           0.3630743430747669,
           0.20397140836403949,
           0.2087372158799318,
           0.22141878576654891,
           0.15443450621406096,
           0.3217162995680155,
           0.25587494958338003,
           0.16721356766116305,
           0.24940754163568607,
           0.19339288734839719,
           0.24647390354280072,
           0.35814262584879836,
           0.4761962171938652,
           0.3241207709063132,
           0.24601097402777722,
           0.2576891573062347,
           0.20805585549389013,
           0.2575735139091658,
           0.1868364027721853,
           0.2503685274647668,
           0.19015330990858506,
           0.2620300188484965,
           0.254496410081391,
           0.971642361291303,
           0.2590288307796202,
           0.16011858457382228,
           0.1704121049245396,
           0.1852229543117227,
           0.35334961750978383,
           0.15321625376229142,
           0.16592595248464825,
           0.27669324684058305,
           0.33388162798192694,
           0.31551416052671044,
           0.3752051794226081,
           0.2181634451243238,
           0.15510472878894052,
           0.26254412314395736,
           0.1920770410958949,
           0.23804549253627827,
           0.16820102812078544,
           0.004849354339829516,
           0.13754842907236514,
           0.14559989339096166,
           0.23669396165431109,
           0.29744031483851874,
           0.28776908627213865,
           0.1835238780038376,
           0.5357266853143401,
           0.2609965562066293,
           0.28449273266594627,
           0.18818315141483485,
           0.24249983446804285,
           0.3633770782083322,
           0.27400017577181235,
           0.20654256522801592,
           0.3452948849682176,
           0.3237638208124193,
           0.2148635078848508,
           0.1684214728404708,
           0.34888953859744243,
           0.28149276216534785,
           0.20673434385661407,
           0.4383145263949932,
           0.18227887788562053,
           0.19621385146424503,
           0.1607833025155203,
           0.33921692906283907,
           0.38776659455109846,
           0.29185436370877654,
           0.3811552091471618,
           0.24937451255443546,
           0.17172430750495773,
           0.2336416571109885,
           0.17324127564829747,
           0.2847085989654824,
           0.3334802933077132,
           0.3148998275700178,
           0.12403709023884646,
           0.23440894152673683,
           0.3236528393014329,
           0.15488253836340057,
           0.24086832383793688,
           0.24023206336952302,
           0.4592950995458654,
           0.17664425825472213,
           0.3330392542356598,
           0.12098421246465474,
           0.27299989735350993,
           0.15488253836340057,
           0.5017486224922448,
           0.1934883807400453,
           0.22870514012353937,
           0.2071101664280123,
           0.23874110503085977,
           0.439123293808166,
           0.19540590332111518,
           0.3127079914705394,
           0.24813197171760107,
           0.2682850937846348,
           0.18267634829109963,
           0.23747608458708572,
           0.33176738959892305,
           0.0648846148091901,
           0.16722350809308756,
           0.25836539613403825,
           0.4428356699655676,
           0.23283640738738345,
           0.3863774315343104,
           0.1974319645791639,
           0.21710522522429956,
           0.23473576031204685,
           0.07130136343174556,
           0.218033259415327,
           0.17027621608444501,
           0.5913320046958622,
           0.4064127544213634,
           0.15386957321423775,
           0.4999205998915694,
           0.3865676377247972,
           0.3639031331644608,
           0.4216838256241529,
           0.4999205998915694,
           0.1553271793790911,
           0.4181007145208913,
           0.1614321760159508,
           0.2191479883033346,
           0.443533677449079,
           0.26581258397676355,
           0.285319127159206,
           0.2777757733654085,
           0.3160051598212265,
           0.19272721374718024,
           0.1628148717544714,
           0.2894313735542453,
           0.2851572570885455,
           0.3993652478717629,
           0.24058905330557503,
           0.5397253461525624,
           0.21689004270535017,
           0.12298606700947927,
           0.2674845705743095,
           0.2345972099634212,
           0.2891456054468697,
           0.18980097985382027,
           0.2615242678101695,
           0.24719798630877404,
           0.24205509915138199,
           0.310948894715639,
           0.008056376218812349,
           0.25493609119005733,
           0.34500960176358947,
           0.27212427411061907,
           0.3330166062076962,
           0.3532960128251631,
           0.32024261289462747,
           0.4999205998915694,
           0.39659608657192597,
           0.2897944743610809,
           0.22704448402573177,
           0.774955140536282,
           0.281836012413472,
           0.1801570134365133,
           0.25751437006689826,
           0.16273151825566717,
           0.74299455837442,
           0.25182772887596927,
           0.24770156010980407,
           0.711488923477686,
           0.9991531373199852,
           0.1601269561384416,
           0.28313615706587164,
           0.39814605832370925,
           0.0005698967953147286,
           0.20582959460610548,
           0.4999205998915694,
           0.19414370532341974,
           0.28533434769093424,
           0.3015635328835033,
           0.15585436002965697
          ],
          "coloraxis": "coloraxis",
          "symbol": "circle"
         },
         "mode": "markers",
         "name": "",
         "orientation": "v",
         "showlegend": false,
         "type": "scatter",
         "x": [
          25.4,
          63.5,
          72.9,
          88.1,
          87.8,
          66.7,
          95.95575757575756,
          26.2,
          92.8,
          62.8,
          43.6,
          85.9,
          57.3,
          56.2,
          86.1,
          89.3,
          39.4,
          31.2,
          79.2,
          98.3,
          46.1,
          48.4,
          97.4,
          45.8,
          69.3,
          52.3,
          72.8,
          87.6,
          52.4,
          79.5,
          75.6,
          30.6,
          13.8,
          68,
          24.2,
          56.3,
          81.3,
          75,
          97.2,
          43,
          23.3,
          29.8,
          84.8,
          60.8,
          80.4,
          29.4,
          69.9,
          75.3,
          80,
          57.7,
          78.3,
          88.7,
          66.8,
          73.5,
          51.3,
          45.6,
          88.2,
          79,
          74.1,
          84.5,
          63,
          43,
          73.4,
          73.3,
          63.3,
          67.9,
          30,
          21.3,
          43.3,
          66,
          59.1,
          86.1,
          81.5,
          87.3,
          64.1,
          87.1,
          59.4,
          58.1,
          76.3,
          56.7,
          97.67386934673152,
          84.9,
          87.3,
          35.5,
          100,
          94.9,
          51.8,
          38.6,
          44.9,
          26.9,
          56.9,
          99.9,
          57.3,
          100,
          71.7,
          94.4,
          35,
          56.4,
          75.5,
          73.1,
          63,
          53.4,
          93.2,
          69.5,
          55.4,
          91.8,
          91.5,
          57.7,
          27.8,
          57,
          100,
          35.6,
          35.7,
          68.6,
          78.4,
          31.5,
          52.6,
          78.2,
          14.6,
          71.3,
          88.2,
          100,
          38.5,
          18.5,
          78.4,
          34.5,
          44,
          93.2,
          70,
          91.6,
          56.9,
          40.8,
          45.8,
          83.8,
          68.2,
          42.7,
          100,
          67.2,
          67.6,
          9.6,
          63.8,
          38.3,
          31.4,
          55.2,
          100,
          21.4,
          92.5,
          71.9,
          86.9,
          57.2,
          16.5,
          52,
          46.4,
          62.5,
          58.6,
          88.3,
          83.4,
          87,
          35.1,
          94.61390525840692,
          68,
          13.1,
          61.6,
          79.1,
          47.5,
          60.2,
          66.5,
          100,
          96.2,
          54.6,
          73.7,
          17.6,
          99.8,
          0,
          27.2,
          32.9,
          18.6,
          0,
          99.8,
          18,
          97.1,
          74,
          84,
          49.4,
          56.2,
          56.2,
          43.3,
          98.56000291488353,
          96.5,
          53.7,
          55.2,
          23.2,
          46.8,
          66.7,
          81.8,
          24.6,
          80.3,
          18.4,
          52.9,
          80,
          35,
          65.1,
          88.2,
          74.1,
          60,
          78.9,
          27.3,
          37,
          51.1,
          32.8,
          43.3,
          0,
          24.3,
          52.4,
          70.1,
          75.7,
          52.5,
          89.3,
          62.4,
          96.3,
          25.7,
          69.4,
          86.4,
          83.2,
          82.8,
          96.1,
          50.1,
          24.4,
          98.36103859251055,
          37.7,
          0,
          86.8,
          38.4,
          45.3,
          38.4
         ],
         "xaxis": "x",
         "y": [
          -62920,
          -14000,
          -10000,
          0,
          0,
          6413,
          0,
          0,
          4800,
          -4998,
          201,
          158246,
          65000,
          1200,
          1000,
          47800,
          -369501,
          -79,
          8730,
          48000,
          1200,
          -2000,
          0,
          320,
          -9504,
          -21585,
          3000,
          21200,
          0,
          0,
          -4800,
          -25000,
          2001,
          -1342,
          -30000,
          -4800,
          242032,
          0,
          0,
          -40000,
          2000,
          1351,
          111708,
          -348399,
          204796,
          -2000,
          -4000,
          0,
          4200,
          -8001,
          -14400,
          515,
          5000,
          22011,
          -8000,
          23861,
          15200,
          900,
          0,
          -30000,
          36400,
          -38033,
          -40539,
          16000,
          -39858,
          3911,
          -8353,
          30000,
          0,
          0,
          -6202,
          14000,
          36527,
          1200,
          -1000,
          3260,
          -3087,
          -10000,
          543822,
          -10000,
          0,
          -16000,
          0,
          -200,
          -1440,
          -506,
          -9215,
          -4000,
          -1399,
          -6000,
          -35000,
          0,
          -6800,
          29308,
          6000,
          380,
          -532687,
          -98955,
          -55000,
          7834,
          23604,
          0,
          10000,
          148943,
          -11332,
          71560,
          10220,
          -18000,
          -10000,
          -800,
          39520,
          -4000,
          -14704,
          -14837,
          -30012,
          -10047,
          -5000,
          -1999,
          0,
          -32780,
          9741,
          5000,
          -1500,
          -16053,
          50000,
          11370,
          -40000,
          900,
          0,
          -960,
          5000,
          0,
          0,
          -60000,
          -2957,
          -1387,
          0,
          -852,
          -480,
          0,
          -51419,
          -5000,
          -163313,
          -4806,
          0,
          41710,
          16000,
          502,
          14881,
          -21272,
          4000,
          -60000,
          0,
          -5403,
          -1000,
          0,
          28000,
          87400,
          -233379,
          0,
          11200,
          -800,
          -16556,
          99069,
          -67152,
          -29395,
          -6000,
          -97986,
          40000,
          -73999,
          182456,
          -9000,
          -1256,
          0,
          0,
          0,
          0,
          0,
          0,
          -2803,
          0,
          -1680,
          134979,
          -20000,
          4000,
          -200,
          -4200,
          27028,
          0,
          1485,
          2000,
          -1600,
          -40000,
          145405,
          11731,
          -174200,
          40000,
          -97986,
          -200,
          -10563,
          -50000,
          -1000,
          40000,
          52000,
          -427391,
          30001,
          -20000,
          -40076,
          19444,
          -5385,
          -2000,
          0,
          -800,
          -800,
          -4000,
          283922,
          -5000,
          0,
          0,
          -451,
          168694,
          10000,
          40000,
          260650,
          954806,
          -3000,
          -8863,
          120,
          -653249,
          -80000,
          0,
          5582,
          -30000,
          -8000,
          -116858
         ],
         "yaxis": "y"
        },
        {
         "hovertemplate": "<b>OLS trendline</b><br>Migrants(net) = 741.459 * UrbanPop% + -45725.7<br>R<sup>2</sup>=0.026690<br><br>UrbanPop%=%{x}<br>Migrants(net)=%{y} <b>(trend)</b><extra></extra>",
         "legendgroup": "",
         "marker": {
          "symbol": "circle"
         },
         "mode": "lines",
         "name": "",
         "showlegend": false,
         "type": "scatter",
         "x": [
          0,
          0,
          0,
          0,
          9.6,
          13.1,
          13.8,
          14.6,
          16.5,
          17.6,
          18,
          18.4,
          18.5,
          18.6,
          21.3,
          21.4,
          23.2,
          23.3,
          24.2,
          24.3,
          24.4,
          24.6,
          25.4,
          25.7,
          26.2,
          26.9,
          27.2,
          27.3,
          27.8,
          29.4,
          29.8,
          30,
          30.6,
          31.2,
          31.4,
          31.5,
          32.8,
          32.9,
          34.5,
          35,
          35,
          35.1,
          35.5,
          35.6,
          35.7,
          37,
          37.7,
          38.3,
          38.4,
          38.4,
          38.5,
          38.6,
          39.4,
          40.8,
          42.7,
          43,
          43,
          43.3,
          43.3,
          43.3,
          43.6,
          44,
          44.9,
          45.3,
          45.6,
          45.8,
          45.8,
          46.1,
          46.4,
          46.8,
          47.5,
          48.4,
          49.4,
          50.1,
          51.1,
          51.3,
          51.8,
          52,
          52.3,
          52.4,
          52.4,
          52.5,
          52.6,
          52.9,
          53.4,
          53.7,
          54.6,
          55.2,
          55.2,
          55.4,
          56.2,
          56.2,
          56.2,
          56.3,
          56.4,
          56.7,
          56.9,
          56.9,
          57,
          57.2,
          57.3,
          57.3,
          57.7,
          57.7,
          58.1,
          58.6,
          59.1,
          59.4,
          60,
          60.2,
          60.8,
          61.6,
          62.4,
          62.5,
          62.8,
          63,
          63,
          63.3,
          63.5,
          63.8,
          64.1,
          65.1,
          66,
          66.5,
          66.7,
          66.7,
          66.8,
          67.2,
          67.6,
          67.9,
          68,
          68,
          68.2,
          68.6,
          69.3,
          69.4,
          69.5,
          69.9,
          70,
          70.1,
          71.3,
          71.7,
          71.9,
          72.8,
          72.9,
          73.1,
          73.3,
          73.4,
          73.5,
          73.7,
          74,
          74.1,
          74.1,
          75,
          75.3,
          75.5,
          75.6,
          75.7,
          76.3,
          78.2,
          78.3,
          78.4,
          78.4,
          78.9,
          79,
          79.1,
          79.2,
          79.5,
          80,
          80,
          80.3,
          80.4,
          81.3,
          81.5,
          81.8,
          82.8,
          83.2,
          83.4,
          83.8,
          84,
          84.5,
          84.8,
          84.9,
          85.9,
          86.1,
          86.1,
          86.4,
          86.8,
          86.9,
          87,
          87.1,
          87.3,
          87.3,
          87.6,
          87.8,
          88.1,
          88.2,
          88.2,
          88.2,
          88.3,
          88.7,
          89.3,
          89.3,
          91.5,
          91.6,
          91.8,
          92.5,
          92.8,
          93.2,
          93.2,
          94.4,
          94.61390525840692,
          94.9,
          95.95575757575756,
          96.1,
          96.2,
          96.3,
          96.5,
          97.1,
          97.2,
          97.4,
          97.67386934673152,
          98.3,
          98.36103859251055,
          98.56000291488353,
          99.8,
          99.8,
          99.9,
          100,
          100,
          100,
          100,
          100,
          100,
          100
         ],
         "xaxis": "x",
         "y": [
          -45725.73302422122,
          -45725.73302422122,
          -45725.73302422122,
          -45725.73302422122,
          -38607.728506431566,
          -36012.622692654084,
          -35493.60152989859,
          -34900.43448674945,
          -33491.66275927025,
          -32676.058074940185,
          -32379.474553365617,
          -32082.89103179105,
          -32008.74515139741,
          -31934.59927100376,
          -29932.660500375423,
          -29858.514619981783,
          -28523.88877289622,
          -28449.742892502578,
          -27782.4299689598,
          -27708.284088566157,
          -27634.138208172517,
          -27485.84644738523,
          -26892.679404236093,
          -26670.241763055164,
          -26299.512361086956,
          -25780.49119833146,
          -25558.05355715053,
          -25483.907676756888,
          -25113.17827478868,
          -23926.844188490402,
          -23630.260666915834,
          -23481.96890612855,
          -23037.093623766694,
          -22592.21834140484,
          -22443.92658061756,
          -22369.780700223917,
          -21405.884255106568,
          -21331.738374712924,
          -20145.404288414647,
          -19774.67488644644,
          -19774.67488644644,
          -19700.529006052795,
          -19403.945484478227,
          -19329.799604084583,
          -19255.65372369094,
          -18291.757278573594,
          -17772.736115818094,
          -17327.860833456245,
          -17253.7149530626,
          -17253.7149530626,
          -17179.56907266896,
          -17105.423192275317,
          -16512.25614912618,
          -15474.213823615191,
          -14065.442096135983,
          -13843.004454955058,
          -13843.004454955058,
          -13620.566813774134,
          -13620.566813774134,
          -13620.566813774134,
          -13398.129172593206,
          -13101.545651018638,
          -12434.232727475857,
          -12137.649205901289,
          -11915.211564720361,
          -11766.91980393308,
          -11766.91980393308,
          -11544.482162752152,
          -11322.044521571224,
          -11025.460999996656,
          -10506.43983724116,
          -9839.126913698383,
          -9097.668109761958,
          -8578.646947006462,
          -7837.188143070038,
          -7688.896382282757,
          -7318.166980314541,
          -7169.875219527261,
          -6947.437578346333,
          -6873.291697952693,
          -6873.291697952693,
          -6799.145817559045,
          -6724.999937165405,
          -6502.562295984477,
          -6131.832894016268,
          -5909.39525283534,
          -5242.082329292556,
          -4797.207046930707,
          -4797.207046930707,
          -4648.915286143427,
          -4055.748242994283,
          -4055.748242994283,
          -4055.748242994283,
          -3981.6023626006427,
          -3907.4564822070024,
          -3685.0188410260744,
          -3536.7270802387866,
          -3536.7270802387866,
          -3462.5811998451463,
          -3314.2894390578585,
          -3240.1435586642256,
          -3240.1435586642256,
          -2943.56003708965,
          -2943.56003708965,
          -2646.9765155150817,
          -2276.247113546873,
          -1905.5177115786573,
          -1683.0800703977366,
          -1238.2047880358805,
          -1089.9130272485927,
          -645.0377448867439,
          -51.87070173760003,
          541.2963414115366,
          615.4422218051768,
          837.8798629860976,
          986.1716237733854,
          986.1716237733854,
          1208.6092649543134,
          1356.9010257416012,
          1579.338666922522,
          1801.77630810345,
          2543.235112039867,
          3210.548035582651,
          3581.277437550867,
          3729.569198338155,
          3729.569198338155,
          3803.715078731788,
          4100.298600306363,
          4396.882121880924,
          4619.31976306186,
          4693.4656434555,
          4693.4656434555,
          4841.757404242788,
          5138.340925817349,
          5657.362088572845,
          5731.507968966493,
          5805.653849360133,
          6102.237370934708,
          6176.383251328341,
          6250.529131721982,
          7140.279696445694,
          7436.863218020262,
          7585.15497880755,
          8252.467902350327,
          8326.613782743974,
          8474.905543531248,
          8623.197304318535,
          8697.343184712183,
          8771.489065105823,
          8919.78082589311,
          9142.218467074032,
          9216.364347467672,
          9216.364347467672,
          9883.677271010456,
          10106.114912191377,
          10254.406672978665,
          10328.552553372305,
          10402.698433765952,
          10847.573716127801,
          12256.34544360701,
          12330.49132400065,
          12404.637204394297,
          12404.637204394297,
          12775.366606362506,
          12849.512486756146,
          12923.65836714978,
          12997.804247543434,
          13220.241888724355,
          13590.97129069257,
          13590.97129069257,
          13813.408931873491,
          13887.554812267139,
          14554.867735809916,
          14703.159496597204,
          14925.597137778124,
          15667.055941714549,
          15963.639463289117,
          16111.931224076405,
          16408.514745650973,
          16556.806506438254,
          16927.53590840647,
          17149.97354958739,
          17224.119429981038,
          17965.578233917462,
          18113.869994704743,
          18113.869994704743,
          18336.30763588567,
          18632.89115746024,
          18707.037037853886,
          18781.182918247527,
          18855.32879864116,
          19003.620559428447,
          19003.620559428447,
          19226.058200609375,
          19374.349961396656,
          19596.787602577584,
          19670.93348297123,
          19670.93348297123,
          19670.93348297123,
          19745.079363364872,
          20041.662884939447,
          20486.53816730129,
          20486.53816730129,
          22117.747535961418,
          22191.89341635506,
          22340.185177142353,
          22859.20633989785,
          23081.64398107877,
          23378.227502653346,
          23378.227502653346,
          24267.97806737706,
          24426.580004431147,
          24638.70746934526,
          25421.50821871328,
          25528.458034068957,
          25602.603914462612,
          25676.749794856252,
          25825.041555643533,
          26269.91683800539,
          26344.06271839903,
          26492.354479186324,
          26695.417317448722,
          27159.667402729086,
          27204.92500452594,
          27352.44885301862,
          28271.855608633734,
          28271.855608633734,
          28346.001489027374,
          28420.147369421014,
          28420.147369421014,
          28420.147369421014,
          28420.147369421014,
          28420.147369421014,
          28420.147369421014,
          28420.147369421014
         ],
         "yaxis": "y"
        }
       ],
       "layout": {
        "coloraxis": {
         "colorbar": {
          "title": {
           "text": "predict"
          }
         },
         "colorscale": [
          [
           0,
           "green"
          ],
          [
           0.5,
           "orange"
          ],
          [
           1,
           "purple"
          ]
         ]
        },
        "legend": {
         "tracegroupgap": 0
        },
        "margin": {
         "t": 60
        },
        "template": {
         "data": {
          "bar": [
           {
            "error_x": {
             "color": "#2a3f5f"
            },
            "error_y": {
             "color": "#2a3f5f"
            },
            "marker": {
             "line": {
              "color": "#E5ECF6",
              "width": 0.5
             },
             "pattern": {
              "fillmode": "overlay",
              "size": 10,
              "solidity": 0.2
             }
            },
            "type": "bar"
           }
          ],
          "barpolar": [
           {
            "marker": {
             "line": {
              "color": "#E5ECF6",
              "width": 0.5
             },
             "pattern": {
              "fillmode": "overlay",
              "size": 10,
              "solidity": 0.2
             }
            },
            "type": "barpolar"
           }
          ],
          "carpet": [
           {
            "aaxis": {
             "endlinecolor": "#2a3f5f",
             "gridcolor": "white",
             "linecolor": "white",
             "minorgridcolor": "white",
             "startlinecolor": "#2a3f5f"
            },
            "baxis": {
             "endlinecolor": "#2a3f5f",
             "gridcolor": "white",
             "linecolor": "white",
             "minorgridcolor": "white",
             "startlinecolor": "#2a3f5f"
            },
            "type": "carpet"
           }
          ],
          "choropleth": [
           {
            "colorbar": {
             "outlinewidth": 0,
             "ticks": ""
            },
            "type": "choropleth"
           }
          ],
          "contour": [
           {
            "colorbar": {
             "outlinewidth": 0,
             "ticks": ""
            },
            "colorscale": [
             [
              0,
              "#0d0887"
             ],
             [
              0.1111111111111111,
              "#46039f"
             ],
             [
              0.2222222222222222,
              "#7201a8"
             ],
             [
              0.3333333333333333,
              "#9c179e"
             ],
             [
              0.4444444444444444,
              "#bd3786"
             ],
             [
              0.5555555555555556,
              "#d8576b"
             ],
             [
              0.6666666666666666,
              "#ed7953"
             ],
             [
              0.7777777777777778,
              "#fb9f3a"
             ],
             [
              0.8888888888888888,
              "#fdca26"
             ],
             [
              1,
              "#f0f921"
             ]
            ],
            "type": "contour"
           }
          ],
          "contourcarpet": [
           {
            "colorbar": {
             "outlinewidth": 0,
             "ticks": ""
            },
            "type": "contourcarpet"
           }
          ],
          "heatmap": [
           {
            "colorbar": {
             "outlinewidth": 0,
             "ticks": ""
            },
            "colorscale": [
             [
              0,
              "#0d0887"
             ],
             [
              0.1111111111111111,
              "#46039f"
             ],
             [
              0.2222222222222222,
              "#7201a8"
             ],
             [
              0.3333333333333333,
              "#9c179e"
             ],
             [
              0.4444444444444444,
              "#bd3786"
             ],
             [
              0.5555555555555556,
              "#d8576b"
             ],
             [
              0.6666666666666666,
              "#ed7953"
             ],
             [
              0.7777777777777778,
              "#fb9f3a"
             ],
             [
              0.8888888888888888,
              "#fdca26"
             ],
             [
              1,
              "#f0f921"
             ]
            ],
            "type": "heatmap"
           }
          ],
          "heatmapgl": [
           {
            "colorbar": {
             "outlinewidth": 0,
             "ticks": ""
            },
            "colorscale": [
             [
              0,
              "#0d0887"
             ],
             [
              0.1111111111111111,
              "#46039f"
             ],
             [
              0.2222222222222222,
              "#7201a8"
             ],
             [
              0.3333333333333333,
              "#9c179e"
             ],
             [
              0.4444444444444444,
              "#bd3786"
             ],
             [
              0.5555555555555556,
              "#d8576b"
             ],
             [
              0.6666666666666666,
              "#ed7953"
             ],
             [
              0.7777777777777778,
              "#fb9f3a"
             ],
             [
              0.8888888888888888,
              "#fdca26"
             ],
             [
              1,
              "#f0f921"
             ]
            ],
            "type": "heatmapgl"
           }
          ],
          "histogram": [
           {
            "marker": {
             "pattern": {
              "fillmode": "overlay",
              "size": 10,
              "solidity": 0.2
             }
            },
            "type": "histogram"
           }
          ],
          "histogram2d": [
           {
            "colorbar": {
             "outlinewidth": 0,
             "ticks": ""
            },
            "colorscale": [
             [
              0,
              "#0d0887"
             ],
             [
              0.1111111111111111,
              "#46039f"
             ],
             [
              0.2222222222222222,
              "#7201a8"
             ],
             [
              0.3333333333333333,
              "#9c179e"
             ],
             [
              0.4444444444444444,
              "#bd3786"
             ],
             [
              0.5555555555555556,
              "#d8576b"
             ],
             [
              0.6666666666666666,
              "#ed7953"
             ],
             [
              0.7777777777777778,
              "#fb9f3a"
             ],
             [
              0.8888888888888888,
              "#fdca26"
             ],
             [
              1,
              "#f0f921"
             ]
            ],
            "type": "histogram2d"
           }
          ],
          "histogram2dcontour": [
           {
            "colorbar": {
             "outlinewidth": 0,
             "ticks": ""
            },
            "colorscale": [
             [
              0,
              "#0d0887"
             ],
             [
              0.1111111111111111,
              "#46039f"
             ],
             [
              0.2222222222222222,
              "#7201a8"
             ],
             [
              0.3333333333333333,
              "#9c179e"
             ],
             [
              0.4444444444444444,
              "#bd3786"
             ],
             [
              0.5555555555555556,
              "#d8576b"
             ],
             [
              0.6666666666666666,
              "#ed7953"
             ],
             [
              0.7777777777777778,
              "#fb9f3a"
             ],
             [
              0.8888888888888888,
              "#fdca26"
             ],
             [
              1,
              "#f0f921"
             ]
            ],
            "type": "histogram2dcontour"
           }
          ],
          "mesh3d": [
           {
            "colorbar": {
             "outlinewidth": 0,
             "ticks": ""
            },
            "type": "mesh3d"
           }
          ],
          "parcoords": [
           {
            "line": {
             "colorbar": {
              "outlinewidth": 0,
              "ticks": ""
             }
            },
            "type": "parcoords"
           }
          ],
          "pie": [
           {
            "automargin": true,
            "type": "pie"
           }
          ],
          "scatter": [
           {
            "fillpattern": {
             "fillmode": "overlay",
             "size": 10,
             "solidity": 0.2
            },
            "type": "scatter"
           }
          ],
          "scatter3d": [
           {
            "line": {
             "colorbar": {
              "outlinewidth": 0,
              "ticks": ""
             }
            },
            "marker": {
             "colorbar": {
              "outlinewidth": 0,
              "ticks": ""
             }
            },
            "type": "scatter3d"
           }
          ],
          "scattercarpet": [
           {
            "marker": {
             "colorbar": {
              "outlinewidth": 0,
              "ticks": ""
             }
            },
            "type": "scattercarpet"
           }
          ],
          "scattergeo": [
           {
            "marker": {
             "colorbar": {
              "outlinewidth": 0,
              "ticks": ""
             }
            },
            "type": "scattergeo"
           }
          ],
          "scattergl": [
           {
            "marker": {
             "colorbar": {
              "outlinewidth": 0,
              "ticks": ""
             }
            },
            "type": "scattergl"
           }
          ],
          "scattermapbox": [
           {
            "marker": {
             "colorbar": {
              "outlinewidth": 0,
              "ticks": ""
             }
            },
            "type": "scattermapbox"
           }
          ],
          "scatterpolar": [
           {
            "marker": {
             "colorbar": {
              "outlinewidth": 0,
              "ticks": ""
             }
            },
            "type": "scatterpolar"
           }
          ],
          "scatterpolargl": [
           {
            "marker": {
             "colorbar": {
              "outlinewidth": 0,
              "ticks": ""
             }
            },
            "type": "scatterpolargl"
           }
          ],
          "scatterternary": [
           {
            "marker": {
             "colorbar": {
              "outlinewidth": 0,
              "ticks": ""
             }
            },
            "type": "scatterternary"
           }
          ],
          "surface": [
           {
            "colorbar": {
             "outlinewidth": 0,
             "ticks": ""
            },
            "colorscale": [
             [
              0,
              "#0d0887"
             ],
             [
              0.1111111111111111,
              "#46039f"
             ],
             [
              0.2222222222222222,
              "#7201a8"
             ],
             [
              0.3333333333333333,
              "#9c179e"
             ],
             [
              0.4444444444444444,
              "#bd3786"
             ],
             [
              0.5555555555555556,
              "#d8576b"
             ],
             [
              0.6666666666666666,
              "#ed7953"
             ],
             [
              0.7777777777777778,
              "#fb9f3a"
             ],
             [
              0.8888888888888888,
              "#fdca26"
             ],
             [
              1,
              "#f0f921"
             ]
            ],
            "type": "surface"
           }
          ],
          "table": [
           {
            "cells": {
             "fill": {
              "color": "#EBF0F8"
             },
             "line": {
              "color": "white"
             }
            },
            "header": {
             "fill": {
              "color": "#C8D4E3"
             },
             "line": {
              "color": "white"
             }
            },
            "type": "table"
           }
          ]
         },
         "layout": {
          "annotationdefaults": {
           "arrowcolor": "#2a3f5f",
           "arrowhead": 0,
           "arrowwidth": 1
          },
          "autotypenumbers": "strict",
          "coloraxis": {
           "colorbar": {
            "outlinewidth": 0,
            "ticks": ""
           }
          },
          "colorscale": {
           "diverging": [
            [
             0,
             "#8e0152"
            ],
            [
             0.1,
             "#c51b7d"
            ],
            [
             0.2,
             "#de77ae"
            ],
            [
             0.3,
             "#f1b6da"
            ],
            [
             0.4,
             "#fde0ef"
            ],
            [
             0.5,
             "#f7f7f7"
            ],
            [
             0.6,
             "#e6f5d0"
            ],
            [
             0.7,
             "#b8e186"
            ],
            [
             0.8,
             "#7fbc41"
            ],
            [
             0.9,
             "#4d9221"
            ],
            [
             1,
             "#276419"
            ]
           ],
           "sequential": [
            [
             0,
             "#0d0887"
            ],
            [
             0.1111111111111111,
             "#46039f"
            ],
            [
             0.2222222222222222,
             "#7201a8"
            ],
            [
             0.3333333333333333,
             "#9c179e"
            ],
            [
             0.4444444444444444,
             "#bd3786"
            ],
            [
             0.5555555555555556,
             "#d8576b"
            ],
            [
             0.6666666666666666,
             "#ed7953"
            ],
            [
             0.7777777777777778,
             "#fb9f3a"
            ],
            [
             0.8888888888888888,
             "#fdca26"
            ],
            [
             1,
             "#f0f921"
            ]
           ],
           "sequentialminus": [
            [
             0,
             "#0d0887"
            ],
            [
             0.1111111111111111,
             "#46039f"
            ],
            [
             0.2222222222222222,
             "#7201a8"
            ],
            [
             0.3333333333333333,
             "#9c179e"
            ],
            [
             0.4444444444444444,
             "#bd3786"
            ],
            [
             0.5555555555555556,
             "#d8576b"
            ],
            [
             0.6666666666666666,
             "#ed7953"
            ],
            [
             0.7777777777777778,
             "#fb9f3a"
            ],
            [
             0.8888888888888888,
             "#fdca26"
            ],
            [
             1,
             "#f0f921"
            ]
           ]
          },
          "colorway": [
           "#636efa",
           "#EF553B",
           "#00cc96",
           "#ab63fa",
           "#FFA15A",
           "#19d3f3",
           "#FF6692",
           "#B6E880",
           "#FF97FF",
           "#FECB52"
          ],
          "font": {
           "color": "#2a3f5f"
          },
          "geo": {
           "bgcolor": "white",
           "lakecolor": "white",
           "landcolor": "#E5ECF6",
           "showlakes": true,
           "showland": true,
           "subunitcolor": "white"
          },
          "hoverlabel": {
           "align": "left"
          },
          "hovermode": "closest",
          "mapbox": {
           "style": "light"
          },
          "paper_bgcolor": "white",
          "plot_bgcolor": "#E5ECF6",
          "polar": {
           "angularaxis": {
            "gridcolor": "white",
            "linecolor": "white",
            "ticks": ""
           },
           "bgcolor": "#E5ECF6",
           "radialaxis": {
            "gridcolor": "white",
            "linecolor": "white",
            "ticks": ""
           }
          },
          "scene": {
           "xaxis": {
            "backgroundcolor": "#E5ECF6",
            "gridcolor": "white",
            "gridwidth": 2,
            "linecolor": "white",
            "showbackground": true,
            "ticks": "",
            "zerolinecolor": "white"
           },
           "yaxis": {
            "backgroundcolor": "#E5ECF6",
            "gridcolor": "white",
            "gridwidth": 2,
            "linecolor": "white",
            "showbackground": true,
            "ticks": "",
            "zerolinecolor": "white"
           },
           "zaxis": {
            "backgroundcolor": "#E5ECF6",
            "gridcolor": "white",
            "gridwidth": 2,
            "linecolor": "white",
            "showbackground": true,
            "ticks": "",
            "zerolinecolor": "white"
           }
          },
          "shapedefaults": {
           "line": {
            "color": "#2a3f5f"
           }
          },
          "ternary": {
           "aaxis": {
            "gridcolor": "white",
            "linecolor": "white",
            "ticks": ""
           },
           "baxis": {
            "gridcolor": "white",
            "linecolor": "white",
            "ticks": ""
           },
           "bgcolor": "#E5ECF6",
           "caxis": {
            "gridcolor": "white",
            "linecolor": "white",
            "ticks": ""
           }
          },
          "title": {
           "x": 0.05
          },
          "xaxis": {
           "automargin": true,
           "gridcolor": "white",
           "linecolor": "white",
           "ticks": "",
           "title": {
            "standoff": 15
           },
           "zerolinecolor": "white",
           "zerolinewidth": 2
          },
          "yaxis": {
           "automargin": true,
           "gridcolor": "white",
           "linecolor": "white",
           "ticks": "",
           "title": {
            "standoff": 15
           },
           "zerolinecolor": "white",
           "zerolinewidth": 2
          }
         }
        },
        "title": {
         "text": "Kiểm tra bài toán phân lớp bằng thuộc tính UrbanPop% và Migrants(net)",
         "x": 0.45,
         "xanchor": "center",
         "y": 0.95,
         "yanchor": "top"
        },
        "xaxis": {
         "anchor": "y",
         "domain": [
          0,
          1
         ],
         "title": {
          "text": "UrbanPop%"
         }
        },
        "yaxis": {
         "anchor": "x",
         "domain": [
          0,
          1
         ],
         "title": {
          "text": "Migrants(net)"
         }
        }
       }
      }
     },
     "metadata": {},
     "output_type": "display_data"
    }
   ],
   "source": [
    "fig=px.scatter(dict_, x=\"UrbanPop%\", y=\"Migrants(net)\",\n",
    "        color=\"predict\", hover_data=['Country'], color_continuous_scale=['green','orange', 'purple'], trendline='ols')\n",
    "\n",
    "fig.update_layout(\n",
    "    title={\n",
    "        'text': \"Kiểm tra bài toán phân lớp bằng thuộc tính UrbanPop% và Migrants(net)\",\n",
    "        'y':0.95,\n",
    "        'x':0.45,\n",
    "        'xanchor': 'center',\n",
    "        'yanchor': 'top'})\n",
    "\n",
    "fig.show()"
   ]
  },
  {
   "attachments": {},
   "cell_type": "markdown",
   "metadata": {},
   "source": [
    "**Đánh giá**: Như vậy, theo mô hình thì dân số thành thị cao nhưng số dân nhập cư tới thấp thì dự đoán sẽ rất thấp.\n",
    "\n",
    "Có vẻ hợp lý khi kết hợp 2 yếu tố này ngoài thực tế thì dự đoán lại rất cao, còn không dự đoán sẽ lệch về phía nữa trên đồ thị và có xu hướng lệch nhẹ về bên trái. Với độ chính xác trên tập train là khoảng 0.81 thì lượng dân nhập cư lớn sẽ phản ánh phần nào mức độ đáng sống của 1 quốc gia. Vì đơn giản ***Ai cũng muốn đến đây sống***"
   ]
  },
  {
   "attachments": {},
   "cell_type": "markdown",
   "metadata": {},
   "source": [
    "**2)** 2 yếu tố có thể được coi là quan trọng nhất trong công cuộc kiểm soát dân số của một quốc gia đó chính là ***Tỉ lệ sinh*** và ***Tỉ lệ tử***. Một đất nước được cho là phát triển khi có thể áp dụng các chính sách kiểm soát được 2 tỉ lệ này một cách hiệu quả.\n",
    "\n",
    "Trong dữ liệu thu thập, chỉ có cột ***Tỉ lệ sinh (FertilityRate)***, vì thế ta có thể dùng cột ***Tỉ lệ thay đổi dân số (Yearly%Change)*** để tiến hành mô hình hoá dữ liệu. Trong đó chấm đỏ là các đất nước được xem là đáng sống."
   ]
  },
  {
   "cell_type": "code",
   "execution_count": 18,
   "metadata": {},
   "outputs": [
    {
     "data": {
      "application/vnd.plotly.v1+json": {
       "config": {
        "plotlyServerURL": "https://plot.ly"
       },
       "data": [
        {
         "customdata": [
          [
           "Afghanistan"
          ],
          [
           "Albania"
          ],
          [
           "Algeria"
          ],
          [
           "Angola"
          ],
          [
           "Antigua and Barbuda"
          ],
          [
           "Armenia"
          ],
          [
           "Aruba"
          ],
          [
           "Azerbaijan"
          ],
          [
           "Bahamas"
          ],
          [
           "Bahrain"
          ],
          [
           "Bangladesh"
          ],
          [
           "Barbados"
          ],
          [
           "Belarus"
          ],
          [
           "Belize"
          ],
          [
           "Benin"
          ],
          [
           "Bhutan"
          ],
          [
           "Bolivia"
          ],
          [
           "Bosnia and Herzegovina"
          ],
          [
           "Botswana"
          ],
          [
           "Brunei "
          ],
          [
           "Bulgaria"
          ],
          [
           "Burkina Faso"
          ],
          [
           "Burundi"
          ],
          [
           "Cabo Verde"
          ],
          [
           "Cambodia"
          ],
          [
           "Cameroon"
          ],
          [
           "Central African Republic"
          ],
          [
           "Chad"
          ],
          [
           "Channel Islands"
          ],
          [
           "Colombia"
          ],
          [
           "Comoros"
          ],
          [
           "Congo"
          ],
          [
           "Cuba"
          ],
          [
           "Curaçao"
          ],
          [
           "Cyprus"
          ],
          [
           "Czech Republic (Czechia)"
          ],
          [
           "Côte d'Ivoire"
          ],
          [
           "DR Congo"
          ],
          [
           "Djibouti"
          ],
          [
           "Dominican Republic"
          ],
          [
           "Ecuador"
          ],
          [
           "El Salvador"
          ],
          [
           "Equatorial Guinea"
          ],
          [
           "Eritrea"
          ],
          [
           "Estonia"
          ],
          [
           "Eswatini"
          ],
          [
           "Ethiopia"
          ],
          [
           "Fiji"
          ],
          [
           "French Guiana"
          ],
          [
           "French Polynesia"
          ],
          [
           "Gabon"
          ],
          [
           "Gambia"
          ],
          [
           "Georgia"
          ],
          [
           "Ghana"
          ],
          [
           "Grenada"
          ],
          [
           "Guadeloupe"
          ],
          [
           "Guam"
          ],
          [
           "Guatemala"
          ],
          [
           "Guinea"
          ],
          [
           "Guinea-Bissau"
          ],
          [
           "Guyana"
          ],
          [
           "Haiti"
          ],
          [
           "Honduras"
          ],
          [
           "Hong Kong"
          ],
          [
           "Iceland"
          ],
          [
           "Iran"
          ],
          [
           "Iraq"
          ],
          [
           "Jamaica"
          ],
          [
           "Jordan"
          ],
          [
           "Kazakhstan"
          ],
          [
           "Kenya"
          ],
          [
           "Kiribati"
          ],
          [
           "Kuwait"
          ],
          [
           "Kyrgyzstan"
          ],
          [
           "Laos"
          ],
          [
           "Latvia"
          ],
          [
           "Lebanon"
          ],
          [
           "Lesotho"
          ],
          [
           "Liberia"
          ],
          [
           "Libya"
          ],
          [
           "Lithuania"
          ],
          [
           "Macao"
          ],
          [
           "Madagascar"
          ],
          [
           "Malawi"
          ],
          [
           "Maldives"
          ],
          [
           "Mali"
          ],
          [
           "Malta"
          ],
          [
           "Martinique"
          ],
          [
           "Mauritania"
          ],
          [
           "Mauritius"
          ],
          [
           "Mayotte"
          ],
          [
           "Micronesia"
          ],
          [
           "Moldova"
          ],
          [
           "Mongolia"
          ],
          [
           "Montenegro"
          ],
          [
           "Mozambique"
          ],
          [
           "Myanmar"
          ],
          [
           "Namibia"
          ],
          [
           "Nepal"
          ],
          [
           "New Caledonia"
          ],
          [
           "Nicaragua"
          ],
          [
           "Niger"
          ],
          [
           "Nigeria"
          ],
          [
           "North Korea"
          ],
          [
           "North Macedonia"
          ],
          [
           "Oman"
          ],
          [
           "Pakistan"
          ],
          [
           "Panama"
          ],
          [
           "Papua New Guinea"
          ],
          [
           "Paraguay"
          ],
          [
           "Puerto Rico"
          ],
          [
           "Romania"
          ],
          [
           "Rwanda"
          ],
          [
           "Réunion"
          ],
          [
           "Saint Lucia"
          ],
          [
           "Samoa"
          ],
          [
           "Sao Tome & Principe"
          ],
          [
           "Senegal"
          ],
          [
           "Serbia"
          ],
          [
           "Seychelles"
          ],
          [
           "Sierra Leone"
          ],
          [
           "Slovakia"
          ],
          [
           "Slovenia"
          ],
          [
           "Solomon Islands"
          ],
          [
           "Somalia"
          ],
          [
           "South Sudan"
          ],
          [
           "Sri Lanka"
          ],
          [
           "St. Vincent & Grenadines"
          ],
          [
           "State of Palestine"
          ],
          [
           "Sudan"
          ],
          [
           "Suriname"
          ],
          [
           "Syria"
          ],
          [
           "Taiwan"
          ],
          [
           "Tajikistan"
          ],
          [
           "Tanzania"
          ],
          [
           "Timor-Leste"
          ],
          [
           "Togo"
          ],
          [
           "Tonga"
          ],
          [
           "Trinidad and Tobago"
          ],
          [
           "Tunisia"
          ],
          [
           "Turkmenistan"
          ],
          [
           "U.S. Virgin Islands"
          ],
          [
           "Uganda"
          ],
          [
           "Ukraine"
          ],
          [
           "Uruguay"
          ],
          [
           "Uzbekistan"
          ],
          [
           "Vanuatu"
          ],
          [
           "Venezuela"
          ],
          [
           "Western Sahara"
          ],
          [
           "Yemen"
          ],
          [
           "Zambia"
          ],
          [
           "Zimbabwe"
          ]
         ],
         "hovertemplate": "BestToLive=False<br>Yearly%Change=%{x}<br>FertilityRate=%{y}<br>Country=%{customdata[0]}<extra></extra>",
         "legendgroup": "False",
         "marker": {
          "color": "#636efa",
          "symbol": "circle"
         },
         "mode": "markers",
         "name": "False",
         "orientation": "v",
         "showlegend": true,
         "type": "scatter",
         "x": [
          2.33,
          -0.11,
          1.85,
          3.27,
          0.84,
          0.19,
          0.43,
          0.91,
          0.97,
          3.68,
          1.01,
          0.12,
          -0.03,
          1.86,
          2.73,
          1.12,
          1.39,
          -0.61,
          2.08,
          0.97,
          -0.74,
          2.86,
          3.12,
          1.1,
          1.41,
          2.59,
          1.78,
          3,
          0.93,
          1.08,
          2.2,
          2.56,
          -0.06,
          0.41,
          0.73,
          0.18,
          2.57,
          3.19,
          1.48,
          1.01,
          1.55,
          0.51,
          3.47,
          1.41,
          0.07,
          1.05,
          2.57,
          0.73,
          2.7,
          0.58,
          2.45,
          2.94,
          -0.19,
          2.15,
          0.46,
          0.02,
          0.89,
          1.9,
          2.83,
          2.45,
          0.48,
          1.24,
          1.63,
          0.82,
          0.65,
          1.3,
          2.32,
          0.44,
          1,
          1.21,
          2.28,
          1.57,
          1.51,
          1.69,
          1.48,
          -1.08,
          -0.44,
          0.8,
          2.44,
          1.38,
          -1.35,
          1.39,
          2.68,
          2.69,
          1.81,
          3.02,
          0.27,
          -0.08,
          2.74,
          0.17,
          2.5,
          1,
          -0.23,
          1.65,
          0.01,
          2.93,
          0.67,
          1.86,
          1.85,
          0.97,
          1.21,
          3.84,
          2.58,
          0.44,
          0,
          2.65,
          2,
          1.61,
          1.95,
          1.25,
          -2.47,
          -0.66,
          2.58,
          0.72,
          0.46,
          0.67,
          1.91,
          2.75,
          -0.4,
          0.62,
          2.1,
          0.05,
          0.01,
          2.55,
          2.92,
          1.19,
          0.42,
          0.32,
          2.41,
          2.42,
          0.9,
          2.52,
          0.18,
          2.32,
          2.98,
          1.96,
          2.43,
          1.15,
          0.32,
          1.06,
          1.5,
          -0.15,
          3.32,
          -0.59,
          0.35,
          1.48,
          2.42,
          -0.28,
          2.55,
          2.28,
          2.93,
          1.48
         ],
         "xaxis": "x",
         "y": [
          4.56,
          1.62,
          3.05,
          5.55,
          2,
          1.76,
          1.9,
          2.08,
          1.76,
          2,
          2.05,
          1.62,
          1.71,
          2.32,
          4.87,
          2,
          2.75,
          1.27,
          2.89,
          1.85,
          1.56,
          5.23,
          5.45,
          2.29,
          2.52,
          4.6,
          4.75,
          5.8,
          1.5,
          1.82,
          4.24,
          4.45,
          1.62,
          1.76,
          1.34,
          1.64,
          4.68,
          5.96,
          2.76,
          2.36,
          2.44,
          2.05,
          4.55,
          4.1,
          1.59,
          3.03,
          4.3,
          2.79,
          3.36,
          1.95,
          4,
          5.25,
          2.06,
          3.89,
          2.07,
          2.17,
          2.32,
          2.9,
          4.74,
          4.51,
          2.47,
          2.96,
          2.49,
          1.33,
          1.77,
          2.15,
          3.68,
          1.99,
          2.77,
          2.76,
          3.52,
          3.58,
          2.1,
          3,
          2.7,
          1.72,
          2.09,
          3.16,
          4.35,
          2.25,
          1.67,
          1.2,
          4.11,
          4.25,
          1.88,
          5.92,
          1.45,
          1.88,
          4.59,
          1.39,
          3.73,
          2.99,
          1.26,
          2.9,
          1.75,
          4.89,
          2.17,
          3.42,
          1.93,
          1.97,
          2.42,
          6.95,
          5.42,
          1.91,
          1.5,
          2.93,
          3.55,
          2.47,
          3.59,
          2.45,
          1.22,
          1.62,
          4.1,
          2.27,
          1.44,
          3.9,
          4.35,
          4.65,
          1.46,
          2.46,
          4.32,
          1.5,
          1.6,
          4.44,
          6.12,
          4.74,
          2.21,
          1.9,
          3.67,
          4.43,
          2.43,
          2.84,
          1.15,
          3.61,
          4.92,
          4.1,
          4.35,
          3.58,
          1.73,
          2.2,
          2.79,
          2.05,
          5.01,
          1.44,
          1.98,
          2.43,
          3.8,
          2.28,
          2.41,
          3.84,
          4.66,
          3.63
         ],
         "yaxis": "y"
        },
        {
         "customdata": [
          [
           "Argentina"
          ],
          [
           "Australia"
          ],
          [
           "Austria"
          ],
          [
           "Belgium"
          ],
          [
           "Brazil"
          ],
          [
           "Canada"
          ],
          [
           "Chile"
          ],
          [
           "China"
          ],
          [
           "Costa Rica"
          ],
          [
           "Croatia"
          ],
          [
           "Denmark"
          ],
          [
           "Egypt"
          ],
          [
           "Finland"
          ],
          [
           "France"
          ],
          [
           "Germany"
          ],
          [
           "Greece"
          ],
          [
           "Hungary"
          ],
          [
           "India"
          ],
          [
           "Indonesia"
          ],
          [
           "Ireland"
          ],
          [
           "Israel"
          ],
          [
           "Italy"
          ],
          [
           "Japan"
          ],
          [
           "Luxembourg"
          ],
          [
           "Malaysia"
          ],
          [
           "Mexico"
          ],
          [
           "Morocco"
          ],
          [
           "Netherlands"
          ],
          [
           "New Zealand"
          ],
          [
           "Norway"
          ],
          [
           "Peru"
          ],
          [
           "Philippines"
          ],
          [
           "Poland"
          ],
          [
           "Portugal"
          ],
          [
           "Qatar"
          ],
          [
           "Russia"
          ],
          [
           "Saudi Arabia"
          ],
          [
           "Singapore"
          ],
          [
           "South Africa"
          ],
          [
           "South Korea"
          ],
          [
           "Spain"
          ],
          [
           "Sweden"
          ],
          [
           "Switzerland"
          ],
          [
           "Thailand"
          ],
          [
           "Turkey"
          ],
          [
           "United Arab Emirates"
          ],
          [
           "United Kingdom"
          ],
          [
           "United States"
          ],
          [
           "Vietnam"
          ]
         ],
         "hovertemplate": "BestToLive=True<br>Yearly%Change=%{x}<br>FertilityRate=%{y}<br>Country=%{customdata[0]}<extra></extra>",
         "legendgroup": "True",
         "marker": {
          "color": "#EF553B",
          "symbol": "circle"
         },
         "mode": "markers",
         "name": "True",
         "orientation": "v",
         "showlegend": true,
         "type": "scatter",
         "x": [
          0.93,
          1.18,
          0.57,
          0.44,
          0.72,
          0.89,
          0.87,
          0.39,
          0.92,
          -0.61,
          0.35,
          1.94,
          0.15,
          0.22,
          0.32,
          -0.48,
          -0.25,
          0.99,
          1.07,
          1.13,
          1.6,
          -0.15,
          -0.3,
          1.66,
          1.3,
          1.06,
          1.2,
          0.22,
          0.82,
          0.79,
          1.42,
          1.35,
          -0.11,
          -0.29,
          1.73,
          0.04,
          1.59,
          0.79,
          1.28,
          0.09,
          0.04,
          0.63,
          0.74,
          0.25,
          1.09,
          1.23,
          0.53,
          0.59,
          0.91
         ],
         "xaxis": "x",
         "y": [
          2.27,
          1.83,
          1.53,
          1.71,
          1.74,
          1.53,
          1.65,
          1.69,
          1.76,
          1.45,
          1.76,
          3.33,
          1.53,
          1.85,
          1.59,
          1.3,
          1.49,
          2.24,
          2.32,
          1.84,
          3.04,
          1.33,
          1.37,
          1.45,
          2.01,
          2.14,
          2.42,
          1.66,
          1.9,
          1.68,
          2.27,
          2.58,
          1.42,
          1.29,
          1.88,
          1.82,
          2.34,
          1.21,
          2.41,
          1.11,
          1.33,
          1.85,
          1.54,
          1.53,
          2.08,
          1.42,
          1.75,
          1.78,
          2.06
         ],
         "yaxis": "y"
        }
       ],
       "layout": {
        "legend": {
         "title": {
          "text": "BestToLive"
         },
         "tracegroupgap": 0
        },
        "margin": {
         "t": 60
        },
        "template": {
         "data": {
          "bar": [
           {
            "error_x": {
             "color": "#2a3f5f"
            },
            "error_y": {
             "color": "#2a3f5f"
            },
            "marker": {
             "line": {
              "color": "#E5ECF6",
              "width": 0.5
             },
             "pattern": {
              "fillmode": "overlay",
              "size": 10,
              "solidity": 0.2
             }
            },
            "type": "bar"
           }
          ],
          "barpolar": [
           {
            "marker": {
             "line": {
              "color": "#E5ECF6",
              "width": 0.5
             },
             "pattern": {
              "fillmode": "overlay",
              "size": 10,
              "solidity": 0.2
             }
            },
            "type": "barpolar"
           }
          ],
          "carpet": [
           {
            "aaxis": {
             "endlinecolor": "#2a3f5f",
             "gridcolor": "white",
             "linecolor": "white",
             "minorgridcolor": "white",
             "startlinecolor": "#2a3f5f"
            },
            "baxis": {
             "endlinecolor": "#2a3f5f",
             "gridcolor": "white",
             "linecolor": "white",
             "minorgridcolor": "white",
             "startlinecolor": "#2a3f5f"
            },
            "type": "carpet"
           }
          ],
          "choropleth": [
           {
            "colorbar": {
             "outlinewidth": 0,
             "ticks": ""
            },
            "type": "choropleth"
           }
          ],
          "contour": [
           {
            "colorbar": {
             "outlinewidth": 0,
             "ticks": ""
            },
            "colorscale": [
             [
              0,
              "#0d0887"
             ],
             [
              0.1111111111111111,
              "#46039f"
             ],
             [
              0.2222222222222222,
              "#7201a8"
             ],
             [
              0.3333333333333333,
              "#9c179e"
             ],
             [
              0.4444444444444444,
              "#bd3786"
             ],
             [
              0.5555555555555556,
              "#d8576b"
             ],
             [
              0.6666666666666666,
              "#ed7953"
             ],
             [
              0.7777777777777778,
              "#fb9f3a"
             ],
             [
              0.8888888888888888,
              "#fdca26"
             ],
             [
              1,
              "#f0f921"
             ]
            ],
            "type": "contour"
           }
          ],
          "contourcarpet": [
           {
            "colorbar": {
             "outlinewidth": 0,
             "ticks": ""
            },
            "type": "contourcarpet"
           }
          ],
          "heatmap": [
           {
            "colorbar": {
             "outlinewidth": 0,
             "ticks": ""
            },
            "colorscale": [
             [
              0,
              "#0d0887"
             ],
             [
              0.1111111111111111,
              "#46039f"
             ],
             [
              0.2222222222222222,
              "#7201a8"
             ],
             [
              0.3333333333333333,
              "#9c179e"
             ],
             [
              0.4444444444444444,
              "#bd3786"
             ],
             [
              0.5555555555555556,
              "#d8576b"
             ],
             [
              0.6666666666666666,
              "#ed7953"
             ],
             [
              0.7777777777777778,
              "#fb9f3a"
             ],
             [
              0.8888888888888888,
              "#fdca26"
             ],
             [
              1,
              "#f0f921"
             ]
            ],
            "type": "heatmap"
           }
          ],
          "heatmapgl": [
           {
            "colorbar": {
             "outlinewidth": 0,
             "ticks": ""
            },
            "colorscale": [
             [
              0,
              "#0d0887"
             ],
             [
              0.1111111111111111,
              "#46039f"
             ],
             [
              0.2222222222222222,
              "#7201a8"
             ],
             [
              0.3333333333333333,
              "#9c179e"
             ],
             [
              0.4444444444444444,
              "#bd3786"
             ],
             [
              0.5555555555555556,
              "#d8576b"
             ],
             [
              0.6666666666666666,
              "#ed7953"
             ],
             [
              0.7777777777777778,
              "#fb9f3a"
             ],
             [
              0.8888888888888888,
              "#fdca26"
             ],
             [
              1,
              "#f0f921"
             ]
            ],
            "type": "heatmapgl"
           }
          ],
          "histogram": [
           {
            "marker": {
             "pattern": {
              "fillmode": "overlay",
              "size": 10,
              "solidity": 0.2
             }
            },
            "type": "histogram"
           }
          ],
          "histogram2d": [
           {
            "colorbar": {
             "outlinewidth": 0,
             "ticks": ""
            },
            "colorscale": [
             [
              0,
              "#0d0887"
             ],
             [
              0.1111111111111111,
              "#46039f"
             ],
             [
              0.2222222222222222,
              "#7201a8"
             ],
             [
              0.3333333333333333,
              "#9c179e"
             ],
             [
              0.4444444444444444,
              "#bd3786"
             ],
             [
              0.5555555555555556,
              "#d8576b"
             ],
             [
              0.6666666666666666,
              "#ed7953"
             ],
             [
              0.7777777777777778,
              "#fb9f3a"
             ],
             [
              0.8888888888888888,
              "#fdca26"
             ],
             [
              1,
              "#f0f921"
             ]
            ],
            "type": "histogram2d"
           }
          ],
          "histogram2dcontour": [
           {
            "colorbar": {
             "outlinewidth": 0,
             "ticks": ""
            },
            "colorscale": [
             [
              0,
              "#0d0887"
             ],
             [
              0.1111111111111111,
              "#46039f"
             ],
             [
              0.2222222222222222,
              "#7201a8"
             ],
             [
              0.3333333333333333,
              "#9c179e"
             ],
             [
              0.4444444444444444,
              "#bd3786"
             ],
             [
              0.5555555555555556,
              "#d8576b"
             ],
             [
              0.6666666666666666,
              "#ed7953"
             ],
             [
              0.7777777777777778,
              "#fb9f3a"
             ],
             [
              0.8888888888888888,
              "#fdca26"
             ],
             [
              1,
              "#f0f921"
             ]
            ],
            "type": "histogram2dcontour"
           }
          ],
          "mesh3d": [
           {
            "colorbar": {
             "outlinewidth": 0,
             "ticks": ""
            },
            "type": "mesh3d"
           }
          ],
          "parcoords": [
           {
            "line": {
             "colorbar": {
              "outlinewidth": 0,
              "ticks": ""
             }
            },
            "type": "parcoords"
           }
          ],
          "pie": [
           {
            "automargin": true,
            "type": "pie"
           }
          ],
          "scatter": [
           {
            "fillpattern": {
             "fillmode": "overlay",
             "size": 10,
             "solidity": 0.2
            },
            "type": "scatter"
           }
          ],
          "scatter3d": [
           {
            "line": {
             "colorbar": {
              "outlinewidth": 0,
              "ticks": ""
             }
            },
            "marker": {
             "colorbar": {
              "outlinewidth": 0,
              "ticks": ""
             }
            },
            "type": "scatter3d"
           }
          ],
          "scattercarpet": [
           {
            "marker": {
             "colorbar": {
              "outlinewidth": 0,
              "ticks": ""
             }
            },
            "type": "scattercarpet"
           }
          ],
          "scattergeo": [
           {
            "marker": {
             "colorbar": {
              "outlinewidth": 0,
              "ticks": ""
             }
            },
            "type": "scattergeo"
           }
          ],
          "scattergl": [
           {
            "marker": {
             "colorbar": {
              "outlinewidth": 0,
              "ticks": ""
             }
            },
            "type": "scattergl"
           }
          ],
          "scattermapbox": [
           {
            "marker": {
             "colorbar": {
              "outlinewidth": 0,
              "ticks": ""
             }
            },
            "type": "scattermapbox"
           }
          ],
          "scatterpolar": [
           {
            "marker": {
             "colorbar": {
              "outlinewidth": 0,
              "ticks": ""
             }
            },
            "type": "scatterpolar"
           }
          ],
          "scatterpolargl": [
           {
            "marker": {
             "colorbar": {
              "outlinewidth": 0,
              "ticks": ""
             }
            },
            "type": "scatterpolargl"
           }
          ],
          "scatterternary": [
           {
            "marker": {
             "colorbar": {
              "outlinewidth": 0,
              "ticks": ""
             }
            },
            "type": "scatterternary"
           }
          ],
          "surface": [
           {
            "colorbar": {
             "outlinewidth": 0,
             "ticks": ""
            },
            "colorscale": [
             [
              0,
              "#0d0887"
             ],
             [
              0.1111111111111111,
              "#46039f"
             ],
             [
              0.2222222222222222,
              "#7201a8"
             ],
             [
              0.3333333333333333,
              "#9c179e"
             ],
             [
              0.4444444444444444,
              "#bd3786"
             ],
             [
              0.5555555555555556,
              "#d8576b"
             ],
             [
              0.6666666666666666,
              "#ed7953"
             ],
             [
              0.7777777777777778,
              "#fb9f3a"
             ],
             [
              0.8888888888888888,
              "#fdca26"
             ],
             [
              1,
              "#f0f921"
             ]
            ],
            "type": "surface"
           }
          ],
          "table": [
           {
            "cells": {
             "fill": {
              "color": "#EBF0F8"
             },
             "line": {
              "color": "white"
             }
            },
            "header": {
             "fill": {
              "color": "#C8D4E3"
             },
             "line": {
              "color": "white"
             }
            },
            "type": "table"
           }
          ]
         },
         "layout": {
          "annotationdefaults": {
           "arrowcolor": "#2a3f5f",
           "arrowhead": 0,
           "arrowwidth": 1
          },
          "autotypenumbers": "strict",
          "coloraxis": {
           "colorbar": {
            "outlinewidth": 0,
            "ticks": ""
           }
          },
          "colorscale": {
           "diverging": [
            [
             0,
             "#8e0152"
            ],
            [
             0.1,
             "#c51b7d"
            ],
            [
             0.2,
             "#de77ae"
            ],
            [
             0.3,
             "#f1b6da"
            ],
            [
             0.4,
             "#fde0ef"
            ],
            [
             0.5,
             "#f7f7f7"
            ],
            [
             0.6,
             "#e6f5d0"
            ],
            [
             0.7,
             "#b8e186"
            ],
            [
             0.8,
             "#7fbc41"
            ],
            [
             0.9,
             "#4d9221"
            ],
            [
             1,
             "#276419"
            ]
           ],
           "sequential": [
            [
             0,
             "#0d0887"
            ],
            [
             0.1111111111111111,
             "#46039f"
            ],
            [
             0.2222222222222222,
             "#7201a8"
            ],
            [
             0.3333333333333333,
             "#9c179e"
            ],
            [
             0.4444444444444444,
             "#bd3786"
            ],
            [
             0.5555555555555556,
             "#d8576b"
            ],
            [
             0.6666666666666666,
             "#ed7953"
            ],
            [
             0.7777777777777778,
             "#fb9f3a"
            ],
            [
             0.8888888888888888,
             "#fdca26"
            ],
            [
             1,
             "#f0f921"
            ]
           ],
           "sequentialminus": [
            [
             0,
             "#0d0887"
            ],
            [
             0.1111111111111111,
             "#46039f"
            ],
            [
             0.2222222222222222,
             "#7201a8"
            ],
            [
             0.3333333333333333,
             "#9c179e"
            ],
            [
             0.4444444444444444,
             "#bd3786"
            ],
            [
             0.5555555555555556,
             "#d8576b"
            ],
            [
             0.6666666666666666,
             "#ed7953"
            ],
            [
             0.7777777777777778,
             "#fb9f3a"
            ],
            [
             0.8888888888888888,
             "#fdca26"
            ],
            [
             1,
             "#f0f921"
            ]
           ]
          },
          "colorway": [
           "#636efa",
           "#EF553B",
           "#00cc96",
           "#ab63fa",
           "#FFA15A",
           "#19d3f3",
           "#FF6692",
           "#B6E880",
           "#FF97FF",
           "#FECB52"
          ],
          "font": {
           "color": "#2a3f5f"
          },
          "geo": {
           "bgcolor": "white",
           "lakecolor": "white",
           "landcolor": "#E5ECF6",
           "showlakes": true,
           "showland": true,
           "subunitcolor": "white"
          },
          "hoverlabel": {
           "align": "left"
          },
          "hovermode": "closest",
          "mapbox": {
           "style": "light"
          },
          "paper_bgcolor": "white",
          "plot_bgcolor": "#E5ECF6",
          "polar": {
           "angularaxis": {
            "gridcolor": "white",
            "linecolor": "white",
            "ticks": ""
           },
           "bgcolor": "#E5ECF6",
           "radialaxis": {
            "gridcolor": "white",
            "linecolor": "white",
            "ticks": ""
           }
          },
          "scene": {
           "xaxis": {
            "backgroundcolor": "#E5ECF6",
            "gridcolor": "white",
            "gridwidth": 2,
            "linecolor": "white",
            "showbackground": true,
            "ticks": "",
            "zerolinecolor": "white"
           },
           "yaxis": {
            "backgroundcolor": "#E5ECF6",
            "gridcolor": "white",
            "gridwidth": 2,
            "linecolor": "white",
            "showbackground": true,
            "ticks": "",
            "zerolinecolor": "white"
           },
           "zaxis": {
            "backgroundcolor": "#E5ECF6",
            "gridcolor": "white",
            "gridwidth": 2,
            "linecolor": "white",
            "showbackground": true,
            "ticks": "",
            "zerolinecolor": "white"
           }
          },
          "shapedefaults": {
           "line": {
            "color": "#2a3f5f"
           }
          },
          "ternary": {
           "aaxis": {
            "gridcolor": "white",
            "linecolor": "white",
            "ticks": ""
           },
           "baxis": {
            "gridcolor": "white",
            "linecolor": "white",
            "ticks": ""
           },
           "bgcolor": "#E5ECF6",
           "caxis": {
            "gridcolor": "white",
            "linecolor": "white",
            "ticks": ""
           }
          },
          "title": {
           "x": 0.05
          },
          "xaxis": {
           "automargin": true,
           "gridcolor": "white",
           "linecolor": "white",
           "ticks": "",
           "title": {
            "standoff": 15
           },
           "zerolinecolor": "white",
           "zerolinewidth": 2
          },
          "yaxis": {
           "automargin": true,
           "gridcolor": "white",
           "linecolor": "white",
           "ticks": "",
           "title": {
            "standoff": 15
           },
           "zerolinecolor": "white",
           "zerolinewidth": 2
          }
         }
        },
        "title": {
         "text": "Trực quan giữa Yearly%Change và FertilityRate",
         "x": 0.45,
         "xanchor": "center",
         "y": 0.95,
         "yanchor": "top"
        },
        "xaxis": {
         "anchor": "y",
         "domain": [
          0,
          1
         ],
         "title": {
          "text": "Yearly%Change"
         }
        },
        "yaxis": {
         "anchor": "x",
         "domain": [
          0,
          1
         ],
         "title": {
          "text": "FertilityRate"
         }
        }
       }
      }
     },
     "metadata": {},
     "output_type": "display_data"
    }
   ],
   "source": [
    "fig=px.scatter(df_train[df_train['FertilityRate']>0], x=\"Yearly%Change\", y=\"FertilityRate\",\n",
    "        color=\"BestToLive\", hover_data=['Country'])\n",
    "fig.update_layout(\n",
    "    title={\n",
    "        'text': \"Trực quan giữa Yearly%Change và FertilityRate\",\n",
    "        'y':0.95,\n",
    "        'x':0.45,\n",
    "        'xanchor': 'center',\n",
    "        'yanchor': 'top'})\n",
    "\n",
    "fig.show()"
   ]
  },
  {
   "attachments": {},
   "cell_type": "markdown",
   "metadata": {},
   "source": [
    "Mô hình Hồi quy Logistic cho 2 thuộc tính Yearly%Change và FertilityRate."
   ]
  },
  {
   "cell_type": "code",
   "execution_count": 19,
   "metadata": {},
   "outputs": [
    {
     "name": "stdout",
     "output_type": "stream",
     "text": [
      "Binary cross entropy loss là :  8.763605932921974\n",
      "Độ chính xác của mô hình :  0.746268656716418\n"
     ]
    }
   ],
   "source": [
    "\n",
    "import random\n",
    "\n",
    "\n",
    "from sklearn.linear_model import LogisticRegression\n",
    "from sklearn.datasets import make_blobs\n",
    "\n",
    "X = [ [df_train[df_train['FertilityRate']>0].iloc[i]['Yearly%Change'], df_train[df_train['FertilityRate']>0].iloc[i]['FertilityRate']] \n",
    "                for i in range(df_train[df_train['FertilityRate']>0].shape[0]) ]\n",
    "y= list(df_train[df_train['FertilityRate']>0]['BestToLive'])\n",
    "\n",
    "model = LogisticRegression()\n",
    "model.fit(X, y)\n",
    "\n",
    "#Kiểm tra \n",
    "Xnew=X\n",
    "ynew = model.predict_proba(Xnew)\n",
    "\n",
    "country_list = [df_train[df_train['FertilityRate']>0].iloc[i]['Country'] for i in range(df_train[df_train['FertilityRate']>0].shape[0])]\n",
    "dict_={\n",
    "    'Country' : [j for j in country_list],\n",
    "    'Yearly%Change': [i[0] for i in Xnew],\n",
    "    'FertilityRate': [i[1] for i in Xnew],\n",
    "    'predict':[i[1] for i in ynew]\n",
    "}\n",
    "ynew = model.predict(Xnew)\n",
    "print('Binary cross entropy loss là : ',log_loss(y, ynew))\n",
    "print('Độ chính xác của mô hình : ',sum(ynew==y)/len(y))\n"
   ]
  },
  {
   "cell_type": "code",
   "execution_count": 20,
   "metadata": {},
   "outputs": [
    {
     "data": {
      "application/vnd.plotly.v1+json": {
       "config": {
        "plotlyServerURL": "https://plot.ly"
       },
       "data": [
        {
         "customdata": [
          [
           "Afghanistan"
          ],
          [
           "Albania"
          ],
          [
           "Algeria"
          ],
          [
           "Angola"
          ],
          [
           "Antigua and Barbuda"
          ],
          [
           "Argentina"
          ],
          [
           "Armenia"
          ],
          [
           "Aruba"
          ],
          [
           "Australia"
          ],
          [
           "Austria"
          ],
          [
           "Azerbaijan"
          ],
          [
           "Bahamas"
          ],
          [
           "Bahrain"
          ],
          [
           "Bangladesh"
          ],
          [
           "Barbados"
          ],
          [
           "Belarus"
          ],
          [
           "Belgium"
          ],
          [
           "Belize"
          ],
          [
           "Benin"
          ],
          [
           "Bhutan"
          ],
          [
           "Bolivia"
          ],
          [
           "Bosnia and Herzegovina"
          ],
          [
           "Botswana"
          ],
          [
           "Brazil"
          ],
          [
           "Brunei "
          ],
          [
           "Bulgaria"
          ],
          [
           "Burkina Faso"
          ],
          [
           "Burundi"
          ],
          [
           "Cabo Verde"
          ],
          [
           "Cambodia"
          ],
          [
           "Cameroon"
          ],
          [
           "Canada"
          ],
          [
           "Central African Republic"
          ],
          [
           "Chad"
          ],
          [
           "Channel Islands"
          ],
          [
           "Chile"
          ],
          [
           "China"
          ],
          [
           "Colombia"
          ],
          [
           "Comoros"
          ],
          [
           "Congo"
          ],
          [
           "Costa Rica"
          ],
          [
           "Croatia"
          ],
          [
           "Cuba"
          ],
          [
           "Curaçao"
          ],
          [
           "Cyprus"
          ],
          [
           "Czech Republic (Czechia)"
          ],
          [
           "Côte d'Ivoire"
          ],
          [
           "DR Congo"
          ],
          [
           "Denmark"
          ],
          [
           "Djibouti"
          ],
          [
           "Dominican Republic"
          ],
          [
           "Ecuador"
          ],
          [
           "Egypt"
          ],
          [
           "El Salvador"
          ],
          [
           "Equatorial Guinea"
          ],
          [
           "Eritrea"
          ],
          [
           "Estonia"
          ],
          [
           "Eswatini"
          ],
          [
           "Ethiopia"
          ],
          [
           "Fiji"
          ],
          [
           "Finland"
          ],
          [
           "France"
          ],
          [
           "French Guiana"
          ],
          [
           "French Polynesia"
          ],
          [
           "Gabon"
          ],
          [
           "Gambia"
          ],
          [
           "Georgia"
          ],
          [
           "Germany"
          ],
          [
           "Ghana"
          ],
          [
           "Greece"
          ],
          [
           "Grenada"
          ],
          [
           "Guadeloupe"
          ],
          [
           "Guam"
          ],
          [
           "Guatemala"
          ],
          [
           "Guinea"
          ],
          [
           "Guinea-Bissau"
          ],
          [
           "Guyana"
          ],
          [
           "Haiti"
          ],
          [
           "Honduras"
          ],
          [
           "Hong Kong"
          ],
          [
           "Hungary"
          ],
          [
           "Iceland"
          ],
          [
           "India"
          ],
          [
           "Indonesia"
          ],
          [
           "Iran"
          ],
          [
           "Iraq"
          ],
          [
           "Ireland"
          ],
          [
           "Israel"
          ],
          [
           "Italy"
          ],
          [
           "Jamaica"
          ],
          [
           "Japan"
          ],
          [
           "Jordan"
          ],
          [
           "Kazakhstan"
          ],
          [
           "Kenya"
          ],
          [
           "Kiribati"
          ],
          [
           "Kuwait"
          ],
          [
           "Kyrgyzstan"
          ],
          [
           "Laos"
          ],
          [
           "Latvia"
          ],
          [
           "Lebanon"
          ],
          [
           "Lesotho"
          ],
          [
           "Liberia"
          ],
          [
           "Libya"
          ],
          [
           "Lithuania"
          ],
          [
           "Luxembourg"
          ],
          [
           "Macao"
          ],
          [
           "Madagascar"
          ],
          [
           "Malawi"
          ],
          [
           "Malaysia"
          ],
          [
           "Maldives"
          ],
          [
           "Mali"
          ],
          [
           "Malta"
          ],
          [
           "Martinique"
          ],
          [
           "Mauritania"
          ],
          [
           "Mauritius"
          ],
          [
           "Mayotte"
          ],
          [
           "Mexico"
          ],
          [
           "Micronesia"
          ],
          [
           "Moldova"
          ],
          [
           "Mongolia"
          ],
          [
           "Montenegro"
          ],
          [
           "Morocco"
          ],
          [
           "Mozambique"
          ],
          [
           "Myanmar"
          ],
          [
           "Namibia"
          ],
          [
           "Nepal"
          ],
          [
           "Netherlands"
          ],
          [
           "New Caledonia"
          ],
          [
           "New Zealand"
          ],
          [
           "Nicaragua"
          ],
          [
           "Niger"
          ],
          [
           "Nigeria"
          ],
          [
           "North Korea"
          ],
          [
           "North Macedonia"
          ],
          [
           "Norway"
          ],
          [
           "Oman"
          ],
          [
           "Pakistan"
          ],
          [
           "Panama"
          ],
          [
           "Papua New Guinea"
          ],
          [
           "Paraguay"
          ],
          [
           "Peru"
          ],
          [
           "Philippines"
          ],
          [
           "Poland"
          ],
          [
           "Portugal"
          ],
          [
           "Puerto Rico"
          ],
          [
           "Qatar"
          ],
          [
           "Romania"
          ],
          [
           "Russia"
          ],
          [
           "Rwanda"
          ],
          [
           "Réunion"
          ],
          [
           "Saint Lucia"
          ],
          [
           "Samoa"
          ],
          [
           "Sao Tome & Principe"
          ],
          [
           "Saudi Arabia"
          ],
          [
           "Senegal"
          ],
          [
           "Serbia"
          ],
          [
           "Seychelles"
          ],
          [
           "Sierra Leone"
          ],
          [
           "Singapore"
          ],
          [
           "Slovakia"
          ],
          [
           "Slovenia"
          ],
          [
           "Solomon Islands"
          ],
          [
           "Somalia"
          ],
          [
           "South Africa"
          ],
          [
           "South Korea"
          ],
          [
           "South Sudan"
          ],
          [
           "Spain"
          ],
          [
           "Sri Lanka"
          ],
          [
           "St. Vincent & Grenadines"
          ],
          [
           "State of Palestine"
          ],
          [
           "Sudan"
          ],
          [
           "Suriname"
          ],
          [
           "Sweden"
          ],
          [
           "Switzerland"
          ],
          [
           "Syria"
          ],
          [
           "Taiwan"
          ],
          [
           "Tajikistan"
          ],
          [
           "Tanzania"
          ],
          [
           "Thailand"
          ],
          [
           "Timor-Leste"
          ],
          [
           "Togo"
          ],
          [
           "Tonga"
          ],
          [
           "Trinidad and Tobago"
          ],
          [
           "Tunisia"
          ],
          [
           "Turkey"
          ],
          [
           "Turkmenistan"
          ],
          [
           "U.S. Virgin Islands"
          ],
          [
           "Uganda"
          ],
          [
           "Ukraine"
          ],
          [
           "United Arab Emirates"
          ],
          [
           "United Kingdom"
          ],
          [
           "United States"
          ],
          [
           "Uruguay"
          ],
          [
           "Uzbekistan"
          ],
          [
           "Vanuatu"
          ],
          [
           "Venezuela"
          ],
          [
           "Vietnam"
          ],
          [
           "Western Sahara"
          ],
          [
           "Yemen"
          ],
          [
           "Zambia"
          ],
          [
           "Zimbabwe"
          ]
         ],
         "hovertemplate": "Yearly%Change=%{x}<br>FertilityRate=%{y}<br>Country=%{customdata[0]}<br>predict=%{marker.color}<extra></extra>",
         "legendgroup": "",
         "marker": {
          "color": [
           0.010425641358334715,
           0.37553399430197637,
           0.10629927145316928,
           0.0028378971500504398,
           0.3215217957389383,
           0.23535294480192218,
           0.35006896186456615,
           0.31955374677127735,
           0.42623152740117776,
           0.48840326503893905,
           0.2983381673992873,
           0.43314076702524795,
           0.6286513519566035,
           0.31908934176761106,
           0.40000727175617035,
           0.3475152931946011,
           0.39669152320694234,
           0.2996889412761032,
           0.007278836780857006,
           0.34949538280627857,
           0.14051527389159357,
           0.46978736156774004,
           0.14850675417784123,
           0.4143107927355214,
           0.39499949942660995,
           0.33489592495969406,
           0.004125706913694576,
           0.0031590378847323668,
           0.24285892995551478,
           0.19780493650294567,
           0.010918117212883204,
           0.5242475711688774,
           0.005872109645639534,
           0.0016262829217424874,
           0.5417603192484737,
           0.4696302634265171,
           0.39969627824551773,
           0.4195556760608544,
           0.017090214413883583,
           0.013958054174990214,
           0.42764546343300297,
           0.39279202958766535,
           0.380805190243559,
           0.3728274045996656,
           0.588412375515515,
           0.398075452930241,
           0.009422953289359508,
           0.0013392724113360926,
           0.36655949251054254,
           0.14330022198885858,
           0.21420554372537012,
           0.2319226064908402,
           0.07055920348134224,
           0.2724715583805106,
           0.017559460238991964,
           0.015345042774547341,
           0.40723236950217745,
           0.07923315927754104,
           0.01814589982208465,
           0.1018518097312548,
           0.44159564370075377,
           0.3180857072092268,
           0.09196777123600446,
           0.31519067568866216,
           0.02873525323155122,
           0.004129450103144179,
           0.21191533592251602,
           0.4345430684167233,
           0.030391825629765275,
           0.47124455714947283,
           0.26124850037497205,
           0.1959939028730348,
           0.2169299328358295,
           0.13651574340002748,
           0.009532775653200307,
           0.011987611244828542,
           0.15063632370294458,
           0.09575653072946036,
           0.22287184880036243,
           0.6023417670232751,
           0.4148123658449418,
           0.3941293606787773,
           0.24992790527237538,
           0.23095074276339114,
           0.30944360725412745,
           0.04655359188133272,
           0.41650521051966577,
           0.09764103340119717,
           0.49509111863080324,
           0.2872788849709954,
           0.4608817577604115,
           0.11703468457650527,
           0.129071715424377,
           0.05964913332701296,
           0.039889186632534955,
           0.3495112930590438,
           0.10779579354130842,
           0.15666146113561968,
           0.2463471596703333,
           0.1857402363593516,
           0.0577527072891445,
           0.015724801111306193,
           0.2805711479910134,
           0.2401515356298416,
           0.6415482343597686,
           0.7105340791580882,
           0.02634925559290992,
           0.020840160339439934,
           0.3640014941152828,
           0.4744746972566259,
           0.0013308668083407776,
           0.4897335851441609,
           0.27898324921642925,
           0.011872012140566027,
           0.5047401480537114,
           0.04625755622525269,
           0.29052396733549435,
           0.08276805013675248,
           0.5167038281155832,
           0.12383383167689932,
           0.3358249066677156,
           0.2109109443063254,
           0.007685001742248875,
           0.24598962776756184,
           0.058895307969237,
           0.4571939658354878,
           0.39400393125607686,
           0.34613466277290283,
           0.3587072586525617,
           0.2116580354461845,
           0.0003179990355853594,
           0.0026147121266586223,
           0.3167349443140811,
           0.4379455353233317,
           0.447710320308758,
           0.1735419819883646,
           0.05041508085115344,
           0.22740544165383536,
           0.04617419024896365,
           0.20595875054210006,
           0.27714809291710596,
           0.1777255287939471,
           0.460333532348972,
           0.4968772744662087,
           0.2957785082677692,
           0.4655408460575016,
           0.31970612314132,
           0.31198658906773047,
           0.025656498531642015,
           0.2188338993340719,
           0.5153917200870326,
           0.015616214853467007,
           0.012440557433271729,
           0.26800263168926175,
           0.01075033617788482,
           0.41122060946976047,
           0.16119315525636002,
           0.014249770088339445,
           0.6482854690830164,
           0.4434706433986442,
           0.39656581209734343,
           0.014138030685518003,
           0.0008975240326104793,
           0.21992553173051485,
           0.6159665008419877,
           0.004592708817082878,
           0.5163801911170717,
           0.2138108319683388,
           0.3089274586225256,
           0.04918863621875081,
           0.013580431535062774,
           0.18672749471262978,
           0.35921501459539035,
           0.5030853021885183,
           0.1882052619936049,
           0.6089502572786974,
           0.0522952585322186,
           0.007459449225093859,
           0.45267782477858326,
           0.01955215321111468,
           0.01565556302471808,
           0.033270844517164735,
           0.3756571888059984,
           0.2693928834272455,
           0.3155006966776763,
           0.1380464113450676,
           0.21788939726493908,
           0.0074234900031245376,
           0.39911659607689726,
           0.6086749434970298,
           0.3896388237043834,
           0.3835839178473823,
           0.2826188870360401,
           0.2294549113090906,
           0.03975793283173702,
           0.14953281318180206,
           0.3057065308001217,
           0.33253611229386526,
           0.034990880421159096,
           0.01144388468311783,
           0.03527464549418468
          ],
          "coloraxis": "coloraxis",
          "symbol": "circle"
         },
         "mode": "markers",
         "name": "",
         "orientation": "v",
         "showlegend": false,
         "type": "scatter",
         "x": [
          2.33,
          -0.11,
          1.85,
          3.27,
          0.84,
          0.93,
          0.19,
          0.43,
          1.18,
          0.57,
          0.91,
          0.97,
          3.68,
          1.01,
          0.12,
          -0.03,
          0.44,
          1.86,
          2.73,
          1.12,
          1.39,
          -0.61,
          2.08,
          0.72,
          0.97,
          -0.74,
          2.86,
          3.12,
          1.1,
          1.41,
          2.59,
          0.89,
          1.78,
          3,
          0.93,
          0.87,
          0.39,
          1.08,
          2.2,
          2.56,
          0.92,
          -0.61,
          -0.06,
          0.41,
          0.73,
          0.18,
          2.57,
          3.19,
          0.35,
          1.48,
          1.01,
          1.55,
          1.94,
          0.51,
          3.47,
          1.41,
          0.07,
          1.05,
          2.57,
          0.73,
          0.15,
          0.22,
          2.7,
          0.58,
          2.45,
          2.94,
          -0.19,
          0.32,
          2.15,
          -0.48,
          0.46,
          0.02,
          0.89,
          1.9,
          2.83,
          2.45,
          0.48,
          1.24,
          1.63,
          0.82,
          -0.25,
          0.65,
          0.99,
          1.07,
          1.3,
          2.32,
          1.13,
          1.6,
          -0.15,
          0.44,
          -0.3,
          1,
          1.21,
          2.28,
          1.57,
          1.51,
          1.69,
          1.48,
          -1.08,
          -0.44,
          0.8,
          2.44,
          1.38,
          -1.35,
          1.66,
          1.39,
          2.68,
          2.69,
          1.3,
          1.81,
          3.02,
          0.27,
          -0.08,
          2.74,
          0.17,
          2.5,
          1.06,
          1,
          -0.23,
          1.65,
          0.01,
          1.2,
          2.93,
          0.67,
          1.86,
          1.85,
          0.22,
          0.97,
          0.82,
          1.21,
          3.84,
          2.58,
          0.44,
          0,
          0.79,
          2.65,
          2,
          1.61,
          1.95,
          1.25,
          1.42,
          1.35,
          -0.11,
          -0.29,
          -2.47,
          1.73,
          -0.66,
          0.04,
          2.58,
          0.72,
          0.46,
          0.67,
          1.91,
          1.59,
          2.75,
          -0.4,
          0.62,
          2.1,
          0.79,
          0.05,
          0.01,
          2.55,
          2.92,
          1.28,
          0.09,
          1.19,
          0.04,
          0.42,
          0.32,
          2.41,
          2.42,
          0.9,
          0.63,
          0.74,
          2.52,
          0.18,
          2.32,
          2.98,
          0.25,
          1.96,
          2.43,
          1.15,
          0.32,
          1.06,
          1.09,
          1.5,
          -0.15,
          3.32,
          -0.59,
          1.23,
          0.53,
          0.59,
          0.35,
          1.48,
          2.42,
          -0.28,
          0.91,
          2.55,
          2.28,
          2.93,
          1.48
         ],
         "xaxis": "x",
         "y": [
          4.56,
          1.62,
          3.05,
          5.55,
          2,
          2.27,
          1.76,
          1.9,
          1.83,
          1.53,
          2.08,
          1.76,
          2,
          2.05,
          1.62,
          1.71,
          1.71,
          2.32,
          4.87,
          2,
          2.75,
          1.27,
          2.89,
          1.74,
          1.85,
          1.56,
          5.23,
          5.45,
          2.29,
          2.52,
          4.6,
          1.53,
          4.75,
          5.8,
          1.5,
          1.65,
          1.69,
          1.82,
          4.24,
          4.45,
          1.76,
          1.45,
          1.62,
          1.76,
          1.34,
          1.64,
          4.68,
          5.96,
          1.76,
          2.76,
          2.36,
          2.44,
          3.33,
          2.05,
          4.55,
          4.1,
          1.59,
          3.03,
          4.3,
          2.79,
          1.53,
          1.85,
          3.36,
          1.95,
          4,
          5.25,
          2.06,
          1.59,
          3.89,
          1.3,
          2.07,
          2.17,
          2.32,
          2.9,
          4.74,
          4.51,
          2.47,
          2.96,
          2.49,
          1.33,
          1.49,
          1.77,
          2.24,
          2.32,
          2.15,
          3.68,
          1.84,
          3.04,
          1.33,
          1.99,
          1.37,
          2.77,
          2.76,
          3.52,
          3.58,
          2.1,
          3,
          2.7,
          1.72,
          2.09,
          3.16,
          4.35,
          2.25,
          1.67,
          1.45,
          1.2,
          4.11,
          4.25,
          2.01,
          1.88,
          5.92,
          1.45,
          1.88,
          4.59,
          1.39,
          3.73,
          2.14,
          2.99,
          1.26,
          2.9,
          1.75,
          2.42,
          4.89,
          2.17,
          3.42,
          1.93,
          1.66,
          1.97,
          1.9,
          2.42,
          6.95,
          5.42,
          1.91,
          1.5,
          1.68,
          2.93,
          3.55,
          2.47,
          3.59,
          2.45,
          2.27,
          2.58,
          1.42,
          1.29,
          1.22,
          1.88,
          1.62,
          1.82,
          4.1,
          2.27,
          1.44,
          3.9,
          4.35,
          2.34,
          4.65,
          1.46,
          2.46,
          4.32,
          1.21,
          1.5,
          1.6,
          4.44,
          6.12,
          2.41,
          1.11,
          4.74,
          1.33,
          2.21,
          1.9,
          3.67,
          4.43,
          2.43,
          1.85,
          1.54,
          2.84,
          1.15,
          3.61,
          4.92,
          1.53,
          4.1,
          4.35,
          3.58,
          1.73,
          2.2,
          2.08,
          2.79,
          2.05,
          5.01,
          1.44,
          1.42,
          1.75,
          1.78,
          1.98,
          2.43,
          3.8,
          2.28,
          2.06,
          2.41,
          3.84,
          4.66,
          3.63
         ],
         "yaxis": "y"
        },
        {
         "hovertemplate": "<b>OLS trendline</b><br>FertilityRate = 0.952644 * Yearly%Change + 1.54361<br>R<sup>2</sup>=0.680023<br><br>Yearly%Change=%{x}<br>FertilityRate=%{y} <b>(trend)</b><extra></extra>",
         "legendgroup": "",
         "marker": {
          "symbol": "circle"
         },
         "mode": "lines",
         "name": "",
         "showlegend": false,
         "type": "scatter",
         "x": [
          -2.47,
          -1.35,
          -1.08,
          -0.74,
          -0.66,
          -0.61,
          -0.61,
          -0.59,
          -0.48,
          -0.44,
          -0.4,
          -0.3,
          -0.29,
          -0.28,
          -0.25,
          -0.23,
          -0.19,
          -0.15,
          -0.15,
          -0.11,
          -0.11,
          -0.08,
          -0.06,
          -0.03,
          0,
          0.01,
          0.01,
          0.02,
          0.04,
          0.04,
          0.05,
          0.07,
          0.09,
          0.12,
          0.15,
          0.17,
          0.18,
          0.18,
          0.19,
          0.22,
          0.22,
          0.25,
          0.27,
          0.32,
          0.32,
          0.32,
          0.35,
          0.35,
          0.39,
          0.41,
          0.42,
          0.43,
          0.44,
          0.44,
          0.44,
          0.46,
          0.46,
          0.48,
          0.51,
          0.53,
          0.57,
          0.58,
          0.59,
          0.62,
          0.63,
          0.65,
          0.67,
          0.67,
          0.72,
          0.72,
          0.73,
          0.73,
          0.74,
          0.79,
          0.79,
          0.8,
          0.82,
          0.82,
          0.84,
          0.87,
          0.89,
          0.89,
          0.9,
          0.91,
          0.91,
          0.92,
          0.93,
          0.93,
          0.97,
          0.97,
          0.97,
          0.99,
          1,
          1,
          1.01,
          1.01,
          1.05,
          1.06,
          1.06,
          1.07,
          1.08,
          1.09,
          1.1,
          1.12,
          1.13,
          1.15,
          1.18,
          1.19,
          1.2,
          1.21,
          1.21,
          1.23,
          1.24,
          1.25,
          1.28,
          1.3,
          1.3,
          1.35,
          1.38,
          1.39,
          1.39,
          1.41,
          1.41,
          1.42,
          1.48,
          1.48,
          1.48,
          1.48,
          1.5,
          1.51,
          1.55,
          1.57,
          1.59,
          1.6,
          1.61,
          1.63,
          1.65,
          1.66,
          1.69,
          1.73,
          1.78,
          1.81,
          1.85,
          1.85,
          1.86,
          1.86,
          1.9,
          1.91,
          1.94,
          1.95,
          1.96,
          2,
          2.08,
          2.1,
          2.15,
          2.2,
          2.28,
          2.28,
          2.32,
          2.32,
          2.33,
          2.41,
          2.42,
          2.42,
          2.43,
          2.44,
          2.45,
          2.45,
          2.5,
          2.52,
          2.55,
          2.55,
          2.56,
          2.57,
          2.57,
          2.58,
          2.58,
          2.59,
          2.65,
          2.68,
          2.69,
          2.7,
          2.73,
          2.74,
          2.75,
          2.83,
          2.86,
          2.92,
          2.93,
          2.93,
          2.94,
          2.98,
          3,
          3.02,
          3.12,
          3.19,
          3.27,
          3.32,
          3.47,
          3.68,
          3.84
         ],
         "xaxis": "x",
         "y": [
          -0.8094224046861336,
          0.2575386403343243,
          0.5147524636874703,
          0.8386513523543949,
          0.9148628555701419,
          0.9624950450799837,
          0.9624950450799837,
          0.9815479208839205,
          1.0863387378055727,
          1.124444489413446,
          1.1625502410213195,
          1.2578146200410032,
          1.2673410579429716,
          1.27686749584494,
          1.3054468095508451,
          1.324499685354782,
          1.3626054369626552,
          1.4007111885705288,
          1.4007111885705288,
          1.4388169401784023,
          1.4388169401784023,
          1.4673962538843075,
          1.486449129688244,
          1.5150284433941492,
          1.5436077571000544,
          1.5531341950020228,
          1.5531341950020228,
          1.5626606329039912,
          1.581713508707928,
          1.581713508707928,
          1.5912399466098963,
          1.6102928224138329,
          1.6293456982177696,
          1.6579250119236748,
          1.68650432562958,
          1.7055572014335167,
          1.7150836393354851,
          1.7150836393354851,
          1.7246100772374535,
          1.7531893909433585,
          1.7531893909433585,
          1.7817687046492636,
          1.8008215804532004,
          1.8484537699630423,
          1.8484537699630423,
          1.8484537699630423,
          1.8770330836689473,
          1.8770330836689473,
          1.9151388352768208,
          1.9341917110807576,
          1.943718148982726,
          1.9532445868846944,
          1.9627710247866628,
          1.9627710247866628,
          1.9627710247866628,
          1.9818239005905995,
          1.9818239005905995,
          2.000876776394536,
          2.0294560901004415,
          2.048508965904378,
          2.0866147175122514,
          2.09614115541422,
          2.105667593316188,
          2.1342469070220935,
          2.1437733449240617,
          2.1628262207279985,
          2.1818790965319352,
          2.1818790965319352,
          2.229511286041777,
          2.229511286041777,
          2.2390377239437456,
          2.2390377239437456,
          2.2485641618457137,
          2.2961963513555554,
          2.2961963513555554,
          2.305722789257524,
          2.324775665061461,
          2.324775665061461,
          2.3438285408653976,
          2.3724078545713025,
          2.3914607303752393,
          2.3914607303752393,
          2.400987168277208,
          2.410513606179176,
          2.410513606179176,
          2.4200400440811447,
          2.429566481983113,
          2.429566481983113,
          2.4676722335909864,
          2.4676722335909864,
          2.4676722335909864,
          2.486725109394923,
          2.4962515472968914,
          2.4962515472968914,
          2.50577798519886,
          2.50577798519886,
          2.543883736806733,
          2.5534101747087017,
          2.5534101747087017,
          2.5629366126106703,
          2.5724630505126385,
          2.5819894884146066,
          2.5915159263165752,
          2.610568802120512,
          2.62009524002248,
          2.639148115826417,
          2.667727429532322,
          2.6772538674342905,
          2.686780305336259,
          2.6963067432382273,
          2.6963067432382273,
          2.715359619042164,
          2.7248860569441327,
          2.734412494846101,
          2.762991808552006,
          2.7820446843559425,
          2.7820446843559425,
          2.8296768738657843,
          2.8582561875716896,
          2.867782625473658,
          2.867782625473658,
          2.8868355012775946,
          2.8868355012775946,
          2.896361939179563,
          2.953520566591373,
          2.953520566591373,
          2.953520566591373,
          2.953520566591373,
          2.9725734423953103,
          2.9820998802972785,
          3.020205631905152,
          3.0392585077090883,
          3.0583113835130256,
          3.0678378214149937,
          3.077364259316962,
          3.0964171351208987,
          3.1154700109248354,
          3.1249964488268036,
          3.153575762532709,
          3.1916815141405825,
          3.2393137036504243,
          3.2678930173563296,
          3.305998768964203,
          3.305998768964203,
          3.3155252068661714,
          3.3155252068661714,
          3.353630958474045,
          3.363157396376013,
          3.3917367100819185,
          3.4012631479838866,
          3.410789585885855,
          3.4488953374937283,
          3.5251068407094754,
          3.544159716513412,
          3.591791906023254,
          3.639424095533096,
          3.7156355987488427,
          3.7156355987488427,
          3.7537413503567163,
          3.7537413503567163,
          3.763267788258685,
          3.839479291474432,
          3.8490057293764,
          3.8490057293764,
          3.858532167278369,
          3.868058605180337,
          3.8775850430823056,
          3.8775850430823056,
          3.9252172325921473,
          3.944270108396084,
          3.972849422101989,
          3.972849422101989,
          3.9823758600039576,
          3.9919022979059258,
          3.9919022979059258,
          4.0014287358078935,
          4.0014287358078935,
          4.010955173709862,
          4.068113801121672,
          4.096693114827578,
          4.106219552729546,
          4.115745990631515,
          4.1443253043374195,
          4.153851742239388,
          4.163378180141356,
          4.239589683357103,
          4.268168997063008,
          4.325327624474818,
          4.334854062376787,
          4.334854062376787,
          4.344380500278755,
          4.382486251886629,
          4.401539127690565,
          4.4205920034945025,
          4.515856382514187,
          4.582541447827964,
          4.658752951043711,
          4.706385140553554,
          4.84928170908308,
          5.049336905024415,
          5.201759911455909
         ],
         "yaxis": "y"
        }
       ],
       "layout": {
        "coloraxis": {
         "colorbar": {
          "title": {
           "text": "predict"
          }
         },
         "colorscale": [
          [
           0,
           "green"
          ],
          [
           0.5,
           "orange"
          ],
          [
           1,
           "purple"
          ]
         ]
        },
        "legend": {
         "tracegroupgap": 0
        },
        "margin": {
         "t": 60
        },
        "template": {
         "data": {
          "bar": [
           {
            "error_x": {
             "color": "#2a3f5f"
            },
            "error_y": {
             "color": "#2a3f5f"
            },
            "marker": {
             "line": {
              "color": "#E5ECF6",
              "width": 0.5
             },
             "pattern": {
              "fillmode": "overlay",
              "size": 10,
              "solidity": 0.2
             }
            },
            "type": "bar"
           }
          ],
          "barpolar": [
           {
            "marker": {
             "line": {
              "color": "#E5ECF6",
              "width": 0.5
             },
             "pattern": {
              "fillmode": "overlay",
              "size": 10,
              "solidity": 0.2
             }
            },
            "type": "barpolar"
           }
          ],
          "carpet": [
           {
            "aaxis": {
             "endlinecolor": "#2a3f5f",
             "gridcolor": "white",
             "linecolor": "white",
             "minorgridcolor": "white",
             "startlinecolor": "#2a3f5f"
            },
            "baxis": {
             "endlinecolor": "#2a3f5f",
             "gridcolor": "white",
             "linecolor": "white",
             "minorgridcolor": "white",
             "startlinecolor": "#2a3f5f"
            },
            "type": "carpet"
           }
          ],
          "choropleth": [
           {
            "colorbar": {
             "outlinewidth": 0,
             "ticks": ""
            },
            "type": "choropleth"
           }
          ],
          "contour": [
           {
            "colorbar": {
             "outlinewidth": 0,
             "ticks": ""
            },
            "colorscale": [
             [
              0,
              "#0d0887"
             ],
             [
              0.1111111111111111,
              "#46039f"
             ],
             [
              0.2222222222222222,
              "#7201a8"
             ],
             [
              0.3333333333333333,
              "#9c179e"
             ],
             [
              0.4444444444444444,
              "#bd3786"
             ],
             [
              0.5555555555555556,
              "#d8576b"
             ],
             [
              0.6666666666666666,
              "#ed7953"
             ],
             [
              0.7777777777777778,
              "#fb9f3a"
             ],
             [
              0.8888888888888888,
              "#fdca26"
             ],
             [
              1,
              "#f0f921"
             ]
            ],
            "type": "contour"
           }
          ],
          "contourcarpet": [
           {
            "colorbar": {
             "outlinewidth": 0,
             "ticks": ""
            },
            "type": "contourcarpet"
           }
          ],
          "heatmap": [
           {
            "colorbar": {
             "outlinewidth": 0,
             "ticks": ""
            },
            "colorscale": [
             [
              0,
              "#0d0887"
             ],
             [
              0.1111111111111111,
              "#46039f"
             ],
             [
              0.2222222222222222,
              "#7201a8"
             ],
             [
              0.3333333333333333,
              "#9c179e"
             ],
             [
              0.4444444444444444,
              "#bd3786"
             ],
             [
              0.5555555555555556,
              "#d8576b"
             ],
             [
              0.6666666666666666,
              "#ed7953"
             ],
             [
              0.7777777777777778,
              "#fb9f3a"
             ],
             [
              0.8888888888888888,
              "#fdca26"
             ],
             [
              1,
              "#f0f921"
             ]
            ],
            "type": "heatmap"
           }
          ],
          "heatmapgl": [
           {
            "colorbar": {
             "outlinewidth": 0,
             "ticks": ""
            },
            "colorscale": [
             [
              0,
              "#0d0887"
             ],
             [
              0.1111111111111111,
              "#46039f"
             ],
             [
              0.2222222222222222,
              "#7201a8"
             ],
             [
              0.3333333333333333,
              "#9c179e"
             ],
             [
              0.4444444444444444,
              "#bd3786"
             ],
             [
              0.5555555555555556,
              "#d8576b"
             ],
             [
              0.6666666666666666,
              "#ed7953"
             ],
             [
              0.7777777777777778,
              "#fb9f3a"
             ],
             [
              0.8888888888888888,
              "#fdca26"
             ],
             [
              1,
              "#f0f921"
             ]
            ],
            "type": "heatmapgl"
           }
          ],
          "histogram": [
           {
            "marker": {
             "pattern": {
              "fillmode": "overlay",
              "size": 10,
              "solidity": 0.2
             }
            },
            "type": "histogram"
           }
          ],
          "histogram2d": [
           {
            "colorbar": {
             "outlinewidth": 0,
             "ticks": ""
            },
            "colorscale": [
             [
              0,
              "#0d0887"
             ],
             [
              0.1111111111111111,
              "#46039f"
             ],
             [
              0.2222222222222222,
              "#7201a8"
             ],
             [
              0.3333333333333333,
              "#9c179e"
             ],
             [
              0.4444444444444444,
              "#bd3786"
             ],
             [
              0.5555555555555556,
              "#d8576b"
             ],
             [
              0.6666666666666666,
              "#ed7953"
             ],
             [
              0.7777777777777778,
              "#fb9f3a"
             ],
             [
              0.8888888888888888,
              "#fdca26"
             ],
             [
              1,
              "#f0f921"
             ]
            ],
            "type": "histogram2d"
           }
          ],
          "histogram2dcontour": [
           {
            "colorbar": {
             "outlinewidth": 0,
             "ticks": ""
            },
            "colorscale": [
             [
              0,
              "#0d0887"
             ],
             [
              0.1111111111111111,
              "#46039f"
             ],
             [
              0.2222222222222222,
              "#7201a8"
             ],
             [
              0.3333333333333333,
              "#9c179e"
             ],
             [
              0.4444444444444444,
              "#bd3786"
             ],
             [
              0.5555555555555556,
              "#d8576b"
             ],
             [
              0.6666666666666666,
              "#ed7953"
             ],
             [
              0.7777777777777778,
              "#fb9f3a"
             ],
             [
              0.8888888888888888,
              "#fdca26"
             ],
             [
              1,
              "#f0f921"
             ]
            ],
            "type": "histogram2dcontour"
           }
          ],
          "mesh3d": [
           {
            "colorbar": {
             "outlinewidth": 0,
             "ticks": ""
            },
            "type": "mesh3d"
           }
          ],
          "parcoords": [
           {
            "line": {
             "colorbar": {
              "outlinewidth": 0,
              "ticks": ""
             }
            },
            "type": "parcoords"
           }
          ],
          "pie": [
           {
            "automargin": true,
            "type": "pie"
           }
          ],
          "scatter": [
           {
            "fillpattern": {
             "fillmode": "overlay",
             "size": 10,
             "solidity": 0.2
            },
            "type": "scatter"
           }
          ],
          "scatter3d": [
           {
            "line": {
             "colorbar": {
              "outlinewidth": 0,
              "ticks": ""
             }
            },
            "marker": {
             "colorbar": {
              "outlinewidth": 0,
              "ticks": ""
             }
            },
            "type": "scatter3d"
           }
          ],
          "scattercarpet": [
           {
            "marker": {
             "colorbar": {
              "outlinewidth": 0,
              "ticks": ""
             }
            },
            "type": "scattercarpet"
           }
          ],
          "scattergeo": [
           {
            "marker": {
             "colorbar": {
              "outlinewidth": 0,
              "ticks": ""
             }
            },
            "type": "scattergeo"
           }
          ],
          "scattergl": [
           {
            "marker": {
             "colorbar": {
              "outlinewidth": 0,
              "ticks": ""
             }
            },
            "type": "scattergl"
           }
          ],
          "scattermapbox": [
           {
            "marker": {
             "colorbar": {
              "outlinewidth": 0,
              "ticks": ""
             }
            },
            "type": "scattermapbox"
           }
          ],
          "scatterpolar": [
           {
            "marker": {
             "colorbar": {
              "outlinewidth": 0,
              "ticks": ""
             }
            },
            "type": "scatterpolar"
           }
          ],
          "scatterpolargl": [
           {
            "marker": {
             "colorbar": {
              "outlinewidth": 0,
              "ticks": ""
             }
            },
            "type": "scatterpolargl"
           }
          ],
          "scatterternary": [
           {
            "marker": {
             "colorbar": {
              "outlinewidth": 0,
              "ticks": ""
             }
            },
            "type": "scatterternary"
           }
          ],
          "surface": [
           {
            "colorbar": {
             "outlinewidth": 0,
             "ticks": ""
            },
            "colorscale": [
             [
              0,
              "#0d0887"
             ],
             [
              0.1111111111111111,
              "#46039f"
             ],
             [
              0.2222222222222222,
              "#7201a8"
             ],
             [
              0.3333333333333333,
              "#9c179e"
             ],
             [
              0.4444444444444444,
              "#bd3786"
             ],
             [
              0.5555555555555556,
              "#d8576b"
             ],
             [
              0.6666666666666666,
              "#ed7953"
             ],
             [
              0.7777777777777778,
              "#fb9f3a"
             ],
             [
              0.8888888888888888,
              "#fdca26"
             ],
             [
              1,
              "#f0f921"
             ]
            ],
            "type": "surface"
           }
          ],
          "table": [
           {
            "cells": {
             "fill": {
              "color": "#EBF0F8"
             },
             "line": {
              "color": "white"
             }
            },
            "header": {
             "fill": {
              "color": "#C8D4E3"
             },
             "line": {
              "color": "white"
             }
            },
            "type": "table"
           }
          ]
         },
         "layout": {
          "annotationdefaults": {
           "arrowcolor": "#2a3f5f",
           "arrowhead": 0,
           "arrowwidth": 1
          },
          "autotypenumbers": "strict",
          "coloraxis": {
           "colorbar": {
            "outlinewidth": 0,
            "ticks": ""
           }
          },
          "colorscale": {
           "diverging": [
            [
             0,
             "#8e0152"
            ],
            [
             0.1,
             "#c51b7d"
            ],
            [
             0.2,
             "#de77ae"
            ],
            [
             0.3,
             "#f1b6da"
            ],
            [
             0.4,
             "#fde0ef"
            ],
            [
             0.5,
             "#f7f7f7"
            ],
            [
             0.6,
             "#e6f5d0"
            ],
            [
             0.7,
             "#b8e186"
            ],
            [
             0.8,
             "#7fbc41"
            ],
            [
             0.9,
             "#4d9221"
            ],
            [
             1,
             "#276419"
            ]
           ],
           "sequential": [
            [
             0,
             "#0d0887"
            ],
            [
             0.1111111111111111,
             "#46039f"
            ],
            [
             0.2222222222222222,
             "#7201a8"
            ],
            [
             0.3333333333333333,
             "#9c179e"
            ],
            [
             0.4444444444444444,
             "#bd3786"
            ],
            [
             0.5555555555555556,
             "#d8576b"
            ],
            [
             0.6666666666666666,
             "#ed7953"
            ],
            [
             0.7777777777777778,
             "#fb9f3a"
            ],
            [
             0.8888888888888888,
             "#fdca26"
            ],
            [
             1,
             "#f0f921"
            ]
           ],
           "sequentialminus": [
            [
             0,
             "#0d0887"
            ],
            [
             0.1111111111111111,
             "#46039f"
            ],
            [
             0.2222222222222222,
             "#7201a8"
            ],
            [
             0.3333333333333333,
             "#9c179e"
            ],
            [
             0.4444444444444444,
             "#bd3786"
            ],
            [
             0.5555555555555556,
             "#d8576b"
            ],
            [
             0.6666666666666666,
             "#ed7953"
            ],
            [
             0.7777777777777778,
             "#fb9f3a"
            ],
            [
             0.8888888888888888,
             "#fdca26"
            ],
            [
             1,
             "#f0f921"
            ]
           ]
          },
          "colorway": [
           "#636efa",
           "#EF553B",
           "#00cc96",
           "#ab63fa",
           "#FFA15A",
           "#19d3f3",
           "#FF6692",
           "#B6E880",
           "#FF97FF",
           "#FECB52"
          ],
          "font": {
           "color": "#2a3f5f"
          },
          "geo": {
           "bgcolor": "white",
           "lakecolor": "white",
           "landcolor": "#E5ECF6",
           "showlakes": true,
           "showland": true,
           "subunitcolor": "white"
          },
          "hoverlabel": {
           "align": "left"
          },
          "hovermode": "closest",
          "mapbox": {
           "style": "light"
          },
          "paper_bgcolor": "white",
          "plot_bgcolor": "#E5ECF6",
          "polar": {
           "angularaxis": {
            "gridcolor": "white",
            "linecolor": "white",
            "ticks": ""
           },
           "bgcolor": "#E5ECF6",
           "radialaxis": {
            "gridcolor": "white",
            "linecolor": "white",
            "ticks": ""
           }
          },
          "scene": {
           "xaxis": {
            "backgroundcolor": "#E5ECF6",
            "gridcolor": "white",
            "gridwidth": 2,
            "linecolor": "white",
            "showbackground": true,
            "ticks": "",
            "zerolinecolor": "white"
           },
           "yaxis": {
            "backgroundcolor": "#E5ECF6",
            "gridcolor": "white",
            "gridwidth": 2,
            "linecolor": "white",
            "showbackground": true,
            "ticks": "",
            "zerolinecolor": "white"
           },
           "zaxis": {
            "backgroundcolor": "#E5ECF6",
            "gridcolor": "white",
            "gridwidth": 2,
            "linecolor": "white",
            "showbackground": true,
            "ticks": "",
            "zerolinecolor": "white"
           }
          },
          "shapedefaults": {
           "line": {
            "color": "#2a3f5f"
           }
          },
          "ternary": {
           "aaxis": {
            "gridcolor": "white",
            "linecolor": "white",
            "ticks": ""
           },
           "baxis": {
            "gridcolor": "white",
            "linecolor": "white",
            "ticks": ""
           },
           "bgcolor": "#E5ECF6",
           "caxis": {
            "gridcolor": "white",
            "linecolor": "white",
            "ticks": ""
           }
          },
          "title": {
           "x": 0.05
          },
          "xaxis": {
           "automargin": true,
           "gridcolor": "white",
           "linecolor": "white",
           "ticks": "",
           "title": {
            "standoff": 15
           },
           "zerolinecolor": "white",
           "zerolinewidth": 2
          },
          "yaxis": {
           "automargin": true,
           "gridcolor": "white",
           "linecolor": "white",
           "ticks": "",
           "title": {
            "standoff": 15
           },
           "zerolinecolor": "white",
           "zerolinewidth": 2
          }
         }
        },
        "title": {
         "text": "Kiểm tra bài toán phân lớp bằng thuộc tính FertilityRate và Yearly%Change",
         "x": 0.45,
         "xanchor": "center",
         "y": 0.95,
         "yanchor": "top"
        },
        "xaxis": {
         "anchor": "y",
         "domain": [
          0,
          1
         ],
         "title": {
          "text": "Yearly%Change"
         }
        },
        "yaxis": {
         "anchor": "x",
         "domain": [
          0,
          1
         ],
         "title": {
          "text": "FertilityRate"
         }
        }
       }
      }
     },
     "metadata": {},
     "output_type": "display_data"
    }
   ],
   "source": [
    "fig=px.scatter(dict_, x=\"Yearly%Change\", y=\"FertilityRate\",\n",
    "        color=\"predict\", hover_data=['Country'], color_continuous_scale=['green','orange', 'purple'],trendline='ols')\n",
    "\n",
    "# fig.add_traces(go.Scatter(x=x_range, y=y_range, name='Regression Fit'))\n",
    "fig.update_layout(\n",
    "    title={\n",
    "        'text': \"Kiểm tra bài toán phân lớp bằng thuộc tính FertilityRate và Yearly%Change\",\n",
    "        'y':0.95,\n",
    "        'x':0.45,\n",
    "        'xanchor': 'center',\n",
    "        'yanchor': 'top'})\n",
    "fig.show()"
   ]
  },
  {
   "attachments": {},
   "cell_type": "markdown",
   "metadata": {},
   "source": [
    "**Đánh giá**: Có vẻ như tỉ lệ sinh và số lượng dân số không thay đổi không quyết định nhiều lắm về chất lượng quốc gia đáng sống."
   ]
  },
  {
   "attachments": {},
   "cell_type": "markdown",
   "metadata": {},
   "source": [
    "## **BÀI TOÁN DỰ ĐOÁN DÂN SỐ TƯƠNG LAI, HỒI QUY TUYẾN TÍNH.**\n",
    "\n",
    "Hồi quy tuyến tính là một phương pháp rất đơn giản nhưng đã được chứng minh được tính hữu ích cho một số lượng lớn các tình huống, là một phương pháp thống kê để hồi quy dữ liệu với biến phụ thuộc có giá trị liên tục trong khi các biến độc lập có thể có một trong hai giá trị liên tục hoặc là giá trị phân loại. Trong bài toán dân số này, biến độc lập chính là năm (Year) và biến phụ thuộc chính là dân số (Population)\n",
    "\n",
    "Ở bài này ta sẽ sử dụng mô hình Hồi quy tuyến tính (Linear Regression) và Hồi quy đa thức (Polynomial Regression) bậc 2. Trong đó Hồi quy tuyến tính có thể xem là Hồi quy đa thức bậc 1."
   ]
  },
  {
   "attachments": {},
   "cell_type": "markdown",
   "metadata": {},
   "source": [
    "### Xây dựng hàm"
   ]
  },
  {
   "attachments": {},
   "cell_type": "markdown",
   "metadata": {},
   "source": [
    "Nói chung là khá đơn giản, vì thư viện sklearn đã có sẵn model LinearRegression. Ta chỉ cần dùng thêm hàm PolynomialFeatures để đa thức hoá dữ liệu đầu vào và xây dựng hàm mất mát cho bài toán **pred_error**."
   ]
  },
  {
   "cell_type": "code",
   "execution_count": 21,
   "metadata": {},
   "outputs": [],
   "source": [
    "import numpy as np\n",
    "import math \n",
    "from sklearn.linear_model import LinearRegression\n",
    "from sklearn.preprocessing import PolynomialFeatures\n",
    "from sklearn.metrics import mean_squared_error\n",
    "def linear_regression_1(x,y,x_for_pred) :\n",
    "    x=np.array(x).reshape((-1, 1))\n",
    "    y=np.array(y)\n",
    "    x_for_pred=np.array(x_for_pred).reshape((-1, 1))\n",
    "    model = LinearRegression().fit(x, y)\n",
    "    y_pred = model.predict(x_for_pred)\n",
    "\n",
    "    y_pre_pred = model.predict(x)\n",
    "    pred_error=math.sqrt(mean_squared_error(y,y_pre_pred))/math.sqrt((max(y_pre_pred)-min(y_pre_pred))**2 +(max(x)-min(x))**2)\n",
    "    return y_pred, y_pre_pred, pred_error\n",
    "def linear_regression_2(x,y,x_for_pred) :\n",
    "    x=np.array(x)\n",
    "    x_=PolynomialFeatures(degree=2, include_bias=False).fit_transform(x.reshape((-1, 1)))\n",
    "    y=np.array(y)\n",
    "    x_for_pred=np.array(x_for_pred).reshape((-1, 1))\n",
    "    x_for_pred=PolynomialFeatures(degree=2, include_bias=False).fit_transform(x_for_pred)\n",
    "    \n",
    "    model = LinearRegression().fit(x_, y)\n",
    "    \n",
    "    y_pred = model.predict( x_for_pred)\n",
    "    y_pre_pred = model.predict(x_)\n",
    "    pred_error=math.sqrt(mean_squared_error(y,y_pre_pred))/math.sqrt((max(y_pre_pred)-min(y_pre_pred))**2 +(max(x)-min(x))**2)\n",
    "    return y_pred, y_pre_pred, pred_error\n",
    "\n",
    "\n"
   ]
  },
  {
   "attachments": {},
   "cell_type": "markdown",
   "metadata": {},
   "source": [
    "Ta sẽ tiến hành kiểm tra hàm xây dựng được qua tình hình dân số nước **Afghanistan**."
   ]
  },
  {
   "attachments": {},
   "cell_type": "markdown",
   "metadata": {},
   "source": [
    "**Tuyến tính (Bậc 1)**"
   ]
  },
  {
   "cell_type": "code",
   "execution_count": 22,
   "metadata": {},
   "outputs": [
    {
     "data": {
      "application/vnd.plotly.v1+json": {
       "config": {
        "plotlyServerURL": "https://plot.ly"
       },
       "data": [
        {
         "hovertemplate": "x=%{x}<br>y=%{y}<extra></extra>",
         "legendgroup": "",
         "marker": {
          "color": "#636efa",
          "symbol": "circle"
         },
         "mode": "markers",
         "name": "",
         "orientation": "v",
         "showlegend": false,
         "type": "scatter",
         "x": [
          1955,
          1960,
          1965,
          1970,
          1975,
          1980,
          1985,
          1990,
          1995,
          2000,
          2005,
          2010,
          2015,
          2016,
          2017,
          2018,
          2019,
          2020
         ],
         "xaxis": "x",
         "y": [
          8270991,
          8996973,
          9956320,
          11173642,
          12689160,
          13356511,
          11938208,
          12412308,
          18110657,
          20779953,
          25654277,
          29185507,
          34413603,
          35383032,
          36296113,
          37171921,
          38041754,
          38928346
         ],
         "yaxis": "y"
        },
        {
         "mode": "lines",
         "name": "Regression Fit",
         "type": "scatter",
         "x": [
          1955,
          1960,
          1965,
          1970,
          1975,
          1980,
          1985,
          1990,
          1995,
          2000,
          2005,
          2010,
          2015,
          2016,
          2017,
          2018,
          2019,
          2020
         ],
         "y": [
          2795575.5051515102,
          5295142.2917279005,
          7794709.078304291,
          10294275.864880681,
          12793842.651457071,
          15293409.438033462,
          17792976.22460985,
          20292543.011186242,
          22792109.79776275,
          25291676.58433914,
          27791243.370915532,
          30290810.157491922,
          32790376.944068313,
          33290290.301383495,
          33790203.6586988,
          34290117.0160141,
          34790030.3733294,
          35289943.7306447
         ]
        }
       ],
       "layout": {
        "legend": {
         "tracegroupgap": 0
        },
        "margin": {
         "t": 60
        },
        "template": {
         "data": {
          "bar": [
           {
            "error_x": {
             "color": "#2a3f5f"
            },
            "error_y": {
             "color": "#2a3f5f"
            },
            "marker": {
             "line": {
              "color": "#E5ECF6",
              "width": 0.5
             },
             "pattern": {
              "fillmode": "overlay",
              "size": 10,
              "solidity": 0.2
             }
            },
            "type": "bar"
           }
          ],
          "barpolar": [
           {
            "marker": {
             "line": {
              "color": "#E5ECF6",
              "width": 0.5
             },
             "pattern": {
              "fillmode": "overlay",
              "size": 10,
              "solidity": 0.2
             }
            },
            "type": "barpolar"
           }
          ],
          "carpet": [
           {
            "aaxis": {
             "endlinecolor": "#2a3f5f",
             "gridcolor": "white",
             "linecolor": "white",
             "minorgridcolor": "white",
             "startlinecolor": "#2a3f5f"
            },
            "baxis": {
             "endlinecolor": "#2a3f5f",
             "gridcolor": "white",
             "linecolor": "white",
             "minorgridcolor": "white",
             "startlinecolor": "#2a3f5f"
            },
            "type": "carpet"
           }
          ],
          "choropleth": [
           {
            "colorbar": {
             "outlinewidth": 0,
             "ticks": ""
            },
            "type": "choropleth"
           }
          ],
          "contour": [
           {
            "colorbar": {
             "outlinewidth": 0,
             "ticks": ""
            },
            "colorscale": [
             [
              0,
              "#0d0887"
             ],
             [
              0.1111111111111111,
              "#46039f"
             ],
             [
              0.2222222222222222,
              "#7201a8"
             ],
             [
              0.3333333333333333,
              "#9c179e"
             ],
             [
              0.4444444444444444,
              "#bd3786"
             ],
             [
              0.5555555555555556,
              "#d8576b"
             ],
             [
              0.6666666666666666,
              "#ed7953"
             ],
             [
              0.7777777777777778,
              "#fb9f3a"
             ],
             [
              0.8888888888888888,
              "#fdca26"
             ],
             [
              1,
              "#f0f921"
             ]
            ],
            "type": "contour"
           }
          ],
          "contourcarpet": [
           {
            "colorbar": {
             "outlinewidth": 0,
             "ticks": ""
            },
            "type": "contourcarpet"
           }
          ],
          "heatmap": [
           {
            "colorbar": {
             "outlinewidth": 0,
             "ticks": ""
            },
            "colorscale": [
             [
              0,
              "#0d0887"
             ],
             [
              0.1111111111111111,
              "#46039f"
             ],
             [
              0.2222222222222222,
              "#7201a8"
             ],
             [
              0.3333333333333333,
              "#9c179e"
             ],
             [
              0.4444444444444444,
              "#bd3786"
             ],
             [
              0.5555555555555556,
              "#d8576b"
             ],
             [
              0.6666666666666666,
              "#ed7953"
             ],
             [
              0.7777777777777778,
              "#fb9f3a"
             ],
             [
              0.8888888888888888,
              "#fdca26"
             ],
             [
              1,
              "#f0f921"
             ]
            ],
            "type": "heatmap"
           }
          ],
          "heatmapgl": [
           {
            "colorbar": {
             "outlinewidth": 0,
             "ticks": ""
            },
            "colorscale": [
             [
              0,
              "#0d0887"
             ],
             [
              0.1111111111111111,
              "#46039f"
             ],
             [
              0.2222222222222222,
              "#7201a8"
             ],
             [
              0.3333333333333333,
              "#9c179e"
             ],
             [
              0.4444444444444444,
              "#bd3786"
             ],
             [
              0.5555555555555556,
              "#d8576b"
             ],
             [
              0.6666666666666666,
              "#ed7953"
             ],
             [
              0.7777777777777778,
              "#fb9f3a"
             ],
             [
              0.8888888888888888,
              "#fdca26"
             ],
             [
              1,
              "#f0f921"
             ]
            ],
            "type": "heatmapgl"
           }
          ],
          "histogram": [
           {
            "marker": {
             "pattern": {
              "fillmode": "overlay",
              "size": 10,
              "solidity": 0.2
             }
            },
            "type": "histogram"
           }
          ],
          "histogram2d": [
           {
            "colorbar": {
             "outlinewidth": 0,
             "ticks": ""
            },
            "colorscale": [
             [
              0,
              "#0d0887"
             ],
             [
              0.1111111111111111,
              "#46039f"
             ],
             [
              0.2222222222222222,
              "#7201a8"
             ],
             [
              0.3333333333333333,
              "#9c179e"
             ],
             [
              0.4444444444444444,
              "#bd3786"
             ],
             [
              0.5555555555555556,
              "#d8576b"
             ],
             [
              0.6666666666666666,
              "#ed7953"
             ],
             [
              0.7777777777777778,
              "#fb9f3a"
             ],
             [
              0.8888888888888888,
              "#fdca26"
             ],
             [
              1,
              "#f0f921"
             ]
            ],
            "type": "histogram2d"
           }
          ],
          "histogram2dcontour": [
           {
            "colorbar": {
             "outlinewidth": 0,
             "ticks": ""
            },
            "colorscale": [
             [
              0,
              "#0d0887"
             ],
             [
              0.1111111111111111,
              "#46039f"
             ],
             [
              0.2222222222222222,
              "#7201a8"
             ],
             [
              0.3333333333333333,
              "#9c179e"
             ],
             [
              0.4444444444444444,
              "#bd3786"
             ],
             [
              0.5555555555555556,
              "#d8576b"
             ],
             [
              0.6666666666666666,
              "#ed7953"
             ],
             [
              0.7777777777777778,
              "#fb9f3a"
             ],
             [
              0.8888888888888888,
              "#fdca26"
             ],
             [
              1,
              "#f0f921"
             ]
            ],
            "type": "histogram2dcontour"
           }
          ],
          "mesh3d": [
           {
            "colorbar": {
             "outlinewidth": 0,
             "ticks": ""
            },
            "type": "mesh3d"
           }
          ],
          "parcoords": [
           {
            "line": {
             "colorbar": {
              "outlinewidth": 0,
              "ticks": ""
             }
            },
            "type": "parcoords"
           }
          ],
          "pie": [
           {
            "automargin": true,
            "type": "pie"
           }
          ],
          "scatter": [
           {
            "fillpattern": {
             "fillmode": "overlay",
             "size": 10,
             "solidity": 0.2
            },
            "type": "scatter"
           }
          ],
          "scatter3d": [
           {
            "line": {
             "colorbar": {
              "outlinewidth": 0,
              "ticks": ""
             }
            },
            "marker": {
             "colorbar": {
              "outlinewidth": 0,
              "ticks": ""
             }
            },
            "type": "scatter3d"
           }
          ],
          "scattercarpet": [
           {
            "marker": {
             "colorbar": {
              "outlinewidth": 0,
              "ticks": ""
             }
            },
            "type": "scattercarpet"
           }
          ],
          "scattergeo": [
           {
            "marker": {
             "colorbar": {
              "outlinewidth": 0,
              "ticks": ""
             }
            },
            "type": "scattergeo"
           }
          ],
          "scattergl": [
           {
            "marker": {
             "colorbar": {
              "outlinewidth": 0,
              "ticks": ""
             }
            },
            "type": "scattergl"
           }
          ],
          "scattermapbox": [
           {
            "marker": {
             "colorbar": {
              "outlinewidth": 0,
              "ticks": ""
             }
            },
            "type": "scattermapbox"
           }
          ],
          "scatterpolar": [
           {
            "marker": {
             "colorbar": {
              "outlinewidth": 0,
              "ticks": ""
             }
            },
            "type": "scatterpolar"
           }
          ],
          "scatterpolargl": [
           {
            "marker": {
             "colorbar": {
              "outlinewidth": 0,
              "ticks": ""
             }
            },
            "type": "scatterpolargl"
           }
          ],
          "scatterternary": [
           {
            "marker": {
             "colorbar": {
              "outlinewidth": 0,
              "ticks": ""
             }
            },
            "type": "scatterternary"
           }
          ],
          "surface": [
           {
            "colorbar": {
             "outlinewidth": 0,
             "ticks": ""
            },
            "colorscale": [
             [
              0,
              "#0d0887"
             ],
             [
              0.1111111111111111,
              "#46039f"
             ],
             [
              0.2222222222222222,
              "#7201a8"
             ],
             [
              0.3333333333333333,
              "#9c179e"
             ],
             [
              0.4444444444444444,
              "#bd3786"
             ],
             [
              0.5555555555555556,
              "#d8576b"
             ],
             [
              0.6666666666666666,
              "#ed7953"
             ],
             [
              0.7777777777777778,
              "#fb9f3a"
             ],
             [
              0.8888888888888888,
              "#fdca26"
             ],
             [
              1,
              "#f0f921"
             ]
            ],
            "type": "surface"
           }
          ],
          "table": [
           {
            "cells": {
             "fill": {
              "color": "#EBF0F8"
             },
             "line": {
              "color": "white"
             }
            },
            "header": {
             "fill": {
              "color": "#C8D4E3"
             },
             "line": {
              "color": "white"
             }
            },
            "type": "table"
           }
          ]
         },
         "layout": {
          "annotationdefaults": {
           "arrowcolor": "#2a3f5f",
           "arrowhead": 0,
           "arrowwidth": 1
          },
          "autotypenumbers": "strict",
          "coloraxis": {
           "colorbar": {
            "outlinewidth": 0,
            "ticks": ""
           }
          },
          "colorscale": {
           "diverging": [
            [
             0,
             "#8e0152"
            ],
            [
             0.1,
             "#c51b7d"
            ],
            [
             0.2,
             "#de77ae"
            ],
            [
             0.3,
             "#f1b6da"
            ],
            [
             0.4,
             "#fde0ef"
            ],
            [
             0.5,
             "#f7f7f7"
            ],
            [
             0.6,
             "#e6f5d0"
            ],
            [
             0.7,
             "#b8e186"
            ],
            [
             0.8,
             "#7fbc41"
            ],
            [
             0.9,
             "#4d9221"
            ],
            [
             1,
             "#276419"
            ]
           ],
           "sequential": [
            [
             0,
             "#0d0887"
            ],
            [
             0.1111111111111111,
             "#46039f"
            ],
            [
             0.2222222222222222,
             "#7201a8"
            ],
            [
             0.3333333333333333,
             "#9c179e"
            ],
            [
             0.4444444444444444,
             "#bd3786"
            ],
            [
             0.5555555555555556,
             "#d8576b"
            ],
            [
             0.6666666666666666,
             "#ed7953"
            ],
            [
             0.7777777777777778,
             "#fb9f3a"
            ],
            [
             0.8888888888888888,
             "#fdca26"
            ],
            [
             1,
             "#f0f921"
            ]
           ],
           "sequentialminus": [
            [
             0,
             "#0d0887"
            ],
            [
             0.1111111111111111,
             "#46039f"
            ],
            [
             0.2222222222222222,
             "#7201a8"
            ],
            [
             0.3333333333333333,
             "#9c179e"
            ],
            [
             0.4444444444444444,
             "#bd3786"
            ],
            [
             0.5555555555555556,
             "#d8576b"
            ],
            [
             0.6666666666666666,
             "#ed7953"
            ],
            [
             0.7777777777777778,
             "#fb9f3a"
            ],
            [
             0.8888888888888888,
             "#fdca26"
            ],
            [
             1,
             "#f0f921"
            ]
           ]
          },
          "colorway": [
           "#636efa",
           "#EF553B",
           "#00cc96",
           "#ab63fa",
           "#FFA15A",
           "#19d3f3",
           "#FF6692",
           "#B6E880",
           "#FF97FF",
           "#FECB52"
          ],
          "font": {
           "color": "#2a3f5f"
          },
          "geo": {
           "bgcolor": "white",
           "lakecolor": "white",
           "landcolor": "#E5ECF6",
           "showlakes": true,
           "showland": true,
           "subunitcolor": "white"
          },
          "hoverlabel": {
           "align": "left"
          },
          "hovermode": "closest",
          "mapbox": {
           "style": "light"
          },
          "paper_bgcolor": "white",
          "plot_bgcolor": "#E5ECF6",
          "polar": {
           "angularaxis": {
            "gridcolor": "white",
            "linecolor": "white",
            "ticks": ""
           },
           "bgcolor": "#E5ECF6",
           "radialaxis": {
            "gridcolor": "white",
            "linecolor": "white",
            "ticks": ""
           }
          },
          "scene": {
           "xaxis": {
            "backgroundcolor": "#E5ECF6",
            "gridcolor": "white",
            "gridwidth": 2,
            "linecolor": "white",
            "showbackground": true,
            "ticks": "",
            "zerolinecolor": "white"
           },
           "yaxis": {
            "backgroundcolor": "#E5ECF6",
            "gridcolor": "white",
            "gridwidth": 2,
            "linecolor": "white",
            "showbackground": true,
            "ticks": "",
            "zerolinecolor": "white"
           },
           "zaxis": {
            "backgroundcolor": "#E5ECF6",
            "gridcolor": "white",
            "gridwidth": 2,
            "linecolor": "white",
            "showbackground": true,
            "ticks": "",
            "zerolinecolor": "white"
           }
          },
          "shapedefaults": {
           "line": {
            "color": "#2a3f5f"
           }
          },
          "ternary": {
           "aaxis": {
            "gridcolor": "white",
            "linecolor": "white",
            "ticks": ""
           },
           "baxis": {
            "gridcolor": "white",
            "linecolor": "white",
            "ticks": ""
           },
           "bgcolor": "#E5ECF6",
           "caxis": {
            "gridcolor": "white",
            "linecolor": "white",
            "ticks": ""
           }
          },
          "title": {
           "x": 0.05
          },
          "xaxis": {
           "automargin": true,
           "gridcolor": "white",
           "linecolor": "white",
           "ticks": "",
           "title": {
            "standoff": 15
           },
           "zerolinecolor": "white",
           "zerolinewidth": 2
          },
          "yaxis": {
           "automargin": true,
           "gridcolor": "white",
           "linecolor": "white",
           "ticks": "",
           "title": {
            "standoff": 15
           },
           "zerolinecolor": "white",
           "zerolinewidth": 2
          }
         }
        },
        "title": {
         "text": "Kiểm tra bài toán Hồi quy đa thức bậc 1 số lượng dân số của Afghanistanc",
         "x": 0.45,
         "xanchor": "center",
         "y": 0.95,
         "yanchor": "top"
        },
        "xaxis": {
         "anchor": "y",
         "domain": [
          0,
          1
         ],
         "title": {
          "text": "Year"
         }
        },
        "yaxis": {
         "anchor": "x",
         "domain": [
          0,
          1
         ],
         "title": {
          "text": "Population"
         }
        }
       }
      }
     },
     "metadata": {},
     "output_type": "display_data"
    }
   ],
   "source": [
    "y_pred, y_pre_pred, pred_error = linear_regression_1(df['Year'].unique(),df[df['Country']=='Afghanistan']['Population'],[2022,2025,2030,2035,2040,2050])\n",
    "pop=np.array(df['Year'].unique())\n",
    "china=df[df['Country']=='Afghanistan']['Population']\n",
    "\n",
    "fig=px.scatter(x=pop, y=china) \n",
    "fig.add_traces(go.Scatter(x=pop, y= y_pre_pred, mode='lines', name='Regression Fit'))\n",
    "fig.update_layout(\n",
    "    xaxis_title=\"Year\",\n",
    "    yaxis_title=\"Population\",\n",
    "    title={\n",
    "        'text': \"Kiểm tra bài toán Hồi quy đa thức bậc 1 số lượng dân số của Afghanistanc\",\n",
    "        'x' : 'Year',\n",
    "        'y':0.95,\n",
    "        'x':0.45,\n",
    "        'xanchor': 'center',\n",
    "        'yanchor': 'top'})\n",
    "fig.show()"
   ]
  },
  {
   "attachments": {},
   "cell_type": "markdown",
   "metadata": {},
   "source": [
    "**Đa thức bậc 2**"
   ]
  },
  {
   "cell_type": "code",
   "execution_count": 23,
   "metadata": {},
   "outputs": [
    {
     "data": {
      "application/vnd.plotly.v1+json": {
       "config": {
        "plotlyServerURL": "https://plot.ly"
       },
       "data": [
        {
         "hovertemplate": "x=%{x}<br>y=%{y}<extra></extra>",
         "legendgroup": "",
         "marker": {
          "color": "#636efa",
          "symbol": "circle"
         },
         "mode": "markers",
         "name": "",
         "orientation": "v",
         "showlegend": false,
         "type": "scatter",
         "x": [
          1955,
          1960,
          1965,
          1970,
          1975,
          1980,
          1985,
          1990,
          1995,
          2000,
          2005,
          2010,
          2015,
          2016,
          2017,
          2018,
          2019,
          2020
         ],
         "xaxis": "x",
         "y": [
          8270991,
          8996973,
          9956320,
          11173642,
          12689160,
          13356511,
          11938208,
          12412308,
          18110657,
          20779953,
          25654277,
          29185507,
          34413603,
          35383032,
          36296113,
          37171921,
          38041754,
          38928346
         ],
         "yaxis": "y"
        },
        {
         "mode": "lines",
         "name": "Regression Fit",
         "type": "scatter",
         "x": [
          1955,
          1960,
          1965,
          1970,
          1975,
          1980,
          1985,
          1990,
          1995,
          2000,
          2005,
          2010,
          2015,
          2016,
          2017,
          2018,
          2019,
          2020
         ],
         "y": [
          10003901.520584106,
          9375588.983215332,
          9224994.549583435,
          9552118.219703674,
          10356959.993560791,
          11639519.871162415,
          13399797.852508545,
          15637793.937591553,
          18353508.126419067,
          21546940.41899872,
          25218090.815307617,
          29366959.315368652,
          33993545.919166565,
          34976189.412376404,
          35977941.629730225,
          36998802.571243286,
          38038772.23690796,
          39097850.626708984
         ]
        }
       ],
       "layout": {
        "legend": {
         "tracegroupgap": 0
        },
        "margin": {
         "t": 60
        },
        "template": {
         "data": {
          "bar": [
           {
            "error_x": {
             "color": "#2a3f5f"
            },
            "error_y": {
             "color": "#2a3f5f"
            },
            "marker": {
             "line": {
              "color": "#E5ECF6",
              "width": 0.5
             },
             "pattern": {
              "fillmode": "overlay",
              "size": 10,
              "solidity": 0.2
             }
            },
            "type": "bar"
           }
          ],
          "barpolar": [
           {
            "marker": {
             "line": {
              "color": "#E5ECF6",
              "width": 0.5
             },
             "pattern": {
              "fillmode": "overlay",
              "size": 10,
              "solidity": 0.2
             }
            },
            "type": "barpolar"
           }
          ],
          "carpet": [
           {
            "aaxis": {
             "endlinecolor": "#2a3f5f",
             "gridcolor": "white",
             "linecolor": "white",
             "minorgridcolor": "white",
             "startlinecolor": "#2a3f5f"
            },
            "baxis": {
             "endlinecolor": "#2a3f5f",
             "gridcolor": "white",
             "linecolor": "white",
             "minorgridcolor": "white",
             "startlinecolor": "#2a3f5f"
            },
            "type": "carpet"
           }
          ],
          "choropleth": [
           {
            "colorbar": {
             "outlinewidth": 0,
             "ticks": ""
            },
            "type": "choropleth"
           }
          ],
          "contour": [
           {
            "colorbar": {
             "outlinewidth": 0,
             "ticks": ""
            },
            "colorscale": [
             [
              0,
              "#0d0887"
             ],
             [
              0.1111111111111111,
              "#46039f"
             ],
             [
              0.2222222222222222,
              "#7201a8"
             ],
             [
              0.3333333333333333,
              "#9c179e"
             ],
             [
              0.4444444444444444,
              "#bd3786"
             ],
             [
              0.5555555555555556,
              "#d8576b"
             ],
             [
              0.6666666666666666,
              "#ed7953"
             ],
             [
              0.7777777777777778,
              "#fb9f3a"
             ],
             [
              0.8888888888888888,
              "#fdca26"
             ],
             [
              1,
              "#f0f921"
             ]
            ],
            "type": "contour"
           }
          ],
          "contourcarpet": [
           {
            "colorbar": {
             "outlinewidth": 0,
             "ticks": ""
            },
            "type": "contourcarpet"
           }
          ],
          "heatmap": [
           {
            "colorbar": {
             "outlinewidth": 0,
             "ticks": ""
            },
            "colorscale": [
             [
              0,
              "#0d0887"
             ],
             [
              0.1111111111111111,
              "#46039f"
             ],
             [
              0.2222222222222222,
              "#7201a8"
             ],
             [
              0.3333333333333333,
              "#9c179e"
             ],
             [
              0.4444444444444444,
              "#bd3786"
             ],
             [
              0.5555555555555556,
              "#d8576b"
             ],
             [
              0.6666666666666666,
              "#ed7953"
             ],
             [
              0.7777777777777778,
              "#fb9f3a"
             ],
             [
              0.8888888888888888,
              "#fdca26"
             ],
             [
              1,
              "#f0f921"
             ]
            ],
            "type": "heatmap"
           }
          ],
          "heatmapgl": [
           {
            "colorbar": {
             "outlinewidth": 0,
             "ticks": ""
            },
            "colorscale": [
             [
              0,
              "#0d0887"
             ],
             [
              0.1111111111111111,
              "#46039f"
             ],
             [
              0.2222222222222222,
              "#7201a8"
             ],
             [
              0.3333333333333333,
              "#9c179e"
             ],
             [
              0.4444444444444444,
              "#bd3786"
             ],
             [
              0.5555555555555556,
              "#d8576b"
             ],
             [
              0.6666666666666666,
              "#ed7953"
             ],
             [
              0.7777777777777778,
              "#fb9f3a"
             ],
             [
              0.8888888888888888,
              "#fdca26"
             ],
             [
              1,
              "#f0f921"
             ]
            ],
            "type": "heatmapgl"
           }
          ],
          "histogram": [
           {
            "marker": {
             "pattern": {
              "fillmode": "overlay",
              "size": 10,
              "solidity": 0.2
             }
            },
            "type": "histogram"
           }
          ],
          "histogram2d": [
           {
            "colorbar": {
             "outlinewidth": 0,
             "ticks": ""
            },
            "colorscale": [
             [
              0,
              "#0d0887"
             ],
             [
              0.1111111111111111,
              "#46039f"
             ],
             [
              0.2222222222222222,
              "#7201a8"
             ],
             [
              0.3333333333333333,
              "#9c179e"
             ],
             [
              0.4444444444444444,
              "#bd3786"
             ],
             [
              0.5555555555555556,
              "#d8576b"
             ],
             [
              0.6666666666666666,
              "#ed7953"
             ],
             [
              0.7777777777777778,
              "#fb9f3a"
             ],
             [
              0.8888888888888888,
              "#fdca26"
             ],
             [
              1,
              "#f0f921"
             ]
            ],
            "type": "histogram2d"
           }
          ],
          "histogram2dcontour": [
           {
            "colorbar": {
             "outlinewidth": 0,
             "ticks": ""
            },
            "colorscale": [
             [
              0,
              "#0d0887"
             ],
             [
              0.1111111111111111,
              "#46039f"
             ],
             [
              0.2222222222222222,
              "#7201a8"
             ],
             [
              0.3333333333333333,
              "#9c179e"
             ],
             [
              0.4444444444444444,
              "#bd3786"
             ],
             [
              0.5555555555555556,
              "#d8576b"
             ],
             [
              0.6666666666666666,
              "#ed7953"
             ],
             [
              0.7777777777777778,
              "#fb9f3a"
             ],
             [
              0.8888888888888888,
              "#fdca26"
             ],
             [
              1,
              "#f0f921"
             ]
            ],
            "type": "histogram2dcontour"
           }
          ],
          "mesh3d": [
           {
            "colorbar": {
             "outlinewidth": 0,
             "ticks": ""
            },
            "type": "mesh3d"
           }
          ],
          "parcoords": [
           {
            "line": {
             "colorbar": {
              "outlinewidth": 0,
              "ticks": ""
             }
            },
            "type": "parcoords"
           }
          ],
          "pie": [
           {
            "automargin": true,
            "type": "pie"
           }
          ],
          "scatter": [
           {
            "fillpattern": {
             "fillmode": "overlay",
             "size": 10,
             "solidity": 0.2
            },
            "type": "scatter"
           }
          ],
          "scatter3d": [
           {
            "line": {
             "colorbar": {
              "outlinewidth": 0,
              "ticks": ""
             }
            },
            "marker": {
             "colorbar": {
              "outlinewidth": 0,
              "ticks": ""
             }
            },
            "type": "scatter3d"
           }
          ],
          "scattercarpet": [
           {
            "marker": {
             "colorbar": {
              "outlinewidth": 0,
              "ticks": ""
             }
            },
            "type": "scattercarpet"
           }
          ],
          "scattergeo": [
           {
            "marker": {
             "colorbar": {
              "outlinewidth": 0,
              "ticks": ""
             }
            },
            "type": "scattergeo"
           }
          ],
          "scattergl": [
           {
            "marker": {
             "colorbar": {
              "outlinewidth": 0,
              "ticks": ""
             }
            },
            "type": "scattergl"
           }
          ],
          "scattermapbox": [
           {
            "marker": {
             "colorbar": {
              "outlinewidth": 0,
              "ticks": ""
             }
            },
            "type": "scattermapbox"
           }
          ],
          "scatterpolar": [
           {
            "marker": {
             "colorbar": {
              "outlinewidth": 0,
              "ticks": ""
             }
            },
            "type": "scatterpolar"
           }
          ],
          "scatterpolargl": [
           {
            "marker": {
             "colorbar": {
              "outlinewidth": 0,
              "ticks": ""
             }
            },
            "type": "scatterpolargl"
           }
          ],
          "scatterternary": [
           {
            "marker": {
             "colorbar": {
              "outlinewidth": 0,
              "ticks": ""
             }
            },
            "type": "scatterternary"
           }
          ],
          "surface": [
           {
            "colorbar": {
             "outlinewidth": 0,
             "ticks": ""
            },
            "colorscale": [
             [
              0,
              "#0d0887"
             ],
             [
              0.1111111111111111,
              "#46039f"
             ],
             [
              0.2222222222222222,
              "#7201a8"
             ],
             [
              0.3333333333333333,
              "#9c179e"
             ],
             [
              0.4444444444444444,
              "#bd3786"
             ],
             [
              0.5555555555555556,
              "#d8576b"
             ],
             [
              0.6666666666666666,
              "#ed7953"
             ],
             [
              0.7777777777777778,
              "#fb9f3a"
             ],
             [
              0.8888888888888888,
              "#fdca26"
             ],
             [
              1,
              "#f0f921"
             ]
            ],
            "type": "surface"
           }
          ],
          "table": [
           {
            "cells": {
             "fill": {
              "color": "#EBF0F8"
             },
             "line": {
              "color": "white"
             }
            },
            "header": {
             "fill": {
              "color": "#C8D4E3"
             },
             "line": {
              "color": "white"
             }
            },
            "type": "table"
           }
          ]
         },
         "layout": {
          "annotationdefaults": {
           "arrowcolor": "#2a3f5f",
           "arrowhead": 0,
           "arrowwidth": 1
          },
          "autotypenumbers": "strict",
          "coloraxis": {
           "colorbar": {
            "outlinewidth": 0,
            "ticks": ""
           }
          },
          "colorscale": {
           "diverging": [
            [
             0,
             "#8e0152"
            ],
            [
             0.1,
             "#c51b7d"
            ],
            [
             0.2,
             "#de77ae"
            ],
            [
             0.3,
             "#f1b6da"
            ],
            [
             0.4,
             "#fde0ef"
            ],
            [
             0.5,
             "#f7f7f7"
            ],
            [
             0.6,
             "#e6f5d0"
            ],
            [
             0.7,
             "#b8e186"
            ],
            [
             0.8,
             "#7fbc41"
            ],
            [
             0.9,
             "#4d9221"
            ],
            [
             1,
             "#276419"
            ]
           ],
           "sequential": [
            [
             0,
             "#0d0887"
            ],
            [
             0.1111111111111111,
             "#46039f"
            ],
            [
             0.2222222222222222,
             "#7201a8"
            ],
            [
             0.3333333333333333,
             "#9c179e"
            ],
            [
             0.4444444444444444,
             "#bd3786"
            ],
            [
             0.5555555555555556,
             "#d8576b"
            ],
            [
             0.6666666666666666,
             "#ed7953"
            ],
            [
             0.7777777777777778,
             "#fb9f3a"
            ],
            [
             0.8888888888888888,
             "#fdca26"
            ],
            [
             1,
             "#f0f921"
            ]
           ],
           "sequentialminus": [
            [
             0,
             "#0d0887"
            ],
            [
             0.1111111111111111,
             "#46039f"
            ],
            [
             0.2222222222222222,
             "#7201a8"
            ],
            [
             0.3333333333333333,
             "#9c179e"
            ],
            [
             0.4444444444444444,
             "#bd3786"
            ],
            [
             0.5555555555555556,
             "#d8576b"
            ],
            [
             0.6666666666666666,
             "#ed7953"
            ],
            [
             0.7777777777777778,
             "#fb9f3a"
            ],
            [
             0.8888888888888888,
             "#fdca26"
            ],
            [
             1,
             "#f0f921"
            ]
           ]
          },
          "colorway": [
           "#636efa",
           "#EF553B",
           "#00cc96",
           "#ab63fa",
           "#FFA15A",
           "#19d3f3",
           "#FF6692",
           "#B6E880",
           "#FF97FF",
           "#FECB52"
          ],
          "font": {
           "color": "#2a3f5f"
          },
          "geo": {
           "bgcolor": "white",
           "lakecolor": "white",
           "landcolor": "#E5ECF6",
           "showlakes": true,
           "showland": true,
           "subunitcolor": "white"
          },
          "hoverlabel": {
           "align": "left"
          },
          "hovermode": "closest",
          "mapbox": {
           "style": "light"
          },
          "paper_bgcolor": "white",
          "plot_bgcolor": "#E5ECF6",
          "polar": {
           "angularaxis": {
            "gridcolor": "white",
            "linecolor": "white",
            "ticks": ""
           },
           "bgcolor": "#E5ECF6",
           "radialaxis": {
            "gridcolor": "white",
            "linecolor": "white",
            "ticks": ""
           }
          },
          "scene": {
           "xaxis": {
            "backgroundcolor": "#E5ECF6",
            "gridcolor": "white",
            "gridwidth": 2,
            "linecolor": "white",
            "showbackground": true,
            "ticks": "",
            "zerolinecolor": "white"
           },
           "yaxis": {
            "backgroundcolor": "#E5ECF6",
            "gridcolor": "white",
            "gridwidth": 2,
            "linecolor": "white",
            "showbackground": true,
            "ticks": "",
            "zerolinecolor": "white"
           },
           "zaxis": {
            "backgroundcolor": "#E5ECF6",
            "gridcolor": "white",
            "gridwidth": 2,
            "linecolor": "white",
            "showbackground": true,
            "ticks": "",
            "zerolinecolor": "white"
           }
          },
          "shapedefaults": {
           "line": {
            "color": "#2a3f5f"
           }
          },
          "ternary": {
           "aaxis": {
            "gridcolor": "white",
            "linecolor": "white",
            "ticks": ""
           },
           "baxis": {
            "gridcolor": "white",
            "linecolor": "white",
            "ticks": ""
           },
           "bgcolor": "#E5ECF6",
           "caxis": {
            "gridcolor": "white",
            "linecolor": "white",
            "ticks": ""
           }
          },
          "title": {
           "x": 0.05
          },
          "xaxis": {
           "automargin": true,
           "gridcolor": "white",
           "linecolor": "white",
           "ticks": "",
           "title": {
            "standoff": 15
           },
           "zerolinecolor": "white",
           "zerolinewidth": 2
          },
          "yaxis": {
           "automargin": true,
           "gridcolor": "white",
           "linecolor": "white",
           "ticks": "",
           "title": {
            "standoff": 15
           },
           "zerolinecolor": "white",
           "zerolinewidth": 2
          }
         }
        },
        "title": {
         "text": "Kiểm tra bài toán Hồi quy đa thức bậc 2 số lượng dân số của Afghanistan",
         "x": 0.45,
         "xanchor": "center",
         "y": 0.95,
         "yanchor": "top"
        },
        "xaxis": {
         "anchor": "y",
         "domain": [
          0,
          1
         ],
         "title": {
          "text": "Year"
         }
        },
        "yaxis": {
         "anchor": "x",
         "domain": [
          0,
          1
         ],
         "title": {
          "text": "Population"
         }
        }
       }
      }
     },
     "metadata": {},
     "output_type": "display_data"
    }
   ],
   "source": [
    "y_pred, y_pre_pred, pred_error = linear_regression_2(df['Year'].unique(),df[df['Country']=='Afghanistan']['Population'],[2025,2030,2035,2040,2050])\n",
    "pop=np.array(df['Year'].unique())\n",
    "china=df[df['Country']=='Afghanistan']['Population']\n",
    "\n",
    "fig=px.scatter(x=pop, y=china) \n",
    "fig.add_traces(go.Scatter(x=pop, y= y_pre_pred, mode='lines', name='Regression Fit'))\n",
    "fig.update_layout(\n",
    "    xaxis_title=\"Year\",\n",
    "    yaxis_title=\"Population\",\n",
    "    title={\n",
    "        'text': \"Kiểm tra bài toán Hồi quy đa thức bậc 2 số lượng dân số của Afghanistan\",\n",
    "        'x' : 'Year',\n",
    "        'y':0.95,\n",
    "        'x':0.45,\n",
    "        'xanchor': 'center',\n",
    "        'yanchor': 'top'})\n",
    "fig.show()"
   ]
  },
  {
   "attachments": {},
   "cell_type": "markdown",
   "metadata": {},
   "source": [
    "Có vẻ như hàm xây dựng đã đúng, ta tiến hành áp dụng mô hình tuyến tính cho tệp dữ liệu của 275 quốc gia. Và sau đó, đưa ra dự đoán dân số vào các năm 2022, 2025, 2030, 2035, 2040, 2050.\n",
    "\n",
    "Sau khi đưa ra dự đoán, ta sẽ dựa vào hàm mất mát xây dựng được để đánh giá mô hình."
   ]
  },
  {
   "cell_type": "code",
   "execution_count": 24,
   "metadata": {},
   "outputs": [],
   "source": [
    "def gen_linear(df,funct,x_for_pred):\n",
    "    x=df['Year'].unique()\n",
    "    for i in df['Country'].unique():\n",
    "    \n",
    "        mean_pred_error=0\n",
    "        pred_error=[]\n",
    "        df_=df[df['Country']==i]\n",
    "        dict_pred={}\n",
    "        dict_pred['Year']=x_for_pred\n",
    "        col_pred=['Population','YearlyChange','Migrants(net)','MedianAge','FertilityRate','UrbanPopulation']\n",
    "        error_linear=0\n",
    "        for col in col_pred : \n",
    "            dict_pred[col], pre_pred, error_linear=funct(x,df_[col],x_for_pred)\n",
    "            pred_error.append(error_linear)\n",
    "        dict_pred['Yearly%Change']=dict_pred['YearlyChange']*100/dict_pred['Population']\n",
    "        dict_pred['UrbanPop%']=dict_pred['UrbanPopulation']*100/dict_pred['Population']\n",
    "        dict_pred['Country']=[i]*len(x_for_pred)\n",
    "        dict_pred['Continent']=list(df_['Continent'].unique())*len(x_for_pred)\n",
    "        mean_pred_error=sum(pred_error)/len(pred_error)\n",
    "        dict_pred['LossFunctCheck']=[mean_pred_error]*len(x_for_pred)\n",
    "        \n",
    "        #Có những nước với dụ đoán GIẢM có nguy cơ diệt vong (0 dân)\n",
    "        dict_pred['Population']=[i if i>0 else 1000 for i in dict_pred.pop('Population')]\n",
    "        dict_pred = [dict(zip(dict_pred,t)) for t in zip(*dict_pred.values())]\n",
    "        for row in dict_pred :\n",
    "            yield row\n",
    "\n",
    "\n",
    "LD1=[i for i in gen_linear(df,linear_regression_1,[2022,2025,2030,2035,2040,2050]) ]\n",
    "LD1=pd.DataFrame(LD1)\n",
    "LD2=[i for i in gen_linear(df,linear_regression_2,[2022,2025,2030,2035,2040,2050]) ]\n",
    "LD2=pd.DataFrame(LD2)"
   ]
  },
  {
   "attachments": {},
   "cell_type": "markdown",
   "metadata": {},
   "source": [
    "### **Trực quan hoá mô hình Hồi quy tuyến tính**\n",
    "\n",
    "Vậy là ta đã có những dữ đoán cho tình hình dân số tương lai, liệu mô hình đã hiệu quã chưa? Ta cùng đánh giá qua hành mất mát."
   ]
  },
  {
   "attachments": {},
   "cell_type": "markdown",
   "metadata": {},
   "source": [
    "**Hồi quy tuyến tính**"
   ]
  },
  {
   "cell_type": "code",
   "execution_count": 25,
   "metadata": {},
   "outputs": [
    {
     "data": {
      "text/html": [
       "<div>\n",
       "<style scoped>\n",
       "    .dataframe tbody tr th:only-of-type {\n",
       "        vertical-align: middle;\n",
       "    }\n",
       "\n",
       "    .dataframe tbody tr th {\n",
       "        vertical-align: top;\n",
       "    }\n",
       "\n",
       "    .dataframe thead th {\n",
       "        text-align: right;\n",
       "    }\n",
       "</style>\n",
       "<table border=\"1\" class=\"dataframe\">\n",
       "  <thead>\n",
       "    <tr style=\"text-align: right;\">\n",
       "      <th></th>\n",
       "      <th>Year</th>\n",
       "      <th>YearlyChange</th>\n",
       "      <th>Migrants(net)</th>\n",
       "      <th>MedianAge</th>\n",
       "      <th>FertilityRate</th>\n",
       "      <th>UrbanPopulation</th>\n",
       "      <th>Yearly%Change</th>\n",
       "      <th>UrbanPop%</th>\n",
       "      <th>Country</th>\n",
       "      <th>Continent</th>\n",
       "      <th>LossFunctCheck</th>\n",
       "      <th>Population</th>\n",
       "    </tr>\n",
       "  </thead>\n",
       "  <tbody>\n",
       "    <tr>\n",
       "      <th>0</th>\n",
       "      <td>2022</td>\n",
       "      <td>9.697865e+05</td>\n",
       "      <td>-46311.662840</td>\n",
       "      <td>16.639918</td>\n",
       "      <td>5.529233</td>\n",
       "      <td>9.065679e+06</td>\n",
       "      <td>2.672341</td>\n",
       "      <td>24.981361</td>\n",
       "      <td>Afghanistan</td>\n",
       "      <td>Asia</td>\n",
       "      <td>1.482467</td>\n",
       "      <td>3.628977e+07</td>\n",
       "    </tr>\n",
       "    <tr>\n",
       "      <th>1</th>\n",
       "      <td>2025</td>\n",
       "      <td>1.015350e+06</td>\n",
       "      <td>-44993.213325</td>\n",
       "      <td>16.582543</td>\n",
       "      <td>5.409869</td>\n",
       "      <td>9.517517e+06</td>\n",
       "      <td>2.686857</td>\n",
       "      <td>25.185605</td>\n",
       "      <td>Afghanistan</td>\n",
       "      <td>Asia</td>\n",
       "      <td>1.482467</td>\n",
       "      <td>3.778951e+07</td>\n",
       "    </tr>\n",
       "    <tr>\n",
       "      <th>2</th>\n",
       "      <td>2030</td>\n",
       "      <td>1.091289e+06</td>\n",
       "      <td>-42795.797468</td>\n",
       "      <td>16.486920</td>\n",
       "      <td>5.210928</td>\n",
       "      <td>1.027058e+07</td>\n",
       "      <td>2.708648</td>\n",
       "      <td>25.492221</td>\n",
       "      <td>Afghanistan</td>\n",
       "      <td>Asia</td>\n",
       "      <td>1.482467</td>\n",
       "      <td>4.028908e+07</td>\n",
       "    </tr>\n",
       "    <tr>\n",
       "      <th>3</th>\n",
       "      <td>2035</td>\n",
       "      <td>1.167229e+06</td>\n",
       "      <td>-40598.381611</td>\n",
       "      <td>16.391296</td>\n",
       "      <td>5.011988</td>\n",
       "      <td>1.102364e+07</td>\n",
       "      <td>2.727894</td>\n",
       "      <td>25.763014</td>\n",
       "      <td>Afghanistan</td>\n",
       "      <td>Asia</td>\n",
       "      <td>1.482467</td>\n",
       "      <td>4.278864e+07</td>\n",
       "    </tr>\n",
       "    <tr>\n",
       "      <th>4</th>\n",
       "      <td>2040</td>\n",
       "      <td>1.243168e+06</td>\n",
       "      <td>-38400.965754</td>\n",
       "      <td>16.295673</td>\n",
       "      <td>4.813048</td>\n",
       "      <td>1.177671e+07</td>\n",
       "      <td>2.745014</td>\n",
       "      <td>26.003915</td>\n",
       "      <td>Afghanistan</td>\n",
       "      <td>Asia</td>\n",
       "      <td>1.482467</td>\n",
       "      <td>4.528821e+07</td>\n",
       "    </tr>\n",
       "    <tr>\n",
       "      <th>...</th>\n",
       "      <td>...</td>\n",
       "      <td>...</td>\n",
       "      <td>...</td>\n",
       "      <td>...</td>\n",
       "      <td>...</td>\n",
       "      <td>...</td>\n",
       "      <td>...</td>\n",
       "      <td>...</td>\n",
       "      <td>...</td>\n",
       "      <td>...</td>\n",
       "      <td>...</td>\n",
       "      <td>...</td>\n",
       "    </tr>\n",
       "    <tr>\n",
       "      <th>1405</th>\n",
       "      <td>2025</td>\n",
       "      <td>2.038575e+05</td>\n",
       "      <td>-134017.823668</td>\n",
       "      <td>18.685330</td>\n",
       "      <td>3.276979</td>\n",
       "      <td>6.055059e+06</td>\n",
       "      <td>1.284438</td>\n",
       "      <td>38.150902</td>\n",
       "      <td>Zimbabwe</td>\n",
       "      <td>Africa</td>\n",
       "      <td>0.278630</td>\n",
       "      <td>1.587134e+07</td>\n",
       "    </tr>\n",
       "    <tr>\n",
       "      <th>1406</th>\n",
       "      <td>2030</td>\n",
       "      <td>2.075294e+05</td>\n",
       "      <td>-145549.966245</td>\n",
       "      <td>18.885654</td>\n",
       "      <td>2.957300</td>\n",
       "      <td>6.500572e+06</td>\n",
       "      <td>1.236126</td>\n",
       "      <td>38.719944</td>\n",
       "      <td>Zimbabwe</td>\n",
       "      <td>Africa</td>\n",
       "      <td>0.278630</td>\n",
       "      <td>1.678869e+07</td>\n",
       "    </tr>\n",
       "    <tr>\n",
       "      <th>1407</th>\n",
       "      <td>2035</td>\n",
       "      <td>2.112013e+05</td>\n",
       "      <td>-157082.108822</td>\n",
       "      <td>19.085978</td>\n",
       "      <td>2.637620</td>\n",
       "      <td>6.946084e+06</td>\n",
       "      <td>1.192821</td>\n",
       "      <td>39.230023</td>\n",
       "      <td>Zimbabwe</td>\n",
       "      <td>Africa</td>\n",
       "      <td>0.278630</td>\n",
       "      <td>1.770604e+07</td>\n",
       "    </tr>\n",
       "    <tr>\n",
       "      <th>1408</th>\n",
       "      <td>2040</td>\n",
       "      <td>2.148732e+05</td>\n",
       "      <td>-168614.251398</td>\n",
       "      <td>19.286302</td>\n",
       "      <td>2.317941</td>\n",
       "      <td>7.391596e+06</td>\n",
       "      <td>1.153782</td>\n",
       "      <td>39.689850</td>\n",
       "      <td>Zimbabwe</td>\n",
       "      <td>Africa</td>\n",
       "      <td>0.278630</td>\n",
       "      <td>1.862339e+07</td>\n",
       "    </tr>\n",
       "    <tr>\n",
       "      <th>1409</th>\n",
       "      <td>2050</td>\n",
       "      <td>2.222171e+05</td>\n",
       "      <td>-191678.536552</td>\n",
       "      <td>19.686949</td>\n",
       "      <td>1.678583</td>\n",
       "      <td>8.282621e+06</td>\n",
       "      <td>1.086206</td>\n",
       "      <td>40.485791</td>\n",
       "      <td>Zimbabwe</td>\n",
       "      <td>Africa</td>\n",
       "      <td>0.278630</td>\n",
       "      <td>2.045809e+07</td>\n",
       "    </tr>\n",
       "  </tbody>\n",
       "</table>\n",
       "<p>1410 rows × 12 columns</p>\n",
       "</div>"
      ],
      "text/plain": [
       "      Year  YearlyChange  Migrants(net)  MedianAge  FertilityRate  \\\n",
       "0     2022  9.697865e+05  -46311.662840  16.639918       5.529233   \n",
       "1     2025  1.015350e+06  -44993.213325  16.582543       5.409869   \n",
       "2     2030  1.091289e+06  -42795.797468  16.486920       5.210928   \n",
       "3     2035  1.167229e+06  -40598.381611  16.391296       5.011988   \n",
       "4     2040  1.243168e+06  -38400.965754  16.295673       4.813048   \n",
       "...    ...           ...            ...        ...            ...   \n",
       "1405  2025  2.038575e+05 -134017.823668  18.685330       3.276979   \n",
       "1406  2030  2.075294e+05 -145549.966245  18.885654       2.957300   \n",
       "1407  2035  2.112013e+05 -157082.108822  19.085978       2.637620   \n",
       "1408  2040  2.148732e+05 -168614.251398  19.286302       2.317941   \n",
       "1409  2050  2.222171e+05 -191678.536552  19.686949       1.678583   \n",
       "\n",
       "      UrbanPopulation  Yearly%Change  UrbanPop%      Country Continent  \\\n",
       "0        9.065679e+06       2.672341  24.981361  Afghanistan      Asia   \n",
       "1        9.517517e+06       2.686857  25.185605  Afghanistan      Asia   \n",
       "2        1.027058e+07       2.708648  25.492221  Afghanistan      Asia   \n",
       "3        1.102364e+07       2.727894  25.763014  Afghanistan      Asia   \n",
       "4        1.177671e+07       2.745014  26.003915  Afghanistan      Asia   \n",
       "...               ...            ...        ...          ...       ...   \n",
       "1405     6.055059e+06       1.284438  38.150902     Zimbabwe    Africa   \n",
       "1406     6.500572e+06       1.236126  38.719944     Zimbabwe    Africa   \n",
       "1407     6.946084e+06       1.192821  39.230023     Zimbabwe    Africa   \n",
       "1408     7.391596e+06       1.153782  39.689850     Zimbabwe    Africa   \n",
       "1409     8.282621e+06       1.086206  40.485791     Zimbabwe    Africa   \n",
       "\n",
       "      LossFunctCheck    Population  \n",
       "0           1.482467  3.628977e+07  \n",
       "1           1.482467  3.778951e+07  \n",
       "2           1.482467  4.028908e+07  \n",
       "3           1.482467  4.278864e+07  \n",
       "4           1.482467  4.528821e+07  \n",
       "...              ...           ...  \n",
       "1405        0.278630  1.587134e+07  \n",
       "1406        0.278630  1.678869e+07  \n",
       "1407        0.278630  1.770604e+07  \n",
       "1408        0.278630  1.862339e+07  \n",
       "1409        0.278630  2.045809e+07  \n",
       "\n",
       "[1410 rows x 12 columns]"
      ]
     },
     "execution_count": 25,
     "metadata": {},
     "output_type": "execute_result"
    }
   ],
   "source": [
    "LD1"
   ]
  },
  {
   "cell_type": "code",
   "execution_count": 26,
   "metadata": {},
   "outputs": [
    {
     "data": {
      "application/vnd.plotly.v1+json": {
       "config": {
        "plotlyServerURL": "https://plot.ly"
       },
       "data": [
        {
         "hovertemplate": "Continent=Asia<br>Country=%{x}<br>LossFunctCheck=%{y}<extra></extra>",
         "legendgroup": "Asia",
         "marker": {
          "color": "#636efa",
          "symbol": "circle"
         },
         "mode": "markers",
         "name": "Asia",
         "orientation": "v",
         "showlegend": true,
         "type": "scatter",
         "x": [
          "Afghanistan",
          "Armenia",
          "Azerbaijan",
          "Bahrain",
          "Bangladesh",
          "Bhutan",
          "Brunei ",
          "Cambodia",
          "China",
          "Cyprus",
          "Georgia",
          "Hong Kong",
          "India",
          "Indonesia",
          "Iran",
          "Iraq",
          "Israel",
          "Japan",
          "Jordan",
          "Kazakhstan",
          "Kuwait",
          "Kyrgyzstan",
          "Laos",
          "Lebanon",
          "Macao",
          "Malaysia",
          "Maldives",
          "Mongolia",
          "Myanmar",
          "Nepal",
          "North Korea",
          "Oman",
          "Pakistan",
          "Philippines",
          "Qatar",
          "Saudi Arabia",
          "Singapore",
          "South Korea",
          "Sri Lanka",
          "State of Palestine",
          "Syria",
          "Taiwan",
          "Tajikistan",
          "Thailand",
          "Timor-Leste",
          "Turkey",
          "Turkmenistan",
          "United Arab Emirates",
          "Uzbekistan",
          "Vietnam",
          "Yemen"
         ],
         "xaxis": "x",
         "y": [
          1.4824674753507956,
          0.356288455085149,
          0.5963774177802644,
          0.11324317777214758,
          0.22587317740627086,
          0.5539462863162224,
          0.6962670483849306,
          0.4092084851519435,
          0.1383241387940755,
          0.1894058163969433,
          0.5958440684261483,
          1.3087405289771845,
          0.13425035935074958,
          0.14225593819011118,
          0.315135891344051,
          0.6071876083045545,
          0.23221427003673023,
          0.27369364987683575,
          0.3858678518522242,
          0.44686329268845654,
          0.3016560696480365,
          0.21750189176116644,
          0.15166569358235807,
          0.618442619900854,
          0.14316874320525438,
          0.13131061510016986,
          0.11477073410537897,
          0.44477892851897005,
          0.14868693764925425,
          0.47917252077863975,
          0.3456435591590807,
          0.13964837071722427,
          0.09840236385564231,
          0.1745993823976512,
          0.20700929364620668,
          0.16604705552390361,
          0.34950944262252664,
          0.9935094286174703,
          0.08557603206834341,
          0.48450931249544293,
          0.28993215126764854,
          0.38888475353668434,
          0.10091639817602673,
          0.9192221862188097,
          0.1617059200816668,
          0.10009619643783653,
          0.14681817323793098,
          0.3515887995639531,
          0.14669596557332268,
          0.5547654549625802,
          15.742679035787212
         ],
         "yaxis": "y"
        },
        {
         "hovertemplate": "Continent=Europe<br>Country=%{x}<br>LossFunctCheck=%{y}<extra></extra>",
         "legendgroup": "Europe",
         "marker": {
          "color": "#EF553B",
          "symbol": "circle"
         },
         "mode": "markers",
         "name": "Europe",
         "orientation": "v",
         "showlegend": true,
         "type": "scatter",
         "x": [
          "Albania",
          "Andorra",
          "Austria",
          "Belarus",
          "Belgium",
          "Bosnia and Herzegovina",
          "Bulgaria",
          "Channel Islands",
          "Croatia",
          "Czech Republic (Czechia)",
          "Denmark",
          "Estonia",
          "Faeroe Islands",
          "Finland",
          "France",
          "Germany",
          "Gibraltar",
          "Greece",
          "Holy See",
          "Hungary",
          "Iceland",
          "Ireland",
          "Isle of Man",
          "Italy",
          "Latvia",
          "Liechtenstein",
          "Lithuania",
          "Luxembourg",
          "Malta",
          "Moldova",
          "Monaco",
          "Montenegro",
          "Netherlands",
          "North Macedonia",
          "Norway",
          "Poland",
          "Portugal",
          "Romania",
          "Russia",
          "San Marino",
          "Serbia",
          "Slovakia",
          "Slovenia",
          "Spain",
          "Sweden",
          "Switzerland",
          "Ukraine",
          "United Kingdom"
         ],
         "xaxis": "x",
         "y": [
          0.2280191332837603,
          0.13913106331479513,
          0.14657776112614007,
          0.21847708989056439,
          0.1796506847638646,
          0.8411860270772996,
          1.028595586502993,
          0.17531322698285076,
          0.44248837648558875,
          0.234718751073857,
          0.22211129443976507,
          0.9112560821130491,
          0.11264153184498993,
          0.10866310116483378,
          0.18674507345825953,
          1.9784605663519115,
          0.16595176448686125,
          58.64108908591023,
          0.3165486035893166,
          0.2747854362458397,
          0.30657370276294127,
          0.1303085667105267,
          0.2794183876094632,
          0.13877119517880743,
          0.8381946169530282,
          0.09376794958943285,
          0.605324470394252,
          0.0917898242862268,
          0.15926603763361197,
          0.21274072271531896,
          0.14507177546764602,
          0.5080123257783906,
          0.17771943417568134,
          0.22052381218554049,
          0.12240522102547051,
          0.2808847604029157,
          0.20930773989618182,
          2.4431465447620715,
          0.16626033073343785,
          0.15581055617485665,
          3.400588469755053,
          0.8553713484751712,
          0.27559797031846306,
          0.28001671440634907,
          0.1809289355477677,
          0.3419418065952719,
          2.1887074165826212,
          0.1408759182973606
         ],
         "yaxis": "y"
        },
        {
         "hovertemplate": "Continent=Africa<br>Country=%{x}<br>LossFunctCheck=%{y}<extra></extra>",
         "legendgroup": "Africa",
         "marker": {
          "color": "#00cc96",
          "symbol": "circle"
         },
         "mode": "markers",
         "name": "Africa",
         "orientation": "v",
         "showlegend": true,
         "type": "scatter",
         "x": [
          "Algeria",
          "Angola",
          "Benin",
          "Botswana",
          "Burkina Faso",
          "Burundi",
          "Cabo Verde",
          "Cameroon",
          "Central African Republic",
          "Chad",
          "Comoros",
          "Congo",
          "Côte d'Ivoire",
          "DR Congo",
          "Djibouti",
          "Egypt",
          "Equatorial Guinea",
          "Eritrea",
          "Eswatini",
          "Ethiopia",
          "Gabon",
          "Gambia",
          "Ghana",
          "Guinea",
          "Guinea-Bissau",
          "Kenya",
          "Lesotho",
          "Liberia",
          "Libya",
          "Madagascar",
          "Malawi",
          "Mali",
          "Mauritania",
          "Mauritius",
          "Mayotte",
          "Morocco",
          "Mozambique",
          "Namibia",
          "Niger",
          "Nigeria",
          "Rwanda",
          "Réunion",
          "Saint Helena",
          "Sao Tome & Principe",
          "Senegal",
          "Seychelles",
          "Sierra Leone",
          "Somalia",
          "South Africa",
          "South Sudan",
          "Sudan",
          "Tanzania",
          "Togo",
          "Tunisia",
          "Uganda",
          "Western Sahara",
          "Zambia",
          "Zimbabwe"
         ],
         "xaxis": "x",
         "y": [
          0.12839148149416646,
          0.17253206418865266,
          0.4421237033250501,
          0.23525617121606154,
          0.3280320782748924,
          0.2400955883449675,
          0.3332363362649267,
          0.09749066437217357,
          0.13099972614906147,
          0.17192060559835776,
          0.11243951086778625,
          0.6152042489657971,
          0.11739951039636255,
          2.6242995836945635,
          0.3522629151645091,
          4.041715126808387,
          0.11420880058273127,
          0.2752102111130624,
          14.516534856135843,
          0.30768916095789245,
          0.15926536502109143,
          0.12947122699781288,
          0.5562643296337394,
          0.21964602046799356,
          0.3096388828187013,
          0.22036699838259233,
          0.3548507162801826,
          1.3944049963985332,
          0.2804964969055968,
          0.7822287425513625,
          0.4156935071399615,
          0.1752157075181708,
          0.15773836170576583,
          0.1673249289256343,
          0.22670088236961586,
          0.2767345445492113,
          1.064500494210682,
          0.18970504875959385,
          0.16926867120787312,
          0.14728696742008976,
          9.174403982249375,
          0.4571192131247539,
          0.4892887591834159,
          0.1744583168507321,
          0.09449950428800656,
          0.5756496006419872,
          1.9329611664596442,
          0.2740351037542301,
          0.09983073704031603,
          0.2886995840856879,
          0.12848028943149917,
          0.1415223559572906,
          0.44469198057054965,
          0.38852675333342007,
          0.16054790879120803,
          0.26364679409047254,
          0.18665977854326632,
          0.27862992859421715
         ],
         "yaxis": "y"
        },
        {
         "hovertemplate": "Continent=Oceania<br>Country=%{x}<br>LossFunctCheck=%{y}<extra></extra>",
         "legendgroup": "Oceania",
         "marker": {
          "color": "#ab63fa",
          "symbol": "circle"
         },
         "mode": "markers",
         "name": "Oceania",
         "orientation": "v",
         "showlegend": true,
         "type": "scatter",
         "x": [
          "American Samoa",
          "Australia",
          "Cook Islands",
          "Fiji",
          "French Polynesia",
          "Guam",
          "Kiribati",
          "Marshall Islands",
          "Micronesia",
          "Nauru",
          "New Caledonia",
          "New Zealand",
          "Niue",
          "Northern Mariana Islands",
          "Palau",
          "Papua New Guinea",
          "Samoa",
          "Solomon Islands",
          "Tokelau",
          "Tonga",
          "Tuvalu",
          "Vanuatu",
          "Wallis & Futuna"
         ],
         "xaxis": "x",
         "y": [
          0.15211450879250435,
          0.13696580770592384,
          0.354400350498215,
          0.147614827388385,
          0.20647464334347468,
          0.6471518446670681,
          0.10691517599848255,
          0.2773099199550323,
          0.6479644453081208,
          0.14973713542786274,
          0.3916763622743114,
          1.2094478765294803,
          0.2094395900579693,
          0.6699687963307075,
          0.16428773591032592,
          0.5610912515330008,
          0.19172728823985832,
          0.06962546265751775,
          0.11095767210917962,
          0.3828847434563339,
          0.1311828508318039,
          0.3624752976624855,
          0.1323802959235945
         ],
         "yaxis": "y"
        },
        {
         "hovertemplate": "Continent=Latin America and the Caribbean<br>Country=%{x}<br>LossFunctCheck=%{y}<extra></extra>",
         "legendgroup": "Latin America and the Caribbean",
         "marker": {
          "color": "#FFA15A",
          "symbol": "circle"
         },
         "mode": "markers",
         "name": "Latin America and the Caribbean",
         "orientation": "v",
         "showlegend": true,
         "type": "scatter",
         "x": [
          "Anguilla",
          "Antigua and Barbuda",
          "Argentina",
          "Aruba",
          "Bahamas",
          "Barbados",
          "Belize",
          "Bolivia",
          "Brazil",
          "British Virgin Islands",
          "Caribbean Netherlands",
          "Cayman Islands",
          "Chile",
          "Colombia",
          "Costa Rica",
          "Cuba",
          "Curaçao",
          "Dominica",
          "Dominican Republic",
          "Ecuador",
          "El Salvador",
          "Falkland Islands",
          "French Guiana",
          "Grenada",
          "Guadeloupe",
          "Guatemala",
          "Guyana",
          "Haiti",
          "Honduras",
          "Jamaica",
          "Martinique",
          "Mexico",
          "Montserrat",
          "Nicaragua",
          "Panama",
          "Paraguay",
          "Peru",
          "Puerto Rico",
          "Saint Kitts & Nevis",
          "Saint Lucia",
          "Saint Martin",
          "Sint Maarten",
          "St. Vincent & Grenadines",
          "Suriname",
          "Trinidad and Tobago",
          "Turks and Caicos",
          "U.S. Virgin Islands",
          "Uruguay",
          "Venezuela"
         ],
         "xaxis": "x",
         "y": [
          0.12112160295207947,
          0.3245159325890044,
          0.17220213950977967,
          0.6474270266007808,
          3.5916006088810923,
          2.2176672580538908,
          0.11163841726495587,
          0.10213102681060292,
          1.4221363762543293,
          0.1843561995200028,
          0.15488637925319532,
          0.09865300921699255,
          0.10651515890783997,
          0.13555491479638684,
          0.5050049775200335,
          0.27593533428704475,
          0.44605626924475744,
          0.16232916254025456,
          0.3951865562937726,
          0.12534138930661612,
          0.11911392283249844,
          0.09993306066895101,
          0.27180405252913975,
          0.671659870371482,
          0.8148340218180334,
          1.2608456237028791,
          0.5798468171395542,
          0.06683793402631595,
          0.402846628805118,
          0.1558381775569832,
          0.3916951949226095,
          2.086295589254092,
          0.48485194656924024,
          0.1390117519572681,
          0.05189974258609894,
          0.2533472708267727,
          0.5218622916362871,
          0.23957440259080032,
          0.24817959676630894,
          1.0763843222194833,
          0.6016450556386334,
          0.31881577360557806,
          0.12069090211325333,
          6.839558175821515,
          0.1784068475996521,
          0.09834194877519137,
          0.22322893327966073,
          1.1743729380975212,
          0.14881002159908527
         ],
         "yaxis": "y"
        },
        {
         "hovertemplate": "Continent=Northern America<br>Country=%{x}<br>LossFunctCheck=%{y}<extra></extra>",
         "legendgroup": "Northern America",
         "marker": {
          "color": "#19d3f3",
          "symbol": "circle"
         },
         "mode": "markers",
         "name": "Northern America",
         "orientation": "v",
         "showlegend": true,
         "type": "scatter",
         "x": [
          "Bermuda",
          "Canada",
          "Greenland",
          "Saint Pierre & Miquelon",
          "United States"
         ],
         "xaxis": "x",
         "y": [
          0.0837612477268553,
          0.35295099359528975,
          0.10199094477391857,
          0.14863680428700513,
          0.2810614026654387
         ],
         "yaxis": "y"
        },
        {
         "hovertemplate": "Continent=North America<br>Country=%{x}<br>LossFunctCheck=%{y}<extra></extra>",
         "legendgroup": "North America",
         "marker": {
          "color": "#FF6692",
          "symbol": "circle"
         },
         "mode": "markers",
         "name": "North America",
         "orientation": "v",
         "showlegend": true,
         "type": "scatter",
         "x": [
          "Saint Barthelemy"
         ],
         "xaxis": "x",
         "y": [
          0.22835541592708344
         ],
         "yaxis": "y"
        }
       ],
       "layout": {
        "legend": {
         "title": {
          "text": "Continent"
         },
         "tracegroupgap": 0
        },
        "margin": {
         "t": 60
        },
        "template": {
         "data": {
          "bar": [
           {
            "error_x": {
             "color": "#2a3f5f"
            },
            "error_y": {
             "color": "#2a3f5f"
            },
            "marker": {
             "line": {
              "color": "#E5ECF6",
              "width": 0.5
             },
             "pattern": {
              "fillmode": "overlay",
              "size": 10,
              "solidity": 0.2
             }
            },
            "type": "bar"
           }
          ],
          "barpolar": [
           {
            "marker": {
             "line": {
              "color": "#E5ECF6",
              "width": 0.5
             },
             "pattern": {
              "fillmode": "overlay",
              "size": 10,
              "solidity": 0.2
             }
            },
            "type": "barpolar"
           }
          ],
          "carpet": [
           {
            "aaxis": {
             "endlinecolor": "#2a3f5f",
             "gridcolor": "white",
             "linecolor": "white",
             "minorgridcolor": "white",
             "startlinecolor": "#2a3f5f"
            },
            "baxis": {
             "endlinecolor": "#2a3f5f",
             "gridcolor": "white",
             "linecolor": "white",
             "minorgridcolor": "white",
             "startlinecolor": "#2a3f5f"
            },
            "type": "carpet"
           }
          ],
          "choropleth": [
           {
            "colorbar": {
             "outlinewidth": 0,
             "ticks": ""
            },
            "type": "choropleth"
           }
          ],
          "contour": [
           {
            "colorbar": {
             "outlinewidth": 0,
             "ticks": ""
            },
            "colorscale": [
             [
              0,
              "#0d0887"
             ],
             [
              0.1111111111111111,
              "#46039f"
             ],
             [
              0.2222222222222222,
              "#7201a8"
             ],
             [
              0.3333333333333333,
              "#9c179e"
             ],
             [
              0.4444444444444444,
              "#bd3786"
             ],
             [
              0.5555555555555556,
              "#d8576b"
             ],
             [
              0.6666666666666666,
              "#ed7953"
             ],
             [
              0.7777777777777778,
              "#fb9f3a"
             ],
             [
              0.8888888888888888,
              "#fdca26"
             ],
             [
              1,
              "#f0f921"
             ]
            ],
            "type": "contour"
           }
          ],
          "contourcarpet": [
           {
            "colorbar": {
             "outlinewidth": 0,
             "ticks": ""
            },
            "type": "contourcarpet"
           }
          ],
          "heatmap": [
           {
            "colorbar": {
             "outlinewidth": 0,
             "ticks": ""
            },
            "colorscale": [
             [
              0,
              "#0d0887"
             ],
             [
              0.1111111111111111,
              "#46039f"
             ],
             [
              0.2222222222222222,
              "#7201a8"
             ],
             [
              0.3333333333333333,
              "#9c179e"
             ],
             [
              0.4444444444444444,
              "#bd3786"
             ],
             [
              0.5555555555555556,
              "#d8576b"
             ],
             [
              0.6666666666666666,
              "#ed7953"
             ],
             [
              0.7777777777777778,
              "#fb9f3a"
             ],
             [
              0.8888888888888888,
              "#fdca26"
             ],
             [
              1,
              "#f0f921"
             ]
            ],
            "type": "heatmap"
           }
          ],
          "heatmapgl": [
           {
            "colorbar": {
             "outlinewidth": 0,
             "ticks": ""
            },
            "colorscale": [
             [
              0,
              "#0d0887"
             ],
             [
              0.1111111111111111,
              "#46039f"
             ],
             [
              0.2222222222222222,
              "#7201a8"
             ],
             [
              0.3333333333333333,
              "#9c179e"
             ],
             [
              0.4444444444444444,
              "#bd3786"
             ],
             [
              0.5555555555555556,
              "#d8576b"
             ],
             [
              0.6666666666666666,
              "#ed7953"
             ],
             [
              0.7777777777777778,
              "#fb9f3a"
             ],
             [
              0.8888888888888888,
              "#fdca26"
             ],
             [
              1,
              "#f0f921"
             ]
            ],
            "type": "heatmapgl"
           }
          ],
          "histogram": [
           {
            "marker": {
             "pattern": {
              "fillmode": "overlay",
              "size": 10,
              "solidity": 0.2
             }
            },
            "type": "histogram"
           }
          ],
          "histogram2d": [
           {
            "colorbar": {
             "outlinewidth": 0,
             "ticks": ""
            },
            "colorscale": [
             [
              0,
              "#0d0887"
             ],
             [
              0.1111111111111111,
              "#46039f"
             ],
             [
              0.2222222222222222,
              "#7201a8"
             ],
             [
              0.3333333333333333,
              "#9c179e"
             ],
             [
              0.4444444444444444,
              "#bd3786"
             ],
             [
              0.5555555555555556,
              "#d8576b"
             ],
             [
              0.6666666666666666,
              "#ed7953"
             ],
             [
              0.7777777777777778,
              "#fb9f3a"
             ],
             [
              0.8888888888888888,
              "#fdca26"
             ],
             [
              1,
              "#f0f921"
             ]
            ],
            "type": "histogram2d"
           }
          ],
          "histogram2dcontour": [
           {
            "colorbar": {
             "outlinewidth": 0,
             "ticks": ""
            },
            "colorscale": [
             [
              0,
              "#0d0887"
             ],
             [
              0.1111111111111111,
              "#46039f"
             ],
             [
              0.2222222222222222,
              "#7201a8"
             ],
             [
              0.3333333333333333,
              "#9c179e"
             ],
             [
              0.4444444444444444,
              "#bd3786"
             ],
             [
              0.5555555555555556,
              "#d8576b"
             ],
             [
              0.6666666666666666,
              "#ed7953"
             ],
             [
              0.7777777777777778,
              "#fb9f3a"
             ],
             [
              0.8888888888888888,
              "#fdca26"
             ],
             [
              1,
              "#f0f921"
             ]
            ],
            "type": "histogram2dcontour"
           }
          ],
          "mesh3d": [
           {
            "colorbar": {
             "outlinewidth": 0,
             "ticks": ""
            },
            "type": "mesh3d"
           }
          ],
          "parcoords": [
           {
            "line": {
             "colorbar": {
              "outlinewidth": 0,
              "ticks": ""
             }
            },
            "type": "parcoords"
           }
          ],
          "pie": [
           {
            "automargin": true,
            "type": "pie"
           }
          ],
          "scatter": [
           {
            "fillpattern": {
             "fillmode": "overlay",
             "size": 10,
             "solidity": 0.2
            },
            "type": "scatter"
           }
          ],
          "scatter3d": [
           {
            "line": {
             "colorbar": {
              "outlinewidth": 0,
              "ticks": ""
             }
            },
            "marker": {
             "colorbar": {
              "outlinewidth": 0,
              "ticks": ""
             }
            },
            "type": "scatter3d"
           }
          ],
          "scattercarpet": [
           {
            "marker": {
             "colorbar": {
              "outlinewidth": 0,
              "ticks": ""
             }
            },
            "type": "scattercarpet"
           }
          ],
          "scattergeo": [
           {
            "marker": {
             "colorbar": {
              "outlinewidth": 0,
              "ticks": ""
             }
            },
            "type": "scattergeo"
           }
          ],
          "scattergl": [
           {
            "marker": {
             "colorbar": {
              "outlinewidth": 0,
              "ticks": ""
             }
            },
            "type": "scattergl"
           }
          ],
          "scattermapbox": [
           {
            "marker": {
             "colorbar": {
              "outlinewidth": 0,
              "ticks": ""
             }
            },
            "type": "scattermapbox"
           }
          ],
          "scatterpolar": [
           {
            "marker": {
             "colorbar": {
              "outlinewidth": 0,
              "ticks": ""
             }
            },
            "type": "scatterpolar"
           }
          ],
          "scatterpolargl": [
           {
            "marker": {
             "colorbar": {
              "outlinewidth": 0,
              "ticks": ""
             }
            },
            "type": "scatterpolargl"
           }
          ],
          "scatterternary": [
           {
            "marker": {
             "colorbar": {
              "outlinewidth": 0,
              "ticks": ""
             }
            },
            "type": "scatterternary"
           }
          ],
          "surface": [
           {
            "colorbar": {
             "outlinewidth": 0,
             "ticks": ""
            },
            "colorscale": [
             [
              0,
              "#0d0887"
             ],
             [
              0.1111111111111111,
              "#46039f"
             ],
             [
              0.2222222222222222,
              "#7201a8"
             ],
             [
              0.3333333333333333,
              "#9c179e"
             ],
             [
              0.4444444444444444,
              "#bd3786"
             ],
             [
              0.5555555555555556,
              "#d8576b"
             ],
             [
              0.6666666666666666,
              "#ed7953"
             ],
             [
              0.7777777777777778,
              "#fb9f3a"
             ],
             [
              0.8888888888888888,
              "#fdca26"
             ],
             [
              1,
              "#f0f921"
             ]
            ],
            "type": "surface"
           }
          ],
          "table": [
           {
            "cells": {
             "fill": {
              "color": "#EBF0F8"
             },
             "line": {
              "color": "white"
             }
            },
            "header": {
             "fill": {
              "color": "#C8D4E3"
             },
             "line": {
              "color": "white"
             }
            },
            "type": "table"
           }
          ]
         },
         "layout": {
          "annotationdefaults": {
           "arrowcolor": "#2a3f5f",
           "arrowhead": 0,
           "arrowwidth": 1
          },
          "autotypenumbers": "strict",
          "coloraxis": {
           "colorbar": {
            "outlinewidth": 0,
            "ticks": ""
           }
          },
          "colorscale": {
           "diverging": [
            [
             0,
             "#8e0152"
            ],
            [
             0.1,
             "#c51b7d"
            ],
            [
             0.2,
             "#de77ae"
            ],
            [
             0.3,
             "#f1b6da"
            ],
            [
             0.4,
             "#fde0ef"
            ],
            [
             0.5,
             "#f7f7f7"
            ],
            [
             0.6,
             "#e6f5d0"
            ],
            [
             0.7,
             "#b8e186"
            ],
            [
             0.8,
             "#7fbc41"
            ],
            [
             0.9,
             "#4d9221"
            ],
            [
             1,
             "#276419"
            ]
           ],
           "sequential": [
            [
             0,
             "#0d0887"
            ],
            [
             0.1111111111111111,
             "#46039f"
            ],
            [
             0.2222222222222222,
             "#7201a8"
            ],
            [
             0.3333333333333333,
             "#9c179e"
            ],
            [
             0.4444444444444444,
             "#bd3786"
            ],
            [
             0.5555555555555556,
             "#d8576b"
            ],
            [
             0.6666666666666666,
             "#ed7953"
            ],
            [
             0.7777777777777778,
             "#fb9f3a"
            ],
            [
             0.8888888888888888,
             "#fdca26"
            ],
            [
             1,
             "#f0f921"
            ]
           ],
           "sequentialminus": [
            [
             0,
             "#0d0887"
            ],
            [
             0.1111111111111111,
             "#46039f"
            ],
            [
             0.2222222222222222,
             "#7201a8"
            ],
            [
             0.3333333333333333,
             "#9c179e"
            ],
            [
             0.4444444444444444,
             "#bd3786"
            ],
            [
             0.5555555555555556,
             "#d8576b"
            ],
            [
             0.6666666666666666,
             "#ed7953"
            ],
            [
             0.7777777777777778,
             "#fb9f3a"
            ],
            [
             0.8888888888888888,
             "#fdca26"
            ],
            [
             1,
             "#f0f921"
            ]
           ]
          },
          "colorway": [
           "#636efa",
           "#EF553B",
           "#00cc96",
           "#ab63fa",
           "#FFA15A",
           "#19d3f3",
           "#FF6692",
           "#B6E880",
           "#FF97FF",
           "#FECB52"
          ],
          "font": {
           "color": "#2a3f5f"
          },
          "geo": {
           "bgcolor": "white",
           "lakecolor": "white",
           "landcolor": "#E5ECF6",
           "showlakes": true,
           "showland": true,
           "subunitcolor": "white"
          },
          "hoverlabel": {
           "align": "left"
          },
          "hovermode": "closest",
          "mapbox": {
           "style": "light"
          },
          "paper_bgcolor": "white",
          "plot_bgcolor": "#E5ECF6",
          "polar": {
           "angularaxis": {
            "gridcolor": "white",
            "linecolor": "white",
            "ticks": ""
           },
           "bgcolor": "#E5ECF6",
           "radialaxis": {
            "gridcolor": "white",
            "linecolor": "white",
            "ticks": ""
           }
          },
          "scene": {
           "xaxis": {
            "backgroundcolor": "#E5ECF6",
            "gridcolor": "white",
            "gridwidth": 2,
            "linecolor": "white",
            "showbackground": true,
            "ticks": "",
            "zerolinecolor": "white"
           },
           "yaxis": {
            "backgroundcolor": "#E5ECF6",
            "gridcolor": "white",
            "gridwidth": 2,
            "linecolor": "white",
            "showbackground": true,
            "ticks": "",
            "zerolinecolor": "white"
           },
           "zaxis": {
            "backgroundcolor": "#E5ECF6",
            "gridcolor": "white",
            "gridwidth": 2,
            "linecolor": "white",
            "showbackground": true,
            "ticks": "",
            "zerolinecolor": "white"
           }
          },
          "shapedefaults": {
           "line": {
            "color": "#2a3f5f"
           }
          },
          "ternary": {
           "aaxis": {
            "gridcolor": "white",
            "linecolor": "white",
            "ticks": ""
           },
           "baxis": {
            "gridcolor": "white",
            "linecolor": "white",
            "ticks": ""
           },
           "bgcolor": "#E5ECF6",
           "caxis": {
            "gridcolor": "white",
            "linecolor": "white",
            "ticks": ""
           }
          },
          "title": {
           "x": 0.05
          },
          "xaxis": {
           "automargin": true,
           "gridcolor": "white",
           "linecolor": "white",
           "ticks": "",
           "title": {
            "standoff": 15
           },
           "zerolinecolor": "white",
           "zerolinewidth": 2
          },
          "yaxis": {
           "automargin": true,
           "gridcolor": "white",
           "linecolor": "white",
           "ticks": "",
           "title": {
            "standoff": 15
           },
           "zerolinecolor": "white",
           "zerolinewidth": 2
          }
         }
        },
        "xaxis": {
         "anchor": "y",
         "domain": [
          0,
          1
         ],
         "title": {
          "text": "Country"
         },
         "visible": false
        },
        "yaxis": {
         "anchor": "x",
         "domain": [
          0,
          1
         ],
         "range": [
          0,
          5
         ],
         "title": {
          "text": "LossFunctCheck"
         }
        }
       }
      }
     },
     "metadata": {},
     "output_type": "display_data"
    }
   ],
   "source": [
    "fig=px.scatter(LD1[LD1['Year']==2050], x=\"Country\", y=\"LossFunctCheck\",range_y=[0,5],\n",
    "        color=\"Continent\")\n",
    "\n",
    "fig.update_xaxes(visible=False)\n",
    "fig.show()"
   ]
  },
  {
   "attachments": {},
   "cell_type": "markdown",
   "metadata": {},
   "source": [
    "**Nhận xét**\n",
    "\n",
    "Điểm trừ của Linear bậc 1 : biên độ mất mát bị lệch do ảnh hướng từ các số liệu lệch đột biến. Ví dụ giả sử Afghanistan có dân số xu hướng tăng theo thời gian nhưng dân số năm 2022 và 2025 được dự đoán sẽ nhỏ hơn dân số năm 2020."
   ]
  },
  {
   "attachments": {},
   "cell_type": "markdown",
   "metadata": {},
   "source": [
    "**Hồi quy bậc 2**"
   ]
  },
  {
   "cell_type": "code",
   "execution_count": 27,
   "metadata": {},
   "outputs": [
    {
     "data": {
      "text/html": [
       "<div>\n",
       "<style scoped>\n",
       "    .dataframe tbody tr th:only-of-type {\n",
       "        vertical-align: middle;\n",
       "    }\n",
       "\n",
       "    .dataframe tbody tr th {\n",
       "        vertical-align: top;\n",
       "    }\n",
       "\n",
       "    .dataframe thead th {\n",
       "        text-align: right;\n",
       "    }\n",
       "</style>\n",
       "<table border=\"1\" class=\"dataframe\">\n",
       "  <thead>\n",
       "    <tr style=\"text-align: right;\">\n",
       "      <th></th>\n",
       "      <th>Year</th>\n",
       "      <th>YearlyChange</th>\n",
       "      <th>Migrants(net)</th>\n",
       "      <th>MedianAge</th>\n",
       "      <th>FertilityRate</th>\n",
       "      <th>UrbanPopulation</th>\n",
       "      <th>Yearly%Change</th>\n",
       "      <th>UrbanPop%</th>\n",
       "      <th>Country</th>\n",
       "      <th>Continent</th>\n",
       "      <th>LossFunctCheck</th>\n",
       "      <th>Population</th>\n",
       "    </tr>\n",
       "  </thead>\n",
       "  <tbody>\n",
       "    <tr>\n",
       "      <th>0</th>\n",
       "      <td>2022</td>\n",
       "      <td>1.068893e+06</td>\n",
       "      <td>3977.750578</td>\n",
       "      <td>17.953049</td>\n",
       "      <td>4.730352</td>\n",
       "      <td>1.042072e+07</td>\n",
       "      <td>2.589791</td>\n",
       "      <td>25.248080</td>\n",
       "      <td>Afghanistan</td>\n",
       "      <td>Asia</td>\n",
       "      <td>0.436912</td>\n",
       "      <td>4.127333e+07</td>\n",
       "    </tr>\n",
       "    <tr>\n",
       "      <th>1</th>\n",
       "      <td>2025</td>\n",
       "      <td>1.152376e+06</td>\n",
       "      <td>24537.823051</td>\n",
       "      <td>18.398103</td>\n",
       "      <td>4.305322</td>\n",
       "      <td>1.139103e+07</td>\n",
       "      <td>2.579184</td>\n",
       "      <td>25.494761</td>\n",
       "      <td>Afghanistan</td>\n",
       "      <td>Asia</td>\n",
       "      <td>0.436912</td>\n",
       "      <td>4.467987e+07</td>\n",
       "    </tr>\n",
       "    <tr>\n",
       "      <th>2</th>\n",
       "      <td>2030</td>\n",
       "      <td>1.299116e+06</td>\n",
       "      <td>62661.154521</td>\n",
       "      <td>19.240558</td>\n",
       "      <td>3.535674</td>\n",
       "      <td>1.311211e+07</td>\n",
       "      <td>2.560358</td>\n",
       "      <td>25.841964</td>\n",
       "      <td>Afghanistan</td>\n",
       "      <td>Asia</td>\n",
       "      <td>0.436912</td>\n",
       "      <td>5.073961e+07</td>\n",
       "    </tr>\n",
       "    <tr>\n",
       "      <th>3</th>\n",
       "      <td>2035</td>\n",
       "      <td>1.455355e+06</td>\n",
       "      <td>105605.166009</td>\n",
       "      <td>20.208889</td>\n",
       "      <td>2.689447</td>\n",
       "      <td>1.496309e+07</td>\n",
       "      <td>2.540903</td>\n",
       "      <td>26.124051</td>\n",
       "      <td>Afghanistan</td>\n",
       "      <td>Asia</td>\n",
       "      <td>0.436912</td>\n",
       "      <td>5.727707e+07</td>\n",
       "    </tr>\n",
       "    <tr>\n",
       "      <th>4</th>\n",
       "      <td>2040</td>\n",
       "      <td>1.621095e+06</td>\n",
       "      <td>153369.857515</td>\n",
       "      <td>21.303095</td>\n",
       "      <td>1.766641</td>\n",
       "      <td>1.694396e+07</td>\n",
       "      <td>2.521447</td>\n",
       "      <td>26.354597</td>\n",
       "      <td>Afghanistan</td>\n",
       "      <td>Asia</td>\n",
       "      <td>0.436912</td>\n",
       "      <td>6.429225e+07</td>\n",
       "    </tr>\n",
       "    <tr>\n",
       "      <th>...</th>\n",
       "      <td>...</td>\n",
       "      <td>...</td>\n",
       "      <td>...</td>\n",
       "      <td>...</td>\n",
       "      <td>...</td>\n",
       "      <td>...</td>\n",
       "      <td>...</td>\n",
       "      <td>...</td>\n",
       "      <td>...</td>\n",
       "      <td>...</td>\n",
       "      <td>...</td>\n",
       "      <td>...</td>\n",
       "    </tr>\n",
       "    <tr>\n",
       "      <th>1405</th>\n",
       "      <td>2025</td>\n",
       "      <td>1.672271e+05</td>\n",
       "      <td>-155737.231362</td>\n",
       "      <td>19.810886</td>\n",
       "      <td>3.140785</td>\n",
       "      <td>6.271365e+06</td>\n",
       "      <td>1.080287</td>\n",
       "      <td>40.513016</td>\n",
       "      <td>Zimbabwe</td>\n",
       "      <td>Africa</td>\n",
       "      <td>0.161457</td>\n",
       "      <td>1.547988e+07</td>\n",
       "    </tr>\n",
       "    <tr>\n",
       "      <th>1406</th>\n",
       "      <td>2030</td>\n",
       "      <td>1.519725e+05</td>\n",
       "      <td>-178491.551093</td>\n",
       "      <td>20.592771</td>\n",
       "      <td>2.750736</td>\n",
       "      <td>6.828640e+06</td>\n",
       "      <td>0.938394</td>\n",
       "      <td>42.165210</td>\n",
       "      <td>Zimbabwe</td>\n",
       "      <td>Africa</td>\n",
       "      <td>0.161457</td>\n",
       "      <td>1.619496e+07</td>\n",
       "    </tr>\n",
       "    <tr>\n",
       "      <th>1407</th>\n",
       "      <td>2035</td>\n",
       "      <td>1.341783e+05</td>\n",
       "      <td>-202751.706494</td>\n",
       "      <td>21.452693</td>\n",
       "      <td>2.351245</td>\n",
       "      <td>7.400911e+06</td>\n",
       "      <td>0.794758</td>\n",
       "      <td>43.836712</td>\n",
       "      <td>Zimbabwe</td>\n",
       "      <td>Africa</td>\n",
       "      <td>0.161457</td>\n",
       "      <td>1.688291e+07</td>\n",
       "    </tr>\n",
       "    <tr>\n",
       "      <th>1408</th>\n",
       "      <td>2040</td>\n",
       "      <td>1.138444e+05</td>\n",
       "      <td>-228517.697563</td>\n",
       "      <td>22.390652</td>\n",
       "      <td>1.942311</td>\n",
       "      <td>7.988179e+06</td>\n",
       "      <td>0.648919</td>\n",
       "      <td>45.533010</td>\n",
       "      <td>Zimbabwe</td>\n",
       "      <td>Africa</td>\n",
       "      <td>0.161457</td>\n",
       "      <td>1.754371e+07</td>\n",
       "    </tr>\n",
       "    <tr>\n",
       "      <th>1409</th>\n",
       "      <td>2050</td>\n",
       "      <td>6.555779e+04</td>\n",
       "      <td>-284567.186709</td>\n",
       "      <td>24.500677</td>\n",
       "      <td>1.096116</td>\n",
       "      <td>9.207706e+06</td>\n",
       "      <td>0.349011</td>\n",
       "      <td>49.019150</td>\n",
       "      <td>Zimbabwe</td>\n",
       "      <td>Africa</td>\n",
       "      <td>0.161457</td>\n",
       "      <td>1.878390e+07</td>\n",
       "    </tr>\n",
       "  </tbody>\n",
       "</table>\n",
       "<p>1410 rows × 12 columns</p>\n",
       "</div>"
      ],
      "text/plain": [
       "      Year  YearlyChange  Migrants(net)  MedianAge  FertilityRate  \\\n",
       "0     2022  1.068893e+06    3977.750578  17.953049       4.730352   \n",
       "1     2025  1.152376e+06   24537.823051  18.398103       4.305322   \n",
       "2     2030  1.299116e+06   62661.154521  19.240558       3.535674   \n",
       "3     2035  1.455355e+06  105605.166009  20.208889       2.689447   \n",
       "4     2040  1.621095e+06  153369.857515  21.303095       1.766641   \n",
       "...    ...           ...            ...        ...            ...   \n",
       "1405  2025  1.672271e+05 -155737.231362  19.810886       3.140785   \n",
       "1406  2030  1.519725e+05 -178491.551093  20.592771       2.750736   \n",
       "1407  2035  1.341783e+05 -202751.706494  21.452693       2.351245   \n",
       "1408  2040  1.138444e+05 -228517.697563  22.390652       1.942311   \n",
       "1409  2050  6.555779e+04 -284567.186709  24.500677       1.096116   \n",
       "\n",
       "      UrbanPopulation  Yearly%Change  UrbanPop%      Country Continent  \\\n",
       "0        1.042072e+07       2.589791  25.248080  Afghanistan      Asia   \n",
       "1        1.139103e+07       2.579184  25.494761  Afghanistan      Asia   \n",
       "2        1.311211e+07       2.560358  25.841964  Afghanistan      Asia   \n",
       "3        1.496309e+07       2.540903  26.124051  Afghanistan      Asia   \n",
       "4        1.694396e+07       2.521447  26.354597  Afghanistan      Asia   \n",
       "...               ...            ...        ...          ...       ...   \n",
       "1405     6.271365e+06       1.080287  40.513016     Zimbabwe    Africa   \n",
       "1406     6.828640e+06       0.938394  42.165210     Zimbabwe    Africa   \n",
       "1407     7.400911e+06       0.794758  43.836712     Zimbabwe    Africa   \n",
       "1408     7.988179e+06       0.648919  45.533010     Zimbabwe    Africa   \n",
       "1409     9.207706e+06       0.349011  49.019150     Zimbabwe    Africa   \n",
       "\n",
       "      LossFunctCheck    Population  \n",
       "0           0.436912  4.127333e+07  \n",
       "1           0.436912  4.467987e+07  \n",
       "2           0.436912  5.073961e+07  \n",
       "3           0.436912  5.727707e+07  \n",
       "4           0.436912  6.429225e+07  \n",
       "...              ...           ...  \n",
       "1405        0.161457  1.547988e+07  \n",
       "1406        0.161457  1.619496e+07  \n",
       "1407        0.161457  1.688291e+07  \n",
       "1408        0.161457  1.754371e+07  \n",
       "1409        0.161457  1.878390e+07  \n",
       "\n",
       "[1410 rows x 12 columns]"
      ]
     },
     "execution_count": 27,
     "metadata": {},
     "output_type": "execute_result"
    }
   ],
   "source": [
    "LD2"
   ]
  },
  {
   "cell_type": "code",
   "execution_count": 28,
   "metadata": {},
   "outputs": [
    {
     "data": {
      "application/vnd.plotly.v1+json": {
       "config": {
        "plotlyServerURL": "https://plot.ly"
       },
       "data": [
        {
         "hovertemplate": "Continent=Asia<br>Country=%{x}<br>LossFunctCheck=%{y}<extra></extra>",
         "legendgroup": "Asia",
         "marker": {
          "color": "#636efa",
          "symbol": "circle"
         },
         "mode": "markers",
         "name": "Asia",
         "orientation": "v",
         "showlegend": true,
         "type": "scatter",
         "x": [
          "Afghanistan",
          "Armenia",
          "Azerbaijan",
          "Bahrain",
          "Bangladesh",
          "Bhutan",
          "Brunei ",
          "Cambodia",
          "China",
          "Cyprus",
          "Georgia",
          "Hong Kong",
          "India",
          "Indonesia",
          "Iran",
          "Iraq",
          "Israel",
          "Japan",
          "Jordan",
          "Kazakhstan",
          "Kuwait",
          "Kyrgyzstan",
          "Laos",
          "Lebanon",
          "Macao",
          "Malaysia",
          "Maldives",
          "Mongolia",
          "Myanmar",
          "Nepal",
          "North Korea",
          "Oman",
          "Pakistan",
          "Philippines",
          "Qatar",
          "Saudi Arabia",
          "Singapore",
          "South Korea",
          "Sri Lanka",
          "State of Palestine",
          "Syria",
          "Taiwan",
          "Tajikistan",
          "Thailand",
          "Timor-Leste",
          "Turkey",
          "Turkmenistan",
          "United Arab Emirates",
          "Uzbekistan",
          "Vietnam",
          "Yemen"
         ],
         "xaxis": "x",
         "y": [
          0.4369122006560215,
          0.14520436585244803,
          0.3853779702320277,
          0.07962179356766867,
          0.09625588430848027,
          0.2068711722781754,
          0.05645453610219522,
          0.25106331747198063,
          0.09113844611688865,
          0.1291313479739079,
          0.1650863061365859,
          0.2108284537724108,
          0.04006221445173684,
          0.07142958070918064,
          0.1626431997213701,
          0.1957342973755913,
          0.2242897161553634,
          0.24140481399633737,
          0.3862856753830846,
          0.1124042867305457,
          0.2710946144888214,
          0.1289011783794112,
          0.10334841227843337,
          0.5609880550888057,
          0.09715711727686804,
          0.0843953806835011,
          0.06557884968020966,
          0.1632662667721315,
          0.0710706584962942,
          0.2780385635551713,
          0.10714060821929901,
          0.10487988432877787,
          0.05531666445597159,
          0.0813736430239393,
          0.18213900940832764,
          0.13335876713514738,
          0.2560562996183866,
          0.12736292395078605,
          0.05579091473625487,
          0.2793891634882885,
          0.1813791722281861,
          0.13181838494583956,
          0.08460842029032438,
          0.15829206615718497,
          0.1351165914267414,
          0.06692748994735505,
          0.12234013282665623,
          0.24006249577280972,
          0.08245802782615536,
          0.11043994839720855,
          0.19050389782940894
         ],
         "yaxis": "y"
        },
        {
         "hovertemplate": "Continent=Europe<br>Country=%{x}<br>LossFunctCheck=%{y}<extra></extra>",
         "legendgroup": "Europe",
         "marker": {
          "color": "#EF553B",
          "symbol": "circle"
         },
         "mode": "markers",
         "name": "Europe",
         "orientation": "v",
         "showlegend": true,
         "type": "scatter",
         "x": [
          "Albania",
          "Andorra",
          "Austria",
          "Belarus",
          "Belgium",
          "Bosnia and Herzegovina",
          "Bulgaria",
          "Channel Islands",
          "Croatia",
          "Czech Republic (Czechia)",
          "Denmark",
          "Estonia",
          "Faeroe Islands",
          "Finland",
          "France",
          "Germany",
          "Gibraltar",
          "Greece",
          "Holy See",
          "Hungary",
          "Iceland",
          "Ireland",
          "Isle of Man",
          "Italy",
          "Latvia",
          "Liechtenstein",
          "Lithuania",
          "Luxembourg",
          "Malta",
          "Moldova",
          "Monaco",
          "Montenegro",
          "Netherlands",
          "North Macedonia",
          "Norway",
          "Poland",
          "Portugal",
          "Romania",
          "Russia",
          "San Marino",
          "Serbia",
          "Slovakia",
          "Slovenia",
          "Spain",
          "Sweden",
          "Switzerland",
          "Ukraine",
          "United Kingdom"
         ],
         "xaxis": "x",
         "y": [
          0.14411764175251077,
          0.07287037996252482,
          0.1284291820649687,
          0.11950368877895212,
          0.09170906261098771,
          0.20397196858744082,
          0.14334224265105874,
          0.1536298939143451,
          0.1858888076559835,
          0.13530327951969742,
          0.08926885590065264,
          0.1768374689148453,
          0.09807922276970264,
          0.08514805447730472,
          0.1802805869649909,
          0.15913960271130992,
          0.16520629186562827,
          0.10773976395309649,
          0.12286018440034034,
          0.1722040805010697,
          0.30909506704941747,
          0.11198666442797489,
          0.06096942502134737,
          0.12322425615167387,
          0.0852851899685001,
          0.049224794661036936,
          0.06994433072940583,
          0.052148721058968006,
          0.07346685910558114,
          0.07071845773087997,
          0.1289104127363656,
          0.15645157184035913,
          0.05234370989313634,
          0.09806197744593535,
          0.0810551212369265,
          0.15584161444775152,
          0.13854244712174754,
          0.08332288750438059,
          0.08100811200764436,
          0.1046153758925169,
          0.23308496469823384,
          0.07769972254389321,
          0.15454482738473632,
          0.18790611173471083,
          0.11576825815856366,
          0.17136386093909173,
          0.5105947614245306,
          0.11084006929481482
         ],
         "yaxis": "y"
        },
        {
         "hovertemplate": "Continent=Africa<br>Country=%{x}<br>LossFunctCheck=%{y}<extra></extra>",
         "legendgroup": "Africa",
         "marker": {
          "color": "#00cc96",
          "symbol": "circle"
         },
         "mode": "markers",
         "name": "Africa",
         "orientation": "v",
         "showlegend": true,
         "type": "scatter",
         "x": [
          "Algeria",
          "Angola",
          "Benin",
          "Botswana",
          "Burkina Faso",
          "Burundi",
          "Cabo Verde",
          "Cameroon",
          "Central African Republic",
          "Chad",
          "Comoros",
          "Congo",
          "Côte d'Ivoire",
          "DR Congo",
          "Djibouti",
          "Egypt",
          "Equatorial Guinea",
          "Eritrea",
          "Eswatini",
          "Ethiopia",
          "Gabon",
          "Gambia",
          "Ghana",
          "Guinea",
          "Guinea-Bissau",
          "Kenya",
          "Lesotho",
          "Liberia",
          "Libya",
          "Madagascar",
          "Malawi",
          "Mali",
          "Mauritania",
          "Mauritius",
          "Mayotte",
          "Morocco",
          "Mozambique",
          "Namibia",
          "Niger",
          "Nigeria",
          "Rwanda",
          "Réunion",
          "Saint Helena",
          "Sao Tome & Principe",
          "Senegal",
          "Seychelles",
          "Sierra Leone",
          "Somalia",
          "South Africa",
          "South Sudan",
          "Sudan",
          "Tanzania",
          "Togo",
          "Tunisia",
          "Uganda",
          "Western Sahara",
          "Zambia",
          "Zimbabwe"
         ],
         "xaxis": "x",
         "y": [
          0.11196653440227296,
          0.0747964921866039,
          0.1112660410400435,
          0.11065986808935886,
          0.0569896222524916,
          0.08895894992840092,
          0.19916870489750224,
          0.05175454184293984,
          0.09305054719517399,
          0.14444177138445566,
          0.08646666029003564,
          0.13344291506810482,
          0.06900385379144854,
          0.6439520133898439,
          0.19654267535057438,
          0.07773497189900117,
          0.068440991896428,
          0.22131019272823868,
          0.0907042779716018,
          0.2777274253815029,
          0.13551487610487534,
          0.06124615410385283,
          0.16635892846277048,
          0.09144012536047585,
          0.08191883497260785,
          0.12856834602091302,
          0.19801141184695467,
          0.6764502124788588,
          0.15386779042377227,
          0.07289220864049771,
          0.41799609206618094,
          0.08991949550922047,
          0.0518302985344819,
          0.07610605808391414,
          0.12436432215906001,
          0.10988119918570388,
          0.3089158768195172,
          0.17830584466877095,
          0.06533801387963023,
          0.12417291449998584,
          1.630972933843023,
          0.39879299380902045,
          0.19830312991170287,
          0.10390433410904072,
          0.056709637557701864,
          0.3426959530534728,
          0.9211580375417642,
          0.27328726634325784,
          0.06751504262193304,
          0.2289622866600666,
          0.11398646508503636,
          0.10898149402154013,
          0.3356215895075776,
          0.15400092634613474,
          0.08503547693813972,
          0.20205750778123296,
          0.11081001086373025,
          0.16145675458663858
         ],
         "yaxis": "y"
        },
        {
         "hovertemplate": "Continent=Oceania<br>Country=%{x}<br>LossFunctCheck=%{y}<extra></extra>",
         "legendgroup": "Oceania",
         "marker": {
          "color": "#ab63fa",
          "symbol": "circle"
         },
         "mode": "markers",
         "name": "Oceania",
         "orientation": "v",
         "showlegend": true,
         "type": "scatter",
         "x": [
          "American Samoa",
          "Australia",
          "Cook Islands",
          "Fiji",
          "French Polynesia",
          "Guam",
          "Kiribati",
          "Marshall Islands",
          "Micronesia",
          "Nauru",
          "New Caledonia",
          "New Zealand",
          "Niue",
          "Northern Mariana Islands",
          "Palau",
          "Papua New Guinea",
          "Samoa",
          "Solomon Islands",
          "Tokelau",
          "Tonga",
          "Tuvalu",
          "Vanuatu",
          "Wallis & Futuna"
         ],
         "xaxis": "x",
         "y": [
          0.06988384384560457,
          0.12944229726114276,
          0.2079363518480848,
          0.11378422668403738,
          0.07593170910597764,
          0.25941131853694993,
          0.0944884013825149,
          0.07828149008057773,
          0.19018317172218302,
          0.1324277329789839,
          0.17537696032924352,
          0.27316199037863137,
          0.10001265370509775,
          0.12886440843290597,
          0.15458006365309132,
          0.24494608184813915,
          0.07937620165792064,
          0.03884975031100425,
          0.09122295607817103,
          0.10851660613232784,
          0.11678827564827758,
          0.09919445137406885,
          0.06943879146471
         ],
         "yaxis": "y"
        },
        {
         "hovertemplate": "Continent=Latin America and the Caribbean<br>Country=%{x}<br>LossFunctCheck=%{y}<extra></extra>",
         "legendgroup": "Latin America and the Caribbean",
         "marker": {
          "color": "#FFA15A",
          "symbol": "circle"
         },
         "mode": "markers",
         "name": "Latin America and the Caribbean",
         "orientation": "v",
         "showlegend": true,
         "type": "scatter",
         "x": [
          "Anguilla",
          "Antigua and Barbuda",
          "Argentina",
          "Aruba",
          "Bahamas",
          "Barbados",
          "Belize",
          "Bolivia",
          "Brazil",
          "British Virgin Islands",
          "Caribbean Netherlands",
          "Cayman Islands",
          "Chile",
          "Colombia",
          "Costa Rica",
          "Cuba",
          "Curaçao",
          "Dominica",
          "Dominican Republic",
          "Ecuador",
          "El Salvador",
          "Falkland Islands",
          "French Guiana",
          "Grenada",
          "Guadeloupe",
          "Guatemala",
          "Guyana",
          "Haiti",
          "Honduras",
          "Jamaica",
          "Martinique",
          "Mexico",
          "Montserrat",
          "Nicaragua",
          "Panama",
          "Paraguay",
          "Peru",
          "Puerto Rico",
          "Saint Kitts & Nevis",
          "Saint Lucia",
          "Saint Martin",
          "Sint Maarten",
          "St. Vincent & Grenadines",
          "Suriname",
          "Trinidad and Tobago",
          "Turks and Caicos",
          "U.S. Virgin Islands",
          "Uruguay",
          "Venezuela"
         ],
         "xaxis": "x",
         "y": [
          0.09362646723414358,
          0.2553100366677729,
          0.09037601372040625,
          0.5163858742118478,
          0.3416321043383006,
          0.1380460991761979,
          0.08369540786368351,
          0.04110178863741717,
          0.061136168840989276,
          0.06735151683098384,
          0.1514482089770157,
          0.04340805240378792,
          0.08890401286891358,
          0.08877869959011032,
          0.08984097445675086,
          0.10586770459407048,
          0.175744047707547,
          0.07687999396840924,
          0.025382652444058153,
          0.0735688938233046,
          0.0664651971045519,
          0.08576878551235988,
          0.08662945591791958,
          0.20915209069674748,
          0.290648605059848,
          0.03432722446501748,
          0.08987792012811113,
          0.030191421304585225,
          0.03848645283058908,
          0.1167146175886858,
          0.35708107459573846,
          0.05994051930623113,
          0.21911846104126412,
          0.051423392633091015,
          0.022935610870001743,
          0.07412543511827557,
          0.18216708346007585,
          0.07447042815858151,
          0.12308867384595656,
          0.08365688734925342,
          0.16995943698875848,
          0.10802562042609125,
          0.05572579086316958,
          0.2280731380277238,
          0.09406059194915538,
          0.05888754361918661,
          0.16144605268958714,
          0.13112308001064432,
          0.08760859329355701
         ],
         "yaxis": "y"
        },
        {
         "hovertemplate": "Continent=Northern America<br>Country=%{x}<br>LossFunctCheck=%{y}<extra></extra>",
         "legendgroup": "Northern America",
         "marker": {
          "color": "#19d3f3",
          "symbol": "circle"
         },
         "mode": "markers",
         "name": "Northern America",
         "orientation": "v",
         "showlegend": true,
         "type": "scatter",
         "x": [
          "Bermuda",
          "Canada",
          "Greenland",
          "Saint Pierre & Miquelon",
          "United States"
         ],
         "xaxis": "x",
         "y": [
          0.029978261005048013,
          0.09095334493346761,
          0.06163451119753973,
          0.06711215806787217,
          0.2686286232331629
         ],
         "yaxis": "y"
        },
        {
         "hovertemplate": "Continent=North America<br>Country=%{x}<br>LossFunctCheck=%{y}<extra></extra>",
         "legendgroup": "North America",
         "marker": {
          "color": "#FF6692",
          "symbol": "circle"
         },
         "mode": "markers",
         "name": "North America",
         "orientation": "v",
         "showlegend": true,
         "type": "scatter",
         "x": [
          "Saint Barthelemy"
         ],
         "xaxis": "x",
         "y": [
          0.061920114580145014
         ],
         "yaxis": "y"
        }
       ],
       "layout": {
        "legend": {
         "title": {
          "text": "Continent"
         },
         "tracegroupgap": 0
        },
        "margin": {
         "t": 60
        },
        "template": {
         "data": {
          "bar": [
           {
            "error_x": {
             "color": "#2a3f5f"
            },
            "error_y": {
             "color": "#2a3f5f"
            },
            "marker": {
             "line": {
              "color": "#E5ECF6",
              "width": 0.5
             },
             "pattern": {
              "fillmode": "overlay",
              "size": 10,
              "solidity": 0.2
             }
            },
            "type": "bar"
           }
          ],
          "barpolar": [
           {
            "marker": {
             "line": {
              "color": "#E5ECF6",
              "width": 0.5
             },
             "pattern": {
              "fillmode": "overlay",
              "size": 10,
              "solidity": 0.2
             }
            },
            "type": "barpolar"
           }
          ],
          "carpet": [
           {
            "aaxis": {
             "endlinecolor": "#2a3f5f",
             "gridcolor": "white",
             "linecolor": "white",
             "minorgridcolor": "white",
             "startlinecolor": "#2a3f5f"
            },
            "baxis": {
             "endlinecolor": "#2a3f5f",
             "gridcolor": "white",
             "linecolor": "white",
             "minorgridcolor": "white",
             "startlinecolor": "#2a3f5f"
            },
            "type": "carpet"
           }
          ],
          "choropleth": [
           {
            "colorbar": {
             "outlinewidth": 0,
             "ticks": ""
            },
            "type": "choropleth"
           }
          ],
          "contour": [
           {
            "colorbar": {
             "outlinewidth": 0,
             "ticks": ""
            },
            "colorscale": [
             [
              0,
              "#0d0887"
             ],
             [
              0.1111111111111111,
              "#46039f"
             ],
             [
              0.2222222222222222,
              "#7201a8"
             ],
             [
              0.3333333333333333,
              "#9c179e"
             ],
             [
              0.4444444444444444,
              "#bd3786"
             ],
             [
              0.5555555555555556,
              "#d8576b"
             ],
             [
              0.6666666666666666,
              "#ed7953"
             ],
             [
              0.7777777777777778,
              "#fb9f3a"
             ],
             [
              0.8888888888888888,
              "#fdca26"
             ],
             [
              1,
              "#f0f921"
             ]
            ],
            "type": "contour"
           }
          ],
          "contourcarpet": [
           {
            "colorbar": {
             "outlinewidth": 0,
             "ticks": ""
            },
            "type": "contourcarpet"
           }
          ],
          "heatmap": [
           {
            "colorbar": {
             "outlinewidth": 0,
             "ticks": ""
            },
            "colorscale": [
             [
              0,
              "#0d0887"
             ],
             [
              0.1111111111111111,
              "#46039f"
             ],
             [
              0.2222222222222222,
              "#7201a8"
             ],
             [
              0.3333333333333333,
              "#9c179e"
             ],
             [
              0.4444444444444444,
              "#bd3786"
             ],
             [
              0.5555555555555556,
              "#d8576b"
             ],
             [
              0.6666666666666666,
              "#ed7953"
             ],
             [
              0.7777777777777778,
              "#fb9f3a"
             ],
             [
              0.8888888888888888,
              "#fdca26"
             ],
             [
              1,
              "#f0f921"
             ]
            ],
            "type": "heatmap"
           }
          ],
          "heatmapgl": [
           {
            "colorbar": {
             "outlinewidth": 0,
             "ticks": ""
            },
            "colorscale": [
             [
              0,
              "#0d0887"
             ],
             [
              0.1111111111111111,
              "#46039f"
             ],
             [
              0.2222222222222222,
              "#7201a8"
             ],
             [
              0.3333333333333333,
              "#9c179e"
             ],
             [
              0.4444444444444444,
              "#bd3786"
             ],
             [
              0.5555555555555556,
              "#d8576b"
             ],
             [
              0.6666666666666666,
              "#ed7953"
             ],
             [
              0.7777777777777778,
              "#fb9f3a"
             ],
             [
              0.8888888888888888,
              "#fdca26"
             ],
             [
              1,
              "#f0f921"
             ]
            ],
            "type": "heatmapgl"
           }
          ],
          "histogram": [
           {
            "marker": {
             "pattern": {
              "fillmode": "overlay",
              "size": 10,
              "solidity": 0.2
             }
            },
            "type": "histogram"
           }
          ],
          "histogram2d": [
           {
            "colorbar": {
             "outlinewidth": 0,
             "ticks": ""
            },
            "colorscale": [
             [
              0,
              "#0d0887"
             ],
             [
              0.1111111111111111,
              "#46039f"
             ],
             [
              0.2222222222222222,
              "#7201a8"
             ],
             [
              0.3333333333333333,
              "#9c179e"
             ],
             [
              0.4444444444444444,
              "#bd3786"
             ],
             [
              0.5555555555555556,
              "#d8576b"
             ],
             [
              0.6666666666666666,
              "#ed7953"
             ],
             [
              0.7777777777777778,
              "#fb9f3a"
             ],
             [
              0.8888888888888888,
              "#fdca26"
             ],
             [
              1,
              "#f0f921"
             ]
            ],
            "type": "histogram2d"
           }
          ],
          "histogram2dcontour": [
           {
            "colorbar": {
             "outlinewidth": 0,
             "ticks": ""
            },
            "colorscale": [
             [
              0,
              "#0d0887"
             ],
             [
              0.1111111111111111,
              "#46039f"
             ],
             [
              0.2222222222222222,
              "#7201a8"
             ],
             [
              0.3333333333333333,
              "#9c179e"
             ],
             [
              0.4444444444444444,
              "#bd3786"
             ],
             [
              0.5555555555555556,
              "#d8576b"
             ],
             [
              0.6666666666666666,
              "#ed7953"
             ],
             [
              0.7777777777777778,
              "#fb9f3a"
             ],
             [
              0.8888888888888888,
              "#fdca26"
             ],
             [
              1,
              "#f0f921"
             ]
            ],
            "type": "histogram2dcontour"
           }
          ],
          "mesh3d": [
           {
            "colorbar": {
             "outlinewidth": 0,
             "ticks": ""
            },
            "type": "mesh3d"
           }
          ],
          "parcoords": [
           {
            "line": {
             "colorbar": {
              "outlinewidth": 0,
              "ticks": ""
             }
            },
            "type": "parcoords"
           }
          ],
          "pie": [
           {
            "automargin": true,
            "type": "pie"
           }
          ],
          "scatter": [
           {
            "fillpattern": {
             "fillmode": "overlay",
             "size": 10,
             "solidity": 0.2
            },
            "type": "scatter"
           }
          ],
          "scatter3d": [
           {
            "line": {
             "colorbar": {
              "outlinewidth": 0,
              "ticks": ""
             }
            },
            "marker": {
             "colorbar": {
              "outlinewidth": 0,
              "ticks": ""
             }
            },
            "type": "scatter3d"
           }
          ],
          "scattercarpet": [
           {
            "marker": {
             "colorbar": {
              "outlinewidth": 0,
              "ticks": ""
             }
            },
            "type": "scattercarpet"
           }
          ],
          "scattergeo": [
           {
            "marker": {
             "colorbar": {
              "outlinewidth": 0,
              "ticks": ""
             }
            },
            "type": "scattergeo"
           }
          ],
          "scattergl": [
           {
            "marker": {
             "colorbar": {
              "outlinewidth": 0,
              "ticks": ""
             }
            },
            "type": "scattergl"
           }
          ],
          "scattermapbox": [
           {
            "marker": {
             "colorbar": {
              "outlinewidth": 0,
              "ticks": ""
             }
            },
            "type": "scattermapbox"
           }
          ],
          "scatterpolar": [
           {
            "marker": {
             "colorbar": {
              "outlinewidth": 0,
              "ticks": ""
             }
            },
            "type": "scatterpolar"
           }
          ],
          "scatterpolargl": [
           {
            "marker": {
             "colorbar": {
              "outlinewidth": 0,
              "ticks": ""
             }
            },
            "type": "scatterpolargl"
           }
          ],
          "scatterternary": [
           {
            "marker": {
             "colorbar": {
              "outlinewidth": 0,
              "ticks": ""
             }
            },
            "type": "scatterternary"
           }
          ],
          "surface": [
           {
            "colorbar": {
             "outlinewidth": 0,
             "ticks": ""
            },
            "colorscale": [
             [
              0,
              "#0d0887"
             ],
             [
              0.1111111111111111,
              "#46039f"
             ],
             [
              0.2222222222222222,
              "#7201a8"
             ],
             [
              0.3333333333333333,
              "#9c179e"
             ],
             [
              0.4444444444444444,
              "#bd3786"
             ],
             [
              0.5555555555555556,
              "#d8576b"
             ],
             [
              0.6666666666666666,
              "#ed7953"
             ],
             [
              0.7777777777777778,
              "#fb9f3a"
             ],
             [
              0.8888888888888888,
              "#fdca26"
             ],
             [
              1,
              "#f0f921"
             ]
            ],
            "type": "surface"
           }
          ],
          "table": [
           {
            "cells": {
             "fill": {
              "color": "#EBF0F8"
             },
             "line": {
              "color": "white"
             }
            },
            "header": {
             "fill": {
              "color": "#C8D4E3"
             },
             "line": {
              "color": "white"
             }
            },
            "type": "table"
           }
          ]
         },
         "layout": {
          "annotationdefaults": {
           "arrowcolor": "#2a3f5f",
           "arrowhead": 0,
           "arrowwidth": 1
          },
          "autotypenumbers": "strict",
          "coloraxis": {
           "colorbar": {
            "outlinewidth": 0,
            "ticks": ""
           }
          },
          "colorscale": {
           "diverging": [
            [
             0,
             "#8e0152"
            ],
            [
             0.1,
             "#c51b7d"
            ],
            [
             0.2,
             "#de77ae"
            ],
            [
             0.3,
             "#f1b6da"
            ],
            [
             0.4,
             "#fde0ef"
            ],
            [
             0.5,
             "#f7f7f7"
            ],
            [
             0.6,
             "#e6f5d0"
            ],
            [
             0.7,
             "#b8e186"
            ],
            [
             0.8,
             "#7fbc41"
            ],
            [
             0.9,
             "#4d9221"
            ],
            [
             1,
             "#276419"
            ]
           ],
           "sequential": [
            [
             0,
             "#0d0887"
            ],
            [
             0.1111111111111111,
             "#46039f"
            ],
            [
             0.2222222222222222,
             "#7201a8"
            ],
            [
             0.3333333333333333,
             "#9c179e"
            ],
            [
             0.4444444444444444,
             "#bd3786"
            ],
            [
             0.5555555555555556,
             "#d8576b"
            ],
            [
             0.6666666666666666,
             "#ed7953"
            ],
            [
             0.7777777777777778,
             "#fb9f3a"
            ],
            [
             0.8888888888888888,
             "#fdca26"
            ],
            [
             1,
             "#f0f921"
            ]
           ],
           "sequentialminus": [
            [
             0,
             "#0d0887"
            ],
            [
             0.1111111111111111,
             "#46039f"
            ],
            [
             0.2222222222222222,
             "#7201a8"
            ],
            [
             0.3333333333333333,
             "#9c179e"
            ],
            [
             0.4444444444444444,
             "#bd3786"
            ],
            [
             0.5555555555555556,
             "#d8576b"
            ],
            [
             0.6666666666666666,
             "#ed7953"
            ],
            [
             0.7777777777777778,
             "#fb9f3a"
            ],
            [
             0.8888888888888888,
             "#fdca26"
            ],
            [
             1,
             "#f0f921"
            ]
           ]
          },
          "colorway": [
           "#636efa",
           "#EF553B",
           "#00cc96",
           "#ab63fa",
           "#FFA15A",
           "#19d3f3",
           "#FF6692",
           "#B6E880",
           "#FF97FF",
           "#FECB52"
          ],
          "font": {
           "color": "#2a3f5f"
          },
          "geo": {
           "bgcolor": "white",
           "lakecolor": "white",
           "landcolor": "#E5ECF6",
           "showlakes": true,
           "showland": true,
           "subunitcolor": "white"
          },
          "hoverlabel": {
           "align": "left"
          },
          "hovermode": "closest",
          "mapbox": {
           "style": "light"
          },
          "paper_bgcolor": "white",
          "plot_bgcolor": "#E5ECF6",
          "polar": {
           "angularaxis": {
            "gridcolor": "white",
            "linecolor": "white",
            "ticks": ""
           },
           "bgcolor": "#E5ECF6",
           "radialaxis": {
            "gridcolor": "white",
            "linecolor": "white",
            "ticks": ""
           }
          },
          "scene": {
           "xaxis": {
            "backgroundcolor": "#E5ECF6",
            "gridcolor": "white",
            "gridwidth": 2,
            "linecolor": "white",
            "showbackground": true,
            "ticks": "",
            "zerolinecolor": "white"
           },
           "yaxis": {
            "backgroundcolor": "#E5ECF6",
            "gridcolor": "white",
            "gridwidth": 2,
            "linecolor": "white",
            "showbackground": true,
            "ticks": "",
            "zerolinecolor": "white"
           },
           "zaxis": {
            "backgroundcolor": "#E5ECF6",
            "gridcolor": "white",
            "gridwidth": 2,
            "linecolor": "white",
            "showbackground": true,
            "ticks": "",
            "zerolinecolor": "white"
           }
          },
          "shapedefaults": {
           "line": {
            "color": "#2a3f5f"
           }
          },
          "ternary": {
           "aaxis": {
            "gridcolor": "white",
            "linecolor": "white",
            "ticks": ""
           },
           "baxis": {
            "gridcolor": "white",
            "linecolor": "white",
            "ticks": ""
           },
           "bgcolor": "#E5ECF6",
           "caxis": {
            "gridcolor": "white",
            "linecolor": "white",
            "ticks": ""
           }
          },
          "title": {
           "x": 0.05
          },
          "xaxis": {
           "automargin": true,
           "gridcolor": "white",
           "linecolor": "white",
           "ticks": "",
           "title": {
            "standoff": 15
           },
           "zerolinecolor": "white",
           "zerolinewidth": 2
          },
          "yaxis": {
           "automargin": true,
           "gridcolor": "white",
           "linecolor": "white",
           "ticks": "",
           "title": {
            "standoff": 15
           },
           "zerolinecolor": "white",
           "zerolinewidth": 2
          }
         }
        },
        "xaxis": {
         "anchor": "y",
         "domain": [
          0,
          1
         ],
         "title": {
          "text": "Country"
         },
         "visible": false
        },
        "yaxis": {
         "anchor": "x",
         "domain": [
          0,
          1
         ],
         "range": [
          0,
          5
         ],
         "title": {
          "text": "LossFunctCheck"
         }
        }
       }
      }
     },
     "metadata": {},
     "output_type": "display_data"
    }
   ],
   "source": [
    "fig=px.scatter(LD2[LD2['Year']==2050], x=\"Country\", y=\"LossFunctCheck\",range_y=[0,5],\n",
    "        color=\"Continent\")\n",
    "\n",
    "fig.update_xaxes(visible=False)\n",
    "fig.show()"
   ]
  },
  {
   "attachments": {},
   "cell_type": "markdown",
   "metadata": {},
   "source": [
    "**Nhận xét**\n",
    "\n",
    "Có vẻ dân số sẽ tăng đều theo xu hướng của biểu đồ?\n",
    "\n",
    "Điểm trừ của LD2 : Overfit, không phù hợp để chuẩn đoán các mốc thời gian xa hơn, vì ta dự đoán tới năm 2050. Tuy nhiên rất tốt để chuẩn đoán các giá trị liền kề, nhất là năm 2022 (Hiện tại) từ dữ liệu tới năm 2020."
   ]
  },
  {
   "attachments": {},
   "cell_type": "markdown",
   "metadata": {},
   "source": [
    "### **Đưa ra giải pháp tối ưu mô hình**\n",
    "\n",
    "Giả thuyết về độ mất mát lớn: Dữ liệu được thu thập vào năm 1950, là năm hậu chiến tranh thế giới thứ 2 và vẫn còn diễn ra xung đột vũ trang ở một số quốc gia và vùng lãnh thổ, dẫn đến biến động về dân số.\n",
    "\n",
    "Vì thế ta đặt mốc ổn định của thế giới là năm 1990 (tình hình thế giới có thể được coi là ít xung độ vũ trang) để cải tiến dự đoán của mô hình Hồi quy Tuyến tính."
   ]
  },
  {
   "cell_type": "code",
   "execution_count": 29,
   "metadata": {},
   "outputs": [
    {
     "data": {
      "text/html": [
       "<div>\n",
       "<style scoped>\n",
       "    .dataframe tbody tr th:only-of-type {\n",
       "        vertical-align: middle;\n",
       "    }\n",
       "\n",
       "    .dataframe tbody tr th {\n",
       "        vertical-align: top;\n",
       "    }\n",
       "\n",
       "    .dataframe thead th {\n",
       "        text-align: right;\n",
       "    }\n",
       "</style>\n",
       "<table border=\"1\" class=\"dataframe\">\n",
       "  <thead>\n",
       "    <tr style=\"text-align: right;\">\n",
       "      <th></th>\n",
       "      <th>Year</th>\n",
       "      <th>YearlyChange</th>\n",
       "      <th>Migrants(net)</th>\n",
       "      <th>MedianAge</th>\n",
       "      <th>FertilityRate</th>\n",
       "      <th>UrbanPopulation</th>\n",
       "      <th>Yearly%Change</th>\n",
       "      <th>UrbanPop%</th>\n",
       "      <th>Country</th>\n",
       "      <th>Continent</th>\n",
       "      <th>LossFunctCheck</th>\n",
       "      <th>Population</th>\n",
       "    </tr>\n",
       "  </thead>\n",
       "  <tbody>\n",
       "    <tr>\n",
       "      <th>0</th>\n",
       "      <td>2025</td>\n",
       "      <td>1.043706e+06</td>\n",
       "      <td>-70941.417972</td>\n",
       "      <td>17.952350</td>\n",
       "      <td>4.538854</td>\n",
       "      <td>1.089753e+07</td>\n",
       "      <td>2.420311</td>\n",
       "      <td>25.270914</td>\n",
       "      <td>Afghanistan</td>\n",
       "      <td>Asia</td>\n",
       "      <td>0.438159</td>\n",
       "      <td>4.312282e+07</td>\n",
       "    </tr>\n",
       "    <tr>\n",
       "      <th>1</th>\n",
       "      <td>2030</td>\n",
       "      <td>1.116381e+06</td>\n",
       "      <td>-89952.464963</td>\n",
       "      <td>18.336933</td>\n",
       "      <td>4.027601</td>\n",
       "      <td>1.212830e+07</td>\n",
       "      <td>2.351515</td>\n",
       "      <td>25.546706</td>\n",
       "      <td>Afghanistan</td>\n",
       "      <td>Asia</td>\n",
       "      <td>0.438159</td>\n",
       "      <td>4.747499e+07</td>\n",
       "    </tr>\n",
       "    <tr>\n",
       "      <th>2</th>\n",
       "      <td>2035</td>\n",
       "      <td>1.189056e+06</td>\n",
       "      <td>-108963.511954</td>\n",
       "      <td>18.721517</td>\n",
       "      <td>3.516348</td>\n",
       "      <td>1.335906e+07</td>\n",
       "      <td>2.294273</td>\n",
       "      <td>25.776180</td>\n",
       "      <td>Afghanistan</td>\n",
       "      <td>Asia</td>\n",
       "      <td>0.438159</td>\n",
       "      <td>5.182715e+07</td>\n",
       "    </tr>\n",
       "    <tr>\n",
       "      <th>3</th>\n",
       "      <td>2040</td>\n",
       "      <td>1.261731e+06</td>\n",
       "      <td>-127974.558945</td>\n",
       "      <td>19.106101</td>\n",
       "      <td>3.005095</td>\n",
       "      <td>1.458982e+07</td>\n",
       "      <td>2.245900</td>\n",
       "      <td>25.970099</td>\n",
       "      <td>Afghanistan</td>\n",
       "      <td>Asia</td>\n",
       "      <td>0.438159</td>\n",
       "      <td>5.617932e+07</td>\n",
       "    </tr>\n",
       "    <tr>\n",
       "      <th>4</th>\n",
       "      <td>2050</td>\n",
       "      <td>1.407081e+06</td>\n",
       "      <td>-165996.652927</td>\n",
       "      <td>19.875268</td>\n",
       "      <td>1.982589</td>\n",
       "      <td>1.705135e+07</td>\n",
       "      <td>2.168622</td>\n",
       "      <td>26.279893</td>\n",
       "      <td>Afghanistan</td>\n",
       "      <td>Asia</td>\n",
       "      <td>0.438159</td>\n",
       "      <td>6.488365e+07</td>\n",
       "    </tr>\n",
       "    <tr>\n",
       "      <th>...</th>\n",
       "      <td>...</td>\n",
       "      <td>...</td>\n",
       "      <td>...</td>\n",
       "      <td>...</td>\n",
       "      <td>...</td>\n",
       "      <td>...</td>\n",
       "      <td>...</td>\n",
       "      <td>...</td>\n",
       "      <td>...</td>\n",
       "      <td>...</td>\n",
       "      <td>...</td>\n",
       "      <td>...</td>\n",
       "    </tr>\n",
       "    <tr>\n",
       "      <th>1170</th>\n",
       "      <td>2025</td>\n",
       "      <td>1.870439e+05</td>\n",
       "      <td>-148825.326463</td>\n",
       "      <td>18.942374</td>\n",
       "      <td>3.607345</td>\n",
       "      <td>6.033273e+06</td>\n",
       "      <td>1.221004</td>\n",
       "      <td>39.384611</td>\n",
       "      <td>Zimbabwe</td>\n",
       "      <td>Africa</td>\n",
       "      <td>3.104178</td>\n",
       "      <td>1.531886e+07</td>\n",
       "    </tr>\n",
       "    <tr>\n",
       "      <th>1171</th>\n",
       "      <td>2030</td>\n",
       "      <td>1.876839e+05</td>\n",
       "      <td>-164660.079143</td>\n",
       "      <td>19.167848</td>\n",
       "      <td>3.451781</td>\n",
       "      <td>6.451871e+06</td>\n",
       "      <td>1.171257</td>\n",
       "      <td>40.263437</td>\n",
       "      <td>Zimbabwe</td>\n",
       "      <td>Africa</td>\n",
       "      <td>3.104178</td>\n",
       "      <td>1.602414e+07</td>\n",
       "    </tr>\n",
       "    <tr>\n",
       "      <th>1172</th>\n",
       "      <td>2035</td>\n",
       "      <td>1.883239e+05</td>\n",
       "      <td>-180494.831822</td>\n",
       "      <td>19.393322</td>\n",
       "      <td>3.296216</td>\n",
       "      <td>6.870469e+06</td>\n",
       "      <td>1.125704</td>\n",
       "      <td>41.068164</td>\n",
       "      <td>Zimbabwe</td>\n",
       "      <td>Africa</td>\n",
       "      <td>3.104178</td>\n",
       "      <td>1.672943e+07</td>\n",
       "    </tr>\n",
       "    <tr>\n",
       "      <th>1173</th>\n",
       "      <td>2040</td>\n",
       "      <td>1.889639e+05</td>\n",
       "      <td>-196329.584501</td>\n",
       "      <td>19.618796</td>\n",
       "      <td>3.140651</td>\n",
       "      <td>7.289066e+06</td>\n",
       "      <td>1.083837</td>\n",
       "      <td>41.807785</td>\n",
       "      <td>Zimbabwe</td>\n",
       "      <td>Africa</td>\n",
       "      <td>3.104178</td>\n",
       "      <td>1.743471e+07</td>\n",
       "    </tr>\n",
       "    <tr>\n",
       "      <th>1174</th>\n",
       "      <td>2050</td>\n",
       "      <td>1.902439e+05</td>\n",
       "      <td>-227999.089860</td>\n",
       "      <td>20.069744</td>\n",
       "      <td>2.829522</td>\n",
       "      <td>8.126262e+06</td>\n",
       "      <td>1.009504</td>\n",
       "      <td>43.120943</td>\n",
       "      <td>Zimbabwe</td>\n",
       "      <td>Africa</td>\n",
       "      <td>3.104178</td>\n",
       "      <td>1.884528e+07</td>\n",
       "    </tr>\n",
       "  </tbody>\n",
       "</table>\n",
       "<p>1175 rows × 12 columns</p>\n",
       "</div>"
      ],
      "text/plain": [
       "      Year  YearlyChange  Migrants(net)  MedianAge  FertilityRate  \\\n",
       "0     2025  1.043706e+06  -70941.417972  17.952350       4.538854   \n",
       "1     2030  1.116381e+06  -89952.464963  18.336933       4.027601   \n",
       "2     2035  1.189056e+06 -108963.511954  18.721517       3.516348   \n",
       "3     2040  1.261731e+06 -127974.558945  19.106101       3.005095   \n",
       "4     2050  1.407081e+06 -165996.652927  19.875268       1.982589   \n",
       "...    ...           ...            ...        ...            ...   \n",
       "1170  2025  1.870439e+05 -148825.326463  18.942374       3.607345   \n",
       "1171  2030  1.876839e+05 -164660.079143  19.167848       3.451781   \n",
       "1172  2035  1.883239e+05 -180494.831822  19.393322       3.296216   \n",
       "1173  2040  1.889639e+05 -196329.584501  19.618796       3.140651   \n",
       "1174  2050  1.902439e+05 -227999.089860  20.069744       2.829522   \n",
       "\n",
       "      UrbanPopulation  Yearly%Change  UrbanPop%      Country Continent  \\\n",
       "0        1.089753e+07       2.420311  25.270914  Afghanistan      Asia   \n",
       "1        1.212830e+07       2.351515  25.546706  Afghanistan      Asia   \n",
       "2        1.335906e+07       2.294273  25.776180  Afghanistan      Asia   \n",
       "3        1.458982e+07       2.245900  25.970099  Afghanistan      Asia   \n",
       "4        1.705135e+07       2.168622  26.279893  Afghanistan      Asia   \n",
       "...               ...            ...        ...          ...       ...   \n",
       "1170     6.033273e+06       1.221004  39.384611     Zimbabwe    Africa   \n",
       "1171     6.451871e+06       1.171257  40.263437     Zimbabwe    Africa   \n",
       "1172     6.870469e+06       1.125704  41.068164     Zimbabwe    Africa   \n",
       "1173     7.289066e+06       1.083837  41.807785     Zimbabwe    Africa   \n",
       "1174     8.126262e+06       1.009504  43.120943     Zimbabwe    Africa   \n",
       "\n",
       "      LossFunctCheck    Population  \n",
       "0           0.438159  4.312282e+07  \n",
       "1           0.438159  4.747499e+07  \n",
       "2           0.438159  5.182715e+07  \n",
       "3           0.438159  5.617932e+07  \n",
       "4           0.438159  6.488365e+07  \n",
       "...              ...           ...  \n",
       "1170        3.104178  1.531886e+07  \n",
       "1171        3.104178  1.602414e+07  \n",
       "1172        3.104178  1.672943e+07  \n",
       "1173        3.104178  1.743471e+07  \n",
       "1174        3.104178  1.884528e+07  \n",
       "\n",
       "[1175 rows x 12 columns]"
      ]
     },
     "execution_count": 29,
     "metadata": {},
     "output_type": "execute_result"
    }
   ],
   "source": [
    "LD3=[i for i in gen_linear(df[df['Year']>=1990],linear_regression_1,[2025,2030,2035,2040,2050]) ]\n",
    "LD3=pd.DataFrame(LD3)\n",
    "LD3"
   ]
  },
  {
   "cell_type": "code",
   "execution_count": 30,
   "metadata": {},
   "outputs": [
    {
     "data": {
      "application/vnd.plotly.v1+json": {
       "config": {
        "plotlyServerURL": "https://plot.ly"
       },
       "data": [
        {
         "hovertemplate": "Continent=Asia<br>Country=%{x}<br>LossFunctCheck=%{y}<extra></extra>",
         "legendgroup": "Asia",
         "marker": {
          "color": "#636efa",
          "symbol": "circle"
         },
         "mode": "markers",
         "name": "Asia",
         "orientation": "v",
         "showlegend": true,
         "type": "scatter",
         "x": [
          "Afghanistan",
          "Armenia",
          "Azerbaijan",
          "Bahrain",
          "Bangladesh",
          "Bhutan",
          "Brunei ",
          "Cambodia",
          "China",
          "Cyprus",
          "Georgia",
          "Hong Kong",
          "India",
          "Indonesia",
          "Iran",
          "Iraq",
          "Israel",
          "Japan",
          "Jordan",
          "Kazakhstan",
          "Kuwait",
          "Kyrgyzstan",
          "Laos",
          "Lebanon",
          "Macao",
          "Malaysia",
          "Maldives",
          "Mongolia",
          "Myanmar",
          "Nepal",
          "North Korea",
          "Oman",
          "Pakistan",
          "Philippines",
          "Qatar",
          "Saudi Arabia",
          "Singapore",
          "South Korea",
          "Sri Lanka",
          "State of Palestine",
          "Syria",
          "Taiwan",
          "Tajikistan",
          "Thailand",
          "Timor-Leste",
          "Turkey",
          "Turkmenistan",
          "United Arab Emirates",
          "Uzbekistan",
          "Vietnam",
          "Yemen"
         ],
         "xaxis": "x",
         "y": [
          0.43815909062991926,
          0.31340458521369774,
          0.6028059833943894,
          0.10418826757874179,
          0.08665521563533041,
          1.5667620303719099,
          0.07531780203246845,
          0.15979189711605277,
          0.0854611572030005,
          0.2343542460097611,
          0.302995916168777,
          0.24346505356244494,
          0.05399767392377433,
          0.3137178983849876,
          0.27469806619604664,
          0.1789709681534201,
          0.26576823785298864,
          0.15099232353502975,
          3.0570416282076356,
          0.18117129069137783,
          0.23889904207545357,
          0.13302644536882968,
          0.6327615716199527,
          2.0058683413463805,
          0.8527546983499977,
          0.17238756145155862,
          0.09384027738253814,
          0.1729765373346274,
          0.1598638816824466,
          0.8117466676916895,
          0.04993160625955783,
          0.142386097811575,
          0.0745669840266316,
          0.3259966628255395,
          0.3024540331103581,
          0.26408792076348303,
          0.6509469444713228,
          0.5106675230529912,
          0.07697438699996455,
          0.24108002203609083,
          0.27669346684779494,
          0.10459750762402108,
          0.24632986687449657,
          0.45906268155013313,
          0.3860660301995558,
          0.12218384348941558,
          8.846237594245093,
          4.755592829476298,
          0.12722586565463906,
          0.4757499660598288,
          0.13233677843706365
         ],
         "yaxis": "y"
        },
        {
         "hovertemplate": "Continent=Europe<br>Country=%{x}<br>LossFunctCheck=%{y}<extra></extra>",
         "legendgroup": "Europe",
         "marker": {
          "color": "#EF553B",
          "symbol": "circle"
         },
         "mode": "markers",
         "name": "Europe",
         "orientation": "v",
         "showlegend": true,
         "type": "scatter",
         "x": [
          "Albania",
          "Andorra",
          "Austria",
          "Belarus",
          "Belgium",
          "Bosnia and Herzegovina",
          "Bulgaria",
          "Channel Islands",
          "Croatia",
          "Czech Republic (Czechia)",
          "Denmark",
          "Estonia",
          "Faeroe Islands",
          "Finland",
          "France",
          "Germany",
          "Gibraltar",
          "Greece",
          "Holy See",
          "Hungary",
          "Iceland",
          "Ireland",
          "Isle of Man",
          "Italy",
          "Latvia",
          "Liechtenstein",
          "Lithuania",
          "Luxembourg",
          "Malta",
          "Moldova",
          "Monaco",
          "Montenegro",
          "Netherlands",
          "North Macedonia",
          "Norway",
          "Poland",
          "Portugal",
          "Romania",
          "Russia",
          "San Marino",
          "Serbia",
          "Slovakia",
          "Slovenia",
          "Spain",
          "Sweden",
          "Switzerland",
          "Ukraine",
          "United Kingdom"
         ],
         "xaxis": "x",
         "y": [
          0.2993544312282365,
          0.14153820158739608,
          0.146234042528322,
          8.880596480793292,
          0.09781248535780666,
          1.4173099733527488,
          0.2616710197474651,
          0.15763931526166258,
          0.42422306152518674,
          0.2772970375205464,
          0.1462463326329301,
          0.26926676052325976,
          0.6738375494293788,
          0.14411946441498924,
          0.5672833753977201,
          0.3797929800732524,
          0.24035201530622408,
          0.3961335127150892,
          0.056228281600456474,
          2.8948710582001866,
          0.6433779863738021,
          0.194269678915761,
          0.09661122825315156,
          0.7697211719803331,
          0.22353706271999685,
          0.0621354206089526,
          0.07743534264327462,
          0.06466287137839037,
          0.22455378522952565,
          0.2091226928838571,
          0.07070489389251174,
          1.25444967257587,
          0.07019934190791645,
          0.27325163260073243,
          0.09977080114251129,
          0.35887924146006495,
          0.3578388118027496,
          0.6836014196882082,
          0.7722096821340733,
          0.09230127520648863,
          0.6316760870015333,
          0.13920917473953934,
          1.6202817827758047,
          0.5251061004044699,
          0.15517031568033576,
          0.17149985242502008,
          0.2855134522672909,
          0.11736000054803374
         ],
         "yaxis": "y"
        },
        {
         "hovertemplate": "Continent=Africa<br>Country=%{x}<br>LossFunctCheck=%{y}<extra></extra>",
         "legendgroup": "Africa",
         "marker": {
          "color": "#00cc96",
          "symbol": "circle"
         },
         "mode": "markers",
         "name": "Africa",
         "orientation": "v",
         "showlegend": true,
         "type": "scatter",
         "x": [
          "Algeria",
          "Angola",
          "Benin",
          "Botswana",
          "Burkina Faso",
          "Burundi",
          "Cabo Verde",
          "Cameroon",
          "Central African Republic",
          "Chad",
          "Comoros",
          "Congo",
          "Côte d'Ivoire",
          "DR Congo",
          "Djibouti",
          "Egypt",
          "Equatorial Guinea",
          "Eritrea",
          "Eswatini",
          "Ethiopia",
          "Gabon",
          "Gambia",
          "Ghana",
          "Guinea",
          "Guinea-Bissau",
          "Kenya",
          "Lesotho",
          "Liberia",
          "Libya",
          "Madagascar",
          "Malawi",
          "Mali",
          "Mauritania",
          "Mauritius",
          "Mayotte",
          "Morocco",
          "Mozambique",
          "Namibia",
          "Niger",
          "Nigeria",
          "Rwanda",
          "Réunion",
          "Saint Helena",
          "Sao Tome & Principe",
          "Senegal",
          "Seychelles",
          "Sierra Leone",
          "Somalia",
          "South Africa",
          "South Sudan",
          "Sudan",
          "Tanzania",
          "Togo",
          "Tunisia",
          "Uganda",
          "Western Sahara",
          "Zambia",
          "Zimbabwe"
         ],
         "xaxis": "x",
         "y": [
          0.24518186033769004,
          0.10901556191243349,
          0.1214017047266353,
          0.264339810346242,
          0.05827238343825638,
          0.09585854800156109,
          0.2095180376259028,
          0.15991432407718023,
          0.4387240181336393,
          0.7614055904427585,
          0.049103143485210325,
          0.12874927289359298,
          0.10857698105802523,
          0.6541740276580805,
          0.31979048579077923,
          0.19027190505992864,
          0.045110647492797716,
          0.5612469146219963,
          0.11486030568808024,
          0.11888942065745663,
          0.22465083217250362,
          0.07434052225420716,
          1.9805788705094995,
          0.3357594855483321,
          0.05797598964473039,
          0.10652486001024342,
          0.6485610723695586,
          0.27190440431933055,
          0.4704108604534089,
          0.04688522170251871,
          0.3691126716547904,
          0.19392109084624143,
          0.04341254514373832,
          0.12972179971449282,
          0.06932455295024252,
          0.27387855999991256,
          0.19534708257333455,
          0.230341007959722,
          0.06361253952093533,
          0.043100892316781436,
          0.7623372689299684,
          0.10967992342759297,
          0.24427646569337602,
          0.1318109536490454,
          3.683908154718525,
          0.8717960007206251,
          0.44694256210706057,
          0.15543723460219822,
          0.5561471830497282,
          0.5508537423363419,
          0.16364962273071007,
          0.133596237953968,
          0.2835334322714741,
          0.2205207050673126,
          0.12798931781858938,
          1.405093872261885,
          0.19637342963594948,
          3.1041778566058618
         ],
         "yaxis": "y"
        },
        {
         "hovertemplate": "Continent=Oceania<br>Country=%{x}<br>LossFunctCheck=%{y}<extra></extra>",
         "legendgroup": "Oceania",
         "marker": {
          "color": "#ab63fa",
          "symbol": "circle"
         },
         "mode": "markers",
         "name": "Oceania",
         "orientation": "v",
         "showlegend": true,
         "type": "scatter",
         "x": [
          "American Samoa",
          "Australia",
          "Cook Islands",
          "Fiji",
          "French Polynesia",
          "Guam",
          "Kiribati",
          "Marshall Islands",
          "Micronesia",
          "Nauru",
          "New Caledonia",
          "New Zealand",
          "Niue",
          "Northern Mariana Islands",
          "Palau",
          "Papua New Guinea",
          "Samoa",
          "Solomon Islands",
          "Tokelau",
          "Tonga",
          "Tuvalu",
          "Vanuatu",
          "Wallis & Futuna"
         ],
         "xaxis": "x",
         "y": [
          0.21489989640681584,
          0.15699852473690537,
          0.2586578878709696,
          0.6662787594496203,
          0.11444349337200967,
          0.32519614105295874,
          0.20600326899771923,
          0.08184483603516701,
          0.2716462237538851,
          0.3338021433765297,
          0.35005744643487674,
          0.619853946164847,
          0.15199717798881668,
          0.14581197718946057,
          0.222272294998369,
          0.27528246009452034,
          1.3417719610330778,
          0.3755986751287225,
          0.12095780017908368,
          0.20228675775512137,
          0.10185360072922754,
          0.0867942835537082,
          0.09179529132777109
         ],
         "yaxis": "y"
        },
        {
         "hovertemplate": "Continent=Latin America and the Caribbean<br>Country=%{x}<br>LossFunctCheck=%{y}<extra></extra>",
         "legendgroup": "Latin America and the Caribbean",
         "marker": {
          "color": "#FFA15A",
          "symbol": "circle"
         },
         "mode": "markers",
         "name": "Latin America and the Caribbean",
         "orientation": "v",
         "showlegend": true,
         "type": "scatter",
         "x": [
          "Anguilla",
          "Antigua and Barbuda",
          "Argentina",
          "Aruba",
          "Bahamas",
          "Barbados",
          "Belize",
          "Bolivia",
          "Brazil",
          "British Virgin Islands",
          "Caribbean Netherlands",
          "Cayman Islands",
          "Chile",
          "Colombia",
          "Costa Rica",
          "Cuba",
          "Curaçao",
          "Dominica",
          "Dominican Republic",
          "Ecuador",
          "El Salvador",
          "Falkland Islands",
          "French Guiana",
          "Grenada",
          "Guadeloupe",
          "Guatemala",
          "Guyana",
          "Haiti",
          "Honduras",
          "Jamaica",
          "Martinique",
          "Mexico",
          "Montserrat",
          "Nicaragua",
          "Panama",
          "Paraguay",
          "Peru",
          "Puerto Rico",
          "Saint Kitts & Nevis",
          "Saint Lucia",
          "Saint Martin",
          "Sint Maarten",
          "St. Vincent & Grenadines",
          "Suriname",
          "Trinidad and Tobago",
          "Turks and Caicos",
          "U.S. Virgin Islands",
          "Uruguay",
          "Venezuela"
         ],
         "xaxis": "x",
         "y": [
          0.040243475562829076,
          1.9020521069073746,
          0.5097802822040528,
          0.3438317750635922,
          0.27483308514979293,
          0.09642518982663656,
          0.13911765078813507,
          0.13585891630299327,
          0.06136821977155649,
          0.11730836014244783,
          0.2452107776547099,
          0.07395114694718212,
          0.29494690108582994,
          11.385982396911956,
          0.11427077863300528,
          0.2692668774563255,
          0.21498507001207134,
          0.11654832588879893,
          0.07771390465731602,
          0.11454179487846988,
          0.10566721332252739,
          0.1560502994303327,
          0.16494859299278872,
          0.13915777201988908,
          1.0176023992910561,
          0.043471244579837594,
          0.16667671820181684,
          1.563296197709252,
          0.21529217157116434,
          0.07741601880092176,
          0.5130518640040046,
          0.11655760604035914,
          0.23301758358883137,
          0.14972218071177695,
          0.032177712698679535,
          0.06947323285188751,
          0.4133494263284317,
          0.18415197608234912,
          0.08338737846480064,
          0.13558106440535858,
          0.15524855091605674,
          0.19696260394369605,
          0.45976580781474036,
          0.19201904864290142,
          0.23221104971465534,
          0.24394721976294806,
          0.3470744448893803,
          0.31238120213157367,
          0.11406194661135793
         ],
         "yaxis": "y"
        },
        {
         "hovertemplate": "Continent=Northern America<br>Country=%{x}<br>LossFunctCheck=%{y}<extra></extra>",
         "legendgroup": "Northern America",
         "marker": {
          "color": "#19d3f3",
          "symbol": "circle"
         },
         "mode": "markers",
         "name": "Northern America",
         "orientation": "v",
         "showlegend": true,
         "type": "scatter",
         "x": [
          "Bermuda",
          "Canada",
          "Greenland",
          "Saint Pierre & Miquelon",
          "United States"
         ],
         "xaxis": "x",
         "y": [
          0.5524851118976669,
          0.2595810462316996,
          0.13355550084423848,
          0.10964331771680164,
          1.0383420675694304
         ],
         "yaxis": "y"
        },
        {
         "hovertemplate": "Continent=North America<br>Country=%{x}<br>LossFunctCheck=%{y}<extra></extra>",
         "legendgroup": "North America",
         "marker": {
          "color": "#FF6692",
          "symbol": "circle"
         },
         "mode": "markers",
         "name": "North America",
         "orientation": "v",
         "showlegend": true,
         "type": "scatter",
         "x": [
          "Saint Barthelemy"
         ],
         "xaxis": "x",
         "y": [
          0.029350852168064535
         ],
         "yaxis": "y"
        }
       ],
       "layout": {
        "legend": {
         "title": {
          "text": "Continent"
         },
         "tracegroupgap": 0
        },
        "margin": {
         "t": 60
        },
        "template": {
         "data": {
          "bar": [
           {
            "error_x": {
             "color": "#2a3f5f"
            },
            "error_y": {
             "color": "#2a3f5f"
            },
            "marker": {
             "line": {
              "color": "#E5ECF6",
              "width": 0.5
             },
             "pattern": {
              "fillmode": "overlay",
              "size": 10,
              "solidity": 0.2
             }
            },
            "type": "bar"
           }
          ],
          "barpolar": [
           {
            "marker": {
             "line": {
              "color": "#E5ECF6",
              "width": 0.5
             },
             "pattern": {
              "fillmode": "overlay",
              "size": 10,
              "solidity": 0.2
             }
            },
            "type": "barpolar"
           }
          ],
          "carpet": [
           {
            "aaxis": {
             "endlinecolor": "#2a3f5f",
             "gridcolor": "white",
             "linecolor": "white",
             "minorgridcolor": "white",
             "startlinecolor": "#2a3f5f"
            },
            "baxis": {
             "endlinecolor": "#2a3f5f",
             "gridcolor": "white",
             "linecolor": "white",
             "minorgridcolor": "white",
             "startlinecolor": "#2a3f5f"
            },
            "type": "carpet"
           }
          ],
          "choropleth": [
           {
            "colorbar": {
             "outlinewidth": 0,
             "ticks": ""
            },
            "type": "choropleth"
           }
          ],
          "contour": [
           {
            "colorbar": {
             "outlinewidth": 0,
             "ticks": ""
            },
            "colorscale": [
             [
              0,
              "#0d0887"
             ],
             [
              0.1111111111111111,
              "#46039f"
             ],
             [
              0.2222222222222222,
              "#7201a8"
             ],
             [
              0.3333333333333333,
              "#9c179e"
             ],
             [
              0.4444444444444444,
              "#bd3786"
             ],
             [
              0.5555555555555556,
              "#d8576b"
             ],
             [
              0.6666666666666666,
              "#ed7953"
             ],
             [
              0.7777777777777778,
              "#fb9f3a"
             ],
             [
              0.8888888888888888,
              "#fdca26"
             ],
             [
              1,
              "#f0f921"
             ]
            ],
            "type": "contour"
           }
          ],
          "contourcarpet": [
           {
            "colorbar": {
             "outlinewidth": 0,
             "ticks": ""
            },
            "type": "contourcarpet"
           }
          ],
          "heatmap": [
           {
            "colorbar": {
             "outlinewidth": 0,
             "ticks": ""
            },
            "colorscale": [
             [
              0,
              "#0d0887"
             ],
             [
              0.1111111111111111,
              "#46039f"
             ],
             [
              0.2222222222222222,
              "#7201a8"
             ],
             [
              0.3333333333333333,
              "#9c179e"
             ],
             [
              0.4444444444444444,
              "#bd3786"
             ],
             [
              0.5555555555555556,
              "#d8576b"
             ],
             [
              0.6666666666666666,
              "#ed7953"
             ],
             [
              0.7777777777777778,
              "#fb9f3a"
             ],
             [
              0.8888888888888888,
              "#fdca26"
             ],
             [
              1,
              "#f0f921"
             ]
            ],
            "type": "heatmap"
           }
          ],
          "heatmapgl": [
           {
            "colorbar": {
             "outlinewidth": 0,
             "ticks": ""
            },
            "colorscale": [
             [
              0,
              "#0d0887"
             ],
             [
              0.1111111111111111,
              "#46039f"
             ],
             [
              0.2222222222222222,
              "#7201a8"
             ],
             [
              0.3333333333333333,
              "#9c179e"
             ],
             [
              0.4444444444444444,
              "#bd3786"
             ],
             [
              0.5555555555555556,
              "#d8576b"
             ],
             [
              0.6666666666666666,
              "#ed7953"
             ],
             [
              0.7777777777777778,
              "#fb9f3a"
             ],
             [
              0.8888888888888888,
              "#fdca26"
             ],
             [
              1,
              "#f0f921"
             ]
            ],
            "type": "heatmapgl"
           }
          ],
          "histogram": [
           {
            "marker": {
             "pattern": {
              "fillmode": "overlay",
              "size": 10,
              "solidity": 0.2
             }
            },
            "type": "histogram"
           }
          ],
          "histogram2d": [
           {
            "colorbar": {
             "outlinewidth": 0,
             "ticks": ""
            },
            "colorscale": [
             [
              0,
              "#0d0887"
             ],
             [
              0.1111111111111111,
              "#46039f"
             ],
             [
              0.2222222222222222,
              "#7201a8"
             ],
             [
              0.3333333333333333,
              "#9c179e"
             ],
             [
              0.4444444444444444,
              "#bd3786"
             ],
             [
              0.5555555555555556,
              "#d8576b"
             ],
             [
              0.6666666666666666,
              "#ed7953"
             ],
             [
              0.7777777777777778,
              "#fb9f3a"
             ],
             [
              0.8888888888888888,
              "#fdca26"
             ],
             [
              1,
              "#f0f921"
             ]
            ],
            "type": "histogram2d"
           }
          ],
          "histogram2dcontour": [
           {
            "colorbar": {
             "outlinewidth": 0,
             "ticks": ""
            },
            "colorscale": [
             [
              0,
              "#0d0887"
             ],
             [
              0.1111111111111111,
              "#46039f"
             ],
             [
              0.2222222222222222,
              "#7201a8"
             ],
             [
              0.3333333333333333,
              "#9c179e"
             ],
             [
              0.4444444444444444,
              "#bd3786"
             ],
             [
              0.5555555555555556,
              "#d8576b"
             ],
             [
              0.6666666666666666,
              "#ed7953"
             ],
             [
              0.7777777777777778,
              "#fb9f3a"
             ],
             [
              0.8888888888888888,
              "#fdca26"
             ],
             [
              1,
              "#f0f921"
             ]
            ],
            "type": "histogram2dcontour"
           }
          ],
          "mesh3d": [
           {
            "colorbar": {
             "outlinewidth": 0,
             "ticks": ""
            },
            "type": "mesh3d"
           }
          ],
          "parcoords": [
           {
            "line": {
             "colorbar": {
              "outlinewidth": 0,
              "ticks": ""
             }
            },
            "type": "parcoords"
           }
          ],
          "pie": [
           {
            "automargin": true,
            "type": "pie"
           }
          ],
          "scatter": [
           {
            "fillpattern": {
             "fillmode": "overlay",
             "size": 10,
             "solidity": 0.2
            },
            "type": "scatter"
           }
          ],
          "scatter3d": [
           {
            "line": {
             "colorbar": {
              "outlinewidth": 0,
              "ticks": ""
             }
            },
            "marker": {
             "colorbar": {
              "outlinewidth": 0,
              "ticks": ""
             }
            },
            "type": "scatter3d"
           }
          ],
          "scattercarpet": [
           {
            "marker": {
             "colorbar": {
              "outlinewidth": 0,
              "ticks": ""
             }
            },
            "type": "scattercarpet"
           }
          ],
          "scattergeo": [
           {
            "marker": {
             "colorbar": {
              "outlinewidth": 0,
              "ticks": ""
             }
            },
            "type": "scattergeo"
           }
          ],
          "scattergl": [
           {
            "marker": {
             "colorbar": {
              "outlinewidth": 0,
              "ticks": ""
             }
            },
            "type": "scattergl"
           }
          ],
          "scattermapbox": [
           {
            "marker": {
             "colorbar": {
              "outlinewidth": 0,
              "ticks": ""
             }
            },
            "type": "scattermapbox"
           }
          ],
          "scatterpolar": [
           {
            "marker": {
             "colorbar": {
              "outlinewidth": 0,
              "ticks": ""
             }
            },
            "type": "scatterpolar"
           }
          ],
          "scatterpolargl": [
           {
            "marker": {
             "colorbar": {
              "outlinewidth": 0,
              "ticks": ""
             }
            },
            "type": "scatterpolargl"
           }
          ],
          "scatterternary": [
           {
            "marker": {
             "colorbar": {
              "outlinewidth": 0,
              "ticks": ""
             }
            },
            "type": "scatterternary"
           }
          ],
          "surface": [
           {
            "colorbar": {
             "outlinewidth": 0,
             "ticks": ""
            },
            "colorscale": [
             [
              0,
              "#0d0887"
             ],
             [
              0.1111111111111111,
              "#46039f"
             ],
             [
              0.2222222222222222,
              "#7201a8"
             ],
             [
              0.3333333333333333,
              "#9c179e"
             ],
             [
              0.4444444444444444,
              "#bd3786"
             ],
             [
              0.5555555555555556,
              "#d8576b"
             ],
             [
              0.6666666666666666,
              "#ed7953"
             ],
             [
              0.7777777777777778,
              "#fb9f3a"
             ],
             [
              0.8888888888888888,
              "#fdca26"
             ],
             [
              1,
              "#f0f921"
             ]
            ],
            "type": "surface"
           }
          ],
          "table": [
           {
            "cells": {
             "fill": {
              "color": "#EBF0F8"
             },
             "line": {
              "color": "white"
             }
            },
            "header": {
             "fill": {
              "color": "#C8D4E3"
             },
             "line": {
              "color": "white"
             }
            },
            "type": "table"
           }
          ]
         },
         "layout": {
          "annotationdefaults": {
           "arrowcolor": "#2a3f5f",
           "arrowhead": 0,
           "arrowwidth": 1
          },
          "autotypenumbers": "strict",
          "coloraxis": {
           "colorbar": {
            "outlinewidth": 0,
            "ticks": ""
           }
          },
          "colorscale": {
           "diverging": [
            [
             0,
             "#8e0152"
            ],
            [
             0.1,
             "#c51b7d"
            ],
            [
             0.2,
             "#de77ae"
            ],
            [
             0.3,
             "#f1b6da"
            ],
            [
             0.4,
             "#fde0ef"
            ],
            [
             0.5,
             "#f7f7f7"
            ],
            [
             0.6,
             "#e6f5d0"
            ],
            [
             0.7,
             "#b8e186"
            ],
            [
             0.8,
             "#7fbc41"
            ],
            [
             0.9,
             "#4d9221"
            ],
            [
             1,
             "#276419"
            ]
           ],
           "sequential": [
            [
             0,
             "#0d0887"
            ],
            [
             0.1111111111111111,
             "#46039f"
            ],
            [
             0.2222222222222222,
             "#7201a8"
            ],
            [
             0.3333333333333333,
             "#9c179e"
            ],
            [
             0.4444444444444444,
             "#bd3786"
            ],
            [
             0.5555555555555556,
             "#d8576b"
            ],
            [
             0.6666666666666666,
             "#ed7953"
            ],
            [
             0.7777777777777778,
             "#fb9f3a"
            ],
            [
             0.8888888888888888,
             "#fdca26"
            ],
            [
             1,
             "#f0f921"
            ]
           ],
           "sequentialminus": [
            [
             0,
             "#0d0887"
            ],
            [
             0.1111111111111111,
             "#46039f"
            ],
            [
             0.2222222222222222,
             "#7201a8"
            ],
            [
             0.3333333333333333,
             "#9c179e"
            ],
            [
             0.4444444444444444,
             "#bd3786"
            ],
            [
             0.5555555555555556,
             "#d8576b"
            ],
            [
             0.6666666666666666,
             "#ed7953"
            ],
            [
             0.7777777777777778,
             "#fb9f3a"
            ],
            [
             0.8888888888888888,
             "#fdca26"
            ],
            [
             1,
             "#f0f921"
            ]
           ]
          },
          "colorway": [
           "#636efa",
           "#EF553B",
           "#00cc96",
           "#ab63fa",
           "#FFA15A",
           "#19d3f3",
           "#FF6692",
           "#B6E880",
           "#FF97FF",
           "#FECB52"
          ],
          "font": {
           "color": "#2a3f5f"
          },
          "geo": {
           "bgcolor": "white",
           "lakecolor": "white",
           "landcolor": "#E5ECF6",
           "showlakes": true,
           "showland": true,
           "subunitcolor": "white"
          },
          "hoverlabel": {
           "align": "left"
          },
          "hovermode": "closest",
          "mapbox": {
           "style": "light"
          },
          "paper_bgcolor": "white",
          "plot_bgcolor": "#E5ECF6",
          "polar": {
           "angularaxis": {
            "gridcolor": "white",
            "linecolor": "white",
            "ticks": ""
           },
           "bgcolor": "#E5ECF6",
           "radialaxis": {
            "gridcolor": "white",
            "linecolor": "white",
            "ticks": ""
           }
          },
          "scene": {
           "xaxis": {
            "backgroundcolor": "#E5ECF6",
            "gridcolor": "white",
            "gridwidth": 2,
            "linecolor": "white",
            "showbackground": true,
            "ticks": "",
            "zerolinecolor": "white"
           },
           "yaxis": {
            "backgroundcolor": "#E5ECF6",
            "gridcolor": "white",
            "gridwidth": 2,
            "linecolor": "white",
            "showbackground": true,
            "ticks": "",
            "zerolinecolor": "white"
           },
           "zaxis": {
            "backgroundcolor": "#E5ECF6",
            "gridcolor": "white",
            "gridwidth": 2,
            "linecolor": "white",
            "showbackground": true,
            "ticks": "",
            "zerolinecolor": "white"
           }
          },
          "shapedefaults": {
           "line": {
            "color": "#2a3f5f"
           }
          },
          "ternary": {
           "aaxis": {
            "gridcolor": "white",
            "linecolor": "white",
            "ticks": ""
           },
           "baxis": {
            "gridcolor": "white",
            "linecolor": "white",
            "ticks": ""
           },
           "bgcolor": "#E5ECF6",
           "caxis": {
            "gridcolor": "white",
            "linecolor": "white",
            "ticks": ""
           }
          },
          "title": {
           "x": 0.05
          },
          "xaxis": {
           "automargin": true,
           "gridcolor": "white",
           "linecolor": "white",
           "ticks": "",
           "title": {
            "standoff": 15
           },
           "zerolinecolor": "white",
           "zerolinewidth": 2
          },
          "yaxis": {
           "automargin": true,
           "gridcolor": "white",
           "linecolor": "white",
           "ticks": "",
           "title": {
            "standoff": 15
           },
           "zerolinecolor": "white",
           "zerolinewidth": 2
          }
         }
        },
        "xaxis": {
         "anchor": "y",
         "domain": [
          0,
          1
         ],
         "title": {
          "text": "Country"
         },
         "visible": false
        },
        "yaxis": {
         "anchor": "x",
         "domain": [
          0,
          1
         ],
         "range": [
          0,
          5
         ],
         "title": {
          "text": "LossFunctCheck"
         }
        }
       }
      }
     },
     "metadata": {},
     "output_type": "display_data"
    }
   ],
   "source": [
    "fig=px.scatter(LD3[LD3['Year']==2050], x=\"Country\", y=\"LossFunctCheck\",range_y=[0,5],\n",
    "        color=\"Continent\")\n",
    "fig.update_xaxes(visible=False)\n",
    "fig.show()"
   ]
  },
  {
   "attachments": {},
   "cell_type": "markdown",
   "metadata": {},
   "source": [
    "Có vẻ các dự đoán không có vần đề gì nữa.\n",
    "\n",
    "Tiếp theo ta sử dụng hàm Hồi quy bậc 2 để dự đoán tương lai gần là năm 2022 so với năm 2020."
   ]
  },
  {
   "cell_type": "code",
   "execution_count": 31,
   "metadata": {},
   "outputs": [
    {
     "data": {
      "text/html": [
       "<div>\n",
       "<style scoped>\n",
       "    .dataframe tbody tr th:only-of-type {\n",
       "        vertical-align: middle;\n",
       "    }\n",
       "\n",
       "    .dataframe tbody tr th {\n",
       "        vertical-align: top;\n",
       "    }\n",
       "\n",
       "    .dataframe thead th {\n",
       "        text-align: right;\n",
       "    }\n",
       "</style>\n",
       "<table border=\"1\" class=\"dataframe\">\n",
       "  <thead>\n",
       "    <tr style=\"text-align: right;\">\n",
       "      <th></th>\n",
       "      <th>Year</th>\n",
       "      <th>YearlyChange</th>\n",
       "      <th>Migrants(net)</th>\n",
       "      <th>MedianAge</th>\n",
       "      <th>FertilityRate</th>\n",
       "      <th>UrbanPopulation</th>\n",
       "      <th>Yearly%Change</th>\n",
       "      <th>UrbanPop%</th>\n",
       "      <th>Country</th>\n",
       "      <th>Continent</th>\n",
       "      <th>LossFunctCheck</th>\n",
       "      <th>Population</th>\n",
       "    </tr>\n",
       "  </thead>\n",
       "  <tbody>\n",
       "    <tr>\n",
       "      <th>0</th>\n",
       "      <td>2022</td>\n",
       "      <td>3.346121e+06</td>\n",
       "      <td>-411126.352852</td>\n",
       "      <td>40.369599</td>\n",
       "      <td>1.550087</td>\n",
       "      <td>9.384110e+08</td>\n",
       "      <td>0.229571</td>\n",
       "      <td>64.382646</td>\n",
       "      <td>China</td>\n",
       "      <td>Asia</td>\n",
       "      <td>0.091138</td>\n",
       "      <td>1.457553e+09</td>\n",
       "    </tr>\n",
       "    <tr>\n",
       "      <th>1</th>\n",
       "      <td>2022</td>\n",
       "      <td>1.296889e+07</td>\n",
       "      <td>-700805.569106</td>\n",
       "      <td>28.761390</td>\n",
       "      <td>1.933698</td>\n",
       "      <td>5.040785e+08</td>\n",
       "      <td>0.901463</td>\n",
       "      <td>35.038327</td>\n",
       "      <td>India</td>\n",
       "      <td>Asia</td>\n",
       "      <td>0.040062</td>\n",
       "      <td>1.438649e+09</td>\n",
       "    </tr>\n",
       "    <tr>\n",
       "      <th>2</th>\n",
       "      <td>2022</td>\n",
       "      <td>2.172761e+06</td>\n",
       "      <td>982945.785393</td>\n",
       "      <td>39.282261</td>\n",
       "      <td>2.014710</td>\n",
       "      <td>2.809522e+08</td>\n",
       "      <td>0.641556</td>\n",
       "      <td>82.957421</td>\n",
       "      <td>United States</td>\n",
       "      <td>Northern America</td>\n",
       "      <td>0.268629</td>\n",
       "      <td>3.386704e+08</td>\n",
       "    </tr>\n",
       "    <tr>\n",
       "      <th>3</th>\n",
       "      <td>2022</td>\n",
       "      <td>2.806483e+06</td>\n",
       "      <td>-158829.810498</td>\n",
       "      <td>30.976352</td>\n",
       "      <td>2.100638</td>\n",
       "      <td>1.657408e+08</td>\n",
       "      <td>0.999069</td>\n",
       "      <td>59.001419</td>\n",
       "      <td>Indonesia</td>\n",
       "      <td>Asia</td>\n",
       "      <td>0.071430</td>\n",
       "      <td>2.809099e+08</td>\n",
       "    </tr>\n",
       "    <tr>\n",
       "      <th>4</th>\n",
       "      <td>2022</td>\n",
       "      <td>4.412810e+06</td>\n",
       "      <td>-294709.132706</td>\n",
       "      <td>23.015787</td>\n",
       "      <td>3.110085</td>\n",
       "      <td>8.112318e+07</td>\n",
       "      <td>1.904715</td>\n",
       "      <td>35.015452</td>\n",
       "      <td>Pakistan</td>\n",
       "      <td>Asia</td>\n",
       "      <td>0.055317</td>\n",
       "      <td>2.316782e+08</td>\n",
       "    </tr>\n",
       "    <tr>\n",
       "      <th>...</th>\n",
       "      <td>...</td>\n",
       "      <td>...</td>\n",
       "      <td>...</td>\n",
       "      <td>...</td>\n",
       "      <td>...</td>\n",
       "      <td>...</td>\n",
       "      <td>...</td>\n",
       "      <td>...</td>\n",
       "      <td>...</td>\n",
       "      <td>...</td>\n",
       "      <td>...</td>\n",
       "      <td>...</td>\n",
       "    </tr>\n",
       "    <tr>\n",
       "      <th>230</th>\n",
       "      <td>2022</td>\n",
       "      <td>3.853897e+01</td>\n",
       "      <td>0.000000</td>\n",
       "      <td>0.000000</td>\n",
       "      <td>0.000000</td>\n",
       "      <td>3.472436e+02</td>\n",
       "      <td>1.002488</td>\n",
       "      <td>9.032608</td>\n",
       "      <td>Montserrat</td>\n",
       "      <td>Latin America and the Caribbean</td>\n",
       "      <td>0.219118</td>\n",
       "      <td>3.844333e+03</td>\n",
       "    </tr>\n",
       "    <tr>\n",
       "      <th>231</th>\n",
       "      <td>2022</td>\n",
       "      <td>1.252865e+02</td>\n",
       "      <td>0.000000</td>\n",
       "      <td>0.000000</td>\n",
       "      <td>0.000000</td>\n",
       "      <td>2.475632e+03</td>\n",
       "      <td>3.603189</td>\n",
       "      <td>71.198181</td>\n",
       "      <td>Falkland Islands</td>\n",
       "      <td>Latin America and the Caribbean</td>\n",
       "      <td>0.085769</td>\n",
       "      <td>3.477100e+03</td>\n",
       "    </tr>\n",
       "    <tr>\n",
       "      <th>232</th>\n",
       "      <td>2022</td>\n",
       "      <td>3.929776e+01</td>\n",
       "      <td>0.000000</td>\n",
       "      <td>0.000000</td>\n",
       "      <td>0.000000</td>\n",
       "      <td>7.014603e+02</td>\n",
       "      <td>2.764501</td>\n",
       "      <td>49.346007</td>\n",
       "      <td>Niue</td>\n",
       "      <td>Oceania</td>\n",
       "      <td>0.100013</td>\n",
       "      <td>1.421514e+03</td>\n",
       "    </tr>\n",
       "    <tr>\n",
       "      <th>233</th>\n",
       "      <td>2022</td>\n",
       "      <td>2.705358e+01</td>\n",
       "      <td>0.000000</td>\n",
       "      <td>0.000000</td>\n",
       "      <td>0.000000</td>\n",
       "      <td>0.000000e+00</td>\n",
       "      <td>2.197878</td>\n",
       "      <td>0.000000</td>\n",
       "      <td>Tokelau</td>\n",
       "      <td>Oceania</td>\n",
       "      <td>0.091223</td>\n",
       "      <td>1.230895e+03</td>\n",
       "    </tr>\n",
       "    <tr>\n",
       "      <th>234</th>\n",
       "      <td>2022</td>\n",
       "      <td>-2.240483e-01</td>\n",
       "      <td>0.000000</td>\n",
       "      <td>0.000000</td>\n",
       "      <td>0.000000</td>\n",
       "      <td>8.360805e+02</td>\n",
       "      <td>-0.026765</td>\n",
       "      <td>99.880537</td>\n",
       "      <td>Holy See</td>\n",
       "      <td>Europe</td>\n",
       "      <td>0.122860</td>\n",
       "      <td>8.370805e+02</td>\n",
       "    </tr>\n",
       "  </tbody>\n",
       "</table>\n",
       "<p>235 rows × 12 columns</p>\n",
       "</div>"
      ],
      "text/plain": [
       "     Year  YearlyChange  Migrants(net)  MedianAge  FertilityRate  \\\n",
       "0    2022  3.346121e+06 -411126.352852  40.369599       1.550087   \n",
       "1    2022  1.296889e+07 -700805.569106  28.761390       1.933698   \n",
       "2    2022  2.172761e+06  982945.785393  39.282261       2.014710   \n",
       "3    2022  2.806483e+06 -158829.810498  30.976352       2.100638   \n",
       "4    2022  4.412810e+06 -294709.132706  23.015787       3.110085   \n",
       "..    ...           ...            ...        ...            ...   \n",
       "230  2022  3.853897e+01       0.000000   0.000000       0.000000   \n",
       "231  2022  1.252865e+02       0.000000   0.000000       0.000000   \n",
       "232  2022  3.929776e+01       0.000000   0.000000       0.000000   \n",
       "233  2022  2.705358e+01       0.000000   0.000000       0.000000   \n",
       "234  2022 -2.240483e-01       0.000000   0.000000       0.000000   \n",
       "\n",
       "     UrbanPopulation  Yearly%Change  UrbanPop%           Country  \\\n",
       "0       9.384110e+08       0.229571  64.382646             China   \n",
       "1       5.040785e+08       0.901463  35.038327             India   \n",
       "2       2.809522e+08       0.641556  82.957421     United States   \n",
       "3       1.657408e+08       0.999069  59.001419         Indonesia   \n",
       "4       8.112318e+07       1.904715  35.015452          Pakistan   \n",
       "..               ...            ...        ...               ...   \n",
       "230     3.472436e+02       1.002488   9.032608        Montserrat   \n",
       "231     2.475632e+03       3.603189  71.198181  Falkland Islands   \n",
       "232     7.014603e+02       2.764501  49.346007              Niue   \n",
       "233     0.000000e+00       2.197878   0.000000           Tokelau   \n",
       "234     8.360805e+02      -0.026765  99.880537          Holy See   \n",
       "\n",
       "                           Continent  LossFunctCheck    Population  \n",
       "0                               Asia        0.091138  1.457553e+09  \n",
       "1                               Asia        0.040062  1.438649e+09  \n",
       "2                   Northern America        0.268629  3.386704e+08  \n",
       "3                               Asia        0.071430  2.809099e+08  \n",
       "4                               Asia        0.055317  2.316782e+08  \n",
       "..                               ...             ...           ...  \n",
       "230  Latin America and the Caribbean        0.219118  3.844333e+03  \n",
       "231  Latin America and the Caribbean        0.085769  3.477100e+03  \n",
       "232                          Oceania        0.100013  1.421514e+03  \n",
       "233                          Oceania        0.091223  1.230895e+03  \n",
       "234                           Europe        0.122860  8.370805e+02  \n",
       "\n",
       "[235 rows x 12 columns]"
      ]
     },
     "execution_count": 31,
     "metadata": {},
     "output_type": "execute_result"
    }
   ],
   "source": [
    "LD=[i for i in gen_linear(df[df['Year']>=1950],linear_regression_2,[2022])]\n",
    "LD=pd.DataFrame(LD)\n",
    "LD=LD.sort_values(by=['Population'],ascending=False).reset_index(drop=True)\n",
    "LD"
   ]
  },
  {
   "attachments": {},
   "cell_type": "markdown",
   "metadata": {},
   "source": [
    "**Tổng dân số thế giới 2022**"
   ]
  },
  {
   "cell_type": "code",
   "execution_count": 32,
   "metadata": {},
   "outputs": [
    {
     "data": {
      "text/plain": [
       "8001369602.050169"
      ]
     },
     "execution_count": 32,
     "metadata": {},
     "output_type": "execute_result"
    }
   ],
   "source": [
    "sum_2022 = LD['Population'].sum()\n",
    "sum_2022"
   ]
  },
  {
   "attachments": {},
   "cell_type": "markdown",
   "metadata": {},
   "source": [
    "Có vẻ là khá sát với thực tế trên trang \"https://www.worldometers.info/world-population/\" khi dân số 2022 đã **đạt mốc 8 tỷ người**.\n",
    "\n",
    "**Vậy khi nào thì dân số đạt 9 tỷ người?**"
   ]
  },
  {
   "cell_type": "code",
   "execution_count": 33,
   "metadata": {},
   "outputs": [
    {
     "name": "stdout",
     "output_type": "stream",
     "text": [
      "2030: 8648797081.485008\n",
      "2031: 8734648873.204184\n",
      "2032: 8820645342.809118\n",
      "2033: 8906786490.299911\n",
      "2034: 8993072315.676558\n",
      "2035: 9079502818.93888\n"
     ]
    }
   ],
   "source": [
    "sum_pop = 0\n",
    "year = 2030\n",
    "while sum_pop < 9000000000:\n",
    "    LD=[i for i in gen_linear(df[df['Year']>=1990],linear_regression_2,[year])]\n",
    "    LD=pd.DataFrame(LD)\n",
    "    sum_pop = LD['Population'].sum()\n",
    "    print(str(year)+ ': ' + str(sum_pop))\n",
    "    year = year + 1\n",
    "    "
   ]
  },
  {
   "attachments": {},
   "cell_type": "markdown",
   "metadata": {},
   "source": [
    "Dự đoán năm **2035** dân số sẽ đạt **9 tỷ** người"
   ]
  },
  {
   "attachments": {},
   "cell_type": "markdown",
   "metadata": {},
   "source": [
    "## **Tổng lại bài toán**\n",
    "\n",
    "Kết hợp giữa dự đoán tương lai gần và tương lai xa ta đúc kết được mô hình như sau:"
   ]
  },
  {
   "cell_type": "code",
   "execution_count": 34,
   "metadata": {},
   "outputs": [
    {
     "data": {
      "text/html": [
       "<div>\n",
       "<style scoped>\n",
       "    .dataframe tbody tr th:only-of-type {\n",
       "        vertical-align: middle;\n",
       "    }\n",
       "\n",
       "    .dataframe tbody tr th {\n",
       "        vertical-align: top;\n",
       "    }\n",
       "\n",
       "    .dataframe thead th {\n",
       "        text-align: right;\n",
       "    }\n",
       "</style>\n",
       "<table border=\"1\" class=\"dataframe\">\n",
       "  <thead>\n",
       "    <tr style=\"text-align: right;\">\n",
       "      <th></th>\n",
       "      <th>Year</th>\n",
       "      <th>YearlyChange</th>\n",
       "      <th>Migrants(net)</th>\n",
       "      <th>MedianAge</th>\n",
       "      <th>FertilityRate</th>\n",
       "      <th>UrbanPopulation</th>\n",
       "      <th>Yearly%Change</th>\n",
       "      <th>UrbanPop%</th>\n",
       "      <th>Country</th>\n",
       "      <th>Continent</th>\n",
       "      <th>LossFunctCheck</th>\n",
       "      <th>Population</th>\n",
       "    </tr>\n",
       "  </thead>\n",
       "  <tbody>\n",
       "    <tr>\n",
       "      <th>0</th>\n",
       "      <td>2022</td>\n",
       "      <td>1.068893e+06</td>\n",
       "      <td>3977.750578</td>\n",
       "      <td>17.953049</td>\n",
       "      <td>4.730352</td>\n",
       "      <td>1.042072e+07</td>\n",
       "      <td>2.589791</td>\n",
       "      <td>25.248080</td>\n",
       "      <td>Afghanistan</td>\n",
       "      <td>Asia</td>\n",
       "      <td>0.436912</td>\n",
       "      <td>4.127333e+07</td>\n",
       "    </tr>\n",
       "    <tr>\n",
       "      <th>1</th>\n",
       "      <td>2025</td>\n",
       "      <td>1.043706e+06</td>\n",
       "      <td>-70941.417972</td>\n",
       "      <td>17.952350</td>\n",
       "      <td>4.538854</td>\n",
       "      <td>1.089753e+07</td>\n",
       "      <td>2.420311</td>\n",
       "      <td>25.270914</td>\n",
       "      <td>Afghanistan</td>\n",
       "      <td>Asia</td>\n",
       "      <td>0.438159</td>\n",
       "      <td>4.312282e+07</td>\n",
       "    </tr>\n",
       "    <tr>\n",
       "      <th>2</th>\n",
       "      <td>2030</td>\n",
       "      <td>1.116381e+06</td>\n",
       "      <td>-89952.464963</td>\n",
       "      <td>18.336933</td>\n",
       "      <td>4.027601</td>\n",
       "      <td>1.212830e+07</td>\n",
       "      <td>2.351515</td>\n",
       "      <td>25.546706</td>\n",
       "      <td>Afghanistan</td>\n",
       "      <td>Asia</td>\n",
       "      <td>0.438159</td>\n",
       "      <td>4.747499e+07</td>\n",
       "    </tr>\n",
       "    <tr>\n",
       "      <th>3</th>\n",
       "      <td>2035</td>\n",
       "      <td>1.189056e+06</td>\n",
       "      <td>-108963.511954</td>\n",
       "      <td>18.721517</td>\n",
       "      <td>3.516348</td>\n",
       "      <td>1.335906e+07</td>\n",
       "      <td>2.294273</td>\n",
       "      <td>25.776180</td>\n",
       "      <td>Afghanistan</td>\n",
       "      <td>Asia</td>\n",
       "      <td>0.438159</td>\n",
       "      <td>5.182715e+07</td>\n",
       "    </tr>\n",
       "    <tr>\n",
       "      <th>4</th>\n",
       "      <td>2040</td>\n",
       "      <td>1.261731e+06</td>\n",
       "      <td>-127974.558945</td>\n",
       "      <td>19.106101</td>\n",
       "      <td>3.005095</td>\n",
       "      <td>1.458982e+07</td>\n",
       "      <td>2.245900</td>\n",
       "      <td>25.970099</td>\n",
       "      <td>Afghanistan</td>\n",
       "      <td>Asia</td>\n",
       "      <td>0.438159</td>\n",
       "      <td>5.617932e+07</td>\n",
       "    </tr>\n",
       "    <tr>\n",
       "      <th>...</th>\n",
       "      <td>...</td>\n",
       "      <td>...</td>\n",
       "      <td>...</td>\n",
       "      <td>...</td>\n",
       "      <td>...</td>\n",
       "      <td>...</td>\n",
       "      <td>...</td>\n",
       "      <td>...</td>\n",
       "      <td>...</td>\n",
       "      <td>...</td>\n",
       "      <td>...</td>\n",
       "      <td>...</td>\n",
       "    </tr>\n",
       "    <tr>\n",
       "      <th>1405</th>\n",
       "      <td>2025</td>\n",
       "      <td>1.870439e+05</td>\n",
       "      <td>-148825.326463</td>\n",
       "      <td>18.942374</td>\n",
       "      <td>3.607345</td>\n",
       "      <td>6.033273e+06</td>\n",
       "      <td>1.221004</td>\n",
       "      <td>39.384611</td>\n",
       "      <td>Zimbabwe</td>\n",
       "      <td>Africa</td>\n",
       "      <td>3.104178</td>\n",
       "      <td>1.531886e+07</td>\n",
       "    </tr>\n",
       "    <tr>\n",
       "      <th>1406</th>\n",
       "      <td>2030</td>\n",
       "      <td>1.876839e+05</td>\n",
       "      <td>-164660.079143</td>\n",
       "      <td>19.167848</td>\n",
       "      <td>3.451781</td>\n",
       "      <td>6.451871e+06</td>\n",
       "      <td>1.171257</td>\n",
       "      <td>40.263437</td>\n",
       "      <td>Zimbabwe</td>\n",
       "      <td>Africa</td>\n",
       "      <td>3.104178</td>\n",
       "      <td>1.602414e+07</td>\n",
       "    </tr>\n",
       "    <tr>\n",
       "      <th>1407</th>\n",
       "      <td>2035</td>\n",
       "      <td>1.883239e+05</td>\n",
       "      <td>-180494.831822</td>\n",
       "      <td>19.393322</td>\n",
       "      <td>3.296216</td>\n",
       "      <td>6.870469e+06</td>\n",
       "      <td>1.125704</td>\n",
       "      <td>41.068164</td>\n",
       "      <td>Zimbabwe</td>\n",
       "      <td>Africa</td>\n",
       "      <td>3.104178</td>\n",
       "      <td>1.672943e+07</td>\n",
       "    </tr>\n",
       "    <tr>\n",
       "      <th>1408</th>\n",
       "      <td>2040</td>\n",
       "      <td>1.889639e+05</td>\n",
       "      <td>-196329.584501</td>\n",
       "      <td>19.618796</td>\n",
       "      <td>3.140651</td>\n",
       "      <td>7.289066e+06</td>\n",
       "      <td>1.083837</td>\n",
       "      <td>41.807785</td>\n",
       "      <td>Zimbabwe</td>\n",
       "      <td>Africa</td>\n",
       "      <td>3.104178</td>\n",
       "      <td>1.743471e+07</td>\n",
       "    </tr>\n",
       "    <tr>\n",
       "      <th>1409</th>\n",
       "      <td>2050</td>\n",
       "      <td>1.902439e+05</td>\n",
       "      <td>-227999.089860</td>\n",
       "      <td>20.069744</td>\n",
       "      <td>2.829522</td>\n",
       "      <td>8.126262e+06</td>\n",
       "      <td>1.009504</td>\n",
       "      <td>43.120943</td>\n",
       "      <td>Zimbabwe</td>\n",
       "      <td>Africa</td>\n",
       "      <td>3.104178</td>\n",
       "      <td>1.884528e+07</td>\n",
       "    </tr>\n",
       "  </tbody>\n",
       "</table>\n",
       "<p>1410 rows × 12 columns</p>\n",
       "</div>"
      ],
      "text/plain": [
       "      Year  YearlyChange  Migrants(net)  MedianAge  FertilityRate  \\\n",
       "0     2022  1.068893e+06    3977.750578  17.953049       4.730352   \n",
       "1     2025  1.043706e+06  -70941.417972  17.952350       4.538854   \n",
       "2     2030  1.116381e+06  -89952.464963  18.336933       4.027601   \n",
       "3     2035  1.189056e+06 -108963.511954  18.721517       3.516348   \n",
       "4     2040  1.261731e+06 -127974.558945  19.106101       3.005095   \n",
       "...    ...           ...            ...        ...            ...   \n",
       "1405  2025  1.870439e+05 -148825.326463  18.942374       3.607345   \n",
       "1406  2030  1.876839e+05 -164660.079143  19.167848       3.451781   \n",
       "1407  2035  1.883239e+05 -180494.831822  19.393322       3.296216   \n",
       "1408  2040  1.889639e+05 -196329.584501  19.618796       3.140651   \n",
       "1409  2050  1.902439e+05 -227999.089860  20.069744       2.829522   \n",
       "\n",
       "      UrbanPopulation  Yearly%Change  UrbanPop%      Country Continent  \\\n",
       "0        1.042072e+07       2.589791  25.248080  Afghanistan      Asia   \n",
       "1        1.089753e+07       2.420311  25.270914  Afghanistan      Asia   \n",
       "2        1.212830e+07       2.351515  25.546706  Afghanistan      Asia   \n",
       "3        1.335906e+07       2.294273  25.776180  Afghanistan      Asia   \n",
       "4        1.458982e+07       2.245900  25.970099  Afghanistan      Asia   \n",
       "...               ...            ...        ...          ...       ...   \n",
       "1405     6.033273e+06       1.221004  39.384611     Zimbabwe    Africa   \n",
       "1406     6.451871e+06       1.171257  40.263437     Zimbabwe    Africa   \n",
       "1407     6.870469e+06       1.125704  41.068164     Zimbabwe    Africa   \n",
       "1408     7.289066e+06       1.083837  41.807785     Zimbabwe    Africa   \n",
       "1409     8.126262e+06       1.009504  43.120943     Zimbabwe    Africa   \n",
       "\n",
       "      LossFunctCheck    Population  \n",
       "0           0.436912  4.127333e+07  \n",
       "1           0.438159  4.312282e+07  \n",
       "2           0.438159  4.747499e+07  \n",
       "3           0.438159  5.182715e+07  \n",
       "4           0.438159  5.617932e+07  \n",
       "...              ...           ...  \n",
       "1405        3.104178  1.531886e+07  \n",
       "1406        3.104178  1.602414e+07  \n",
       "1407        3.104178  1.672943e+07  \n",
       "1408        3.104178  1.743471e+07  \n",
       "1409        3.104178  1.884528e+07  \n",
       "\n",
       "[1410 rows x 12 columns]"
      ]
     },
     "execution_count": 34,
     "metadata": {},
     "output_type": "execute_result"
    }
   ],
   "source": [
    "LD=[i for i in gen_linear(df[df['Year']>=1990],linear_regression_1,[2025,2030,2035,2040,2050]) ]+[i for i in gen_linear(df[df['Year']>=1950],linear_regression_2,[2022]) ]\n",
    "LD=pd.DataFrame(LD)\n",
    "LD=LD.sort_values(by=['Country','Year'],ascending=True).reset_index(drop=True)\n",
    "LD"
   ]
  },
  {
   "cell_type": "code",
   "execution_count": 35,
   "metadata": {},
   "outputs": [],
   "source": [
    "\n",
    "LD.to_csv('populationForecast.csv')"
   ]
  }
 ],
 "metadata": {
  "kernelspec": {
   "display_name": "Python 3",
   "language": "python",
   "name": "python3"
  },
  "language_info": {
   "codemirror_mode": {
    "name": "ipython",
    "version": 3
   },
   "file_extension": ".py",
   "mimetype": "text/x-python",
   "name": "python",
   "nbconvert_exporter": "python",
   "pygments_lexer": "ipython3",
   "version": "3.10.8"
  },
  "orig_nbformat": 4,
  "vscode": {
   "interpreter": {
    "hash": "369f2c481f4da34e4445cda3fffd2e751bd1c4d706f27375911949ba6bb62e1c"
   }
  }
 },
 "nbformat": 4,
 "nbformat_minor": 2
}
